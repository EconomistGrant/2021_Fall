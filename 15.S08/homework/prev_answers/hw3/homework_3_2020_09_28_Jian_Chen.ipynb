{
 "cells": [
  {
   "cell_type": "markdown",
   "metadata": {},
   "source": [
    "# Problem 0: Word embeddings++ (15%)\n",
    "\n",
    "### This is an open ended expercise. Our goal is to create a robust set of embeddings by combining many of the techniques that we have learned so far. \n",
    "\n",
    "## Part I: Create the embeddings by using techniques such as text cleaning using regex, stemming, ngramming, TfIdf, or whatever else you think may yield good embeddings. (Hint: you may want to consider preserving case information for better entity handling)"
   ]
  },
  {
   "cell_type": "code",
   "execution_count": 7,
   "metadata": {},
   "outputs": [
    {
     "data": {
      "text/html": [
       "<div>\n",
       "<style scoped>\n",
       "    .dataframe tbody tr th:only-of-type {\n",
       "        vertical-align: middle;\n",
       "    }\n",
       "\n",
       "    .dataframe tbody tr th {\n",
       "        vertical-align: top;\n",
       "    }\n",
       "\n",
       "    .dataframe thead th {\n",
       "        text-align: right;\n",
       "    }\n",
       "</style>\n",
       "<table border=\"1\" class=\"dataframe\">\n",
       "  <thead>\n",
       "    <tr style=\"text-align: right;\">\n",
       "      <th></th>\n",
       "      <th>page_id</th>\n",
       "      <th>page_title</th>\n",
       "      <th>page_views</th>\n",
       "      <th>intro_text</th>\n",
       "    </tr>\n",
       "  </thead>\n",
       "  <tbody>\n",
       "    <tr>\n",
       "      <th>0</th>\n",
       "      <td>856</td>\n",
       "      <td>Apple Inc.</td>\n",
       "      <td>190485</td>\n",
       "      <td>Apple Inc. is an American multinational techno...</td>\n",
       "    </tr>\n",
       "    <tr>\n",
       "      <th>1</th>\n",
       "      <td>2386</td>\n",
       "      <td>American Airlines</td>\n",
       "      <td>40829</td>\n",
       "      <td>American Airlines, Inc. (AA) is a major Americ...</td>\n",
       "    </tr>\n",
       "    <tr>\n",
       "      <th>2</th>\n",
       "      <td>2400</td>\n",
       "      <td>Advanced Micro Devices</td>\n",
       "      <td>40665</td>\n",
       "      <td>Advanced Micro Devices, Inc. (AMD) is an Ameri...</td>\n",
       "    </tr>\n",
       "    <tr>\n",
       "      <th>3</th>\n",
       "      <td>2439</td>\n",
       "      <td>Anthem</td>\n",
       "      <td>2967</td>\n",
       "      <td>An anthem is a musical composition of celebrat...</td>\n",
       "    </tr>\n",
       "    <tr>\n",
       "      <th>4</th>\n",
       "      <td>6690</td>\n",
       "      <td>Coca-Cola</td>\n",
       "      <td>457810</td>\n",
       "      <td>Coca-Cola, or Coke, is a carbonated soft drink...</td>\n",
       "    </tr>\n",
       "  </tbody>\n",
       "</table>\n",
       "</div>"
      ],
      "text/plain": [
       "   page_id              page_title  page_views  \\\n",
       "0      856              Apple Inc.      190485   \n",
       "1     2386       American Airlines       40829   \n",
       "2     2400  Advanced Micro Devices       40665   \n",
       "3     2439                  Anthem        2967   \n",
       "4     6690               Coca-Cola      457810   \n",
       "\n",
       "                                          intro_text  \n",
       "0  Apple Inc. is an American multinational techno...  \n",
       "1  American Airlines, Inc. (AA) is a major Americ...  \n",
       "2  Advanced Micro Devices, Inc. (AMD) is an Ameri...  \n",
       "3  An anthem is a musical composition of celebrat...  \n",
       "4  Coca-Cola, or Coke, is a carbonated soft drink...  "
      ]
     },
     "execution_count": 7,
     "metadata": {},
     "output_type": "execute_result"
    }
   ],
   "source": [
    "# your code here\n",
    "import pandas as pd\n",
    "import numpy as np\n",
    "import re\n",
    "\n",
    "wiki_df = pd.read_csv('/Users/mac/Desktop/MFin Materials/15.S08/data/kdwd_r1k_articles.csv')\n",
    "wiki_df.head()"
   ]
  },
  {
   "cell_type": "code",
   "execution_count": 29,
   "metadata": {},
   "outputs": [],
   "source": [
    "from sklearn.feature_extraction.text import CountVectorizer, TfidfVectorizer\n",
    "from sklearn.metrics.pairwise import cosine_similarity"
   ]
  },
  {
   "cell_type": "code",
   "execution_count": 30,
   "metadata": {},
   "outputs": [
    {
     "data": {
      "text/plain": [
       "<761x10263 sparse matrix of type '<class 'numpy.int64'>'\n",
       "\twith 58990 stored elements in Compressed Sparse Row format>"
      ]
     },
     "execution_count": 30,
     "metadata": {},
     "output_type": "execute_result"
    }
   ],
   "source": [
    "vectorizer = CountVectorizer()\n",
    "# Embeddings #1\n",
    "word_vector = vectorizer.fit_transform(wiki_df['intro_text'].tolist())\n",
    "\n",
    "vocab = {token: n for n, token in enumerate(pd.Series(vectorizer.vocabulary_).sort_values().index)}\n",
    "inv_vocab = {v: k for k, v in vocab.items()}\n",
    "word_vector"
   ]
  },
  {
   "cell_type": "code",
   "execution_count": 31,
   "metadata": {},
   "outputs": [
    {
     "data": {
      "text/plain": [
       "<761x10263 sparse matrix of type '<class 'numpy.float64'>'\n",
       "\twith 58990 stored elements in Compressed Sparse Row format>"
      ]
     },
     "execution_count": 31,
     "metadata": {},
     "output_type": "execute_result"
    }
   ],
   "source": [
    "vectorizer_tf = TfidfVectorizer()\n",
    "# Embeddings #2\n",
    "word_vector_tf = vectorizer_tf.fit_transform(wiki_df['intro_text'].tolist())\n",
    "\n",
    "vocab_tf = {token: n for n, token in enumerate(pd.Series(vectorizer.vocabulary_).sort_values().index)}\n",
    "inv_vocab_tf = {v: k for k, v in vocab.items()}\n",
    "word_vector_tf"
   ]
  },
  {
   "cell_type": "code",
   "execution_count": 33,
   "metadata": {},
   "outputs": [
    {
     "data": {
      "text/plain": [
       "(761, 761)"
      ]
     },
     "execution_count": 33,
     "metadata": {},
     "output_type": "execute_result"
    }
   ],
   "source": [
    "# Embeddings #2\n",
    "sim_mat = cosine_similarity(word_vector_tf)\n",
    "sim_mat.shape"
   ]
  },
  {
   "cell_type": "code",
   "execution_count": 35,
   "metadata": {},
   "outputs": [
    {
     "data": {
      "text/plain": [
       "(761, 300)"
      ]
     },
     "execution_count": 35,
     "metadata": {},
     "output_type": "execute_result"
    }
   ],
   "source": [
    "from sklearn.decomposition import TruncatedSVD\n",
    "svd = TruncatedSVD(n_components=300, random_state=6006)\n",
    "\n",
    "# Embeddings #3\n",
    "trafo_sim_mat = svd.fit_transform(sim_mat)\n",
    "trafo_sim_mat.shape"
   ]
  },
  {
   "cell_type": "markdown",
   "metadata": {},
   "source": [
    "## Part II: Think about how we can evaluate our embeddings and compare them to simpler techniques covered in class. (Hint: some basic word statistics and examples can go a long way here)"
   ]
  },
  {
   "cell_type": "markdown",
   "metadata": {},
   "source": [
    "First, we can compare size of memory each embeddings take up."
   ]
  },
  {
   "cell_type": "code",
   "execution_count": 38,
   "metadata": {},
   "outputs": [
    {
     "name": "stdout",
     "output_type": "stream",
     "text": [
      "Word Vector Based on Counting: 460.859375 KB\n",
      "Word Vector Based on TF-Idf: 460.859375 KB\n",
      "Similarity Matrix: 4524.3828125 KB\n",
      "Truncated Similarity Matrix: 1783.59375 KB\n"
     ]
    }
   ],
   "source": [
    "# your code here\n",
    "print('Word Vector Based on Counting:',word_vector.data.nbytes/1024,'KB')\n",
    "print('Word Vector Based on TF-Idf:',word_vector_tf.data.nbytes/1024,'KB')\n",
    "print('Similarity Matrix:',sim_mat.data.nbytes/1024,'KB')\n",
    "print('Truncated Similarity Matrix:',trafo_sim_mat.data.nbytes/1024,'KB')"
   ]
  },
  {
   "cell_type": "markdown",
   "metadata": {},
   "source": [
    "Although Similarity Matrix and Truncated Similarity Matrix are smaller is their shape, they actually takes up more memory than word vector."
   ]
  },
  {
   "cell_type": "markdown",
   "metadata": {},
   "source": [
    "Then we look at the range of data in different embeddings."
   ]
  },
  {
   "cell_type": "code",
   "execution_count": 41,
   "metadata": {},
   "outputs": [
    {
     "name": "stdout",
     "output_type": "stream",
     "text": [
      "Word Vector Based on Counting: from 0 to 50\n",
      "Word Vector Based on TF-Idf: from 0.0 to 0.845579623934829\n",
      "Similarity Matrix: from 0.0 to 1.000000000000001\n",
      "Truncated Similarity Matrix: from -0.5237814965358817 to 3.2759690858042623\n"
     ]
    }
   ],
   "source": [
    "print('Word Vector Based on Counting: from',word_vector.min(),'to', word_vector.max())\n",
    "print('Word Vector Based on TF-Idf: from',word_vector_tf.min(),'to', word_vector_tf.max())\n",
    "print('Similarity Matrix: from',sim_mat.min(),'to', sim_mat.max())\n",
    "print('Truncated Similarity Matrix: from',trafo_sim_mat.min(),'to', trafo_sim_mat.max())"
   ]
  },
  {
   "cell_type": "markdown",
   "metadata": {},
   "source": [
    "Data from word vector based on Tf-Idf and similarity matrix are strictly bounded by $[0, 1]$, which is good for furhter machine learning applications. Truncated similarity matrix and word vector based on counting do not share the property."
   ]
  },
  {
   "cell_type": "markdown",
   "metadata": {},
   "source": [
    "Finally, we can see the word similarity by looking at specific examples."
   ]
  },
  {
   "cell_type": "code",
   "execution_count": 52,
   "metadata": {
    "scrolled": true
   },
   "outputs": [
    {
     "name": "stdout",
     "output_type": "stream",
     "text": [
      "Word Vector Based on Counting:\n",
      "\n",
      "1.000 Microsoft\n",
      "0.783 Berkshire Hathaway\n",
      "0.780 Apple Inc.\n",
      "0.760 IBM\n",
      "0.754 Philip Morris International\n",
      "0.754 Xerox\n",
      "0.750 Target Corporation\n",
      "0.744 Intel\n",
      "0.743 Sysco\n",
      "0.741 Exelixis\n"
     ]
    }
   ],
   "source": [
    "token = 'Microsoft'\n",
    "inv_vocab = wiki_df['page_title'].to_dict()\n",
    "vocab = {value: key for key, value in inv_vocab.items()}\n",
    "print('Word Vector Based on Counting:\\n')\n",
    "similarity_matrix = cosine_similarity(word_vector)\n",
    "for idx, row in pd.Series(similarity_matrix[vocab[token]]).sort_values(ascending=False).head(10).iteritems():\n",
    "    print('%.3f' % row, inv_vocab[idx])"
   ]
  },
  {
   "cell_type": "code",
   "execution_count": 53,
   "metadata": {},
   "outputs": [
    {
     "name": "stdout",
     "output_type": "stream",
     "text": [
      "Word Vector based on Tf-Idf:\n",
      "\n",
      "1.000 Microsoft\n",
      "0.328 Xerox\n",
      "0.308 Apple Inc.\n",
      "0.253 Citrix Systems\n",
      "0.225 Intel\n",
      "0.220 VMware\n",
      "0.213 Berkshire Hathaway\n",
      "0.210 IBM\n",
      "0.196 Take-Two Interactive\n",
      "0.194 Autodesk\n"
     ]
    }
   ],
   "source": [
    "print('Word Vector based on Tf-Idf:\\n')\n",
    "similarity_matrix = cosine_similarity(word_vector_tf)\n",
    "for idx, row in pd.Series(similarity_matrix[vocab[token]]).sort_values(ascending=False).head(10).iteritems():\n",
    "    print('%.3f' % row, inv_vocab[idx])"
   ]
  },
  {
   "cell_type": "code",
   "execution_count": 54,
   "metadata": {},
   "outputs": [
    {
     "name": "stdout",
     "output_type": "stream",
     "text": [
      "Similarity Matrix:\n",
      "\n",
      "1.000 Microsoft\n",
      "0.931 Apple Inc.\n",
      "0.923 Xerox\n",
      "0.921 Berkshire Hathaway\n",
      "0.919 Citrix Systems\n",
      "0.913 IBM\n",
      "0.908 Sysco\n",
      "0.905 Intel\n",
      "0.903 Exelixis\n",
      "0.901 Walmart\n"
     ]
    }
   ],
   "source": [
    "print('Similarity Matrix:\\n')\n",
    "similarity_matrix = cosine_similarity(sim_mat)\n",
    "for idx, row in pd.Series(similarity_matrix[vocab[token]]).sort_values(ascending=False).head(10).iteritems():\n",
    "    print('%.3f' % row, inv_vocab[idx])"
   ]
  },
  {
   "cell_type": "code",
   "execution_count": 55,
   "metadata": {
    "scrolled": true
   },
   "outputs": [
    {
     "name": "stdout",
     "output_type": "stream",
     "text": [
      "Truncated_Similarity Matrix:\n",
      "\n",
      "1.000 Microsoft\n",
      "0.970 Apple Inc.\n",
      "0.959 Xerox\n",
      "0.957 Citrix Systems\n",
      "0.947 IBM\n",
      "0.947 Berkshire Hathaway\n",
      "0.937 Intel\n",
      "0.933 Exelixis\n",
      "0.930 Sysco\n",
      "0.930 Walmart\n"
     ]
    }
   ],
   "source": [
    "print('Truncated_Similarity Matrix:\\n')\n",
    "similarity_matrix = cosine_similarity(trafo_sim_mat)\n",
    "for idx, row in pd.Series(similarity_matrix[vocab[token]]).sort_values(ascending=False).head(10).iteritems():\n",
    "    print('%.3f' % row, inv_vocab[idx])"
   ]
  },
  {
   "cell_type": "markdown",
   "metadata": {},
   "source": [
    "# Problem 1: Metrics vs Loss functions (10%)\n",
    "### As we said in lecture, we optimize (minimize) the loss function, but monitor metrics without letting the model know about their value.\n",
    "\n",
    "### A very common loss/metric pair is crossentropy for the loss and accuracy for the metric. Often, these two numbers correlate, but they are not guaranteed to do some. \n",
    "\n",
    "### In this problem, you will come up with 3 sets of 20 synthetic values for predicted probability in a binary classification problem where the crossentropy and accuracy are anti correlated. Plot the loss vs the accuracy."
   ]
  },
  {
   "cell_type": "code",
   "execution_count": 56,
   "metadata": {},
   "outputs": [
    {
     "name": "stdout",
     "output_type": "stream",
     "text": [
      "Populating the interactive namespace from numpy and matplotlib\n"
     ]
    },
    {
     "name": "stderr",
     "output_type": "stream",
     "text": [
      "/Users/mac/opt/anaconda3/lib/python3.7/site-packages/IPython/core/magics/pylab.py:160: UserWarning: pylab import has clobbered these variables: ['svd']\n",
      "`%matplotlib` prevents importing * from pylab and numpy\n",
      "  \"\\n`%matplotlib` prevents importing * from pylab and numpy\"\n"
     ]
    }
   ],
   "source": [
    "# safe to restart\n",
    "import numpy as np\n",
    "import pandas as pd\n",
    "%pylab inline\n",
    "from sklearn.metrics import accuracy_score"
   ]
  },
  {
   "cell_type": "code",
   "execution_count": 57,
   "metadata": {},
   "outputs": [],
   "source": [
    "def cross_entropy(predictions, targets, epsilon=1e-12):\n",
    "    predictions = np.clip(predictions, epsilon, 1. - epsilon)\n",
    "    num_datapoints = predictions.shape[0]\n",
    "    ce = -1 * np.sum(targets*np.log(predictions + 1e-9)) / num_datapoints\n",
    "    return ce"
   ]
  },
  {
   "cell_type": "code",
   "execution_count": 59,
   "metadata": {},
   "outputs": [
    {
     "data": {
      "text/plain": [
       "Text(0, 0.5, 'Accuracy')"
      ]
     },
     "execution_count": 59,
     "metadata": {},
     "output_type": "execute_result"
    },
    {
     "data": {
      "image/png": "[encoded data removed]",
      "text/plain": [
       "<Figure size 864x504 with 1 Axes>"
      ]
     },
     "metadata": {
      "needs_background": "light"
     },
     "output_type": "display_data"
    }
   ],
   "source": [
    "# Hint: not all right and wrong answers are created equally\n",
    "\n",
    "y_true = np.array([1]*20)\n",
    "predictions_1 = np.array([0.49]*20)\n",
    "predictions_2 = np.array([0.51]*5+[0.2]*15)\n",
    "predictions_3 = np.array([0.51]*15+[1e-4]*5)\n",
    "\n",
    "preds = [predictions_1, predictions_2, predictions_3]\n",
    "\n",
    "cross_entropies = [cross_entropy(y_pred, y_true) for y_pred in preds]\n",
    "accuracies = [accuracy_score(y_true, y_pred > 0.5) for y_pred in preds]\n",
    "pd.Series(accuracies, index=cross_entropies).plot(\n",
    "    style='-x', figsize=(12,7), fontsize=17,\n",
    "    markersize=18, linewidth=4\n",
    ")\n",
    "plt.xlabel('Cross Entropy', fontsize=16)\n",
    "plt.ylabel('Accuracy', fontsize=16)"
   ]
  },
  {
   "cell_type": "code",
   "execution_count": null,
   "metadata": {},
   "outputs": [],
   "source": []
  },
  {
   "cell_type": "code",
   "execution_count": null,
   "metadata": {},
   "outputs": [],
   "source": []
  },
  {
   "cell_type": "markdown",
   "metadata": {},
   "source": [
    "# Problem 2: Cross Validation (10%)\n"
   ]
  },
  {
   "cell_type": "code",
   "execution_count": 60,
   "metadata": {},
   "outputs": [
    {
     "name": "stdout",
     "output_type": "stream",
     "text": [
      "Populating the interactive namespace from numpy and matplotlib\n"
     ]
    }
   ],
   "source": [
    "import numpy as np\n",
    "import pandas as pd\n",
    "import matplotlib.pyplot as plt\n",
    "%pylab inline\n",
    "\n",
    "from sklearn.linear_model import LinearRegression, Lasso\n",
    "from sklearn.metrics import r2_score, mean_squared_error"
   ]
  },
  {
   "cell_type": "markdown",
   "metadata": {},
   "source": [
    "### Part 1: Generate some data\n",
    " - Generate data with 1024 points and 10 features. \n",
    " - Create targets that are linear combinations of the 10 features and add some noise. \n",
    " - Split the data into train/test 80/20 percent. "
   ]
  },
  {
   "cell_type": "code",
   "execution_count": 67,
   "metadata": {},
   "outputs": [],
   "source": [
    "# Generate some data\n",
    "from sklearn.model_selection import train_test_split\n",
    "\n",
    "num_observations = 1024\n",
    "coefs = np.array([-1.2, 5, 0, .22, 0, 2, 0, 4, 0, 0])  # notice, there are zeros!\n",
    "noise_amplitude = 5\n",
    "\n",
    "num_variables = coefs.shape[0]\n",
    "beta = np.array([coefs]).T\n",
    "\n",
    "x = np.random.rand(num_observations, num_variables)\n",
    "y = (x.dot(beta) + noise_amplitude * np.random.rand(num_observations, 1)).squeeze()\n",
    "\n",
    "# x_train, x_test = ...\n",
    "# y_train, y_test = ...\n",
    "x_train, x_test, y_train, y_test = train_test_split(x, y, test_size=0.2, random_state=42)\n",
    "\n",
    "# del x, y"
   ]
  },
  {
   "cell_type": "markdown",
   "metadata": {},
   "source": [
    "### Part 2: cross validation\n",
    "Here we will cross validate our data to find the best set of parameters for `Lasso` regression. We will tune the regularization strength (`alpha`) and whether we fit an intercept to the data. \n",
    " - For each set of parameters find fit an estimator\n",
    " - Calculate the mean squared error on the test set\n",
    " - store the results (both the MSE and the parameters) so we can do analysis later"
   ]
  },
  {
   "cell_type": "code",
   "execution_count": 86,
   "metadata": {},
   "outputs": [
    {
     "name": "stderr",
     "output_type": "stream",
     "text": [
      "/Users/mac/opt/anaconda3/lib/python3.7/site-packages/ipykernel_launcher.py:15: UserWarning: With alpha=0, this algorithm does not converge well. You are advised to use the LinearRegression estimator\n",
      "  from ipykernel import kernelapp as app\n",
      "/Users/mac/opt/anaconda3/lib/python3.7/site-packages/sklearn/linear_model/_coordinate_descent.py:476: UserWarning: Coordinate descent with no regularization may lead to unexpected results and is discouraged.\n",
      "  positive)\n",
      "/Users/mac/opt/anaconda3/lib/python3.7/site-packages/sklearn/linear_model/_coordinate_descent.py:476: ConvergenceWarning: Objective did not converge. You might want to increase the number of iterations. Duality gap: 895.0152565446207, tolerance: 5.117350828589497\n",
      "  positive)\n",
      "/Users/mac/opt/anaconda3/lib/python3.7/site-packages/ipykernel_launcher.py:15: UserWarning: With alpha=0, this algorithm does not converge well. You are advised to use the LinearRegression estimator\n",
      "  from ipykernel import kernelapp as app\n",
      "/Users/mac/opt/anaconda3/lib/python3.7/site-packages/sklearn/linear_model/_coordinate_descent.py:476: UserWarning: Coordinate descent with no regularization may lead to unexpected results and is discouraged.\n",
      "  positive)\n",
      "/Users/mac/opt/anaconda3/lib/python3.7/site-packages/sklearn/linear_model/_coordinate_descent.py:476: ConvergenceWarning: Objective did not converge. You might want to increase the number of iterations. Duality gap: 828.1476001177836, tolerance: 0.4750493634200519\n",
      "  positive)\n"
     ]
    },
    {
     "data": {
      "text/plain": [
       "{'alphas': [0.0,\n",
       "  0.1,\n",
       "  0.2,\n",
       "  0.3,\n",
       "  0.4,\n",
       "  0.5,\n",
       "  0.6,\n",
       "  0.7,\n",
       "  0.8,\n",
       "  0.9,\n",
       "  1.0,\n",
       "  0.0,\n",
       "  0.1,\n",
       "  0.2,\n",
       "  0.3,\n",
       "  0.4,\n",
       "  0.5,\n",
       "  0.6,\n",
       "  0.7,\n",
       "  0.8,\n",
       "  0.9,\n",
       "  1.0],\n",
       " 'fit_intercepts': [0,\n",
       "  0,\n",
       "  0,\n",
       "  0,\n",
       "  0,\n",
       "  0,\n",
       "  0,\n",
       "  0,\n",
       "  0,\n",
       "  0,\n",
       "  0,\n",
       "  1,\n",
       "  1,\n",
       "  1,\n",
       "  1,\n",
       "  1,\n",
       "  1,\n",
       "  1,\n",
       "  1,\n",
       "  1,\n",
       "  1,\n",
       "  1],\n",
       " 'MSE': [2.218026031828155,\n",
       "  2.3520920302833015,\n",
       "  2.523380488270361,\n",
       "  2.771607207593692,\n",
       "  3.088354254121453,\n",
       "  3.4730167349945367,\n",
       "  3.9324499590510564,\n",
       "  4.46717106130991,\n",
       "  5.081402815451736,\n",
       "  5.76316114701956,\n",
       "  6.488526525058728,\n",
       "  2.0706158343241827,\n",
       "  2.471326809739148,\n",
       "  3.580639074821697,\n",
       "  4.9476729920833735,\n",
       "  5.825602676747134,\n",
       "  5.944061390187684,\n",
       "  5.944061390187684,\n",
       "  5.944061390187684,\n",
       "  5.944061390187684,\n",
       "  5.944061390187684,\n",
       "  5.944061390187684],\n",
       " 'r2': [0.6247081014475967,\n",
       "  0.6020240200303532,\n",
       "  0.5730418666761414,\n",
       "  0.5310416938064368,\n",
       "  0.47744782306440053,\n",
       "  0.41236260283831006,\n",
       "  0.3346261090190249,\n",
       "  0.24415084191976733,\n",
       "  0.1402223046279566,\n",
       "  0.024868212774885712,\n",
       "  -0.09786422857708854,\n",
       "  0.6496500327384809,\n",
       "  0.5818493935321333,\n",
       "  0.3941528110410981,\n",
       "  0.16284950493345718,\n",
       "  0.014303052626308599,\n",
       "  -0.005740262839442289,\n",
       "  -0.005740262839442289,\n",
       "  -0.005740262839442289,\n",
       "  -0.005740262839442289,\n",
       "  -0.005740262839442289,\n",
       "  -0.005740262839442289]}"
      ]
     },
     "execution_count": 86,
     "metadata": {},
     "output_type": "execute_result"
    }
   ],
   "source": [
    "from sklearn import linear_model\n",
    "alphas = [i/10 for i in range(0, 11)]\n",
    "fit_intercepts = [0]*len(alphas)+[1]*len(alphas)\n",
    "alphas += alphas\n",
    "\n",
    "# everything below to be removed\n",
    "# for all possible combinations, compute necessary metrics\n",
    "results = {\"alphas\":alphas, \"fit_intercepts\":fit_intercepts, \"MSE\":[], \"r2\":[]}\n",
    "# put code here\n",
    "\n",
    "MSE = []\n",
    "r2 = []\n",
    "for i in range(len(alphas)):\n",
    "    clf = linear_model.Lasso(alpha = alphas[i], fit_intercept = fit_intercepts[i])\n",
    "    clf.fit(x_train, y_train)\n",
    "    r2.append(clf.score(x_test, y_test))\n",
    "    MSE.append(((clf.predict(x_test)-y_test)**2).mean())\n",
    "\n",
    "results[\"MSE\"] = MSE\n",
    "results[\"r2\"] = r2\n",
    "results"
   ]
  },
  {
   "cell_type": "markdown",
   "metadata": {},
   "source": [
    "### Part 3: Analysis\n",
    " - for each value of `fit_intercept` plot the `MSE` and `r2` scores as a function of alpha. \n",
    " - What is the overall best combination of parameters"
   ]
  },
  {
   "cell_type": "code",
   "execution_count": 91,
   "metadata": {},
   "outputs": [
    {
     "name": "stdout",
     "output_type": "stream",
     "text": [
      "\n"
     ]
    },
    {
     "data": {
      "image/png": "[encoded data removed]",
      "text/plain": [
       "<Figure size 864x576 with 1 Axes>"
      ]
     },
     "metadata": {
      "needs_background": "light"
     },
     "output_type": "display_data"
    }
   ],
   "source": [
    "import matplotlib.pyplot as plt\n",
    "df = pd.DataFrame(results)  # not needed, but maybe handy\n",
    "# your plotting code here\n",
    "df1 = df[df['fit_intercepts']==0]\n",
    "df1.set_index('alphas', inplace=True)\n",
    "ax = df1['MSE'].plot(figsize=(12,8), linewidth=4, markersize=14, fontsize=20)\n",
    "df1['r2'].plot(ax=ax)\n",
    "plt.title('Lasso with no Intercept', fontsize=20)\n",
    "plt.legend(fontsize=20)\n",
    "print()"
   ]
  },
  {
   "cell_type": "code",
   "execution_count": 93,
   "metadata": {},
   "outputs": [
    {
     "name": "stdout",
     "output_type": "stream",
     "text": [
      "\n"
     ]
    },
    {
     "data": {
      "image/png": "[encoded data removed]",
      "text/plain": [
       "<Figure size 864x576 with 1 Axes>"
      ]
     },
     "metadata": {
      "needs_background": "light"
     },
     "output_type": "display_data"
    }
   ],
   "source": [
    "df2 = df[df['fit_intercepts']==1]\n",
    "df2.set_index('alphas', inplace=True)\n",
    "ax = df2['MSE'].plot(figsize=(12,8), linewidth=4, markersize=14, fontsize=20)\n",
    "df2['r2'].plot(ax=ax)\n",
    "plt.title('Lasso with Intercept', fontsize=20)\n",
    "plt.legend(fontsize=20)\n",
    "print()"
   ]
  },
  {
   "cell_type": "markdown",
   "metadata": {},
   "source": [
    "From the result above, we know the best combination of parameters is alpha = 1.0 and `fit_intercept` = 1."
   ]
  },
  {
   "cell_type": "markdown",
   "metadata": {},
   "source": [
    "# Problem 3: Linear regression in Keras (40%)\n",
    "\n",
    "#### We'd like to use keras to perform linear regression and compare it to another tool (scikit-learn)\n",
    "#### We'll compare OLS, ridge ($L2$ regularization) and LASSO ($L1$ regularization) using both keras and scikit-learn\n"
   ]
  },
  {
   "cell_type": "code",
   "execution_count": 1,
   "metadata": {},
   "outputs": [
    {
     "name": "stdout",
     "output_type": "stream",
     "text": [
      "Populating the interactive namespace from numpy and matplotlib\n"
     ]
    }
   ],
   "source": [
    "import numpy as np\n",
    "import pandas as pd\n",
    "import matplotlib.pyplot as plt\n",
    "%pylab inline\n",
    "\n",
    "from sklearn.linear_model import LinearRegression\n",
    "from sklearn.metrics import r2_score, mean_squared_error\n",
    "from sklearn.model_selection import train_test_split\n"
   ]
  },
  {
   "cell_type": "code",
   "execution_count": 2,
   "metadata": {},
   "outputs": [],
   "source": [
    "# Generate some data\n",
    "\n",
    "num_observations = 1024\n",
    "coefs = np.array([-1.2, 5, 0, .22, 2, 0, 4])  # notice, there are zeros!\n",
    "noise_amplitude = .05\n",
    "\n",
    "num_variables = coefs.shape[0]\n",
    "\n",
    "x = np.random.rand(num_observations, num_variables)\n",
    "y = np.dot(x, coefs) + noise_amplitude * np.random.rand(num_observations)\n",
    "\n",
    "\n",
    "# your code here, \n",
    "# split data into x_train, x_test, y_train, y_test\n",
    "x_train, x_test, y_train, y_test = train_test_split(x, y, test_size=0.2, random_state=42)"
   ]
  },
  {
   "cell_type": "code",
   "execution_count": 3,
   "metadata": {},
   "outputs": [
    {
     "data": {
      "text/plain": [
       "((819, 7), (819,))"
      ]
     },
     "execution_count": 3,
     "metadata": {},
     "output_type": "execute_result"
    }
   ],
   "source": [
    "x_train.shape, y_train.shape"
   ]
  },
  {
   "cell_type": "code",
   "execution_count": 4,
   "metadata": {},
   "outputs": [
    {
     "data": {
      "text/plain": [
       "0.0002028640553551475"
      ]
     },
     "execution_count": 4,
     "metadata": {},
     "output_type": "execute_result"
    }
   ],
   "source": [
    "# fit linear regression here and calculate MSE\n",
    "# put code here\n",
    "reg = LinearRegression()\n",
    "reg.fit(x_train, y_train)\n",
    "((reg.predict(x_test)-y_test)**2).mean()"
   ]
  },
  {
   "cell_type": "code",
   "execution_count": 5,
   "metadata": {},
   "outputs": [
    {
     "data": {
      "text/plain": [
       "array([-0.00116553,  0.00115276, -0.00044214,  0.00130939,  0.00250907,\n",
       "       -0.00157518, -0.00034918])"
      ]
     },
     "execution_count": 5,
     "metadata": {},
     "output_type": "execute_result"
    }
   ],
   "source": [
    "# Show that the coefficients are all close the \"real\" ones used to generate the data\n",
    "# put code here\n",
    "reg.coef_ - coefs"
   ]
  },
  {
   "cell_type": "code",
   "execution_count": 6,
   "metadata": {},
   "outputs": [],
   "source": [
    "from IPython.display import SVG\n",
    "from keras.utils.vis_utils import model_to_dot\n",
    "\n",
    "def plot_model_in_notebook(model):\n",
    "    return SVG(model_to_dot(model, show_shapes=True).create(prog='dot', format='svg'))\n"
   ]
  },
  {
   "cell_type": "code",
   "execution_count": 18,
   "metadata": {},
   "outputs": [
    {
     "ename": "NameError",
     "evalue": "name 'coefs' is not defined",
     "output_type": "error",
     "traceback": [
      "\u001b[1;31m---------------------------------------------------------------------------\u001b[0m",
      "\u001b[1;31mNameError\u001b[0m                                 Traceback (most recent call last)",
      "\u001b[1;32m<ipython-input-18-a3bfed90d9e9>\u001b[0m in \u001b[0;36m<module>\u001b[1;34m\u001b[0m\n\u001b[0;32m     11\u001b[0m \u001b[1;31m# model.fit(x,y, batch_size=1, epochs=30, shuffle=False)\u001b[0m\u001b[1;33m\u001b[0m\u001b[1;33m\u001b[0m\u001b[0m\n\u001b[0;32m     12\u001b[0m \u001b[1;31m# Now we will use keras to solve the same problem\u001b[0m\u001b[1;33m\u001b[0m\u001b[1;33m\u001b[0m\u001b[0m\n\u001b[1;32m---> 13\u001b[1;33m \u001b[0minput_data\u001b[0m \u001b[1;33m=\u001b[0m \u001b[0mInput\u001b[0m\u001b[1;33m(\u001b[0m\u001b[0mshape\u001b[0m\u001b[1;33m=\u001b[0m\u001b[1;33m(\u001b[0m\u001b[0mcoefs\u001b[0m\u001b[1;33m.\u001b[0m\u001b[0mshape\u001b[0m\u001b[1;33m[\u001b[0m\u001b[1;36m0\u001b[0m\u001b[1;33m]\u001b[0m\u001b[1;33m,\u001b[0m\u001b[1;33m)\u001b[0m\u001b[1;33m)\u001b[0m\u001b[1;33m\u001b[0m\u001b[0m\n\u001b[0m\u001b[0;32m     14\u001b[0m \u001b[0mpreds\u001b[0m \u001b[1;33m=\u001b[0m \u001b[0mDense\u001b[0m\u001b[1;33m(\u001b[0m\u001b[1;36m1\u001b[0m\u001b[1;33m,\u001b[0m \u001b[0mactivation\u001b[0m\u001b[1;33m=\u001b[0m\u001b[1;34m'linear'\u001b[0m\u001b[1;33m)\u001b[0m\u001b[1;33m(\u001b[0m\u001b[0minput_data\u001b[0m\u001b[1;33m)\u001b[0m\u001b[1;33m\u001b[0m\u001b[0m\n\u001b[0;32m     15\u001b[0m \u001b[1;31m# add model definition here\u001b[0m\u001b[1;33m\u001b[0m\u001b[1;33m\u001b[0m\u001b[0m\n",
      "\u001b[1;31mNameError\u001b[0m: name 'coefs' is not defined"
     ]
    }
   ],
   "source": [
    "from keras.layers import Input, Dense\n",
    "from keras.models import Model\n",
    "from keras.optimizers import SGD\n",
    "\n",
    "# inputs = Input(shape=(1,))\n",
    "# preds = Dense(1,activation='linear')(inputs)\n",
    "\n",
    "# model = Model(inputs=inputs,outputs=preds)\n",
    "# sgd=keras.optimizers.SGD()\n",
    "# model.compile(optimizer=sgd ,loss='mse',metrics=['mse'])\n",
    "# model.fit(x,y, batch_size=1, epochs=30, shuffle=False)\n",
    "# Now we will use keras to solve the same problem \n",
    "input_data = Input(shape=(coefs.shape[0],))\n",
    "preds = Dense(1, activation='linear')(input_data)\n",
    "# add model definition here"
   ]
  },
  {
   "cell_type": "code",
   "execution_count": 19,
   "metadata": {},
   "outputs": [],
   "source": [
    "from keras.layers import Input, Dense\n",
    "from keras.models import Model\n",
    "from keras.optimizers import SGD"
   ]
  },
  {
   "cell_type": "code",
   "execution_count": 8,
   "metadata": {},
   "outputs": [
    {
     "data": {
      "image/svg+xml": [
       "<svg height=\"184pt\" viewBox=\"0.00 0.00 243.00 138.00\" width=\"324pt\" xmlns=\"http://www.w3.org/2000/svg\" xmlns:xlink=\"http://www.w3.org/1999/xlink\">\n",
       "<g class=\"graph\" id=\"graph0\" transform=\"scale(1.33 1.33) rotate(0) translate(4 134)\">\n",
       "<title>G</title>\n",
       "<polygon fill=\"white\" points=\"-4,4 -4,-134 239,-134 239,4 -4,4\" stroke=\"transparent\"/>\n",
       "<!-- 140344310432720 -->\n",
       "<g class=\"node\" id=\"node1\">\n",
       "<title>140344310432720</title>\n",
       "<polygon fill=\"none\" points=\"0,-83.5 0,-129.5 235,-129.5 235,-83.5 0,-83.5\" stroke=\"black\"/>\n",
       "<text font-family=\"Times,serif\" font-size=\"14.00\" text-anchor=\"middle\" x=\"62.5\" y=\"-102.8\">input_1: InputLayer</text>\n",
       "<polyline fill=\"none\" points=\"125,-83.5 125,-129.5 \" stroke=\"black\"/>\n",
       "<text font-family=\"Times,serif\" font-size=\"14.00\" text-anchor=\"middle\" x=\"152.5\" y=\"-114.3\">input:</text>\n",
       "<polyline fill=\"none\" points=\"125,-106.5 180,-106.5 \" stroke=\"black\"/>\n",
       "<text font-family=\"Times,serif\" font-size=\"14.00\" text-anchor=\"middle\" x=\"152.5\" y=\"-91.3\">output:</text>\n",
       "<polyline fill=\"none\" points=\"180,-83.5 180,-129.5 \" stroke=\"black\"/>\n",
       "<text font-family=\"Times,serif\" font-size=\"14.00\" text-anchor=\"middle\" x=\"207.5\" y=\"-114.3\">[(?, 7)]</text>\n",
       "<polyline fill=\"none\" points=\"180,-106.5 235,-106.5 \" stroke=\"black\"/>\n",
       "<text font-family=\"Times,serif\" font-size=\"14.00\" text-anchor=\"middle\" x=\"207.5\" y=\"-91.3\">[(?, 7)]</text>\n",
       "</g>\n",
       "<!-- 140344310432848 -->\n",
       "<g class=\"node\" id=\"node2\">\n",
       "<title>140344310432848</title>\n",
       "<polygon fill=\"none\" points=\"22.5,-0.5 22.5,-46.5 212.5,-46.5 212.5,-0.5 22.5,-0.5\" stroke=\"black\"/>\n",
       "<text font-family=\"Times,serif\" font-size=\"14.00\" text-anchor=\"middle\" x=\"67\" y=\"-19.8\">dense: Dense</text>\n",
       "<polyline fill=\"none\" points=\"111.5,-0.5 111.5,-46.5 \" stroke=\"black\"/>\n",
       "<text font-family=\"Times,serif\" font-size=\"14.00\" text-anchor=\"middle\" x=\"139\" y=\"-31.3\">input:</text>\n",
       "<polyline fill=\"none\" points=\"111.5,-23.5 166.5,-23.5 \" stroke=\"black\"/>\n",
       "<text font-family=\"Times,serif\" font-size=\"14.00\" text-anchor=\"middle\" x=\"139\" y=\"-8.3\">output:</text>\n",
       "<polyline fill=\"none\" points=\"166.5,-0.5 166.5,-46.5 \" stroke=\"black\"/>\n",
       "<text font-family=\"Times,serif\" font-size=\"14.00\" text-anchor=\"middle\" x=\"189.5\" y=\"-31.3\">(?, 7)</text>\n",
       "<polyline fill=\"none\" points=\"166.5,-23.5 212.5,-23.5 \" stroke=\"black\"/>\n",
       "<text font-family=\"Times,serif\" font-size=\"14.00\" text-anchor=\"middle\" x=\"189.5\" y=\"-8.3\">(?, 1)</text>\n",
       "</g>\n",
       "<!-- 140344310432720&#45;&gt;140344310432848 -->\n",
       "<g class=\"edge\" id=\"edge1\">\n",
       "<title>140344310432720-&gt;140344310432848</title>\n",
       "<path d=\"M117.5,-83.37C117.5,-75.15 117.5,-65.66 117.5,-56.73\" fill=\"none\" stroke=\"black\"/>\n",
       "<polygon fill=\"black\" points=\"121,-56.61 117.5,-46.61 114,-56.61 121,-56.61\" stroke=\"black\"/>\n",
       "</g>\n",
       "</g>\n",
       "</svg>"
      ],
      "text/plain": [
       "<IPython.core.display.SVG object>"
      ]
     },
     "execution_count": 8,
     "metadata": {},
     "output_type": "execute_result"
    }
   ],
   "source": [
    "# K.clear_session()\n",
    "# build model here\n",
    "keras_lin_reg = Model(inputs=input_data, outputs=preds)\n",
    "sgd=SGD()\n",
    "# don't forget to compile model here\n",
    "keras_lin_reg.compile(optimizer=sgd ,loss='mse',metrics=['mse'])\n",
    "# plot the model\n",
    "plot_model_in_notebook(keras_lin_reg)"
   ]
  },
  {
   "cell_type": "markdown",
   "metadata": {},
   "source": [
    "## How many parameters does the model have? \n",
    "### Explicitly show the calculation, explain it, and verify that it agrees with `model.count_params()`"
   ]
  },
  {
   "cell_type": "code",
   "execution_count": 10,
   "metadata": {},
   "outputs": [],
   "source": [
    "# ADD CODE HERE\n",
    "num_params = coefs.shape[0] + 1  # number of coefficience and intercept\n",
    "assert num_params == keras_lin_reg.count_params()"
   ]
  },
  {
   "cell_type": "markdown",
   "metadata": {},
   "source": [
    "## Fit the model and calculate the MSE"
   ]
  },
  {
   "cell_type": "code",
   "execution_count": 11,
   "metadata": {},
   "outputs": [
    {
     "name": "stdout",
     "output_type": "stream",
     "text": [
      "Epoch 1/30\n",
      "819/819 [==============================] - 0s 334us/step - loss: 1.1695 - mse: 1.1695\n",
      "Epoch 2/30\n",
      "819/819 [==============================] - 0s 344us/step - loss: 0.0946 - mse: 0.0946\n",
      "Epoch 3/30\n",
      "819/819 [==============================] - 0s 363us/step - loss: 0.0169 - mse: 0.0169\n",
      "Epoch 4/30\n",
      "819/819 [==============================] - 0s 343us/step - loss: 0.0052 - mse: 0.0052\n",
      "Epoch 5/30\n",
      "819/819 [==============================] - 0s 357us/step - loss: 0.0020 - mse: 0.0020\n",
      "Epoch 6/30\n",
      "819/819 [==============================] - 0s 334us/step - loss: 8.9565e-04 - mse: 8.9565e-04\n",
      "Epoch 7/30\n",
      "819/819 [==============================] - 0s 342us/step - loss: 4.6900e-04 - mse: 4.6900e-04\n",
      "Epoch 8/30\n",
      "819/819 [==============================] - 0s 343us/step - loss: 3.0738e-04 - mse: 3.0738e-04\n",
      "Epoch 9/30\n",
      "819/819 [==============================] - 0s 355us/step - loss: 2.4616e-04 - mse: 2.4616e-04\n",
      "Epoch 10/30\n",
      "819/819 [==============================] - 0s 422us/step - loss: 2.2303e-04 - mse: 2.2303e-04\n",
      "Epoch 11/30\n",
      "819/819 [==============================] - 0s 387us/step - loss: 2.1432e-04 - mse: 2.1432e-04\n",
      "Epoch 12/30\n",
      "819/819 [==============================] - 0s 336us/step - loss: 2.1107e-04 - mse: 2.1107e-04\n",
      "Epoch 13/30\n",
      "819/819 [==============================] - 0s 341us/step - loss: 2.0987e-04 - mse: 2.0987e-04\n",
      "Epoch 14/30\n",
      "819/819 [==============================] - 0s 412us/step - loss: 2.0944e-04 - mse: 2.0944e-04\n",
      "Epoch 15/30\n",
      "819/819 [==============================] - 0s 378us/step - loss: 2.0929e-04 - mse: 2.0929e-04\n",
      "Epoch 16/30\n",
      "819/819 [==============================] - 0s 338us/step - loss: 2.0924e-04 - mse: 2.0924e-04\n",
      "Epoch 17/30\n",
      "819/819 [==============================] - 0s 336us/step - loss: 2.0923e-04 - mse: 2.0923e-04\n",
      "Epoch 18/30\n",
      "819/819 [==============================] - 0s 343us/step - loss: 2.0922e-04 - mse: 2.0922e-04\n",
      "Epoch 19/30\n",
      "819/819 [==============================] - 0s 350us/step - loss: 2.0923e-04 - mse: 2.0923e-04\n",
      "Epoch 20/30\n",
      "819/819 [==============================] - 0s 352us/step - loss: 2.0923e-04 - mse: 2.0923e-04\n",
      "Epoch 21/30\n",
      "819/819 [==============================] - 0s 332us/step - loss: 2.0923e-04 - mse: 2.0923e-04\n",
      "Epoch 22/30\n",
      "819/819 [==============================] - 0s 349us/step - loss: 2.0923e-04 - mse: 2.0923e-04\n",
      "Epoch 23/30\n",
      "819/819 [==============================] - 0s 345us/step - loss: 2.0923e-04 - mse: 2.0923e-04\n",
      "Epoch 24/30\n",
      "819/819 [==============================] - 0s 347us/step - loss: 2.0923e-04 - mse: 2.0923e-04\n",
      "Epoch 25/30\n",
      "819/819 [==============================] - 0s 350us/step - loss: 2.0923e-04 - mse: 2.0923e-04\n",
      "Epoch 26/30\n",
      "819/819 [==============================] - 0s 345us/step - loss: 2.0923e-04 - mse: 2.0923e-04\n",
      "Epoch 27/30\n",
      "819/819 [==============================] - 0s 332us/step - loss: 2.0923e-04 - mse: 2.0923e-04\n",
      "Epoch 28/30\n",
      "819/819 [==============================] - 0s 340us/step - loss: 2.0923e-04 - mse: 2.0923e-04\n",
      "Epoch 29/30\n",
      "819/819 [==============================] - 0s 344us/step - loss: 2.0923e-04 - mse: 2.0923e-04\n",
      "Epoch 30/30\n",
      "819/819 [==============================] - 0s 363us/step - loss: 2.0923e-04 - mse: 2.0923e-04\n"
     ]
    },
    {
     "data": {
      "text/plain": [
       "<tensorflow.python.keras.callbacks.History at 0x7fa477aba510>"
      ]
     },
     "execution_count": 11,
     "metadata": {},
     "output_type": "execute_result"
    }
   ],
   "source": [
    "# fit the model here\n",
    "keras_lin_reg.fit(x_train,y_train, batch_size=1, epochs=30, shuffle=False)"
   ]
  },
  {
   "cell_type": "code",
   "execution_count": 17,
   "metadata": {},
   "outputs": [
    {
     "data": {
      "text/plain": [
       "0.00023172306973334885"
      ]
     },
     "execution_count": 17,
     "metadata": {},
     "output_type": "execute_result"
    }
   ],
   "source": [
    "((keras_lin_reg.predict(x_test).squeeze()-y_test)**2).mean()"
   ]
  },
  {
   "cell_type": "markdown",
   "metadata": {},
   "source": [
    "## get the coefficients and compare them to the real coefficients"
   ]
  },
  {
   "cell_type": "code",
   "execution_count": 26,
   "metadata": {},
   "outputs": [
    {
     "data": {
      "text/html": [
       "<div>\n",
       "<style scoped>\n",
       "    .dataframe tbody tr th:only-of-type {\n",
       "        vertical-align: middle;\n",
       "    }\n",
       "\n",
       "    .dataframe tbody tr th {\n",
       "        vertical-align: top;\n",
       "    }\n",
       "\n",
       "    .dataframe thead th {\n",
       "        text-align: right;\n",
       "    }\n",
       "</style>\n",
       "<table border=\"1\" class=\"dataframe\">\n",
       "  <thead>\n",
       "    <tr style=\"text-align: right;\">\n",
       "      <th></th>\n",
       "      <th>keras linear coefficients</th>\n",
       "      <th>real coefficients</th>\n",
       "    </tr>\n",
       "  </thead>\n",
       "  <tbody>\n",
       "    <tr>\n",
       "      <th>0</th>\n",
       "      <td>-1.202489</td>\n",
       "      <td>-1.20</td>\n",
       "    </tr>\n",
       "    <tr>\n",
       "      <th>1</th>\n",
       "      <td>5.000568</td>\n",
       "      <td>5.00</td>\n",
       "    </tr>\n",
       "    <tr>\n",
       "      <th>2</th>\n",
       "      <td>-0.000556</td>\n",
       "      <td>0.00</td>\n",
       "    </tr>\n",
       "    <tr>\n",
       "      <th>3</th>\n",
       "      <td>0.219577</td>\n",
       "      <td>0.22</td>\n",
       "    </tr>\n",
       "    <tr>\n",
       "      <th>4</th>\n",
       "      <td>2.003040</td>\n",
       "      <td>2.00</td>\n",
       "    </tr>\n",
       "    <tr>\n",
       "      <th>5</th>\n",
       "      <td>-0.001337</td>\n",
       "      <td>0.00</td>\n",
       "    </tr>\n",
       "    <tr>\n",
       "      <th>6</th>\n",
       "      <td>3.998571</td>\n",
       "      <td>4.00</td>\n",
       "    </tr>\n",
       "  </tbody>\n",
       "</table>\n",
       "</div>"
      ],
      "text/plain": [
       "   keras linear coefficients  real coefficients\n",
       "0                  -1.202489              -1.20\n",
       "1                   5.000568               5.00\n",
       "2                  -0.000556               0.00\n",
       "3                   0.219577               0.22\n",
       "4                   2.003040               2.00\n",
       "5                  -0.001337               0.00\n",
       "6                   3.998571               4.00"
      ]
     },
     "execution_count": 26,
     "metadata": {},
     "output_type": "execute_result"
    }
   ],
   "source": [
    "# add code here\n",
    "keras_lin_reg.get_weights()[0].squeeze()-coefs\n",
    "\n",
    "# find the coefficients and compare them to the real ones\n",
    "keras_lin_coefs = keras_lin_reg.get_weights()[0].squeeze()\n",
    "pd.Series(keras_lin_coefs, \n",
    "          name='keras linear coefficients').to_frame().join(pd.Series(coefs, name='real coefficients'))"
   ]
  },
  {
   "cell_type": "markdown",
   "metadata": {},
   "source": [
    "## Now we will add some regularization"
   ]
  },
  {
   "cell_type": "code",
   "execution_count": 21,
   "metadata": {},
   "outputs": [],
   "source": [
    "from keras.regularizers import l1_l2\n",
    "regularizer = l1_l2(l1=0, l2=.1)\n",
    "# Dense(...) -> Dense(..., kernel_regularizer=regularizer)\n",
    "\n",
    "preds_ridge = Dense(1, activation='linear', kernel_regularizer=regularizer)(input_data)\n",
    "\n",
    "#keras_ridge_model = Model(...\n",
    "keras_ridge_reg = Model(inputs=input_data, outputs=preds_ridge)\n",
    "sgd=SGD()\n",
    "# don't forget to compile model here\n",
    "keras_ridge_reg.compile(optimizer=sgd ,loss='mse',metrics=['mse'])"
   ]
  },
  {
   "cell_type": "code",
   "execution_count": 23,
   "metadata": {},
   "outputs": [
    {
     "name": "stdout",
     "output_type": "stream",
     "text": [
      "Epoch 1/30\n",
      "819/819 [==============================] - 0s 356us/step - loss: 2.6754 - mse: 1.9008\n",
      "Epoch 2/30\n",
      "819/819 [==============================] - 0s 336us/step - loss: 2.1187 - mse: 1.1657\n",
      "Epoch 3/30\n",
      "819/819 [==============================] - 0s 349us/step - loss: 2.1146 - mse: 1.1714\n",
      "Epoch 4/30\n",
      "819/819 [==============================] - 0s 353us/step - loss: 2.1144 - mse: 1.1803\n",
      "Epoch 5/30\n",
      "819/819 [==============================] - 0s 342us/step - loss: 2.1144 - mse: 1.1838\n",
      "Epoch 6/30\n",
      "819/819 [==============================] - 0s 343us/step - loss: 2.1144 - mse: 1.1850\n",
      "Epoch 7/30\n",
      "819/819 [==============================] - 0s 348us/step - loss: 2.1144 - mse: 1.1854\n",
      "Epoch 8/30\n",
      "819/819 [==============================] - 0s 349us/step - loss: 2.1144 - mse: 1.1856\n",
      "Epoch 9/30\n",
      "819/819 [==============================] - 0s 348us/step - loss: 2.1144 - mse: 1.1856\n",
      "Epoch 10/30\n",
      "819/819 [==============================] - 0s 347us/step - loss: 2.1144 - mse: 1.1857\n",
      "Epoch 11/30\n",
      "819/819 [==============================] - 0s 336us/step - loss: 2.1144 - mse: 1.1857\n",
      "Epoch 12/30\n",
      "819/819 [==============================] - 0s 351us/step - loss: 2.1144 - mse: 1.1857\n",
      "Epoch 13/30\n",
      "819/819 [==============================] - 0s 349us/step - loss: 2.1144 - mse: 1.1857\n",
      "Epoch 14/30\n",
      "819/819 [==============================] - 0s 347us/step - loss: 2.1144 - mse: 1.1857\n",
      "Epoch 15/30\n",
      "819/819 [==============================] - 0s 347us/step - loss: 2.1144 - mse: 1.1857\n",
      "Epoch 16/30\n",
      "819/819 [==============================] - 0s 352us/step - loss: 2.1144 - mse: 1.1857\n",
      "Epoch 17/30\n",
      "819/819 [==============================] - 0s 339us/step - loss: 2.1144 - mse: 1.1857\n",
      "Epoch 18/30\n",
      "819/819 [==============================] - 0s 356us/step - loss: 2.1144 - mse: 1.1857\n",
      "Epoch 19/30\n",
      "819/819 [==============================] - 0s 342us/step - loss: 2.1144 - mse: 1.1857\n",
      "Epoch 20/30\n",
      "819/819 [==============================] - 0s 356us/step - loss: 2.1144 - mse: 1.1857\n",
      "Epoch 21/30\n",
      "819/819 [==============================] - 0s 343us/step - loss: 2.1144 - mse: 1.1857\n",
      "Epoch 22/30\n",
      "819/819 [==============================] - 0s 349us/step - loss: 2.1144 - mse: 1.1857\n",
      "Epoch 23/30\n",
      "819/819 [==============================] - 0s 357us/step - loss: 2.1144 - mse: 1.1857\n",
      "Epoch 24/30\n",
      "819/819 [==============================] - 0s 338us/step - loss: 2.1144 - mse: 1.1857\n",
      "Epoch 25/30\n",
      "819/819 [==============================] - 0s 352us/step - loss: 2.1144 - mse: 1.1857\n",
      "Epoch 26/30\n",
      "819/819 [==============================] - 0s 338us/step - loss: 2.1144 - mse: 1.1857\n",
      "Epoch 27/30\n",
      "819/819 [==============================] - 0s 348us/step - loss: 2.1144 - mse: 1.1857\n",
      "Epoch 28/30\n",
      "819/819 [==============================] - 0s 422us/step - loss: 2.1144 - mse: 1.1857\n",
      "Epoch 29/30\n",
      "819/819 [==============================] - 0s 357us/step - loss: 2.1144 - mse: 1.1857\n",
      "Epoch 30/30\n",
      "819/819 [==============================] - 0s 399us/step - loss: 2.1144 - mse: 1.1857\n"
     ]
    },
    {
     "data": {
      "text/plain": [
       "<tensorflow.python.keras.callbacks.History at 0x7fa47c231b50>"
      ]
     },
     "execution_count": 23,
     "metadata": {},
     "output_type": "execute_result"
    }
   ],
   "source": [
    "# fit the model and calculate the MSE\n",
    "#mean_squared_error(...\n",
    "\n",
    "keras_ridge_reg.fit(x_train,y_train, batch_size=1, epochs=30, shuffle=False)"
   ]
  },
  {
   "cell_type": "code",
   "execution_count": 24,
   "metadata": {},
   "outputs": [
    {
     "data": {
      "text/plain": [
       "1.413923669828445"
      ]
     },
     "execution_count": 24,
     "metadata": {},
     "output_type": "execute_result"
    }
   ],
   "source": [
    "((keras_ridge_reg.predict(x_test).squeeze()-y_test)**2).mean()"
   ]
  },
  {
   "cell_type": "code",
   "execution_count": 25,
   "metadata": {},
   "outputs": [
    {
     "data": {
      "text/html": [
       "<div>\n",
       "<style scoped>\n",
       "    .dataframe tbody tr th:only-of-type {\n",
       "        vertical-align: middle;\n",
       "    }\n",
       "\n",
       "    .dataframe tbody tr th {\n",
       "        vertical-align: top;\n",
       "    }\n",
       "\n",
       "    .dataframe thead th {\n",
       "        text-align: right;\n",
       "    }\n",
       "</style>\n",
       "<table border=\"1\" class=\"dataframe\">\n",
       "  <thead>\n",
       "    <tr style=\"text-align: right;\">\n",
       "      <th></th>\n",
       "      <th>keras ridge coefficients</th>\n",
       "      <th>real coefficients</th>\n",
       "    </tr>\n",
       "  </thead>\n",
       "  <tbody>\n",
       "    <tr>\n",
       "      <th>0</th>\n",
       "      <td>-0.511769</td>\n",
       "      <td>-1.20</td>\n",
       "    </tr>\n",
       "    <tr>\n",
       "      <th>1</th>\n",
       "      <td>2.228303</td>\n",
       "      <td>5.00</td>\n",
       "    </tr>\n",
       "    <tr>\n",
       "      <th>2</th>\n",
       "      <td>-0.065897</td>\n",
       "      <td>0.00</td>\n",
       "    </tr>\n",
       "    <tr>\n",
       "      <th>3</th>\n",
       "      <td>0.279004</td>\n",
       "      <td>0.22</td>\n",
       "    </tr>\n",
       "    <tr>\n",
       "      <th>4</th>\n",
       "      <td>0.957788</td>\n",
       "      <td>2.00</td>\n",
       "    </tr>\n",
       "    <tr>\n",
       "      <th>5</th>\n",
       "      <td>0.057730</td>\n",
       "      <td>0.00</td>\n",
       "    </tr>\n",
       "    <tr>\n",
       "      <th>6</th>\n",
       "      <td>1.743319</td>\n",
       "      <td>4.00</td>\n",
       "    </tr>\n",
       "  </tbody>\n",
       "</table>\n",
       "</div>"
      ],
      "text/plain": [
       "   keras ridge coefficients  real coefficients\n",
       "0                 -0.511769              -1.20\n",
       "1                  2.228303               5.00\n",
       "2                 -0.065897               0.00\n",
       "3                  0.279004               0.22\n",
       "4                  0.957788               2.00\n",
       "5                  0.057730               0.00\n",
       "6                  1.743319               4.00"
      ]
     },
     "execution_count": 25,
     "metadata": {},
     "output_type": "execute_result"
    }
   ],
   "source": [
    "# find the coefficients and compare them to the real ones\n",
    "keras_ridge_coefs = keras_ridge_reg.get_weights()[0].squeeze()\n",
    "pd.Series(keras_ridge_coefs, name='keras ridge coefficients').to_frame().join(pd.Series(coefs, name='real coefficients'))"
   ]
  },
  {
   "cell_type": "code",
   "execution_count": 27,
   "metadata": {},
   "outputs": [
    {
     "data": {
      "text/html": [
       "<div>\n",
       "<style scoped>\n",
       "    .dataframe tbody tr th:only-of-type {\n",
       "        vertical-align: middle;\n",
       "    }\n",
       "\n",
       "    .dataframe tbody tr th {\n",
       "        vertical-align: top;\n",
       "    }\n",
       "\n",
       "    .dataframe thead th {\n",
       "        text-align: right;\n",
       "    }\n",
       "</style>\n",
       "<table border=\"1\" class=\"dataframe\">\n",
       "  <thead>\n",
       "    <tr style=\"text-align: right;\">\n",
       "      <th></th>\n",
       "      <th>ridge coefficients</th>\n",
       "      <th>real coefficients</th>\n",
       "    </tr>\n",
       "  </thead>\n",
       "  <tbody>\n",
       "    <tr>\n",
       "      <th>0</th>\n",
       "      <td>-0.508815</td>\n",
       "      <td>-1.20</td>\n",
       "    </tr>\n",
       "    <tr>\n",
       "      <th>1</th>\n",
       "      <td>1.971441</td>\n",
       "      <td>5.00</td>\n",
       "    </tr>\n",
       "    <tr>\n",
       "      <th>2</th>\n",
       "      <td>-0.039309</td>\n",
       "      <td>0.00</td>\n",
       "    </tr>\n",
       "    <tr>\n",
       "      <th>3</th>\n",
       "      <td>0.153691</td>\n",
       "      <td>0.22</td>\n",
       "    </tr>\n",
       "    <tr>\n",
       "      <th>4</th>\n",
       "      <td>0.806373</td>\n",
       "      <td>2.00</td>\n",
       "    </tr>\n",
       "    <tr>\n",
       "      <th>5</th>\n",
       "      <td>0.031258</td>\n",
       "      <td>0.00</td>\n",
       "    </tr>\n",
       "    <tr>\n",
       "      <th>6</th>\n",
       "      <td>1.579309</td>\n",
       "      <td>4.00</td>\n",
       "    </tr>\n",
       "  </tbody>\n",
       "</table>\n",
       "</div>"
      ],
      "text/plain": [
       "   ridge coefficients  real coefficients\n",
       "0           -0.508815              -1.20\n",
       "1            1.971441               5.00\n",
       "2           -0.039309               0.00\n",
       "3            0.153691               0.22\n",
       "4            0.806373               2.00\n",
       "5            0.031258               0.00\n",
       "6            1.579309               4.00"
      ]
     },
     "execution_count": 27,
     "metadata": {},
     "output_type": "execute_result"
    }
   ],
   "source": [
    "from sklearn.linear_model import Ridge\n",
    "\n",
    "ridge = Ridge(alpha=100)\n",
    "ridge.fit(x_train, y_train)\n",
    "pd.Series(ridge.coef_, name='ridge coefficients').to_frame().join(pd.Series(coefs, name='real coefficients'))"
   ]
  },
  {
   "cell_type": "code",
   "execution_count": 28,
   "metadata": {},
   "outputs": [
    {
     "data": {
      "text/html": [
       "<div>\n",
       "<style scoped>\n",
       "    .dataframe tbody tr th:only-of-type {\n",
       "        vertical-align: middle;\n",
       "    }\n",
       "\n",
       "    .dataframe tbody tr th {\n",
       "        vertical-align: top;\n",
       "    }\n",
       "\n",
       "    .dataframe thead th {\n",
       "        text-align: right;\n",
       "    }\n",
       "</style>\n",
       "<table border=\"1\" class=\"dataframe\">\n",
       "  <thead>\n",
       "    <tr style=\"text-align: right;\">\n",
       "      <th></th>\n",
       "      <th>ridge coefs</th>\n",
       "      <th>keras L2 coefs</th>\n",
       "      <th>real coefs</th>\n",
       "    </tr>\n",
       "  </thead>\n",
       "  <tbody>\n",
       "    <tr>\n",
       "      <th>0</th>\n",
       "      <td>-0.508815</td>\n",
       "      <td>-0.511769</td>\n",
       "      <td>-1.20</td>\n",
       "    </tr>\n",
       "    <tr>\n",
       "      <th>1</th>\n",
       "      <td>1.971441</td>\n",
       "      <td>2.228303</td>\n",
       "      <td>5.00</td>\n",
       "    </tr>\n",
       "    <tr>\n",
       "      <th>2</th>\n",
       "      <td>-0.039309</td>\n",
       "      <td>-0.065897</td>\n",
       "      <td>0.00</td>\n",
       "    </tr>\n",
       "    <tr>\n",
       "      <th>3</th>\n",
       "      <td>0.153691</td>\n",
       "      <td>0.279004</td>\n",
       "      <td>0.22</td>\n",
       "    </tr>\n",
       "    <tr>\n",
       "      <th>4</th>\n",
       "      <td>0.806373</td>\n",
       "      <td>0.957788</td>\n",
       "      <td>2.00</td>\n",
       "    </tr>\n",
       "    <tr>\n",
       "      <th>5</th>\n",
       "      <td>0.031258</td>\n",
       "      <td>0.057730</td>\n",
       "      <td>0.00</td>\n",
       "    </tr>\n",
       "    <tr>\n",
       "      <th>6</th>\n",
       "      <td>1.579309</td>\n",
       "      <td>1.743319</td>\n",
       "      <td>4.00</td>\n",
       "    </tr>\n",
       "  </tbody>\n",
       "</table>\n",
       "</div>"
      ],
      "text/plain": [
       "   ridge coefs  keras L2 coefs  real coefs\n",
       "0    -0.508815       -0.511769       -1.20\n",
       "1     1.971441        2.228303        5.00\n",
       "2    -0.039309       -0.065897        0.00\n",
       "3     0.153691        0.279004        0.22\n",
       "4     0.806373        0.957788        2.00\n",
       "5     0.031258        0.057730        0.00\n",
       "6     1.579309        1.743319        4.00"
      ]
     },
     "execution_count": 28,
     "metadata": {},
     "output_type": "execute_result"
    }
   ],
   "source": [
    "# compare coefficients from various methods\n",
    "pd.concat([\n",
    "    pd.Series(ridge.coef_, name='ridge coefs'),\n",
    "    pd.Series(keras_ridge_coefs, name='keras L2 coefs'),\n",
    "    pd.Series(coefs, name='real coefs')\n",
    "], axis=1)"
   ]
  },
  {
   "cell_type": "code",
   "execution_count": null,
   "metadata": {},
   "outputs": [],
   "source": []
  },
  {
   "cell_type": "markdown",
   "metadata": {},
   "source": [
    "## In fact, given the zero coefficients, LASSO might have been a better model. \n",
    "## LASSO uses $L_{1}$ regularization which will make sparse coefficients (some are zero)."
   ]
  },
  {
   "cell_type": "code",
   "execution_count": 31,
   "metadata": {},
   "outputs": [
    {
     "data": {
      "text/html": [
       "<div>\n",
       "<style scoped>\n",
       "    .dataframe tbody tr th:only-of-type {\n",
       "        vertical-align: middle;\n",
       "    }\n",
       "\n",
       "    .dataframe tbody tr th {\n",
       "        vertical-align: top;\n",
       "    }\n",
       "\n",
       "    .dataframe thead th {\n",
       "        text-align: right;\n",
       "    }\n",
       "</style>\n",
       "<table border=\"1\" class=\"dataframe\">\n",
       "  <thead>\n",
       "    <tr style=\"text-align: right;\">\n",
       "      <th></th>\n",
       "      <th>lasso coefficients</th>\n",
       "      <th>real coefficients</th>\n",
       "    </tr>\n",
       "  </thead>\n",
       "  <tbody>\n",
       "    <tr>\n",
       "      <th>0</th>\n",
       "      <td>-0.031109</td>\n",
       "      <td>-1.20</td>\n",
       "    </tr>\n",
       "    <tr>\n",
       "      <th>1</th>\n",
       "      <td>3.776059</td>\n",
       "      <td>5.00</td>\n",
       "    </tr>\n",
       "    <tr>\n",
       "      <th>2</th>\n",
       "      <td>-0.000000</td>\n",
       "      <td>0.00</td>\n",
       "    </tr>\n",
       "    <tr>\n",
       "      <th>3</th>\n",
       "      <td>0.000000</td>\n",
       "      <td>0.22</td>\n",
       "    </tr>\n",
       "    <tr>\n",
       "      <th>4</th>\n",
       "      <td>0.821852</td>\n",
       "      <td>2.00</td>\n",
       "    </tr>\n",
       "    <tr>\n",
       "      <th>5</th>\n",
       "      <td>0.000000</td>\n",
       "      <td>0.00</td>\n",
       "    </tr>\n",
       "    <tr>\n",
       "      <th>6</th>\n",
       "      <td>2.716029</td>\n",
       "      <td>4.00</td>\n",
       "    </tr>\n",
       "  </tbody>\n",
       "</table>\n",
       "</div>"
      ],
      "text/plain": [
       "   lasso coefficients  real coefficients\n",
       "0           -0.031109              -1.20\n",
       "1            3.776059               5.00\n",
       "2           -0.000000               0.00\n",
       "3            0.000000               0.22\n",
       "4            0.821852               2.00\n",
       "5            0.000000               0.00\n",
       "6            2.716029               4.00"
      ]
     },
     "execution_count": 31,
     "metadata": {},
     "output_type": "execute_result"
    }
   ],
   "source": [
    "from sklearn.linear_model import Lasso\n",
    "\n",
    "lasso = Lasso(alpha=0.1)\n",
    "lasso.fit(x_train, y_train)\n",
    "lasso_coefs = lasso.coef_\n",
    "pd.Series(lasso_coefs, name='lasso coefficients').to_frame().join(pd.Series(coefs, name='real coefficients'))"
   ]
  },
  {
   "cell_type": "code",
   "execution_count": 33,
   "metadata": {},
   "outputs": [],
   "source": [
    "regularizer = l1_l2(l1=0.1, l2=0)  # to be removed\n",
    "\n",
    "preds_lasso = Dense(1, activation='linear', kernel_regularizer=regularizer)(input_data)\n",
    "\n",
    "#keras_lasso_model = ...\n",
    "keras_lasso_model = Model(inputs=input_data, outputs=preds_lasso)\n",
    "sgd=SGD()\n",
    "# don't forget to compile model here\n",
    "keras_lasso_model.compile(optimizer=sgd ,loss='mse',metrics=['mse'])"
   ]
  },
  {
   "cell_type": "code",
   "execution_count": 34,
   "metadata": {},
   "outputs": [
    {
     "name": "stdout",
     "output_type": "stream",
     "text": [
      "Epoch 1/30\n",
      "819/819 [==============================] - 0s 346us/step - loss: 2.2106 - mse: 1.5225\n",
      "Epoch 2/30\n",
      "819/819 [==============================] - 0s 348us/step - loss: 1.1782 - mse: 0.3303\n",
      "Epoch 3/30\n",
      "819/819 [==============================] - 0s 358us/step - loss: 1.1250 - mse: 0.1965\n",
      "Epoch 4/30\n",
      "819/819 [==============================] - 0s 386us/step - loss: 1.1145 - mse: 0.1564\n",
      "Epoch 5/30\n",
      "819/819 [==============================] - 0s 401us/step - loss: 1.1118 - mse: 0.1415\n",
      "Epoch 6/30\n",
      "819/819 [==============================] - 0s 387us/step - loss: 1.1111 - mse: 0.1351\n",
      "Epoch 7/30\n",
      "819/819 [==============================] - 0s 348us/step - loss: 1.1108 - mse: 0.1322\n",
      "Epoch 8/30\n",
      "819/819 [==============================] - 0s 360us/step - loss: 1.1108 - mse: 0.1308\n",
      "Epoch 9/30\n",
      "819/819 [==============================] - 0s 344us/step - loss: 1.1107 - mse: 0.1301\n",
      "Epoch 10/30\n",
      "819/819 [==============================] - 0s 348us/step - loss: 1.1107 - mse: 0.1298\n",
      "Epoch 11/30\n",
      "819/819 [==============================] - 0s 343us/step - loss: 1.1107 - mse: 0.1295\n",
      "Epoch 12/30\n",
      "819/819 [==============================] - 0s 345us/step - loss: 1.1107 - mse: 0.1295\n",
      "Epoch 13/30\n",
      "819/819 [==============================] - 0s 341us/step - loss: 1.1107 - mse: 0.1294\n",
      "Epoch 14/30\n",
      "819/819 [==============================] - 0s 347us/step - loss: 1.1107 - mse: 0.1294\n",
      "Epoch 15/30\n",
      "819/819 [==============================] - 0s 346us/step - loss: 1.1107 - mse: 0.1294\n",
      "Epoch 16/30\n",
      "819/819 [==============================] - 0s 341us/step - loss: 1.1107 - mse: 0.1294\n",
      "Epoch 17/30\n",
      "819/819 [==============================] - 0s 339us/step - loss: 1.1107 - mse: 0.1294\n",
      "Epoch 18/30\n",
      "819/819 [==============================] - 0s 341us/step - loss: 1.1107 - mse: 0.1294\n",
      "Epoch 19/30\n",
      "819/819 [==============================] - 0s 347us/step - loss: 1.1107 - mse: 0.1293\n",
      "Epoch 20/30\n",
      "819/819 [==============================] - 0s 342us/step - loss: 1.1107 - mse: 0.1293\n",
      "Epoch 21/30\n",
      "819/819 [==============================] - 0s 340us/step - loss: 1.1107 - mse: 0.1293\n",
      "Epoch 22/30\n",
      "819/819 [==============================] - 0s 349us/step - loss: 1.1107 - mse: 0.1293\n",
      "Epoch 23/30\n",
      "819/819 [==============================] - 0s 352us/step - loss: 1.1107 - mse: 0.1293\n",
      "Epoch 24/30\n",
      "819/819 [==============================] - 0s 344us/step - loss: 1.1107 - mse: 0.1294\n",
      "Epoch 25/30\n",
      "819/819 [==============================] - 0s 342us/step - loss: 1.1107 - mse: 0.1293\n",
      "Epoch 26/30\n",
      "819/819 [==============================] - 0s 361us/step - loss: 1.1107 - mse: 0.1294\n",
      "Epoch 27/30\n",
      "819/819 [==============================] - 0s 370us/step - loss: 1.1107 - mse: 0.1293\n",
      "Epoch 28/30\n",
      "819/819 [==============================] - 0s 359us/step - loss: 1.1107 - mse: 0.1294\n",
      "Epoch 29/30\n",
      "819/819 [==============================] - 0s 348us/step - loss: 1.1107 - mse: 0.1293\n",
      "Epoch 30/30\n",
      "819/819 [==============================] - 0s 350us/step - loss: 1.1107 - mse: 0.1294\n"
     ]
    },
    {
     "data": {
      "text/plain": [
       "<tensorflow.python.keras.callbacks.History at 0x7fa480ede4d0>"
      ]
     },
     "execution_count": 34,
     "metadata": {},
     "output_type": "execute_result"
    }
   ],
   "source": [
    "keras_lasso_model.fit(x_train,y_train, batch_size=1, epochs=30, shuffle=False)"
   ]
  },
  {
   "cell_type": "code",
   "execution_count": 37,
   "metadata": {},
   "outputs": [
    {
     "data": {
      "text/plain": [
       "LinearRegression(copy_X=True, fit_intercept=True, n_jobs=None, normalize=False)"
      ]
     },
     "execution_count": 37,
     "metadata": {},
     "output_type": "execute_result"
    }
   ],
   "source": [
    "keras_lasso_coefs = keras_lasso_model.get_weights()[0].squeeze()\n",
    "\n",
    "from sklearn.linear_model import LinearRegression\n",
    "\n",
    "lin_reg = LinearRegression()\n",
    "lin_reg.fit(x_train, y_train)"
   ]
  },
  {
   "cell_type": "code",
   "execution_count": 38,
   "metadata": {},
   "outputs": [
    {
     "data": {
      "text/html": [
       "<div>\n",
       "<style scoped>\n",
       "    .dataframe tbody tr th:only-of-type {\n",
       "        vertical-align: middle;\n",
       "    }\n",
       "\n",
       "    .dataframe tbody tr th {\n",
       "        vertical-align: top;\n",
       "    }\n",
       "\n",
       "    .dataframe thead th {\n",
       "        text-align: right;\n",
       "    }\n",
       "</style>\n",
       "<table border=\"1\" class=\"dataframe\">\n",
       "  <thead>\n",
       "    <tr style=\"text-align: right;\">\n",
       "      <th></th>\n",
       "      <th>ridge coefs</th>\n",
       "      <th>keras L2 coefs</th>\n",
       "      <th>lasso coefs</th>\n",
       "      <th>keras L1 coefs</th>\n",
       "      <th>ols coefs</th>\n",
       "      <th>real coefs</th>\n",
       "    </tr>\n",
       "  </thead>\n",
       "  <tbody>\n",
       "    <tr>\n",
       "      <th>0</th>\n",
       "      <td>-0.508815</td>\n",
       "      <td>-0.511769</td>\n",
       "      <td>-0.031109</td>\n",
       "      <td>-0.601770</td>\n",
       "      <td>-1.201166</td>\n",
       "      <td>-1.20</td>\n",
       "    </tr>\n",
       "    <tr>\n",
       "      <th>1</th>\n",
       "      <td>1.971441</td>\n",
       "      <td>2.228303</td>\n",
       "      <td>3.776059</td>\n",
       "      <td>4.397878</td>\n",
       "      <td>5.001153</td>\n",
       "      <td>5.00</td>\n",
       "    </tr>\n",
       "    <tr>\n",
       "      <th>2</th>\n",
       "      <td>-0.039309</td>\n",
       "      <td>-0.065897</td>\n",
       "      <td>-0.000000</td>\n",
       "      <td>-0.002434</td>\n",
       "      <td>-0.000442</td>\n",
       "      <td>0.00</td>\n",
       "    </tr>\n",
       "    <tr>\n",
       "      <th>3</th>\n",
       "      <td>0.153691</td>\n",
       "      <td>0.279004</td>\n",
       "      <td>0.000000</td>\n",
       "      <td>0.007044</td>\n",
       "      <td>0.221309</td>\n",
       "      <td>0.22</td>\n",
       "    </tr>\n",
       "    <tr>\n",
       "      <th>4</th>\n",
       "      <td>0.806373</td>\n",
       "      <td>0.957788</td>\n",
       "      <td>0.821852</td>\n",
       "      <td>1.426185</td>\n",
       "      <td>2.002509</td>\n",
       "      <td>2.00</td>\n",
       "    </tr>\n",
       "    <tr>\n",
       "      <th>5</th>\n",
       "      <td>0.031258</td>\n",
       "      <td>0.057730</td>\n",
       "      <td>0.000000</td>\n",
       "      <td>0.003806</td>\n",
       "      <td>-0.001575</td>\n",
       "      <td>0.00</td>\n",
       "    </tr>\n",
       "    <tr>\n",
       "      <th>6</th>\n",
       "      <td>1.579309</td>\n",
       "      <td>1.743319</td>\n",
       "      <td>2.716029</td>\n",
       "      <td>3.347537</td>\n",
       "      <td>3.999651</td>\n",
       "      <td>4.00</td>\n",
       "    </tr>\n",
       "  </tbody>\n",
       "</table>\n",
       "</div>"
      ],
      "text/plain": [
       "   ridge coefs  keras L2 coefs  lasso coefs  keras L1 coefs  ols coefs  \\\n",
       "0    -0.508815       -0.511769    -0.031109       -0.601770  -1.201166   \n",
       "1     1.971441        2.228303     3.776059        4.397878   5.001153   \n",
       "2    -0.039309       -0.065897    -0.000000       -0.002434  -0.000442   \n",
       "3     0.153691        0.279004     0.000000        0.007044   0.221309   \n",
       "4     0.806373        0.957788     0.821852        1.426185   2.002509   \n",
       "5     0.031258        0.057730     0.000000        0.003806  -0.001575   \n",
       "6     1.579309        1.743319     2.716029        3.347537   3.999651   \n",
       "\n",
       "   real coefs  \n",
       "0       -1.20  \n",
       "1        5.00  \n",
       "2        0.00  \n",
       "3        0.22  \n",
       "4        2.00  \n",
       "5        0.00  \n",
       "6        4.00  "
      ]
     },
     "execution_count": 38,
     "metadata": {},
     "output_type": "execute_result"
    }
   ],
   "source": [
    "# compare all the coefficients\n",
    "pd.concat([\n",
    "    pd.Series(ridge.coef_, name='ridge coefs'),\n",
    "    pd.Series(keras_ridge_coefs, name='keras L2 coefs'),\n",
    "    pd.Series(lasso.coef_, name='lasso coefs'),\n",
    "    pd.Series(keras_lasso_coefs, name='keras L1 coefs'),\n",
    "    pd.Series(lin_reg.coef_, name='ols coefs'),\n",
    "    pd.Series(coefs, name='real coefs'),\n",
    "], axis=1)"
   ]
  },
  {
   "cell_type": "markdown",
   "metadata": {},
   "source": [
    "## Comment on the results"
   ]
  },
  {
   "cell_type": "markdown",
   "metadata": {},
   "source": [
    "In general, OLS coefficients are the closest to real coefficients.\\\n",
    "Lasso regression generally gets better result compared to OLS ridge regression when the coefficients are 0.\\\n",
    "The results from keras and scikit learn are different mainly because differences in optimization methods."
   ]
  },
  {
   "cell_type": "code",
   "execution_count": null,
   "metadata": {},
   "outputs": [],
   "source": [
    "# Safe to restart here"
   ]
  },
  {
   "cell_type": "code",
   "execution_count": null,
   "metadata": {},
   "outputs": [],
   "source": []
  },
  {
   "cell_type": "markdown",
   "metadata": {},
   "source": [
    "# Problem 4: Custom Loss Functions (10%)\n",
    "### In this problem we will explore the use of custom loss function to better capture desired behavior in a model.\n",
    "### In particular, we will examine the tradeoff between false positives and true positives"
   ]
  },
  {
   "cell_type": "code",
   "execution_count": null,
   "metadata": {},
   "outputs": [],
   "source": [
    "# safe to restart here"
   ]
  },
  {
   "cell_type": "code",
   "execution_count": 1,
   "metadata": {},
   "outputs": [
    {
     "name": "stdout",
     "output_type": "stream",
     "text": [
      "Populating the interactive namespace from numpy and matplotlib\n"
     ]
    }
   ],
   "source": [
    "import numpy as np\n",
    "import pandas as pd\n",
    "%pylab inline\n",
    "\n",
    "# many of these to be removed\n",
    "# Insert necessary imports here"
   ]
  },
  {
   "cell_type": "markdown",
   "metadata": {},
   "source": [
    "## Part 0: Data preparation\n",
    " - ### Load the `mnist` data and subset the data only to the classes `4` and `9`\n",
    " - ### This way we have a binary classification task for simplicity"
   ]
  },
  {
   "cell_type": "code",
   "execution_count": 2,
   "metadata": {},
   "outputs": [
    {
     "name": "stderr",
     "output_type": "stream",
     "text": [
      "Using TensorFlow backend.\n"
     ]
    },
    {
     "name": "stdout",
     "output_type": "stream",
     "text": [
      "(1991, 784)\n"
     ]
    }
   ],
   "source": [
    "from keras.utils import to_categorical\n",
    "from keras.datasets import mnist\n",
    "\n",
    "def preprocess_training_data(data):\n",
    "    data = data.reshape(data.shape[0], data.shape[1] * data.shape[2])\n",
    "    data = data.astype('float32') / 255\n",
    "    return data\n",
    "\n",
    "def preprocess_targets(target, num_classes):\n",
    "    return to_categorical(target, num_classes)\n",
    "\n",
    "\n",
    "def subset_to_9_and_4(x, y):  # this is a new function\n",
    "    # insert code here:\n",
    "    # new_x should be x where y is either 4 or 9\n",
    "    # new_y should be true if y == 4 and False is y = 9\n",
    "    \n",
    "    indices = (y==4)+(y==9)\n",
    "    new_x = x[indices, :]\n",
    "    new_y = y[indices]\n",
    "    \n",
    "    new_y = (new_y < 9).astype(np.float32)\n",
    "    \n",
    "    return new_x, new_y\n",
    "\n",
    "(x_train, y_train), (x_test, y_test) = mnist.load_data()\n",
    "\n",
    "x_train = preprocess_training_data(x_train)\n",
    "x_test = preprocess_training_data(x_test)\n",
    "\n",
    "num_classes = np.unique(y_train).shape[0]\n",
    "\n",
    "y_train_ohe = preprocess_targets(y_train, num_classes)\n",
    "y_test_ohe = preprocess_targets(y_test, num_classes)\n",
    "\n",
    "\n",
    "x_train, y_train = subset_to_9_and_4(x_train, y_train)\n",
    "x_test, y_test = subset_to_9_and_4(x_test, y_test)\n",
    "\n",
    "print(x_test.shape)"
   ]
  },
  {
   "cell_type": "code",
   "execution_count": 126,
   "metadata": {},
   "outputs": [
    {
     "data": {
      "text/plain": [
       "(1991, 784)"
      ]
     },
     "execution_count": 126,
     "metadata": {},
     "output_type": "execute_result"
    }
   ],
   "source": []
  },
  {
   "cell_type": "markdown",
   "metadata": {},
   "source": [
    "## Part 1: fit logistic regression in `scikit-learn` and compute the true positive and false positive rates"
   ]
  },
  {
   "cell_type": "code",
   "execution_count": 3,
   "metadata": {},
   "outputs": [
    {
     "name": "stdout",
     "output_type": "stream",
     "text": [
      "Wall time: 1.08 s\n"
     ]
    },
    {
     "data": {
      "text/plain": [
       "LogisticRegression(solver='liblinear')"
      ]
     },
     "execution_count": 3,
     "metadata": {},
     "output_type": "execute_result"
    }
   ],
   "source": [
    "%%time\n",
    "# insert code here\n",
    "from sklearn.linear_model import LogisticRegression\n",
    "\n",
    "lr = LogisticRegression(solver='liblinear')\n",
    "lr.fit(x_train, y_train)"
   ]
  },
  {
   "cell_type": "code",
   "execution_count": 4,
   "metadata": {},
   "outputs": [],
   "source": [
    "y_pred = lr.predict(x_test)\n",
    "y_pred = (y_pred > 0.5).astype(int)\n",
    "y_test = (y_test > 0.5).astype(int)"
   ]
  },
  {
   "cell_type": "code",
   "execution_count": 6,
   "metadata": {},
   "outputs": [
    {
     "data": {
      "text/plain": [
       "array([1, 1, 0, ..., 1, 0, 1])"
      ]
     },
     "execution_count": 6,
     "metadata": {},
     "output_type": "execute_result"
    }
   ],
   "source": [
    "y_pred"
   ]
  },
  {
   "cell_type": "code",
   "execution_count": 5,
   "metadata": {},
   "outputs": [
    {
     "name": "stdout",
     "output_type": "stream",
     "text": [
      "false positive rate 0.015\n",
      "false negative rate 0.013\n"
     ]
    }
   ],
   "source": [
    "# put your code here\n",
    "total_predicted_pos = y_pred.sum()\n",
    "total_true_pos = y_test.sum()\n",
    "correct_predicted_pos = (y_pred&y_test).sum()\n",
    "\n",
    "total_predictions = y_pred.shape[0]\n",
    "\n",
    "tpr =  (y_pred&y_test).sum()/total_predictions\n",
    "fpr =  (y_pred&(1-y_test)).sum()/total_predictions\n",
    "fnr =  ((1-y_pred)&y_test).sum()/total_predictions\n",
    "tnr =  ((1-y_pred)&(1-y_test)).sum()/total_predictions\n",
    "print('false positive rate {:.3f}'.format(fpr))\n",
    "print('false negative rate {:.3f}'.format(fnr))"
   ]
  },
  {
   "cell_type": "code",
   "execution_count": 131,
   "metadata": {},
   "outputs": [
    {
     "data": {
      "text/plain": [
       "0.9718734304369664"
      ]
     },
     "execution_count": 131,
     "metadata": {},
     "output_type": "execute_result"
    }
   ],
   "source": [
    "tpr+tnr"
   ]
  },
  {
   "cell_type": "markdown",
   "metadata": {},
   "source": [
    "## Part 2: A custom loss function\n",
    "### Write a function that returns a custom loss function\n",
    "### As a shortcut, we can modify the loss function to be\n",
    "### $J(\\theta )$=`regular crossentropy `  $\\times$  $\\alpha$ \n",
    "\n",
    "### where \n",
    " - ### $\\alpha=$ 1 + `weight_factor` (a number greater than 0) for the positive class (`y=1`)\n",
    " - ### $\\alpha=$ `1` for the negative class (`y=0`)\n",
    "\n",
    "### Like this we can over weight how much we care about positive examples. \n",
    "\n",
    "# $ \\\\ $\n",
    "## Function\n",
    "### Inputs:\n",
    " - ### `weight_factor`: the multiplicative factor for how much to weight errors in the `1` class over `0`\n",
    "\n",
    "### Output:\n",
    " - ### a function that has inputs `(y_true, y_pred)` that is a viable keras loss function. \n"
   ]
  },
  {
   "cell_type": "code",
   "execution_count": 20,
   "metadata": {},
   "outputs": [],
   "source": [
    "from keras.objectives import binary_crossentropy\n",
    "# def get_loss_function(weight_factor):\n",
    "#     def my_cross_entropy(y_true, y_pred):\n",
    "#         #insert code here\n",
    "#         alpha = y_pred * weight_factor + 1\n",
    "#         y_pred = K.clip(y_pred, 1e-12, 1. - 1e-12)\n",
    "# #         num_datapoints = y_pred.shape[0]\n",
    "        \n",
    "#         ce = -1 * K.mean(y_true*K.log(y_pred + 1e-9)*alpha)\n",
    "#         return ce\n",
    "#     return my_cross_entropy\n",
    "\n",
    "def get_loss_function(weight_factor):\n",
    "    def my_cross_entropy(y_true, y_pred):\n",
    "        #insert code here\n",
    "        b_ce = binary_crossentropy(y_true, y_pred)\n",
    "        \n",
    "        # Apply the weights\n",
    "        weight_vector = y_true * (1+weight_factor) + (1. - y_true)\n",
    "        weighted_b_ce = weight_vector * b_ce\n",
    "\n",
    "        # Return the mean error\n",
    "        return K.mean(weighted_b_ce)\n",
    "    return my_cross_entropy"
   ]
  },
  {
   "cell_type": "code",
   "execution_count": 21,
   "metadata": {},
   "outputs": [],
   "source": [
    "def cross_entropy(predictions, targets, epsilon=1e-12):\n",
    "    predictions = np.clip(predictions, epsilon, 1. - epsilon)\n",
    "    num_datapoints = predictions.shape[0]\n",
    "    ce = -1 * np.sum(targets*np.log(predictions + 1e-9)) / num_datapoints\n",
    "    return ce"
   ]
  },
  {
   "cell_type": "code",
   "execution_count": 22,
   "metadata": {},
   "outputs": [
    {
     "name": "stdout",
     "output_type": "stream",
     "text": [
      "tf.Tensor(6.12747, shape=(), dtype=float32)\n",
      "2.637912201205638\n"
     ]
    }
   ],
   "source": [
    "# test\n",
    "import tensorflow as tf\n",
    "np.random.seed(1)\n",
    "new_loss = get_loss_function(0)\n",
    "y1 = np.random.randn(30)\n",
    "y2 = np.random.randn(30)\n",
    "print(new_loss(y2, y1))\n",
    "print(cross_entropy(y1, y2))"
   ]
  },
  {
   "cell_type": "markdown",
   "metadata": {},
   "source": [
    "## Part 3: Fit Models with Different `weight_factors`\n",
    "## Steps\n",
    " - ### For values in `np.linspace(0, 20, 50)` fit logistic regression in keras.\n",
    " - ### For each model compute the true positive and false positive rate\n",
    " - ### Make a plot of true positives and false positives as a function of `weight_factor`\n",
    " - ### Make a plot of true positives as a function of false positives"
   ]
  },
  {
   "cell_type": "code",
   "execution_count": 3,
   "metadata": {},
   "outputs": [
    {
     "name": "stderr",
     "output_type": "stream",
     "text": [
      "Using TensorFlow backend.\n"
     ]
    },
    {
     "ename": "NameError",
     "evalue": "name 'y_train' is not defined",
     "output_type": "error",
     "traceback": [
      "\u001b[1;31m---------------------------------------------------------------------------\u001b[0m",
      "\u001b[1;31mNameError\u001b[0m                                 Traceback (most recent call last)",
      "\u001b[1;32m<ipython-input-3-eda3ede7698a>\u001b[0m in \u001b[0;36m<module>\u001b[1;34m\u001b[0m\n\u001b[0;32m      7\u001b[0m \u001b[0mTpr\u001b[0m \u001b[1;33m=\u001b[0m \u001b[1;33m[\u001b[0m\u001b[1;33m]\u001b[0m\u001b[1;33m\u001b[0m\u001b[0m\n\u001b[0;32m      8\u001b[0m \u001b[0mFpr\u001b[0m \u001b[1;33m=\u001b[0m \u001b[1;33m[\u001b[0m\u001b[1;33m]\u001b[0m\u001b[1;33m\u001b[0m\u001b[0m\n\u001b[1;32m----> 9\u001b[1;33m \u001b[0my_train\u001b[0m \u001b[1;33m=\u001b[0m \u001b[0my_train\u001b[0m\u001b[1;33m.\u001b[0m\u001b[0mastype\u001b[0m\u001b[1;33m(\u001b[0m\u001b[0mnp\u001b[0m\u001b[1;33m.\u001b[0m\u001b[0mfloat32\u001b[0m\u001b[1;33m)\u001b[0m\u001b[1;33m\u001b[0m\u001b[0m\n\u001b[0m\u001b[0;32m     10\u001b[0m \u001b[1;33m\u001b[0m\u001b[0m\n\u001b[0;32m     11\u001b[0m \u001b[1;32mfor\u001b[0m \u001b[0mwt\u001b[0m \u001b[1;32min\u001b[0m \u001b[0mnp\u001b[0m\u001b[1;33m.\u001b[0m\u001b[0mlinspace\u001b[0m\u001b[1;33m(\u001b[0m\u001b[1;36m0\u001b[0m\u001b[1;33m,\u001b[0m \u001b[1;36m20\u001b[0m\u001b[1;33m,\u001b[0m \u001b[1;36m50\u001b[0m\u001b[1;33m)\u001b[0m\u001b[1;33m:\u001b[0m\u001b[1;33m\u001b[0m\u001b[0m\n",
      "\u001b[1;31mNameError\u001b[0m: name 'y_train' is not defined"
     ]
    }
   ],
   "source": [
    "import keras.backend as K\n",
    "from keras.optimizers import Adam\n",
    "\n",
    "res = {}\n",
    "\n",
    "WT = []\n",
    "Tpr = []\n",
    "Fpr = []\n",
    "y_train = y_train.astype(np.float32)\n",
    "\n",
    "for wt in np.linspace(0, 20, 50):\n",
    "    K.clear_session()\n",
    "    digit_input = Input(shape=(x_train.shape[1],), name='digit_input')\n",
    "    output = Dense(1, activation='sigmoid')(digit_input)\n",
    "\n",
    "    model = Model(inputs=digit_input, outputs=output)\n",
    "    loss_function = get_loss_function(wt)\n",
    "    model.compile(optimizer = 'rmsprop', loss = loss_function) \n",
    "\n",
    "    \n",
    "    model.fit(x_train, y_train, batch_size=1, epochs=5, shuffle=False)\n",
    "    \n",
    "    # calculate metrics here and save them in `res`\n",
    "    y_pred = model.predict(x_test).squeeze()\n",
    "    y_pred = (y_pred > 0.5).astype(int)\n",
    "    y_test = (y_test > 0.5).astype(int)\n",
    "\n",
    "    total_predictions = y_pred.shape[0]\n",
    "\n",
    "    tpr =  (y_pred&y_test).sum()/total_predictions\n",
    "    fpr =  (y_pred&(1-y_test)).sum()/total_predictions\n",
    "\n",
    "    WT.append(wt)\n",
    "    Tpr.append(tpr)\n",
    "    Fpr.append(fpr)"
   ]
  },
  {
   "cell_type": "code",
   "execution_count": null,
   "metadata": {},
   "outputs": [],
   "source": []
  },
  {
   "cell_type": "code",
   "execution_count": null,
   "metadata": {},
   "outputs": [],
   "source": []
  },
  {
   "cell_type": "code",
   "execution_count": 198,
   "metadata": {},
   "outputs": [
    {
     "name": "stdout",
     "output_type": "stream",
     "text": [
      "\n"
     ]
    },
    {
     "data": {
      "image/png": "[encoded data removed]",
      "text/plain": [
       "<Figure size 864x576 with 1 Axes>"
      ]
     },
     "metadata": {
      "needs_background": "light"
     },
     "output_type": "display_data"
    }
   ],
   "source": [
    "# put plotting code here\n",
    "# true positive and false positives as a function of wt\n",
    "res = {\"WT\":WT, \"Tpr\": Tpr, \"Fpr\": Fpr}\n",
    "df = pd.DataFrame(res)\n",
    "df.set_index(\"WT\", inplace=True)\n",
    "ax = df['Tpr'].plot(figsize=(12,8), linewidth=4, markersize=14, fontsize=20)\n",
    "df['Fpr'].plot(ax=ax)\n",
    "plt.title('True Positive and False Positive', fontsize=20)\n",
    "plt.legend(fontsize=20)\n",
    "print()"
   ]
  },
  {
   "cell_type": "code",
   "execution_count": 200,
   "metadata": {},
   "outputs": [],
   "source": [
    "import matplotlib.pyplot as plt"
   ]
  },
  {
   "cell_type": "code",
   "execution_count": 242,
   "metadata": {},
   "outputs": [
    {
     "data": {
      "image/png": "[encoded data removed]",
      "text/plain": [
       "<Figure size 864x576 with 1 Axes>"
      ]
     },
     "metadata": {
      "needs_background": "light"
     },
     "output_type": "display_data"
    }
   ],
   "source": [
    "# true positives as a function of false positives\n",
    "x = np.array(df['Fpr'])\n",
    "y = np.array(df[\"Tpr\"])\n",
    "m, b = np.polyfit(x, y, 1)\n",
    "plt.plot(df['Fpr'], df[\"Tpr\"], 'o')\n",
    "plt.plot(x, m*x+b)\n",
    "plt.rcParams[\"figure.figsize\"] = (15,8)\n",
    "# plt.margins(-0.25)\n",
    "plt.show()"
   ]
  },
  {
   "cell_type": "code",
   "execution_count": null,
   "metadata": {
    "scrolled": false
   },
   "outputs": [],
   "source": []
  },
  {
   "cell_type": "markdown",
   "metadata": {},
   "source": [
    "## Part 4: Thresholding vs Loss Function\n",
    "### What is the difference between using regular crossentropy and changing thresholds vs changing the loss function? \n",
    "### Typically, we consider anything with a predicted probability of 0.5 or above to be a positive example. What if we change this number?\n",
    "\n",
    "## Steps:\n",
    " - ### Fit logistic regression in keras with the regular (crossentropy) loss function\n",
    " - ### Find the false positive and true positive rates as a function of the `threshold` for which we consider a positive example. \n",
    " - ### Make a plot of false positives as a function of true positives for this thresholding method.\n",
    " - ### On the same axes, plot the old curve of false positives as a function of true positives\n",
    " - ### Comment on what you find- what are the advantages and disadvantages of these two methods."
   ]
  },
  {
   "cell_type": "code",
   "execution_count": 2,
   "metadata": {},
   "outputs": [
    {
     "ename": "NameError",
     "evalue": "name 'K' is not defined",
     "output_type": "error",
     "traceback": [
      "\u001b[1;31m---------------------------------------------------------------------------\u001b[0m",
      "\u001b[1;31mNameError\u001b[0m                                 Traceback (most recent call last)",
      "\u001b[1;32m<ipython-input-2-01bb24d22785>\u001b[0m in \u001b[0;36m<module>\u001b[1;34m\u001b[0m\n\u001b[1;32m----> 1\u001b[1;33m \u001b[0mK\u001b[0m\u001b[1;33m.\u001b[0m\u001b[0mclear_session\u001b[0m\u001b[1;33m(\u001b[0m\u001b[1;33m)\u001b[0m\u001b[1;33m\u001b[0m\u001b[0m\n\u001b[0m\u001b[0;32m      2\u001b[0m \u001b[0mdigit_input\u001b[0m \u001b[1;33m=\u001b[0m \u001b[0mInput\u001b[0m\u001b[1;33m(\u001b[0m\u001b[0mshape\u001b[0m\u001b[1;33m=\u001b[0m\u001b[1;33m(\u001b[0m\u001b[0mx_train\u001b[0m\u001b[1;33m.\u001b[0m\u001b[0mshape\u001b[0m\u001b[1;33m[\u001b[0m\u001b[1;36m1\u001b[0m\u001b[1;33m]\u001b[0m\u001b[1;33m,\u001b[0m\u001b[1;33m)\u001b[0m\u001b[1;33m,\u001b[0m \u001b[0mname\u001b[0m\u001b[1;33m=\u001b[0m\u001b[1;34m'digit_input'\u001b[0m\u001b[1;33m)\u001b[0m\u001b[1;33m\u001b[0m\u001b[0m\n\u001b[0;32m      3\u001b[0m \u001b[1;31m# your code goes here\u001b[0m\u001b[1;33m\u001b[0m\u001b[1;33m\u001b[0m\u001b[0m\n\u001b[0;32m      4\u001b[0m \u001b[0moutput\u001b[0m \u001b[1;33m=\u001b[0m \u001b[0mDense\u001b[0m\u001b[1;33m(\u001b[0m\u001b[1;36m1\u001b[0m\u001b[1;33m,\u001b[0m \u001b[0mactivation\u001b[0m\u001b[1;33m=\u001b[0m\u001b[1;34m'sigmoid'\u001b[0m\u001b[1;33m)\u001b[0m\u001b[1;33m(\u001b[0m\u001b[0mdigit_input\u001b[0m\u001b[1;33m)\u001b[0m\u001b[1;33m\u001b[0m\u001b[0m\n\u001b[0;32m      5\u001b[0m \u001b[1;33m\u001b[0m\u001b[0m\n",
      "\u001b[1;31mNameError\u001b[0m: name 'K' is not defined"
     ]
    }
   ],
   "source": [
    "K.clear_session()\n",
    "digit_input = Input(shape=(x_train.shape[1],), name='digit_input')\n",
    "# your code goes here\n",
    "output = Dense(1, activation='sigmoid')(digit_input)\n",
    "\n",
    "model = Model(inputs=digit_input, outputs=output)\n",
    "\n",
    "model.compile(optimizer = 'rmsprop', loss = \"binary_crossentropy\")  \n",
    "\n",
    "model.fit(x_train, y_train, batch_size=1, epochs=5, shuffle=False)"
   ]
  },
  {
   "cell_type": "code",
   "execution_count": 1,
   "metadata": {},
   "outputs": [
    {
     "ename": "NameError",
     "evalue": "name 'model' is not defined",
     "output_type": "error",
     "traceback": [
      "\u001b[1;31m---------------------------------------------------------------------------\u001b[0m",
      "\u001b[1;31mNameError\u001b[0m                                 Traceback (most recent call last)",
      "\u001b[1;32m<ipython-input-1-0c83eaba0614>\u001b[0m in \u001b[0;36m<module>\u001b[1;34m\u001b[0m\n\u001b[1;32m----> 1\u001b[1;33m \u001b[0mpred_proba\u001b[0m \u001b[1;33m=\u001b[0m \u001b[0mmodel\u001b[0m\u001b[1;33m.\u001b[0m\u001b[0mpredict\u001b[0m\u001b[1;33m(\u001b[0m\u001b[0mx_test\u001b[0m\u001b[1;33m)\u001b[0m\u001b[1;33m.\u001b[0m\u001b[0msqueeze\u001b[0m\u001b[1;33m(\u001b[0m\u001b[1;33m)\u001b[0m\u001b[1;33m\u001b[0m\u001b[0m\n\u001b[0m\u001b[0;32m      2\u001b[0m \u001b[0mtotal_predictions\u001b[0m \u001b[1;33m=\u001b[0m \u001b[0mpred_proba\u001b[0m\u001b[1;33m.\u001b[0m\u001b[0mshape\u001b[0m\u001b[1;33m[\u001b[0m\u001b[1;36m0\u001b[0m\u001b[1;33m]\u001b[0m\u001b[1;33m\u001b[0m\u001b[0m\n\u001b[0;32m      3\u001b[0m \u001b[0mTpr_new\u001b[0m \u001b[1;33m=\u001b[0m \u001b[1;33m[\u001b[0m\u001b[1;33m]\u001b[0m\u001b[1;33m\u001b[0m\u001b[0m\n\u001b[0;32m      4\u001b[0m \u001b[0mFpr_new\u001b[0m \u001b[1;33m=\u001b[0m \u001b[1;33m[\u001b[0m\u001b[1;33m]\u001b[0m\u001b[1;33m\u001b[0m\u001b[0m\n\u001b[0;32m      5\u001b[0m \u001b[0mthresholds\u001b[0m \u001b[1;33m=\u001b[0m \u001b[1;33m[\u001b[0m\u001b[1;33m]\u001b[0m\u001b[1;33m\u001b[0m\u001b[0m\n",
      "\u001b[1;31mNameError\u001b[0m: name 'model' is not defined"
     ]
    }
   ],
   "source": [
    "pred_proba = model.predict(x_test).squeeze()\n",
    "total_predictions = pred_proba.shape[0]\n",
    "Tpr_new = []\n",
    "Fpr_new = []\n",
    "thresholds = []\n",
    "for threshold in np.linspace(0.01, 0.099, 50):\n",
    "    y_pred = (pred_proba > threshold).astype(int)\n",
    "    tpr =  (y_pred&y_test).sum()/total_predictions\n",
    "    fpr =  (y_pred&(1-y_test)).sum()/total_predictions\n",
    "    Tpr_new.append(tpr)\n",
    "    Fpr_new.append(fpr)\n",
    "    thresholds.append(threshold)\n",
    "\n",
    "result_all = {\"Threshold\": thresholds, \"Tpr_new\": Tpr_new, \"Fpr_new\": Fpr_new}"
   ]
  },
  {
   "cell_type": "code",
   "execution_count": null,
   "metadata": {},
   "outputs": [],
   "source": []
  },
  {
   "cell_type": "code",
   "execution_count": 243,
   "metadata": {},
   "outputs": [
    {
     "data": {
      "image/png": "[encoded data removed]",
      "text/plain": [
       "<Figure size 1080x576 with 1 Axes>"
      ]
     },
     "metadata": {
      "needs_background": "light"
     },
     "output_type": "display_data"
    }
   ],
   "source": [
    "# your code here\n",
    "df_new = pd.DataFrame(result_all)\n",
    "x2 = np.array(df_new['Fpr_new'])\n",
    "y2 = np.array(df_new[\"Tpr_new\"])\n",
    "m2, b2 = np.polyfit(x2, y2, 1)\n",
    "plt.plot(df_new['Fpr_new'], df_new[\"Tpr_new\"], 'o')\n",
    "plt.plot(x2, m2*x2+b2)\n",
    "plt.rcParams[\"figure.figsize\"] = (15,8)\n",
    "# plt.margins(-0.25)\n",
    "plt.show()"
   ]
  },
  {
   "cell_type": "code",
   "execution_count": 248,
   "metadata": {},
   "outputs": [
    {
     "data": {
      "image/png": "[encoded data removed]",
      "text/plain": [
       "<Figure size 1080x576 with 1 Axes>"
      ]
     },
     "metadata": {
      "needs_background": "light"
     },
     "output_type": "display_data"
    }
   ],
   "source": [
    "params = {'legend.fontsize': 20,\n",
    "          'legend.handlelength': 2}\n",
    "df_new = pd.DataFrame(result_all)\n",
    "x2 = np.array(df_new['Fpr_new'])\n",
    "y2 = np.array(df_new[\"Tpr_new\"])\n",
    "m2, b2 = np.polyfit(x2, y2, 1)\n",
    "plt.plot(df_new['Fpr_new'], df_new[\"Tpr_new\"], 'o')\n",
    "plt.plot(x2, m2*x2+b2)\n",
    "plt.legend(\"New Result\")\n",
    "plt.plot(df_new['Fpr'], df_new[\"Tpr\"], 'o')\n",
    "plt.plot(x, m*x+b)\n",
    "plt.legend(\"Old Result\")\n",
    "plt.rcParams[\"figure.figsize\"] = (15,8)\n",
    "# plt.margins(-0.25)\n",
    "plt.show()"
   ]
  },
  {
   "cell_type": "code",
   "execution_count": null,
   "metadata": {},
   "outputs": [],
   "source": [
    "# comments here"
   ]
  },
  {
   "cell_type": "code",
   "execution_count": null,
   "metadata": {},
   "outputs": [],
   "source": []
  },
  {
   "cell_type": "code",
   "execution_count": null,
   "metadata": {},
   "outputs": [],
   "source": [
    "# safe to restart"
   ]
  },
  {
   "cell_type": "markdown",
   "metadata": {},
   "source": [
    "# Problem 5: Custom Regularization (15%)"
   ]
  },
  {
   "cell_type": "code",
   "execution_count": 249,
   "metadata": {},
   "outputs": [
    {
     "name": "stdout",
     "output_type": "stream",
     "text": [
      "Populating the interactive namespace from numpy and matplotlib\n"
     ]
    }
   ],
   "source": [
    "import numpy as np\n",
    "import pandas as pd\n",
    "%pylab inline\n",
    "\n",
    "# many of these to be removed\n",
    "# necessary imports here"
   ]
  },
  {
   "cell_type": "code",
   "execution_count": 250,
   "metadata": {},
   "outputs": [],
   "source": [
    "np.random.seed(1234)\n",
    "n_points = 2048\n",
    "\n",
    "x = np.vstack([np.random.randn(n_points) + ii for ii in np.arange(-3, 3)]).T\n",
    "real_coefs = np.array([1.4, 0.9, .1, -3, 2.2, -1.3])\n",
    "y = x.dot(real_coefs) + .5 * np.random.randn(n_points)"
   ]
  },
  {
   "cell_type": "code",
   "execution_count": 251,
   "metadata": {},
   "outputs": [
    {
     "data": {
      "text/plain": [
       "(2048, 6)"
      ]
     },
     "execution_count": 251,
     "metadata": {},
     "output_type": "execute_result"
    }
   ],
   "source": [
    "x.shape"
   ]
  },
  {
   "cell_type": "code",
   "execution_count": 252,
   "metadata": {},
   "outputs": [
    {
     "data": {
      "text/plain": [
       "Text(0, 0.5, 'counts')"
      ]
     },
     "execution_count": 252,
     "metadata": {},
     "output_type": "execute_result"
    },
    {
     "data": {
      "image/png": "[encoded data removed]",
      "text/plain": [
       "<Figure size 864x576 with 1 Axes>"
      ]
     },
     "metadata": {
      "needs_background": "light"
     },
     "output_type": "display_data"
    }
   ],
   "source": [
    "pd.Series(y).hist(bins=30, figsize=(12,8))\n",
    "plt.xlabel('y', fontsize=24)\n",
    "plt.ylabel('counts', fontsize=24)"
   ]
  },
  {
   "cell_type": "markdown",
   "metadata": {},
   "source": [
    "## A new regularization\n",
    "Sometimes, in the social science and in low-data situations a good rule of thumb is that instead of doing linear regression to find the coefficients, we can assume that all the coefficients are the same!\n",
    "\n",
    "We will implement a variation on this by penalizing the `variance` of the coefficients, instead of the size.\n",
    "\n",
    "__NOTE__: this is not a good thing to do in this situation- we have coefficients of different sign!\n",
    "\n",
    "In this problem we will first solve linear regression with keras. Then we will add a custom regularizer to penalize the variance, and see what the effect are. \n",
    "\n",
    "# $ \\\\ $\n",
    "# $ \\\\ $\n",
    "## Part 0: Solve the problem with no regularization\n",
    "### Steps:\n",
    " - ### Partition the data into train/test\n",
    " - ### Fit linear regression in keras with no regularization\n",
    " - ### Find the `mse` for the test set this model\n",
    " - ### Examine the coefficients and make sure they look correct"
   ]
  },
  {
   "cell_type": "code",
   "execution_count": 253,
   "metadata": {},
   "outputs": [],
   "source": [
    "# partition the data\n",
    "x_train, x_test, y_train, y_test = train_test_split(x, y, test_size=0.2, random_state=42)"
   ]
  },
  {
   "cell_type": "code",
   "execution_count": 260,
   "metadata": {},
   "outputs": [
    {
     "name": "stdout",
     "output_type": "stream",
     "text": [
      "Epoch 1/10\n",
      "1638/1638 [==============================] - 1s 354us/step - loss: 22.4284\n",
      "Epoch 2/10\n",
      "1638/1638 [==============================] - 1s 335us/step - loss: 6.8461\n",
      "Epoch 3/10\n",
      "1638/1638 [==============================] - 1s 332us/step - loss: 2.8407\n",
      "Epoch 4/10\n",
      "1638/1638 [==============================] - 1s 331us/step - loss: 0.8111\n",
      "Epoch 5/10\n",
      "1638/1638 [==============================] - 1s 329us/step - loss: 0.3162\n",
      "Epoch 6/10\n",
      "1638/1638 [==============================] - 1s 331us/step - loss: 0.2762\n",
      "Epoch 7/10\n",
      "1638/1638 [==============================] - 1s 330us/step - loss: 0.2699\n",
      "Epoch 8/10\n",
      "1638/1638 [==============================] - 1s 333us/step - loss: 0.2659\n",
      "Epoch 9/10\n",
      "1638/1638 [==============================] - 1s 332us/step - loss: 0.2628\n",
      "Epoch 10/10\n",
      "1638/1638 [==============================] - 1s 332us/step - loss: 0.2601\n"
     ]
    },
    {
     "data": {
      "text/plain": [
       "<tensorflow.python.keras.callbacks.History at 0x7fa4524285d0>"
      ]
     },
     "execution_count": 260,
     "metadata": {},
     "output_type": "execute_result"
    }
   ],
   "source": [
    "# fit the data \n",
    "K.clear_session()\n",
    "digit_input = Input(shape=(x_train.shape[1],), name='digit_input')\n",
    "output = Dense(1, activation='linear')(digit_input)\n",
    "\n",
    "model = Model(inputs=digit_input, outputs=output)\n",
    "model.compile(optimizer = 'rmsprop', loss = \"MSE\")\n",
    "\n",
    "\n",
    "model.fit(x_train, y_train, batch_size=1, epochs=10, shuffle=False)"
   ]
  },
  {
   "cell_type": "code",
   "execution_count": 261,
   "metadata": {},
   "outputs": [
    {
     "data": {
      "text/plain": [
       "0.28403194454061714"
      ]
     },
     "execution_count": 261,
     "metadata": {},
     "output_type": "execute_result"
    }
   ],
   "source": [
    "from sklearn.metrics import mean_squared_error\n",
    "# calculate MSE\n",
    "y_pred = model.predict(x_test).squeeze()\n",
    "mean_squared_error(y_test, y_pred)"
   ]
  },
  {
   "cell_type": "code",
   "execution_count": null,
   "metadata": {},
   "outputs": [],
   "source": []
  },
  {
   "cell_type": "code",
   "execution_count": 262,
   "metadata": {},
   "outputs": [
    {
     "data": {
      "text/plain": [
       "array([ 1.33531   ,  0.87369984,  0.0648111 , -2.971403  ,  2.2278516 ,\n",
       "       -1.2644585 ], dtype=float32)"
      ]
     },
     "execution_count": 262,
     "metadata": {},
     "output_type": "execute_result"
    }
   ],
   "source": [
    "# examine coefs and make sure they look right\n",
    "model.get_weights()[0].squeeze()"
   ]
  },
  {
   "cell_type": "code",
   "execution_count": 259,
   "metadata": {},
   "outputs": [
    {
     "data": {
      "text/plain": [
       "array([ 1.4,  0.9,  0.1, -3. ,  2.2, -1.3])"
      ]
     },
     "execution_count": 259,
     "metadata": {},
     "output_type": "execute_result"
    }
   ],
   "source": [
    "real_coefs"
   ]
  },
  {
   "cell_type": "markdown",
   "metadata": {},
   "source": [
    "## Part 1: Add Regularization\n",
    "## Steps:\n",
    " - ### Make a function that given a `weight_factor` returns a well-formed keras regularization function that penalizes the variance of coefficients by this factor. \n",
    " - ### Fit a model with this regularizer with a `weight_factor` of `1.0`. \n",
    " - ### Calculate the `mse` on the test set and examine the coefficients. \n",
    "\n",
    "__Note__: the coefficients should be closer together. Are they?\n"
   ]
  },
  {
   "cell_type": "code",
   "execution_count": 269,
   "metadata": {},
   "outputs": [],
   "source": [
    "def make_reg_function(wt_factor):\n",
    "    def my_reg(weight_matrix):\n",
    "        # your code here\n",
    "#         print(K.var(weight_matrix))\n",
    "#         return wt_factor * varum(K.square(weight_matrix))\n",
    "        return wt_factor * K.var(weight_matrix)\n",
    "    return my_reg\n",
    "\n"
   ]
  },
  {
   "cell_type": "code",
   "execution_count": 270,
   "metadata": {},
   "outputs": [
    {
     "name": "stdout",
     "output_type": "stream",
     "text": [
      "Epoch 1/10\n",
      "1638/1638 [==============================] - 1s 349us/step - loss: 28.5345\n",
      "Epoch 2/10\n",
      "1638/1638 [==============================] - 1s 337us/step - loss: 14.0712\n",
      "Epoch 3/10\n",
      "1638/1638 [==============================] - 1s 332us/step - loss: 8.5090\n",
      "Epoch 4/10\n",
      "1638/1638 [==============================] - 1s 330us/step - loss: 5.1956\n",
      "Epoch 5/10\n",
      "1638/1638 [==============================] - 1s 329us/step - loss: 3.6075\n",
      "Epoch 6/10\n",
      "1638/1638 [==============================] - 1s 339us/step - loss: 3.0446\n",
      "Epoch 7/10\n",
      "1638/1638 [==============================] - 1s 336us/step - loss: 2.8964\n",
      "Epoch 8/10\n",
      "1638/1638 [==============================] - 1s 333us/step - loss: 2.8622\n",
      "Epoch 9/10\n",
      "1638/1638 [==============================] - 1s 353us/step - loss: 2.8543\n",
      "Epoch 10/10\n",
      "1638/1638 [==============================] - 1s 361us/step - loss: 2.8525\n"
     ]
    },
    {
     "data": {
      "text/plain": [
       "<tensorflow.python.keras.callbacks.History at 0x7fa44f80b910>"
      ]
     },
     "execution_count": 270,
     "metadata": {},
     "output_type": "execute_result"
    }
   ],
   "source": [
    "K.clear_session()\n",
    "inputs = Input(shape=(x_train.shape[1],))\n",
    "# make and fit a model\n",
    "my_regularizer = make_reg_function(1.0)\n",
    "output = Dense(1, activation='linear',kernel_regularizer=my_regularizer)(inputs)\n",
    "\n",
    "model = Model(inputs=inputs, outputs=output)\n",
    "model.compile(optimizer = 'rmsprop', loss = \"MSE\")\n",
    "\n",
    "\n",
    "model.fit(x_train, y_train, batch_size=1, epochs=10, shuffle=False)"
   ]
  },
  {
   "cell_type": "code",
   "execution_count": 271,
   "metadata": {},
   "outputs": [
    {
     "name": "stdout",
     "output_type": "stream",
     "text": [
      "[ 1.1591549   0.7824225   0.10224653 -2.464489    1.8455256  -1.0426867 ]\n",
      "[ 1.4  0.9  0.1 -3.   2.2 -1.3]\n"
     ]
    }
   ],
   "source": [
    "# examine coefs\n",
    "print(model.get_weights()[0].squeeze())\n",
    "print(real_coefs)"
   ]
  },
  {
   "cell_type": "code",
   "execution_count": 272,
   "metadata": {},
   "outputs": [
    {
     "data": {
      "text/plain": [
       "0.8044350674880152"
      ]
     },
     "execution_count": 272,
     "metadata": {},
     "output_type": "execute_result"
    }
   ],
   "source": [
    "# calculate MSE\n",
    "y_pred = model.predict(x_test)\n",
    "mean_squared_error(y_test, y_pred)"
   ]
  },
  {
   "cell_type": "code",
   "execution_count": null,
   "metadata": {},
   "outputs": [],
   "source": []
  },
  {
   "cell_type": "markdown",
   "metadata": {},
   "source": [
    "## Part 2: Turn up the Regularization\n",
    "## Steps\n",
    " - ### Repeat part 1 with the weight factor turned up to many times its initial value\n",
    " - ### Calculate the `mse` on the test set\n",
    " - ### examine the coefficients and comment\n",
    " - ### compare these results to the best constant guess for `y`."
   ]
  },
  {
   "cell_type": "code",
   "execution_count": 277,
   "metadata": {},
   "outputs": [
    {
     "name": "stdout",
     "output_type": "stream",
     "text": [
      "Epoch 1/20\n",
      "1638/1638 [==============================] - 1s 361us/step - loss: 41.9405\n",
      "Epoch 2/20\n",
      "1638/1638 [==============================] - 1s 329us/step - loss: 25.1873\n",
      "Epoch 3/20\n",
      "1638/1638 [==============================] - 1s 332us/step - loss: 21.8252\n",
      "Epoch 4/20\n",
      "1638/1638 [==============================] - 1s 330us/step - loss: 20.2107\n",
      "Epoch 5/20\n",
      "1638/1638 [==============================] - 1s 326us/step - loss: 19.3526\n",
      "Epoch 6/20\n",
      "1638/1638 [==============================] - 1s 331us/step - loss: 18.8329\n",
      "Epoch 7/20\n",
      "1638/1638 [==============================] - 1s 329us/step - loss: 18.4738\n",
      "Epoch 8/20\n",
      "1638/1638 [==============================] - 1s 330us/step - loss: 18.1993\n",
      "Epoch 9/20\n",
      "1638/1638 [==============================] - 1s 329us/step - loss: 17.9759\n",
      "Epoch 10/20\n",
      "1638/1638 [==============================] - 1s 327us/step - loss: 17.7883\n",
      "Epoch 11/20\n",
      "1638/1638 [==============================] - 1s 335us/step - loss: 17.6283\n",
      "Epoch 12/20\n",
      "1638/1638 [==============================] - 1s 329us/step - loss: 17.4911\n",
      "Epoch 13/20\n",
      "1638/1638 [==============================] - 1s 332us/step - loss: 17.3733\n",
      "Epoch 14/20\n",
      "1638/1638 [==============================] - 1s 330us/step - loss: 17.2723\n",
      "Epoch 15/20\n",
      "1638/1638 [==============================] - 1s 327us/step - loss: 17.1857\n",
      "Epoch 16/20\n",
      "1638/1638 [==============================] - 1s 329us/step - loss: 17.1116\n",
      "Epoch 17/20\n",
      "1638/1638 [==============================] - 1s 334us/step - loss: 17.0482\n",
      "Epoch 18/20\n",
      "1638/1638 [==============================] - 1s 340us/step - loss: 16.9942\n",
      "Epoch 19/20\n",
      "1638/1638 [==============================] - 1s 378us/step - loss: 16.9481\n",
      "Epoch 20/20\n",
      "1638/1638 [==============================] - 1s 367us/step - loss: 16.9089\n"
     ]
    },
    {
     "data": {
      "text/plain": [
       "<tensorflow.python.keras.callbacks.History at 0x7fa4504bc550>"
      ]
     },
     "execution_count": 277,
     "metadata": {},
     "output_type": "execute_result"
    }
   ],
   "source": [
    "K.clear_session()\n",
    "# make and fit a model with MUCH more regularization\n",
    "inputs = Input(shape=(x_train.shape[1],))\n",
    "# make and fit a model\n",
    "my_regularizer = make_reg_function(100.0)\n",
    "output = Dense(1, activation='linear',kernel_regularizer=my_regularizer)(inputs)\n",
    "\n",
    "model = Model(inputs=inputs, outputs=output)\n",
    "model.compile(optimizer = 'rmsprop', loss = \"MSE\")\n",
    "\n",
    "\n",
    "model.fit(x_train, y_train, batch_size=1, epochs=20, shuffle=False)"
   ]
  },
  {
   "cell_type": "code",
   "execution_count": 278,
   "metadata": {},
   "outputs": [
    {
     "name": "stdout",
     "output_type": "stream",
     "text": [
      "[0.34369794 0.31952298 0.27221823 0.10771833 0.3534196  0.19503763]\n",
      "[ 1.4  0.9  0.1 -3.   2.2 -1.3]\n"
     ]
    }
   ],
   "source": [
    "# look at the coefs\n",
    "print(model.get_weights()[0].squeeze())\n",
    "print(real_coefs)"
   ]
  },
  {
   "cell_type": "code",
   "execution_count": 279,
   "metadata": {},
   "outputs": [
    {
     "data": {
      "text/plain": [
       "17.030524352597272"
      ]
     },
     "execution_count": 279,
     "metadata": {},
     "output_type": "execute_result"
    }
   ],
   "source": [
    "# calculate MSE\n",
    "y_pred = model.predict(x_test)\n",
    "mean_squared_error(y_test, y_pred)"
   ]
  },
  {
   "cell_type": "markdown",
   "metadata": {},
   "source": [
    "## This is not bad.\n",
    " - What would the MSE of the best CONSTANT guess for `y`?"
   ]
  },
  {
   "cell_type": "code",
   "execution_count": 276,
   "metadata": {},
   "outputs": [
    {
     "data": {
      "text/plain": [
       "17.97989626455126"
      ]
     },
     "execution_count": 276,
     "metadata": {},
     "output_type": "execute_result"
    }
   ],
   "source": [
    "# your code here\n",
    "y_naive = y_test.mean()\n",
    "y_naive = np.array([y_naive]*y_test.shape[0])\n",
    "mean_squared_error(y_test, y_naive)"
   ]
  },
  {
   "cell_type": "markdown",
   "metadata": {},
   "source": [
    "## Comments\n"
   ]
  },
  {
   "cell_type": "markdown",
   "metadata": {},
   "source": [
    "When we impose an extremely large penalty on coefficient variance when training, our model performance gradually converges to best constant guess, which is the mean of sample, because coefficients are forced to be same with each other."
   ]
  },
  {
   "cell_type": "code",
   "execution_count": null,
   "metadata": {},
   "outputs": [],
   "source": []
  }
 ],
 "metadata": {
  "kernelspec": {
   "display_name": "Python 3",
   "language": "python",
   "name": "python3"
  },
  "language_info": {
   "codemirror_mode": {
    "name": "ipython",
    "version": 3
   },
   "file_extension": ".py",
   "mimetype": "text/x-python",
   "name": "python",
   "nbconvert_exporter": "python",
   "pygments_lexer": "ipython3",
   "version": "3.6.5"
  }
 },
 "nbformat": 4,
 "nbformat_minor": 2
}
