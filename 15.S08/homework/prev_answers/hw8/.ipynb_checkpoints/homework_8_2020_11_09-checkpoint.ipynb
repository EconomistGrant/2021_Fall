{
 "cells": [
  {
   "cell_type": "markdown",
   "metadata": {},
   "source": [
    "# Problem 0: Named entity recognition"
   ]
  },
  {
   "cell_type": "markdown",
   "metadata": {},
   "source": [
    "Named entity recognition is a common NLP task that tries to identify entities in text.\n",
    "\n",
    "See: https://en.wikipedia.org/wiki/Named-entity_recognition\n",
    "\n",
    "Common Types of entities include `Location (LOC)`, `Person (PER)`, and `Organization (ORG)`. For example, in the sentence\n",
    "# Janet Yellen, the chairwoman of the Federal Reserve, gave a speech in Colorado.\n",
    "## $ \\\\ $ \n",
    "the goal would be to recognize\n",
    "# `Janet Yellen`$_{PER}$, the chairwoman of the `Federal Reserve`$_{ORG}$, gave a speech in `Colorado`$_{LOC}$.\n",
    "# $ \\\\ $\n",
    "# In this problem we will build a model to recognized named entities using word vectors"
   ]
  },
  {
   "cell_type": "markdown",
   "metadata": {},
   "source": [
    "# $ $"
   ]
  },
  {
   "cell_type": "markdown",
   "metadata": {},
   "source": [
    "## Part 1: \n",
    "### Give an example of a sentence with a Person but not a location. \n",
    "### Give an example of a sentence with an organization and a location, but not a person. "
   ]
  },
  {
   "cell_type": "code",
   "execution_count": null,
   "metadata": {},
   "outputs": [],
   "source": [
    "# your answer here"
   ]
  },
  {
   "cell_type": "markdown",
   "metadata": {},
   "source": [
    "# Part 2: building a model\n",
    "# $ \\\\ $\n",
    "### The goal of this section is to build a model to take a sentence (list of words) and identify what kind of tag each word is\n",
    "# $ \\\\ $\n",
    "## Why is this problem hard:\n",
    "### Some words will be the same tag all the time. For example `Colorado` is almost always a `LOCATION`\n",
    "### Some words depend on context: above `federal` and `reserve` are `ORGANIZATION` but I can write `I would like to reserve a table.`\n",
    "\n",
    "# $ \\\\ $\n",
    "## To combat this issue we will make a very simple model but taking a 3-word window around every word\n",
    "  - For every word, we will take the word vector of that word and the two surrounding words\n",
    "\n",
    "### Example: `I went to the store` will be represented as \n",
    " - `I` $\\rightarrow$ `PAD` - `I` - `went` $\\rightarrow$ $\\left[ V_{PAD}, V_{I}, V_{went}\\right]$\n",
    " - `went` $\\rightarrow$ `I` - `went` - `to`$\\rightarrow$ $\\left[V_{I}, V_{went},  V_{to}\\right]$\n",
    " - `to` $\\rightarrow$ `went` - `to` - `the`$\\rightarrow$ $\\left[V_{went},  V_{to}, V_{the}\\right]$\n",
    " - ...\n",
    "#### Where \n",
    " - $V_{word_{i}}$ is the representation for $word_{i}$\n",
    " - `UNK` is the token for unknown words\n",
    " - `PAD` is the token for boundary words\n",
    " \n",
    "Like this, we will encode some __context__ around every word. Each word here will be encoded as a $3 * d_{embedding}$-dimensional vector."
   ]
  },
  {
   "cell_type": "markdown",
   "metadata": {},
   "source": [
    "we will use pretrained GLOVE-embeddings as a representation for each word.\n",
    "\n",
    "Note that this means we will have a fixed vocabulary defined by all the vectors present within our pretrained embeddings as well 0 vectors for padding token and unknown tokens\n",
    "\n",
    "Also note that GLOVE vectors are all lowercase, so we will do our problem with all lowercased sentences and words"
   ]
  },
  {
   "cell_type": "code",
   "execution_count": null,
   "metadata": {},
   "outputs": [],
   "source": [
    "import numpy as np\n",
    "import pandas as pd\n",
    "%pylab inline\n",
    "\n",
    "import re\n",
    "\n",
    "from sklearn.linear_model import LogisticRegression\n",
    "from sklearn.metrics import accuracy_score, f1_score\n",
    "\n",
    "from keras.models import Model\n",
    "from keras.layers import Input, Dropout, Dense\n",
    "from keras.initializers import Constant\n",
    "import keras.backend as K\n",
    "from keras.utils import to_categorical"
   ]
  },
  {
   "cell_type": "markdown",
   "metadata": {},
   "source": [
    "### First let's load our Glove vectors and our NER training data"
   ]
  },
  {
   "cell_type": "code",
   "execution_count": null,
   "metadata": {},
   "outputs": [],
   "source": [
    "# the format of the glove file is pretty simple. so rather than using gensim, we will use a basic line-by-line parser\n",
    "def load_glove_file(filepath):\n",
    "    \"\"\"Load a glove embedding from a file\"\"\"\n",
    "    word_to_vector = {}\n",
    "    with open(filepath) as f:\n",
    "        for line in f:\n",
    "            # skip first description line\n",
    "            if len(line.strip()) <= 15:\n",
    "                continue\n",
    "            values = line.strip().split()\n",
    "            word = values[0]\n",
    "            vector = np.asarray(values[1:], dtype='float32')\n",
    "            word_to_vector[word] = vector\n",
    "    return word_to_vector\n",
    "\n",
    "def load_dataset(fname):\n",
    "    \"\"\"Load an NER dataset with everything lowercased.\"\"\"\n",
    "    docs = []\n",
    "    with open(fname) as fd:\n",
    "        cur = []\n",
    "        for line in fd:\n",
    "            # new sentence on -DOCSTART- or blank line\n",
    "            if re.match(r\"-DOCSTART-.+\", line) or (len(line.strip()) == 0):\n",
    "                if len(cur) > 0:\n",
    "                    docs.append(cur)\n",
    "                cur = []\n",
    "            else: # read in tokens\n",
    "                text, tag = line.strip().split(\"\\t\", 1)\n",
    "                cur.append([text.lower(), tag])\n",
    "        # flush running buffer\n",
    "        if cur:\n",
    "            docs.append(cur)\n",
    "    return docs"
   ]
  },
  {
   "cell_type": "code",
   "execution_count": null,
   "metadata": {},
   "outputs": [],
   "source": [
    "word_vecs = load_glove_file('../../data/glove.6B.50d.txt')  # FIXME\n",
    "docs = load_dataset('../../data/ner_train.conll')  # FIXME"
   ]
  },
  {
   "cell_type": "code",
   "execution_count": null,
   "metadata": {},
   "outputs": [],
   "source": [
    "correct_first_doc = [\n",
    "    ['eu', 'ORG'],\n",
    "    ['rejects', 'O'],\n",
    "    ['german', 'MISC'],\n",
    "    ['call', 'O'],\n",
    "    ['to', 'O'],\n",
    "    ['boycott', 'O'],\n",
    "    ['british', 'MISC'],\n",
    "    ['lamb', 'O'],\n",
    "    ['.', 'O'],\n",
    "]\n",
    "assert len(word_vecs) == 400000, 'word vectors did not load properly'\n",
    "assert word_vecs['the'].shape == (50,), 'word vectors did not load properly'\n",
    "assert len(docs) == 14041, 'something has gone wrong with data loading'\n",
    "assert docs[0] == correct_first_doc, 'something has gone wrong with data loading'"
   ]
  },
  {
   "cell_type": "markdown",
   "metadata": {},
   "source": [
    "### Define a few constants, such as target classes"
   ]
  },
  {
   "cell_type": "code",
   "execution_count": null,
   "metadata": {},
   "outputs": [],
   "source": [
    "NULL_TAG = 'O'  # tags that are not a named entity\n",
    "\n",
    "# Some derived quantities\n",
    "TAGS = (NULL_TAG, 'LOC', 'PER', 'ORG', 'MISC')\n",
    "IDX_TO_TAG = dict(enumerate(TAGS))\n",
    "TAG_TO_IDX = {tag: num for num, tag in IDX_TO_TAG.items()}\n",
    "\n",
    "NUM_CLASSES = len(TAGS)\n",
    "assert NUM_CLASSES == 5, 'something has gone wrong'"
   ]
  },
  {
   "cell_type": "markdown",
   "metadata": {},
   "source": [
    "## Create an embeddings matrix correctly sorted according to our vocabulary index"
   ]
  },
  {
   "cell_type": "markdown",
   "metadata": {},
   "source": [
    "### In class we first looked at our training data to decide which vocabulary set to use to train embeddings. Here instead we want to use pretrained fixed embeddings, so instead we will use the vocabulary provided by our GLOVE vectors.\n",
    "\n",
    "- #### Note that we want to add two rows as index len(word_vecs) for `UNK` and len(word_vecs) + 1 for `PAD`"
   ]
  },
  {
   "cell_type": "code",
   "execution_count": null,
   "metadata": {},
   "outputs": [],
   "source": [
    "EMBEDDING_DIM = 50  \n",
    "VOCAB_SIZE = len(word_vecs) + 2\n",
    "UNKNOWN_INDEX = len(word_vecs)\n",
    "PADDING_INDEX = len(word_vecs) + 1\n",
    "\n",
    "WORD_TO_IDX = {word: idx  for idx, word in enumerate(word_vecs.keys())}\n",
    "IDX_TO_WORD = {idx: word for word, idx in WORD_TO_IDX.items()}\n",
    "\n",
    "assert WORD_TO_IDX['the'] < 10, '\"the\" is not a common word- something has gone wrong.'"
   ]
  },
  {
   "cell_type": "code",
   "execution_count": null,
   "metadata": {},
   "outputs": [],
   "source": [
    "EMBEDDING_MATRIX = np.zeros((VOCAB_SIZE, EMBEDDING_DIM))\n",
    "for word, embedding_vector in word_vecs.items():\n",
    "    idx = WORD_TO_IDX[word]\n",
    "    EMBEDDING_MATRIX[idx] = embedding_vector"
   ]
  },
  {
   "cell_type": "markdown",
   "metadata": {},
   "source": [
    "## Creating windowed-word sequences\n",
    "\n",
    "### For every sentence (list of words) let's create word triples as well as the class corresponding to the center word"
   ]
  },
  {
   "cell_type": "code",
   "execution_count": null,
   "metadata": {},
   "outputs": [],
   "source": [
    "def seq_to_windows(words, tags):\n",
    "    \"\"\"Turn sequences of words and tags into corresponding windowed sequences\"\"\"\n",
    "    X = []\n",
    "    y = []\n",
    "    word_idx_list = [WORD_TO_IDX.get(word, UNKNOWN_INDEX) for word in words]\n",
    "    for idx_left, idx, idx_right, tag in zip(\n",
    "        [PADDING_INDEX] + word_idx_list[:-1], \n",
    "        word_idx_list, \n",
    "        word_idx_list[1:] + [PADDING_INDEX],\n",
    "        tags\n",
    "    ):\n",
    "        X.append([idx_left, idx, idx_right])\n",
    "        y.append(TAG_TO_IDX[tag])\n",
    "    return array(X), array(y)"
   ]
  },
  {
   "cell_type": "code",
   "execution_count": null,
   "metadata": {},
   "outputs": [],
   "source": [
    "# test out that we have done things correctly\n",
    "words, tags = zip(*docs[0])\n",
    "x, y = seq_to_windows(words, tags)\n",
    "\n",
    "assert x.dtype == np.int, 'x has the wrong data type'\n",
    "reconstructed_words = [IDX_TO_WORD[num] for num in x[:, 1]]\n",
    "assert tuple(reconstructed_words) == words, 'word transformation has gone wrong'"
   ]
  },
  {
   "cell_type": "code",
   "execution_count": null,
   "metadata": {},
   "outputs": [],
   "source": [
    "def convert_window_to_embedding(idx_window):\n",
    "    \"\"\"Turn a row of integers (np.array) into a single word vector\"\"\"\n",
    "    # TODO: implement this"
   ]
  },
  {
   "cell_type": "code",
   "execution_count": null,
   "metadata": {},
   "outputs": [],
   "source": [
    "assert convert_window_to_embedding(x[0]).shape == (150,)"
   ]
  },
  {
   "cell_type": "markdown",
   "metadata": {},
   "source": [
    "### Do this for all our data"
   ]
  },
  {
   "cell_type": "code",
   "execution_count": null,
   "metadata": {},
   "outputs": [],
   "source": [
    "x_all = []\n",
    "y_all = []\n",
    "for doc in docs:\n",
    "    words, tags = zip(*doc)\n",
    "#     TODO\n",
    "#     1. use `seq_to_windows` to turn `words` and `tag` into `x` and `y`\n",
    "#     2. turn `x` into a single vector with `convert_window_to_embedding`\n",
    "\n",
    "    \n",
    "    x_all.extend(x)\n",
    "    y_all.extend(y)\n",
    "    \n",
    "x_all = np.vstack(x_all)\n",
    "y_all = np.vstack(y_all)\n",
    "\n",
    "y_all = to_categorical(y_all)\n",
    "assert x_all.shape[0] == y_all.shape[0]"
   ]
  },
  {
   "cell_type": "code",
   "execution_count": null,
   "metadata": {},
   "outputs": [],
   "source": [
    "K.clear_session()\n",
    "\n",
    "#TODO\n",
    "# 1. build a network with \n",
    "#  - an input layer\n",
    "#  - some number of dense layers and dropout\n",
    "\n",
    "model = Model(word_input, output)\n",
    "model.compile(optimizer='rmsprop', loss='categorical_crossentropy', metrics=['accuracy'])"
   ]
  },
  {
   "cell_type": "code",
   "execution_count": null,
   "metadata": {},
   "outputs": [],
   "source": [
    "hist = model.fit(\n",
    "    x_all, y_all, \n",
    "    validation_split=0.2, \n",
    "    epochs=10, \n",
    "    batch_size=256\n",
    ")"
   ]
  },
  {
   "cell_type": "markdown",
   "metadata": {},
   "source": [
    "## Let's try out our model by predicting some new sentences"
   ]
  },
  {
   "cell_type": "markdown",
   "metadata": {},
   "source": [
    "### Note that since our traning data was already tokenized we need to write a simple tokenzier such as `re.findall(r'[a-z]+|[^\\s]', text.lower())`"
   ]
  },
  {
   "cell_type": "code",
   "execution_count": null,
   "metadata": {},
   "outputs": [],
   "source": [
    "def tokenize(text):\n",
    "    return re.findall(r'[a-z]+|[^\\s]', text.lower())"
   ]
  },
  {
   "cell_type": "code",
   "execution_count": null,
   "metadata": {},
   "outputs": [],
   "source": [
    "def preprocess_sentence(sentence):\n",
    "    \"\"\"Preprocess a sentence for input into the model\"\"\" \n",
    "#     TODO:\n",
    "#         1. tokenize the sentence\n",
    "#         2. make each word into a 3-word window (hint: you can use seq_to_windows if you create some fake tags)\n",
    "#         3. turn each row (3-word window) into a single vector (use convert_window_to_embedding)\n",
    "#         4. turn the list of 150-d vectors into a numpy matrix shape (n_words x 150)\n"
   ]
  },
  {
   "cell_type": "code",
   "execution_count": null,
   "metadata": {},
   "outputs": [],
   "source": [
    "assert (\n",
    "    preprocess_sentence('This sentence has five words.').shape == (6, EMBEDDING_DIM * 3)\n",
    "), '`preprocess_sentence` does not work'"
   ]
  },
  {
   "cell_type": "code",
   "execution_count": null,
   "metadata": {},
   "outputs": [],
   "source": [
    "# TODO\n",
    "# 1. Come up with a sentence\n",
    "# 2. preprocess it for consumption by the network with `preprocess_sentence`\n",
    "# 3. use the model to make predictions\n",
    "# 4. Turn the predicted probabilities into predicted labels\n",
    "# 5. print the output nicely  (done for you)\n",
    "\n",
    "maxlen = max(map(len, sentence.split()))\n",
    "for word, label in zip(sentence.split(), predicted_labels):\n",
    "    print('{} :  {}'.format(word.ljust(maxlen), label))"
   ]
  },
  {
   "cell_type": "markdown",
   "metadata": {},
   "source": [
    "# $ \\\\ $"
   ]
  },
  {
   "cell_type": "markdown",
   "metadata": {},
   "source": [
    "# $ \\\\ $"
   ]
  },
  {
   "cell_type": "code",
   "execution_count": null,
   "metadata": {},
   "outputs": [],
   "source": []
  },
  {
   "cell_type": "code",
   "execution_count": null,
   "metadata": {},
   "outputs": [],
   "source": []
  },
  {
   "cell_type": "markdown",
   "metadata": {},
   "source": [
    "# Problem 1: NER, again!"
   ]
  },
  {
   "cell_type": "markdown",
   "metadata": {},
   "source": [
    "## This time we will use a sequence based network such as LSTM to get context beyond the 3 word window and instead process the whole sequence."
   ]
  },
  {
   "cell_type": "code",
   "execution_count": null,
   "metadata": {},
   "outputs": [],
   "source": [
    "def process_sequences(words, tags):\n",
    "    \"\"\"Process a sequence of words and tags\"\"\"\n",
    "    int_seq = []\n",
    "    tags = []\n",
    "    # TODO loop through doc and assembed `int_seq`, and `tags`\n",
    "    #     both of which should be integers instead of strings\n",
    "\n",
    "    return int_seq, tags"
   ]
  },
  {
   "cell_type": "code",
   "execution_count": null,
   "metadata": {
    "scrolled": false
   },
   "outputs": [],
   "source": [
    "int_sequences = []\n",
    "tag_seqs = []\n",
    "\n",
    "for doc in docs:\n",
    "    # if the length of the document is less than 2, ignore it\n",
    "    if len(doc) < 2:\n",
    "        continue\n",
    "    words, tags = zip(*doc)\n",
    "    int_seq, tags = process_sequences(words, tags)\n",
    "    int_sequences.append(int_seq)\n",
    "    tag_seqs.append(tags)"
   ]
  },
  {
   "cell_type": "markdown",
   "metadata": {},
   "source": [
    "### What is the longest sequence that we see?"
   ]
  },
  {
   "cell_type": "code",
   "execution_count": null,
   "metadata": {},
   "outputs": [],
   "source": [
    "assert max(map(len, int_sequences)) == 113, 'something has gone wrong'"
   ]
  },
  {
   "cell_type": "markdown",
   "metadata": {},
   "source": [
    "## In class we used a fixed 10 tokens. But we can be a little smarter and deal with variable length sequence by using `pad_sequences` We already have a pad token reserved in our embedding matrix, so let's use that.\n"
   ]
  },
  {
   "cell_type": "markdown",
   "metadata": {},
   "source": [
    "### Let's define a slightly longer max_seq_length and add padding everywhere to get to a constant length"
   ]
  },
  {
   "cell_type": "code",
   "execution_count": null,
   "metadata": {},
   "outputs": [],
   "source": [
    "MAX_SEQ_LEN = 115"
   ]
  },
  {
   "cell_type": "code",
   "execution_count": null,
   "metadata": {},
   "outputs": [],
   "source": [
    "from keras.preprocessing.sequence import pad_sequences\n",
    "\n",
    "# TODO:\n",
    "# 1. pad the integer sequences of words `int_sequences`\n",
    "# 2. do the same with the tags `tag_seqs`\n",
    "# 3. Turn the tags into categorical variables\n"
   ]
  },
  {
   "cell_type": "code",
   "execution_count": null,
   "metadata": {},
   "outputs": [],
   "source": [
    "assert int_sequences.shape == (13862, 115)"
   ]
  },
  {
   "cell_type": "code",
   "execution_count": null,
   "metadata": {},
   "outputs": [],
   "source": [
    "from keras.layers import (\n",
    "    SimpleRNN, Dense, LSTM,\n",
    "    Embedding, Input, Dropout,\n",
    ")\n",
    "from keras.models import Model\n",
    "import keras.backend as K"
   ]
  },
  {
   "cell_type": "markdown",
   "metadata": {},
   "source": [
    "### We will use our global embeddings matrix. Compared to class however we will set it to `trainable=False`. The hope is that this way the embedding can better generalize to words that GLOVE has seen, even though they never occured in our training data."
   ]
  },
  {
   "cell_type": "code",
   "execution_count": null,
   "metadata": {},
   "outputs": [],
   "source": [
    "K.clear_session()\n",
    "\n",
    "#TODO: Build a netowrk\n",
    "# 1. make an input\n",
    "# 2. make a non-trainable embedding\n",
    "# 3. make a single, LSTM, add dropout and recurrent dropout\n",
    "# 4. Make a single dense hidden layer\n",
    "# 5. Make the correct-sized output layer\n",
    "#       the output should be softmax\n",
    "\n",
    "\n",
    "model = Model(word_input, output)\n",
    "model.compile(\n",
    "    optimizer='rmsprop', \n",
    "    loss='categorical_crossentropy', \n",
    "    metrics=['accuracy']\n",
    ")"
   ]
  },
  {
   "cell_type": "code",
   "execution_count": null,
   "metadata": {},
   "outputs": [],
   "source": [
    "hist = model.fit(\n",
    "    int_sequences, y_all, \n",
    "    validation_split=0.2, \n",
    "    epochs=10, \n",
    "    batch_size=128\n",
    ")"
   ]
  },
  {
   "cell_type": "markdown",
   "metadata": {},
   "source": [
    "## Let's try out our model by predicting some new sentences"
   ]
  },
  {
   "cell_type": "code",
   "execution_count": null,
   "metadata": {},
   "outputs": [],
   "source": [
    "def preprocess_sentence(sentence):\n",
    "    \"\"\"Preprocess a sentence into word vectors for the model\"\"\"\n",
    "\n",
    "    tokens = tokenize(sentence)\n",
    "    \n",
    "    # TODO:\n",
    "    # 1. turn tokens into an integer sequence\n",
    "    # 2. Use the model, call `predict` on the integer sequence\n",
    "    # 3. create a list of predicted labels for each word called `predicted_labels`\n",
    "    # 4. remove the padding from predicted_labels\n",
    "\n",
    "    \n",
    "    return tokens, predicted_labels"
   ]
  },
  {
   "cell_type": "code",
   "execution_count": null,
   "metadata": {},
   "outputs": [],
   "source": [
    "sentence = # come up with a sentence\n",
    "\n",
    "tokens, predicted_labels = preprocess_sentence(sentence)\n",
    "\n",
    "for word, lab in zip(tokens, predicted_labels):\n",
    "    print('{}: {}'.format(word, lab))"
   ]
  },
  {
   "cell_type": "markdown",
   "metadata": {},
   "source": [
    "# $ \\\\ $"
   ]
  },
  {
   "cell_type": "markdown",
   "metadata": {},
   "source": [
    "# $ \\\\ $"
   ]
  },
  {
   "cell_type": "code",
   "execution_count": null,
   "metadata": {},
   "outputs": [],
   "source": []
  },
  {
   "cell_type": "code",
   "execution_count": null,
   "metadata": {},
   "outputs": [],
   "source": []
  },
  {
   "cell_type": "markdown",
   "metadata": {},
   "source": [
    "# Problem 2: Speech2Text: A Gentle Introduction\n",
    "\n",
    "Pat O'Neill\n",
    "patrick.oneill@kensho.com\n",
    "\n",
    "In this notebook we will attempt to solve a simplified version of the transcription task.  Rather than build a model that can transcribe arbitrary speech, we will restrict ourselves to the problem of classifying a small, fixed number of words.  You could imagine such a model being useful if you wanted to build a simple interface that allowed a user to give voice commands to a device.  We'll explore this task using the Google Voice Commands Dataset, a collection of short audio files of speakers uttering words from a fixed vocabulary.  \n",
    "\n",
    "Download the Google Voice Commands Dataset from http://download.tensorflow.org/data/speech_commands_v0.01.tar.gz. Create a directory called `data` and unpack it there."
   ]
  },
  {
   "cell_type": "markdown",
   "metadata": {},
   "source": [
    "### (Note that this problem is long, but only very few code additions are needed and a big part of the credit will be to just work through the whole problem)"
   ]
  },
  {
   "cell_type": "markdown",
   "metadata": {},
   "source": [
    "Spend some time playing around with the data.  How many words are there in the vocabulary?  How many files are there?  How large is each file in kB?  How long are they in seconds?  What's the format of the audio?  Listen to a few: how is the sound quality?  Are there any anomalies?"
   ]
  },
  {
   "cell_type": "markdown",
   "metadata": {},
   "source": [
    "# your answer here\n",
    "## How many words are there in the vocabulary?\n",
    "30\n",
    "## How many files are there?\n",
    "64,732 Files\n",
    "## How large is each file in kB?\n",
    "on average, each file is about 31kb\n",
    "## How long are they in seconds?\n",
    "one second\n",
    "##  What's the format of the audio?\n",
    "wav File\n",
    "## Listen to a few: how is the sound quality?\n",
    "the sound quality is good\n",
    "## Are there any anomalies?\n",
    "Each file includes different accents of the word"
   ]
  },
  {
   "cell_type": "markdown",
   "metadata": {},
   "source": [
    "Next we'll create a manifest for the data."
   ]
  },
  {
   "cell_type": "markdown",
   "metadata": {},
   "source": [
    "## Dataset Definition"
   ]
  },
  {
   "cell_type": "code",
   "execution_count": 14,
   "metadata": {},
   "outputs": [],
   "source": [
    "import os\n",
    "import json\n",
    "import random\n",
    "import tempfile\n",
    "from typing import List\n",
    "import logging\n",
    "\n",
    "import torch\n",
    "\n",
    "from IPython.display import Audio\n",
    "import librosa\n",
    "from librosa import display as libdisplay\n",
    "import Levenshtein\n",
    "from matplotlib import pyplot as plt\n",
    "import nemo\n",
    "import nemo.collections.asr as nemo_asr\n",
    "import numpy as np\n",
    "import pandas as pd\n",
    "from tqdm import tqdm"
   ]
  },
  {
   "cell_type": "code",
   "execution_count": null,
   "metadata": {},
   "outputs": [],
   "source": [
    "! pip uninstall nemo"
   ]
  },
  {
   "cell_type": "code",
   "execution_count": 27,
   "metadata": {},
   "outputs": [
    {
     "data": {
      "text/plain": [
       "['',\n",
       " 'C:\\\\Users\\\\shunl\\\\Anaconda3\\\\python36.zip',\n",
       " 'C:\\\\Users\\\\shunl\\\\Anaconda3\\\\DLLs',\n",
       " 'C:\\\\Users\\\\shunl\\\\Anaconda3\\\\lib',\n",
       " 'C:\\\\Users\\\\shunl\\\\Anaconda3',\n",
       " 'C:\\\\Users\\\\shunl\\\\AppData\\\\Roaming\\\\Python\\\\Python36\\\\site-packages',\n",
       " 'C:\\\\Users\\\\shunl\\\\Anaconda3\\\\lib\\\\site-packages',\n",
       " 'C:\\\\Users\\\\shunl\\\\Anaconda3\\\\lib\\\\site-packages\\\\win32',\n",
       " 'C:\\\\Users\\\\shunl\\\\Anaconda3\\\\lib\\\\site-packages\\\\win32\\\\lib',\n",
       " 'C:\\\\Users\\\\shunl\\\\Anaconda3\\\\lib\\\\site-packages\\\\Pythonwin',\n",
       " 'C:\\\\Users\\\\shunl\\\\Anaconda3\\\\lib\\\\site-packages\\\\IPython\\\\extensions',\n",
       " 'C:\\\\Users\\\\shunl\\\\.ipython',\n",
       " 'C:\\\\Users\\\\shunl\\\\~\\\\.local\\\\Python36\\\\Scripts',\n",
       " 'C:\\\\Users\\\\shunl\\\\~\\\\.local\\\\Python36\\\\Scripts',\n",
       " 'c:\\\\users\\\\shunl\\\\appdata\\\\roaming\\\\python\\\\python36\\\\site-packages',\n",
       " 'c:\\\\users\\\\shunl\\\\appdata\\\\roaming\\\\python\\\\python36\\\\site-packages']"
      ]
     },
     "execution_count": 27,
     "metadata": {},
     "output_type": "execute_result"
    }
   ],
   "source": [
    "import sys\n",
    "sys.path"
   ]
  },
  {
   "cell_type": "code",
   "execution_count": 12,
   "metadata": {},
   "outputs": [],
   "source": [
    "sys.path.append('C:\\\\Users\\\\shunl\\\\~\\\\.local\\\\Python36\\\\Scripts')"
   ]
  },
  {
   "cell_type": "code",
   "execution_count": 26,
   "metadata": {},
   "outputs": [],
   "source": [
    "sys.path.append('c:\\\\users\\\\shunl\\\\appdata\\\\roaming\\\\python\\\\python36\\\\site-packages')"
   ]
  },
  {
   "cell_type": "code",
   "execution_count": 14,
   "metadata": {},
   "outputs": [
    {
     "name": "stdout",
     "output_type": "stream",
     "text": [
      "Requirement already satisfied: nemo in c:\\users\\shunl\\appdata\\roaming\\python\\python36\\site-packages (3.5.0)\n",
      "Requirement already satisfied: cryptography==2.8 in c:\\users\\shunl\\appdata\\roaming\\python\\python36\\site-packages (from nemo) (2.8)\n",
      "Requirement already satisfied: ldap3==2.6.1 in c:\\users\\shunl\\appdata\\roaming\\python\\python36\\site-packages (from nemo) (2.6.1)\n",
      "Requirement already satisfied: requests==2.22.0 in c:\\users\\shunl\\appdata\\roaming\\python\\python36\\site-packages (from nemo) (2.22.0)\n",
      "Requirement already satisfied: djangorestframework==3.11.0 in c:\\users\\shunl\\appdata\\roaming\\python\\python36\\site-packages (from nemo) (3.11.0)\n",
      "Requirement already satisfied: Pillow==7.2.0 in c:\\users\\shunl\\appdata\\roaming\\python\\python36\\site-packages (from nemo) (7.2.0)\n",
      "Requirement already satisfied: python-dateutil==2.8.1 in c:\\users\\shunl\\appdata\\roaming\\python\\python36\\site-packages (from nemo) (2.8.1)\n",
      "Requirement already satisfied: django-mptt==0.11.0 in c:\\users\\shunl\\appdata\\roaming\\python\\python36\\site-packages (from nemo) (0.11.0)\n",
      "Requirement already satisfied: Django==2.2.13 in c:\\users\\shunl\\appdata\\roaming\\python\\python36\\site-packages (from nemo) (2.2.13)\n",
      "Requirement already satisfied: django-filter==2.2.0 in c:\\users\\shunl\\appdata\\roaming\\python\\python36\\site-packages (from nemo) (2.2.0)\n",
      "Requirement already satisfied: cffi!=1.11.3,>=1.8 in c:\\users\\shunl\\appdata\\roaming\\python\\python36\\site-packages (from cryptography==2.8->nemo) (1.14.3)\n",
      "Requirement already satisfied: six>=1.4.1 in c:\\users\\shunl\\appdata\\roaming\\python\\python36\\site-packages (from cryptography==2.8->nemo) (1.15.0)\n",
      "Requirement already satisfied: pyasn1>=0.1.8 in c:\\users\\shunl\\appdata\\roaming\\python\\python36\\site-packages (from ldap3==2.6.1->nemo) (0.4.8)\n",
      "Requirement already satisfied: chardet<3.1.0,>=3.0.2 in c:\\users\\shunl\\appdata\\roaming\\python\\python36\\site-packages (from requests==2.22.0->nemo) (3.0.4)\n",
      "Requirement already satisfied: idna<2.9,>=2.5 in c:\\users\\shunl\\appdata\\roaming\\python\\python36\\site-packages (from requests==2.22.0->nemo) (2.8)\n",
      "Requirement already satisfied: urllib3!=1.25.0,!=1.25.1,<1.26,>=1.21.1 in c:\\users\\shunl\\appdata\\roaming\\python\\python36\\site-packages (from requests==2.22.0->nemo) (1.25.11)\n",
      "Requirement already satisfied: certifi>=2017.4.17 in c:\\users\\shunl\\appdata\\roaming\\python\\python36\\site-packages (from requests==2.22.0->nemo) (2020.11.8)\n",
      "Requirement already satisfied: django-js-asset in c:\\users\\shunl\\appdata\\roaming\\python\\python36\\site-packages (from django-mptt==0.11.0->nemo) (1.2.2)\n",
      "Requirement already satisfied: sqlparse in c:\\users\\shunl\\appdata\\roaming\\python\\python36\\site-packages (from Django==2.2.13->nemo) (0.4.1)\n",
      "Requirement already satisfied: pytz in c:\\users\\shunl\\appdata\\roaming\\python\\python36\\site-packages (from Django==2.2.13->nemo) (2020.4)\n",
      "Requirement already satisfied: pycparser in c:\\users\\shunl\\appdata\\roaming\\python\\python36\\site-packages (from cffi!=1.11.3,>=1.8->cryptography==2.8->nemo) (2.20)\n"
     ]
    },
    {
     "name": "stderr",
     "output_type": "stream",
     "text": [
      "You are using pip version 19.0.3, however version 20.3b1 is available.\n",
      "You should consider upgrading via the 'python -m pip install --upgrade pip' command.\n"
     ]
    }
   ],
   "source": [
    "! pip install nemo"
   ]
  },
  {
   "cell_type": "markdown",
   "metadata": {},
   "source": [
    "Installing nemo is a little touchy, and you may have to help it along with the following installs:"
   ]
  },
  {
   "cell_type": "code",
   "execution_count": 3,
   "metadata": {},
   "outputs": [
    {
     "name": "stdout",
     "output_type": "stream",
     "text": [
      "Requirement already satisfied: frozendict in c:\\users\\shunl\\anaconda3\\lib\\site-packages (1.2)\n"
     ]
    },
    {
     "name": "stderr",
     "output_type": "stream",
     "text": [
      "You are using pip version 19.0.3, however version 20.3b1 is available.\n",
      "You should consider upgrading via the 'python -m pip install --upgrade pip' command.\n"
     ]
    },
    {
     "name": "stdout",
     "output_type": "stream",
     "text": [
      "Requirement already satisfied: kaldi_io in c:\\users\\shunl\\anaconda3\\lib\\site-packages (0.9.4)\n",
      "Requirement already satisfied: numpy>=1.15.3 in c:\\users\\shunl\\anaconda3\\lib\\site-packages (from kaldi_io) (1.19.3)\n"
     ]
    },
    {
     "name": "stderr",
     "output_type": "stream",
     "text": [
      "You are using pip version 19.0.3, however version 20.3b1 is available.\n",
      "You should consider upgrading via the 'python -m pip install --upgrade pip' command.\n"
     ]
    },
    {
     "name": "stdout",
     "output_type": "stream",
     "text": [
      "Requirement already satisfied: inflect in c:\\users\\shunl\\anaconda3\\lib\\site-packages (5.0.2)\n"
     ]
    },
    {
     "name": "stderr",
     "output_type": "stream",
     "text": [
      "You are using pip version 19.0.3, however version 20.3b1 is available.\n",
      "You should consider upgrading via the 'python -m pip install --upgrade pip' command.\n"
     ]
    },
    {
     "name": "stdout",
     "output_type": "stream",
     "text": [
      "Requirement already satisfied: unidecode in c:\\users\\shunl\\anaconda3\\lib\\site-packages (1.1.1)\n"
     ]
    },
    {
     "name": "stderr",
     "output_type": "stream",
     "text": [
      "You are using pip version 19.0.3, however version 20.3b1 is available.\n",
      "You should consider upgrading via the 'python -m pip install --upgrade pip' command.\n"
     ]
    },
    {
     "name": "stdout",
     "output_type": "stream",
     "text": [
      "Collecting torch_stft\n",
      "  Using cached https://files.pythonhosted.org/packages/9a/53/8a0114930b53459bdc6b090515636bbba7e080905284fb83c995a29eb709/torch_stft-0.1.4-py3-none-any.whl\n",
      "Requirement already satisfied: numpy in c:\\users\\shunl\\anaconda3\\lib\\site-packages (from torch_stft) (1.19.3)\n",
      "Requirement already satisfied: librosa in c:\\users\\shunl\\anaconda3\\lib\\site-packages (from torch_stft) (0.7.2)\n",
      "Requirement already satisfied: scipy in c:\\users\\shunl\\anaconda3\\lib\\site-packages (from torch_stft) (1.5.2)\n",
      "Requirement already satisfied: decorator>=3.0.0 in c:\\users\\shunl\\anaconda3\\lib\\site-packages (from librosa->torch_stft) (4.3.0)\n",
      "Requirement already satisfied: six>=1.3 in c:\\users\\shunl\\anaconda3\\lib\\site-packages (from librosa->torch_stft) (1.11.0)\n",
      "Requirement already satisfied: soundfile>=0.9.0 in c:\\users\\shunl\\anaconda3\\lib\\site-packages (from librosa->torch_stft) (0.10.2)\n",
      "Collecting numba>=0.43.0 (from librosa->torch_stft)\n",
      "  Using cached https://files.pythonhosted.org/packages/a3/23/6484f060008417ce12c3ea11a609a131c725e50fb79b6d30f5a7369a60bc/numba-0.51.2-cp36-cp36m-win_amd64.whl\n",
      "Requirement already satisfied: scikit-learn!=0.19.0,>=0.14.0 in c:\\users\\shunl\\anaconda3\\lib\\site-packages (from librosa->torch_stft) (0.23.2)\n",
      "Requirement already satisfied: audioread>=2.0.0 in c:\\users\\shunl\\anaconda3\\lib\\site-packages (from librosa->torch_stft) (2.1.9)\n",
      "Requirement already satisfied: resampy>=0.2.2 in c:\\users\\shunl\\anaconda3\\lib\\site-packages (from librosa->torch_stft) (0.2.2)\n",
      "Requirement already satisfied: joblib>=0.12 in c:\\users\\shunl\\anaconda3\\lib\\site-packages (from librosa->torch_stft) (0.17.0)\n",
      "Requirement already satisfied: cffi>=1.0 in c:\\users\\shunl\\anaconda3\\lib\\site-packages (from soundfile>=0.9.0->librosa->torch_stft) (1.11.5)\n",
      "Collecting llvmlite<0.35,>=0.34.0.dev0 (from numba>=0.43.0->librosa->torch_stft)\n",
      "  Using cached https://files.pythonhosted.org/packages/b8/b0/f69cb0dc1cff13e6b75ea1190577d590d8d8e2bd3fe803ac45235d4b1ec8/llvmlite-0.34.0-cp36-cp36m-win_amd64.whl\n",
      "Requirement already satisfied: setuptools in c:\\users\\shunl\\anaconda3\\lib\\site-packages (from numba>=0.43.0->librosa->torch_stft) (39.1.0)\n",
      "Requirement already satisfied: threadpoolctl>=2.0.0 in c:\\users\\shunl\\anaconda3\\lib\\site-packages (from scikit-learn!=0.19.0,>=0.14.0->librosa->torch_stft) (2.1.0)\n",
      "Requirement already satisfied: pycparser in c:\\users\\shunl\\anaconda3\\lib\\site-packages (from cffi>=1.0->soundfile>=0.9.0->librosa->torch_stft) (2.18)\n",
      "Installing collected packages: torch-stft, llvmlite, numba\n",
      "  Found existing installation: llvmlite 0.23.1\n"
     ]
    },
    {
     "name": "stderr",
     "output_type": "stream",
     "text": [
      "Cannot uninstall 'llvmlite'. It is a distutils installed project and thus we cannot accurately determine which files belong to it which would lead to only a partial uninstall.\n",
      "You are using pip version 19.0.3, however version 20.3b1 is available.\n",
      "You should consider upgrading via the 'python -m pip install --upgrade pip' command.\n"
     ]
    },
    {
     "name": "stdout",
     "output_type": "stream",
     "text": [
      "Requirement already satisfied: braceexpand in c:\\users\\shunl\\anaconda3\\lib\\site-packages (0.1.6)\n"
     ]
    },
    {
     "name": "stderr",
     "output_type": "stream",
     "text": [
      "You are using pip version 19.0.3, however version 20.3b1 is available.\n",
      "You should consider upgrading via the 'python -m pip install --upgrade pip' command.\n"
     ]
    },
    {
     "name": "stdout",
     "output_type": "stream",
     "text": [
      "Collecting webdataset\n",
      "  Using cached https://files.pythonhosted.org/packages/16/bc/8b98d07eb97a51584ff305b468a13628f3905964d597c62513f6beacb4a4/webdataset-0.1.40-py3-none-any.whl\n",
      "Requirement already satisfied: numpy in c:\\users\\shunl\\anaconda3\\lib\\site-packages (from webdataset) (1.19.3)\n",
      "Requirement already satisfied: braceexpand in c:\\users\\shunl\\anaconda3\\lib\\site-packages (from webdataset) (0.1.6)\n",
      "Requirement already satisfied: torch in c:\\users\\shunl\\anaconda3\\lib\\site-packages (from webdataset) (1.1.0)\n",
      "Collecting msgpack (from webdataset)\n",
      "  Downloading https://files.pythonhosted.org/packages/e1/53/6a3da2b55587e42b220358e0961d4b00917b50aa776ca5c279b466aebfc1/msgpack-1.0.0-cp36-cp36m-win_amd64.whl (72kB)\n",
      "Collecting objectio (from webdataset)\n",
      "  Downloading https://files.pythonhosted.org/packages/86/e3/a132a91c4e9fd5e59c947263c7ef4e3415640fa151344f858e2def8c1726/objectio-0.2.29-py3-none-any.whl\n",
      "Requirement already satisfied: pyyaml in c:\\users\\shunl\\anaconda3\\lib\\site-packages (from webdataset) (3.12)\n",
      "Requirement already satisfied: Pillow in c:\\users\\shunl\\appdata\\roaming\\python\\python36\\site-packages (from webdataset) (7.2.0)\n",
      "Requirement already satisfied: simplejson in c:\\users\\shunl\\anaconda3\\lib\\site-packages (from webdataset) (3.16.0)\n",
      "Collecting typer (from objectio->webdataset)\n",
      "  Downloading https://files.pythonhosted.org/packages/90/34/d138832f6945432c638f32137e6c79a3b682f06a63c488dcfaca6b166c64/typer-0.3.2-py3-none-any.whl\n",
      "Collecting click<7.2.0,>=7.1.1 (from typer->objectio->webdataset)\n",
      "  Downloading https://files.pythonhosted.org/packages/d2/3d/fa76db83bf75c4f8d338c2fd15c8d33fdd7ad23a9b5e57eb6c5de26b430e/click-7.1.2-py2.py3-none-any.whl (82kB)\n",
      "Installing collected packages: msgpack, click, typer, objectio, webdataset\n",
      "  Found existing installation: click 6.7\n",
      "    Uninstalling click-6.7:\n",
      "      Successfully uninstalled click-6.7\n",
      "Successfully installed click-7.1.2 msgpack-1.0.0 objectio-0.2.29 typer-0.3.2 webdataset-0.1.40\n"
     ]
    },
    {
     "name": "stderr",
     "output_type": "stream",
     "text": [
      "You are using pip version 19.0.3, however version 20.3b1 is available.\n",
      "You should consider upgrading via the 'python -m pip install --upgrade pip' command.\n"
     ]
    },
    {
     "name": "stdout",
     "output_type": "stream",
     "text": [
      "Requirement already satisfied: editdistance in c:\\users\\shunl\\anaconda3\\lib\\site-packages (0.5.3)\n"
     ]
    },
    {
     "name": "stderr",
     "output_type": "stream",
     "text": [
      "You are using pip version 19.0.3, however version 20.3b1 is available.\n",
      "You should consider upgrading via the 'python -m pip install --upgrade pip' command.\n"
     ]
    }
   ],
   "source": [
    "! pip install frozendict\n",
    "! pip install kaldi_io\n",
    "! pip install inflect\n",
    "! pip install unidecode\n",
    "! pip install torch_stft\n",
    "! pip install braceexpand\n",
    "! pip install webdataset\n",
    "! pip install editdistance"
   ]
  },
  {
   "cell_type": "code",
   "execution_count": 14,
   "metadata": {},
   "outputs": [
    {
     "name": "stderr",
     "output_type": "stream",
     "text": [
      "A subdirectory or file train already exists.\n",
      "Error occurred while processing: train.\n",
      "A subdirectory or file val already exists.\n",
      "Error occurred while processing: val.\n",
      "A subdirectory or file test already exists.\n",
      "Error occurred while processing: test.\n"
     ]
    }
   ],
   "source": [
    "! mkdir train val test"
   ]
  },
  {
   "cell_type": "markdown",
   "metadata": {},
   "source": [
    "We'll split the dataset up into two splits, `dev` and `test`.  (We won't be doing any training per se, only comparing model architectures, so one `dev` split is sufficient.)  We'll also aliquot the data (i.e. leave 80% out) in order to iterate more quickly.  After we're satisfied with model performance on `dev`, we'll use `test` to benchmark its prospective performance."
   ]
  },
  {
   "cell_type": "code",
   "execution_count": 3,
   "metadata": {},
   "outputs": [],
   "source": [
    "def generate_split():\n",
    "    \"\"\"Choose a split at random\"\"\"\n",
    "    return random.choice([\"dev\"] * 1 + [\"test\"] * 1 + [\"leaveout\"] * 8)"
   ]
  },
  {
   "cell_type": "code",
   "execution_count": 9,
   "metadata": {},
   "outputs": [
    {
     "data": {
      "text/plain": [
       "'C:/Users/shunl/data/leaveout'"
      ]
     },
     "execution_count": 9,
     "metadata": {},
     "output_type": "execute_result"
    }
   ],
   "source": [
    "'C:/Users/shunl/data/'+random.choice([\"dev\"] * 1 + [\"test\"] * 1 + [\"leaveout\"] * 8)"
   ]
  },
  {
   "cell_type": "code",
   "execution_count": 34,
   "metadata": {},
   "outputs": [
    {
     "data": {
      "text/plain": [
       "['.849C9593-D756-4E56-8D6E-42412F2A707B',\n",
       " '.ipynb_checkpoints',\n",
       " 'Attachments',\n",
       " 'desktop.ini',\n",
       " 'JLargeMFE_MT_Notebook_Wks1-4.ipynb',\n",
       " 'LICENSE',\n",
       " 'README.md',\n",
       " 'Shared with Everyone',\n",
       " 'Shunli @ UC San Diego.url',\n",
       " 'testing_list.txt',\n",
       " 'validation_list.txt',\n",
       " '_',\n",
       " '福袋网BP.pptx']"
      ]
     },
     "execution_count": 34,
     "metadata": {},
     "output_type": "execute_result"
    }
   ],
   "source": [
    "os.listdir('C:/Users/shunl/OneDrive - UC San Diego/')"
   ]
  },
  {
   "cell_type": "code",
   "execution_count": 15,
   "metadata": {},
   "outputs": [],
   "source": [
    "from collections import Counter\n",
    "#  test the split function\n",
    "split_counts = Counter([generate_split() for _ in range(1000)])\n",
    "assert 750 <= split_counts[\"leaveout\"] <= 850\n",
    "assert 50 <= split_counts[\"dev\"] <= 150\n",
    "assert 50 <= split_counts[\"test\"] <= 150"
   ]
  },
  {
   "cell_type": "code",
   "execution_count": 17,
   "metadata": {},
   "outputs": [
    {
     "ename": "FileNotFoundError",
     "evalue": "[WinError 3] The system cannot find the path specified: 'data'",
     "output_type": "error",
     "traceback": [
      "\u001b[1;31m---------------------------------------------------------------------------\u001b[0m",
      "\u001b[1;31mFileNotFoundError\u001b[0m                         Traceback (most recent call last)",
      "\u001b[1;32m<ipython-input-17-adfd985b22d5>\u001b[0m in \u001b[0;36m<module>\u001b[1;34m\u001b[0m\n\u001b[1;32m----> 1\u001b[1;33m \u001b[0mword_dirs\u001b[0m \u001b[1;33m=\u001b[0m \u001b[1;33m[\u001b[0m\u001b[0mword_dir\u001b[0m \u001b[1;32mfor\u001b[0m \u001b[0mword_dir\u001b[0m \u001b[1;32min\u001b[0m \u001b[0mos\u001b[0m\u001b[1;33m.\u001b[0m\u001b[0mlistdir\u001b[0m\u001b[1;33m(\u001b[0m\u001b[1;34m'data'\u001b[0m\u001b[1;33m)\u001b[0m \u001b[1;32mif\u001b[0m \u001b[1;32mnot\u001b[0m \u001b[0mword_dir\u001b[0m\u001b[1;33m.\u001b[0m\u001b[0mstartswith\u001b[0m\u001b[1;33m(\u001b[0m\u001b[1;34m\"_\"\u001b[0m\u001b[1;33m)\u001b[0m\u001b[1;33m]\u001b[0m\u001b[1;33m\u001b[0m\u001b[0m\n\u001b[0m",
      "\u001b[1;31mFileNotFoundError\u001b[0m: [WinError 3] The system cannot find the path specified: 'data'"
     ]
    }
   ],
   "source": [
    "word_dirs = [word_dir for word_dir in os.listdir('data') if not word_dir.startswith(\"_\")]"
   ]
  },
  {
   "cell_type": "code",
   "execution_count": 18,
   "metadata": {},
   "outputs": [],
   "source": [
    "word_dirs = [word_dir for word_dir in os.listdir('../../../../../OneDrive - UC San Diego/_') if not word_dir.startswith(\"_\")]"
   ]
  },
  {
   "cell_type": "code",
   "execution_count": 19,
   "metadata": {},
   "outputs": [
    {
     "data": {
      "text/plain": [
       "['bed',\n",
       " 'bird',\n",
       " 'cat',\n",
       " 'dog',\n",
       " 'down',\n",
       " 'eight',\n",
       " 'five',\n",
       " 'four',\n",
       " 'go',\n",
       " 'happy',\n",
       " 'house',\n",
       " 'left',\n",
       " 'marvin',\n",
       " 'nine',\n",
       " 'no',\n",
       " 'off',\n",
       " 'on',\n",
       " 'one',\n",
       " 'right',\n",
       " 'seven',\n",
       " 'sheila',\n",
       " 'six',\n",
       " 'stop',\n",
       " 'three',\n",
       " 'tree',\n",
       " 'two',\n",
       " 'up',\n",
       " 'wow',\n",
       " 'yes',\n",
       " 'zero']"
      ]
     },
     "execution_count": 19,
     "metadata": {},
     "output_type": "execute_result"
    }
   ],
   "source": [
    "word_dirs"
   ]
  },
  {
   "cell_type": "code",
   "execution_count": null,
   "metadata": {},
   "outputs": [
    {
     "name": "stderr",
     "output_type": "stream",
     "text": [
      " 13%|███████████                                                                        | 4/30 [01:07<07:21, 16.98s/it]"
     ]
    }
   ],
   "source": [
    "random.seed(\"MIT\")\n",
    "rows = []\n",
    "def make_splits():\n",
    "    word_dirs = [word_dir for word_dir in os.listdir('C:/Users/shunl/data/_') if not word_dir.startswith(\"_\")]\n",
    "    #rows = []\n",
    "    for word_dir in tqdm(word_dirs):\n",
    "        full_path = os.path.join('C:/Users/shunl/data/_', word_dir)\n",
    "        for filename in os.listdir(full_path):\n",
    "            split = generate_split()\n",
    "            labeled_filename = filename.replace(\".wav\", \"_{}.wav\".format(word_dir))\n",
    "            rows.append((labeled_filename, word_dir, split))\n",
    "            source_filename = os.path.join(full_path, filename)\n",
    "            source_filename = source_filename.replace(\"/\",\"\\\\\")\n",
    "            target_filename = os.path.join('C:/Users/shunl/data/'+ split, labeled_filename).replace(\"/\",\"\\\\\")\n",
    "            #print(str(\"robocopy {} {}\".format(source_filename, target_filename)))\n",
    "            os.popen(\"copy {} {}\".format(source_filename, target_filename))\n",
    "            \n",
    "make_splits()  # uncomment to make splits!"
   ]
  },
  {
   "cell_type": "code",
   "execution_count": 3,
   "metadata": {},
   "outputs": [
    {
     "ename": "NameError",
     "evalue": "name 'generate_split' is not defined",
     "output_type": "error",
     "traceback": [
      "\u001b[1;31m---------------------------------------------------------------------------\u001b[0m",
      "\u001b[1;31mNameError\u001b[0m                                 Traceback (most recent call last)",
      "\u001b[1;32m<ipython-input-3-b15c3f2fadfb>\u001b[0m in \u001b[0;36m<module>\u001b[1;34m\u001b[0m\n\u001b[1;32m----> 1\u001b[1;33m \u001b[0mgenerate_split\u001b[0m\u001b[1;33m(\u001b[0m\u001b[1;33m)\u001b[0m\u001b[1;33m\u001b[0m\u001b[0m\n\u001b[0m",
      "\u001b[1;31mNameError\u001b[0m: name 'generate_split' is not defined"
     ]
    }
   ],
   "source": [
    "generate_split()"
   ]
  },
  {
   "cell_type": "code",
   "execution_count": 15,
   "metadata": {},
   "outputs": [
    {
     "data": {
      "text/plain": [
       "'/'"
      ]
     },
     "execution_count": 15,
     "metadata": {},
     "output_type": "execute_result"
    }
   ],
   "source": [
    "'\\u002F'"
   ]
  },
  {
   "cell_type": "code",
   "execution_count": 7,
   "metadata": {},
   "outputs": [
    {
     "data": {
      "text/plain": [
       "'ss\\\\*.*'"
      ]
     },
     "execution_count": 7,
     "metadata": {},
     "output_type": "execute_result"
    }
   ],
   "source": [
    "'ss'+'\\*.*'"
   ]
  },
  {
   "cell_type": "code",
   "execution_count": 5,
   "metadata": {},
   "outputs": [],
   "source": [
    "%store -r rows"
   ]
  },
  {
   "cell_type": "code",
   "execution_count": 6,
   "metadata": {},
   "outputs": [
    {
     "name": "stderr",
     "output_type": "stream",
     "text": [
      "'/c' is not recognized as an internal or external command,\n",
      "operable program or batch file.\n"
     ]
    }
   ],
   "source": [
    "! dir leaveout | /c /v; dir def | /c /v; dir test | /c /v"
   ]
  },
  {
   "cell_type": "code",
   "execution_count": 16,
   "metadata": {},
   "outputs": [],
   "source": [
    "df = pd.DataFrame(rows, columns=[\"filename\", \"label\", \"split\"])"
   ]
  },
  {
   "cell_type": "code",
   "execution_count": 17,
   "metadata": {},
   "outputs": [
    {
     "data": {
      "text/html": [
       "<div>\n",
       "<style scoped>\n",
       "    .dataframe tbody tr th:only-of-type {\n",
       "        vertical-align: middle;\n",
       "    }\n",
       "\n",
       "    .dataframe tbody tr th {\n",
       "        vertical-align: top;\n",
       "    }\n",
       "\n",
       "    .dataframe thead th {\n",
       "        text-align: right;\n",
       "    }\n",
       "</style>\n",
       "<table border=\"1\" class=\"dataframe\">\n",
       "  <thead>\n",
       "    <tr style=\"text-align: right;\">\n",
       "      <th></th>\n",
       "      <th>filename</th>\n",
       "      <th>label</th>\n",
       "      <th>split</th>\n",
       "    </tr>\n",
       "  </thead>\n",
       "  <tbody>\n",
       "    <tr>\n",
       "      <th>0</th>\n",
       "      <td>00176480_nohash_0_bed.wav</td>\n",
       "      <td>bed</td>\n",
       "      <td>test</td>\n",
       "    </tr>\n",
       "    <tr>\n",
       "      <th>1</th>\n",
       "      <td>004ae714_nohash_0_bed.wav</td>\n",
       "      <td>bed</td>\n",
       "      <td>leaveout</td>\n",
       "    </tr>\n",
       "    <tr>\n",
       "      <th>2</th>\n",
       "      <td>004ae714_nohash_1_bed.wav</td>\n",
       "      <td>bed</td>\n",
       "      <td>leaveout</td>\n",
       "    </tr>\n",
       "    <tr>\n",
       "      <th>3</th>\n",
       "      <td>00f0204f_nohash_0_bed.wav</td>\n",
       "      <td>bed</td>\n",
       "      <td>dev</td>\n",
       "    </tr>\n",
       "    <tr>\n",
       "      <th>4</th>\n",
       "      <td>00f0204f_nohash_1_bed.wav</td>\n",
       "      <td>bed</td>\n",
       "      <td>leaveout</td>\n",
       "    </tr>\n",
       "  </tbody>\n",
       "</table>\n",
       "</div>"
      ],
      "text/plain": [
       "                    filename label     split\n",
       "0  00176480_nohash_0_bed.wav   bed      test\n",
       "1  004ae714_nohash_0_bed.wav   bed  leaveout\n",
       "2  004ae714_nohash_1_bed.wav   bed  leaveout\n",
       "3  00f0204f_nohash_0_bed.wav   bed       dev\n",
       "4  00f0204f_nohash_1_bed.wav   bed  leaveout"
      ]
     },
     "execution_count": 17,
     "metadata": {},
     "output_type": "execute_result"
    }
   ],
   "source": [
    "df.head()"
   ]
  },
  {
   "cell_type": "code",
   "execution_count": 18,
   "metadata": {},
   "outputs": [
    {
     "data": {
      "text/html": [
       "<div>\n",
       "<style scoped>\n",
       "    .dataframe tbody tr th:only-of-type {\n",
       "        vertical-align: middle;\n",
       "    }\n",
       "\n",
       "    .dataframe tbody tr th {\n",
       "        vertical-align: top;\n",
       "    }\n",
       "\n",
       "    .dataframe thead th {\n",
       "        text-align: right;\n",
       "    }\n",
       "</style>\n",
       "<table border=\"1\" class=\"dataframe\">\n",
       "  <thead>\n",
       "    <tr style=\"text-align: right;\">\n",
       "      <th></th>\n",
       "      <th></th>\n",
       "      <th>filename</th>\n",
       "    </tr>\n",
       "    <tr>\n",
       "      <th>label</th>\n",
       "      <th>split</th>\n",
       "      <th></th>\n",
       "    </tr>\n",
       "  </thead>\n",
       "  <tbody>\n",
       "    <tr>\n",
       "      <th rowspan=\"3\" valign=\"top\">bed</th>\n",
       "      <th>dev</th>\n",
       "      <td>154</td>\n",
       "    </tr>\n",
       "    <tr>\n",
       "      <th>leaveout</th>\n",
       "      <td>1389</td>\n",
       "    </tr>\n",
       "    <tr>\n",
       "      <th>test</th>\n",
       "      <td>172</td>\n",
       "    </tr>\n",
       "    <tr>\n",
       "      <th rowspan=\"3\" valign=\"top\">bird</th>\n",
       "      <th>dev</th>\n",
       "      <td>169</td>\n",
       "    </tr>\n",
       "    <tr>\n",
       "      <th>leaveout</th>\n",
       "      <td>1410</td>\n",
       "    </tr>\n",
       "    <tr>\n",
       "      <th>test</th>\n",
       "      <td>152</td>\n",
       "    </tr>\n",
       "    <tr>\n",
       "      <th rowspan=\"3\" valign=\"top\">cat</th>\n",
       "      <th>dev</th>\n",
       "      <td>159</td>\n",
       "    </tr>\n",
       "    <tr>\n",
       "      <th>leaveout</th>\n",
       "      <td>1403</td>\n",
       "    </tr>\n",
       "    <tr>\n",
       "      <th>test</th>\n",
       "      <td>171</td>\n",
       "    </tr>\n",
       "    <tr>\n",
       "      <th rowspan=\"3\" valign=\"top\">dog</th>\n",
       "      <th>dev</th>\n",
       "      <td>160</td>\n",
       "    </tr>\n",
       "    <tr>\n",
       "      <th>leaveout</th>\n",
       "      <td>1416</td>\n",
       "    </tr>\n",
       "    <tr>\n",
       "      <th>test</th>\n",
       "      <td>170</td>\n",
       "    </tr>\n",
       "    <tr>\n",
       "      <th rowspan=\"3\" valign=\"top\">down</th>\n",
       "      <th>dev</th>\n",
       "      <td>244</td>\n",
       "    </tr>\n",
       "    <tr>\n",
       "      <th>leaveout</th>\n",
       "      <td>1893</td>\n",
       "    </tr>\n",
       "    <tr>\n",
       "      <th>test</th>\n",
       "      <td>222</td>\n",
       "    </tr>\n",
       "    <tr>\n",
       "      <th rowspan=\"3\" valign=\"top\">eight</th>\n",
       "      <th>dev</th>\n",
       "      <td>223</td>\n",
       "    </tr>\n",
       "    <tr>\n",
       "      <th>leaveout</th>\n",
       "      <td>1869</td>\n",
       "    </tr>\n",
       "    <tr>\n",
       "      <th>test</th>\n",
       "      <td>260</td>\n",
       "    </tr>\n",
       "    <tr>\n",
       "      <th rowspan=\"3\" valign=\"top\">five</th>\n",
       "      <th>dev</th>\n",
       "      <td>232</td>\n",
       "    </tr>\n",
       "    <tr>\n",
       "      <th>leaveout</th>\n",
       "      <td>1881</td>\n",
       "    </tr>\n",
       "    <tr>\n",
       "      <th>test</th>\n",
       "      <td>244</td>\n",
       "    </tr>\n",
       "    <tr>\n",
       "      <th rowspan=\"3\" valign=\"top\">four</th>\n",
       "      <th>dev</th>\n",
       "      <td>250</td>\n",
       "    </tr>\n",
       "    <tr>\n",
       "      <th>leaveout</th>\n",
       "      <td>1890</td>\n",
       "    </tr>\n",
       "    <tr>\n",
       "      <th>test</th>\n",
       "      <td>232</td>\n",
       "    </tr>\n",
       "    <tr>\n",
       "      <th rowspan=\"3\" valign=\"top\">go</th>\n",
       "      <th>dev</th>\n",
       "      <td>216</td>\n",
       "    </tr>\n",
       "    <tr>\n",
       "      <th>leaveout</th>\n",
       "      <td>1907</td>\n",
       "    </tr>\n",
       "    <tr>\n",
       "      <th>test</th>\n",
       "      <td>249</td>\n",
       "    </tr>\n",
       "    <tr>\n",
       "      <th rowspan=\"3\" valign=\"top\">happy</th>\n",
       "      <th>dev</th>\n",
       "      <td>178</td>\n",
       "    </tr>\n",
       "    <tr>\n",
       "      <th>leaveout</th>\n",
       "      <td>1393</td>\n",
       "    </tr>\n",
       "    <tr>\n",
       "      <th>test</th>\n",
       "      <td>171</td>\n",
       "    </tr>\n",
       "    <tr>\n",
       "      <th>...</th>\n",
       "      <th>...</th>\n",
       "      <td>...</td>\n",
       "    </tr>\n",
       "    <tr>\n",
       "      <th rowspan=\"3\" valign=\"top\">sheila</th>\n",
       "      <th>dev</th>\n",
       "      <td>164</td>\n",
       "    </tr>\n",
       "    <tr>\n",
       "      <th>leaveout</th>\n",
       "      <td>1411</td>\n",
       "    </tr>\n",
       "    <tr>\n",
       "      <th>test</th>\n",
       "      <td>159</td>\n",
       "    </tr>\n",
       "    <tr>\n",
       "      <th rowspan=\"3\" valign=\"top\">six</th>\n",
       "      <th>dev</th>\n",
       "      <td>237</td>\n",
       "    </tr>\n",
       "    <tr>\n",
       "      <th>leaveout</th>\n",
       "      <td>1915</td>\n",
       "    </tr>\n",
       "    <tr>\n",
       "      <th>test</th>\n",
       "      <td>217</td>\n",
       "    </tr>\n",
       "    <tr>\n",
       "      <th rowspan=\"3\" valign=\"top\">stop</th>\n",
       "      <th>dev</th>\n",
       "      <td>219</td>\n",
       "    </tr>\n",
       "    <tr>\n",
       "      <th>leaveout</th>\n",
       "      <td>1926</td>\n",
       "    </tr>\n",
       "    <tr>\n",
       "      <th>test</th>\n",
       "      <td>235</td>\n",
       "    </tr>\n",
       "    <tr>\n",
       "      <th rowspan=\"3\" valign=\"top\">three</th>\n",
       "      <th>dev</th>\n",
       "      <td>235</td>\n",
       "    </tr>\n",
       "    <tr>\n",
       "      <th>leaveout</th>\n",
       "      <td>1875</td>\n",
       "    </tr>\n",
       "    <tr>\n",
       "      <th>test</th>\n",
       "      <td>246</td>\n",
       "    </tr>\n",
       "    <tr>\n",
       "      <th rowspan=\"3\" valign=\"top\">tree</th>\n",
       "      <th>dev</th>\n",
       "      <td>168</td>\n",
       "    </tr>\n",
       "    <tr>\n",
       "      <th>leaveout</th>\n",
       "      <td>1395</td>\n",
       "    </tr>\n",
       "    <tr>\n",
       "      <th>test</th>\n",
       "      <td>170</td>\n",
       "    </tr>\n",
       "    <tr>\n",
       "      <th rowspan=\"3\" valign=\"top\">two</th>\n",
       "      <th>dev</th>\n",
       "      <td>215</td>\n",
       "    </tr>\n",
       "    <tr>\n",
       "      <th>leaveout</th>\n",
       "      <td>1944</td>\n",
       "    </tr>\n",
       "    <tr>\n",
       "      <th>test</th>\n",
       "      <td>214</td>\n",
       "    </tr>\n",
       "    <tr>\n",
       "      <th rowspan=\"3\" valign=\"top\">up</th>\n",
       "      <th>dev</th>\n",
       "      <td>222</td>\n",
       "    </tr>\n",
       "    <tr>\n",
       "      <th>leaveout</th>\n",
       "      <td>1894</td>\n",
       "    </tr>\n",
       "    <tr>\n",
       "      <th>test</th>\n",
       "      <td>259</td>\n",
       "    </tr>\n",
       "    <tr>\n",
       "      <th rowspan=\"3\" valign=\"top\">wow</th>\n",
       "      <th>dev</th>\n",
       "      <td>189</td>\n",
       "    </tr>\n",
       "    <tr>\n",
       "      <th>leaveout</th>\n",
       "      <td>1381</td>\n",
       "    </tr>\n",
       "    <tr>\n",
       "      <th>test</th>\n",
       "      <td>175</td>\n",
       "    </tr>\n",
       "    <tr>\n",
       "      <th rowspan=\"3\" valign=\"top\">yes</th>\n",
       "      <th>dev</th>\n",
       "      <td>229</td>\n",
       "    </tr>\n",
       "    <tr>\n",
       "      <th>leaveout</th>\n",
       "      <td>1923</td>\n",
       "    </tr>\n",
       "    <tr>\n",
       "      <th>test</th>\n",
       "      <td>225</td>\n",
       "    </tr>\n",
       "    <tr>\n",
       "      <th rowspan=\"3\" valign=\"top\">zero</th>\n",
       "      <th>dev</th>\n",
       "      <td>257</td>\n",
       "    </tr>\n",
       "    <tr>\n",
       "      <th>leaveout</th>\n",
       "      <td>1884</td>\n",
       "    </tr>\n",
       "    <tr>\n",
       "      <th>test</th>\n",
       "      <td>235</td>\n",
       "    </tr>\n",
       "  </tbody>\n",
       "</table>\n",
       "<p>90 rows × 1 columns</p>\n",
       "</div>"
      ],
      "text/plain": [
       "                 filename\n",
       "label  split             \n",
       "bed    dev            154\n",
       "       leaveout      1389\n",
       "       test           172\n",
       "bird   dev            169\n",
       "       leaveout      1410\n",
       "       test           152\n",
       "cat    dev            159\n",
       "       leaveout      1403\n",
       "       test           171\n",
       "dog    dev            160\n",
       "       leaveout      1416\n",
       "       test           170\n",
       "down   dev            244\n",
       "       leaveout      1893\n",
       "       test           222\n",
       "eight  dev            223\n",
       "       leaveout      1869\n",
       "       test           260\n",
       "five   dev            232\n",
       "       leaveout      1881\n",
       "       test           244\n",
       "four   dev            250\n",
       "       leaveout      1890\n",
       "       test           232\n",
       "go     dev            216\n",
       "       leaveout      1907\n",
       "       test           249\n",
       "happy  dev            178\n",
       "       leaveout      1393\n",
       "       test           171\n",
       "...                   ...\n",
       "sheila dev            164\n",
       "       leaveout      1411\n",
       "       test           159\n",
       "six    dev            237\n",
       "       leaveout      1915\n",
       "       test           217\n",
       "stop   dev            219\n",
       "       leaveout      1926\n",
       "       test           235\n",
       "three  dev            235\n",
       "       leaveout      1875\n",
       "       test           246\n",
       "tree   dev            168\n",
       "       leaveout      1395\n",
       "       test           170\n",
       "two    dev            215\n",
       "       leaveout      1944\n",
       "       test           214\n",
       "up     dev            222\n",
       "       leaveout      1894\n",
       "       test           259\n",
       "wow    dev            189\n",
       "       leaveout      1381\n",
       "       test           175\n",
       "yes    dev            229\n",
       "       leaveout      1923\n",
       "       test           225\n",
       "zero   dev            257\n",
       "       leaveout      1884\n",
       "       test           235\n",
       "\n",
       "[90 rows x 1 columns]"
      ]
     },
     "execution_count": 18,
     "metadata": {},
     "output_type": "execute_result"
    }
   ],
   "source": [
    "df.groupby(['label', 'split']).count()"
   ]
  },
  {
   "cell_type": "markdown",
   "metadata": {},
   "source": [
    "Q: Here we have done a simple split where we have randomly assigned each file to one of `dev`, `test` or `leaveout`.  For our purposes this is sufficient, but could this approach be criticized on any grounds?  What if we wanted to ensure that the distribution of vocabulary is exactly consistent between splits?  How much of a concern is this, when our dataset is as large as it is?\n",
    "\n",
    "(Hint: look at `sklearn.StratifiedShuffleSplit`)"
   ]
  },
  {
   "cell_type": "markdown",
   "metadata": {},
   "source": [
    "# your answer here\n",
    "* we could "
   ]
  },
  {
   "cell_type": "markdown",
   "metadata": {},
   "source": [
    "Save the dataframe so that we don't have to regenerate it upon reloading the notebook:"
   ]
  },
  {
   "cell_type": "code",
   "execution_count": 19,
   "metadata": {},
   "outputs": [],
   "source": [
    "df.to_csv(\"manifest.csv\")"
   ]
  },
  {
   "cell_type": "code",
   "execution_count": 20,
   "metadata": {},
   "outputs": [],
   "source": [
    "df = pd.read_csv(\"manifest.csv\")"
   ]
  },
  {
   "cell_type": "markdown",
   "metadata": {},
   "source": [
    "Let's now visualize our waveforms."
   ]
  },
  {
   "cell_type": "markdown",
   "metadata": {},
   "source": [
    "## Data Exploration"
   ]
  },
  {
   "cell_type": "code",
   "execution_count": 21,
   "metadata": {},
   "outputs": [
    {
     "name": "stdout",
     "output_type": "stream",
     "text": [
      "05d18852_nohash_0_left.wav\n"
     ]
    }
   ],
   "source": [
    "filepath = df.filename[(df.split==\"dev\")&(df.label==\"left\")].iloc[3]\n",
    "print(filepath)"
   ]
  },
  {
   "cell_type": "code",
   "execution_count": 11,
   "metadata": {},
   "outputs": [],
   "source": [
    "?librosa.load"
   ]
  },
  {
   "cell_type": "code",
   "execution_count": 31,
   "metadata": {},
   "outputs": [],
   "source": [
    "import soundfile as sf"
   ]
  },
  {
   "cell_type": "code",
   "execution_count": 22,
   "metadata": {},
   "outputs": [],
   "source": [
    "left_data, sr = librosa.load(os.path.join('C:/Users/shunl/data/'+ \"dev\", filepath).replace(\"/\",\"\\\\\"))"
   ]
  },
  {
   "cell_type": "code",
   "execution_count": 23,
   "metadata": {},
   "outputs": [
    {
     "data": {
      "text/plain": [
       "'C:\\\\Users\\\\shunl\\\\data\\\\dev\\\\05d18852_nohash_0_left.wav'"
      ]
     },
     "execution_count": 23,
     "metadata": {},
     "output_type": "execute_result"
    }
   ],
   "source": [
    "os.path.join('C:/Users/shunl/data/'+ \"dev\", filepath).replace(\"/\",\"\\\\\")"
   ]
  },
  {
   "cell_type": "markdown",
   "metadata": {},
   "source": [
    "Let's visualize a raw waveform:"
   ]
  },
  {
   "cell_type": "code",
   "execution_count": 24,
   "metadata": {
    "scrolled": true
   },
   "outputs": [
    {
     "data": {
      "text/plain": [
       "[<matplotlib.lines.Line2D at 0x1b56da9c0f0>]"
      ]
     },
     "execution_count": 24,
     "metadata": {},
     "output_type": "execute_result"
    },
    {
     "data": {
      "image/png": "[encoded data removed]",
      "text/plain": [
       "<Figure size 432x288 with 1 Axes>"
      ]
     },
     "metadata": {
      "needs_background": "light"
     },
     "output_type": "display_data"
    }
   ],
   "source": [
    "plt.plot(left_data)"
   ]
  },
  {
   "cell_type": "markdown",
   "metadata": {},
   "source": [
    "What are the units of the axes of this plot?"
   ]
  },
  {
   "cell_type": "markdown",
   "metadata": {},
   "source": [
    "We can listen to the file using IPython's built-in audio player:"
   ]
  },
  {
   "cell_type": "code",
   "execution_count": 25,
   "metadata": {},
   "outputs": [
    {
     "data": {
      "text/html": [
       "\n",
       "                <audio  controls=\"controls\" >\n",
       "                    <source src=\"data:audio/wav;base64,UklGRmisAABXQVZFZm10IBAAAAABAAEAIlYAAESsAAACABAAZGF0YUSsAADAAUsC1AJfAzkDLANKA8oCdwKVAkMCDwJVAjgCLALNAiID3QKPAhICfgFYAXUBkAG2AaYBawGYAT0C1QIiA10DuAMCBPEDoQNfAzADEwMIA8cCLQJ1AdUAkwDYAE4BpgG2AR0BMwDa/8v/Zf9L/+v/TwDN//z+nP6w/vz+d/8DAF8AdwAtAHf/1f7I/hv/Xf+U/83/dP+B/kf+Cf+b/x4AcABI/wD+Cv7v/XL+5v9I/pb7i/yb+mHzCPN3+uX9G/72/bn1Oul05zHxovxZAov9dvVr+rkJ2A+uCeEDQwF3/qf/pgZMDUoQkQ5lBgb/hQGUCIoNKRJbD0r/aPSA+/ACPQCC/pf9I/dS9CD5lPv2+aP4wvfH+Z79Ov0N/RABT/87+GP6OQOyBCoA/v17/yYE9QiwBwkCVAA9AzoEMgK/AdcDXQZxCYYLNwhLAXb+XgJPCTwPWRAUCgAAJfrP+4n/0P1K9t3wDfRa+138AvX97XnvSPhKAGcCSwGdALwAuALPBgEKDgwKD5kQnA7cCyMJ4gReAasA6wC4AZkD/AI5/Tv25PKO81n2v/g4+Hf1b/ON8njxuu9t7PnnpOaS6onvb/Il9Xj3XPZe8xvzG/a3+s8AbQYNCGEGvgQ/BGwFAgn7DL8O4w62DmMOqg7UD9IQwRFiE/YUXhY4GH0YIBWSEEQOTQ6BDyURwREsECoNwwntBVYCtADlANkA4/+c/sD8LvoH+Hf3xPhX+qr5W/em9sT3Nvh/9+f2Jfdi+Dv6zfuO/H/8Mvxc/Mz8X/3j/vEArAGoABT/sP3q/Ab9C/3B+9v5H/l/+WH5W/j09v/0LfNc8/n0nPWF9Rf2V/aZ9SL1MfUs9bb17/aS92j3hfda+G35Xvps+/X8tf4kACkBEAJaAwwFuQa6CEsLOA0BDkQOiA02DKkMjg4lD2AOXw25CxcKtAlpCRkIpAYuBfMCxwDw/4b/Ev5w/D38xfyN/M/7k/tj/Kr91/30/Hz85fug+uD6vPxG/cr8RP09/av70vqC+xv8dfzB/Zn/awAiABYAjwDLAMAAkgA+AEEAmQDHABEBHgHy/5j+ZP4P/tj8XPwb/ev9gf72/rT+rf2s/Ez86fyo/ncAlQAK/7P9lP0A/jT+K/6C/pv/xwB7AVMCagPZA7sD6wMvBCcEXwTgBN0EMARbA7UCpQIpAzMDRgJlATIB/gBXAIb/qf6D/SH8dPtc/L/9kP3w+576Ivr4+TH65fpi+//6Mfri+Tz6Cvss/Pv8/Pww/XT+AwA7ATgCkwI+AmkCjwPIBKEFiQZeBzUHJAbOBeEGzQekB14HSwf0BsAGrwYHBkAFCAWaBLMDaAPPA9AD+wKnAZUA3AAsAlACkQAn/0n/l/9J/w3/M/+h/zkAzgB0AQoCQwLCAq4D3AOUA08EdwWbBdIE3QO0A/YEWAZpBtgFVQVlBEoDnwLlAQYB4QAPATgA6f6O/nf+b/08/Kb7Avsl+pP5MPnS+JX4VPg0+J34OPl6+WL57/g7+PP3o/jx+SD7Efwl/SX+qv5Z/4AA/QDCAFwBhgLGAusCMwSBBQgG0QbMB8IH9QZpBv4FRAVyBPgDBwQFBCgDGwLqAfEBiwFQAdgAW/8R/qz9rPwr+xz7FvxF/M/7ivtM+9/6U/ro+TL6z/pn+jP53viI+fL5Dfqz+rL7Pfx7/Oz8U/1P/dn8Ffyx+w38Q/w1/CX9e/5d/qj9+P0x/mX9w/yY/D/8Vvwk/aT9zP12/lj/s/++/9H/0//f//T/hv+y/p7+nv+VAOYADQFzAQgCWQLvAVkBYwFVAdAAFAHfAa8BmgHOAnAD+QJKA+MDSANoAsoB4QCdAHEBOgLPAg4DJAJBAaQBtgHiAMkA/QA6AK7/FgBRACcADQC4/1T/Iv9w/mL9H/2q/VX+7f4r//T+q/5k/lL+5P6j/woAjgDLANz/p/41/tH9gP10/iIAEQFMAQYB6v8O/4X/7v9P/xP/nf/Q/+7/bQCGAHEA0wDNAEkAVwBmAKf///7D/oL+zP6p/zUAqQByARMCewKeAt0B6gDvACYB9gByAZ8CWwO+AxsEFwQoBMYEBAVzBOQDxAMFBJwEAgUtBdUFiwZ9BmsGkgamBQ8EtAM0BOYDEwPmAkcDjwOnA84D6gNtA20CsgEJAcD/sP4F/9L/1f/F/30ARAFfAT0BRQEZAVwAav/y/vr+Cf87//H/ygBvAUkCQwNwA7EC1wEoAWkAvf99/7r/LgCHAK0AxwABAUgBNwGKAJ//6P45/nz9RP3b/Yv+n/5C/uH9ev0l/S/9R/3u/ID8cfxy/E78T/yY/Az9af1z/UX9Av2Z/Eb8avzW/On8Yfzu+x/8Ovzz+1D87PyC/Cz8vfyH/KD70Ps8/LX7nPtt/AD9Lf0e/dT86vwe/bn8tvyP/cP9av35/Z/+bP6n/oj/7P8sAGYAsP8c/9H/VAAdAGUA1wD8AHsBqgE7AacBWgKRAYgAnQDLANkARgFWAf4A9gD8ABMBcAELAfX/vv/s/xP/O/6B/u/+LP/M/1gAcwCHAD8AUP/F/iz/w/8bAAsAMv9U/q7+qv8MACgAkQDKAJgAWQAOAMj/1v/1/9z/4/8aAEsAcgA+AIX/Bf///tr+rv69/q/++f74/0cATf96/lf+S/6Q/vD+l/4a/hH+0/2f/fT99P3u/f/+2v83/3j+Tf4m/qv+7f+JAH0AnAC1AMoAOQG1ASsCjwJIArsB6AEuApoB4QDRAB0BfAHPAXYBhQA0AMIABAGyAHgARgDx/+r/OACrAEsBdQGZAJr/Xf/T/9gAyAF2AVgADgBsADsABAC0ADoBfgCa/8D/EABq/3f+dv4k/1D/2/6z/vj+Af/j/hf/JP+R/hX+O/5f/iL+KP6y/in/Df+H/ib+Pf5r/l3+Sv5e/qn+JP9R/xf/P/+d/2j/ff94ANYAQQBYANEAWwDo/3wACgHlAL4A5QAtAXoBjAFqAXEBkAGAAWIBRQHxALIA8QBGAUkBdgHzARgC0AGSAUMB0ACnAL0AvwAIAf8BIQOLAwMDJwKmAY0BiAFhARsB2wCfAHAAtQBKAV4BIwF3Ad8BqwFnAUcBAAE2ARECXgIBAiYCuwLOAmUCDALvAd4BlgFSAWgBUQG4AJQAIQEvAcoAKgHjAdMBbQFKAdwA6P8O/9H+Hf9k/1P/c//2/yAA3v/C/7//l/9w/1z/jf/o/4n/of6e/lT/mP/N/1kAYgDK/0//Kf9e/7P/mP93/9v/3v8J/4n+4v4x/xz/Hf9p/8X/2/98//z++f5t/5n/Wv+B/yIAUAAFAC4AqwCUAAgAvv+k/4v/vf8wAGsAWQA/ADgAVACqAD4B6QFFAhcCuwFzAUABlgGBAhYDJgNxA8kDjgNGA4wDAAQ6BC8EsQPnApwCEgNuA1EDYgO/A/ADIQQ5BJcDrwIzAs4ByQGlAjkD/AL/Ag8DeAIPAvcBawEKAT8BFgGrAKYAcQD4/yUA0wAFAakAPwDq/53/jP+r/3z/Q//n/+EA8QBwAEgANAAFAPb/kv/C/nr+2v7//vj+bf/T/1r/lv5C/gD+xv0P/kr+2v2Z/en91/2G/bT9v/1U/T79Yf2L/WH+Iv+a/uv9Hf4x/v/9RP5z/jn+VP6d/oX+WP4c/o39L/1W/Yv9qP29/Wr9yvyl/Ov82Pxh/PT7qPuO+7z7Ify//B39ivyl+3L7n/vy+7f8HP3M/Pr8jP1v/S39I/3H/Mb8Y/1//YX9D/6//dX8LP3n/a79mf35/fD99v02/hT+Rv4T/yz/lP5q/mP+Gv44/rz+Cv9B/3z/Vv8I/yr/e/+X/9D/JQAPAOT/GQADAKT/FQDbAKMAEwAiAF0AhAC6AJoANgAPAAkAGwB4AN8ANgGfAcwBcwGoAN3/9P/JABIBCgHUAY8CcQKxAmwDRgOXAl0CIQKSAQwBbgAIAKgA4QHHAncDwwPlAqgBmAE1AjUCHAKuAv4CYAKtAaEBKgL/AnwDLwOhAkECqgHyAMgAAQHwAKYAegBQAA0A2f+z/33/R/8k/xf/Bv+w/j3+XP71/gj/gP5J/oj+sP65/tr+FP85/9D+2P1X/dz9uv54/xkAPADC/1H/Hf/i/gD/sv8tACIAGwAFAJP/U/+m/xkAlgBTAfYB9gFAATQAbP9Q//P/FAHYAaUBPAE1AdQAJQBGALsATQDN/wcA0/8o/7n/CwFjAV4BwgFsAXoAUwBYALj/hv8BAEMApgBaAU4BmQBJADIAxv87/+X+wv6I/i3+Y/5J/wwAjwDlAFkATv8M/0r/W/+a/8L/eP+R/xcALwBMAPEAdQGtAccBagGVAJH/u/4D/zIAiwADAOz/1f9U/4v/NADR//T+EP+1/9D/d/9U/7X/iwBtAZMBwQDx/8r/y/8BAMgAGAGCAFgApwA4AIf/Vv8N/8X+Av/v/oL+Kv9oAFoAqv8tABABtQDn/8b/of8i/z//GgDBAKgAFgDs/5QAAQGAAAYA+v+r/1X/mv88ALMAowBKAG8A2wDQAMAA9QDTAJMAWwDB/8r/1wDwADIAugCWAVMBLQEsAU8A/v+tAGcAe/+c//n/uf/q/4kAbwD0/x8AhgAzAG7/AP/i/t7+Fv9W/2n/q/8QAA4AwP+o/9b/DQDx/07/ef7l/bP9zP0D/oP+YP+x/9X+0v2x/fb97P2j/aD9H/6A/jn+Cf54/sj+yv4j/3//UP8k/zj/Ef8C/07/N//v/nr/DQCL/+H+yf5p/uT9Df5m/pD+B/9L/9T+rv5m/wEAGwAhABEA9P8qAMEAgAECAvMBzAHgAYwBFgGBAQoCqwFjAZEBKQGcAOIAKwHoANsAGAEjAfkAowBoAKgA7QDmAAIB/wB9AFoAywDDAIAA2AD5AHUAdgDwALoAKgD9//r/IAB1AIgAsAA8AUUBvwDEADwBmAEfAnIC9gFuAWgBVwEjARIBIQF4AbABIgGTAM0A+QDYAB0BKgF1AAoAAQB2///+K/8L/7L+Df9M/5H+9f0z/mn+K/4F/l3+BP8z/6P+k/68/6MASgDD/7j/sf+L/z//5/5m/4kAhABl/zX/8v/f/yb/I/98/w3/T/6M/nH/qP9E/zb/W/9g/7b/JQD2/6//HgDHACoBfwGaAT0BBQFFAV4BLAFvASoCXALKAWIBkgHDAYMBJgEuAXQBXgEXATcBYwEoAQoBIwEiAWwBuAH9AO7/2v8tAB4AAwDl/6//wv/I/2v/iP9FAHIA4/+V/53/bP85/1r/mv/p/1gAYwDO/0//Jv/D/pL+gf/GAAMBdQDl/2D/GP88/2X/nv8fADUAtP+y/zkAIwCZ/4f/rP+E/1//iv/b//b/ef/E/sH+Yf/b/yMAjQDXALoAeAByAHQA//+J/wcAtwBOAMT/HwA0AKv/2P9kADIA5//b/3b/Yv8PAEQA3v/F/6r/l/9fAAQBUABp/yj/7/71/nn/iP8v/2f/zP+x/5z/0P/P/7r/+v8tAOL/kf/Q/zoASAAzACsARwD8AMQBTgFBAEUAvwCLAGcAsQC1ALoABwHbAFEAFwARAF8AEAEkAacAygAiAekA7gBOARUBmACMAK4A6wA3AQQBgwBRABEAkf+I//L/7v+c/6X/lP/l/lP+WP5+/t7+z/+SAF0Aev+g/lv+wP5B/17/U/+Q/wgAQQAZAA8AKgCz/6D++/1k/lb/4f+4/3P/hP9z/+r+rv5U/xEASQCaAAMBggB2/zT/hf98/3j/DgCwAJwAAwDG/yYAeAB5AJ8AvABOAMf/vP/h/+L/CgBpAJoAqQDsAC0BGwEYAUkBCQFBAN7/OACRAHoAmgByASoCywEiAUIBQgFnAAQAnADQAGsARgAxACIAigDZAKwAvAAeAS0B4wChAI8AfwArAPb/RgCpAO4AUQFyASwB8QDFAKUAqgBaAOX/EgBZAB4AOgDOAPAAvQCzAJIAUwAmAP////8rADUARACqAAkBwwDf/yL/Rf/h/yIAEgDg/2j/OP/H/1AAYQCDAJ8AQQC3/zX/rv6S/v7+VP+F//j/fQC9AOkAPgFKAXkAVf/l/ub+ov6z/oL/EwAoAGIANQA0/6v+Iv9C/6f+N/7+/bn99P3N/o7/vP9U/8T+s/4K/wv/s/6u/iP/hf+C/4L/z//b/2//if+WAE0BsQCw/1P/Rv9C/8D/WwAuAJr/Uv8Z/9j+y/6s/of+0P42/3L/0f/x/1P/tP6z/sv+2P41/23/Lv9J/97/2f9Z/4P/AQAUADwAcwAEAJT/v//a/9v/+P92/+P+lP9wAAEAXP+E/8X/1/9JABcBmAFwAQwB3QCOACAATwAJAZsB/QFMAkAC3gGQAYsBkgFaASgBSwFBAdQAigBMANL/yP9yAOIAsgCVAPAAQAH2AHgAcwBxAAMA5f9EAIsACAHGAcYBNQHxAKMALwA0AEkADQAYAEcATwDZAF8BrAD+/8UAgAHxAGMAbAAqANH/8v8QAAwASQBwAEUARwBWAPn/g/9t/6n/DABEAAUAlv9Q/x//BP8r/27/mP/N/yIAVABSAFMAPQDw//D/iAAUAQYBpgBjAEoAOgAXAP//JAB8AMsA3gCOABgAJAC7AOkAVwD0/yAAAQBb/wL/MP9d/5D/EABfANX/8f7G/kr/af/g/p/+6/72/p7+mP7i/h//qP+dABoBgQBV/3f+L/4m/lz+HP/D/3z/6v7v/jX/df/1/3cAhwAXAE7/uf76/pb/u/+p/7r/k/87/yf/Qv98/9z/0v9C//f+7/7d/nP/egCYAPj/mf9r/2L/h/9k/4X/lQBfATIBGwEaAbEAkQB8ALr/jf91AKUAEQBAAHIA4/8DANcA0ABrAGYAyf/q/hv/gP89/2X/NwCzALwAlgA7AO7/rP9q/8b/nADaAH8ANwDc/4z/8f+bAIkA7P+e/9X/IwD//4P/nv+EAAMBdQC5/2n/GP+1/tr+j//9/5r/Cf89/wAADQD1/tr9uf0S/k3+vf5t/+r/HwDo/xv/j/6v/n3+5P3w/T/+9f2w/e39Mv5s/qf+h/5N/lb+FP5m/Tb9vv1A/m7+cf53/tf+fP+3/4b/cv9p/03/PP/W/k7+oP6J/wMANQBoAFkAIQCS/5H+af5o/93/sP84ANYAtAC5AOoAkwB4AOoA4QB4AFIAAgCs/wEAVQD6/8b/MwCWALEA3gD8AK4AKgDr/+L/vv+u//f/WQCIAH0ATgBEAJIA3ADLAJ4AnwCQAEEAEQBOALIACAEvAbkA9P/T/wsA6f8aALcAhADe/xUAqwDxAF8BtAGGAX4BigExAUcB+gEoAgoCVQJlAlMC/QJPA1UCfwFxAesA3v9W/3r//v92AF0ADwAXABAA9P8oABgAYf/e/uL+x/6G/q3+cP9xAPwA3QCpAJMAUAAEAOb/yP+u/87/GQBaAEcA2v+0/ycAewA9AP//7P+z/6//NwCkAH0AXQDLAE0BHwGbANgAogG/AWEBbwFUAY4AQwDiAFsBXwFfAR8BwADtABABegA2AKcAqQCWAFQBrgEvATcBVAGAABsAzQA6AUIBZwE7AfwA+QB1AL7/x////6//J/+W/kD+cv6U/nH+kP53/sH9RP0U/dn8YP1l/lz+y/3r/eL9df3m/Zv+R/7T/Qr+Gv76/Vb+y/77/k7/o/9j/7j+Pv45/qr+Q/9a//L+2P4Q//z+9P5Q/1z//P7S/rv+ff5H/vD9w/1p/kn/0P+UAFwBQgGwADkAtv98/+T/hAAdAZ4BsAFzAXsBwQGNAcEAXADAAMAA5/9j/83/xgD2AX4CzwHyAKcAVADV/5z/v/84AK8AugDsAJkB9gETApcCuAL9AaIB6gGwASUBHAExATIBnQEKAtsBmQGiAXkB/gB3AOr/Vf/k/tv+Xf8IAJEADwH3AM//1f4Y/6f/xP/d/+j/n/9W/zL/Kv9u/9n/QwDhAFgB6gDb/yf/Jf9T/4X/PQA2AUQBjwBgAJ8AiACNAM0AggAPADYATwBVABwBhwFxAHj/bP/8/pT+HP80/4r+W/73/fT84fx9/Yb9wv0i/kj9T/yn/Az9zPwH/Yv9cf1O/ZX9uv3w/cX+wP9JAIIAYwDW/0n/Iv9O/4v/of+t//f/ZAC8APcA7ACDAOn/OP/O/gP/Rv8y/4X/QwBWANr/1/8cABYAAgDN/z//FP87/8D+i/7B/7UATwA/AMkAXgBw/xn/+f4F/3n/uv/d/04ATgDH/+b/bQAdAH//rf/e/z//9f6i/+n/c/+H/wMA+P/d/xkAMQAiAOj/Sf8P/5X/zP+h/ywAJgFAAXoADABkAI0ADwDN/+P/h/83/63/7f+B/5H/CgC3/yj/Z/+A/57+1f33/Yj+EP8+/wz/G/93/6j/HQDSAI4ArP+o//b/pv+n/2UABgE4AeUAMAAhAMwA/wDbACcBHQE3AJv/CADkAH8BxQHfAeIB7AEYAhQChgHLAE8A/P/5/28AxQCkAKEA9wBTAZQBegHNADcANgAPAFv/8f5P/8//CgBmAAwBYwEaAdAAAgEVAVwALf9Q/i/+qv51/1AAyQB+APj/5//r/6X/t/8uAP3/Hf/T/k//v/8sANsAIAHiAOMA8gCiAJEAzQCfAHcA1QDVAEkAiQDKAYYCFwJ9ATMBpAD8/+D/7//P/xIApQDkAPEABwH9AN0AqwBcAC4AIAAaADMAcAA1AYcC/wITAhQBXwCt/77/JgC8/1f/kf9v/2P/EABoAHsA8QClAJD/NP8m/+f+pP+1AK4AtQB5AbEBkgHCAT4BawDoALIBZQE0AZABRAHYAFcBxAGgAbUBmAHfAIcAcAD3/zIAOAE3AZkA3ADSAMr/e//V/3T/Pf/z/2MAcwCkAEQA2/+KANUAsf9R/3oAGgHPALIAhwBHAJAA2ADNABcBLgGTAJsAfAGmATYBNwE1AfYA5QCpAFwAlAB7ALv/tf9zAMgAHQHaAfgBWgHVAEQAj/91/wcAuQBCASsBMQBS/2r/AgCBALYAWQCm/0P/H//2/gj/Rv+M/w8AWwD//7D/r/9j/wT/2/6D/kH+O/7E/WL99P2E/lz+Vf50/v/9ZP1v/e/9Av5X/c78/vxD/Vv9wv1D/lf+Bf55/R/9Qv1V/ST9TP2p/cj9Kv7q/vr+H/6j/UL+A//8/tj+Qf+A/xX/sf7y/p//CAD1/wgASAC//8H+if7M/un+Sf/T/wsAMgBPAEYAfQDGAMoA7ADVABQA2/+NAN4A+AC2AfEBCQF2AL8A5wB4AND/mP8EAFQAUQCdAOIAyAAOAX8BOQHRANMAogApAMn/uP9jAGkB0QHcAQYCFQJHAnsC7QEwAQwB7ADOABYBEwHuAJoBPgLiAXABXAEpATABlAGHARcB/gAbAUcBxQEZAskBfAFxAQYBfwB+AHYAEAADAEQAIQDy/1sAEQFnAQQBQwDu/7X/zf4W/oL+6f7D/iP/v/+0/8L/DgCx/xP/6v77/kz/kv9P/5z/xQATAcEATQGQAb8AjgAFAakADQD6/+T/DQDDAAMBtwDCANEAjACVAHsAg//A/s3+fv7h/R7+sf6y/nX+NP4o/pT+bP5G/eT8pP3k/br9LP6p/qz+fv4L/rb9C/4o/of9Q/2h/bz9wf0p/k/++P30/UH+Dv6i/eH9kf7z/gT/E/84/37/sf/B/xAARQCH/73+OP/o/8z/CACJANX/4v4t/5f/ZP9v/4n/lf9DAJsAqP/r/h//Hv/0/i3/X/+//5IA7gC8AOsAQAEzAUgBfQEhAZ0ApACPANr/ff88AGgBDgIqAjMCBwIjARMA8v9UABgAtv8WAMwAOwFxAX0BnQEMAkUC2AENASkAlf/R/1kAWAAwAG4ApACXAKkA3QDrANkApgAXAHX/ZP/B/wIAjgCaATMCGgLkATMBTwC5AMkBpQEiAV8BKAEnALH/7f9aAPQAQwEIAdcApwAaAIj/Mv9E//3/nQCCAKkAbAGXAUIBTwEYAWwAewADARUBYQFCAqMCTwLhAZUBuQETAtMBVAFcAXMBSwFcAZ8B+AF2AmkCjAHgAMYAnwB+AKUAiAD9/3T/zf4R/g/+q/4J/4L/PwD4/8P+Tv54/k/+dP43/8D/sP/1/uj9yf2M/vb+N/+W/z7/rf69/n7+3P0V/s3+N/+R/47/Ff8n/6v/4v9MAOIAmQDU/5v/wv8qABABlAEZAaUAngAbAI3/AQCOAFoAQgAFAM/+Hv4D/+P/EQBeAFcAyf+u/8L/d/+P/9r/ef8w/3P/aP9P/4L/Jv+3/kD/fv+0/oX+H/80/0L/3/81AFgAugCWAO3/z/8bAHAAPgEAArQBGAE0AWwBHQHBAKgAsgD4ADwBFQHiAN4AcADr/0wA6ADEAKcA4wCaABkAAgC5/zv/Rf+Y//H/bQBZAIf/Of+4//j/2v/y/yoASQB3AKgAmQB4AJgA0QD8ACAB9gB8ACYAAAAZAK0A9wCWAHYATQAw/2v+Jf/8/xEAIQA2AO//av/e/rT+Pf/l/xkAAwC1//b+IP4L/sH+Uf9W/13/ff9d/yb/Cf8E/z3/eP9Q/xH/3P5h/hf+Y/6B/ln+4/7N/+f/mP+z/67/H/+M/hP+q/3F/RH+8/3r/Uj+Wf4f/vn9hv0f/aT9Tv4I/m/9Ev2X/GD89/yw/fn9Kv5V/j7+S/64/uP+k/54/qj+hf5A/nb+z/60/nr+qf4i/3v/kP98/3T/rf/w/7z/X/+Z//f/5f8+AAQBwgD1/ysAnABLADkAjwBmAEgAowCjAG4AzQBRAXgBVAHXAIwAAQFTAREBJwFKAbgAsACyAfUBSAE+AYcBLAH3AG4B3gEkAnQCggJTAjAC/QHKAbYBVQHEANwAJQFoAFP/M/+1/0MAzwC0ABkATADSAC8AIP/i/u/+w/6p/sr+Xf9CAOUAaAEKAv4BIgGVAI4AgQC8AHQB4AHoAWIC9QK9AoQCIQOTA2oDewNTA2EC0gH2AbwBdwHMAQ8CKAJvAj4CiQEbAdgAkQCGACwAYf8m/37/mv+T/1r/mv4j/k7+Hf7P/TH+P/6e/bf9Sf4H/pv9nv12/Yb97v12/ZD8k/ze/AH9lP3I/WL93f2d/hH+g/3f/dr91f28/gL/Xf6Y/vf+OP5J/r3/KgC9/x8A6P9i/vT9vf6q/mf+H/+2/9j/MQBIACUAhQDCAFAA+f/g/7f/wP/O/8z/RgDXANwA7wAYAbQAdwDqABIBsAB/AGEAOwC6AKsBHAL9AaQB8gBOAHwA8AClACYAWQDCAOMA9gDgAKsA4gAsAeYAoADEANAA1QATAS0BYwETAlsC9wH4AS8CxgF5AbIBpwGiATICjwJ3AnUCVAI5ApICbgJ0AQYBLwHGADsAdgARAYABvQH6AUgCBgIDAV4AfACSALQAPAGCAUAB/wDfANAA+ABVAdkBYAKQAmsCFAJlAaoAhQDmAGsBHQLSAgsDsgIYApABWQFHAcoAx//i/qr+9/5Y/5T/qf+Q/0n/EP8F/9L+W/4y/lP+Df64/WX+vv+VAMIAqgBTAOH/qf95/wj/s/7g/kD/Wf9I/4H/7P/i/1P/+f4U/wr/g/4K/ln+SP/Y/9X/BwBMAOv/hv+z/4//9/7m/jn/Rf82/zT/OP90/7f/1v8GABwA7/+5/1n/3P6//tL+4P5S/4//7P6Q/hn/Tv/t/sf+wf6Y/nz+Mv7Z/S3+4/5H/7X/JgC5/+X+yf7z/uz+Nv9f/+H+sv4P/xz/Mv+///n/y//S/+j/4f/V/5b/UP9K/1X/n/9cANsArwBjAE0AJgCc/+7+4P56//H/DQAAALz/if+f/5D/YP9u/2r/TP+X/+v/r/9Y/1X/S/8h/0n/zf8pAD8AdQCmAGcARACkALsAegDAAFUBlwG7AcABnQG5AaMB5QBxAJ8AeQADANf/tf/P/3MAvgBuAG4AZACJ/6f+T/4K/jD+Gv/g/wsADgD0/7z/w//z/yUAUgAGAE7/Qf8aANEAEQFhAb8B2gHFAY0BPAEjARwBnQAJABIATQBhANEAQgHPAC0AXACSAP7/W/9F/0z/Pv9m/6v/xP+4/7n/9f8vALf/q/4c/g/+w/3H/bz+xv9HAH0AIABI/9L+vf6p/t/+A/+j/pj+C//n/rD+jv9zADcAmf8I/0H+z/3v/QX+Mv6l/rr+if6Z/nn+LP5x/tn+wf67/u7++f4b/zv/C/8m/3D/6/5Y/uj+n/+h/9//iADCAJgAXwACAP//wgBgATIBIAFiAcMAh/9M//D/VwCzACIBMAE2ASsBegATAJoAzQC3AFYBewG1AAUBGwLlAW0BAwIuAo8BTQH4AIIAEwGwARsB3wB5AUIB2wCeAeYByQBEALQAlwBqAPYA/ABNAF4A0gBlAOT/BgAGAAAAiQDtAA4BlgH3AeQBHQIRAi8B6ACUAb8BaQFlAYoBtwHKAYEBkQEUArABfgD0/xQATwCwAMIARgAoAMwAXgErAX0APgCSAIIA9f/B/7X/ef/S/8sASAEEAb0A+QB4AZABSQErAbQAr/+L/2oAbAC7/wcAlQAkAOT/egCAALP/Uf+E/5L/EP8I/lv9u/0q/gb+aP5m/8r/pf9B/wX+7/yQ/br+4f7//qH/pP8u/0f/gP95/9//dwB4ADIAAAC0/6z/AQD//6D/Vv/0/oX+Wf5R/oP+xv5i/uD9LP5E/on9aP0Y/jf+zf2W/Xz9g/2u/bL92v1G/n/+x/4v/8n+J/7Z/gEACwCp/5D/Nv/0/lX/oP+8/2AA+AC9AGwAfQBBAM7/CwDPAB4B0wBiAM3/Qv+J/3MA3QDPABEBRAEDAc0AhAABAPT/GQDH/9L/igDhAAIBXAEaAZ4A7wD0ADIAXABCASgBnwCEAPf/XP8KABwBRgEOAc4AXQAfAPf/o//j/38AZABdAB4BNgGEAKsAOQHzAKsA5QDDAG8AhQB9AD4AgwDsAJkAIwBuAMwAbgDg/6b/cP81/0z/0f+0AI8BowHpADQA5/+1/4j/r/8uAH8AUgDa/0v/Hf/R/8kAJwHxAB4A0P4u/nL+3v7f/zUBLAFdAIgAnADD/5f/OwA8AKf/+P5B/kn+HP+t/w4AqwCYAIv/t/6R/nn+Wf6C/tL+Bf/0/sL+9f69/4sA6wCwAMz/5/69/qv+Gf7w/c/+6P+JAI4A8f9L/2z/AQApANf/ff8i/8T+uv7p/uL+Bf+z/xUApf8k/wH//v4m/yv/sv6f/if/9f53/iL/of/h/s/+cP+z/vD93P6L/2j/9P8QAP3+v/4n/8H+5f7B/2T/3/6n/7H/pf7p/s3/X//5/or/nv+C/2UADwHDAM4ADAGHAB4AMwDf/8b/vAB7AXABcQEbASUAzP8BAMb/2f+eAM0AfwCuAKwATACRANgAVAAiAEkA0P/Z//oAXQHMALMAqAAzACoAQQAFAGQAFgHmAHMAWwC4/8X+2v6j/wEA7v+j/1D/f/8PAEIAIgDp/z//ov4U/xgAtQApAZQBLAEBAEn/b/+s/6//8v96ANoALgFyATUB1gD+AGYBqQGXAc8A5//k/1EAtQC+AeEC4QJsAkkC3AF4AeABOAICAiICYgLMARgBhAGUAhED3gKOAkUC0AEjAY4AjQAAAVEBmAERAjECCAJCAlkC+AEfAsAC3ALrAnEDwwPqAw8EjwMeA/QD9ATcBIQENgQ0AykCEAKNAjkD1QPVA3gDFgM/AosB4QExAtEBtgGhAe8AhwCPAHEAvgAGAToAv/+BALUAEAAMAFUALAD5/3z/k/5q/kD/2v+f//3+c/4X/qn9O/0b/RD9+Pws/W/9Uf0z/W/9w/35/bX9y/wR/Aj8H/xB/J78wPzc/GH9Zf2u/H78tPyP/O/85v0Q/p/9eP1F/TT9z/1P/l/+f/4R/vX8rvxf/cH93f0i/jX+Nv4+/sf9Rf2D/dP9pv2f/d392P2W/WL9fP3b/d79i/3l/av+wP6f/h3/bv/z/l7+P/6S/jL/w/80AKAApQBAABkALwAvAFAAaAAlAP7/3v8y/9v+jv8OAPj/SgBtAH//wv7T/rv+zv5f/zT/nv4F/3v/Hf8u/7T/fP8T/xn/B/84//z/NQCo/1//lf8VAPAAjgGLAYEBdQHwAHAAaQCGAMwAMQEcAcUAtgCiAL0AfAHGARQBuQDcALcA4ABpAVkBGwEgAakANgCoAPwAwwD4AC0BjQDw//3/PQB0AIIAPQAFAAYA9P/v/x8AKwDz/7P/mP/w/6wAGwEPARcBSQFGAccA5P91/+//ZQChAHIBDAKDAT0BwAGcAQwBIAErAfUALgFfAU8BcwELAfL/sP80ADYATgARAUoBxQC/ACgBHQHlAAIBBAG1AJoAsgBuANv/Wf8P/zv/1v8zADMALQC1/7v+Q/5q/n7+tv4K/8n+if4F/1n/N/9w/4b/6f6o/hz/Qv8C/+T+xP6C/l3+gf71/lP/MP/s/u/+Bf9b/yoAvAB+APv/d/+z/jz+tf55//D/YACfAFQA7f+v/3n/dv+c/7L/5f/e/x7/YP5c/s7+hP8sAEkAPAAiADz/Cv7W/Ur+nf7x/iP/6f7H/iX/ev85/8P+5/6f/0oAzADoABUAHP8l/3//Vv9v/+L/pf8D/8/+lP4f/iP+nv4Y/2X/Fv8+/t/98P2//fj9z/4Q/yn/RgAQAYgATgDGALUAmAASARQBigCMAPIABAHDAF8ALwCDANkAngAqAAkALgA2APb/f/8m/33/XQCQALb/9f7b/u7+K/+r/wgAMABaAIQAawC6/8D+Vf5d/mj+6P53/w//qf5K/7D/Zv9q/zj/Tv75/Uv+A/6X/dr9Mv6L/iP/N//N/tD++f7z/kL/ev8v/y3/Tf/n/uH+b/+J/8T/qADfAFcAKADT/x7/Hv+4/14AMgFOATIAgf/a/xYAhADjAe0CsAJKAoAC0gLVAmwC0wGiAbMBeAFZAaUBoQE8AUUBugHiAXUBuQBVAJEAzwCmAGkAQQAvAGUAwwDsAOYA6wDqAIcA0v9h/2P/mP8yABoBhwFdAQEBgABEAJwACwGJAQACfgGhAPgAlgFKAToBvQGZAfwAmgA0AA8AwwDTAYgCuAJ3AhMC1AGoAW4BWAGvARQCzgE6ATQBZgFcAX0BqgF9AXkBdgGxACAAxgBUAegAoADlADcBtAEVAt8BuAHPAWUB8AA9Ab0BCgIjAogBoQBpAHoArADXATMDOANcApEB8wDDAAIBQQGWAeYBqwEyAeIAZgDn/+z/VADxAI0BYwF7AAoAWACaAK4A1wC7AC0Ao/9P/xX/Jf+O//z/VgCGADIAiv/f/gr+V/0S/a/8f/w0/bf9nf0//uH+Cv41/S39i/zi+xv8yfvw+hL7kvuj+9j7EfxE/N/8Gf2X/EL80PvR+mv69PqK+x38yPwZ/Q391vyZ/Hr8Ofzt+zD8kPxk/FT8dvz1+3v7Cvyg/FD8GfzA/FL9/fxv/Df8uvs/+/D7A/0X/RX9qv25/WT9nf27/aP9S/7p/nX+Ef5j/m7+Mf6L/mn/aQBVAYABqACw/z3/+P7V/mz/lACFASYCugIAA8oCcAJCAmUCvALSAskCUgMqBIsEvQQSBfAEcASJBEYF6gXyBVEFtwTvBLAFhgaEB1UIsgjRCFUILweMBrkGxAbOBowHhgjvCJ4I3gdYB5oHighwCWkJeQjDB60HiQd+B0QIVQnFCZwJCwk7CPUHhAgGCSoJXwkuCUAIsgfqB9gHfgetB+8HtgddB8MGzQVWBU0FwAQ+BGgEEAQEA+UCdgMMAyUC6gG8AUMBLQEtAbQAHwCm/0//Vf86/6f+X/5i/qr9YvyM+0X7PPth+6j7Hvy+/Ar9dPwn+x/6Hfq0+hD7H/sY+/X6vvpp+vv5//mk+vX6dfrs+Zn55vgW+Mj3p/eU9+X3CviZ94D36PfI90j3IPff9oT2zfY/9yT3//YE9wf3sffQ+AT5ofgU+dX5svkP+a/4rPjp+AX5BPmH+TX6QPpn+lf7zPsL+076O/or+iD6yfoJ/AT9FP1k/Mr7yvsj/JT8IP1//Xj9Q/3v/H38m/yH/T3+RP5d/pv+mf7X/k//Af9h/pv+I/+H/58A1AHIAUwBSgH4AGQAZQCOAK0AZgEIAtIByQFfAqYCdwI3AvoBBgL8AQ8BOgCzAGkBhgHpAZoC2QLgAswClgLcAhgDHgIZAXkBLwJ4AhoDtgOQA4ED9QMQBI8DBQMXAxIE4wQ6BAUD4AJdA7UDWAQKBbcEpQPwAqECcAK0Ak8DcQMJA6kCVwL7AQACeQKsAl4CWQKmAhIC4ADXAKsBuAGVAQUC0wEOAfgA7QB2AJUAwgAaAN3/lgAsAXgBqgFlAREB/gB/AN//GQC9AOwA8wAeARsBAwEMAe4AvADJALsAUQDW/1P/8f4X/1T/Pv9b/67/wv/H/97/AABzAMYAOQB2/5b/HwAQAOb/TACgABsBFQJGAfj+wP+yApIC2ADNAMsA3AALAukB6QDjAeUC5gEVAe0BhgMcBBYDsAJiA84CHAIYA0UDPgKBAvICCwKbARkC1wHJAGsAPAHGAe0A0/92/2z/e/9c/7X+MP4c/iz+if6v/ir+Pf4O/zX/FP9I/9H+1/1f/Qf9yvwo/Vz9F/1N/dn92/1d/c/8uPxl/ef9cf2f/OX7Nvsn+837Ivz4+yn8rvyx/Bv8evvj+kP6KPq++kz71/vR/Gf9Mf1V/d799P1d/ob/IgBGACIBMQKvAvoCBgMPAwUEFQXyBL8ESAU6BboEHAWnBZwFoAU7BQ0EiAPnA9QDdQNqA2gDYAP3Aq0BogC9ANkATgDj/+L/2v9I/0T+zP0d/j3+Nf7F/lv/D/9J/s39sv26/d39O/6y/vP+2P5m/vr9Cv5w/tD+O/+8/zAAdwA9AJD/2v4y/hP+PP95ADsAsP/0/5n/W/75/Wb+af4v/hP+5f3l/ff9oP2F/U/+Hv8B/1H+xf2k/dL98P3U/d39Mf5z/n/+Tf7M/bj9mP5C/+H+dP6Y/sL+zv4y/xQAhwDl/7f/jAA8AHr/BQGOAiUBz//wAAcCfAHqAKoBnQIEAv4ABQHSAKwA0QHBAVUAUwHCAicBTAAAAv8BmgBAAWECyAG5AFwAiwDWAAIBbgGYAYYAuv/FALsBBwFOAHUAbQAsAEIATAAzAHEAwwC0AH4ARwDz/7L/wf8mAPcA3wHfAaoAkP+0/3gA6gBqATkCVwKQAREBIAFBAcwBlAKeAk8CLQJuAZEA0gAxAfMAJwFWAZIA9f/t/wQAowDjAKv/2P5j/1b/s/4r/xIARAAnAOj/ZP8n/2z/g/8h/w3/iv+i/9n+9v39/cL+Bv/t/mz/Rf8H/tf9ef5h/kn+Of7Y/d79uP2m/U3+Mv4+/gj///1a/QT+Gfxv+w/97vqK+sP8wfn6+r//ofr0++QDMvkM9XUGigXD/LUAn/EL7vMU7haW6V/jRf5FDwoQKe5M2HQDKR3S+hzqVfWTAMcOK/5i4p/7WhPZ+s7xmPw1+qwB9gSM9kP/bQo99y/0pgV/APz3/v/FAen9Jv85/5L+Jv/G/7EBOgHw/zACcwHB/kgBRAMgAhcBuP69AAoGsABZ+rkB2QW9/0AAbwNt/8z+nQJzAd3/ygFEAswBcQK7AgoDmwPbA4sD3gHsAIcC/gMYBSYGxARBBO8FFgTRAm4GcgX9AWYGcQhsAkYCOQZwBK4E3gdRBWQD8gW7BM0CZwWJBdcCnQMpBfsEKAXOA3YB5gK1BXYEfgGHAdgDwwRbA1cCUwNhBPYD8gKlAmwDEQSEAwwDWwPwAjwCAwMUBOIDWgM1A0cDWQO0AtcBQwL5An8CBQIpAvsBkQEHAXMA8wDOAVIB0QBhATkBEwA8/7H+1/7Y/wAAlP9eAPsAFQBv/yf/a/6k/lP/Hv/o/8YA+f5K/owAqwC3//oANgC4/sQBhAJm/Vb83v/7//P+dv/Q/ur/7gIcATD9Rf4hAGf+d/1Y/vj9+f0b/xT+n/xn/on/G/1L/KP+B//m/Nb7IPxd/Jr8DP1N/Vv9BP60/sj9t/wt/a/8Y/sL/Rv/C/3Y+r382/7y/Yj82/w9/vb+1f0t/EP8P/1r/XH9Of0V/Pv7kf0l/hP9H/xa/Or97f7C/Zb8CP1F/un/vv8f/Sf9zf8I//b81P0G/jT9K//hAG7/Tf4G/14A0wFfAUr/8/92AmwB0P64/20B/ABhARACsQDiAG0CcgDN/lsBOgJdAIAA+ABhANAA9AAWAVsCPgE//0cBIwNwAXUATwBj/xEA3ACZ/4H/AAE6AccAygDuAPoAJABP/ywA8gAZAFj/ef8NAKoAmACkAEcBBQFzAKoAFAAx/8P/XACOADsBAQGwAAoC9AGI/y3/6AAqASkAcv+K/58AEgFKAGYAFwF/AO3/OwCw/7D++f60//3/kwDnAM//vP53/4wA+P94/or9b/0i/hP/d/8NABgBywBc/wb/Ov/F/lH/1gC/AJX/r/9XACoA6/9DALkAOAHcAbMBQwB7/3MAHQG7ALIAVQCP/10ALwGu/2z+z/7e/hj/5v+A/4v+HP6Z/dn9Pf6o/ML77f3U/9j/hf/d/tH+EQA5AIr/OABGAIb+Av5s/1sA4f8M/73/ygFHArQAwv8SADsAsv8z/97/5AB9AAsAMgHQAdsAbQDvAE8BkQGBAR8BNwFpAckAyv9E/3T/8P8ZAPr/5P/y/zsATgDp/7T/Vf+m/nD/8QAGACf+5P6/AJsAQ/87/48A9wD2/2f/cP94/5YAXALDAqABKgAVAI8BlwEHAGMAmwEpATYBMgLSAeQAdAA4AL0AywCs/yQAvAErARYAvADMAGL/FP+bAIUBegCf/zgAKADo/l/+tv49/03/Gv4X/t8A+AGR//L9E/6J/p7/Nv9O/UT+GgC4/k/+DgAk/yn+CwDu/4L+/f99AJD+b/5m/hj9nP4ZATkAsf7o/nz/8/+b/4n+Rv7v/av9Xf81AM3+aP/bAPX+N/1//rf/2/9D/8P+5wAUAsT+Nf7DAY8BJQAYAUIAywB0AqT+A/7xAr4AZ/79AKf+8gKRB3v3r/t6Fe/2ZtZ5EqIyzerz02kKcxP/BBwJEPO47bMWbBQO6b/tpRJiFXXzseU0Dlkil/Rg6dcS6gms7sEEQwn+9MIEvQoX8zz+FRF7/Sv3Twg3Au34YAWDBxP7kvyhBXMD2P6yAUYD7f87ANQDxwJd/mb9LgJMBYz+hPquBLIH9ftR/TEIGwJT+xYEiAV9/cn/vQM6/23+zAHJABwBAwU7AxL+lwAOBf3/6Ps+Ar4DnP3W/4QDRf/bAK4EZ/4C/p8FiAEW/LoAN/+Y+3gBCwF8+8cAAQPG/P//YQN4++f6kgGr/lb8vQAa/lX6of91AB36qPt/AXb/tPvv/ToAG/4U/GP93P7S/Q79qf6r/zj/LQD/ABL/WP4pADz/Hv1c/y4Bkf46/ogAqP5R/Jz+wP9S/nb/MwCC/Rv9iP9C/wz+NP/k/zz/Gf+Y/lr+7P8DAJL9ff3+/4wAfP8h/0D/5v84AAD/uf4HANT/Yf8tAKf/MAC2AggAw/waA4kG5P3S+2ADPgHZ+xIBfAIS/Ov+0ARDAH79nwFKAMH92QHwAdT8mv4uAoP+TP3fAqcDf/+mAJwDsgD//dMAcQJBAFQAwwEKAIv/GALEAUIBigTEAsL89/9zBQMAmvy7A3EFoP/3/6gC5f+1/mMB4QHmAMUAfAAPAawB3P8j/gj/IwHdAt0BDf9hAH0DxAC3/cUAkgKKANMApwHyAOUBogHb/wcCgwKs/RT/SQVrAt38Lf8VAZz/BgFYABv8JP6dAnD/vfsR/in/gv2x/ev9XP7aAP3//PvT/ET/wvw5++D9nf7m/Af85ft3/CL80vnv+Xb8svuJ+UL69fon+iD6b/o7+j36B/vX/Bz+Kv4q/xEAMv/q/1cCfQLyAQMD8AMfBV0GgwU0BecG9wZ/BhcIQwiWBugGhQeEBVcD2wNoBsMG2AJMAcUFOAeIAjABnwM9Av//9AD7/xb9Af7C/7T9OPz1/Rr+wfva+13+df5Z/Ar8Ef2r/Nj7Zfz8/G38hPxr/pL/dv7p/cz+q/6i/vr/a/8K/lQANAJ3/4j+wQHrAT7/qv9ZAGb+K/8XAlMAc/28/1MBkf5N/pkA0f8a/8AAev+z/Bf+LQBd/9f/NgKyAUv/RwCrA58D/f+L/rUASwK3Af4AUAFaAnoCmQB3/1UBTQJW/4X9rQDtAvb/1v06AIEBzv9k/wsAJQAcAQMB8v6v/wUCdQD5/nEBQQJXAKcAkQGOAK4A/wGRAdUAsgELAsAAYQC3AZEBxf9hAJACsQFr/+v/hgHvAND+D/5x/8D/av1i/PD+qgEWAQP+Mv3i/43/oPve/EsB0P8w/a3/vwAY/n/9C/9LAEkBLQG3ANoA9v+H/9oAngAcAKECzgOdAakABQHqAFYBzgD4/x0CTgNNANH+QQA0AHf/PP9Y/vj+rgBw/8H9Nf/N/7r9V/0p/63/wv5v/oL+Rf50/qP+s/2k/aL/DQBg/u3+ugCo/9T9av6x/9D/DP9//hz/KP98/XX9if9L/6b93v6EADn/C/5E/+3/Wf4Q/Rf+iP/E/kH9q/1x/pn9Of0B/mX9F/yt/Iv9cfy1+tv5IvpK+1r7wPnc+Rb8M/zV+lz8hv5K/ev7Uf1t/j7+3f44AOcBlQPNA7QDcQTaA3YDNQa9B9AF/wVkCE8IyQdqCUsKBgoaCwsMfwrTCHQJtwkYCNYHkwiEB9IH5wkeCB8F0wXWBMQBRwM1BJ3/sf5vApQAq/sr/Nb+zv40/Zb7x/sx/bX7Sfm8+qX8AfxU/EH93/wF/jH/L/1E/YQASf8K/Kv+5gEzAKz//gEpAqUBUwIvAS4A7AHUARMADQIMBFICrAKmBJ8CPwEOA8sBIgBwAhYCSf+hAHwBpf/NAOwA4/3A/yACw/1F/JT/e/3F+pH91f0g/Ij+8v5M/HX9Gf4F+3H75f2f/Fn8kf7z/aX8xf0H/mT9Xv0K/Fj7Tv2D/cX7VPzc/O77bP0H/2z96vzS/aj8mPwk/nr9Ov4oAUT/Bvx8/nYAs/4a/zUASP+0/3f/Z/1d/90Bkf5h/cQBtgFm/aL9wQCuAToAxP21/jMDWwI2/cv+hQPuAXb/HgHaAWkBzwFtAGj/XgFcATL/gwA9AzQDkwJ4An4BlgAfARYDQgRDAsoAJAOuA0gAW//WAOkAQgIuBA0Ci/96AOMA5f8nAGMASABsAdwBOQDv/ov/1ADVACoAMAGYAan+l/2XAHMAH/0t/u0AEf8C/XT+rf52/eH+QP+I++v6sP6C/ZP5U/zt/mL6GvkG/Y/77vgX/MH89vlS+0v8X/pp/Mj+Ff2q/v4BVf8w/fkAsgOJAykEEwV2BukHDwfzBokJMApZCZYKwQojCa8JDAroB20HfQhcCAMK4QvRB8ADDQdDCN8BLgA0BQ4EAf97AE0CkP5z/QcAOf81/QD9Z/ss+oD7FPtL+dn5xPmj+Nf6zfyG+tn5Nfw8+6T4dvpY/t3/BP9Q/bH9lQBUAf7/LwGsAuMBEwMbBUoDTAIeBWgFGwMUA8QCnQGGA7oEWgLeAWMC2v/t/2ADbwHR/Cz+VgBZ/TT7/vwG/i79Y/xa+1T6WPoS+gL4TfbD9y76l/mo98r3Kfi99tj1E/YG9UvzC/Mq803yDPJw81T1+vbX90H3Wve1+jL+6P1W/V8AQANUA3cEXAeFCNUIAgogCkkKFg2GDyEPQQ75DZcOuhB/ESIQlhCXEZsPwg2RDTQMKwuNC5UKdAk+CXwHpgZRCHoGhgGTACYC3wEDAeL+1PqB+d76avmY9sP3lPo2+T/1dfRr9ur2Xvbk9sH3WfgQ+ML2uffZ+pn6o/j7+tH9LPzy+nr9wv+1/03/PgABAn0CYAK7A/kD6AFpAjUFiwRyAgoEQgb9BMcCLgNWBaQFbgOUAuQDXwOIAXsCzAMIASP+LwBfAo3/bP0tANoA8vz8+8H+bv/4/sr/d/+z/TL8Mfvx+1794Pvx+Yn7Of1r/B38ZvyH+5f7G/2s/Hr6Ffuf/pb/If2I/Of9Nf2W/B3+o/3u+5v95P7R/Ez9MQBC/xD+igGAA8IAtP8sAXMAOf9zAF4BGQE4AkMDQQJOAvkDFgMiAeQCZASeAOv9pQG8BBoCav81AJEB9AFzAXMAFwE9AiwAyf1M/ygAY/0O/VkAYQDr/A38Hf7+/mv9ffvp+9H9nv1P/PT8Bv0q+4L7Rv14/CX8Vv4b/pv77fug/aL99v0J/zD/lf/t/xj+8/xG/08AWf1Q/Fz/KQBu/VL9VwD1AP/+lf5y/xT/kv5N/+z/XwBzASgBtf/dAGoCov+1/bwBZQQpAVb/QAEDATL/lAAPA80ChwFXAUYBbwGoAlsDCQOsA3AEpQOrAz4FNgVNBDwFywUWBDsDOQVcB6AGpgRCBbcG5QTvAlIErAQmAxEF1gfqBeEDTAWRBDoBZwHlA7gDGwIJAfD/OQAUAkYCbgHaAp0ElgPZAfMBxQKoAqsBTAHpAtQEVAQPAywEdgXLA1kCOQR+BVIDaAGEARgBlwAHAnwD1QJkAYoAuv8+/kX9ov4dABP+nfv//OL90vp0+fP7mPyw+lj6m/pc+Yr4qvhm+Lv4KPmM98r2Xfnt+Xz2tfVJ+BP47PV59c/0pPNP9NP0XvN48i7zWvPz8Yvx8PQB+db5Nvur/hX+kvuj/0AGOAfJBbkG0QiZCmIK2Qi6Cz0SgRNCD7ANQRB7Ej0THBTCFC0TMxBrDyAQ9w7eDT8O+QvaBzEHdAjGCHQJbAiWBMUCGAKX/u78e/5y/B75VPo4+m/1AvMe9DL00fMW9Ev0QfV49WvzqPJZ9JH1LPe9+Rb6W/la+n76dPnP+sX8bvyI/OP9ef4qAEkDBwTbA9MFmwVZAqkDAAkACiUIJwkGCpgIpAgPCpsKHwt5CtMH8AY5CPYHIQclCJIITwa1A0oDUgPLABj+dP7v/bL6vfqv/Z781Plw+lb6QPe89o35k/lP9Uny3PM99o71a/TI9Rv3+PWz9Bf2hvg4+CH2rfaO+I73d/bX+NL6tPl0+NL3cvZ29Z/1Tfb99gL2sPO781/1TvS68mH0XPXt8uPxWfTz9mH5dfyp/Mv50vplAbcFYQT5AukEgwe9B6sFbAU3Cg0PtA2sCVkJjQwGENgQAQ6UC7oMow0jDM4LOw1oDZsLdQjcBccGPQnsCM0GlASzAWgAFgH+/77+DACA/5z8CvxG+4T4+vgJ+zn56/ad91n5WPsi/CD7p/wpAKAA1gA6BK8GjwbuBeQEiAVUCbgLvApiCpYL/AvHC1wMVg0xDY8L9wkzCYgIAwirB8gGegXbA04CxgLrA0YBzfwy/G39lPvA+I74kvkE+X/29vOZ89D0gvVW9af0L/Nt8ajwS/Er8vjxa/HB8Z7yq/OF9Kzz2fGn8aDyA/Pk8l7y8fFA8tXxC/HX8m715vRg8yz0s/Uo9hP3C/rH/X4A7wKuBNoDdwRyCtEOQQzLCf4Lqg4NEDARvRHmEm8Vnha/FJ0SABTKFhYV7hDQEMoR/A4eDF4LxgphC8ILSwgABP8BiAACABcAEv4//ET8Tfok9/310PQS9Aj2SPai8mzwfvEO8xv0EvVE90n6f/rp+Ej6Rv2v/54DwAZsBdcDcQUTB1UH5geGCeoLswyWCocJbgsmDIAKowmeCbYIZgdaBnUF6QSLBHcDcwH5/yoAEQDy/VT8yPym/Kj7rvso+nz1/vJi9ab3MPcV9yz45Pci9qj1/Pbr95T4LvrW+c326vY7+tT5mvdn+fb67fjI9/T2OfRW9J72XfSz8Mnx/fMe87HwUe858kL49/lt91748vvy/WkBwQURBnAGlQtXDzsN5gpNDrQV+hhaFHAQSxRTGUoZXRfaFoUY3RqzGEATpRJ3FbAUHhJaEOgNbA2xDnoLIAZKBdYFDgTeAaT+D/vr+oT7d/lF+JP4wPcU96f1rvGq8Pn0ZvdD9cnzh/V4+P35Fvqe+1D+a/9gAPABewGKAS4FRQddBZEE5wUmB+MIjgnrB10IagshC80GqQNSBJAGPgZKA0ACzwLaANT+2P/Y/0v9ePx9/dj8g/r0+Hf5ivpO+f/2lfeP+Vb4i/XZ9Tr49fjw93P2q/VH98f4DfY386302/T+8UXy5/LF7hvtI/Fs8tzvue+L8lP2KPnf+C35MP6NA90EMAS5BO8H9AuqDB0LgQxyEaoVFBYwFGoTlRQrF5wZdxhFFmIYDRkAFC8T2xfQFvYRcBARDpIKbQpxCcgFNQQ7A3UAYv56/Mr6Lfzf/GP4XvMd8vXxLPBj7aXrC+ym7Y7vKfFy8UXxKfKs87b16vfO+E76nP2t/VD6jPuGAQkEQgKYATsDZwRAA9QB3AJKA9MA7wA+BFwDJQCDAYICGf4B+2P8Hf1C/D/7pvgk9un2qPgP+Lv2dvdQ+WX5g/f79Sj2yfe0+KP2y/Qc9yX5OPc09mD3y/br9Z/1tfJJ8MrxHvLh70bvse4U7VPurvB38f30YvpX+hX3aPnyAIQFmASBBXcMJxHrDX0L8g/7FF8WExZ3FC0TJBYzG8oboxgZGT4dsBwhF60VwRifGOcUTxF3DdIKxAv4C4cHcQOgBLQGtwNw/gv9Pv5z/On3LfXv9LD0K/SC8wPxEu9s8hr2ivKU7rHy2vfO9xf4ffo9/N7/EQRzAiP/NwKpBjwFyQKGBNsGDAfPBj0GPQXNBRYHEQa2AxQD7wPaA1EBJ/2g+sP7wP2//Pz5Zfl5+rP5fPeK9pb2pvaT9iP1UfMG9KD1dPWD9VD2bfXk80zzZvLo8ZTzzPXu9X3zBfHl8RT0iPIk7yXvtvBt733t2+8b9sf68Pmf9pP4FAEZBz0GewaHC4YOzQ3iDQAPgRG8Fi4ZGhWjEVwVNBy3HPIUjxDZFtobOBeGE1gW9xfSFW0SkA6xDfAPXA6fCGcFVAVmBYcFygSjASL+5/yt/Lr68/dD90n3BfS57v3sSvC289LyHfDM8DH0GPZ09i/38PcI+cP7lP5//+P/MAEhArMBGQFgAr8F5QcTBkcDcAPBBDgEPgN2Aw0D2wAN/xH/e/+G/6X/6f7F/L/68fnW+tT8efwX+dj38vmE+gz5QfgH96/1B/fN9y/0ePFl81z0bPLF8Trx8u6X7jXv0ey961Hv0fDA7NzpbO019ED4T/jZ90L6kAD0BrwGrQKtBf4OGBMZEEgO+BFQF04XoBF0D4YV5xt2GkMUbBKQFxgcwxmzFC4TWBRnE8YOoAp6C4AOMg1QB4MCoQLDBbQG5gIm/R/6Dfs2+0b2GvE+8lj1G/PI7Qjszu+u9C70OO/n7XPy2fZU91H2L/ge/cv/M/48/cD/twNvBkAFsAFcAk4HuQhHBeYCVgNBBLQEKATEAsoCHASnArj9pPqz/OX/yv6s+rb5h/xY/Tz7evql+n354/gj+TP4Q/dl9yz3hPZh9XLzcvMU9mj26vKn8Ezx7fDa7sXuX/Gz8+7zt/LF80n6lgBr/rL4BfstBVENGw7BCy0OhBX+GKAVqxM6GaYgESA2GPkU9Rq7IEsfDhoLF/MZcR8+HvQWkRRPFzgVRQ65Cq8MxA+hDkoHEABOAaEHywd2AA37Z/vO+7z4SvUu9PPzUPKC75PtGe4H8UTz6PBh7ITsifEd9hj4ufe/9h75dv31/Qv9NgHnBogG7wGgAI8EsgjBCLoF2QLDAo8F7waaBCcDEwQtArX9bvzj/f79Of1+/Ar6Z/d/+KX6Hfhf9Bn2r/j/9C3wVvGD9DL02/IT81/y3PDE8e7xVu3R6p3u/u646bzquPF48rrtzuue7TDzXPsN/o75f/jj/84HbgnDB5AJXRCMFq8WpBPtFG8aUBy/GC4W2BfDGy4fLR6eGLoVbRhiGmEYshWyE38RIw8rDBIJdQixCQkITwNOAToDgwMrAMz81/rV+Jv2+PTV8xLyiO9g7uru6O5U74zxefKT8erxBvPG9Bf4oPis9ob6ggGRAaL+XQHZBmIJ2gfQAxICrgR/BvEDZABJAToGpga7/5z7eP1I/Bv4f/jZ+wr9tPre9Z70gvn8+xj5PviU+Tb4PfZS9gr3Ife59abz//K88uPxXfLg833zBfA67Arso+zS6CLm7+re8DHymvHm8RL31wHeB9gE2gRRDwIbYhuvEs4SyiBzKMggwRpiHxMm2iadHi8VtxmcJUQiTRK7DKUVABshEQcDIwHABt4ESPxO9Sfz/fcU/Xn3RfAX9Z37BPg78s7xqfMH9Knx3O7f7pjwQvMe91n4rfYz+DT9dQBDAQUC7wMaB9QJ0wndB3IImw1jEAEL9gWfCfcNdQqSA9b+3vxG/Uf85fYk8vHx3vH17jPsYuus64Xs1+wh7KjsvO/u8jr0jPQt9Wf2/vfR+VT8sf7U/qT9uP07/j39WPvv+VP5f/e28oXuQe3A6obmFeMW3WjXv9yx6ATsseWO4sLuCgcZFnsTBRJwHcYsezVTMn0t3jmFSsdCZS9yLh88H0SeOy8m9RlSIp8n+hZZALH4kP2r+4/qk9yy4XDs9uqO3x/XY90/77v2Duuu4efq7vn//CL29vOC/MEGsQfa/xP8GQZxEpcO3ACS/tUJBhPODwYFbwG3CdQPbApKAuQBJAnGDV0Gi/sX/EgCewBS+M3xwPC79G71/Ow25bXnO+0E7IDnDOg67hT0y/T/8W7z1fupAS3/U/1CAVQENQRIBJoE9wRYBb4D0AC//pb9KPzL90TxTO2p6Xzjy+DT4A3dW9pp2nbVu8+n0B/U2dl04zLp8ejd6175EA9fINsmvivyM+A8REcBTdtKwU2XVFFPOUSiQTVD6EBsNk4kJRbiEOYLFgLS8oDjbt7O3LXTJs8P1UTWTdEv0SHWgd7p6KrtQey67Tv2ggG/CNgLvxD1FGMS4g6+ENkTBxX1E8kOSQgcBvwHLAnMBrkCBAAI/qz8qP21/Yz60fir+Jf2rvbB+mL89Poq+hf4BvWU9Zj4kPnc94L1h/RN9cr3Yvw6/878VPu2//oDNwVPB8IIagYjBIQF7gYZBMAA6gGJAQP6WPRt9aPzkO246pTnfOC93cvfftwK1h/V5tRb0eDSCdjT1mXXceT68L/xmPOlAjQYBynIMfMz4TTMPrhP2FOmSr1LTFQATndAYTyaOyo49jBEH+UJ0ADJ/5j2kOTN19zV09TV0a/TDtX00czW++KB5yDoYe9n91n7/v8HBqALAhNhGwIdVhaDE2oZWxokEesJ2geRBKcApPtM87nv7PSw9jfv1+kE7YzxVfLQ8bnxCPPQ97/8f/wQ+9/+cwTBBVgDAAF2AQIE1QQ2Ar39GvtA/nADcAK9/R79b/9YARIC4v5D+oX7/P+1/iL4M/RX9nH54/aW77XqLuyr7ivqNeFz3Pbb+NtE3ITabNb61CTWstZK1mPVXtrp6bj3fPnv98f+mBPvL+Y9jjd/M44+ZU1oUmFMo0hDTsdOh0KINT4v9i7kLckdCQNC9PryPO9a5I3W4sw6zl7WHtt72d3X/98074/26/Sp91kCYA6ZFXAUmxG2GV8o6yrdHiMWXxl6HAoVAgjc/mr8F/sF9Dfq5uZW6+Hv/u3S5/zlM+tU8eL03fbb9wv7uQIUCeMINgcbCxkSXhNgDasIAgo8DP4JRQOE/Hz8eAIHBLH9ifj/+Z/97v02+V3zovN++S37efRj7ZPu4vSB9UTut+iW6m3u8eyn5TnfBuAZ5UDlR94I2RHcwuDV38bdLN7I3izkAfFp+kn7Wv6pCq4aJijCMsc4YTeEN2RB+UfeQ71DREcsQPk0vy7AJ4chwx6gFecDE/QU7Gvo1OL42ybYsdWs1tLenuPX4G/lBfPK+mD7sv12BDYNCxS2Fk0Wmxc+H0QlfB5jE10PtwwDCDIDhPno7grunvAH7Bvm9ufZ7o3xve306gzuy/Rv/F8AK/+MAfgKPhKhE+sT6BQpFnMWvRIhDOgHxgc9BzcBHPmH99P69PkZ9T/yV/J19Kz2e/Sj70fwXfYX+U/2N/Q29RD3+vgR+IvxBu2L8UL1Xu6b5RTlzejo6XrmQ9+F2ijfNubc4rbZtdh239fmw+338TX0qfz9CQUVFSL1MWs5DDjIOJg+3EVDS4dKbEK7OUs36jTFKT0fVx6DGJYEvvHG6QLnEOSw3Y3VXtMx2Mbdd+Bc4hPp//JF99/3fPzVAY4FNAwRE/wUuRXmGTkewRuwEgALpwZxAd774/Xo7cPpmusC68bnzuoN8qrz/u/V78T1Y/yZAKYDvQb4C00TXRdmFw0ZhRv5GacVHRFwDEIISwS+/wv77PXZ8bbxtfLu8E7vcvBM8trzr/RF9Dr1oviT+uf5e/qX/ZcAWQFY/kj4+fRu9oX0Iuwl5hPmPOYd5Lvfcdpw2tnfCeBv1z7RN9Wq2SbV3dNL4aTvOvQB+SwCWQ+YJzFAwkK5OBc9sE0aVV9QM0wES6dH1kNdPXsv/SYuKiUi7AZq8PnnBeOV3u7YRc4fxn7KitfK35nfm+MK8O729fRl9s3+bAngEsAW9RQiFRwdtCc3Jz0aZhFKEHgJPv4e+A/09PCW8ZnvhOpD7Uv3pvxR+/X6uP2pAFsFGwzoDqMPEBafHOUbKxtwHrgeNhomE4UJpAHp/4//5flA8Qvul/Gs84jxgfHz9MH3evm5+X733fcM/ukChgG5/zkC/gVoB3UFQgBC+p72yvPu7BfkmOG2473gttrX2L/Y/tjH2UnVUM6YzdfO3szqyd7GPst727Xp3vB8+jsHRht6OHFHbEBIP5xOdFx9W1JOX0bgTKJR1UhSOI8pUic+J0MO4OhT2N3Vcc4AxDC6u7WAu33Er8uL0mnZVuIT6W/qBPKJ/wMGIQzwFx0feSNdKj4tlSzFKbUffRPSCef+I/Yc8QHq9ePf4kbjPOaP64jt1e0P8X/1CPmL+0D+WAPCCXgPlRR7GOIb1x+gIBAcXxV8DisIiwMY/9r5pvU39H/2m/ml+Nb2G/q+/gYAHQBz/zz9ZP1OAT4E9wPmA8cGBgq2Ca8GiwPs/+T7nfh49E/u5+gv5sXjat/u28Pcx97P3Xzb29gF1WjT+9XZ1sTQCcgTxgPLPMyCyWjQx+Py98YDjQdRED0sV078WNVKpEJSUsZkZV/kTMZHi05MT29Dxi9GISoeKxWM+LHYxcioxIDAmLoftxC4K76syBLTZ9xd5+XvifMn+T0CvwtiGNEkrihLKCkspzEPMvMshid2IiEXrwVk98Txr/Ma9XjtlOQ259vvr/Ro9zP6N/zW/X7+hP9SBLELuBGKFVAY/BkxGnMbbB5FHYgVBgyeA4L+fP6b/Xz4tfa6+if9wftk+xX+bQCQ/wP9c/of+ST8NgHoAWMA2wFyBJEGRQgyBgkAQvrW9ubzQ+/s6nDqjuoo6ALncuV/34Lcst+43tjWOtCfzQbNu80YzoLL/MZUxqnJJ8hQxR7SU+vP+gP+xwfTIdZBEFZfV1NRm1WfZOlo2ld1SaJR2Fu/UDE7oi3UJvkb7wZY6gDRTMXcwx6/5LafuE7DeMuQ03veXuMU5RLxSwITCSAJnRJ7JkY4YEFtQaU7vTpFQMg6PSW7ExwPNwiB9yDpxeUN56HmPuUt4vLeL+KJ6CzpCure8tj7KgCkB3kTmRyaI7IrNS/eK1UqcSvsJXobGxRlDhUJGgY4ARz6yfip/KL8rfZ68Tzz2Pgt+Rn0/fH49U/9XgOxAnr9a/3YA7kGjABd+KD2gPnf+TH1nO3l6HvsevJT7zHlld8s4Gngm91G2YLV6dTD1vDTO8rzxGjKyc7+ySnD6r6VvRXCXsdwyNPSee1zAmwGVRK6NQ9Y9GDKWQhYiGPPcrxwZll1THxb+GP2S/wwiS3yLLsXVPUd1nbC27s4uRSwOaiurhq7S8FTyVzX4d4o4Trr0/cd//8LiyJfNNI7AkJjSsxOhkoTPi8uqiI9HPAOAfia6qnu1+/R48HaCt505BDm7uKD37fic+2c98X85QL6DTsYDh5nIxYoKyiVJuomNSUOHhAVdhBUEagQpwlnAiwBggKOACb7j/b59cP3U/j29ln26Pib/Bv+nP5L/1P+Dv09/df7m/hg98j3CPd19dv0bPXt9JnxLe086iDpKecj4YPaWNmC2sXYcNbO1NDRSM5Tyw/Jgse1xS3FIMb5xFfFSsr2zFrUH+2PBCoKMRZUNvtRNFwjYBlkQ2ugdml3E2QHU4laaWZEWfY/2DKbKMMSL/eS2k7A5LJtrrGk6Ztwokqxf7vsxGzReNiW2q7iV+6r9/gEWhZZJsc53EzWUjRUQlyyXLRLzzbpJnIXcgb89VjnKt7d3fHf8tqf1J3XC93d2RnTctJf2f3jse1/9rsB2A69G+MmNi35L/UyozKAKzUiMRuIF7gWnxMeC0QDKAEOAXb9uvWF7YroIOYI4zjfNd5G4lLp1+4l8Yzzb/l3AEsDWQFX/0sAfgLqAsUAPv4f/nP/tP2692by8/DJ76fquOLE28LXW9YL1S3RDs1Uzc/Pgc95zqjP1tGD1XrXuNGpzLDRC9fj2k/qZP3sB6caFjyuU7NZmF5GZn9rPW5gaCRVfUYtTkVY+0kCNVEy0S2TEtHxitjawQezzKyCosiaKaYCuXrBpsoX3qnpVOcE7Gv6IANRDOEfRDIYPh9Lq1aXW8lds1vzTcg4oSi2G1gFLezz4qHj2tyA09fRudTi2DncktlR1HbWXt/f5D3ms+6kAJ8SPSIfMOo2DTqHQLRB+DaMKhQj2Bz+FAwKNf7o+In6lfmt8bTpr+fq5wvl9d/Q263bYOHW6D3uDfXz/h8IOQ9RFA4WoRVBFXoUTRHhCtcEXwMRAyX/7/nC9YXxD+7Q68noEuTz3cnXOdMU0HfPrdH20XXQD9Pb1yvaPtv92zXd7d1K2fnTH9PGzzjSrObK9x3+5hcOP4hQDlReXA9iOGbIa/JiI0x8QWtMB1SeRRc3qDhXL1sQx/Ny21nB0bPwrAWeOZm3qeG6ZcQ70pHjQ+uY62Tz9P/7BocRyyOjMY08g0mvUCFUyleEUfdAdi/6HD4J2Pai5/Lfsdv60xTRl9e13N7c29yx3CLcKt084Qbo/++B+64KsRaNIKss4jMcNU04QDcBK1EdVRSnDK4FP/609THxCfI58jfu5+nr6pruke0I6ufqy+4g8xv66gExBsgJNBGrF7gWwxK/EX8PHQmVAzz/K/mS9cn1TPK46v7nXeqN6dnkAOGj3fzaZdwG3qnaLdhw213eXd2N3FDey+Av4SrfT9zH2KnXkNoJ2FXPes35zGXHK9Kw7NX74gxyMTBIf0U4TEVfbmifaZ1jMFBlQg9NS1uFUsNDWUemRHkiBvzX5QzRYr60s2Gkbpmspri8P8hB0rfg5OfO5Mjl/O86+J4ABRN2JB8v5T8aUZ5WCVrzWphMljhIKhsYawCq8cLuLet94kjdD91K3AfcQNkA0KTNINc/2yjaauMy8xgCkhMfIycr0jHtORM9aTcHLewjdxsjEuQLbgctAVP/lwKKAAP6lPfQ9gD05PHo7wrt5+2q85f4hfo1/q0Fagz+DtsN6QnKBXkEpgPf/0T7VfnV+XH6jvlG+NX4wfkY+E/12PML81/zO/Va9KHvIO1O7RDq++RJ433hbNwg2DfUFM920NTXoNauzuTOuNKb0MnNnct+ySjN7tDg0uLiif7NFzU1KVFRWHtYVmMEbLlsumm1W4tIb0PNSg9NQUQHPGw4AiZL/3Lcnsb4tTOtrKeHnsihUrfkypHVwt/K5tHkpN/u3yTljO39/uUWRSorO4NLsFJ3VABVREgbMB4bWwnN+u/zQO9L7DbwofQ99ev05+8h5Q3caddw1GvSrdWH4b7vW/wGDIQa3iGOKA0tWCc9H20aKxOoDrsSFxf0GLccJx9OHVMZ2hLXCDj9TvPd7IbnleKZ4iLotu6o9Kb4Kvk3+rn+owAf+6L0VfWg+uP9r//iApkHyA4xFY8S3QkSBwcJkAZcAXb+vPxM/CL9i/rx8/ft5Oh44rbbmtWIz2XLpcuLzG/Khctl0XDRAc3czRnNschrzIfQsszCzzHXbdj45iQHvyK+PUNb72T4YS1shXv/f4155mhNVTJMvU9oVAxOqUNXPystZwEZ2OC+tqnPmvOQmYNvgt2XArBYv+PMitjG2+LYbNpr48rvNASLIJA3nUnSXNdox226b+ViQUn7Mhwd9QTU9azvp+zl6y3o2eFt3w3d4dUGzZ3EVb9nwYjK0deA5+r6/BAvITMrbjf1P/M9hToJNcMmzhysHu0eEBphFiYRlwnUAtP4k+pN4LncLdkV01/Q59QN3nro6fA79cP4F/6ZAiYFswWDBAQHaw6XEkkSdRPrFGIUaROWDuYEPv+JABMBk/53/Sv+M/62/Nb46/HD6fvikt3R14jSDdDszw7RcNMl1UHVv9XB1eHTU9Nm1UfX5Nh73Yfl+euY7nryfPQQ7o3t0P1vEM8lBkdTWutSsVKrY+Vry2ZQWm9DdC9NLdcvcygBI4MqMSrzDSDpetH/v1yyBqw9omCa4KYQvdzL+9ni6SDxf+9R7k7yNPr/BkkadyyyOPdF7FLzVxxZXlfATE09bCyoF1EFgvv19vPzRu6Z5Q7iiONM4CDYh9JP0jXVW9nn4FHsa/hjB/IYSSMyJ3QuZTR1MvUuDytDI0ceKx9yHJgS4gl+BrwB/PWe6EPhNN+13gjeuNvp2oDhPetK7u7sR/Bl93T8NwANBGIGNwu1FokgrSDVHr0hCyKXG30T2ApHAgr/0f74+nn3t/kP/Pb4A/P67KDmM+DH2TjT3s7nzrnRU9WE2ZHdEeHf43/kLOPu4UXiquV26YzqeO5P9ZT1IPOf84/ttuKT2qnNmsZP2NfwuAPjHqEzfTKMNttIqFKKUr5NhD5jMDw0IUMVTClOuVM4Ugw0JAjC6ejSj70WsKagW5FtmPCu5r3ux2bUgtv72HvVbNnb4qPxzwo0JXg2akjnXZ9ry3K8c8NkSUuwMukaWAbu+GbxTPDi8I7qZ+H926DW+87Gx5rC7MDQxG/Pd94R7ygExBsQKigvzDXqO+876Di2MR4mbx+dHwwf4huKF7oRJgvDASPzmOTp3FTbEdsL2XXW8tj44/3xCPqr+3D+UAUZC/gLZgumD5MZ2yESIo4ebh/eI6gkHx5VEokHewOcA9sBmQAoA+8CkPsW8nfo7t1D1yjVcNDYyNzFAsl8zoLVbN3l4oblY+dr5/Dldeit7+jztvIW84v2Ufcs9/33ufCB5APgttZ1w7/HSOZM+osLSCwpO/Ay9zxkUUxQvkjSRag2RiecMIpCOEQHQwJL4EC+GKTyLdrDv8WsaKdunCyUaKUSv0TLD9Tv3yXjq9zf2R7en+R89b4TEiz4OSRNXGDgaLNtjGrfVkM/lSrzErT99PDQ6gnqPejD4LzabNg/1HLOXckvxmDHds1T2Nbmhfa5CTofPy2mM4Q55TtnOCYz8yqcH6cXDBW0E7sPvQhkAnT8KPOg6Urjdt7n3Sji2eMs5Yvuf/qhAbQIRhEoFsIZYx+ZIAkceRujH3sfOBwbG9YXShFyDAkGZPux9Bz02vGe7QbsY+p65i/k7eIh34XddOFH48nh7eWy7QnyLfd0/Zv9svuD/er8+fdC9Mfxru928C/yP/Dw61/qH+mg4IzU38sCw9S8kb2FuKy0oMwe7q36KQoSLcdFpEy4UapSrVPuXl9hBEw/OkNGLlr9VDpCpTlcLfYPRO6ByjmoRJxcn1SZU5TdoO21lMht1evbX9974YTllO5n+FgGESDHO3BPqV5TaRBu620dYx5NATTYG3gIK/k+6NbeTeOs46nY6s+IyynHI8XXwiO/3sF7zjvgYPDF/SUQjCctN0Y7jjubO5E6fTaOLsEmUSI0IUMiMR99FP4JqgJR+Cfttub14fPekeKg6Pjqfe7C98oAqwRmBVUE4gMSCCUMGQqFCQwQgBTXEgUSyhGJDiwMqQl9AAT3yPaY+Pz0MvNv9Yv0JPOB9drzPu1i7Pnuueq85AblZecu6gLwDPS09IH4RP29+jzzdO4W7ZnrzOlc6NXkX+JJ5qbmG91U2OvYB9EhyInBY7aGvhbhY/Rg+OwVaz6NTu1PhVDqUTBbk2EbUAQ0pTArR5JQ4j8RNaU0ZSK8AfHg9by4pXClw6AkkjOVyKrGvlHN/tnS4b7jtOf18N/3owESGsc1yklAXVVsrHGbdQJyTV0sRHsufhao/ZzoM9xN24rcRtlX1fjPr8o/yt/HiMEbwkvL0di56s38ug2AI9A6eEnWTa9MnUnRRJw8KzHjJNMcgRx0HB8UeQknA5378O+o5DXaZdFy0LPVL9hU2h/klfBz+D3+RQIdA3IGWgyLDPgI9AqoEVAWFBifGMoWLRMJEAsKvv9A+bf3/fLm7qjxxPLi7wLxe/EG7M/pFewJ6jbnkupN7yDyKPf6/LL9z/qz+RD5tvRZ7nPpxeUb5F/m7OiT5xzmZeen5PzaxtPg0RDM7MMLwpu/XL2J0N/vS/h7+H4WmD2VSSpGbUOgQQZNlF6qVGQ5tjtZV7hcLEbGNXEwQCCcAiPfKrn8ot6lGKd5m9qcmrDNwm7QSNyQ4DXjJ+199ov6MAYfIKk95lWhZ0Jwg3L/dG9v/FchO4MlIhHX+ibomttq2IDc19mLzfXFl8YPxknD/sGjwg3K8Npm7AD7wA/qKXc9o0cFTENK30VlRE9B8jXjJiMdWhndFBkMrALF+yT1meyZ4i7Y+9FF1azcnd7I3ZXhR+ke83/9GQKJAjoI6w95EEUO8w8iE3IWRhl/FskOlArpCo4ItQIP/nH6Kvhn+j38+/fl9ID3n/cH81PvRez16V/s+e+l7nbsF+/28Znvy+xg7nDvE+236gHn+eE94xTpOurv6JTojeQv33DcO9gR1LbS+87ZyxHN78o5z6zppQKoBVcPwi1/Qn1DYUMYRhtLyFYaWS5EYzNWQLdPdkNnL/onvhwPBIPnEsjgrK6m46t5p8OhmqvivvjOm9rD4lDmfOoX9QQBOgvcHH04I1QzaM5x4nLQcIto/lXwPpIlVQsC+eHqVNkK0RHWJdZtzhLJHsNpvLi8KMDDwWbJ+NrV7lgBZhbMLH0/5k6zVxlSsUY9Q88/MjO+JnEfYBh/EgIOvwUd+vjvb+jn33/TpMjexqbLXdFg2MngoOke9aYBlQcCBy4KcBIYFYsRGBL8Fn0amh2cHtkYCxEdDeEJfwOi+/b26fdm+Wj2BPOZ8vjxufCp7z7ro+Te4gTmROjy6E3rRPDK9Tz4dfYR9ArzzvC27Frpp+gS7Avz+Pjm+jD6BvfT8HPqxOU+4ZDdo9ro0ynNjM8J01nPWNVB6YLxVO/h/n4aECvzMrM2mDWbPT1P5FA9QI87nUrYUNlABzDsKZwfTQqx7hrOsLWtste0d61QrLG79M1R2eLgfudF7lr4dgQYC2UPCSDtOqlOT1iAXkJgzFxQVNtC6ipfFp4Hafat3zHQMNDh0uDP8c3LyzjIOc2k1RPVgtfj58j4qQPfEXAjfzJsQZ1OUk/DRJ49UzooMLkjvhupETgIowaHAXT0Uu5g7jPo9N/72arSStLY3c/leOQ+6f32wv+WAdEEWQnmDPcQdRKOD04ORxC5EZsTvBShEMwLYAsUCVoBTfur+kP7yPni9jL0Q/If8aLwiu6V6aPmKOmL6zrqA+ts8JD1+fiw+9b7ffu5/nMALPv19Yj3c/qk+rP7K/wL+KTzNvAx5xvcD9fJ0uPKB8QLvp+64L1Lv7++hst73WDkKPE1D+0oWzXmPo9GIlBNYS1pmlrVTGJVWV8qUko+Zjf7LXIVBvjx1wa5660RsWOqNaJRrTHBG8281e3fs+ZO7N32ewEfCnsb8jQPSeJW/l9gXm5Zh1f8SeQvYhtZC5/3geaQ2TPRv9QG2wjWTM9i0EXRUM840GzTgtgD5YH38AXdETUmszv6Q5dFlEYvQCI58jd7L6YfABgjFw8V9BBdCMP/+PwS9t3mydp61D3RGNQt2G/X29ly5FLunfIE97b9rwKSBqsLAw7ZDjIWNB9bH6EbTBuEG7sbcBuIFBQKMQZcBkQCl/zY+lz61Pdz9JjvTei645Xlj+g86HTo3OwC8+73Dfwc//r+Wv1M/UX7DfWv8Zfz6vMm8jHy7fAZ7XTqEObe3N/UR9DSyvrFKMPbvmq9EsPmxOjA9sqs5BH1+vrmDnMv+EQDS6lLr026WA1o6WQNTwlGc1EmUyQ/zioyIPoSYfwM3/XAvrB0s4212608rmS888ky1EXfwebi7BX5fQWpC4kUXSffPKtMBlVXVSdQz0p2QtkxPB9SEOkAqfE65gXcA9dt3LLff9dk0CnSNNWF11vcKOIO67H7ug1hGTUl5zZcRMxGokT+Pys4wTMKMcolQBdCEdQOHgdC/TL1me285prghtfczH3Jzc6J02fV3tpt5PnuzfpVBVQLsxA9GKIc1ho5GaUdmCNJJIYhPR8JHQcbBxhBEGoGt/84+rb0qvFr7xjtLO0H7QfqT+jC6fLrV+6578bup++u9Qf8mv1r/aD/1wB9/YT5XvfU8z/w9O/H7lbq2+eE58Hk1eDJ207SYcvrzcPO0sbIwlbG/8byxf/Gycff00rvqP6R/JsMPTPjTBZRElLNVqxh5m0KZmhLUkG8TkBPqzXIHf4UOgtu9iPaHb36q/GquapJpTWoubZbx0DXr+TC7AH1oQGeDXoWtx9SLMU8wEwEVYpUalFcTtpF/zPNHpcNPwAb88jj59UV06za5N2U13zS99QF2zvfxt9T4XPq1PlhCAsT0B1zLRs+MUb1QyQ+YznVNYIwZSQIE5IH5AZnBon9vfJ97ULrFue53lPU588a1HrYEdkH3PfksvGi/ncHEgsXDnAULRv4HAUcIB/iJDAnBSb9Iu0eMR0cHMYV+gyzB+IDf/7G+HnzHu+I7Sjuz+wi6GLl5OZq59HlBOZm53XpCu3J7Qzsy+6a8w71evbG9xr2Y/ZD+G70Du+s7v3seuY64cbdqdm82OfZztSGy6jH3McRxg3Dpr/OwJ7RM+mx8UL3CBaePytTo1NaVDJaMmTaaMFY7kAbQMdNXEZrLKEe2xyoEKv20dd0u3atQ66jq2WjBqiduj3Lstbp4pbvSftwBvkNAhEbGGQpHT0ESmhQ8VJVU+lRDEmtNsUj9RTlBIDxCd/90iPQy9Ll1JHT+c8x0M/WPdxj3dXheuzI+NkE0BK8Iy40XUE5TCBQZEhbPu44LTABIigWBw6pBrT+TvVJ7ODlAeI/30DZB9DfzCXScNdM23jioux5+AcFKw4SFMIcLycjK1coeSVnI1oh3SFZIZwbYBdqF5kTXQumBNv+p/kP9sHv7OdZ5q/o2OcR5hzm4uWi5iPpX+mA5zzo5+uF767xCvPb9bL6Qf7W/Y76oPfM9g72cfNm8KLtm+pr6KXmJONi3sXZL9VC0GTLOchPxl/DdsIAxvPI5c0P3pPxdvtkBU8d0DraTR1TRVFhUuZbTGLfVYZByDzJQWk6/CcJGZgPyARV8ajUlLoBr2aw1bRxtsS5z8Q71N/if+9Y+Jf/ZglmERcU4xjLJUg3NEY1Tt9PwEwnRhU+LjFaHLsHv/ja6X/bxtM70r/Uq9g92FzUP9T02PTdouLw6sr2twFODegcVis3NllC5kuqSoJBejdlLSMh1BO/CQcDu/xH+Or0z+5f6hvqquVP3HjWY9V31yfd4eNR60r2tgP2EIgbVCHtJT0stS6SKsMl5iIFH1gbcxr3FzcRjgwRC/cEufqM8kfrpOQb4mTgidzF26/fdOJX4tLjg+iS7ETu/e848hn1ufrJAB4DyANkBcQFzgOAAXP/9fty94v0TvHg6rblb+Og3l3YUNP2y5LGAslsygzGscT5xjTHPsiuzOrUe+Un+dIBpQaHHkREb1r0WuFXpVkjXrlf+VL3PHg2eT49Ny4daws2CoUGO/TU2NO+zrF7tae6xbYIuZXK6tvY5SvwJfrkAiUQ6RqqGQoYRSMJM447HD/mQVNBVDykM8IkzxKlBpf88Orq2ODQmM37zEDUg9s127HdEefh7K3vxfihBUwPNxcsIHwofTAxO6dDm0AwNoIupSZLGhgPAwcvAJ38zviI7/DnAOn067zpMeW74tviXOX/6Wrvt/aeArIPBRcJGJsXRBqQHwEg6xjyErQR+A/ZDdMM1AmzBoIFjQDV9/vyc/Hr7uPtO+7X6xvrcvHs93z4yvju+qT54fYy90v3tfYF+vT99f0w/v3/Dv8g/Nz4tfP27i7studJ403jz+Od4qDkKudD423dEdzw2obWAdOc0knTGtT71MLV5NcT3Xrkseyw9twAyQUlC/gf9z3yS39Gc0HkRqFQU1JVRfs2XTbKNvElAg4UBLYHQQZR9WbeVs+YyxXOMM5OykHMD9Z63crh7+nl9BgAwwoUEcQTARlaItws4TSiN3M2uDNfLsYkchhgDuUIiAHX82nnVePJ5LvlF+IT3dHfzehZ7dXt0/GC+jAH6BPvF+0W2B22Kcst3ilMJVEjBSM4IIoYVhBaDNMLBgrJAvL40PPs8zXzhO6R6I7mUOp08NL1aPm9+x8AHgYfB00DxwJqBxIMAw2iCnEJMQwCD5wOgQx5CkMJkAeUAvb7I/gQ+Gf6Gvz4+QT3ufeH+az4xvWQ8snwk/Bq727t7+1r8mD5u/0j+2L2Rfaw91/1WPG975zxWvMI8Anr9OqS7BjrTOgy5HrfYd4g3jLbVNqj2zzbXtus2wnbkd0s37TbEN3g5cLuSvheAIQH7hy1OkBFzz6RPFxAvkThRLQ6qC6iLE0uKCh/G8gUbBj4FXUDB+6G3pHVqtWx1aHPqNBf2mXhd+ic8rT67wHVB+gIPwkmDDsSKhyiI28ltSa1Jqwj9R9dGQUSbQ7hBer19ezX7E3qsuf27aj4yPwu+kL5m/u2/kcE5QjXBnoEnAgVD0EVphwsI6klASTGILwcIRUVDbELhAzUBsT9dvjv9zr6JPye+iT2BPKf8PTwf/FF87D26vpM/zIBOQCyAasHxQ0UEKgN2wmICa4LbgyNCjQHjgYECFQD+/oW+gn97vsY+3D7m/js9iv5Z/nL9Rzyt/DF8XvyPvCp7fnuqPM+9i70evKX89vz6/NF9F/wjuzA74LyBe9s7KLtCe+Y767uyetL5xnjX+Oy5Bbhtt/R4u3fbtpY2YrW9dSZ1/jTZtHU3EXpK+9S9Uf7fArtJ5w5eTX0MQQ4tUFTSI5DcjsbPQtBeT32MTIlqyTrJq0UOfq96q3eXdek1+3Q1ciKzRfTL9M412TeiOZu8LX3f/sv/j4FJBa/JOEnCC69ODM6ejckNdks4SWNIwgZhAd4/XX+4wD3+A7rqeds7UHv8eyK6vDpZe9j9wL6lvv/Bd0XSSTaI0sgYCPaJ/sn1SQMH9sZ7BfqE0YLngORAC4B3wB3+Y/usOsL8ZzzZPD47fPugfGT9Rz6bP0IAvcIFA1fC/cHYghBDD4NNwm3BRUF1AS0BNED3QCM/2sBMgG8/Hr4ivc9+O/3Yvan9Fr0dPa19qXxQe7t8MDxgu6A7afteO328Izzsu6s6X7rQ+6E7DfpNOhK6RnqlOkD6Xvp0OoG7THvHO6K6bvmLubH4dfaqNfG1lPWftal0lDP3df14/vnw+zn9IT5awXfHcAuhzAoMzU91EZ3SytNLE3hSZhE8zwCLbwbpxdpFn4GGPFf4gTXfc+2zODHsMLWxKXKsMziztnZjOoP95wAjAzFFlQeGygXMWI21TthQBZA1TouMu4rISoXIzkVlgueBWX7XPBX6Rvl1eRl56jlX+BN4vbt4/i9/egCbQvxEpUY9x1rIrQnKy8WMwkvlycFIrgdyBjbEhULKwKA/Nb6JPfi8OXvAfQP9NrvyO7y8PXyJ/Yg+sX7Zf08ApkGhQcnCY0N3Q++DaoKCwhBBVsFugiKCIEDFQE4Ag0Bwf2n+/z6afv8+Qz01u/28XLz1fDl7oLtoOuR7GztvulQ5wXqses96iDqW+vC7DDxLva+9J7wcvK/9VPzS/C08B/xA/Lk8pLuCOnk6ZvruOWJ2/zUBtTB1EjUgtPU0iTTHtcD3Rvi7uiZ8X/4Qf3GAVILtR1NL442DDn+OnM7TD9ARD5AhzakLh4knhTMB8QC1AFc/WryTOUU2ybWmtXS1brWXtrF3rDjsOvh9Fr+SAvaGEkgnyFOIlom5yyPMUcyXjC7LNQnNCLJG6sUMQ1WBYn8LvN07MnpQ+iR6IztUfLA8qn0XPvTAqUJ5w8hFJsY/R5DItogaiHhJBojgRv8FisW6hGEC2EIwwUUAcX+I//z/Cb6W/xo/t34B/Oz9Yn5+Peq+JH+WQJCAxkE+QF2/lgA4wXDB/AErwFNAXwD8wUICPQI1gZOBOUEXASd//X8ev4I/fj3Kvbj95z4GfhJ94z1zvOH8iDwO+0Q7BnsC+w+7HPsSexw7cbwvfPm847yJvJi8hnyCfIF8sHw6u+E8B3vqeuy6vrqZ+jZ5MXhX92t2u7b79pd1nbWQNqk2NHWiN/T6/3xUPds/hsDbAlyEgoX7hsUJ+IsuChAJzkrNS3qLHoq8yL9GUIVYxE2CJ/+yPwk/Hj0Bu4b7nTt6+zO8C3zAfPf9VD5xPtlAh8LGw/0D1gSkBS8FLMWiRqMGgkZeBtqGwUU9Q11DmcQDA98CWQDogFPAqABjQCGADgCPwV8BgMGDwcKCbgKTwwYDPUKfwykD4kR/hHCEPAOlw+3EQ8RMg4JDpQPLQy1BTME0ARtAQf/KgD1/oL8JP2X/Zf81fyQ/O76b/pg+pr6Sv0PAP//t/8yAYwC8AKwAwoFQQXcA34CigBP/af8KP9G///8fPzQ+z75CPgZ+PD2m/WF9NvxV+5f7HXsyO2J72zwmu9i78fxCPPm8G3wRfJj8BfsR+tb7DjsXOzQ7BTsHeuT6rnpTumN6Y7nXuI+3oTdW96v4cLn7+lO5uHmi/Ae+Xb5UfqJAcsE8f/c/hgFogvFEVYV0BK4EkkYfRlwGP0coR4vFzAP4gmhA2r/pACfAtQBAAIaA2oA4v7TA8wFPQGwALECTf8x/kUFrAyrERgXgxldF+wVlRadFacTXRNHEdILagmGCg4JKAgVDO8NFQrrBUEDfQE2Aq8DFQMWApcC3QOfBaIIwgwJEMcQChAtD68NgQxSDQwOcQ0jD9QRqQ7GCOcIQwvtCBUGLQXWAVT+mP78/dr6A/ve/ZL9B/vf+d35KPuL/aj9ZfyS/gECFQK0AXEDVAQqBJ0EuQONAX0B2gJRAjIAsf7k/eH8t/vx+TT2HPJS8SzyGfAx7e3tGfBP8KDvme5h7bbuFvLv8hHx2e/Q7znwbPBB72HuDfBN8RDvd+uj6P3mPuc654bky+IJ5frnD+qd7FruUO8A8XbwQO3N7XTztvh8+4X85vyr/y4EfQX8A7ADxQMgAsEA6gGGBMMGwAjdCoYMiw39DCgKmQg3Cp4JAQWuAi0FoglgDv4QYw/SDHIN1Q9UD3cLtglnDLUOnQ3dCuEIjwqwDskO6QroCCsITgaMBToFGAOXAjgGPQmdBw0FoAZiCqsLfAq4CKcHCgmNC1kM1gzzDYUNqAznDKILHAkWCccKKgunCkYKugmfCYUKIwu4CiMKLQlbB74FnQMNAPr+MQJNBPkCMwHe/rz7mPqW+mL5GPns+qz8fv2K/XT9hv9sA1cFcATyAkkB2f9tAJ0Bvv8G/LH6U/up+sL4yPcz+Bz46vSn7wrtxO3f7ffsZO0W7pDt9Owz7fXuufGH8s/xF/P/84Dxf/Bd84/0o/JB8Yrwo+/A7yTwFu9K7XXs6eww7YTsR+3p8KfztvIH8tT0l/ff9zn4Evlq+V37av4e/+X+WQAhAs4DzwSFAtv/ZwKdBooFvQHeATEFPwcjCCIJKgmICcsLGwy5CCwHUgqgDVgNyAt/DF0OIg99EDgSixBPDTcNrQ3zCtQIlAvAD9AOgwn+B+IMSBD7DLsIGwkWCtsG6QIcAw0GjwjVCZoJ8wdxBioHkwmvCSQHLQeXCagItQXtBUEI8QmKChUJ0QZEB/0JdQtOCpwHqwXZBdUFrgOBAmEEVwX+AnsAhv82/7r/JQBX/0b/NgCb/2H+pf50/9EASQOsBPoDywLNAQgBQwCP/nP8DPuZ+cT3HPZa9E3z0/OP82bxaPCs8B3vvu247y3x6O5P7QzvhPBY8C/xrvMe9ij3q/Yt9vj2xvdM9272iPXZ8y/y3vEw8jjyavJN8pzwle6z7oLwhvEn8fTwxfHN8jD0UPcs+1/9z/7UAG8BNgAsAP0BhQN4A7EB7f+wALQC2QLMAXwBLAHg//r9XvxJ/OT9eP8YAKgA+QEGBOAFdwZuBvEGdAd4B4sHsgd5CPAKgQ0NDqUNMg3NC3AKWQrfCaII9QiMCssK5gmuCUQKGAtOC7wJvQe/Bz4IgwYmBOgDOgVgBkEHiQiMCQwJKwi7CMkJWAogC5kLVgubC00MLQ0yD3QQmg75C18KKQj0BWQF1ASQA1ADHwMTASn/V/+f/63+Gv4q/vL9d/4+AA4CNQRFB/8IQAiKBz4IuAgfCGAHmAaTBBEBE/40/cv8Nvvb+a34ffXn8Yvwpu+i7qrv6fDK76PugO/u8a/1k/hv+NL3NPnX+kj7jPvS/E3+fv23+kT5CPnP92f2YfWr89DxBfC67Xnszuyy7BPsNuzD7LTtru8v8rn0h/c6+sv7X/zo/dkAqAKwAmcD1AQaBb0EcASPA5QC6AHGAH7/m/5W/cT7+vp5+lX5yvgY+ln7ffrM+dH7Df5u/uv/lQPuBfUF2wVlBp4HNQnWCUcKxgvuC/cJOAmRCcAIPgkwDB0NgQqZB70FzwQtBZsF6AT3Ay4DKwKiARQC3gJ8A9gD2wNoA+4COgSwBwEK6AnlCh0NQg1uDS4QGhGxDrQNww3YC+0K/QvdCk8ILQdIBaECVQLgAZD+pfz+/bL+pP5wAIMCcAO+BHEF2gOsAgoEwAVtBhMHygcxCDwIFQekBH0CagGAAF3+1fqD+GX5ePqy+KT2y/YO9xL2ZvWk9VP2avcV+JX3evcp+S/7Qvyc/ZD/SwC//0P/Of6K/En8zfxD+6/4YPdv9jr1sPQv9Grzj/PI85fyDPE+8Bjw8PBJ8gfz2vPi9X74YfoQ+zr79vtB/VX+EP/b/wwBFAKRAbX/wv6k/5cAAwB+/jr99ftL+iz5HvlI+iT9bv9C/rP8jf6mAFQAYQA6AQYBkAFmA3ADWgKcAy0G3Qa6BZ8EJwR/A2QC7QECAnYBTAGUAkQDGALmAFUB/AKUA3wBqP8uAcYCZwFjAI0BhQKaA7kFLgYrBRIHLQtfDOsKFQv+DBAOGQ7LDQcNLAxeC/AJSwh5B0YHxgZuBbUD0gKnAggCYwFUAfQAuwD1ARwDdgLOAQ0D8QTKBScGCge0BwoHpwXiBDsFBwaUBUYDPAEJAW0BVAEIAY4APwA5AL3+lvuk+XT5Avn6+FT6svpm+VP5GPuC/M38ePzl+7/7UPze/LD8W/xA/Y/+fv2B+pP5rvsu/Yz71vgI+Df4KPcW9n32+PZA9/f3W/dk9S/1zfZX90b2MvVL9T72ffZQ9tr3lPr++xb8nPwU/k7/Jv/D/nz/vf/n/kL/nwAbAXkBpAH7/y/+9f1a/Ur8pvzx/LT70/oM+yv7YPso/Bf9LP58/64A7wE5A50DHwPfArsCRQLYAoME+QSFBBUFGgWNAzID9wPwAoIBCQI9AowAMf8N/yz/BwDOAS0DAQTdBAoFhwSnBFEF1wXnBpwICQrhCqoKOQkyCGAINQhGBx0HEAhVCIQGBQSPAxgF+gUtBTgEYQTyBIAENgOYAm8DJQVQBsoFWgQVBHIFbAbvBDwC0AFFA48C7f8Q/3L/y/5K/pT+SP4p/kP/FADO/yz/Fv6w/En8QP0l/uL9D/5YAOYByf+f/eD+9/8O/jT8avz3/Lb8p/sR+oj5Cvu//Oz8m/zG/LL8HvwZ+0f58ffB+Jj6lvss+2f5MfiV+Tf7y/mh9gf1dvZ++R/6n/fq9or58foI+kz6VvxW/kv/Wv6B/IT84/0X/nL9W/0U/mP/ff+C/ZH86v1T/kH99vw6/cD9EP9a/17+PP9bAQsBOf8p/1QACwGrAYcC8QKjAhcC+gFwAuwC/QJ+Ap8BJAEtAdUAEgD6/wkBOgLTAVYAogCOAsUCvQGmAqcEAQX+A44D6QTcBhEGFAM2A/wGmAhABuUDsQMEBTMHcAjwBlcEuQM6BVwGjgUwBEMEfwXaBg8I5AfjBbIEawXJBZoFEwbWBY0E/wNjAwsCZQLvA1ID9wF9AgAC9P6r/UP/pP/G/n7//P+Q/hv+Jv9R/zz/d/+b/jb+o/8AAGD+P/00/Yb9f/0+/JT7TP3M/o7+Jf4p/SX8t/01/9D8ePrb+1r9pvxN/AL97vz8+877vvwO/f/7ZftS+3/5efco+cH8ZP1t+6n6BfyV/bv9tfxg/Mf91P4v/f/6wvvU/R3+z/3x/WP9d/2f/vj9uPwx/mn/g/20+7D7//vs/HL+B//N/rb+lv4C/nv9kf7LAKYA4P3N/H3+mf8x/7b/MALlAyICAv9b/vH/QQESAbP/TP/3AGsBBv+F/hMCJATkARsAIQGfAcwAugBeAasCbgQfBI8CjQNqBQAF5gONAsIAfwHAA5cDOwPlBFQF+wM9A+gCqAKOAhMClwJRBIcESwOeArgCVgRrBk4FCQNABNkFGwSkAm4DfQOGAtcCVgQjBUUEBgM8A7gDtALpAVQCagGL/9P/YADP/uL+HQFZAML+RgH+AtIAQwBIAI788vrK/pgAQ/4+/fT9jP5tAFgCiADa/HD8dP68/k/+av/n/zL/AP8T/jf9/f/bAhYAX/tW+pT7DP1o/z0BbQDh/lr/RgBp/5H+6f5C/vb8yfxv+7j43vmP/rH/jvzn+v77DP25/J36afiH+Yf8L/2T/F/9aP7z/uH/yAAQAT0Ayf7r/qD/DP7M/F3+/v/wAGsBIf+//FL+7v+3/l3+RP/3/qv+P/8f/9j+QwDVAbsAHv+QAFgCkAFCAbMB6P+4/sMA0QE/AOD/wgGlAzgEeANkAo8C6QMwBKcCsgHfAR4BVwA3ARIClQKYAwsDYwHWAW8CuADx/60BEgO2AqIBzAG6A8kEPgQ0BI0DJwH6/54AGAHUAVMCywGIAtgDsgJtASkCTQJzAZUA0f6X/fT96f1r/j0AFAB2/zYCAAROATD/dQAQAv8BMAE2AnsE3gKb/rj+VQExAUMBWQItAAb9vvyD/bX+RAB2/3f9HP2Z/I/7sPw8/3QACP9T+y35a/tr/uT+8v6e/1j/zv5A/3L/q/5K/pn+Cv4z/NH6s/se/pL+1/tQ+tb8/f4B/f750Pkb/Ff+qP60/bX9WP9NAdYBAgHTAXAE0AMGAED/nAAL//b9agHFA6kARv07/tEAhgH4AF4AM/8+/jL/wwDqAIsAYAC0/6f/PQFtAugBHwGvAN7/4/6r/tD/ogE3AkkBpQCtAAwBvAKHBIsDaQFuAUQCOQLMAsoDjgPoAgoC9v/N/v7/QAD4/tP/vAGjAFb+Q/4j/87/4gDFAC//tP/HAekAu/+ZA7IHYQUIAWYApgGBAmQCdAAR/38A7wGDAbsA7f+q/5UAhQDs/uv9m/0X/u3/uACjACsDegU1A44A3QBNAIz+iP8qApkC4wD+/wwBegFdAKEAAQFe/gn9Iv/k/jr95P6V/z/9Ef26/fT7uPt1/u3/TP7E+zr80/9QAb//5v47/vn8j/2//mb+U/7b/qf+lf6B/sn8C/uk/AwAhP/++nT5Q/yL/bz8J/4rAX0CBwKDABz+Sv12AKYECAV3AoUAif98/wMBSAFM/sb81v+AASD96fhF+9//VwAv/mH9If4X/3T/2/6A/uP/WAH7/5b9kv4JAiQDCAEl/+b+MP5C/aP/EwMRApYACgMYAxMAZwGHA5wBHALTBO8CYgB/AasC6wOaBcoDeQDJAJwDeQVqBDgBxf9rAKEASAGxAXL/Sv6yABgCYAEfATEBeQJYBGkCL/93ABsDCQOhAUj/OP43ARADSQBo/or/gQBTAJL+T/zc/Iz/6wDO/7X9cP7QAWQCxgDhAG4ASP+vAB0CTgHp/0v+zP4EAg0Cwv7D/Uj+P/4R/uf86vzo/nv+Dv1u/Tb8VfxjAe0CRf57+/P7F/6uAcwBzP6J/vz+Wf6s/wcAmv3g/JL9fv08/Wn7Zfph/mUBev5A/OD+2wGIAJz72PmL/az/g//WAQkCNf5L/uoAT/8J/p4AXAFf/8/+4/5l/XT8f/7BAIH/+/0yAL8Be/+8/jgB/wGXAPn/Xv/X/UD9z/3L/d79HwATA/UCRQB//mH9Dvy9/TUCZwOtAHb/dQAzAbACLgWPBVUDTAEZANf+BP9UARwD0wPKBMgDrwAkAIYB/ABYADoB4wGcAfr+Vfw7AFsFNQLl/hEDHQVJARX/av/LAJgDjANNAGUA7wMtBUcClP6x/gsBQADc/jwAhv/d/Cv+gwC0/y3/2f+p/6n/Rv+9/V7+KgEYAl8BNgGnAFf/hP/kAewDRANLAcsANQGw/1f8uPqN/Fb/+P///Z/7/PuJ/nX+bvs0+w7+p/7P/cz+Jf51+wH+gQRfBYgBcwCiAWkCqwLHANb+EAE4A1IA/PwU/i8BmgH0/i/+GgC2/t/6yvrv++n60fsO/4oAZAAaAOv/QACrAGMBSgIYAYD/0QAsAcv+DQBRBFIEpwKhBNIEWP+f+y3+mQAk/gv7aPvf/Az9kP3G/tf+0/7Q/7P+qvv2+3f+Lf4q/ukAfwBZ/WX/9wRhBmwD1QAyAikFpgKc/Z3/fASFBGEExQVpBD0DhwNcAXn/jQBfAbcBuQF5/1/9gP13/hQA5gDg/5f/SP9I/e38GP7e/Zf+/QDKASIBNQDb/gL/9gGWBKwCTP6h/mwCwQET/wgBCgQ7A/7/SP0q/mEB8wFoAGj/v/6M/0cAPv4o/twBPgNNAlgCiAEUATcDZQMFABT/hgIsBM8A+P7bAe0BEf69/Zz+BfzG+wj/H/8K/Xf91/7a/pz+Hf8K//b9pf6EAMv/Tf/ZAc0BpP7B/q0AqwAkAf4B4wA//2v+Mv+gARsCRwB8AAsC9AEQAfT/XP9SAMAANgF5A/wCdf/n/hr/vP3p/3gCIAC1/pD/mv7h/rr/Wv5sAAcDJP6M+s792f7L/ogBcQBU/gYBHgEZ/hD/BwAP/7EAWwEz/3b++f3o/qcDdgSOABAB3wHR/bT9ZgHFAE8AMwLZ/+L9qQHKAhMA0wFDBAIBCv50/9wA2f8R/ij/IgQbBrMBYv4q/wkAkgCb/9b8sv5TAyUBsPzf/gAD4gPtAogAnP4r/0EA+wBfAPf96v67AhIC0f+RANX/dP8HAuf+kfi4++sBtv/h+6v9YgGWAlwABv8mAZEAJP0Y/g0Akv54/tL+8fyX/Tr/1f0A/mj/+f2z/Vb/Rf8b/xr9Dvha+AT+z/+r/4AByQCH/sv/xgKaA00Bx/7c/0cBof+v/+sBSgEmAHAB7QFUAcYAe/7y++X76Pyg/Yv+CABeAf7/Cf1V/n4C2QJiAcABHwB3/QoABATtApgBugOvA4QAjP/MALgBjgKeAtsAvP58/igBvAMJAn7/ywCmAT//Ev59/jv+sv/+AYgA6P0I/ygBuQAOAFQAQv9Z/kIAVgFJ/2z/QwPgBKMC6AAwAuwEOwUCAtv/IgF2ArsCLwPCAYr+5P45A1YEowBl/xQCzAGN/rP+YQDL/g7+OAHIAUn9KvyQAcMDs/4G/Cv/0wDNAMYBaf84/Mv+0wDR/TL9wf/WAOoAlv4h/B0A0AIH/cj6jP+oAN3/OQHIAFMB+wK3/4j9rQC3AVQBiwCB+yT8UwSIApP7+/85BGz/6P3V/+P9h/xy/rgAhwBf/Tn++gK3AD788/6+/878c/9HAcn8CPy9ALgBg/1L/N0BswO6/DP6Jv7n/VL+bQKrAIX8JvyJ+5v9TQKBAfP+Sv5I/S4CFQh2Auf9rQMrBNX+8P/CAjUD5AS6A9z+l/3eAIoDCgOUAVsAv/wi+xwBWwQQ/yD+wwJqASr+4/9PAGP+vP+qAQQAFv6h/+kCmAMzAYP/Y/8U/yoAfgL/AFn9Nf+eA5gCUgBcAhkDqf+Q/Yr+y/+tADICFASuA4MA3f7O/4UAjAH1Aar+I/xF/7kCEwF+/VH9WACpASEADv/K/mT/fwGGAbv/jADsAEX/GgBrAIf+OgBlAQj+Sf52AGD91ftx/rT+jP4Q/4P9o/71AUcAJv0B/lMA2AKwA34APv7D/4MA5P/K/3z+Gv1v/64CGAG5/fv+SwG3/+D+OQC1/rj8Z/7n/x3/wv7d/5ABugGv/9T9fPyn/EUA3gCd++z7GgO3BJEB7wDe/6L+/gDaAVb+uvt9/E7/OAGY/3j+hwCVAE7/8QCKADL9Gf68AMv/9v7t/hP+vv/KAWoABADFAOT+Yv6n/8j9NP2wACwBKv8WAIsANP+rAH8CYABZ/sr/RwFfAAL/Av8DAIQAsv8w/2EAAAFw/9T9V/3i/bD/6v/q/WT/UwM4AtL+MP9VAIsAnAH7AU0CNwO7AZwAvQGm/3L+BQTvBY8AQf+gAeoAlP8m/y8AFAMCAqL+BAAzAWIAnQJeAbb8dAAqBuMD8wHRAg8CTgNfBOsBGwJOA5oBxQKBAyv+o/x2AVcCp/87/lv9av7y/zf+u/wz/VX9dv/yAdL/Sv0T/kr/1gAUASf+L/4UASgA3//1Ac/+J/ysAPMBV/5H/zcBYgAeAQ8A+Pub/LgAbgKsApwAcvw0/Eb/lwB0ARACu/+r/Tn/LQEVAfX/jP6f/o8At/9f/Fj+hwOAAn7+pv3T/CT+ZwMOAtL6OvsdAIsAkf/l/CP5b/ziAe4Apv/W/jr7QP2pAtH/G/wi/zsAKv54/Uv8PP2iAVMC1v4B/TT/9QQbB54Ag/v3/R4AS//Q/gT/DgEZAxcBQv6C/Qz+FgIhBVz/ovmN/a8BeP9//fj9nP/qAnYDv/8f/iP/1/8KAhQDRAAAAFECaAGgAVsD1/9W/k8EdAaDA6UC+/+k/scFPAmAAhH/uACf/6n/gwIUA+0ChgNzAjABgQAu/2z/6gFnBHcEjf6s9wD8VAXqAnL75v2dA/QC5/+w/VL9CgG1A9cASv/GAj0EGQEJAEoDAAQCACb/RQOiAyr+G/sR/mUBAwDz/DX9tv6Y/t/+2P5p/ZL+KQGE/9X8kf4uAScAIP64/40CIQCi+6H98QKkA6YABf3E+nj9NQL0AYr+Dv7a/w0AQ/6+/M/8sP1C/tj9K/xq+hn7Jf/tAlEC5/8X/1f9T/yGAJwCMP31+wUDOgW9AMQA3ATNBEABN/5o/Az+ugF7/2r6JP4oBAkBKP0i/pf+TgEFAlz4RfXmALQESf8TAIH/X/xdACcAx/l6/sgHGQZV/j/5cvwABX0EF/6w/60B0P2F/F/9j/8PBcEDp/sg+4v/OP9G/kIASwGC/gz7H/3FAFf/7v4SAV8AhAJ8BWj+WPjy/ZACuQJvBMIBEPzC/RMDRgIj/Fb7wAV7DJADCPpG+s79/wQnCnsBffh+/pcH8ghvBIL+qP/bBDgDjgExAo/67/Y+AksI6wLx/9/9ff6JBzMJCP9M+wb+av8HAxECxPlS+n0D6gb8BqwF3v1B+pwC+AeOAgf9O/xO/gkDIQQs/jX8OQKbBPgBMgLpAHr79fykBH8D3fqb+DL9YwOvCcIHsvyT+aEApAJuAfcC/P9h/Jr/MAFm/4H/Kv5u/9sF+wMO+zr55fta/wAENQGo+lr84f+iAJADoQFj+jT8TgR1BcEBZP6E+xv9igLbAmv+Cv9OA0sCp/59/jr/o/9UAQcC2ACm/pT7s/oZ/S0AqgJoAQL9N/07AM3//AAmBJABVPzR+jH8t/4HAK//0P9q/7b/WAA6+zH4UwFGBxUAGPq9+Qn6HP4VA1sD6ACw/Hr8YgVoCXcAo/kI/JoBdgcCBtP67/fyBK0NGQZK+7f6sQLIB+oCjPwE/oUBpAI8BHcBx/ud/nICL/5R/8sDJfyO99ABtgUk/i376vyh/hMBfAGDAbAC+wBq/woAfgDJBYcK9AG8+Q4AIgW3AaAB4wKpANIC3wcrBEr6P/iQ/xgEJwJn/3r74/is/64HkQOg+4D8ygFlAqH96Po4/0YDjQBz/EX83AAMBz0EzvlS+m0FBQcJ/pT4Xvqa/2YD5AK9AZ0Bm/8P/RD9YgHUByMFe/j89G3/mwfABwQDVPuT+c4ApgVyAhD8MPlD/iAEGgHw+wn+7wPZBlMC8PiF9tb9YwObAGz5afbT/cEHuQZ2/c/4g/zgAdYAtvlT9nT8XAUnB6AB7P0pAKsCRwKoAOj9UfzZ/TL+4P1bAp0GLARFAJv+HP3U/XkAFP/o+Wr3ovroAFUEkgLb/57+hP1w/YT+4v0E/E/8hv9uAzAESQBu/UcBuQYIBRL+nvpf/SUCzwSqAwgADv7//7QCFQKi/zH/YP8//qT/YgN8Ahv+vP3T/+//DwA/AAL/egDNBHMEb//f/ckA0wKTAn4B2v8C/hD9U/5xAesC4AEKAoQCw/+6/XL/AgA8/84AqAA2/dT95gL9BHIDQQIKAgICIgGy/un89P6hBNwI7QXp/hL9HQH6Ax0D5v+I/If9cQK0A8L/if0BANMClAEu/Wb6V/vw/TcAygCF/1b/4gDYACn/AP7z/Bv95P83Acv+Vf3f/mUATAGRAUf/XvzL/Or+Kv8k/mj9Jv1T/uEAaAFI/qb8qwAnBKUABPyZ/E/+of7w/8z/EP1H/YgACAE7/93+lv5S/Av7xf2RAM7+f/wD/vb/yQAbAtEA4/yc/N3/dAHaABr/l/3w/kkB/wENA00D1//O/Lz9BgADAu4BeP5I/e8APwKX/1z+KP4q/t0AbgI5/6D8af0Z/vD+IgEBAqwA6f6//fj9If8sAHIBnAFb/3b+8wCdAkwCIAKPABj+EP85Aj0DVQKvAA7/v/+RAQgBr//T/67/EP/e/14BQgIvAq0AZf84AFwBsQFgAusBDQDiAL4DzQOgAvAC4wEOAJAB8AMiA00BpwBJAHMAwwG3Aq8BWv/+/Wb+hP8NAWQCjQFI/8v+6f8fABYAGgEBAUX/0P/XAuUDHAMTAyECCQBo/5//8v/yAC8Al/1N/SL/qgD4ATkB7v1B/MD8Ov0c/x4BTP+6/PX9IQCZAD0BhgHA/8D+RAB+ADL+lv3X/6ABdgFrAOD/oACqAWEB+P/g/p7/VAGMAP79gf6GATwDxQOlAkn/av4KAVoBq//s/2//rP3E//UDpwPB/6D9FP6G/oH+Uv+X/5792vsc/AX9tP59AIT/IP1O/BT8WvxO/gAA3/94/pL8VPz+/bj+K//3AOMAHv4U/dT+KABV/6P9sf2J/1gAvv9F/77+k/6C/6T/wf6P/+IAav/7/Af90v6FAKoBmQFjAFf/Fv86/1D/kf+CAB4BKgA4/9n/9gDCAVcC+AFDAEX+cP7JAcADzgAS/pb/1AEVA8QDpQG7/r//3gEQARcAiAA8ACsAHALNA4QDnQJZAaP/HgD4AnYDvwCB//EAKwLzAVABvwGkAk0BL/9pALsC1gHK/yz/+/6P/0MBDgL/AbgC5QI8AaH/V/8FAD8CCgW5BB8Bif7g/toAXAOCBMIC8/+i/mn/lAHwAgMCGwCl/dz6yfteAdME8AG9/IH63fwRASECjv+l/ev9jf5V/2IB/QPJAxj/2Pp4/AoBJwOYAjEAf/w++wX+kwCmAJsAbgBU/gz9Wv9mAQAAuP7G/yMAM/+N/9oA5QDX/7X+kv2Q/e3/xwEoAJv+0v/3/9D+XgAfAp0A8f6I/iX+O///AM4AJAAaALv/mgBLAjkB4/4N/00ASgCl/y//ZP9NAOcACgGYAHD+pPxL/moAyP9G/5//A/6r/Pn9+P5X/wUBfgGn/2X+Lv6g/kgA3ABW//L+HgBcAGkAkwHrAWsAVP/T/zEAEgAWAf4BjQDt/qT/KAGbAaEAo/7i/X//NwHaAR0ClQFlAJz/Nf/c/6sB/AGxAKoAGQGbACUB5wHOALAAkQKqAg4BZQDx/7T/BQHQAYgAef/G/w8AtP8C/5X+Xf8YAfcBFgHR/1v/if+GAMgBFgH5/ov+af+w/2sAvgH9AbMBigGLAHT/lP89ABQB/AFgAWT/7P6xACcC5gHKAJH/qf7A/rr/bwDk/5z+Y/5i/7j/Uf9u/6D/zP9zAGkA2f9ZAEYAif7z/Qv/wP8OALn/g/6w/hQAw/88/mr9Pv0Z/mr/Ev/l/Rb+6/5J/zT/oP6y/tz/9/8L/2T/AgBT/wf/xP9LAHMAFwCY/wcAAgDl/mj/pgBk/0j+AAAiAQQACv/a/uH+M/92/3b/TP8L/y7/a/8b/9H+oP4A/un92P6A/17/m/4T/Rf8SP0q/+n+E/3n/L7+i/+b/iH+Y/5q/tH+nv+m/07/mP8FACMASwB4AJUA/gDEAV0CEQIHAcQA0AGhApYCKgLhAIv/cgB/Ap4COwFKAAwAYgDpAMEA3/+I/lj9nP2u/p3+Vf5q/6oAGQHyAMP/tv4fAEoC4QFHACEAdwC2AG0ChAQqBBgCNQFcAhsETQSFAg0BeAGWAiYD6QLiAeYA2gBuAf4B5gG+AMr/WACOATAC1gEwAI7+Av9AAJb/Pv7K/iUAWwBeAFgBBQIgAan/S/8JAGEAt/9j/0wAFwF2AFT/RP++AMsCWgO5Aev/cf+g/ysAAwHuAPj/0P+KABIBRwH4AMT/sv7o/qL/bf+n/t3+0f/x/33/Z/8h/4z+VP5F/mT+nf7t/Wn9pf4u/5z9Rv3S/jH/s/7n/rL+Qv4R/+f/f/9C/xUACgFsAdsAKf+h/dz91f65/mX+H/+n/wX/ZP6h/mv/GAADADz/Ev7Z/BP9//69/6f+Yv6s/h/+mv4lAOX/qP67/iP/LP9I/7j+Cf6F/gn/KP/c//z/Gv9I/2IAtQBiALD/B/9//xcAfP/X/un+kv86ASgCagBl/nP+F/+A/44AXwGVAA//cf7S/jD/fv9iAG8B4QHRAWIBwgBzAFwAOgBVAL8ARwHiAV8CqQK1AlAC5gHzAe4BhAHrABcA0//sAOkBYwF8AEAAfQBjAXYCCAJVAKD/XgDyALIANgD//5sA0AEWAjYBlABdADAAjwAiAfIAdQByAMUA/gDKAIIAsACtAPX/Q//m/uz+o//k/wP/7v68/wP/qf1J/of/W//t/jz/pv/h/57/2f7e/hAAzQBRAHr/yf6V/mb/YAACADH/3//+AG0AZv/Y/4cATAB6AP4AAACF/jH/JwHVAUABWQB+/9j/8QA3AKT+O/9pAAAAq/+r/8/+9P6jAMsA/v6v/Z79av5d/1//Kv/Q/+D/tv4+/rX+r/6e/i7/fv+T/ykAgAATANf/+P/b/6z/qP/A/xcAdgCqAOUAvgA8AMkANgJAAtIAKwDGADQB7QCSAJAA1AAIAdUATgAbAIwAzQAdACr/2P7u/ir/u//6/2P/K/8IAKEASQDk/4r/Mf/A/7wAfQCU/8L/egBIAIL/Lf+S/3IADwHaAGgAggDtAA4B0wDEACEBIgFdABkAAQG+AbMBnAFjAeoAzgB8AJv/u//sAF4BUgFaASoAn/76/gQAFQA1AF4Arf+D/6EATwHsAJcArABpAGj/yv63/+oA4wCoADkB6wF3ArMC8gGuAB8AQABbAEIAOQA8AOH/k/8wANQAfQBUAJsA7v8U/2H/df+x/oX+6/43/8r/9/8e/7z+X/+2/63/4//P/y7/u/4a//7/LQCW/5H/yP8v//r+tv/x/9n//f9q/9L+gf8SAKz/oP8cAEYA9f8z/4z+3v7G////B/8b/tj+DwCU/5T+rv6w/l3+yP4x/yX/bP96/x//Tv9t/y//+f8PAZQAkv9//7f/r/9v/xD/dv/CAHQBAgFOAMn/of+z/y//h/4I/9L/hv9S/93/g/90/qf+ev9x/3X/3v+D/9L+jv5c/gb/ugBIAZ0A4AB1AdUA3f9r/4L/EAB2ANQAzQE8ApIBOgFGAQoBJgFeAQgB1AD7AG0BjAL5ArsBHwEXAkYCVAFBAfIB1gEEAboAUQELAkUCQQKCAssClwIkArQBBQGWAM8A6wBdAdECEgOHAXEBygLIAmYDQgfcCa8E0Pl/9N77FgibC88CFPbR8ZP6YgY7CXoDKfxQ99j2FvvJAAQDLgCu/DD9bwAgA3kDHADI+wj8yv/hAcYBxQDt/qz9Uf6DADQDewPR/wT8rvup/dj/TQGaAXgAAf6q/Kf+9gDDAWsEiQb0AFD3wPT4+xkF6wVT/LnyhvNn/FIDtQF/+mn28/cd+iv7Zvwe/Gj6UPvd/lQAI//o/iX/mP1f/bIAawOiAsf/MP1+/UcAVQKfA/8DZgGz/oT+lf5RAG4ESQT3/xIAZgUxCdAG5P7g+e3/AAtQDTkDqfZg8wD74QR0BzQBn/nc9oP4Wv4JBI//rfY6+jAF/QbpAH37SPpWAI0IhAgEArT+OgL4B3YH5gDY/fX/6QJhBuAEe/vI+OoCfgh7Ajf9vvw0/TP/TwD5/dn9GwLUBOkDXgGg/qD+uQGxAvP/zf7dALgAxP2w/pgC3gGH/mP+ef8NAGX/nftb+2ECBQUO/xn7d/0+A7MGlQDY+K/9ZQf0Buf+Fvro/fwEbgW5ALf9H/1CAJAE9gK2/zX/Rf0k/wkGjwMo+gr6CAF7Ba0DhfzB+zAEjAWU/rP7sfx4AOMEcwBk+/EAPAMg/lb/nwF+/vf/5wK5/tL73/6BAhgFEgT8/vv8DwAIA/YBEv3b+28CwwUo//P53v0dAwADZQFIAVv/Vf0NAEgDHgR9Bv8F+/4W+2f9XP/kAVcFfAJe+LPxGPlgBUICVvZK9oH70fqz+kf6q/hU/Q//D/rK/x4Ixv6M9ZT9EgcEBij8BvXPAmkV9Qrx9Az1TAF5CkQN6gCv9JT8QwPD/cMBUAgOAc37K/6g/+sEXAYB/Qf9DgZ2BDcCRAQ1/JH4xwTAB8P+9v2A/UP4rv3uBB7+Pfhs/aMBNAP0Awz93PgnBOUL0QFu+af+uQhtENIJkfQd8TwK8hmADH/3JO8I+/MRKRUU/D7p1PR0C9cQbAOY9Dzx9PuGCx8M5vqK8GH6hQjfCar+EfX3+NUFoA8nChj0m+u1AhISLgPm+ML9ef2//fUBEv8R/vsCYQG8/Oj8WAEJB+IABPU8/2UOsQHW8/r8jgOQACACgwDY+yECXAmDAeH1lfkfB6YIrv09+j4BZwZCBDz7jfZ1AHMJwAUoAXr8YfYl+/8A2vyWAgIN0P9O7erxYwCLCNQDpPA96Uf9MA0IA1Xyi/HeAI4MnQUM9untXfb5CcoKFvZK9SwH8QbI/+AAT/l09UoEygkL/Zz1Xvm/Ab4HigVpAEz4UvAm+1oKXABl87P4cf0rAgkKGADI8Q/6tgeHBxb9YvEm96EJsAk5/hL8KvhR+OoIqw0x/gH5Tf4Y//kC/AceA9r6TvmZ/5sEJP/9/HAJ0Q0i/u/yP/tZCdcLZQIB/Cn8k/t0AfILbgjQAE8EqQAG967/1AoSA6L8TAJGA8P9gv1cA0cGCgFB/IX/uQEA/bv6YwC4B5wIIQKT+wH7FABVBWADSf4PAWwFMgEE/tgC2gUlAz8BAgHG/Zj6Bf9VBMgBmQJcCNAA7/Sj+h4EfwK8AYsC3Pwt+hYAaAV6BpgFBwHn+Y/6HAXcB//9L/wYBBcFPwPAAez5XPwVDKEGKPCK8sAGpQxXB6r9hfCj9FsLShEj/DfrqPSBC5YQevo76ez1xwoSDQb/0O0G7N4CHhUCCMPzO/MJ/MAD9AkUBij6fPZ2/hUIlwkPAO32BvuIBnQKYwEu9dH1bwOyDD0Gu/XM7jz+Qw6VBfb1yfYv/kEEcAtfBlzzZO8wA5UPMQRi9Yvy0vlvCogURAJl6zX0ygg9CikCNvq880n8Pww0CyMAmfub+Tn86QY5CXf9aPV6+vwGOg4uA1byXPbGB4gM6QLO9cHyagReEhsBn+xP9YgIHQ6RBd/3H/YhA0cJ4wEU+2D85wQUCvgAP/cg/X8IDw2HCs8AUvdy+tIEWAaCAPT/DABZ+cf6SQfwBy3/HACkAAT7xvzo/Tv5DgHEDowMl/+k9Lr1EAe2EIAE/flj+Xz6VAUkD7MEXPtpAvYFsQP0Aiv6V/TYBO0UPAj68dvyWQR+CtwDWv8V+9/3EACTBsL9nPis/7AAhPx5AEcDYfwF++QGvQwaAff2m/taAfMBfgX9BLT6R/lYBgQK7v7T+uj/VABgALsCSPwy93wD3gvH/cvyQ/0BB48AzPjy+aj8nQB3CNkFEfct99IFygKE9RP98Qr9BI35r/rfAZUG+QTg/A75Kv9CAxL+f/iy+4kHFw+1AhrxAPlvDYML4PwI+lj9+gLDCyYFmfKG9rUM7A2D+m3z9/zOAu8A9P90/rL7sf9QBWD/Kffa+1kDnQED/4gAUf/H+477qv9AB00KrP9Q9FD6sgaiB4sBN/3d/u8IrAvT+dzuTwM4GOUL2PIU797/iw5oCp/59fTSAhcLbQE39yH7sAZnCRX+V/Yw/nkFkQGY/dn+3gJ4BWb9QPTz/dQK3AOT+Gv5Jf+CBJgD/vfv85sDIhDVBLjxuvJPBUwM+//I9zH+SgYkBwgBqfoy/08JwAVV+d77mgjaBfL3VfcbApkGHQNw/Rn4VPcn/asE7wMa+FPyNv3DBNL9wPi++o79XgL6AQD5UfmlBIAFK/xc/OcGTAlQ/Vz3YwTsDS8DdPd8+s0ECwwJBtj0vPEdA7gLYAHJ+RH8mP4VAIkA3/48AGsCs/3R+BH8NACB/wD/VAHsAmIAivui+sH/MwZiCD0ESf6o/BX/AwOPBTcDegCPAW8Az/7LAq0DIP8o//r+2vp1/SQBrfvT+gcFqQgD/ljzm/c6BSEIH/5o91L5GQD0BhsEy/oL/OIF+QWn+nP1Yf6QBdUAe/6gAqYBaAALA6P/8fxNA8MEa/2P+KL52QECClUEyfqI/AUBcAFk/+n50Pn4AK0Ak/x//4QArP9QA8kA9ft/AiwGTgDEAbcDyfqS+sYI3Q5oB4r/X/4BAvMCPwEiBFEFZ//u/dP/Zfpz+R0E4wYW/W749fqy+jv6Df88Ay8A5vq1+rn93QBdBNMDn/23+rn+RwH7/pv+MgPlBUsCy/4JAHwBrgB9/47+GwDBAxYDmf5s/gwDNQWbAaX9QP85AeP8D/lk/EkCVgbTBIj7UPXc+lEBp/8u/Ff8z/1g/Hr5oP15BmcFxvzD+l78TPw1AHoDcgC3AdoHGQaz/8X9TP+LBEQIEgEU+p//OgaqBrkFMAFo/bEBBAPO/O368fxG/98EcgPo9yD1nP34AjwDF//F+Cr70wJgA7AAUwC4AaEGCwhhAUn/qwJkALf/zgY0CXgClPp1+Oz/PgjWBJX76/ea+j//h/009mr5YQW8BTn9XPvg/Oz9EAWsDMYGVfiN9XoBgQlLBrsBnf5d/TcDtwaR/P3zafzkBzsFcPrC9Yj4Cf2ZA4AIOQEF9VH2qgBfBBgCLQCUAMgDHgT2/gj92ADhA7cEogJg/dT7fv44/zMCQAioBJn5v/j9AHwDK/8a+/L6oACSBe7/RfgV/RYGUQX5/6r9jfyZ/XIBEQPUAuwDAQNN/y7+eQALAuEA9P/YA1cIbAN/+V/5QgLKBpkDvP51/ID+xAGp/3j7Pv9PBkkD2vnK92H9mQE+AcP/bAA0ADD8fvssAd4C0P6Y/Rf9j/uHACEGhAFV/Hj/2gFQ/7L8cvun/tYFWQaF/zb9xADgA74E1wB6+n/7xQGvAnEAvP8U/Yv7YADZBH4DMAB1/Dr5FvsjAAECSgHJAHz/f/7k/6wAaf8qAIkCngFH/4cAHwRhBlwFMQGs/sIAcQKqAMH+ef6k/zYBZgBz/rf+i/9y/2/+Efvl+Tj/6gKIADz/iP/6/gUCfwXEAlMAGwIiAZ3+ugBSBKoFGwXMAQn/QwE1AxYAhP0z/uz9pPyW++r5V/wNBJoFWf1e9/L4iPw3//z/Nv8FACABuwBZArsEmQMGAvwBrQBE/zb/FACGBOsJFQcr/fX3/vvdAX0Cm/8i/Xv71PyQAQYDFABV/rD8wvow/cb/TP6+/+EDxwKi/zL/yf4YAGEDQAHM+xH8Mv8TAH4CIAX3ASv90/wm/nH+yP3X+378VQEFA8T/lP6AAEkCUgLw/l78Qf/WAEL+7f5PAb8AlgGjArv/WP51/27+JP/mARQAw/2wAAMDbgHp/1IAaQJdA3IAVf4QAJcAwP+gASwD9QFLAZkAtf3l+3X9LQDRAREBT/4M/LL72v0xApkDRP9+/O/+cP9E/qwCtwZ5AnH9N/2C/scCawfFA/X9R/+EAI/+agDeAooBUwEOAXv9GfxC/on/OAA/AIT+5f0J/qj8S/02AOX/kf1i/ZP89vpk/jAESgNF/gT+JgDE/qH9XwArA5gDcgLr/6D+ZwF9BGgD7QH+A70DVv0u+rX/AQTZARsAPwAx/9L/6QHl/yn8e/1CAVYA6vsu+9b+TAGwAf0BFACq/Pn8WQBFAvkBp/8I/R3+/gDCAOb/8gHuA60DagIsAGT+XgAIBM8DXQDq/mIAPQJyA8oD1gJAARIAlf/U/9cAyQHFAC/+Uv4OAhsEhQIfAHj91fu1/Xb/bv0p/Br/dQKQAiQAcf4X/4D/Jf5p/Rz+FP+2/yr/9/6wAT8E6gItAKD+kv5lADQB0v71/ewAhQOqBLwEQwHL/ZMAeATUAQr9GfwF/T7+JAATAMv9mv0/AI0B9/5z+3f8KAHMAhEBYgBr/xX++AAJBW8EwwLXArgBMQH/AsACxwAyAe4BAAFfAFv/a/4XASAExQHY/Z79WP7u/fP+0wBdAFf+jf0H/lX+jf5C/7r/q/8nAKIAbf/8/Xz/SwPUBL0BXf5l/+UBRwJiA1gFoAM=\" type=\"audio/wav\" />\n",
       "                    Your browser does not support the audio element.\n",
       "                </audio>\n",
       "              "
      ],
      "text/plain": [
       "<IPython.lib.display.Audio object>"
      ]
     },
     "execution_count": 25,
     "metadata": {},
     "output_type": "execute_result"
    }
   ],
   "source": [
    "Audio(left_data, rate=sr)"
   ]
  },
  {
   "cell_type": "markdown",
   "metadata": {},
   "source": [
    "Look at, and listen to, a few more wavforms for the label \"left\".  What do they seem to have in common, if anything?  How do they differ?"
   ]
  },
  {
   "cell_type": "markdown",
   "metadata": {},
   "source": [
    "# your answer here\n",
    "* they are all the sounds \"left\" with different accents. However, the clearnesses of sounds are different among words. some of them have background noises that distract the sound of the word."
   ]
  },
  {
   "cell_type": "markdown",
   "metadata": {},
   "source": [
    "## MFCCs\n",
    "We can also visualize the Mel Frequency Cepstrum Coefficients (MFCCs) of a waveform.  (Recall this is the processed form of the audio data that most acoustic models actually take as input.)"
   ]
  },
  {
   "cell_type": "code",
   "execution_count": 26,
   "metadata": {},
   "outputs": [],
   "source": [
    "mfccs = librosa.feature.mfcc(left_data, sr=sr)"
   ]
  },
  {
   "cell_type": "code",
   "execution_count": 28,
   "metadata": {},
   "outputs": [
    {
     "data": {
      "text/plain": [
       "<matplotlib.collections.QuadMesh at 0x1b577150ba8>"
      ]
     },
     "execution_count": 28,
     "metadata": {},
     "output_type": "execute_result"
    },
    {
     "data": {
      "image/png": "[encoded data removed]",
      "text/plain": [
       "<Figure size 432x288 with 1 Axes>"
      ]
     },
     "metadata": {
      "needs_background": "light"
     },
     "output_type": "display_data"
    }
   ],
   "source": [
    "libdisplay.specshow(mfccs, sr=sr, x_axis='time', y_axis='mel')"
   ]
  },
  {
   "cell_type": "code",
   "execution_count": 29,
   "metadata": {},
   "outputs": [],
   "source": [
    "def mfccs_from_filename(filename):\n",
    "    x , sr = librosa.load(filename)\n",
    "    mfccs = librosa.feature.mfcc(x, sr=sr)\n",
    "    return mfccs\n",
    "\n",
    "def plot_mfccs(filename):\n",
    "    mfccs = mfccs_from_filename(filename)\n",
    "    libdisplay.specshow(mfccs, sr=sr, x_axis='time', y_axis='mel')"
   ]
  },
  {
   "cell_type": "markdown",
   "metadata": {},
   "source": [
    "## Setting up Evaluation Metrics"
   ]
  },
  {
   "cell_type": "markdown",
   "metadata": {},
   "source": [
    "We'll be evaluating the performance of several different models.  To that end, it will help to have all of our evaluation code in one place so we can easily compare."
   ]
  },
  {
   "cell_type": "code",
   "execution_count": 30,
   "metadata": {},
   "outputs": [],
   "source": [
    "#  Pull the dev labels out and name them for convenience\n",
    "dev_filenames = [os.path.join('C:/Users/shunl/data/'+ \"dev\", filename).replace(\"/\",\"\\\\\") for filename in df.filename[df.split==\"dev\"]]\n",
    "dev_labels = df.label[df.split==\"dev\"]"
   ]
  },
  {
   "cell_type": "code",
   "execution_count": 120,
   "metadata": {},
   "outputs": [
    {
     "data": {
      "text/plain": [
       "['C:\\\\Users\\\\shunl\\\\data\\\\dev\\\\00f0204f_nohash_0_bed.wav',\n",
       " 'C:\\\\Users\\\\shunl\\\\data\\\\dev\\\\012c8314_nohash_0_bed.wav',\n",
       " 'C:\\\\Users\\\\shunl\\\\data\\\\dev\\\\01b4757a_nohash_1_bed.wav',\n",
       " 'C:\\\\Users\\\\shunl\\\\data\\\\dev\\\\042186b8_nohash_0_bed.wav',\n",
       " 'C:\\\\Users\\\\shunl\\\\data\\\\dev\\\\07c5129e_nohash_0_bed.wav',\n",
       " 'C:\\\\Users\\\\shunl\\\\data\\\\dev\\\\0c2ca723_nohash_1_bed.wav',\n",
       " 'C:\\\\Users\\\\shunl\\\\data\\\\dev\\\\105e72bb_nohash_0_bed.wav',\n",
       " 'C:\\\\Users\\\\shunl\\\\data\\\\dev\\\\118261a9_nohash_1_bed.wav',\n",
       " 'C:\\\\Users\\\\shunl\\\\data\\\\dev\\\\1625acd8_nohash_0_bed.wav',\n",
       " 'C:\\\\Users\\\\shunl\\\\data\\\\dev\\\\16d41d07_nohash_0_bed.wav',\n",
       " 'C:\\\\Users\\\\shunl\\\\data\\\\dev\\\\1a9afd33_nohash_1_bed.wav',\n",
       " 'C:\\\\Users\\\\shunl\\\\data\\\\dev\\\\1aed7c6d_nohash_0_bed.wav',\n",
       " 'C:\\\\Users\\\\shunl\\\\data\\\\dev\\\\1b459024_nohash_0_bed.wav',\n",
       " 'C:\\\\Users\\\\shunl\\\\data\\\\dev\\\\1b755c65_nohash_1_bed.wav',\n",
       " 'C:\\\\Users\\\\shunl\\\\data\\\\dev\\\\1c3f50ad_nohash_0_bed.wav',\n",
       " 'C:\\\\Users\\\\shunl\\\\data\\\\dev\\\\1cbcc7a7_nohash_0_bed.wav',\n",
       " 'C:\\\\Users\\\\shunl\\\\data\\\\dev\\\\1df99a8a_nohash_1_bed.wav',\n",
       " 'C:\\\\Users\\\\shunl\\\\data\\\\dev\\\\1e412fac_nohash_0_bed.wav',\n",
       " 'C:\\\\Users\\\\shunl\\\\data\\\\dev\\\\215699ff_nohash_1_bed.wav',\n",
       " 'C:\\\\Users\\\\shunl\\\\data\\\\dev\\\\2313e093_nohash_0_bed.wav',\n",
       " 'C:\\\\Users\\\\shunl\\\\data\\\\dev\\\\270bfa52_nohash_0_bed.wav',\n",
       " 'C:\\\\Users\\\\shunl\\\\data\\\\dev\\\\283d7a53_nohash_0_bed.wav',\n",
       " 'C:\\\\Users\\\\shunl\\\\data\\\\dev\\\\29fb33da_nohash_0_bed.wav',\n",
       " 'C:\\\\Users\\\\shunl\\\\data\\\\dev\\\\2bd2cad5_nohash_0_bed.wav',\n",
       " 'C:\\\\Users\\\\shunl\\\\data\\\\dev\\\\2be08ce4_nohash_1_bed.wav',\n",
       " 'C:\\\\Users\\\\shunl\\\\data\\\\dev\\\\2c6446f7_nohash_0_bed.wav',\n",
       " 'C:\\\\Users\\\\shunl\\\\data\\\\dev\\\\2d82a556_nohash_0_bed.wav',\n",
       " 'C:\\\\Users\\\\shunl\\\\data\\\\dev\\\\3209ec42_nohash_1_bed.wav',\n",
       " 'C:\\\\Users\\\\shunl\\\\data\\\\dev\\\\324210dd_nohash_0_bed.wav',\n",
       " 'C:\\\\Users\\\\shunl\\\\data\\\\dev\\\\32efce64_nohash_2_bed.wav',\n",
       " 'C:\\\\Users\\\\shunl\\\\data\\\\dev\\\\34ba417a_nohash_2_bed.wav',\n",
       " 'C:\\\\Users\\\\shunl\\\\data\\\\dev\\\\37b03ab1_nohash_0_bed.wav',\n",
       " 'C:\\\\Users\\\\shunl\\\\data\\\\dev\\\\37e8db82_nohash_0_bed.wav',\n",
       " 'C:\\\\Users\\\\shunl\\\\data\\\\dev\\\\39ec87ac_nohash_0_bed.wav',\n",
       " 'C:\\\\Users\\\\shunl\\\\data\\\\dev\\\\3df9a3d4_nohash_0_bed.wav',\n",
       " 'C:\\\\Users\\\\shunl\\\\data\\\\dev\\\\3f339c33_nohash_0_bed.wav',\n",
       " 'C:\\\\Users\\\\shunl\\\\data\\\\dev\\\\409c962a_nohash_1_bed.wav',\n",
       " 'C:\\\\Users\\\\shunl\\\\data\\\\dev\\\\413bcfe1_nohash_0_bed.wav',\n",
       " 'C:\\\\Users\\\\shunl\\\\data\\\\dev\\\\460f2bad_nohash_0_bed.wav',\n",
       " 'C:\\\\Users\\\\shunl\\\\data\\\\dev\\\\46114b4e_nohash_0_bed.wav',\n",
       " 'C:\\\\Users\\\\shunl\\\\data\\\\dev\\\\4a294341_nohash_0_bed.wav',\n",
       " 'C:\\\\Users\\\\shunl\\\\data\\\\dev\\\\4a803e67_nohash_0_bed.wav',\n",
       " 'C:\\\\Users\\\\shunl\\\\data\\\\dev\\\\4b25f620_nohash_1_bed.wav',\n",
       " 'C:\\\\Users\\\\shunl\\\\data\\\\dev\\\\4bb1244f_nohash_1_bed.wav',\n",
       " 'C:\\\\Users\\\\shunl\\\\data\\\\dev\\\\53fd1780_nohash_0_bed.wav',\n",
       " 'C:\\\\Users\\\\shunl\\\\data\\\\dev\\\\54d9ccb5_nohash_0_bed.wav',\n",
       " 'C:\\\\Users\\\\shunl\\\\data\\\\dev\\\\57b68383_nohash_0_bed.wav',\n",
       " 'C:\\\\Users\\\\shunl\\\\data\\\\dev\\\\57cb3575_nohash_0_bed.wav',\n",
       " 'C:\\\\Users\\\\shunl\\\\data\\\\dev\\\\5af0ca83_nohash_0_bed.wav',\n",
       " 'C:\\\\Users\\\\shunl\\\\data\\\\dev\\\\5b1db3ee_nohash_4_bed.wav',\n",
       " 'C:\\\\Users\\\\shunl\\\\data\\\\dev\\\\5ba724a7_nohash_1_bed.wav',\n",
       " 'C:\\\\Users\\\\shunl\\\\data\\\\dev\\\\5d9bb361_nohash_1_bed.wav',\n",
       " 'C:\\\\Users\\\\shunl\\\\data\\\\dev\\\\5f8e50a0_nohash_0_bed.wav',\n",
       " 'C:\\\\Users\\\\shunl\\\\data\\\\dev\\\\605ed0ff_nohash_1_bed.wav',\n",
       " 'C:\\\\Users\\\\shunl\\\\data\\\\dev\\\\611d2b50_nohash_0_bed.wav',\n",
       " 'C:\\\\Users\\\\shunl\\\\data\\\\dev\\\\6366f61a_nohash_0_bed.wav',\n",
       " 'C:\\\\Users\\\\shunl\\\\data\\\\dev\\\\6414258b_nohash_0_bed.wav',\n",
       " 'C:\\\\Users\\\\shunl\\\\data\\\\dev\\\\6727b579_nohash_0_bed.wav',\n",
       " 'C:\\\\Users\\\\shunl\\\\data\\\\dev\\\\682e1687_nohash_1_bed.wav',\n",
       " 'C:\\\\Users\\\\shunl\\\\data\\\\dev\\\\6b81fead_nohash_0_bed.wav',\n",
       " 'C:\\\\Users\\\\shunl\\\\data\\\\dev\\\\6c0f6493_nohash_0_bed.wav',\n",
       " 'C:\\\\Users\\\\shunl\\\\data\\\\dev\\\\6f7724f5_nohash_0_bed.wav',\n",
       " 'C:\\\\Users\\\\shunl\\\\data\\\\dev\\\\726382d6_nohash_0_bed.wav',\n",
       " 'C:\\\\Users\\\\shunl\\\\data\\\\dev\\\\750e3e75_nohash_0_bed.wav',\n",
       " 'C:\\\\Users\\\\shunl\\\\data\\\\dev\\\\772db621_nohash_1_bed.wav',\n",
       " 'C:\\\\Users\\\\shunl\\\\data\\\\dev\\\\77f185d3_nohash_1_bed.wav',\n",
       " 'C:\\\\Users\\\\shunl\\\\data\\\\dev\\\\7cf14c54_nohash_0_bed.wav',\n",
       " 'C:\\\\Users\\\\shunl\\\\data\\\\dev\\\\7d5f87c8_nohash_0_bed.wav',\n",
       " 'C:\\\\Users\\\\shunl\\\\data\\\\dev\\\\7dc95912_nohash_0_bed.wav',\n",
       " 'C:\\\\Users\\\\shunl\\\\data\\\\dev\\\\7e783e3f_nohash_0_bed.wav',\n",
       " 'C:\\\\Users\\\\shunl\\\\data\\\\dev\\\\7fd25f7c_nohash_0_bed.wav',\n",
       " 'C:\\\\Users\\\\shunl\\\\data\\\\dev\\\\810c99be_nohash_0_bed.wav',\n",
       " 'C:\\\\Users\\\\shunl\\\\data\\\\dev\\\\81dc4a94_nohash_0_bed.wav',\n",
       " 'C:\\\\Users\\\\shunl\\\\data\\\\dev\\\\8523766b_nohash_1_bed.wav',\n",
       " 'C:\\\\Users\\\\shunl\\\\data\\\\dev\\\\8781f4c1_nohash_0_bed.wav',\n",
       " 'C:\\\\Users\\\\shunl\\\\data\\\\dev\\\\884ae8e1_nohash_0_bed.wav',\n",
       " 'C:\\\\Users\\\\shunl\\\\data\\\\dev\\\\89d6d11e_nohash_0_bed.wav',\n",
       " 'C:\\\\Users\\\\shunl\\\\data\\\\dev\\\\8a0457c9_nohash_1_bed.wav',\n",
       " 'C:\\\\Users\\\\shunl\\\\data\\\\dev\\\\8a28231e_nohash_1_bed.wav',\n",
       " 'C:\\\\Users\\\\shunl\\\\data\\\\dev\\\\8c3c4715_nohash_0_bed.wav',\n",
       " 'C:\\\\Users\\\\shunl\\\\data\\\\dev\\\\8c4854bc_nohash_1_bed.wav',\n",
       " 'C:\\\\Users\\\\shunl\\\\data\\\\dev\\\\8d8d9855_nohash_2_bed.wav',\n",
       " 'C:\\\\Users\\\\shunl\\\\data\\\\dev\\\\8ec6dab6_nohash_0_bed.wav',\n",
       " 'C:\\\\Users\\\\shunl\\\\data\\\\dev\\\\902258bb_nohash_0_bed.wav',\n",
       " 'C:\\\\Users\\\\shunl\\\\data\\\\dev\\\\92037d73_nohash_0_bed.wav',\n",
       " 'C:\\\\Users\\\\shunl\\\\data\\\\dev\\\\95299b6c_nohash_0_bed.wav',\n",
       " 'C:\\\\Users\\\\shunl\\\\data\\\\dev\\\\96ab6565_nohash_0_bed.wav',\n",
       " 'C:\\\\Users\\\\shunl\\\\data\\\\dev\\\\9799379a_nohash_0_bed.wav',\n",
       " 'C:\\\\Users\\\\shunl\\\\data\\\\dev\\\\97f493b9_nohash_0_bed.wav',\n",
       " 'C:\\\\Users\\\\shunl\\\\data\\\\dev\\\\989a2213_nohash_0_bed.wav',\n",
       " 'C:\\\\Users\\\\shunl\\\\data\\\\dev\\\\989a2213_nohash_1_bed.wav',\n",
       " 'C:\\\\Users\\\\shunl\\\\data\\\\dev\\\\9ab86dd0_nohash_0_bed.wav',\n",
       " 'C:\\\\Users\\\\shunl\\\\data\\\\dev\\\\9b3ea809_nohash_0_bed.wav',\n",
       " 'C:\\\\Users\\\\shunl\\\\data\\\\dev\\\\9b5815cd_nohash_0_bed.wav',\n",
       " 'C:\\\\Users\\\\shunl\\\\data\\\\dev\\\\9f63152b_nohash_0_bed.wav',\n",
       " 'C:\\\\Users\\\\shunl\\\\data\\\\dev\\\\a2473d62_nohash_0_bed.wav',\n",
       " 'C:\\\\Users\\\\shunl\\\\data\\\\dev\\\\a2fefcb4_nohash_0_bed.wav',\n",
       " 'C:\\\\Users\\\\shunl\\\\data\\\\dev\\\\a331d9cb_nohash_1_bed.wav',\n",
       " 'C:\\\\Users\\\\shunl\\\\data\\\\dev\\\\a331d9cb_nohash_3_bed.wav',\n",
       " 'C:\\\\Users\\\\shunl\\\\data\\\\dev\\\\a527cb3c_nohash_0_bed.wav',\n",
       " 'C:\\\\Users\\\\shunl\\\\data\\\\dev\\\\a996cf66_nohash_1_bed.wav',\n",
       " 'C:\\\\Users\\\\shunl\\\\data\\\\dev\\\\a9f38bae_nohash_0_bed.wav',\n",
       " 'C:\\\\Users\\\\shunl\\\\data\\\\dev\\\\aba19127_nohash_0_bed.wav',\n",
       " 'C:\\\\Users\\\\shunl\\\\data\\\\dev\\\\ac7840d8_nohash_0_bed.wav',\n",
       " 'C:\\\\Users\\\\shunl\\\\data\\\\dev\\\\b0bad4a9_nohash_0_bed.wav',\n",
       " 'C:\\\\Users\\\\shunl\\\\data\\\\dev\\\\b1f8326d_nohash_1_bed.wav',\n",
       " 'C:\\\\Users\\\\shunl\\\\data\\\\dev\\\\b43c8f2f_nohash_1_bed.wav',\n",
       " 'C:\\\\Users\\\\shunl\\\\data\\\\dev\\\\b46e8153_nohash_0_bed.wav',\n",
       " 'C:\\\\Users\\\\shunl\\\\data\\\\dev\\\\b6091c84_nohash_1_bed.wav',\n",
       " 'C:\\\\Users\\\\shunl\\\\data\\\\dev\\\\b8897f1c_nohash_1_bed.wav',\n",
       " 'C:\\\\Users\\\\shunl\\\\data\\\\dev\\\\bbaa7946_nohash_0_bed.wav',\n",
       " 'C:\\\\Users\\\\shunl\\\\data\\\\dev\\\\bc065a17_nohash_2_bed.wav',\n",
       " 'C:\\\\Users\\\\shunl\\\\data\\\\dev\\\\be7fa0a3_nohash_0_bed.wav',\n",
       " 'C:\\\\Users\\\\shunl\\\\data\\\\dev\\\\bfa63751_nohash_0_bed.wav',\n",
       " 'C:\\\\Users\\\\shunl\\\\data\\\\dev\\\\c08585c1_nohash_0_bed.wav',\n",
       " 'C:\\\\Users\\\\shunl\\\\data\\\\dev\\\\c099668c_nohash_2_bed.wav',\n",
       " 'C:\\\\Users\\\\shunl\\\\data\\\\dev\\\\c099668c_nohash_3_bed.wav',\n",
       " 'C:\\\\Users\\\\shunl\\\\data\\\\dev\\\\c0e0f834_nohash_2_bed.wav',\n",
       " 'C:\\\\Users\\\\shunl\\\\data\\\\dev\\\\c1d39ce8_nohash_0_bed.wav',\n",
       " 'C:\\\\Users\\\\shunl\\\\data\\\\dev\\\\c4cfbe43_nohash_0_bed.wav',\n",
       " 'C:\\\\Users\\\\shunl\\\\data\\\\dev\\\\c6ca5d01_nohash_0_bed.wav',\n",
       " 'C:\\\\Users\\\\shunl\\\\data\\\\dev\\\\c79159aa_nohash_0_bed.wav',\n",
       " 'C:\\\\Users\\\\shunl\\\\data\\\\dev\\\\c885a039_nohash_0_bed.wav',\n",
       " 'C:\\\\Users\\\\shunl\\\\data\\\\dev\\\\c885a039_nohash_1_bed.wav',\n",
       " 'C:\\\\Users\\\\shunl\\\\data\\\\dev\\\\cab100c9_nohash_0_bed.wav',\n",
       " 'C:\\\\Users\\\\shunl\\\\data\\\\dev\\\\cb2929ce_nohash_0_bed.wav',\n",
       " 'C:\\\\Users\\\\shunl\\\\data\\\\dev\\\\cc3d1613_nohash_0_bed.wav',\n",
       " 'C:\\\\Users\\\\shunl\\\\data\\\\dev\\\\cce17a61_nohash_2_bed.wav',\n",
       " 'C:\\\\Users\\\\shunl\\\\data\\\\dev\\\\cd8b1781_nohash_0_bed.wav',\n",
       " 'C:\\\\Users\\\\shunl\\\\data\\\\dev\\\\ce49cb60_nohash_2_bed.wav',\n",
       " 'C:\\\\Users\\\\shunl\\\\data\\\\dev\\\\cf68fad2_nohash_1_bed.wav',\n",
       " 'C:\\\\Users\\\\shunl\\\\data\\\\dev\\\\cfde27ba_nohash_1_bed.wav',\n",
       " 'C:\\\\Users\\\\shunl\\\\data\\\\dev\\\\d197e3ae_nohash_0_bed.wav',\n",
       " 'C:\\\\Users\\\\shunl\\\\data\\\\dev\\\\d37e4bf1_nohash_0_bed.wav',\n",
       " 'C:\\\\Users\\\\shunl\\\\data\\\\dev\\\\d7529c0c_nohash_0_bed.wav',\n",
       " 'C:\\\\Users\\\\shunl\\\\data\\\\dev\\\\d9b50b8b_nohash_0_bed.wav',\n",
       " 'C:\\\\Users\\\\shunl\\\\data\\\\dev\\\\da584bc0_nohash_0_bed.wav',\n",
       " 'C:\\\\Users\\\\shunl\\\\data\\\\dev\\\\da76aa58_nohash_1_bed.wav',\n",
       " 'C:\\\\Users\\\\shunl\\\\data\\\\dev\\\\e0315cf6_nohash_0_bed.wav',\n",
       " 'C:\\\\Users\\\\shunl\\\\data\\\\dev\\\\e5e54cee_nohash_0_bed.wav',\n",
       " 'C:\\\\Users\\\\shunl\\\\data\\\\dev\\\\e6e29c47_nohash_0_bed.wav',\n",
       " 'C:\\\\Users\\\\shunl\\\\data\\\\dev\\\\e9b61425_nohash_3_bed.wav',\n",
       " 'C:\\\\Users\\\\shunl\\\\data\\\\dev\\\\ead2934a_nohash_1_bed.wav',\n",
       " 'C:\\\\Users\\\\shunl\\\\data\\\\dev\\\\eb67fcbc_nohash_1_bed.wav',\n",
       " 'C:\\\\Users\\\\shunl\\\\data\\\\dev\\\\ece1a95a_nohash_0_bed.wav',\n",
       " 'C:\\\\Users\\\\shunl\\\\data\\\\dev\\\\edd8bfe3_nohash_0_bed.wav',\n",
       " 'C:\\\\Users\\\\shunl\\\\data\\\\dev\\\\ee07dcb9_nohash_2_bed.wav',\n",
       " 'C:\\\\Users\\\\shunl\\\\data\\\\dev\\\\ef2a3cfb_nohash_0_bed.wav',\n",
       " 'C:\\\\Users\\\\shunl\\\\data\\\\dev\\\\f104f742_nohash_2_bed.wav',\n",
       " 'C:\\\\Users\\\\shunl\\\\data\\\\dev\\\\f4504600_nohash_0_bed.wav',\n",
       " 'C:\\\\Users\\\\shunl\\\\data\\\\dev\\\\f5d09ebd_nohash_0_bed.wav',\n",
       " 'C:\\\\Users\\\\shunl\\\\data\\\\dev\\\\f953e1af_nohash_0_bed.wav',\n",
       " 'C:\\\\Users\\\\shunl\\\\data\\\\dev\\\\fc94edb0_nohash_1_bed.wav',\n",
       " 'C:\\\\Users\\\\shunl\\\\data\\\\dev\\\\ffbb695d_nohash_0_bed.wav',\n",
       " 'C:\\\\Users\\\\shunl\\\\data\\\\dev\\\\02e85b60_nohash_0_bird.wav',\n",
       " 'C:\\\\Users\\\\shunl\\\\data\\\\dev\\\\06076b6b_nohash_0_bird.wav',\n",
       " 'C:\\\\Users\\\\shunl\\\\data\\\\dev\\\\07ad9b59_nohash_0_bird.wav',\n",
       " 'C:\\\\Users\\\\shunl\\\\data\\\\dev\\\\0a9f9af7_nohash_2_bird.wav',\n",
       " 'C:\\\\Users\\\\shunl\\\\data\\\\dev\\\\12529547_nohash_0_bird.wav',\n",
       " 'C:\\\\Users\\\\shunl\\\\data\\\\dev\\\\129c7d8d_nohash_0_bird.wav',\n",
       " 'C:\\\\Users\\\\shunl\\\\data\\\\dev\\\\130d9a87_nohash_3_bird.wav',\n",
       " 'C:\\\\Users\\\\shunl\\\\data\\\\dev\\\\1365dd89_nohash_0_bird.wav',\n",
       " 'C:\\\\Users\\\\shunl\\\\data\\\\dev\\\\13d7b8c9_nohash_0_bird.wav',\n",
       " 'C:\\\\Users\\\\shunl\\\\data\\\\dev\\\\1625acd8_nohash_0_bird.wav',\n",
       " 'C:\\\\Users\\\\shunl\\\\data\\\\dev\\\\1a5b9ca4_nohash_0_bird.wav',\n",
       " 'C:\\\\Users\\\\shunl\\\\data\\\\dev\\\\1bb574f9_nohash_0_bird.wav',\n",
       " 'C:\\\\Users\\\\shunl\\\\data\\\\dev\\\\1c3f4fac_nohash_0_bird.wav',\n",
       " 'C:\\\\Users\\\\shunl\\\\data\\\\dev\\\\1c45ceb2_nohash_2_bird.wav',\n",
       " 'C:\\\\Users\\\\shunl\\\\data\\\\dev\\\\1cc80e39_nohash_1_bird.wav',\n",
       " 'C:\\\\Users\\\\shunl\\\\data\\\\dev\\\\1d919a90_nohash_0_bird.wav',\n",
       " 'C:\\\\Users\\\\shunl\\\\data\\\\dev\\\\1e9b215e_nohash_0_bird.wav',\n",
       " 'C:\\\\Users\\\\shunl\\\\data\\\\dev\\\\1eddce1d_nohash_0_bird.wav',\n",
       " 'C:\\\\Users\\\\shunl\\\\data\\\\dev\\\\2cf28b70_nohash_1_bird.wav',\n",
       " 'C:\\\\Users\\\\shunl\\\\data\\\\dev\\\\2f813234_nohash_1_bird.wav',\n",
       " 'C:\\\\Users\\\\shunl\\\\data\\\\dev\\\\30f31e42_nohash_0_bird.wav',\n",
       " 'C:\\\\Users\\\\shunl\\\\data\\\\dev\\\\329eab8a_nohash_0_bird.wav',\n",
       " 'C:\\\\Users\\\\shunl\\\\data\\\\dev\\\\32a19ecf_nohash_0_bird.wav',\n",
       " 'C:\\\\Users\\\\shunl\\\\data\\\\dev\\\\3389305e_nohash_1_bird.wav',\n",
       " 'C:\\\\Users\\\\shunl\\\\data\\\\dev\\\\34881b10_nohash_0_bird.wav',\n",
       " 'C:\\\\Users\\\\shunl\\\\data\\\\dev\\\\39ec87ac_nohash_0_bird.wav',\n",
       " 'C:\\\\Users\\\\shunl\\\\data\\\\dev\\\\3b8406c0_nohash_0_bird.wav',\n",
       " 'C:\\\\Users\\\\shunl\\\\data\\\\dev\\\\3b8406c0_nohash_1_bird.wav',\n",
       " 'C:\\\\Users\\\\shunl\\\\data\\\\dev\\\\3b853f44_nohash_0_bird.wav',\n",
       " 'C:\\\\Users\\\\shunl\\\\data\\\\dev\\\\3efa7ec4_nohash_0_bird.wav',\n",
       " 'C:\\\\Users\\\\shunl\\\\data\\\\dev\\\\3ff840aa_nohash_1_bird.wav',\n",
       " 'C:\\\\Users\\\\shunl\\\\data\\\\dev\\\\408de0a4_nohash_0_bird.wav',\n",
       " 'C:\\\\Users\\\\shunl\\\\data\\\\dev\\\\409c962a_nohash_0_bird.wav',\n",
       " 'C:\\\\Users\\\\shunl\\\\data\\\\dev\\\\4254621e_nohash_0_bird.wav',\n",
       " 'C:\\\\Users\\\\shunl\\\\data\\\\dev\\\\42c6fff1_nohash_0_bird.wav',\n",
       " 'C:\\\\Users\\\\shunl\\\\data\\\\dev\\\\43691f67_nohash_1_bird.wav',\n",
       " 'C:\\\\Users\\\\shunl\\\\data\\\\dev\\\\4845bb10_nohash_0_bird.wav',\n",
       " 'C:\\\\Users\\\\shunl\\\\data\\\\dev\\\\4a1e736b_nohash_0_bird.wav',\n",
       " 'C:\\\\Users\\\\shunl\\\\data\\\\dev\\\\4a294341_nohash_0_bird.wav',\n",
       " 'C:\\\\Users\\\\shunl\\\\data\\\\dev\\\\4f086393_nohash_0_bird.wav',\n",
       " 'C:\\\\Users\\\\shunl\\\\data\\\\dev\\\\4f781a59_nohash_0_bird.wav',\n",
       " 'C:\\\\Users\\\\shunl\\\\data\\\\dev\\\\4f781a59_nohash_2_bird.wav',\n",
       " 'C:\\\\Users\\\\shunl\\\\data\\\\dev\\\\50d1c8e3_nohash_1_bird.wav',\n",
       " 'C:\\\\Users\\\\shunl\\\\data\\\\dev\\\\50d1c8e3_nohash_2_bird.wav',\n",
       " 'C:\\\\Users\\\\shunl\\\\data\\\\dev\\\\528f9242_nohash_1_bird.wav',\n",
       " 'C:\\\\Users\\\\shunl\\\\data\\\\dev\\\\52e228e9_nohash_0_bird.wav',\n",
       " 'C:\\\\Users\\\\shunl\\\\data\\\\dev\\\\533c6564_nohash_0_bird.wav',\n",
       " 'C:\\\\Users\\\\shunl\\\\data\\\\dev\\\\569455ff_nohash_1_bird.wav',\n",
       " 'C:\\\\Users\\\\shunl\\\\data\\\\dev\\\\5828dfa2_nohash_0_bird.wav',\n",
       " 'C:\\\\Users\\\\shunl\\\\data\\\\dev\\\\6094340e_nohash_0_bird.wav',\n",
       " 'C:\\\\Users\\\\shunl\\\\data\\\\dev\\\\617de221_nohash_0_bird.wav',\n",
       " 'C:\\\\Users\\\\shunl\\\\data\\\\dev\\\\61d3e51e_nohash_0_bird.wav',\n",
       " 'C:\\\\Users\\\\shunl\\\\data\\\\dev\\\\62ff07ef_nohash_0_bird.wav',\n",
       " 'C:\\\\Users\\\\shunl\\\\data\\\\dev\\\\656e8bb3_nohash_2_bird.wav',\n",
       " 'C:\\\\Users\\\\shunl\\\\data\\\\dev\\\\65c73b55_nohash_0_bird.wav',\n",
       " 'C:\\\\Users\\\\shunl\\\\data\\\\dev\\\\65d81c54_nohash_0_bird.wav',\n",
       " 'C:\\\\Users\\\\shunl\\\\data\\\\dev\\\\65ec06e5_nohash_0_bird.wav',\n",
       " 'C:\\\\Users\\\\shunl\\\\data\\\\dev\\\\65f2531f_nohash_0_bird.wav',\n",
       " 'C:\\\\Users\\\\shunl\\\\data\\\\dev\\\\6a27a9bf_nohash_0_bird.wav',\n",
       " 'C:\\\\Users\\\\shunl\\\\data\\\\dev\\\\6a700f9d_nohash_1_bird.wav',\n",
       " 'C:\\\\Users\\\\shunl\\\\data\\\\dev\\\\6f5eea74_nohash_0_bird.wav',\n",
       " 'C:\\\\Users\\\\shunl\\\\data\\\\dev\\\\712e4d58_nohash_0_bird.wav',\n",
       " 'C:\\\\Users\\\\shunl\\\\data\\\\dev\\\\75915c90_nohash_0_bird.wav',\n",
       " 'C:\\\\Users\\\\shunl\\\\data\\\\dev\\\\765ffccb_nohash_1_bird.wav',\n",
       " 'C:\\\\Users\\\\shunl\\\\data\\\\dev\\\\772db621_nohash_0_bird.wav',\n",
       " 'C:\\\\Users\\\\shunl\\\\data\\\\dev\\\\7ca023e2_nohash_0_bird.wav',\n",
       " 'C:\\\\Users\\\\shunl\\\\data\\\\dev\\\\7cfb1618_nohash_1_bird.wav',\n",
       " 'C:\\\\Users\\\\shunl\\\\data\\\\dev\\\\7d5f87c8_nohash_0_bird.wav',\n",
       " 'C:\\\\Users\\\\shunl\\\\data\\\\dev\\\\834f03fe_nohash_0_bird.wav',\n",
       " 'C:\\\\Users\\\\shunl\\\\data\\\\dev\\\\83957201_nohash_0_bird.wav',\n",
       " 'C:\\\\Users\\\\shunl\\\\data\\\\dev\\\\84999496_nohash_0_bird.wav',\n",
       " 'C:\\\\Users\\\\shunl\\\\data\\\\dev\\\\8830e17f_nohash_0_bird.wav',\n",
       " 'C:\\\\Users\\\\shunl\\\\data\\\\dev\\\\88f8a99c_nohash_0_bird.wav',\n",
       " 'C:\\\\Users\\\\shunl\\\\data\\\\dev\\\\8a28231e_nohash_1_bird.wav',\n",
       " 'C:\\\\Users\\\\shunl\\\\data\\\\dev\\\\8a325749_nohash_0_bird.wav',\n",
       " 'C:\\\\Users\\\\shunl\\\\data\\\\dev\\\\8d8d9855_nohash_0_bird.wav',\n",
       " 'C:\\\\Users\\\\shunl\\\\data\\\\dev\\\\8f3f252c_nohash_0_bird.wav',\n",
       " 'C:\\\\Users\\\\shunl\\\\data\\\\dev\\\\92b2bf59_nohash_1_bird.wav',\n",
       " 'C:\\\\Users\\\\shunl\\\\data\\\\dev\\\\937b433e_nohash_2_bird.wav',\n",
       " 'C:\\\\Users\\\\shunl\\\\data\\\\dev\\\\9637f43f_nohash_0_bird.wav',\n",
       " 'C:\\\\Users\\\\shunl\\\\data\\\\dev\\\\97f493b9_nohash_0_bird.wav',\n",
       " 'C:\\\\Users\\\\shunl\\\\data\\\\dev\\\\9acd0254_nohash_0_bird.wav',\n",
       " 'C:\\\\Users\\\\shunl\\\\data\\\\dev\\\\9d8ac38b_nohash_0_bird.wav',\n",
       " 'C:\\\\Users\\\\shunl\\\\data\\\\dev\\\\9dc1889e_nohash_0_bird.wav',\n",
       " 'C:\\\\Users\\\\shunl\\\\data\\\\dev\\\\9e2ce5e3_nohash_2_bird.wav',\n",
       " 'C:\\\\Users\\\\shunl\\\\data\\\\dev\\\\9f869f70_nohash_0_bird.wav',\n",
       " 'C:\\\\Users\\\\shunl\\\\data\\\\dev\\\\a24cf51c_nohash_1_bird.wav',\n",
       " 'C:\\\\Users\\\\shunl\\\\data\\\\dev\\\\a40c62f1_nohash_0_bird.wav',\n",
       " 'C:\\\\Users\\\\shunl\\\\data\\\\dev\\\\a42a88ff_nohash_0_bird.wav',\n",
       " 'C:\\\\Users\\\\shunl\\\\data\\\\dev\\\\a518d1cf_nohash_0_bird.wav',\n",
       " 'C:\\\\Users\\\\shunl\\\\data\\\\dev\\\\a8e25ebb_nohash_0_bird.wav',\n",
       " 'C:\\\\Users\\\\shunl\\\\data\\\\dev\\\\aac5b7c1_nohash_1_bird.wav',\n",
       " 'C:\\\\Users\\\\shunl\\\\data\\\\dev\\\\ab76ac76_nohash_0_bird.wav',\n",
       " 'C:\\\\Users\\\\shunl\\\\data\\\\dev\\\\acfd3bc3_nohash_1_bird.wav',\n",
       " 'C:\\\\Users\\\\shunl\\\\data\\\\dev\\\\ad340ed7_nohash_1_bird.wav',\n",
       " 'C:\\\\Users\\\\shunl\\\\data\\\\dev\\\\ad9de4dd_nohash_0_bird.wav',\n",
       " 'C:\\\\Users\\\\shunl\\\\data\\\\dev\\\\b06c19b0_nohash_0_bird.wav',\n",
       " 'C:\\\\Users\\\\shunl\\\\data\\\\dev\\\\b1114e4f_nohash_0_bird.wav',\n",
       " 'C:\\\\Users\\\\shunl\\\\data\\\\dev\\\\b544d4fd_nohash_0_bird.wav',\n",
       " 'C:\\\\Users\\\\shunl\\\\data\\\\dev\\\\b59fe16d_nohash_0_bird.wav',\n",
       " 'C:\\\\Users\\\\shunl\\\\data\\\\dev\\\\b6091c84_nohash_0_bird.wav',\n",
       " 'C:\\\\Users\\\\shunl\\\\data\\\\dev\\\\b65f6015_nohash_0_bird.wav',\n",
       " 'C:\\\\Users\\\\shunl\\\\data\\\\dev\\\\b7016c27_nohash_0_bird.wav',\n",
       " 'C:\\\\Users\\\\shunl\\\\data\\\\dev\\\\b84f83d2_nohash_0_bird.wav',\n",
       " 'C:\\\\Users\\\\shunl\\\\data\\\\dev\\\\b93528e3_nohash_0_bird.wav',\n",
       " 'C:\\\\Users\\\\shunl\\\\data\\\\dev\\\\b959cd0c_nohash_0_bird.wav',\n",
       " 'C:\\\\Users\\\\shunl\\\\data\\\\dev\\\\b9db6e42_nohash_1_bird.wav',\n",
       " 'C:\\\\Users\\\\shunl\\\\data\\\\dev\\\\ba59cab3_nohash_1_bird.wav',\n",
       " 'C:\\\\Users\\\\shunl\\\\data\\\\dev\\\\bab36420_nohash_0_bird.wav',\n",
       " 'C:\\\\Users\\\\shunl\\\\data\\\\dev\\\\baf01c1f_nohash_0_bird.wav',\n",
       " 'C:\\\\Users\\\\shunl\\\\data\\\\dev\\\\c08585c1_nohash_0_bird.wav',\n",
       " 'C:\\\\Users\\\\shunl\\\\data\\\\dev\\\\c103a2d5_nohash_0_bird.wav',\n",
       " 'C:\\\\Users\\\\shunl\\\\data\\\\dev\\\\c1eebc0b_nohash_0_bird.wav',\n",
       " 'C:\\\\Users\\\\shunl\\\\data\\\\dev\\\\c2bc4489_nohash_0_bird.wav',\n",
       " 'C:\\\\Users\\\\shunl\\\\data\\\\dev\\\\c3538de1_nohash_0_bird.wav',\n",
       " 'C:\\\\Users\\\\shunl\\\\data\\\\dev\\\\c4cfbe43_nohash_0_bird.wav',\n",
       " 'C:\\\\Users\\\\shunl\\\\data\\\\dev\\\\c5e3817f_nohash_0_bird.wav',\n",
       " 'C:\\\\Users\\\\shunl\\\\data\\\\dev\\\\c727b558_nohash_0_bird.wav',\n",
       " 'C:\\\\Users\\\\shunl\\\\data\\\\dev\\\\c727b558_nohash_1_bird.wav',\n",
       " 'C:\\\\Users\\\\shunl\\\\data\\\\dev\\\\c7aaad67_nohash_0_bird.wav',\n",
       " 'C:\\\\Users\\\\shunl\\\\data\\\\dev\\\\c885a039_nohash_0_bird.wav',\n",
       " 'C:\\\\Users\\\\shunl\\\\data\\\\dev\\\\c90c0105_nohash_1_bird.wav',\n",
       " 'C:\\\\Users\\\\shunl\\\\data\\\\dev\\\\caf9fceb_nohash_0_bird.wav',\n",
       " 'C:\\\\Users\\\\shunl\\\\data\\\\dev\\\\cb802c63_nohash_2_bird.wav',\n",
       " 'C:\\\\Users\\\\shunl\\\\data\\\\dev\\\\cc6ee39b_nohash_0_bird.wav',\n",
       " 'C:\\\\Users\\\\shunl\\\\data\\\\dev\\\\cc71bada_nohash_0_bird.wav',\n",
       " 'C:\\\\Users\\\\shunl\\\\data\\\\dev\\\\ccb1266b_nohash_1_bird.wav',\n",
       " 'C:\\\\Users\\\\shunl\\\\data\\\\dev\\\\ccea893d_nohash_0_bird.wav',\n",
       " 'C:\\\\Users\\\\shunl\\\\data\\\\dev\\\\ceaadb24_nohash_1_bird.wav',\n",
       " 'C:\\\\Users\\\\shunl\\\\data\\\\dev\\\\d0faf7e4_nohash_0_bird.wav',\n",
       " 'C:\\\\Users\\\\shunl\\\\data\\\\dev\\\\d31d8dd7_nohash_0_bird.wav',\n",
       " 'C:\\\\Users\\\\shunl\\\\data\\\\dev\\\\d4082f3e_nohash_0_bird.wav',\n",
       " 'C:\\\\Users\\\\shunl\\\\data\\\\dev\\\\d7a58714_nohash_2_bird.wav',\n",
       " 'C:\\\\Users\\\\shunl\\\\data\\\\dev\\\\d8521ea0_nohash_1_bird.wav',\n",
       " 'C:\\\\Users\\\\shunl\\\\data\\\\dev\\\\d85270c1_nohash_0_bird.wav',\n",
       " 'C:\\\\Users\\\\shunl\\\\data\\\\dev\\\\d8c314c0_nohash_0_bird.wav',\n",
       " 'C:\\\\Users\\\\shunl\\\\data\\\\dev\\\\d933bf5e_nohash_0_bird.wav',\n",
       " 'C:\\\\Users\\\\shunl\\\\data\\\\dev\\\\d9b50b8b_nohash_1_bird.wav',\n",
       " 'C:\\\\Users\\\\shunl\\\\data\\\\dev\\\\db9cd41d_nohash_0_bird.wav',\n",
       " 'C:\\\\Users\\\\shunl\\\\data\\\\dev\\\\de040337_nohash_1_bird.wav',\n",
       " 'C:\\\\Users\\\\shunl\\\\data\\\\dev\\\\de41f895_nohash_1_bird.wav',\n",
       " 'C:\\\\Users\\\\shunl\\\\data\\\\dev\\\\df6bd83f_nohash_0_bird.wav',\n",
       " 'C:\\\\Users\\\\shunl\\\\data\\\\dev\\\\e0344f60_nohash_0_bird.wav',\n",
       " 'C:\\\\Users\\\\shunl\\\\data\\\\dev\\\\e04d7130_nohash_0_bird.wav',\n",
       " 'C:\\\\Users\\\\shunl\\\\data\\\\dev\\\\e0611c84_nohash_0_bird.wav',\n",
       " 'C:\\\\Users\\\\shunl\\\\data\\\\dev\\\\e3411931_nohash_0_bird.wav',\n",
       " 'C:\\\\Users\\\\shunl\\\\data\\\\dev\\\\e5c48e53_nohash_0_bird.wav',\n",
       " 'C:\\\\Users\\\\shunl\\\\data\\\\dev\\\\e63b69c5_nohash_1_bird.wav',\n",
       " 'C:\\\\Users\\\\shunl\\\\data\\\\dev\\\\e6515415_nohash_2_bird.wav',\n",
       " 'C:\\\\Users\\\\shunl\\\\data\\\\dev\\\\e805a617_nohash_0_bird.wav',\n",
       " 'C:\\\\Users\\\\shunl\\\\data\\\\dev\\\\e91d173e_nohash_1_bird.wav',\n",
       " 'C:\\\\Users\\\\shunl\\\\data\\\\dev\\\\e9b61425_nohash_0_bird.wav',\n",
       " 'C:\\\\Users\\\\shunl\\\\data\\\\dev\\\\e9b61425_nohash_1_bird.wav',\n",
       " 'C:\\\\Users\\\\shunl\\\\data\\\\dev\\\\ec201020_nohash_0_bird.wav',\n",
       " 'C:\\\\Users\\\\shunl\\\\data\\\\dev\\\\edd8bfe3_nohash_0_bird.wav',\n",
       " 'C:\\\\Users\\\\shunl\\\\data\\\\dev\\\\f0edc767_nohash_2_bird.wav',\n",
       " 'C:\\\\Users\\\\shunl\\\\data\\\\dev\\\\f104f742_nohash_0_bird.wav',\n",
       " 'C:\\\\Users\\\\shunl\\\\data\\\\dev\\\\f292725f_nohash_1_bird.wav',\n",
       " 'C:\\\\Users\\\\shunl\\\\data\\\\dev\\\\f4f59743_nohash_0_bird.wav',\n",
       " 'C:\\\\Users\\\\shunl\\\\data\\\\dev\\\\f638a812_nohash_0_bird.wav',\n",
       " 'C:\\\\Users\\\\shunl\\\\data\\\\dev\\\\f6581345_nohash_1_bird.wav',\n",
       " 'C:\\\\Users\\\\shunl\\\\data\\\\dev\\\\f6617a86_nohash_1_bird.wav',\n",
       " 'C:\\\\Users\\\\shunl\\\\data\\\\dev\\\\f9f9751d_nohash_1_bird.wav',\n",
       " 'C:\\\\Users\\\\shunl\\\\data\\\\dev\\\\fbdc07bb_nohash_0_bird.wav',\n",
       " 'C:\\\\Users\\\\shunl\\\\data\\\\dev\\\\fd395b74_nohash_0_bird.wav',\n",
       " 'C:\\\\Users\\\\shunl\\\\data\\\\dev\\\\fda46b78_nohash_0_bird.wav',\n",
       " 'C:\\\\Users\\\\shunl\\\\data\\\\dev\\\\fe291fa9_nohash_0_bird.wav',\n",
       " 'C:\\\\Users\\\\shunl\\\\data\\\\dev\\\\ffb86d3c_nohash_1_bird.wav',\n",
       " 'C:\\\\Users\\\\shunl\\\\data\\\\dev\\\\ffd2ba2f_nohash_0_bird.wav',\n",
       " 'C:\\\\Users\\\\shunl\\\\data\\\\dev\\\\01bb6a2a_nohash_0_cat.wav',\n",
       " 'C:\\\\Users\\\\shunl\\\\data\\\\dev\\\\030ec18b_nohash_2_cat.wav',\n",
       " 'C:\\\\Users\\\\shunl\\\\data\\\\dev\\\\05b2db80_nohash_0_cat.wav',\n",
       " 'C:\\\\Users\\\\shunl\\\\data\\\\dev\\\\069ab0d5_nohash_0_cat.wav',\n",
       " 'C:\\\\Users\\\\shunl\\\\data\\\\dev\\\\09ddc105_nohash_0_cat.wav',\n",
       " 'C:\\\\Users\\\\shunl\\\\data\\\\dev\\\\0cd323ec_nohash_0_cat.wav',\n",
       " 'C:\\\\Users\\\\shunl\\\\data\\\\dev\\\\0e5193e6_nohash_1_cat.wav',\n",
       " 'C:\\\\Users\\\\shunl\\\\data\\\\dev\\\\0f7205ef_nohash_0_cat.wav',\n",
       " 'C:\\\\Users\\\\shunl\\\\data\\\\dev\\\\0fa1e7a9_nohash_0_cat.wav',\n",
       " 'C:\\\\Users\\\\shunl\\\\data\\\\dev\\\\105a0eea_nohash_2_cat.wav',\n",
       " 'C:\\\\Users\\\\shunl\\\\data\\\\dev\\\\11099149_nohash_0_cat.wav',\n",
       " 'C:\\\\Users\\\\shunl\\\\data\\\\dev\\\\11a022ba_nohash_1_cat.wav',\n",
       " 'C:\\\\Users\\\\shunl\\\\data\\\\dev\\\\11b1df78_nohash_0_cat.wav',\n",
       " 'C:\\\\Users\\\\shunl\\\\data\\\\dev\\\\12c206ea_nohash_1_cat.wav',\n",
       " 'C:\\\\Users\\\\shunl\\\\data\\\\dev\\\\13199b79_nohash_1_cat.wav',\n",
       " 'C:\\\\Users\\\\shunl\\\\data\\\\dev\\\\16db1582_nohash_4_cat.wav',\n",
       " 'C:\\\\Users\\\\shunl\\\\data\\\\dev\\\\171b56dc_nohash_1_cat.wav',\n",
       " 'C:\\\\Users\\\\shunl\\\\data\\\\dev\\\\1a6eca98_nohash_0_cat.wav',\n",
       " 'C:\\\\Users\\\\shunl\\\\data\\\\dev\\\\1bb574f9_nohash_0_cat.wav',\n",
       " 'C:\\\\Users\\\\shunl\\\\data\\\\dev\\\\1bc45db9_nohash_0_cat.wav',\n",
       " 'C:\\\\Users\\\\shunl\\\\data\\\\dev\\\\1c3f50ad_nohash_0_cat.wav',\n",
       " 'C:\\\\Users\\\\shunl\\\\data\\\\dev\\\\1c45ceb2_nohash_0_cat.wav',\n",
       " 'C:\\\\Users\\\\shunl\\\\data\\\\dev\\\\1d919a90_nohash_0_cat.wav',\n",
       " 'C:\\\\Users\\\\shunl\\\\data\\\\dev\\\\1e9b215e_nohash_1_cat.wav',\n",
       " 'C:\\\\Users\\\\shunl\\\\data\\\\dev\\\\21832144_nohash_0_cat.wav',\n",
       " 'C:\\\\Users\\\\shunl\\\\data\\\\dev\\\\21cbe292_nohash_0_cat.wav',\n",
       " 'C:\\\\Users\\\\shunl\\\\data\\\\dev\\\\2335770e_nohash_0_cat.wav',\n",
       " 'C:\\\\Users\\\\shunl\\\\data\\\\dev\\\\24befdb3_nohash_0_cat.wav',\n",
       " 'C:\\\\Users\\\\shunl\\\\data\\\\dev\\\\24ed94ab_nohash_1_cat.wav',\n",
       " 'C:\\\\Users\\\\shunl\\\\data\\\\dev\\\\25040e85_nohash_0_cat.wav',\n",
       " 'C:\\\\Users\\\\shunl\\\\data\\\\dev\\\\28ce0c58_nohash_0_cat.wav',\n",
       " 'C:\\\\Users\\\\shunl\\\\data\\\\dev\\\\2dcb6848_nohash_0_cat.wav',\n",
       " 'C:\\\\Users\\\\shunl\\\\data\\\\dev\\\\30802c5d_nohash_0_cat.wav',\n",
       " 'C:\\\\Users\\\\shunl\\\\data\\\\dev\\\\31270cb2_nohash_2_cat.wav',\n",
       " 'C:\\\\Users\\\\shunl\\\\data\\\\dev\\\\3143fdff_nohash_1_cat.wav',\n",
       " 'C:\\\\Users\\\\shunl\\\\data\\\\dev\\\\324210dd_nohash_0_cat.wav',\n",
       " 'C:\\\\Users\\\\shunl\\\\data\\\\dev\\\\3852fca2_nohash_0_cat.wav',\n",
       " 'C:\\\\Users\\\\shunl\\\\data\\\\dev\\\\3852fca2_nohash_1_cat.wav',\n",
       " 'C:\\\\Users\\\\shunl\\\\data\\\\dev\\\\3983ba0d_nohash_0_cat.wav',\n",
       " 'C:\\\\Users\\\\shunl\\\\data\\\\dev\\\\3d9200b9_nohash_0_cat.wav',\n",
       " 'C:\\\\Users\\\\shunl\\\\data\\\\dev\\\\3d9200b9_nohash_1_cat.wav',\n",
       " 'C:\\\\Users\\\\shunl\\\\data\\\\dev\\\\413997c1_nohash_1_cat.wav',\n",
       " 'C:\\\\Users\\\\shunl\\\\data\\\\dev\\\\42ccb57a_nohash_0_cat.wav',\n",
       " 'C:\\\\Users\\\\shunl\\\\data\\\\dev\\\\4422e51d_nohash_1_cat.wav',\n",
       " 'C:\\\\Users\\\\shunl\\\\data\\\\dev\\\\44715c1c_nohash_1_cat.wav',\n",
       " 'C:\\\\Users\\\\shunl\\\\data\\\\dev\\\\46114b4e_nohash_0_cat.wav',\n",
       " 'C:\\\\Users\\\\shunl\\\\data\\\\dev\\\\4c7c95de_nohash_1_cat.wav',\n",
       " 'C:\\\\Users\\\\shunl\\\\data\\\\dev\\\\4f781a59_nohash_1_cat.wav',\n",
       " 'C:\\\\Users\\\\shunl\\\\data\\\\dev\\\\50f55535_nohash_0_cat.wav',\n",
       " 'C:\\\\Users\\\\shunl\\\\data\\\\dev\\\\52bfbce8_nohash_1_cat.wav',\n",
       " 'C:\\\\Users\\\\shunl\\\\data\\\\dev\\\\53fd1780_nohash_1_cat.wav',\n",
       " 'C:\\\\Users\\\\shunl\\\\data\\\\dev\\\\5677ec77_nohash_0_cat.wav',\n",
       " 'C:\\\\Users\\\\shunl\\\\data\\\\dev\\\\57b68383_nohash_0_cat.wav',\n",
       " 'C:\\\\Users\\\\shunl\\\\data\\\\dev\\\\58df33b5_nohash_0_cat.wav',\n",
       " 'C:\\\\Users\\\\shunl\\\\data\\\\dev\\\\59c3a7f2_nohash_0_cat.wav',\n",
       " 'C:\\\\Users\\\\shunl\\\\data\\\\dev\\\\59fe87e6_nohash_0_cat.wav',\n",
       " 'C:\\\\Users\\\\shunl\\\\data\\\\dev\\\\5b09db89_nohash_0_cat.wav',\n",
       " 'C:\\\\Users\\\\shunl\\\\data\\\\dev\\\\5c8af87a_nohash_0_cat.wav',\n",
       " 'C:\\\\Users\\\\shunl\\\\data\\\\dev\\\\6021f08b_nohash_1_cat.wav',\n",
       " 'C:\\\\Users\\\\shunl\\\\data\\\\dev\\\\611d2b50_nohash_0_cat.wav',\n",
       " 'C:\\\\Users\\\\shunl\\\\data\\\\dev\\\\64da5281_nohash_1_cat.wav',\n",
       " 'C:\\\\Users\\\\shunl\\\\data\\\\dev\\\\652b3da7_nohash_1_cat.wav',\n",
       " 'C:\\\\Users\\\\shunl\\\\data\\\\dev\\\\65d81c54_nohash_0_cat.wav',\n",
       " 'C:\\\\Users\\\\shunl\\\\data\\\\dev\\\\66aa0f29_nohash_0_cat.wav',\n",
       " 'C:\\\\Users\\\\shunl\\\\data\\\\dev\\\\66cff190_nohash_0_cat.wav',\n",
       " 'C:\\\\Users\\\\shunl\\\\data\\\\dev\\\\67fcdb05_nohash_0_cat.wav',\n",
       " 'C:\\\\Users\\\\shunl\\\\data\\\\dev\\\\6a497f80_nohash_0_cat.wav',\n",
       " 'C:\\\\Users\\\\shunl\\\\data\\\\dev\\\\6af4aa07_nohash_0_cat.wav',\n",
       " 'C:\\\\Users\\\\shunl\\\\data\\\\dev\\\\6cf5459b_nohash_0_cat.wav',\n",
       " 'C:\\\\Users\\\\shunl\\\\data\\\\dev\\\\6f342826_nohash_0_cat.wav',\n",
       " 'C:\\\\Users\\\\shunl\\\\data\\\\dev\\\\6f7724f5_nohash_1_cat.wav',\n",
       " 'C:\\\\Users\\\\shunl\\\\data\\\\dev\\\\7096522d_nohash_1_cat.wav',\n",
       " 'C:\\\\Users\\\\shunl\\\\data\\\\dev\\\\76e53db9_nohash_0_cat.wav',\n",
       " 'C:\\\\Users\\\\shunl\\\\data\\\\dev\\\\7e2d5caf_nohash_0_cat.wav',\n",
       " 'C:\\\\Users\\\\shunl\\\\data\\\\dev\\\\7e6bd776_nohash_0_cat.wav',\n",
       " 'C:\\\\Users\\\\shunl\\\\data\\\\dev\\\\7ea032f3_nohash_0_cat.wav',\n",
       " 'C:\\\\Users\\\\shunl\\\\data\\\\dev\\\\8012c69d_nohash_0_cat.wav',\n",
       " 'C:\\\\Users\\\\shunl\\\\data\\\\dev\\\\8056e897_nohash_0_cat.wav',\n",
       " 'C:\\\\Users\\\\shunl\\\\data\\\\dev\\\\826268f8_nohash_4_cat.wav',\n",
       " 'C:\\\\Users\\\\shunl\\\\data\\\\dev\\\\82c6d220_nohash_0_cat.wav',\n",
       " 'C:\\\\Users\\\\shunl\\\\data\\\\dev\\\\83c9e7e6_nohash_0_cat.wav',\n",
       " 'C:\\\\Users\\\\shunl\\\\data\\\\dev\\\\840c366d_nohash_1_cat.wav',\n",
       " 'C:\\\\Users\\\\shunl\\\\data\\\\dev\\\\84bf12ff_nohash_0_cat.wav',\n",
       " 'C:\\\\Users\\\\shunl\\\\data\\\\dev\\\\850e2222_nohash_0_cat.wav',\n",
       " 'C:\\\\Users\\\\shunl\\\\data\\\\dev\\\\850e2222_nohash_1_cat.wav',\n",
       " 'C:\\\\Users\\\\shunl\\\\data\\\\dev\\\\863880b7_nohash_0_cat.wav',\n",
       " 'C:\\\\Users\\\\shunl\\\\data\\\\dev\\\\87014d40_nohash_2_cat.wav',\n",
       " 'C:\\\\Users\\\\shunl\\\\data\\\\dev\\\\87eff300_nohash_0_cat.wav',\n",
       " 'C:\\\\Users\\\\shunl\\\\data\\\\dev\\\\884ae8e1_nohash_0_cat.wav',\n",
       " 'C:\\\\Users\\\\shunl\\\\data\\\\dev\\\\89ed36ab_nohash_0_cat.wav',\n",
       " 'C:\\\\Users\\\\shunl\\\\data\\\\dev\\\\8a5acefd_nohash_0_cat.wav',\n",
       " 'C:\\\\Users\\\\shunl\\\\data\\\\dev\\\\8b39e36f_nohash_0_cat.wav',\n",
       " 'C:\\\\Users\\\\shunl\\\\data\\\\dev\\\\8e884ec4_nohash_0_cat.wav',\n",
       " 'C:\\\\Users\\\\shunl\\\\data\\\\dev\\\\8eb4a1bf_nohash_0_cat.wav',\n",
       " 'C:\\\\Users\\\\shunl\\\\data\\\\dev\\\\8f0d3c27_nohash_0_cat.wav',\n",
       " 'C:\\\\Users\\\\shunl\\\\data\\\\dev\\\\962f27eb_nohash_0_cat.wav',\n",
       " 'C:\\\\Users\\\\shunl\\\\data\\\\dev\\\\981e2a16_nohash_1_cat.wav',\n",
       " 'C:\\\\Users\\\\shunl\\\\data\\\\dev\\\\9a8d8d34_nohash_0_cat.wav',\n",
       " 'C:\\\\Users\\\\shunl\\\\data\\\\dev\\\\9ce7a419_nohash_0_cat.wav',\n",
       " 'C:\\\\Users\\\\shunl\\\\data\\\\dev\\\\9d171fee_nohash_1_cat.wav',\n",
       " 'C:\\\\Users\\\\shunl\\\\data\\\\dev\\\\9d7036f9_nohash_0_cat.wav',\n",
       " 'C:\\\\Users\\\\shunl\\\\data\\\\dev\\\\9d8ac38b_nohash_1_cat.wav',\n",
       " 'C:\\\\Users\\\\shunl\\\\data\\\\dev\\\\9f6fbdb4_nohash_1_cat.wav',\n",
       " 'C:\\\\Users\\\\shunl\\\\data\\\\dev\\\\9f7079fe_nohash_0_cat.wav',\n",
       " 'C:\\\\Users\\\\shunl\\\\data\\\\dev\\\\a16b3102_nohash_0_cat.wav',\n",
       " 'C:\\\\Users\\\\shunl\\\\data\\\\dev\\\\a243fcc2_nohash_0_cat.wav',\n",
       " 'C:\\\\Users\\\\shunl\\\\data\\\\dev\\\\a4e8a997_nohash_0_cat.wav',\n",
       " 'C:\\\\Users\\\\shunl\\\\data\\\\dev\\\\a5609cce_nohash_0_cat.wav',\n",
       " 'C:\\\\Users\\\\shunl\\\\data\\\\dev\\\\aa48c94a_nohash_0_cat.wav',\n",
       " 'C:\\\\Users\\\\shunl\\\\data\\\\dev\\\\aa62fdad_nohash_2_cat.wav',\n",
       " 'C:\\\\Users\\\\shunl\\\\data\\\\dev\\\\ab353673_nohash_0_cat.wav',\n",
       " 'C:\\\\Users\\\\shunl\\\\data\\\\dev\\\\ad1429cf_nohash_0_cat.wav',\n",
       " 'C:\\\\Users\\\\shunl\\\\data\\\\dev\\\\aeb99b1c_nohash_1_cat.wav',\n",
       " 'C:\\\\Users\\\\shunl\\\\data\\\\dev\\\\afd53389_nohash_0_cat.wav',\n",
       " 'C:\\\\Users\\\\shunl\\\\data\\\\dev\\\\b3327675_nohash_2_cat.wav',\n",
       " 'C:\\\\Users\\\\shunl\\\\data\\\\dev\\\\b46e8153_nohash_0_cat.wav',\n",
       " 'C:\\\\Users\\\\shunl\\\\data\\\\dev\\\\b5935410_nohash_0_cat.wav',\n",
       " 'C:\\\\Users\\\\shunl\\\\data\\\\dev\\\\b59fe16d_nohash_0_cat.wav',\n",
       " 'C:\\\\Users\\\\shunl\\\\data\\\\dev\\\\b65f6015_nohash_0_cat.wav',\n",
       " 'C:\\\\Users\\\\shunl\\\\data\\\\dev\\\\b9515bf3_nohash_0_cat.wav',\n",
       " 'C:\\\\Users\\\\shunl\\\\data\\\\dev\\\\be7a5b2d_nohash_0_cat.wav',\n",
       " 'C:\\\\Users\\\\shunl\\\\data\\\\dev\\\\bfa63751_nohash_0_cat.wav',\n",
       " 'C:\\\\Users\\\\shunl\\\\data\\\\dev\\\\bfaf2000_nohash_1_cat.wav',\n",
       " 'C:\\\\Users\\\\shunl\\\\data\\\\dev\\\\c24d96eb_nohash_0_cat.wav',\n",
       " 'C:\\\\Users\\\\shunl\\\\data\\\\dev\\\\c5570933_nohash_0_cat.wav',\n",
       " 'C:\\\\Users\\\\shunl\\\\data\\\\dev\\\\c71e3acc_nohash_0_cat.wav',\n",
       " 'C:\\\\Users\\\\shunl\\\\data\\\\dev\\\\cb802c63_nohash_0_cat.wav',\n",
       " 'C:\\\\Users\\\\shunl\\\\data\\\\dev\\\\cc3d1613_nohash_0_cat.wav',\n",
       " 'C:\\\\Users\\\\shunl\\\\data\\\\dev\\\\cd3331a6_nohash_0_cat.wav',\n",
       " 'C:\\\\Users\\\\shunl\\\\data\\\\dev\\\\cd8b1781_nohash_0_cat.wav',\n",
       " 'C:\\\\Users\\\\shunl\\\\data\\\\dev\\\\ce9410da_nohash_2_cat.wav',\n",
       " 'C:\\\\Users\\\\shunl\\\\data\\\\dev\\\\d056d4d8_nohash_0_cat.wav',\n",
       " 'C:\\\\Users\\\\shunl\\\\data\\\\dev\\\\d197e3ae_nohash_0_cat.wav',\n",
       " 'C:\\\\Users\\\\shunl\\\\data\\\\dev\\\\d4082f3e_nohash_0_cat.wav',\n",
       " 'C:\\\\Users\\\\shunl\\\\data\\\\dev\\\\d57febf0_nohash_0_cat.wav',\n",
       " 'C:\\\\Users\\\\shunl\\\\data\\\\dev\\\\d6360b32_nohash_0_cat.wav',\n",
       " 'C:\\\\Users\\\\shunl\\\\data\\\\dev\\\\d6360b32_nohash_1_cat.wav',\n",
       " 'C:\\\\Users\\\\shunl\\\\data\\\\dev\\\\d8ee4734_nohash_0_cat.wav',\n",
       " 'C:\\\\Users\\\\shunl\\\\data\\\\dev\\\\d8ee4734_nohash_1_cat.wav',\n",
       " 'C:\\\\Users\\\\shunl\\\\data\\\\dev\\\\d926bb17_nohash_1_cat.wav',\n",
       " 'C:\\\\Users\\\\shunl\\\\data\\\\dev\\\\dc2222d7_nohash_0_cat.wav',\n",
       " 'C:\\\\Users\\\\shunl\\\\data\\\\dev\\\\de650823_nohash_0_cat.wav',\n",
       " 'C:\\\\Users\\\\shunl\\\\data\\\\dev\\\\df038de4_nohash_0_cat.wav',\n",
       " 'C:\\\\Users\\\\shunl\\\\data\\\\dev\\\\dfb6450b_nohash_1_cat.wav',\n",
       " 'C:\\\\Users\\\\shunl\\\\data\\\\dev\\\\e1469561_nohash_0_cat.wav',\n",
       " 'C:\\\\Users\\\\shunl\\\\data\\\\dev\\\\e3411931_nohash_1_cat.wav',\n",
       " 'C:\\\\Users\\\\shunl\\\\data\\\\dev\\\\e7117d00_nohash_0_cat.wav',\n",
       " 'C:\\\\Users\\\\shunl\\\\data\\\\dev\\\\eb6dab4a_nohash_0_cat.wav',\n",
       " 'C:\\\\Users\\\\shunl\\\\data\\\\dev\\\\ef2a3cfb_nohash_0_cat.wav',\n",
       " 'C:\\\\Users\\\\shunl\\\\data\\\\dev\\\\f17be97f_nohash_0_cat.wav',\n",
       " 'C:\\\\Users\\\\shunl\\\\data\\\\dev\\\\f2dd248e_nohash_1_cat.wav',\n",
       " 'C:\\\\Users\\\\shunl\\\\data\\\\dev\\\\f33660af_nohash_0_cat.wav',\n",
       " 'C:\\\\Users\\\\shunl\\\\data\\\\dev\\\\f33660af_nohash_2_cat.wav',\n",
       " 'C:\\\\Users\\\\shunl\\\\data\\\\dev\\\\f3d06008_nohash_0_cat.wav',\n",
       " 'C:\\\\Users\\\\shunl\\\\data\\\\dev\\\\f44f440f_nohash_1_cat.wav',\n",
       " 'C:\\\\Users\\\\shunl\\\\data\\\\dev\\\\f804cbb3_nohash_0_cat.wav',\n",
       " 'C:\\\\Users\\\\shunl\\\\data\\\\dev\\\\f92e49f3_nohash_0_cat.wav',\n",
       " 'C:\\\\Users\\\\shunl\\\\data\\\\dev\\\\fb2f3242_nohash_0_cat.wav',\n",
       " 'C:\\\\Users\\\\shunl\\\\data\\\\dev\\\\fe5c4a7a_nohash_0_cat.wav',\n",
       " 'C:\\\\Users\\\\shunl\\\\data\\\\dev\\\\030ec18b_nohash_0_dog.wav',\n",
       " 'C:\\\\Users\\\\shunl\\\\data\\\\dev\\\\03c96658_nohash_2_dog.wav',\n",
       " 'C:\\\\Users\\\\shunl\\\\data\\\\dev\\\\060cd039_nohash_0_dog.wav',\n",
       " 'C:\\\\Users\\\\shunl\\\\data\\\\dev\\\\079dfce3_nohash_1_dog.wav',\n",
       " 'C:\\\\Users\\\\shunl\\\\data\\\\dev\\\\0f3f64d5_nohash_0_dog.wav',\n",
       " 'C:\\\\Users\\\\shunl\\\\data\\\\dev\\\\0ff728b5_nohash_0_dog.wav',\n",
       " 'C:\\\\Users\\\\shunl\\\\data\\\\dev\\\\105e72bb_nohash_0_dog.wav',\n",
       " 'C:\\\\Users\\\\shunl\\\\data\\\\dev\\\\10c6d873_nohash_1_dog.wav',\n",
       " 'C:\\\\Users\\\\shunl\\\\data\\\\dev\\\\126403d4_nohash_0_dog.wav',\n",
       " 'C:\\\\Users\\\\shunl\\\\data\\\\dev\\\\129c7d8d_nohash_2_dog.wav',\n",
       " 'C:\\\\Users\\\\shunl\\\\data\\\\dev\\\\1365dd89_nohash_2_dog.wav',\n",
       " 'C:\\\\Users\\\\shunl\\\\data\\\\dev\\\\14587ff0_nohash_0_dog.wav',\n",
       " 'C:\\\\Users\\\\shunl\\\\data\\\\dev\\\\146d97db_nohash_0_dog.wav',\n",
       " 'C:\\\\Users\\\\shunl\\\\data\\\\dev\\\\15574821_nohash_0_dog.wav',\n",
       " 'C:\\\\Users\\\\shunl\\\\data\\\\dev\\\\15b0c947_nohash_1_dog.wav',\n",
       " 'C:\\\\Users\\\\shunl\\\\data\\\\dev\\\\173ae793_nohash_0_dog.wav',\n",
       " 'C:\\\\Users\\\\shunl\\\\data\\\\dev\\\\1746d7b6_nohash_1_dog.wav',\n",
       " 'C:\\\\Users\\\\shunl\\\\data\\\\dev\\\\1cbcc7a7_nohash_1_dog.wav',\n",
       " 'C:\\\\Users\\\\shunl\\\\data\\\\dev\\\\1ed557b9_nohash_1_dog.wav',\n",
       " 'C:\\\\Users\\\\shunl\\\\data\\\\dev\\\\2039b9c1_nohash_0_dog.wav',\n",
       " 'C:\\\\Users\\\\shunl\\\\data\\\\dev\\\\257251e0_nohash_0_dog.wav',\n",
       " 'C:\\\\Users\\\\shunl\\\\data\\\\dev\\\\26b28ea7_nohash_0_dog.wav',\n",
       " 'C:\\\\Users\\\\shunl\\\\data\\\\dev\\\\27c30960_nohash_1_dog.wav',\n",
       " 'C:\\\\Users\\\\shunl\\\\data\\\\dev\\\\283d7a53_nohash_0_dog.wav',\n",
       " 'C:\\\\Users\\\\shunl\\\\data\\\\dev\\\\2a0b413e_nohash_2_dog.wav',\n",
       " 'C:\\\\Users\\\\shunl\\\\data\\\\dev\\\\2c6446f7_nohash_0_dog.wav',\n",
       " 'C:\\\\Users\\\\shunl\\\\data\\\\dev\\\\2c7c33e8_nohash_0_dog.wav',\n",
       " 'C:\\\\Users\\\\shunl\\\\data\\\\dev\\\\324210dd_nohash_0_dog.wav',\n",
       " 'C:\\\\Users\\\\shunl\\\\data\\\\dev\\\\3402e488_nohash_0_dog.wav',\n",
       " 'C:\\\\Users\\\\shunl\\\\data\\\\dev\\\\35d1b6ee_nohash_0_dog.wav',\n",
       " 'C:\\\\Users\\\\shunl\\\\data\\\\dev\\\\36de13e1_nohash_1_dog.wav',\n",
       " 'C:\\\\Users\\\\shunl\\\\data\\\\dev\\\\37d38e44_nohash_0_dog.wav',\n",
       " 'C:\\\\Users\\\\shunl\\\\data\\\\dev\\\\38c30a4a_nohash_0_dog.wav',\n",
       " 'C:\\\\Users\\\\shunl\\\\data\\\\dev\\\\39543cfd_nohash_1_dog.wav',\n",
       " 'C:\\\\Users\\\\shunl\\\\data\\\\dev\\\\3a70ab7f_nohash_0_dog.wav',\n",
       " 'C:\\\\Users\\\\shunl\\\\data\\\\dev\\\\3bfd30e6_nohash_0_dog.wav',\n",
       " 'C:\\\\Users\\\\shunl\\\\data\\\\dev\\\\3ca784ec_nohash_1_dog.wav',\n",
       " 'C:\\\\Users\\\\shunl\\\\data\\\\dev\\\\3d3ddaf8_nohash_0_dog.wav',\n",
       " 'C:\\\\Users\\\\shunl\\\\data\\\\dev\\\\3e3fa7fd_nohash_0_dog.wav',\n",
       " 'C:\\\\Users\\\\shunl\\\\data\\\\dev\\\\3ec05c3d_nohash_1_dog.wav',\n",
       " 'C:\\\\Users\\\\shunl\\\\data\\\\dev\\\\4254621e_nohash_1_dog.wav',\n",
       " 'C:\\\\Users\\\\shunl\\\\data\\\\dev\\\\435f9f9e_nohash_0_dog.wav',\n",
       " 'C:\\\\Users\\\\shunl\\\\data\\\\dev\\\\43f57297_nohash_0_dog.wav',\n",
       " 'C:\\\\Users\\\\shunl\\\\data\\\\dev\\\\483e2a6f_nohash_1_dog.wav',\n",
       " 'C:\\\\Users\\\\shunl\\\\data\\\\dev\\\\49af4432_nohash_0_dog.wav',\n",
       " 'C:\\\\Users\\\\shunl\\\\data\\\\dev\\\\4cb874bb_nohash_0_dog.wav',\n",
       " 'C:\\\\Users\\\\shunl\\\\data\\\\dev\\\\50928b05_nohash_1_dog.wav',\n",
       " 'C:\\\\Users\\\\shunl\\\\data\\\\dev\\\\51995cea_nohash_0_dog.wav',\n",
       " 'C:\\\\Users\\\\shunl\\\\data\\\\dev\\\\54412eae_nohash_0_dog.wav',\n",
       " 'C:\\\\Users\\\\shunl\\\\data\\\\dev\\\\569455ff_nohash_0_dog.wav',\n",
       " 'C:\\\\Users\\\\shunl\\\\data\\\\dev\\\\56eb74ae_nohash_0_dog.wav',\n",
       " 'C:\\\\Users\\\\shunl\\\\data\\\\dev\\\\57b38f48_nohash_0_dog.wav',\n",
       " 'C:\\\\Users\\\\shunl\\\\data\\\\dev\\\\57cb3575_nohash_0_dog.wav',\n",
       " 'C:\\\\Users\\\\shunl\\\\data\\\\dev\\\\59b98a22_nohash_0_dog.wav',\n",
       " 'C:\\\\Users\\\\shunl\\\\data\\\\dev\\\\5aac2efa_nohash_0_dog.wav',\n",
       " 'C:\\\\Users\\\\shunl\\\\data\\\\dev\\\\5af0ca83_nohash_0_dog.wav',\n",
       " 'C:\\\\Users\\\\shunl\\\\data\\\\dev\\\\5f8e50a0_nohash_0_dog.wav',\n",
       " 'C:\\\\Users\\\\shunl\\\\data\\\\dev\\\\6021f08b_nohash_0_dog.wav',\n",
       " 'C:\\\\Users\\\\shunl\\\\data\\\\dev\\\\6078eb0d_nohash_0_dog.wav',\n",
       " 'C:\\\\Users\\\\shunl\\\\data\\\\dev\\\\682e1687_nohash_0_dog.wav',\n",
       " 'C:\\\\Users\\\\shunl\\\\data\\\\dev\\\\6adb8ad9_nohash_0_dog.wav',\n",
       " 'C:\\\\Users\\\\shunl\\\\data\\\\dev\\\\6f9088d7_nohash_0_dog.wav',\n",
       " 'C:\\\\Users\\\\shunl\\\\data\\\\dev\\\\708b8d51_nohash_0_dog.wav',\n",
       " 'C:\\\\Users\\\\shunl\\\\data\\\\dev\\\\7106d229_nohash_0_dog.wav',\n",
       " 'C:\\\\Users\\\\shunl\\\\data\\\\dev\\\\712e4d58_nohash_0_dog.wav',\n",
       " 'C:\\\\Users\\\\shunl\\\\data\\\\dev\\\\71bf8f48_nohash_0_dog.wav',\n",
       " 'C:\\\\Users\\\\shunl\\\\data\\\\dev\\\\71e6ab20_nohash_0_dog.wav',\n",
       " 'C:\\\\Users\\\\shunl\\\\data\\\\dev\\\\72198b96_nohash_1_dog.wav',\n",
       " 'C:\\\\Users\\\\shunl\\\\data\\\\dev\\\\72198b96_nohash_2_dog.wav',\n",
       " 'C:\\\\Users\\\\shunl\\\\data\\\\dev\\\\723efc4c_nohash_0_dog.wav',\n",
       " 'C:\\\\Users\\\\shunl\\\\data\\\\dev\\\\72be9202_nohash_3_dog.wav',\n",
       " 'C:\\\\Users\\\\shunl\\\\data\\\\dev\\\\742d6431_nohash_0_dog.wav',\n",
       " 'C:\\\\Users\\\\shunl\\\\data\\\\dev\\\\748cb308_nohash_2_dog.wav',\n",
       " 'C:\\\\Users\\\\shunl\\\\data\\\\dev\\\\763188c4_nohash_0_dog.wav',\n",
       " 'C:\\\\Users\\\\shunl\\\\data\\\\dev\\\\77655bdf_nohash_0_dog.wav',\n",
       " 'C:\\\\Users\\\\shunl\\\\data\\\\dev\\\\7799c9cd_nohash_0_dog.wav',\n",
       " 'C:\\\\Users\\\\shunl\\\\data\\\\dev\\\\7add4c5f_nohash_0_dog.wav',\n",
       " 'C:\\\\Users\\\\shunl\\\\data\\\\dev\\\\7c2a3fa4_nohash_0_dog.wav',\n",
       " 'C:\\\\Users\\\\shunl\\\\data\\\\dev\\\\7d149b38_nohash_0_dog.wav',\n",
       " 'C:\\\\Users\\\\shunl\\\\data\\\\dev\\\\7d8babdb_nohash_0_dog.wav',\n",
       " 'C:\\\\Users\\\\shunl\\\\data\\\\dev\\\\813b82a6_nohash_0_dog.wav',\n",
       " 'C:\\\\Users\\\\shunl\\\\data\\\\dev\\\\823353e5_nohash_0_dog.wav',\n",
       " 'C:\\\\Users\\\\shunl\\\\data\\\\dev\\\\86f12ac0_nohash_2_dog.wav',\n",
       " 'C:\\\\Users\\\\shunl\\\\data\\\\dev\\\\876c84d6_nohash_0_dog.wav',\n",
       " 'C:\\\\Users\\\\shunl\\\\data\\\\dev\\\\881583a6_nohash_0_dog.wav',\n",
       " 'C:\\\\Users\\\\shunl\\\\data\\\\dev\\\\89f3ab7d_nohash_0_dog.wav',\n",
       " 'C:\\\\Users\\\\shunl\\\\data\\\\dev\\\\8d5d076d_nohash_0_dog.wav',\n",
       " 'C:\\\\Users\\\\shunl\\\\data\\\\dev\\\\8db999cf_nohash_0_dog.wav',\n",
       " 'C:\\\\Users\\\\shunl\\\\data\\\\dev\\\\8dc26a15_nohash_2_dog.wav',\n",
       " 'C:\\\\Users\\\\shunl\\\\data\\\\dev\\\\8f0d3c27_nohash_0_dog.wav',\n",
       " 'C:\\\\Users\\\\shunl\\\\data\\\\dev\\\\9229bff9_nohash_0_dog.wav',\n",
       " 'C:\\\\Users\\\\shunl\\\\data\\\\dev\\\\936de313_nohash_0_dog.wav',\n",
       " 'C:\\\\Users\\\\shunl\\\\data\\\\dev\\\\937b433e_nohash_1_dog.wav',\n",
       " 'C:\\\\Users\\\\shunl\\\\data\\\\dev\\\\9886d8bf_nohash_0_dog.wav',\n",
       " 'C:\\\\Users\\\\shunl\\\\data\\\\dev\\\\997867e7_nohash_1_dog.wav',\n",
       " 'C:\\\\Users\\\\shunl\\\\data\\\\dev\\\\9b6c08ba_nohash_0_dog.wav',\n",
       " 'C:\\\\Users\\\\shunl\\\\data\\\\dev\\\\9d32f10a_nohash_1_dog.wav',\n",
       " 'C:\\\\Users\\\\shunl\\\\data\\\\dev\\\\a1cff772_nohash_0_dog.wav',\n",
       " 'C:\\\\Users\\\\shunl\\\\data\\\\dev\\\\a243fcc2_nohash_0_dog.wav',\n",
       " 'C:\\\\Users\\\\shunl\\\\data\\\\dev\\\\a24cf51c_nohash_0_dog.wav',\n",
       " 'C:\\\\Users\\\\shunl\\\\data\\\\dev\\\\a42a88ff_nohash_0_dog.wav',\n",
       " 'C:\\\\Users\\\\shunl\\\\data\\\\dev\\\\a518d1cf_nohash_0_dog.wav',\n",
       " 'C:\\\\Users\\\\shunl\\\\data\\\\dev\\\\a7dd45cf_nohash_0_dog.wav',\n",
       " 'C:\\\\Users\\\\shunl\\\\data\\\\dev\\\\ab353673_nohash_0_dog.wav',\n",
       " 'C:\\\\Users\\\\shunl\\\\data\\\\dev\\\\ab3f0c1b_nohash_0_dog.wav',\n",
       " 'C:\\\\Users\\\\shunl\\\\data\\\\dev\\\\ad89eb1e_nohash_0_dog.wav',\n",
       " 'C:\\\\Users\\\\shunl\\\\data\\\\dev\\\\b01c8f61_nohash_0_dog.wav',\n",
       " 'C:\\\\Users\\\\shunl\\\\data\\\\dev\\\\b06c19b0_nohash_0_dog.wav',\n",
       " 'C:\\\\Users\\\\shunl\\\\data\\\\dev\\\\b06c19b0_nohash_1_dog.wav',\n",
       " 'C:\\\\Users\\\\shunl\\\\data\\\\dev\\\\b12bef84_nohash_0_dog.wav',\n",
       " 'C:\\\\Users\\\\shunl\\\\data\\\\dev\\\\b26343e9_nohash_1_dog.wav',\n",
       " 'C:\\\\Users\\\\shunl\\\\data\\\\dev\\\\b31ad508_nohash_0_dog.wav',\n",
       " 'C:\\\\Users\\\\shunl\\\\data\\\\dev\\\\b3bdded5_nohash_0_dog.wav',\n",
       " 'C:\\\\Users\\\\shunl\\\\data\\\\dev\\\\b72e58c9_nohash_0_dog.wav',\n",
       " 'C:\\\\Users\\\\shunl\\\\data\\\\dev\\\\b80d6c5e_nohash_0_dog.wav',\n",
       " 'C:\\\\Users\\\\shunl\\\\data\\\\dev\\\\ba770f9b_nohash_0_dog.wav',\n",
       " 'C:\\\\Users\\\\shunl\\\\data\\\\dev\\\\bd11c654_nohash_0_dog.wav',\n",
       " 'C:\\\\Users\\\\shunl\\\\data\\\\dev\\\\bd11c654_nohash_1_dog.wav',\n",
       " 'C:\\\\Users\\\\shunl\\\\data\\\\dev\\\\be7fa0a3_nohash_0_dog.wav',\n",
       " 'C:\\\\Users\\\\shunl\\\\data\\\\dev\\\\bf70feda_nohash_0_dog.wav',\n",
       " 'C:\\\\Users\\\\shunl\\\\data\\\\dev\\\\c22d3f18_nohash_0_dog.wav',\n",
       " 'C:\\\\Users\\\\shunl\\\\data\\\\dev\\\\c2aeb59d_nohash_0_dog.wav',\n",
       " 'C:\\\\Users\\\\shunl\\\\data\\\\dev\\\\c5c60d8d_nohash_0_dog.wav',\n",
       " 'C:\\\\Users\\\\shunl\\\\data\\\\dev\\\\caf9fceb_nohash_1_dog.wav',\n",
       " 'C:\\\\Users\\\\shunl\\\\data\\\\dev\\\\cc6ee39b_nohash_0_dog.wav',\n",
       " 'C:\\\\Users\\\\shunl\\\\data\\\\dev\\\\d107dc42_nohash_1_dog.wav',\n",
       " 'C:\\\\Users\\\\shunl\\\\data\\\\dev\\\\d3badc9a_nohash_0_dog.wav',\n",
       " 'C:\\\\Users\\\\shunl\\\\data\\\\dev\\\\d7559b2d_nohash_1_dog.wav',\n",
       " 'C:\\\\Users\\\\shunl\\\\data\\\\dev\\\\d8ed3745_nohash_0_dog.wav',\n",
       " 'C:\\\\Users\\\\shunl\\\\data\\\\dev\\\\d98f6043_nohash_0_dog.wav',\n",
       " 'C:\\\\Users\\\\shunl\\\\data\\\\dev\\\\da7689f1_nohash_0_dog.wav',\n",
       " 'C:\\\\Users\\\\shunl\\\\data\\\\dev\\\\db72a474_nohash_0_dog.wav',\n",
       " 'C:\\\\Users\\\\shunl\\\\data\\\\dev\\\\db9cd41d_nohash_0_dog.wav',\n",
       " 'C:\\\\Users\\\\shunl\\\\data\\\\dev\\\\dc7ec25b_nohash_0_dog.wav',\n",
       " 'C:\\\\Users\\\\shunl\\\\data\\\\dev\\\\dea820ce_nohash_0_dog.wav',\n",
       " 'C:\\\\Users\\\\shunl\\\\data\\\\dev\\\\e1469561_nohash_0_dog.wav',\n",
       " 'C:\\\\Users\\\\shunl\\\\data\\\\dev\\\\e5dadd24_nohash_0_dog.wav',\n",
       " 'C:\\\\Users\\\\shunl\\\\data\\\\dev\\\\e6db3894_nohash_1_dog.wav',\n",
       " 'C:\\\\Users\\\\shunl\\\\data\\\\dev\\\\e7117d00_nohash_3_dog.wav',\n",
       " 'C:\\\\Users\\\\shunl\\\\data\\\\dev\\\\e8e960fd_nohash_0_dog.wav',\n",
       " 'C:\\\\Users\\\\shunl\\\\data\\\\dev\\\\e900b652_nohash_0_dog.wav',\n",
       " 'C:\\\\Users\\\\shunl\\\\data\\\\dev\\\\ec201020_nohash_0_dog.wav',\n",
       " 'C:\\\\Users\\\\shunl\\\\data\\\\dev\\\\eefd26f3_nohash_0_dog.wav',\n",
       " 'C:\\\\Users\\\\shunl\\\\data\\\\dev\\\\ef2578c0_nohash_0_dog.wav',\n",
       " 'C:\\\\Users\\\\shunl\\\\data\\\\dev\\\\efa16ffd_nohash_1_dog.wav',\n",
       " 'C:\\\\Users\\\\shunl\\\\data\\\\dev\\\\f2dd248e_nohash_0_dog.wav',\n",
       " 'C:\\\\Users\\\\shunl\\\\data\\\\dev\\\\f3957e23_nohash_0_dog.wav',\n",
       " 'C:\\\\Users\\\\shunl\\\\data\\\\dev\\\\f428ca69_nohash_1_dog.wav',\n",
       " 'C:\\\\Users\\\\shunl\\\\data\\\\dev\\\\f47d644e_nohash_0_dog.wav',\n",
       " 'C:\\\\Users\\\\shunl\\\\data\\\\dev\\\\f47d644e_nohash_1_dog.wav',\n",
       " 'C:\\\\Users\\\\shunl\\\\data\\\\dev\\\\f47d644e_nohash_2_dog.wav',\n",
       " 'C:\\\\Users\\\\shunl\\\\data\\\\dev\\\\f5496439_nohash_0_dog.wav',\n",
       " 'C:\\\\Users\\\\shunl\\\\data\\\\dev\\\\f5e44d34_nohash_1_dog.wav',\n",
       " 'C:\\\\Users\\\\shunl\\\\data\\\\dev\\\\f92e49f3_nohash_0_dog.wav',\n",
       " 'C:\\\\Users\\\\shunl\\\\data\\\\dev\\\\fac74f6a_nohash_0_dog.wav',\n",
       " 'C:\\\\Users\\\\shunl\\\\data\\\\dev\\\\facd97c0_nohash_1_dog.wav',\n",
       " 'C:\\\\Users\\\\shunl\\\\data\\\\dev\\\\fb7cfe0e_nohash_1_dog.wav',\n",
       " 'C:\\\\Users\\\\shunl\\\\data\\\\dev\\\\fc28c8d8_nohash_1_dog.wav',\n",
       " 'C:\\\\Users\\\\shunl\\\\data\\\\dev\\\\fd395b74_nohash_0_dog.wav',\n",
       " 'C:\\\\Users\\\\shunl\\\\data\\\\dev\\\\ffbb695d_nohash_0_dog.wav',\n",
       " 'C:\\\\Users\\\\shunl\\\\data\\\\dev\\\\00b01445_nohash_0_down.wav',\n",
       " 'C:\\\\Users\\\\shunl\\\\data\\\\dev\\\\037c445a_nohash_0_down.wav',\n",
       " 'C:\\\\Users\\\\shunl\\\\data\\\\dev\\\\0447d7c1_nohash_0_down.wav',\n",
       " 'C:\\\\Users\\\\shunl\\\\data\\\\dev\\\\05cf43ef_nohash_0_down.wav',\n",
       " 'C:\\\\Users\\\\shunl\\\\data\\\\dev\\\\099d52ad_nohash_1_down.wav',\n",
       " 'C:\\\\Users\\\\shunl\\\\data\\\\dev\\\\0c5027de_nohash_1_down.wav',\n",
       " 'C:\\\\Users\\\\shunl\\\\data\\\\dev\\\\0f3f64d5_nohash_0_down.wav',\n",
       " 'C:\\\\Users\\\\shunl\\\\data\\\\dev\\\\106a6183_nohash_1_down.wav',\n",
       " 'C:\\\\Users\\\\shunl\\\\data\\\\dev\\\\122c5aa7_nohash_0_down.wav',\n",
       " 'C:\\\\Users\\\\shunl\\\\data\\\\dev\\\\122c5aa7_nohash_2_down.wav',\n",
       " 'C:\\\\Users\\\\shunl\\\\data\\\\dev\\\\12529547_nohash_0_down.wav',\n",
       " 'C:\\\\Users\\\\shunl\\\\data\\\\dev\\\\13d7b8c9_nohash_0_down.wav',\n",
       " 'C:\\\\Users\\\\shunl\\\\data\\\\dev\\\\146d97db_nohash_0_down.wav',\n",
       " 'C:\\\\Users\\\\shunl\\\\data\\\\dev\\\\15c563d7_nohash_4_down.wav',\n",
       " 'C:\\\\Users\\\\shunl\\\\data\\\\dev\\\\1626bc5a_nohash_0_down.wav',\n",
       " 'C:\\\\Users\\\\shunl\\\\data\\\\dev\\\\1626bc5a_nohash_1_down.wav',\n",
       " 'C:\\\\Users\\\\shunl\\\\data\\\\dev\\\\17f0e206_nohash_1_down.wav',\n",
       " 'C:\\\\Users\\\\shunl\\\\data\\\\dev\\\\18a8f03f_nohash_0_down.wav',\n",
       " 'C:\\\\Users\\\\shunl\\\\data\\\\dev\\\\190821dc_nohash_3_down.wav',\n",
       " 'C:\\\\Users\\\\shunl\\\\data\\\\dev\\\\1942abd7_nohash_0_down.wav',\n",
       " 'C:\\\\Users\\\\shunl\\\\data\\\\dev\\\\1e4064b8_nohash_1_down.wav',\n",
       " 'C:\\\\Users\\\\shunl\\\\data\\\\dev\\\\1fd85ee4_nohash_0_down.wav',\n",
       " 'C:\\\\Users\\\\shunl\\\\data\\\\dev\\\\1fe4c891_nohash_0_down.wav',\n",
       " 'C:\\\\Users\\\\shunl\\\\data\\\\dev\\\\1fe4c891_nohash_1_down.wav',\n",
       " 'C:\\\\Users\\\\shunl\\\\data\\\\dev\\\\1ffd513b_nohash_0_down.wav',\n",
       " 'C:\\\\Users\\\\shunl\\\\data\\\\dev\\\\215699ff_nohash_0_down.wav',\n",
       " 'C:\\\\Users\\\\shunl\\\\data\\\\dev\\\\229978fd_nohash_0_down.wav',\n",
       " 'C:\\\\Users\\\\shunl\\\\data\\\\dev\\\\24694eb6_nohash_0_down.wav',\n",
       " 'C:\\\\Users\\\\shunl\\\\data\\\\dev\\\\257e17e0_nohash_0_down.wav',\n",
       " 'C:\\\\Users\\\\shunl\\\\data\\\\dev\\\\26b28ea7_nohash_0_down.wav',\n",
       " 'C:\\\\Users\\\\shunl\\\\data\\\\dev\\\\27b9a84f_nohash_1_down.wav',\n",
       " 'C:\\\\Users\\\\shunl\\\\data\\\\dev\\\\28ed6bc9_nohash_0_down.wav',\n",
       " 'C:\\\\Users\\\\shunl\\\\data\\\\dev\\\\2cec1d47_nohash_0_down.wav',\n",
       " 'C:\\\\Users\\\\shunl\\\\data\\\\dev\\\\2d82a556_nohash_1_down.wav',\n",
       " 'C:\\\\Users\\\\shunl\\\\data\\\\dev\\\\2d92f18b_nohash_0_down.wav',\n",
       " 'C:\\\\Users\\\\shunl\\\\data\\\\dev\\\\30065f33_nohash_0_down.wav',\n",
       " 'C:\\\\Users\\\\shunl\\\\data\\\\dev\\\\30802c5d_nohash_1_down.wav',\n",
       " 'C:\\\\Users\\\\shunl\\\\data\\\\dev\\\\3143fdff_nohash_1_down.wav',\n",
       " 'C:\\\\Users\\\\shunl\\\\data\\\\dev\\\\324210dd_nohash_0_down.wav',\n",
       " 'C:\\\\Users\\\\shunl\\\\data\\\\dev\\\\327289eb_nohash_0_down.wav',\n",
       " 'C:\\\\Users\\\\shunl\\\\data\\\\dev\\\\329eab8a_nohash_1_down.wav',\n",
       " 'C:\\\\Users\\\\shunl\\\\data\\\\dev\\\\33903159_nohash_1_down.wav',\n",
       " 'C:\\\\Users\\\\shunl\\\\data\\\\dev\\\\34ba417a_nohash_1_down.wav',\n",
       " 'C:\\\\Users\\\\shunl\\\\data\\\\dev\\\\364c0853_nohash_1_down.wav',\n",
       " 'C:\\\\Users\\\\shunl\\\\data\\\\dev\\\\37d38e44_nohash_0_down.wav',\n",
       " 'C:\\\\Users\\\\shunl\\\\data\\\\dev\\\\37dca74f_nohash_0_down.wav',\n",
       " 'C:\\\\Users\\\\shunl\\\\data\\\\dev\\\\37dca74f_nohash_4_down.wav',\n",
       " 'C:\\\\Users\\\\shunl\\\\data\\\\dev\\\\37fc5d97_nohash_0_down.wav',\n",
       " 'C:\\\\Users\\\\shunl\\\\data\\\\dev\\\\39a12648_nohash_3_down.wav',\n",
       " 'C:\\\\Users\\\\shunl\\\\data\\\\dev\\\\3a182c98_nohash_1_down.wav',\n",
       " 'C:\\\\Users\\\\shunl\\\\data\\\\dev\\\\3b7f817e_nohash_0_down.wav',\n",
       " 'C:\\\\Users\\\\shunl\\\\data\\\\dev\\\\3bc21161_nohash_4_down.wav',\n",
       " 'C:\\\\Users\\\\shunl\\\\data\\\\dev\\\\3c257192_nohash_0_down.wav',\n",
       " 'C:\\\\Users\\\\shunl\\\\data\\\\dev\\\\3c257192_nohash_2_down.wav',\n",
       " 'C:\\\\Users\\\\shunl\\\\data\\\\dev\\\\3c257192_nohash_3_down.wav',\n",
       " 'C:\\\\Users\\\\shunl\\\\data\\\\dev\\\\3c6d55b3_nohash_0_down.wav',\n",
       " 'C:\\\\Users\\\\shunl\\\\data\\\\dev\\\\3d53244b_nohash_1_down.wav',\n",
       " 'C:\\\\Users\\\\shunl\\\\data\\\\dev\\\\3da7f617_nohash_0_down.wav',\n",
       " 'C:\\\\Users\\\\shunl\\\\data\\\\dev\\\\3dfd6c23_nohash_1_down.wav',\n",
       " 'C:\\\\Users\\\\shunl\\\\data\\\\dev\\\\4254621e_nohash_0_down.wav',\n",
       " 'C:\\\\Users\\\\shunl\\\\data\\\\dev\\\\437455be_nohash_0_down.wav',\n",
       " 'C:\\\\Users\\\\shunl\\\\data\\\\dev\\\\439c84f4_nohash_0_down.wav',\n",
       " 'C:\\\\Users\\\\shunl\\\\data\\\\dev\\\\459345ea_nohash_0_down.wav',\n",
       " 'C:\\\\Users\\\\shunl\\\\data\\\\dev\\\\46114b4e_nohash_0_down.wav',\n",
       " 'C:\\\\Users\\\\shunl\\\\data\\\\dev\\\\471a0925_nohash_1_down.wav',\n",
       " 'C:\\\\Users\\\\shunl\\\\data\\\\dev\\\\493392c6_nohash_0_down.wav',\n",
       " 'C:\\\\Users\\\\shunl\\\\data\\\\dev\\\\493392c6_nohash_2_down.wav',\n",
       " 'C:\\\\Users\\\\shunl\\\\data\\\\dev\\\\4954abe8_nohash_0_down.wav',\n",
       " 'C:\\\\Users\\\\shunl\\\\data\\\\dev\\\\4a1e736b_nohash_2_down.wav',\n",
       " 'C:\\\\Users\\\\shunl\\\\data\\\\dev\\\\4beff0c5_nohash_0_down.wav',\n",
       " 'C:\\\\Users\\\\shunl\\\\data\\\\dev\\\\4c432947_nohash_0_down.wav',\n",
       " 'C:\\\\Users\\\\shunl\\\\data\\\\dev\\\\4d9e07cf_nohash_0_down.wav',\n",
       " 'C:\\\\Users\\\\shunl\\\\data\\\\dev\\\\4fe01997_nohash_1_down.wav',\n",
       " 'C:\\\\Users\\\\shunl\\\\data\\\\dev\\\\528f9242_nohash_1_down.wav',\n",
       " 'C:\\\\Users\\\\shunl\\\\data\\\\dev\\\\5744b6a7_nohash_0_down.wav',\n",
       " 'C:\\\\Users\\\\shunl\\\\data\\\\dev\\\\5b09db89_nohash_1_down.wav',\n",
       " 'C:\\\\Users\\\\shunl\\\\data\\\\dev\\\\5b09db89_nohash_4_down.wav',\n",
       " 'C:\\\\Users\\\\shunl\\\\data\\\\dev\\\\5c237956_nohash_1_down.wav',\n",
       " 'C:\\\\Users\\\\shunl\\\\data\\\\dev\\\\5c8af87a_nohash_1_down.wav',\n",
       " 'C:\\\\Users\\\\shunl\\\\data\\\\dev\\\\5db0e146_nohash_0_down.wav',\n",
       " 'C:\\\\Users\\\\shunl\\\\data\\\\dev\\\\5e3dde6b_nohash_2_down.wav',\n",
       " 'C:\\\\Users\\\\shunl\\\\data\\\\dev\\\\62581901_nohash_0_down.wav',\n",
       " 'C:\\\\Users\\\\shunl\\\\data\\\\dev\\\\625fd898_nohash_0_down.wav',\n",
       " 'C:\\\\Users\\\\shunl\\\\data\\\\dev\\\\6301e683_nohash_1_down.wav',\n",
       " 'C:\\\\Users\\\\shunl\\\\data\\\\dev\\\\651d108f_nohash_2_down.wav',\n",
       " 'C:\\\\Users\\\\shunl\\\\data\\\\dev\\\\67c7fecb_nohash_0_down.wav',\n",
       " 'C:\\\\Users\\\\shunl\\\\data\\\\dev\\\\6982fc2a_nohash_0_down.wav',\n",
       " 'C:\\\\Users\\\\shunl\\\\data\\\\dev\\\\69f609ec_nohash_0_down.wav',\n",
       " 'C:\\\\Users\\\\shunl\\\\data\\\\dev\\\\6a861f21_nohash_0_down.wav',\n",
       " 'C:\\\\Users\\\\shunl\\\\data\\\\dev\\\\6a861f21_nohash_1_down.wav',\n",
       " 'C:\\\\Users\\\\shunl\\\\data\\\\dev\\\\6b7d5101_nohash_0_down.wav',\n",
       " 'C:\\\\Users\\\\shunl\\\\data\\\\dev\\\\6c0f6493_nohash_0_down.wav',\n",
       " 'C:\\\\Users\\\\shunl\\\\data\\\\dev\\\\6c429c7b_nohash_3_down.wav',\n",
       " 'C:\\\\Users\\\\shunl\\\\data\\\\dev\\\\6cc28ce5_nohash_0_down.wav',\n",
       " 'C:\\\\Users\\\\shunl\\\\data\\\\dev\\\\7192fddc_nohash_0_down.wav',\n",
       " 'C:\\\\Users\\\\shunl\\\\data\\\\dev\\\\7195ffa6_nohash_2_down.wav',\n",
       " 'C:\\\\Users\\\\shunl\\\\data\\\\dev\\\\71aa5b54_nohash_0_down.wav',\n",
       " 'C:\\\\Users\\\\shunl\\\\data\\\\dev\\\\735845ab_nohash_0_down.wav',\n",
       " 'C:\\\\Users\\\\shunl\\\\data\\\\dev\\\\73cccfaf_nohash_1_down.wav',\n",
       " 'C:\\\\Users\\\\shunl\\\\data\\\\dev\\\\742d6431_nohash_3_down.wav',\n",
       " 'C:\\\\Users\\\\shunl\\\\data\\\\dev\\\\765ffccb_nohash_0_down.wav',\n",
       " 'C:\\\\Users\\\\shunl\\\\data\\\\dev\\\\7cb5c0b7_nohash_0_down.wav',\n",
       " 'C:\\\\Users\\\\shunl\\\\data\\\\dev\\\\7e556a2c_nohash_0_down.wav',\n",
       " 'C:\\\\Users\\\\shunl\\\\data\\\\dev\\\\7e556a2c_nohash_1_down.wav',\n",
       " 'C:\\\\Users\\\\shunl\\\\data\\\\dev\\\\7f74626f_nohash_3_down.wav',\n",
       " 'C:\\\\Users\\\\shunl\\\\data\\\\dev\\\\840c366d_nohash_0_down.wav',\n",
       " 'C:\\\\Users\\\\shunl\\\\data\\\\dev\\\\8442ea62_nohash_1_down.wav',\n",
       " 'C:\\\\Users\\\\shunl\\\\data\\\\dev\\\\84999496_nohash_0_down.wav',\n",
       " 'C:\\\\Users\\\\shunl\\\\data\\\\dev\\\\87728a88_nohash_1_down.wav',\n",
       " 'C:\\\\Users\\\\shunl\\\\data\\\\dev\\\\888a0c49_nohash_4_down.wav',\n",
       " 'C:\\\\Users\\\\shunl\\\\data\\\\dev\\\\8a194ee6_nohash_2_down.wav',\n",
       " 'C:\\\\Users\\\\shunl\\\\data\\\\dev\\\\8e05039f_nohash_0_down.wav',\n",
       " 'C:\\\\Users\\\\shunl\\\\data\\\\dev\\\\8eb4a1bf_nohash_2_down.wav',\n",
       " 'C:\\\\Users\\\\shunl\\\\data\\\\dev\\\\8f0d3c27_nohash_0_down.wav',\n",
       " 'C:\\\\Users\\\\shunl\\\\data\\\\dev\\\\8f4c551f_nohash_1_down.wav',\n",
       " 'C:\\\\Users\\\\shunl\\\\data\\\\dev\\\\92a9c5e6_nohash_1_down.wav',\n",
       " 'C:\\\\Users\\\\shunl\\\\data\\\\dev\\\\92a9c5e6_nohash_4_down.wav',\n",
       " 'C:\\\\Users\\\\shunl\\\\data\\\\dev\\\\94de6a6a_nohash_1_down.wav',\n",
       " 'C:\\\\Users\\\\shunl\\\\data\\\\dev\\\\94de6a6a_nohash_4_down.wav',\n",
       " 'C:\\\\Users\\\\shunl\\\\data\\\\dev\\\\951cac20_nohash_0_down.wav',\n",
       " 'C:\\\\Users\\\\shunl\\\\data\\\\dev\\\\95299b6c_nohash_0_down.wav',\n",
       " 'C:\\\\Users\\\\shunl\\\\data\\\\dev\\\\953fe1ad_nohash_1_down.wav',\n",
       " 'C:\\\\Users\\\\shunl\\\\data\\\\dev\\\\95ba4996_nohash_1_down.wav',\n",
       " 'C:\\\\Users\\\\shunl\\\\data\\\\dev\\\\96a48d28_nohash_2_down.wav',\n",
       " 'C:\\\\Users\\\\shunl\\\\data\\\\dev\\\\96ab6565_nohash_0_down.wav',\n",
       " 'C:\\\\Users\\\\shunl\\\\data\\\\dev\\\\96c66ab7_nohash_1_down.wav',\n",
       " 'C:\\\\Users\\\\shunl\\\\data\\\\dev\\\\9a43b64b_nohash_0_down.wav',\n",
       " 'C:\\\\Users\\\\shunl\\\\data\\\\dev\\\\9a69672b_nohash_1_down.wav',\n",
       " 'C:\\\\Users\\\\shunl\\\\data\\\\dev\\\\9a69672b_nohash_3_down.wav',\n",
       " 'C:\\\\Users\\\\shunl\\\\data\\\\dev\\\\9aa5439d_nohash_1_down.wav',\n",
       " 'C:\\\\Users\\\\shunl\\\\data\\\\dev\\\\9ab86dd0_nohash_0_down.wav',\n",
       " 'C:\\\\Users\\\\shunl\\\\data\\\\dev\\\\9ab86dd0_nohash_1_down.wav',\n",
       " 'C:\\\\Users\\\\shunl\\\\data\\\\dev\\\\9ce7a419_nohash_0_down.wav',\n",
       " 'C:\\\\Users\\\\shunl\\\\data\\\\dev\\\\9d4bab4f_nohash_0_down.wav',\n",
       " 'C:\\\\Users\\\\shunl\\\\data\\\\dev\\\\9ff2d2f4_nohash_3_down.wav',\n",
       " 'C:\\\\Users\\\\shunl\\\\data\\\\dev\\\\9ff2d2f4_nohash_4_down.wav',\n",
       " 'C:\\\\Users\\\\shunl\\\\data\\\\dev\\\\a1dd919f_nohash_0_down.wav',\n",
       " 'C:\\\\Users\\\\shunl\\\\data\\\\dev\\\\a4baac4e_nohash_0_down.wav',\n",
       " 'C:\\\\Users\\\\shunl\\\\data\\\\dev\\\\a4ca3afe_nohash_0_down.wav',\n",
       " 'C:\\\\Users\\\\shunl\\\\data\\\\dev\\\\a6d586b7_nohash_2_down.wav',\n",
       " 'C:\\\\Users\\\\shunl\\\\data\\\\dev\\\\a8f45bdc_nohash_0_down.wav',\n",
       " 'C:\\\\Users\\\\shunl\\\\data\\\\dev\\\\a97017df_nohash_0_down.wav',\n",
       " 'C:\\\\Users\\\\shunl\\\\data\\\\dev\\\\a996cf66_nohash_0_down.wav',\n",
       " 'C:\\\\Users\\\\shunl\\\\data\\\\dev\\\\a9f38bae_nohash_1_down.wav',\n",
       " 'C:\\\\Users\\\\shunl\\\\data\\\\dev\\\\aa48c94a_nohash_0_down.wav',\n",
       " 'C:\\\\Users\\\\shunl\\\\data\\\\dev\\\\aa62fdad_nohash_0_down.wav',\n",
       " 'C:\\\\Users\\\\shunl\\\\data\\\\dev\\\\ab5d7179_nohash_0_down.wav',\n",
       " 'C:\\\\Users\\\\shunl\\\\data\\\\dev\\\\ab71c9a7_nohash_0_down.wav',\n",
       " 'C:\\\\Users\\\\shunl\\\\data\\\\dev\\\\ab71c9a7_nohash_1_down.wav',\n",
       " 'C:\\\\Users\\\\shunl\\\\data\\\\dev\\\\ab76ac76_nohash_0_down.wav',\n",
       " 'C:\\\\Users\\\\shunl\\\\data\\\\dev\\\\ab7b5acd_nohash_3_down.wav',\n",
       " 'C:\\\\Users\\\\shunl\\\\data\\\\dev\\\\ad63d93c_nohash_2_down.wav',\n",
       " 'C:\\\\Users\\\\shunl\\\\data\\\\dev\\\\ad89eb1e_nohash_0_down.wav',\n",
       " 'C:\\\\Users\\\\shunl\\\\data\\\\dev\\\\aeb99b1c_nohash_2_down.wav',\n",
       " 'C:\\\\Users\\\\shunl\\\\data\\\\dev\\\\af8b2f2c_nohash_1_down.wav',\n",
       " 'C:\\\\Users\\\\shunl\\\\data\\\\dev\\\\b19f7f5f_nohash_1_down.wav',\n",
       " 'C:\\\\Users\\\\shunl\\\\data\\\\dev\\\\b49caed3_nohash_4_down.wav',\n",
       " 'C:\\\\Users\\\\shunl\\\\data\\\\dev\\\\b4aa9fef_nohash_2_down.wav',\n",
       " 'C:\\\\Users\\\\shunl\\\\data\\\\dev\\\\b4bef564_nohash_1_down.wav',\n",
       " 'C:\\\\Users\\\\shunl\\\\data\\\\dev\\\\b52bd596_nohash_1_down.wav',\n",
       " 'C:\\\\Users\\\\shunl\\\\data\\\\dev\\\\b544d4fd_nohash_0_down.wav',\n",
       " 'C:\\\\Users\\\\shunl\\\\data\\\\dev\\\\b575b5fb_nohash_0_down.wav',\n",
       " 'C:\\\\Users\\\\shunl\\\\data\\\\dev\\\\b6091c84_nohash_0_down.wav',\n",
       " 'C:\\\\Users\\\\shunl\\\\data\\\\dev\\\\b843de62_nohash_0_down.wav',\n",
       " 'C:\\\\Users\\\\shunl\\\\data\\\\dev\\\\b8c48ffb_nohash_0_down.wav',\n",
       " 'C:\\\\Users\\\\shunl\\\\data\\\\dev\\\\b93528e3_nohash_1_down.wav',\n",
       " 'C:\\\\Users\\\\shunl\\\\data\\\\dev\\\\b959cd0c_nohash_1_down.wav',\n",
       " 'C:\\\\Users\\\\shunl\\\\data\\\\dev\\\\b959cd0c_nohash_3_down.wav',\n",
       " 'C:\\\\Users\\\\shunl\\\\data\\\\dev\\\\b97c9f77_nohash_2_down.wav',\n",
       " 'C:\\\\Users\\\\shunl\\\\data\\\\dev\\\\ba676390_nohash_0_down.wav',\n",
       " 'C:\\\\Users\\\\shunl\\\\data\\\\dev\\\\bc065a17_nohash_0_down.wav',\n",
       " 'C:\\\\Users\\\\shunl\\\\data\\\\dev\\\\c0445658_nohash_3_down.wav',\n",
       " 'C:\\\\Users\\\\shunl\\\\data\\\\dev\\\\c120e80e_nohash_8_down.wav',\n",
       " 'C:\\\\Users\\\\shunl\\\\data\\\\dev\\\\c24d96eb_nohash_0_down.wav',\n",
       " 'C:\\\\Users\\\\shunl\\\\data\\\\dev\\\\c256377f_nohash_0_down.wav',\n",
       " 'C:\\\\Users\\\\shunl\\\\data\\\\dev\\\\c25a032b_nohash_0_down.wav',\n",
       " 'C:\\\\Users\\\\shunl\\\\data\\\\dev\\\\c2e08f08_nohash_0_down.wav',\n",
       " 'C:\\\\Users\\\\shunl\\\\data\\\\dev\\\\c4500713_nohash_0_down.wav',\n",
       " 'C:\\\\Users\\\\shunl\\\\data\\\\dev\\\\c4500713_nohash_1_down.wav',\n",
       " 'C:\\\\Users\\\\shunl\\\\data\\\\dev\\\\c4533c47_nohash_1_down.wav',\n",
       " 'C:\\\\Users\\\\shunl\\\\data\\\\dev\\\\c578beb0_nohash_0_down.wav',\n",
       " 'C:\\\\Users\\\\shunl\\\\data\\\\dev\\\\c634a189_nohash_4_down.wav',\n",
       " 'C:\\\\Users\\\\shunl\\\\data\\\\dev\\\\c661be6e_nohash_3_down.wav',\n",
       " 'C:\\\\Users\\\\shunl\\\\data\\\\dev\\\\c79159aa_nohash_0_down.wav',\n",
       " 'C:\\\\Users\\\\shunl\\\\data\\\\dev\\\\c90c0105_nohash_0_down.wav',\n",
       " 'C:\\\\Users\\\\shunl\\\\data\\\\dev\\\\c93d5e22_nohash_2_down.wav',\n",
       " 'C:\\\\Users\\\\shunl\\\\data\\\\dev\\\\caa4779f_nohash_0_down.wav',\n",
       " 'C:\\\\Users\\\\shunl\\\\data\\\\dev\\\\caa4779f_nohash_1_down.wav',\n",
       " 'C:\\\\Users\\\\shunl\\\\data\\\\dev\\\\caa7feaf_nohash_0_down.wav',\n",
       " 'C:\\\\Users\\\\shunl\\\\data\\\\dev\\\\cb8f8307_nohash_3_down.wav',\n",
       " 'C:\\\\Users\\\\shunl\\\\data\\\\dev\\\\ccf418a5_nohash_0_down.wav',\n",
       " 'C:\\\\Users\\\\shunl\\\\data\\\\dev\\\\cd7f8c1b_nohash_2_down.wav',\n",
       " 'C:\\\\Users\\\\shunl\\\\data\\\\dev\\\\cd7f8c1b_nohash_3_down.wav',\n",
       " 'C:\\\\Users\\\\shunl\\\\data\\\\dev\\\\ce9410da_nohash_0_down.wav',\n",
       " 'C:\\\\Users\\\\shunl\\\\data\\\\dev\\\\d1453a87_nohash_0_down.wav',\n",
       " 'C:\\\\Users\\\\shunl\\\\data\\\\dev\\\\d197e3ae_nohash_3_down.wav',\n",
       " 'C:\\\\Users\\\\shunl\\\\data\\\\dev\\\\d37e4bf1_nohash_0_down.wav',\n",
       " 'C:\\\\Users\\\\shunl\\\\data\\\\dev\\\\d37e4bf1_nohash_2_down.wav',\n",
       " 'C:\\\\Users\\\\shunl\\\\data\\\\dev\\\\d750966e_nohash_1_down.wav',\n",
       " 'C:\\\\Users\\\\shunl\\\\data\\\\dev\\\\d8a5ace5_nohash_2_down.wav',\n",
       " 'C:\\\\Users\\\\shunl\\\\data\\\\dev\\\\d8c314c0_nohash_0_down.wav',\n",
       " 'C:\\\\Users\\\\shunl\\\\data\\\\dev\\\\d8c52371_nohash_0_down.wav',\n",
       " 'C:\\\\Users\\\\shunl\\\\data\\\\dev\\\\d8ee4734_nohash_0_down.wav',\n",
       " 'C:\\\\Users\\\\shunl\\\\data\\\\dev\\\\d90b4138_nohash_1_down.wav',\n",
       " 'C:\\\\Users\\\\shunl\\\\data\\\\dev\\\\d91a159e_nohash_0_down.wav',\n",
       " 'C:\\\\Users\\\\shunl\\\\data\\\\dev\\\\d952a17e_nohash_0_down.wav',\n",
       " 'C:\\\\Users\\\\shunl\\\\data\\\\dev\\\\d9b8fab2_nohash_1_down.wav',\n",
       " 'C:\\\\Users\\\\shunl\\\\data\\\\dev\\\\da584bc0_nohash_1_down.wav',\n",
       " 'C:\\\\Users\\\\shunl\\\\data\\\\dev\\\\da584bc0_nohash_2_down.wav',\n",
       " 'C:\\\\Users\\\\shunl\\\\data\\\\dev\\\\db9d52d2_nohash_0_down.wav',\n",
       " 'C:\\\\Users\\\\shunl\\\\data\\\\dev\\\\dbb40d24_nohash_1_down.wav',\n",
       " 'C:\\\\Users\\\\shunl\\\\data\\\\dev\\\\dce05676_nohash_0_down.wav',\n",
       " 'C:\\\\Users\\\\shunl\\\\data\\\\dev\\\\dea820ce_nohash_2_down.wav',\n",
       " 'C:\\\\Users\\\\shunl\\\\data\\\\dev\\\\df1d5024_nohash_2_down.wav',\n",
       " 'C:\\\\Users\\\\shunl\\\\data\\\\dev\\\\e41a903b_nohash_3_down.wav',\n",
       " 'C:\\\\Users\\\\shunl\\\\data\\\\dev\\\\e54a0f16_nohash_2_down.wav',\n",
       " 'C:\\\\Users\\\\shunl\\\\data\\\\dev\\\\e5c48e53_nohash_0_down.wav',\n",
       " 'C:\\\\Users\\\\shunl\\\\data\\\\dev\\\\e7ea8b76_nohash_1_down.wav',\n",
       " 'C:\\\\Users\\\\shunl\\\\data\\\\dev\\\\e7ea8b76_nohash_2_down.wav',\n",
       " 'C:\\\\Users\\\\shunl\\\\data\\\\dev\\\\e7ea8b76_nohash_3_down.wav',\n",
       " 'C:\\\\Users\\\\shunl\\\\data\\\\dev\\\\e7ea8b76_nohash_4_down.wav',\n",
       " 'C:\\\\Users\\\\shunl\\\\data\\\\dev\\\\e96a5020_nohash_1_down.wav',\n",
       " 'C:\\\\Users\\\\shunl\\\\data\\\\dev\\\\e96a5020_nohash_2_down.wav',\n",
       " 'C:\\\\Users\\\\shunl\\\\data\\\\dev\\\\ead2934a_nohash_0_down.wav',\n",
       " 'C:\\\\Users\\\\shunl\\\\data\\\\dev\\\\eb6dab4a_nohash_0_down.wav',\n",
       " 'C:\\\\Users\\\\shunl\\\\data\\\\dev\\\\ec201020_nohash_2_down.wav',\n",
       " 'C:\\\\Users\\\\shunl\\\\data\\\\dev\\\\ec21c46b_nohash_0_down.wav',\n",
       " 'C:\\\\Users\\\\shunl\\\\data\\\\dev\\\\ece1a95a_nohash_0_down.wav',\n",
       " 'C:\\\\Users\\\\shunl\\\\data\\\\dev\\\\f15a354c_nohash_0_down.wav',\n",
       " 'C:\\\\Users\\\\shunl\\\\data\\\\dev\\\\f17be97f_nohash_4_down.wav',\n",
       " 'C:\\\\Users\\\\shunl\\\\data\\\\dev\\\\f19c1390_nohash_3_down.wav',\n",
       " 'C:\\\\Users\\\\shunl\\\\data\\\\dev\\\\f34e6f44_nohash_0_down.wav',\n",
       " 'C:\\\\Users\\\\shunl\\\\data\\\\dev\\\\f3957e23_nohash_2_down.wav',\n",
       " 'C:\\\\Users\\\\shunl\\\\data\\\\dev\\\\f3cee168_nohash_1_down.wav',\n",
       " 'C:\\\\Users\\\\shunl\\\\data\\\\dev\\\\f4386675_nohash_0_down.wav',\n",
       " 'C:\\\\Users\\\\shunl\\\\data\\\\dev\\\\f47d644e_nohash_0_down.wav',\n",
       " 'C:\\\\Users\\\\shunl\\\\data\\\\dev\\\\f5733968_nohash_2_down.wav',\n",
       " 'C:\\\\Users\\\\shunl\\\\data\\\\dev\\\\f5733968_nohash_4_down.wav',\n",
       " 'C:\\\\Users\\\\shunl\\\\data\\\\dev\\\\f5c3de1b_nohash_1_down.wav',\n",
       " 'C:\\\\Users\\\\shunl\\\\data\\\\dev\\\\f864cd4a_nohash_0_down.wav',\n",
       " 'C:\\\\Users\\\\shunl\\\\data\\\\dev\\\\f953e1af_nohash_2_down.wav',\n",
       " 'C:\\\\Users\\\\shunl\\\\data\\\\dev\\\\f953e1af_nohash_3_down.wav',\n",
       " 'C:\\\\Users\\\\shunl\\\\data\\\\dev\\\\fa446c16_nohash_0_down.wav',\n",
       " 'C:\\\\Users\\\\shunl\\\\data\\\\dev\\\\fb7cfe0e_nohash_1_down.wav',\n",
       " 'C:\\\\Users\\\\shunl\\\\data\\\\dev\\\\0132a06d_nohash_0_eight.wav',\n",
       " 'C:\\\\Users\\\\shunl\\\\data\\\\dev\\\\0132a06d_nohash_1_eight.wav',\n",
       " 'C:\\\\Users\\\\shunl\\\\data\\\\dev\\\\0616de09_nohash_1_eight.wav',\n",
       " 'C:\\\\Users\\\\shunl\\\\data\\\\dev\\\\063d48cf_nohash_3_eight.wav',\n",
       " 'C:\\\\Users\\\\shunl\\\\data\\\\dev\\\\07c5129e_nohash_0_eight.wav',\n",
       " 'C:\\\\Users\\\\shunl\\\\data\\\\dev\\\\0b09edd3_nohash_2_eight.wav',\n",
       " 'C:\\\\Users\\\\shunl\\\\data\\\\dev\\\\0bde966a_nohash_1_eight.wav',\n",
       " 'C:\\\\Users\\\\shunl\\\\data\\\\dev\\\\0bde966a_nohash_2_eight.wav',\n",
       " 'C:\\\\Users\\\\shunl\\\\data\\\\dev\\\\0d2bcf9d_nohash_1_eight.wav',\n",
       " 'C:\\\\Users\\\\shunl\\\\data\\\\dev\\\\0d393936_nohash_0_eight.wav',\n",
       " 'C:\\\\Users\\\\shunl\\\\data\\\\dev\\\\0e17f595_nohash_1_eight.wav',\n",
       " 'C:\\\\Users\\\\shunl\\\\data\\\\dev\\\\0f7dc557_nohash_0_eight.wav',\n",
       " 'C:\\\\Users\\\\shunl\\\\data\\\\dev\\\\0ff728b5_nohash_0_eight.wav',\n",
       " 'C:\\\\Users\\\\shunl\\\\data\\\\dev\\\\0ff728b5_nohash_2_eight.wav',\n",
       " 'C:\\\\Users\\\\shunl\\\\data\\\\dev\\\\122c5aa7_nohash_0_eight.wav',\n",
       " 'C:\\\\Users\\\\shunl\\\\data\\\\dev\\\\12c206ea_nohash_0_eight.wav',\n",
       " 'C:\\\\Users\\\\shunl\\\\data\\\\dev\\\\135c6841_nohash_1_eight.wav',\n",
       " 'C:\\\\Users\\\\shunl\\\\data\\\\dev\\\\152491bc_nohash_2_eight.wav',\n",
       " 'C:\\\\Users\\\\shunl\\\\data\\\\dev\\\\15574821_nohash_1_eight.wav',\n",
       " 'C:\\\\Users\\\\shunl\\\\data\\\\dev\\\\15b0c947_nohash_0_eight.wav',\n",
       " 'C:\\\\Users\\\\shunl\\\\data\\\\dev\\\\15c563d7_nohash_2_eight.wav',\n",
       " 'C:\\\\Users\\\\shunl\\\\data\\\\dev\\\\15c563d7_nohash_4_eight.wav',\n",
       " 'C:\\\\Users\\\\shunl\\\\data\\\\dev\\\\1afd49bf_nohash_0_eight.wav',\n",
       " 'C:\\\\Users\\\\shunl\\\\data\\\\dev\\\\1b4c9b89_nohash_2_eight.wav',\n",
       " 'C:\\\\Users\\\\shunl\\\\data\\\\dev\\\\1b4c9b89_nohash_3_eight.wav',\n",
       " 'C:\\\\Users\\\\shunl\\\\data\\\\dev\\\\1b835b87_nohash_0_eight.wav',\n",
       " 'C:\\\\Users\\\\shunl\\\\data\\\\dev\\\\1f653d27_nohash_0_eight.wav',\n",
       " 'C:\\\\Users\\\\shunl\\\\data\\\\dev\\\\20d3f11f_nohash_1_eight.wav',\n",
       " 'C:\\\\Users\\\\shunl\\\\data\\\\dev\\\\2197f41c_nohash_1_eight.wav',\n",
       " 'C:\\\\Users\\\\shunl\\\\data\\\\dev\\\\229978fd_nohash_4_eight.wav',\n",
       " 'C:\\\\Users\\\\shunl\\\\data\\\\dev\\\\24befdb3_nohash_4_eight.wav',\n",
       " 'C:\\\\Users\\\\shunl\\\\data\\\\dev\\\\25132942_nohash_1_eight.wav',\n",
       " 'C:\\\\Users\\\\shunl\\\\data\\\\dev\\\\257251e0_nohash_0_eight.wav',\n",
       " 'C:\\\\Users\\\\shunl\\\\data\\\\dev\\\\27b9a84f_nohash_0_eight.wav',\n",
       " 'C:\\\\Users\\\\shunl\\\\data\\\\dev\\\\27c30960_nohash_0_eight.wav',\n",
       " 'C:\\\\Users\\\\shunl\\\\data\\\\dev\\\\2a0b413e_nohash_0_eight.wav',\n",
       " 'C:\\\\Users\\\\shunl\\\\data\\\\dev\\\\2a0b413e_nohash_1_eight.wav',\n",
       " 'C:\\\\Users\\\\shunl\\\\data\\\\dev\\\\2bd2cad5_nohash_0_eight.wav',\n",
       " 'C:\\\\Users\\\\shunl\\\\data\\\\dev\\\\2bfe70ef_nohash_0_eight.wav',\n",
       " 'C:\\\\Users\\\\shunl\\\\data\\\\dev\\\\2da58b32_nohash_4_eight.wav',\n",
       " 'C:\\\\Users\\\\shunl\\\\data\\\\dev\\\\2e30f9a5_nohash_0_eight.wav',\n",
       " 'C:\\\\Users\\\\shunl\\\\data\\\\dev\\\\31267b59_nohash_0_eight.wav',\n",
       " 'C:\\\\Users\\\\shunl\\\\data\\\\dev\\\\31583d30_nohash_1_eight.wav',\n",
       " 'C:\\\\Users\\\\shunl\\\\data\\\\dev\\\\324210dd_nohash_5_eight.wav',\n",
       " 'C:\\\\Users\\\\shunl\\\\data\\\\dev\\\\327289eb_nohash_0_eight.wav',\n",
       " 'C:\\\\Users\\\\shunl\\\\data\\\\dev\\\\333784b7_nohash_3_eight.wav',\n",
       " 'C:\\\\Users\\\\shunl\\\\data\\\\dev\\\\3565ca83_nohash_0_eight.wav',\n",
       " 'C:\\\\Users\\\\shunl\\\\data\\\\dev\\\\35d1b6ee_nohash_1_eight.wav',\n",
       " 'C:\\\\Users\\\\shunl\\\\data\\\\dev\\\\37b03ab1_nohash_1_eight.wav',\n",
       " 'C:\\\\Users\\\\shunl\\\\data\\\\dev\\\\37b03ab1_nohash_2_eight.wav',\n",
       " 'C:\\\\Users\\\\shunl\\\\data\\\\dev\\\\37bd115d_nohash_0_eight.wav',\n",
       " 'C:\\\\Users\\\\shunl\\\\data\\\\dev\\\\37dca74f_nohash_4_eight.wav',\n",
       " 'C:\\\\Users\\\\shunl\\\\data\\\\dev\\\\37e8db82_nohash_0_eight.wav',\n",
       " 'C:\\\\Users\\\\shunl\\\\data\\\\dev\\\\3852fca2_nohash_0_eight.wav',\n",
       " 'C:\\\\Users\\\\shunl\\\\data\\\\dev\\\\3b8406c0_nohash_0_eight.wav',\n",
       " 'C:\\\\Users\\\\shunl\\\\data\\\\dev\\\\3bc21161_nohash_0_eight.wav',\n",
       " 'C:\\\\Users\\\\shunl\\\\data\\\\dev\\\\3bc21161_nohash_4_eight.wav',\n",
       " 'C:\\\\Users\\\\shunl\\\\data\\\\dev\\\\3c257192_nohash_1_eight.wav',\n",
       " 'C:\\\\Users\\\\shunl\\\\data\\\\dev\\\\3ca784ec_nohash_0_eight.wav',\n",
       " 'C:\\\\Users\\\\shunl\\\\data\\\\dev\\\\3cfc6b3a_nohash_2_eight.wav',\n",
       " 'C:\\\\Users\\\\shunl\\\\data\\\\dev\\\\3d3ddaf8_nohash_0_eight.wav',\n",
       " 'C:\\\\Users\\\\shunl\\\\data\\\\dev\\\\3e3b65eb_nohash_0_eight.wav',\n",
       " 'C:\\\\Users\\\\shunl\\\\data\\\\dev\\\\46a153d8_nohash_2_eight.wav',\n",
       " 'C:\\\\Users\\\\shunl\\\\data\\\\dev\\\\48bdc11c_nohash_0_eight.wav',\n",
       " 'C:\\\\Users\\\\shunl\\\\data\\\\dev\\\\4b39347d_nohash_0_eight.wav',\n",
       " 'C:\\\\Users\\\\shunl\\\\data\\\\dev\\\\4f2be90f_nohash_1_eight.wav',\n",
       " 'C:\\\\Users\\\\shunl\\\\data\\\\dev\\\\4f781a59_nohash_0_eight.wav',\n",
       " 'C:\\\\Users\\\\shunl\\\\data\\\\dev\\\\4fe01997_nohash_0_eight.wav',\n",
       " 'C:\\\\Users\\\\shunl\\\\data\\\\dev\\\\5195f0ec_nohash_0_eight.wav',\n",
       " 'C:\\\\Users\\\\shunl\\\\data\\\\dev\\\\528f9242_nohash_0_eight.wav',\n",
       " 'C:\\\\Users\\\\shunl\\\\data\\\\dev\\\\529eda42_nohash_0_eight.wav',\n",
       " 'C:\\\\Users\\\\shunl\\\\data\\\\dev\\\\531a5b8a_nohash_0_eight.wav',\n",
       " 'C:\\\\Users\\\\shunl\\\\data\\\\dev\\\\54412eae_nohash_0_eight.wav',\n",
       " 'C:\\\\Users\\\\shunl\\\\data\\\\dev\\\\553f1a79_nohash_0_eight.wav',\n",
       " 'C:\\\\Users\\\\shunl\\\\data\\\\dev\\\\56eb74ae_nohash_0_eight.wav',\n",
       " 'C:\\\\Users\\\\shunl\\\\data\\\\dev\\\\571c044e_nohash_0_eight.wav',\n",
       " 'C:\\\\Users\\\\shunl\\\\data\\\\dev\\\\57b68383_nohash_2_eight.wav',\n",
       " 'C:\\\\Users\\\\shunl\\\\data\\\\dev\\\\5aac2efa_nohash_0_eight.wav',\n",
       " 'C:\\\\Users\\\\shunl\\\\data\\\\dev\\\\5b09db89_nohash_1_eight.wav',\n",
       " 'C:\\\\Users\\\\shunl\\\\data\\\\dev\\\\5c8af87a_nohash_0_eight.wav',\n",
       " 'C:\\\\Users\\\\shunl\\\\data\\\\dev\\\\5e3dde6b_nohash_4_eight.wav',\n",
       " 'C:\\\\Users\\\\shunl\\\\data\\\\dev\\\\5efb758c_nohash_0_eight.wav',\n",
       " 'C:\\\\Users\\\\shunl\\\\data\\\\dev\\\\60472d26_nohash_0_eight.wav',\n",
       " 'C:\\\\Users\\\\shunl\\\\data\\\\dev\\\\62605293_nohash_0_eight.wav',\n",
       " 'C:\\\\Users\\\\shunl\\\\data\\\\dev\\\\62ef962d_nohash_0_eight.wav',\n",
       " 'C:\\\\Users\\\\shunl\\\\data\\\\dev\\\\64220627_nohash_1_eight.wav',\n",
       " 'C:\\\\Users\\\\shunl\\\\data\\\\dev\\\\64220627_nohash_3_eight.wav',\n",
       " 'C:\\\\Users\\\\shunl\\\\data\\\\dev\\\\65c73b55_nohash_0_eight.wav',\n",
       " 'C:\\\\Users\\\\shunl\\\\data\\\\dev\\\\66276b0e_nohash_0_eight.wav',\n",
       " 'C:\\\\Users\\\\shunl\\\\data\\\\dev\\\\6846af18_nohash_0_eight.wav',\n",
       " 'C:\\\\Users\\\\shunl\\\\data\\\\dev\\\\692a88e6_nohash_3_eight.wav',\n",
       " 'C:\\\\Users\\\\shunl\\\\data\\\\dev\\\\6b889021_nohash_2_eight.wav',\n",
       " 'C:\\\\Users\\\\shunl\\\\data\\\\dev\\\\6c0f6493_nohash_3_eight.wav',\n",
       " 'C:\\\\Users\\\\shunl\\\\data\\\\dev\\\\6c2dd2d5_nohash_0_eight.wav',\n",
       " 'C:\\\\Users\\\\shunl\\\\data\\\\dev\\\\6c968bd9_nohash_2_eight.wav',\n",
       " 'C:\\\\Users\\\\shunl\\\\data\\\\dev\\\\6cc28ce5_nohash_0_eight.wav',\n",
       " 'C:\\\\Users\\\\shunl\\\\data\\\\dev\\\\6f3458b3_nohash_0_eight.wav',\n",
       " 'C:\\\\Users\\\\shunl\\\\data\\\\dev\\\\6fca237d_nohash_0_eight.wav',\n",
       " 'C:\\\\Users\\\\shunl\\\\data\\\\dev\\\\708b8d51_nohash_0_eight.wav',\n",
       " 'C:\\\\Users\\\\shunl\\\\data\\\\dev\\\\70a00e98_nohash_1_eight.wav',\n",
       " 'C:\\\\Users\\\\shunl\\\\data\\\\dev\\\\71904de3_nohash_1_eight.wav',\n",
       " 'C:\\\\Users\\\\shunl\\\\data\\\\dev\\\\7211390b_nohash_4_eight.wav',\n",
       " 'C:\\\\Users\\\\shunl\\\\data\\\\dev\\\\74551073_nohash_0_eight.wav',\n",
       " 'C:\\\\Users\\\\shunl\\\\data\\\\dev\\\\74fc51e5_nohash_0_eight.wav',\n",
       " 'C:\\\\Users\\\\shunl\\\\data\\\\dev\\\\75b631ff_nohash_1_eight.wav',\n",
       " 'C:\\\\Users\\\\shunl\\\\data\\\\dev\\\\76b58705_nohash_0_eight.wav',\n",
       " 'C:\\\\Users\\\\shunl\\\\data\\\\dev\\\\772db621_nohash_0_eight.wav',\n",
       " 'C:\\\\Users\\\\shunl\\\\data\\\\dev\\\\789e4ee7_nohash_0_eight.wav',\n",
       " 'C:\\\\Users\\\\shunl\\\\data\\\\dev\\\\798f702a_nohash_1_eight.wav',\n",
       " 'C:\\\\Users\\\\shunl\\\\data\\\\dev\\\\7bae88ed_nohash_0_eight.wav',\n",
       " 'C:\\\\Users\\\\shunl\\\\data\\\\dev\\\\7fd25f7c_nohash_1_eight.wav',\n",
       " 'C:\\\\Users\\\\shunl\\\\data\\\\dev\\\\813b82a6_nohash_0_eight.wav',\n",
       " 'C:\\\\Users\\\\shunl\\\\data\\\\dev\\\\82305c3a_nohash_2_eight.wav',\n",
       " 'C:\\\\Users\\\\shunl\\\\data\\\\dev\\\\824e8ce5_nohash_0_eight.wav',\n",
       " ...]"
      ]
     },
     "execution_count": 120,
     "metadata": {},
     "output_type": "execute_result"
    }
   ],
   "source": [
    "dev_filenames"
   ]
  },
  {
   "cell_type": "code",
   "execution_count": 31,
   "metadata": {},
   "outputs": [],
   "source": [
    "assert len(dev_filenames) == len(dev_labels) == 6389 #6505"
   ]
  },
  {
   "cell_type": "code",
   "execution_count": 32,
   "metadata": {},
   "outputs": [],
   "source": [
    "assert len(dev_filenames) == len(set(dev_filenames))\n",
    "assert len(set(dev_labels)) == len(df.label.unique())"
   ]
  },
  {
   "cell_type": "markdown",
   "metadata": {},
   "source": [
    "Make sure the bulk statistics are what we're expecting:"
   ]
  },
  {
   "cell_type": "markdown",
   "metadata": {},
   "source": [
    "### Character error rate "
   ]
  },
  {
   "cell_type": "markdown",
   "metadata": {},
   "source": [
    "For simplicity we'll evaluate the performance of our classifiers using accuracy, i.e. the percentage of predictions we get exactly right.  This is not the only metric we could use, and different choices of metric might lead us to prefer different models.  (Note that because this is a 30-way classification problem, accuracy is actually quite a demanding metric!)"
   ]
  },
  {
   "cell_type": "code",
   "execution_count": 33,
   "metadata": {},
   "outputs": [],
   "source": [
    "def accuracy(predicted_labels: List[str], actual_labels: List[str]) -> float:\n",
    "    \"\"\"Calculate accuracy.\"\"\"\n",
    "    assert len(predicted_labels) == len(actual_labels)\n",
    "    return np.mean([predicted == actual for (predicted, actual) in zip(predicted_labels, actual_labels)])"
   ]
  },
  {
   "cell_type": "code",
   "execution_count": 34,
   "metadata": {},
   "outputs": [
    {
     "name": "stderr",
     "output_type": "stream",
     "text": [
      "[NeMo W 2020-11-27 16:06:08 nemo_logging:349] C:\\Users\\shunl\\Anaconda3\\lib\\site-packages\\numpy\\core\\fromnumeric.py:3373: RuntimeWarning: Mean of empty slice.\n",
      "      out=out, **kwargs)\n",
      "    \n",
      "[NeMo W 2020-11-27 16:06:08 nemo_logging:349] C:\\Users\\shunl\\Anaconda3\\lib\\site-packages\\numpy\\core\\_methods.py:170: RuntimeWarning: invalid value encountered in double_scalars\n",
      "      ret = ret.dtype.type(ret / rcount)\n",
      "    \n"
     ]
    }
   ],
   "source": [
    "assert accuracy([\"foo\", \"foo\"], [\"foo\", \"foo\"]) == 1\n",
    "assert accuracy([\"foo\", \"foo\"], [\"bar\", \"bar\"]) == 0\n",
    "assert accuracy([\"foo\", \"bar\"], [\"foo\", \"foo\"]) == 0.5\n",
    "assert np.isnan(accuracy([], []))"
   ]
  },
  {
   "cell_type": "markdown",
   "metadata": {},
   "source": [
    "For exploratory purposes we can also calculate the character error rate (CER).  The CER between a predicted and actual label is simply the minimum edit distance (number of insertions, deletions or substitutions required to transform one string into another, normalized by the length of the true label."
   ]
  },
  {
   "cell_type": "code",
   "execution_count": 35,
   "metadata": {},
   "outputs": [],
   "source": [
    "def character_error_rate(predicted: str, actual: str) -> float:\n",
    "    \"\"\"Calculate character error rate, edit distance normalized by length of true label.\"\"\"\n",
    "    # your code here\n",
    "    error = 0\n",
    "    if len(predicted) < len(actual):\n",
    "        error = len(actual) - len(predicted)\n",
    "        for x,y in zip(predicted, actual):\n",
    "            if x != y:\n",
    "                error = error + 1\n",
    "    else:\n",
    "        for x,y in zip(predicted, actual):\n",
    "            if x != y:\n",
    "                error = error + 1\n",
    "    error_rate = error/len(actual)\n",
    "    return error_rate "
   ]
  },
  {
   "cell_type": "code",
   "execution_count": 36,
   "metadata": {},
   "outputs": [
    {
     "data": {
      "text/plain": [
       "1.0"
      ]
     },
     "execution_count": 36,
     "metadata": {},
     "output_type": "execute_result"
    }
   ],
   "source": [
    "character_error_rate(\"\", \"hat\")"
   ]
  },
  {
   "cell_type": "code",
   "execution_count": 37,
   "metadata": {},
   "outputs": [],
   "source": [
    "assert character_error_rate(\"cat\", \"cat\") == 0\n",
    "assert np.isclose(character_error_rate(\"cat\", \"hat\"), 1/3)\n",
    "assert np.isclose(character_error_rate(\"car\", \"hat\"), 2/3)\n",
    "assert np.isclose(character_error_rate(\"\", \"hat\"), 1)"
   ]
  },
  {
   "cell_type": "code",
   "execution_count": 38,
   "metadata": {},
   "outputs": [],
   "source": [
    "def evaluate_metrics(predicted_labels: List[str], actual_labels: List[str])-> None: \n",
    "    \"\"\"Calculate and report evaluation metrics.\"\"\"\n",
    "    accuracy = np.mean([p == a for (p, a) in zip(predicted_labels, actual_labels)])\n",
    "    print(\"accuracy: {:.3f}\".format(accuracy))\n",
    "    cer = np.mean([character_error_rate(p, a) for (p, a) in zip(predicted_labels, actual_labels)])\n",
    "    print(\"cer: {:.3f}\".format(cer))"
   ]
  },
  {
   "cell_type": "markdown",
   "metadata": {},
   "source": [
    "## Establishing a human baseline\n",
    "\n",
    "In machine learning, it almost always pays to establish a human baseline: how well could you, yourself, do at the task?  \n",
    "\n",
    "Human baselines are helpful for two reasons.  First, they can help you to realize what a realistic performance goal looks like.  Often datasets will contain irreducible error--cases where it's not realistic to expect any algorithm or person to classify an instance correctly--such as when a voice is faint and drowned out by static.  With such data, the realistic ceiling on accuracy might be lower than 100%.  (\n",
    "\n",
    "The second reason that baselines are helpful is simply that they force you to explore the data manually, and this can often lead to insights that are harder to come by when your data is simply a row in a dataframe."
   ]
  },
  {
   "cell_type": "code",
   "execution_count": 39,
   "metadata": {},
   "outputs": [],
   "source": [
    "predictions = []\n",
    "ground_truth = []"
   ]
  },
  {
   "cell_type": "markdown",
   "metadata": {},
   "source": [
    "### Baseline Harness\n",
    "Run the two cells below a few times (say, 50) in order to establish a feel for what human performance looks like on this task.  Please listen to each recording _only once_ in order make a fair comparison.  Don't go back and listen again!\n",
    "\n",
    "(Reminder: you can evaluate cells with Shift + Enter and navigate with the arrow keys.)"
   ]
  },
  {
   "cell_type": "code",
   "execution_count": 130,
   "metadata": {},
   "outputs": [
    {
     "data": {
      "text/plain": [
       "'C:\\\\Users\\\\shunl\\\\datadev\\\\b0bad4a9_nohash_0_bed.wav'"
      ]
     },
     "execution_count": 130,
     "metadata": {},
     "output_type": "execute_result"
    }
   ],
   "source": [
    "fname"
   ]
  },
  {
   "cell_type": "code",
   "execution_count": 40,
   "metadata": {},
   "outputs": [
    {
     "data": {
      "text/html": [
       "\n",
       "                <audio  controls=\"controls\" autoplay=\"autoplay\">\n",
       "                    <source src=\"data:audio/wav;base64,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\" type=\"audio/wav\" />\n",
       "                    Your browser does not support the audio element.\n",
       "                </audio>\n",
       "              "
      ],
      "text/plain": [
       "<IPython.lib.display.Audio object>"
      ]
     },
     "execution_count": 40,
     "metadata": {},
     "output_type": "execute_result"
    }
   ],
   "source": [
    "fname, label = random.choice(list(zip(dev_filenames, dev_labels)))\n",
    "Audio(fname, autoplay=True)"
   ]
  },
  {
   "cell_type": "code",
   "execution_count": 232,
   "metadata": {},
   "outputs": [
    {
     "name": "stdout",
     "output_type": "stream",
     "text": [
      "<what did you hear?>right\n",
      "ground truth: right\n",
      "percent correct: 0.8\n",
      "trials: 50\n"
     ]
    }
   ],
   "source": [
    "predicted = input(\"<what did you hear?>\")\n",
    "\n",
    "predictions.append(predicted)\n",
    "ground_truth.append(label)\n",
    "\n",
    "print(\"ground truth:\", label)\n",
    "print(\"percent correct:\", np.mean(np.array(predictions) == np.array(ground_truth)))\n",
    "print(\"trials:\", len(predictions))"
   ]
  },
  {
   "cell_type": "markdown",
   "metadata": {},
   "source": [
    "### End Baseline Harness"
   ]
  },
  {
   "cell_type": "markdown",
   "metadata": {},
   "source": [
    "I personally found it difficult to consistently exceed 95% due to audio quality issues. How'd you do?"
   ]
  },
  {
   "cell_type": "markdown",
   "metadata": {},
   "source": [
    "# your answer\n",
    "* it is very hard to exceed 95% I can only get 80% right"
   ]
  },
  {
   "cell_type": "markdown",
   "metadata": {},
   "source": [
    "## Quartznet\n",
    "\n",
    "We will use an acoustic model architecture called [Quartznet](https://arxiv.org/abs/1910.10261), developed by NVIDIA, in order to interpret the audio.  NVIDIA has made pre-trained models available, so let's take one off the shelf and see how it does."
   ]
  },
  {
   "cell_type": "markdown",
   "metadata": {},
   "source": [
    "(Please politely ignore the scary warning messages from running the cell below. It's fine.)"
   ]
  },
  {
   "cell_type": "code",
   "execution_count": 106,
   "metadata": {},
   "outputs": [
    {
     "name": "stdout",
     "output_type": "stream",
     "text": [
      "[NeMo I 2020-11-27 16:47:13 cloud:56] Found existing object C:\\Users\\shunl\\.cache\\torch\\NeMo\\NeMo_1.0.0b2\\QuartzNet15x5Base-En\\00869f9c89b8393ca3de640e0c536bd2\\QuartzNet15x5Base-En.nemo.\n",
      "[NeMo I 2020-11-27 16:47:13 cloud:62] Re-using file from: C:\\Users\\shunl\\.cache\\torch\\NeMo\\NeMo_1.0.0b2\\QuartzNet15x5Base-En\\00869f9c89b8393ca3de640e0c536bd2\\QuartzNet15x5Base-En.nemo\n",
      "[NeMo I 2020-11-27 16:47:13 common:417] Instantiating model from pre-trained checkpoint\n"
     ]
    },
    {
     "name": "stderr",
     "output_type": "stream",
     "text": [
      "[NeMo W 2020-11-27 16:47:14 nemo_logging:349] C:\\Users\\shunl\\Anaconda3\\lib\\site-packages\\hydra\\_internal\\utils.py:632: UserWarning: \n",
      "    Config key 'cls' is deprecated since Hydra 1.0 and will be removed in Hydra 1.1.\n",
      "    Use '_target_' instead of 'cls'.\n",
      "    See https://hydra.cc/docs/next/upgrades/0.11_to_1.0/object_instantiation_changes\n",
      "      warnings.warn(message=msg, category=UserWarning)\n",
      "    \n",
      "[NeMo W 2020-11-27 16:47:14 nemo_logging:349] C:\\Users\\shunl\\Anaconda3\\lib\\site-packages\\hydra\\_internal\\utils.py:577: UserWarning: \n",
      "    Field 'params' is deprecated since Hydra 1.0 and will be removed in Hydra 1.1.\n",
      "    Inline the content of params directly at the containing node.\n",
      "    See https://hydra.cc/docs/next/upgrades/0.11_to_1.0/object_instantiation_changes\n",
      "      warnings.warn(category=UserWarning, message=msg)\n",
      "    \n"
     ]
    },
    {
     "name": "stdout",
     "output_type": "stream",
     "text": [
      "[NeMo I 2020-11-27 16:47:14 features:241] PADDING: 16\n",
      "[NeMo I 2020-11-27 16:47:14 features:258] STFT using torch\n",
      "[NeMo I 2020-11-27 16:47:15 modelPT:308] Model EncDecCTCModel was successfully restored from C:\\Users\\shunl\\.cache\\torch\\NeMo\\NeMo_1.0.0b2\\QuartzNet15x5Base-En\\00869f9c89b8393ca3de640e0c536bd2\\QuartzNet15x5Base-En.nemo.\n"
     ]
    }
   ],
   "source": [
    "quartznet = nemo_asr.models.EncDecCTCModel.from_pretrained(model_name=\"QuartzNet15x5Base-En\")"
   ]
  },
  {
   "cell_type": "markdown",
   "metadata": {},
   "source": [
    "Let's try running some audio through the acoustic model.  The `transcribe` method accepts a list of filenames as input and returns a list of greedily decoded transcripts, i.e. transcripts generated by selecting the maximum likelihood character of each frame of the matrix and then squashing."
   ]
  },
  {
   "cell_type": "markdown",
   "metadata": {},
   "source": [
    "Let's run the dev files through.  On CPU, this might take about five minutes."
   ]
  },
  {
   "cell_type": "code",
   "execution_count": 234,
   "metadata": {},
   "outputs": [
    {
     "name": "stderr",
     "output_type": "stream",
     "text": [
      "[NeMo W 2020-11-27 03:32:34 nemo_logging:349] C:\\Users\\shunl\\Anaconda3\\lib\\site-packages\\torch\\functional.py:516: UserWarning: stft will require the return_complex parameter be explicitly  specified in a future PyTorch release. Use return_complex=False  to preserve the current behavior or return_complex=True to return  a complex output. (Triggered internally at  ..\\aten\\src\\ATen\\native\\SpectralOps.cpp:653.)\n",
      "      normalized, onesided, return_complex)\n",
      "    \n",
      "[NeMo W 2020-11-27 03:32:34 nemo_logging:349] C:\\Users\\shunl\\Anaconda3\\lib\\site-packages\\torch\\functional.py:516: UserWarning: The function torch.rfft is deprecated and will be removed in a future PyTorch release. Use the new torch.fft module functions, instead, by importing torch.fft and calling torch.fft.fft or torch.fft.rfft. (Triggered internally at  ..\\aten\\src\\ATen\\native\\SpectralOps.cpp:590.)\n",
      "      normalized, onesided, return_complex)\n",
      "    \n"
     ]
    },
    {
     "name": "stdout",
     "output_type": "stream",
     "text": [
      "Wall time: 20min 48s\n"
     ]
    }
   ],
   "source": [
    "%time greedy_decodings = quartznet.transcribe(dev_filenames)"
   ]
  },
  {
   "cell_type": "code",
   "execution_count": 41,
   "metadata": {},
   "outputs": [],
   "source": [
    "%store -r greedy_decodings"
   ]
  },
  {
   "cell_type": "markdown",
   "metadata": {},
   "source": [
    "Let's take a glance at the results, examining a random sample of decodings and their respective labels:"
   ]
  },
  {
   "cell_type": "code",
   "execution_count": 42,
   "metadata": {},
   "outputs": [
    {
     "name": "stdout",
     "output_type": "stream",
     "text": [
      "Label\tPrediction\n",
      "two\ttwo\n",
      "yes\tyes\n",
      "down\tno\n",
      "on\tho on\n",
      "happy\thappy\n",
      "cat\tcat\n",
      "up\tup\n",
      "six\tsix\n",
      "bed\tbed\n",
      "two\ttwo\n"
     ]
    }
   ],
   "source": [
    "random.seed(\"MIT\")\n",
    "labels_and_decodings = list(zip(dev_labels, greedy_decodings))\n",
    "random_sample = [random.choice(labels_and_decodings) for _ in range(10)]\n",
    "\n",
    "print(\"Label\\tPrediction\")\n",
    "for expected, actual in random_sample:\n",
    "    print(\"{}\\t{}\".format(expected, actual))"
   ]
  },
  {
   "cell_type": "markdown",
   "metadata": {},
   "source": [
    "What can we conclude from this?\n",
    "\n",
    "We can see that our approach is basically on track (we're getting output, the output basically corresponds to the label, the output varies in a way that makes sense given the label, &c.). But we can also see that there's room for improvement.  Some of our predictions are wrong, and one of our predictions is not even an English word!"
   ]
  },
  {
   "cell_type": "markdown",
   "metadata": {},
   "source": [
    "### Greedy Decoding Evaluation"
   ]
  },
  {
   "cell_type": "markdown",
   "metadata": {},
   "source": [
    "Let's now compute our metrics for the full dataset:"
   ]
  },
  {
   "cell_type": "code",
   "execution_count": 101,
   "metadata": {},
   "outputs": [],
   "source": [
    "def eval_decodings (predict, actual):\n",
    "    mistake = [(label, decoding) for (label, decoding) in zip(actual, predict) if label != decoding]\n",
    "    len_mistake = len(mistake)\n",
    "    return 1 - len_mistake/len(actual)"
   ]
  },
  {
   "cell_type": "code",
   "execution_count": 102,
   "metadata": {
    "scrolled": true
   },
   "outputs": [
    {
     "data": {
      "text/plain": [
       "0.6935357645953983"
      ]
     },
     "execution_count": 102,
     "metadata": {},
     "output_type": "execute_result"
    }
   ],
   "source": [
    "eval_decodings(greedy_decodings, dev_labels)"
   ]
  },
  {
   "cell_type": "markdown",
   "metadata": {},
   "source": [
    "Our first model achieves an accuracy of about 70%.  Not bad, but could we do any better?"
   ]
  },
  {
   "cell_type": "markdown",
   "metadata": {},
   "source": [
    "## Fixed Up Greedy Decoding"
   ]
  },
  {
   "cell_type": "markdown",
   "metadata": {},
   "source": [
    "To start thinking about how to improve this model, let's look at some of our errors:"
   ]
  },
  {
   "cell_type": "code",
   "execution_count": 48,
   "metadata": {},
   "outputs": [
    {
     "data": {
      "text/plain": [
       "[('eight', 'ate'),\n",
       " ('two', 'som'),\n",
       " ('off', 'oah'),\n",
       " ('cat', \"can't\"),\n",
       " ('off', 'ol'),\n",
       " ('up', ''),\n",
       " ('on', 'an'),\n",
       " ('sheila', 'see you ra'),\n",
       " ('nine', 'n'),\n",
       " ('off', 'eat'),\n",
       " ('off', 'lorh'),\n",
       " ('zero', 'cero'),\n",
       " ('bird', 'bar'),\n",
       " ('marvin', 'marbin'),\n",
       " ('sheila', 'seila'),\n",
       " ('five', 'fine'),\n",
       " ('tree', 'three'),\n",
       " ('tree', 'sure'),\n",
       " ('three', 'free'),\n",
       " ('go', '')]"
      ]
     },
     "execution_count": 48,
     "metadata": {},
     "output_type": "execute_result"
    }
   ],
   "source": [
    "mistakes = [(label, decoding) for (label, decoding) in zip(dev_labels, greedy_decodings) if label != decoding]\n",
    "[random.choice(mistakes) for _ in range(20)]"
   ]
  },
  {
   "cell_type": "markdown",
   "metadata": {},
   "source": [
    "We can see that often (but not always!), the output is close to the correct label.  In the context of a speech classification task, our model is at a disadvantage: decoding can return arbitrary text, even though the correct answer is always constrained to be in a small set of vocabulary words.  If we took the simple step of matching the greedy decoding to the closest vocab word and returned that instead, could we improve our performance?"
   ]
  },
  {
   "cell_type": "markdown",
   "metadata": {},
   "source": [
    "Let's write a function that accepts a string and returns the closest string in the vocabulary, according to CER."
   ]
  },
  {
   "cell_type": "code",
   "execution_count": 78,
   "metadata": {},
   "outputs": [],
   "source": [
    "LABELS = sorted(df.label.unique())\n",
    "\n",
    "def postprocess_transcription(transcription: str) -> str:\n",
    "    \"\"\"Find the closest label to a given string.\"\"\"\n",
    "    cers = [character_error_rate(transcription, label) for label in LABELS]\n",
    "    # return the label of the index with the lowest CER\n",
    "    # your code here\n",
    "    return LABELS[cers.index(min(cers))]"
   ]
  },
  {
   "cell_type": "code",
   "execution_count": 99,
   "metadata": {},
   "outputs": [
    {
     "data": {
      "text/plain": [
       "'tree'"
      ]
     },
     "execution_count": 99,
     "metadata": {},
     "output_type": "execute_result"
    }
   ],
   "source": [
    "postprocess_transcription('then')"
   ]
  },
  {
   "cell_type": "code",
   "execution_count": 95,
   "metadata": {},
   "outputs": [
    {
     "data": {
      "text/plain": [
       "['bud',\n",
       " 'bed',\n",
       " 'bed',\n",
       " 'bed',\n",
       " 'bad',\n",
       " 'bed',\n",
       " 'bad',\n",
       " 'bad',\n",
       " 'good',\n",
       " 'bad',\n",
       " 'bad',\n",
       " 'bed',\n",
       " 'bed',\n",
       " 'bad',\n",
       " 'bed',\n",
       " 'bed',\n",
       " 'bad',\n",
       " 'bed',\n",
       " 'bed',\n",
       " 'bet',\n",
       " 'ead',\n",
       " 'bed',\n",
       " 't',\n",
       " 'but',\n",
       " 'bed',\n",
       " 'bed',\n",
       " 'bed',\n",
       " 'bed',\n",
       " 'bed',\n",
       " 'bid',\n",
       " 'bed',\n",
       " 'bead',\n",
       " 'bad',\n",
       " 'bad',\n",
       " 'bad',\n",
       " '',\n",
       " 'bed',\n",
       " 'bad',\n",
       " 'bed',\n",
       " 'then',\n",
       " 'bed',\n",
       " 'bed',\n",
       " 'bed',\n",
       " 'bed',\n",
       " 'bead',\n",
       " 'bed',\n",
       " 'bed',\n",
       " 'bad',\n",
       " 'bad',\n",
       " 'bed',\n",
       " 'gead',\n",
       " 'bed',\n",
       " 'ten',\n",
       " 'but',\n",
       " 'bed',\n",
       " 'bed',\n",
       " 'bedr',\n",
       " 'but',\n",
       " 'bad',\n",
       " 'bad',\n",
       " 'bed',\n",
       " 'then',\n",
       " 'bed',\n",
       " 'bet',\n",
       " 'bed',\n",
       " 'bed',\n",
       " 'bet',\n",
       " 'bed',\n",
       " 'bed',\n",
       " 'but',\n",
       " 'dead',\n",
       " 'bed',\n",
       " 'bed',\n",
       " 'bed',\n",
       " 'bed',\n",
       " 'bed',\n",
       " 'bead',\n",
       " 'bad',\n",
       " 'bed',\n",
       " 'bead',\n",
       " 'bed',\n",
       " 'bud',\n",
       " 'bed',\n",
       " 'bed',\n",
       " 'bed',\n",
       " 'bed',\n",
       " 'dead',\n",
       " 'pad',\n",
       " 'bed',\n",
       " 'red',\n",
       " 'bed',\n",
       " 'gooead',\n",
       " 'ben',\n",
       " 'qad',\n",
       " 'bud',\n",
       " 'but',\n",
       " 'bed',\n",
       " 'bed',\n",
       " 'bed',\n",
       " 'good',\n",
       " 'bed',\n",
       " 'bed',\n",
       " 'ed',\n",
       " 'bad',\n",
       " 'bad',\n",
       " 'ood',\n",
       " 'bed',\n",
       " 'then',\n",
       " 'bad',\n",
       " 'bed',\n",
       " 'bad',\n",
       " 'ded',\n",
       " 'bed',\n",
       " 'boo',\n",
       " 'bed',\n",
       " 'bed',\n",
       " 'dead',\n",
       " 'bed',\n",
       " 'bed',\n",
       " 'then',\n",
       " 'bed',\n",
       " 'bed',\n",
       " 'bed',\n",
       " 'good',\n",
       " 'bed',\n",
       " 'bed',\n",
       " 'i',\n",
       " 'gad',\n",
       " 'bet',\n",
       " 'bed',\n",
       " 'bed',\n",
       " 'bed',\n",
       " 'bed',\n",
       " 'bed',\n",
       " 'bed',\n",
       " 'bed',\n",
       " 'paid',\n",
       " 'bad',\n",
       " 'but',\n",
       " 'bead',\n",
       " 'bel',\n",
       " 'bed',\n",
       " 'bed',\n",
       " 'bed',\n",
       " 'bed',\n",
       " 'bed',\n",
       " 'bad',\n",
       " 'bed',\n",
       " 'bed',\n",
       " 'bed',\n",
       " 'bud',\n",
       " 'be',\n",
       " 'bad',\n",
       " 'then',\n",
       " 'bird',\n",
       " 'bird',\n",
       " 'bird',\n",
       " 'bon',\n",
       " 'giod',\n",
       " 'murd',\n",
       " '',\n",
       " 'o',\n",
       " 'bird',\n",
       " 'bird',\n",
       " '',\n",
       " 'but',\n",
       " 'arred',\n",
       " 'bird',\n",
       " 'bird',\n",
       " 'g',\n",
       " 'berd',\n",
       " 'ber',\n",
       " 'bird',\n",
       " 'nor',\n",
       " 'bird',\n",
       " 'bird',\n",
       " 'barry',\n",
       " 'bird',\n",
       " 'bird',\n",
       " 'bird',\n",
       " 'bird',\n",
       " 'third',\n",
       " 'bur',\n",
       " 'erd',\n",
       " 'bird',\n",
       " 'tod',\n",
       " 'bird',\n",
       " 'bird',\n",
       " 'bird',\n",
       " 'er',\n",
       " 'bird',\n",
       " 'bird',\n",
       " 'bird',\n",
       " 'bird',\n",
       " 'bird',\n",
       " 'ar',\n",
       " 'ded',\n",
       " 'dird',\n",
       " 'bird',\n",
       " 'bird',\n",
       " 'eret',\n",
       " 'bird',\n",
       " 'o',\n",
       " 'berr',\n",
       " 'bar',\n",
       " 'an',\n",
       " 'bird',\n",
       " 'burned',\n",
       " 'bird',\n",
       " 'bird',\n",
       " 'bird',\n",
       " 'herd',\n",
       " 'oo',\n",
       " 'hird',\n",
       " 'bird',\n",
       " 'where',\n",
       " 'bird',\n",
       " 'bird',\n",
       " 'but',\n",
       " 'bird',\n",
       " 'bird',\n",
       " 'bird',\n",
       " 'bird',\n",
       " 'bird',\n",
       " 'bird',\n",
       " 'notd',\n",
       " 'ut',\n",
       " 'node',\n",
       " 'bird',\n",
       " 'berg',\n",
       " 'bird',\n",
       " 'bird',\n",
       " 'third',\n",
       " 'bird',\n",
       " 'bird',\n",
       " 'do',\n",
       " 'hird',\n",
       " 'bird',\n",
       " 'bird',\n",
       " 'bird',\n",
       " 'byr',\n",
       " 'bird',\n",
       " 'bag',\n",
       " 'burg',\n",
       " 'don',\n",
       " 'bird',\n",
       " 'ber',\n",
       " '',\n",
       " 'bird',\n",
       " 'bird',\n",
       " 'bird',\n",
       " 'right',\n",
       " 'burn',\n",
       " 'bird',\n",
       " 'bird',\n",
       " 'biri',\n",
       " 'or',\n",
       " 'bir',\n",
       " 'bird',\n",
       " '',\n",
       " 'bird',\n",
       " 'bird',\n",
       " 'hird',\n",
       " 'bird',\n",
       " 'bird',\n",
       " 'harry',\n",
       " 'bird',\n",
       " 'bird',\n",
       " 'berg',\n",
       " 'burn',\n",
       " 'bird',\n",
       " 'm',\n",
       " 'fird',\n",
       " 'bird',\n",
       " 'hine',\n",
       " 'bird',\n",
       " 'burned',\n",
       " 'bird',\n",
       " 'bird',\n",
       " 'bird',\n",
       " 'bird',\n",
       " 'bird',\n",
       " 'urred',\n",
       " 'mirt',\n",
       " 'bernd',\n",
       " 'bird',\n",
       " 'bird',\n",
       " 'birn',\n",
       " 'er',\n",
       " 'dirr',\n",
       " 'bird',\n",
       " 'bord',\n",
       " 'and',\n",
       " 'bird',\n",
       " 'bird',\n",
       " 'tord',\n",
       " 'oh',\n",
       " 'bord',\n",
       " 'bord',\n",
       " 'bird',\n",
       " 'bird',\n",
       " 'bird',\n",
       " 'bir',\n",
       " 'bar',\n",
       " 'bird',\n",
       " 'bird',\n",
       " 'bird',\n",
       " 'bird',\n",
       " 'bird',\n",
       " 'bird',\n",
       " 'burge',\n",
       " 'bird',\n",
       " 'bird',\n",
       " 'bird',\n",
       " 'burg',\n",
       " 'bird',\n",
       " 'birg',\n",
       " 'third',\n",
       " 'goodo',\n",
       " 'bird',\n",
       " 'bird',\n",
       " 'bird',\n",
       " 'bird',\n",
       " 'cat',\n",
       " 'cat',\n",
       " '',\n",
       " 'cat',\n",
       " 'cat',\n",
       " 'ten',\n",
       " 'can',\n",
       " 'car',\n",
       " 'cat',\n",
       " 'cat',\n",
       " 'cet',\n",
       " 'cat',\n",
       " 'cat',\n",
       " 'cat',\n",
       " 'cant',\n",
       " 'curt',\n",
       " \"can't\",\n",
       " 'cat',\n",
       " 'okay',\n",
       " '',\n",
       " 'cat',\n",
       " 'cat',\n",
       " 'yea',\n",
       " \"cam'\",\n",
       " 'gad',\n",
       " 'tut',\n",
       " 'cat',\n",
       " 'go',\n",
       " 'cat',\n",
       " 'hm',\n",
       " 'do',\n",
       " 'cat',\n",
       " 'cat',\n",
       " 'cat',\n",
       " 'cat',\n",
       " 'scared',\n",
       " 'cat',\n",
       " 'cat',\n",
       " 'cat',\n",
       " 'cat',\n",
       " 'care',\n",
       " 'cat',\n",
       " 'cat',\n",
       " 'cat',\n",
       " 'cat',\n",
       " '',\n",
       " 'cant',\n",
       " 'cat',\n",
       " 'cat',\n",
       " 'yet',\n",
       " 'cat',\n",
       " '',\n",
       " 'cat',\n",
       " 'cap',\n",
       " 'cat',\n",
       " 'cat',\n",
       " 'cad',\n",
       " 'can',\n",
       " 'cat',\n",
       " 'cab',\n",
       " 'cat',\n",
       " 'cat',\n",
       " 'cat',\n",
       " 'con',\n",
       " 'ket',\n",
       " 'cat',\n",
       " 'goo',\n",
       " 'cat',\n",
       " 'ket',\n",
       " 'cat',\n",
       " 'cat',\n",
       " 'cat',\n",
       " 'ten',\n",
       " 'cat',\n",
       " 'cat',\n",
       " 'cat',\n",
       " 'kat',\n",
       " 'cat',\n",
       " 'cat',\n",
       " 'tenet',\n",
       " 'care',\n",
       " 'cat',\n",
       " 'cat',\n",
       " 'carret',\n",
       " 'cat',\n",
       " 'cat',\n",
       " 'cat',\n",
       " 'cer',\n",
       " 'cat',\n",
       " 'kak',\n",
       " 'cant',\n",
       " 'cat',\n",
       " 'cat',\n",
       " 'cat',\n",
       " 'hartt',\n",
       " 'cat',\n",
       " 'cat',\n",
       " 'cat',\n",
       " 'cat',\n",
       " 'cat',\n",
       " 'cat',\n",
       " 'cat',\n",
       " 'cat',\n",
       " 'car',\n",
       " 'cats',\n",
       " \"can't\",\n",
       " 'cat',\n",
       " 'cat',\n",
       " 'yeah',\n",
       " \"can'\",\n",
       " 'cat',\n",
       " 'cat',\n",
       " 'o',\n",
       " 'cat',\n",
       " 'cap',\n",
       " 'cat',\n",
       " 'ce',\n",
       " 'cat',\n",
       " 'yet',\n",
       " 'tat',\n",
       " 'cut',\n",
       " 'cat',\n",
       " 'cat',\n",
       " 'cat',\n",
       " 'can',\n",
       " 'kat',\n",
       " 'cat',\n",
       " 'can i',\n",
       " 'cap',\n",
       " 'cat',\n",
       " 'car',\n",
       " 'car',\n",
       " 'ten',\n",
       " 'can',\n",
       " 'tat',\n",
       " 'car',\n",
       " 'can',\n",
       " 'cat',\n",
       " 'cat',\n",
       " 'cat',\n",
       " \"can't\",\n",
       " 'cat',\n",
       " 'cat',\n",
       " 'cat',\n",
       " 'cat',\n",
       " 'cat',\n",
       " 'cat',\n",
       " 'cat',\n",
       " 'cat',\n",
       " 'ye',\n",
       " 'cat',\n",
       " 'cat',\n",
       " 'cat',\n",
       " 'cat',\n",
       " \"can't\",\n",
       " 'cat',\n",
       " 'cat',\n",
       " 'ca',\n",
       " 'cat',\n",
       " 'dog',\n",
       " 'dog',\n",
       " 'dog',\n",
       " 'dog',\n",
       " 'dog',\n",
       " 'dog',\n",
       " 'dog',\n",
       " 'dog',\n",
       " 'dog',\n",
       " 'dog',\n",
       " 'dog',\n",
       " 'dog',\n",
       " 'dog',\n",
       " 'doug',\n",
       " 'dog',\n",
       " 'dog',\n",
       " 'dug',\n",
       " 'dog',\n",
       " 'dog',\n",
       " 'dog',\n",
       " 'dog',\n",
       " 'dog',\n",
       " 'dog',\n",
       " 'dog',\n",
       " 'dog',\n",
       " 'dog',\n",
       " 'dog',\n",
       " 'no',\n",
       " 'dot',\n",
       " 'dog',\n",
       " 'dog',\n",
       " 'doug',\n",
       " 'dog',\n",
       " 'dog',\n",
       " 'dog',\n",
       " 'tu',\n",
       " 'dog',\n",
       " 'dog',\n",
       " 'dog',\n",
       " 'dog',\n",
       " 'dun',\n",
       " 'dog',\n",
       " 'dog',\n",
       " 'dog',\n",
       " 'dog',\n",
       " 'dog',\n",
       " 'dog',\n",
       " 'dog',\n",
       " 'dog',\n",
       " 'dog',\n",
       " 'dog',\n",
       " 'dog',\n",
       " 'doc',\n",
       " 'dog',\n",
       " 'dog',\n",
       " 'dog',\n",
       " 'ddog',\n",
       " 'dog',\n",
       " 'dog',\n",
       " 'dark',\n",
       " 'dog',\n",
       " 'dog',\n",
       " 'dog',\n",
       " 'dor',\n",
       " \"don't\",\n",
       " 'dog',\n",
       " 'dog',\n",
       " 'dog',\n",
       " 'dog',\n",
       " 'dog',\n",
       " 'dog',\n",
       " 'dog',\n",
       " 'dog',\n",
       " 'dog',\n",
       " 'dog',\n",
       " 'dog',\n",
       " 'dog',\n",
       " 'dull',\n",
       " 'dog',\n",
       " '',\n",
       " 'dog',\n",
       " 'dog',\n",
       " 'dog',\n",
       " 'dog',\n",
       " 'dog',\n",
       " 'dog',\n",
       " 'deg',\n",
       " 'dog',\n",
       " 'dog',\n",
       " '',\n",
       " 'dog',\n",
       " 'dog',\n",
       " 'dog',\n",
       " 'dog',\n",
       " 'dog',\n",
       " 'doub',\n",
       " 'dumb',\n",
       " 'bed',\n",
       " 'oh',\n",
       " 'dog',\n",
       " 'dog',\n",
       " 'dog',\n",
       " 'dog',\n",
       " 'og',\n",
       " 'dog',\n",
       " 'dog',\n",
       " 'dog',\n",
       " 'dog',\n",
       " 'dog',\n",
       " 'dog',\n",
       " 'dog',\n",
       " 'dog',\n",
       " 'dog',\n",
       " 'dog',\n",
       " 'dog',\n",
       " 'dog',\n",
       " 'dog',\n",
       " 'dog',\n",
       " 'dog',\n",
       " 'dog',\n",
       " 'dog',\n",
       " 'dog',\n",
       " 'dog',\n",
       " 'dog',\n",
       " 'dog',\n",
       " 'dog',\n",
       " 'dog',\n",
       " 'doug',\n",
       " 'go on',\n",
       " 'dog',\n",
       " 'dog',\n",
       " 'dog',\n",
       " 'dog',\n",
       " 'dog',\n",
       " 'dog',\n",
       " 'beg',\n",
       " 'tall',\n",
       " \"don't\",\n",
       " 'dog',\n",
       " 'dog',\n",
       " 'dog',\n",
       " 'dor',\n",
       " 'dog',\n",
       " 'dog',\n",
       " 'dog',\n",
       " 'dog',\n",
       " 'tog',\n",
       " 'dog',\n",
       " 'dog',\n",
       " 'dog',\n",
       " 'no',\n",
       " 'dog',\n",
       " 'dog',\n",
       " 'dog',\n",
       " 'dog',\n",
       " 'dog',\n",
       " 'dog',\n",
       " 'dog',\n",
       " '',\n",
       " 'dog',\n",
       " 'down',\n",
       " 'down',\n",
       " 'down',\n",
       " 'down',\n",
       " 'down',\n",
       " 'down',\n",
       " 'down',\n",
       " 'down',\n",
       " 'down',\n",
       " 'down',\n",
       " 'down',\n",
       " 'down',\n",
       " 'down',\n",
       " 'down',\n",
       " 'down',\n",
       " 'dowmn',\n",
       " 'down',\n",
       " 'down',\n",
       " '',\n",
       " 'down',\n",
       " 'down',\n",
       " 'domn',\n",
       " 'down',\n",
       " 'down',\n",
       " 'down',\n",
       " 'down',\n",
       " 'down',\n",
       " 'down',\n",
       " 'down',\n",
       " 'down',\n",
       " 'down',\n",
       " 'down',\n",
       " 'down',\n",
       " 'down',\n",
       " 'down',\n",
       " 'down',\n",
       " 'down',\n",
       " 'down',\n",
       " 'done',\n",
       " 'down',\n",
       " 'down',\n",
       " 'down',\n",
       " 'down',\n",
       " 'down',\n",
       " 'dowmb',\n",
       " '',\n",
       " 'down',\n",
       " 'down',\n",
       " 'down',\n",
       " 'down',\n",
       " 'down',\n",
       " 'down',\n",
       " 'down',\n",
       " 'down',\n",
       " 'down',\n",
       " 'down',\n",
       " 'down',\n",
       " 'down',\n",
       " 'down',\n",
       " 'now',\n",
       " 'down',\n",
       " 'your on',\n",
       " 'down',\n",
       " 'down',\n",
       " 'don',\n",
       " 'gown',\n",
       " 'down',\n",
       " 'down',\n",
       " 'down',\n",
       " 'down',\n",
       " 'down',\n",
       " 'down',\n",
       " 'damn',\n",
       " 'down',\n",
       " 'down',\n",
       " 'no',\n",
       " 'tob',\n",
       " 'down',\n",
       " 'down',\n",
       " 'down',\n",
       " 'then',\n",
       " 'down',\n",
       " 'down',\n",
       " 'down',\n",
       " 'down',\n",
       " 'down',\n",
       " 'down',\n",
       " 'down',\n",
       " 'down',\n",
       " 'down',\n",
       " 'down',\n",
       " 'down',\n",
       " 'down',\n",
       " 'down',\n",
       " 'down',\n",
       " 'dono',\n",
       " 'down',\n",
       " \"don'\",\n",
       " 'down',\n",
       " 'down',\n",
       " 'down',\n",
       " 'daln',\n",
       " 'down',\n",
       " 'down',\n",
       " 'down',\n",
       " 'down',\n",
       " 'down',\n",
       " 'down',\n",
       " 'down',\n",
       " 'down',\n",
       " 'own',\n",
       " 'down',\n",
       " 'down',\n",
       " 'down',\n",
       " 'down',\n",
       " 'down',\n",
       " 'down',\n",
       " 'down',\n",
       " 'down',\n",
       " 'down',\n",
       " 'down',\n",
       " 'down',\n",
       " 'down',\n",
       " 'down',\n",
       " 'down',\n",
       " 'down',\n",
       " 'down',\n",
       " 'down',\n",
       " 'down',\n",
       " 'down',\n",
       " 'down',\n",
       " 'down',\n",
       " 'down',\n",
       " 'down',\n",
       " 'down',\n",
       " 'down',\n",
       " 'now',\n",
       " 'down',\n",
       " 'down',\n",
       " 'down',\n",
       " 'down',\n",
       " 'down',\n",
       " 'down',\n",
       " 'down',\n",
       " 'down',\n",
       " 'down',\n",
       " 'down',\n",
       " 'down',\n",
       " 'down',\n",
       " 'down',\n",
       " 'down',\n",
       " 'dow',\n",
       " 'down',\n",
       " 'don',\n",
       " 'down',\n",
       " 'down',\n",
       " 'down',\n",
       " 'down',\n",
       " 'da',\n",
       " 'down',\n",
       " 'down',\n",
       " 'down',\n",
       " 'down',\n",
       " 'down',\n",
       " 'down',\n",
       " 'down',\n",
       " '',\n",
       " '',\n",
       " 'down',\n",
       " 'down',\n",
       " 'down',\n",
       " 'down',\n",
       " 'down',\n",
       " 'down',\n",
       " 'down',\n",
       " 'gon',\n",
       " 'down',\n",
       " 'down',\n",
       " 'down',\n",
       " 'down',\n",
       " 'down',\n",
       " \"down't\",\n",
       " 'down',\n",
       " \"don't e\",\n",
       " 'down',\n",
       " 'down',\n",
       " 'down',\n",
       " 'down',\n",
       " 'down',\n",
       " 'down',\n",
       " 'down',\n",
       " 'down',\n",
       " 'down',\n",
       " 'down',\n",
       " 'down',\n",
       " 'down',\n",
       " 'down',\n",
       " 'down',\n",
       " 'down',\n",
       " 'down',\n",
       " 'down',\n",
       " 'down',\n",
       " 'down',\n",
       " 'down',\n",
       " 'down',\n",
       " 'down',\n",
       " 'down',\n",
       " 'down',\n",
       " 'down',\n",
       " 'down',\n",
       " 'oyou ne',\n",
       " 'ow',\n",
       " 'down',\n",
       " 'don',\n",
       " 'down',\n",
       " 'down',\n",
       " 'down',\n",
       " 'down',\n",
       " 'down',\n",
       " 'down',\n",
       " 'down',\n",
       " '',\n",
       " '',\n",
       " 'down',\n",
       " 'down',\n",
       " 'dali',\n",
       " 'down',\n",
       " 'down',\n",
       " 'down',\n",
       " 'don',\n",
       " 'down',\n",
       " 'down',\n",
       " 'down',\n",
       " 'down',\n",
       " 'down',\n",
       " 'down',\n",
       " 'dow',\n",
       " 'no',\n",
       " 'down',\n",
       " 'down',\n",
       " 'domn',\n",
       " 'de',\n",
       " 'down',\n",
       " 'down',\n",
       " 'e',\n",
       " 'eight',\n",
       " 'eight',\n",
       " 'eight',\n",
       " 'eight',\n",
       " 'eight',\n",
       " 'eigt',\n",
       " 'eight',\n",
       " 'eight',\n",
       " 'eight',\n",
       " 'eight',\n",
       " 'echg',\n",
       " 'eight',\n",
       " 'eight',\n",
       " 'eight',\n",
       " 'eight',\n",
       " 'eight',\n",
       " 'eigh',\n",
       " 'eight',\n",
       " 'eight',\n",
       " 'eig',\n",
       " 'eight',\n",
       " 'eight',\n",
       " 'eig',\n",
       " 'ah',\n",
       " 'eight',\n",
       " 'eight',\n",
       " 'eight',\n",
       " 'eight',\n",
       " 'eit',\n",
       " 'bet',\n",
       " 'tho eight',\n",
       " 'ey',\n",
       " 'eight',\n",
       " 'hey',\n",
       " 'eight',\n",
       " 'eight',\n",
       " 'ain',\n",
       " '',\n",
       " 'hey',\n",
       " 'eigh',\n",
       " 'eight',\n",
       " 'eg',\n",
       " 'yet',\n",
       " 'eight',\n",
       " 'hey',\n",
       " 'eight',\n",
       " 'eight',\n",
       " 'eight',\n",
       " 'eight',\n",
       " 'eight',\n",
       " 'eight',\n",
       " 'eight',\n",
       " 'eight',\n",
       " 'eight',\n",
       " 'eight',\n",
       " 'eight',\n",
       " '',\n",
       " 'eight',\n",
       " 'eight',\n",
       " 'eigh',\n",
       " 'eight',\n",
       " 'o i',\n",
       " 'en',\n",
       " 'eight',\n",
       " 'eight',\n",
       " 'eight',\n",
       " 'eight',\n",
       " 'eight',\n",
       " 'ay',\n",
       " 'hey',\n",
       " 'eight',\n",
       " 'eight',\n",
       " 'ad',\n",
       " 'eight',\n",
       " '',\n",
       " 'ey',\n",
       " 'eight',\n",
       " 'ate',\n",
       " 'do',\n",
       " 'eight',\n",
       " 'eight',\n",
       " 'eight',\n",
       " 'eight',\n",
       " 'fate',\n",
       " 'a',\n",
       " 'a',\n",
       " 'eight',\n",
       " 'eight',\n",
       " 'eight',\n",
       " 'eight',\n",
       " 'eight',\n",
       " 'eight',\n",
       " 'eight',\n",
       " 'beg',\n",
       " 'eight',\n",
       " 'eight',\n",
       " 'eight',\n",
       " 'eight',\n",
       " 'eight',\n",
       " 'eight',\n",
       " 'eight',\n",
       " 'et',\n",
       " 'eight',\n",
       " 'eight',\n",
       " 'eh',\n",
       " 'eight',\n",
       " 'eight',\n",
       " 'eight',\n",
       " 'eig',\n",
       " 'late',\n",
       " 'eight',\n",
       " 'ey',\n",
       " 'eight',\n",
       " ...]"
      ]
     },
     "execution_count": 95,
     "metadata": {},
     "output_type": "execute_result"
    }
   ],
   "source": [
    "greedy_decodings"
   ]
  },
  {
   "cell_type": "code",
   "execution_count": 82,
   "metadata": {},
   "outputs": [
    {
     "data": {
      "text/plain": [
       "[('zero', 'nine'),\n",
       " ('on', 'go'),\n",
       " ('off', 'on'),\n",
       " ('zero', 'three'),\n",
       " ('three', 'bed'),\n",
       " ('up', 'on'),\n",
       " ('one', 'on'),\n",
       " ('stop', 'bed'),\n",
       " ('seven', 'marvin'),\n",
       " ('tree', 'bed'),\n",
       " ('left', 'six'),\n",
       " ('tree', 'three'),\n",
       " ('five', 'bed'),\n",
       " ('nine', 'eight'),\n",
       " ('up', 'on'),\n",
       " ('six', 'eight'),\n",
       " ('off', 'cat'),\n",
       " ('happy', 'bed'),\n",
       " ('house', 'on'),\n",
       " ('one', 'on')]"
      ]
     },
     "execution_count": 82,
     "metadata": {},
     "output_type": "execute_result"
    }
   ],
   "source": [
    "mistakes = [(label, decoding) for (label, decoding) in zip(dev_labels, fixed_greedy_decodings) if label != decoding]\n",
    "[random.choice(mistakes) for _ in range(20)]"
   ]
  },
  {
   "cell_type": "code",
   "execution_count": 85,
   "metadata": {},
   "outputs": [],
   "source": [
    "fixed_greedy_decodings = [postprocess_transcription(gd) for gd in greedy_decodings]"
   ]
  },
  {
   "cell_type": "markdown",
   "metadata": {},
   "source": [
    "### Fixed up Greedy Decoding Evaluation"
   ]
  },
  {
   "cell_type": "code",
   "execution_count": 103,
   "metadata": {},
   "outputs": [
    {
     "data": {
      "text/plain": [
       "0.7750821724839568"
      ]
     },
     "execution_count": 103,
     "metadata": {},
     "output_type": "execute_result"
    }
   ],
   "source": [
    "eval_decodings(fixed_greedy_decodings, dev_labels)"
   ]
  },
  {
   "cell_type": "markdown",
   "metadata": {},
   "source": [
    "Right off the bat we get a >10% improvement in accuracy, just by constraining our output to be in the original vocabulary."
   ]
  },
  {
   "cell_type": "markdown",
   "metadata": {},
   "source": [
    "## Beam Search Decoding"
   ]
  },
  {
   "cell_type": "markdown",
   "metadata": {},
   "source": [
    "So far we have simply taken the MLE decoding of the acoustic model output.  Let's see if we can improve our results by doing a proper beam search over acoustic model results."
   ]
  },
  {
   "cell_type": "code",
   "execution_count": 107,
   "metadata": {},
   "outputs": [],
   "source": [
    "# The following code is gently lifted from the quartznet source \n",
    "# so that we can reach into the guts of the inference code and \n",
    "# pull out some logit matrices before they're decoded.\n",
    "\n",
    "# Feel free to ignore this.\n",
    "\n",
    "# The important thing to keep track of is the API for this function:\n",
    "# get_log_probs accepts a list of filenames as input, \n",
    "# and returns a list of log_probability matrices of shape:\n",
    "# 1 x TIMESTEPS X ALPHABET_SIZE.\n",
    "\n",
    "# In principle the first dimension could be disregarded and a 2-D tensor\n",
    "# returned instead, but our downstream decoder will expect a 3-D tensor, so we keep it.\n",
    "\n",
    "@torch.no_grad()\n",
    "def get_log_probs(self, paths2audio_files: List[str], batch_size: int = 4) -> [torch.Tensor]:\n",
    "    \"\"\"\n",
    "    Uses greedy decoding to transcribe audio files. Use this method for debugging and prototyping.\n",
    "\n",
    "    Args:\n",
    "\n",
    "        paths2audio_files: (a list) of paths to audio files. \\\n",
    "    Recommended length per file is between 5 and 25 seconds. \\\n",
    "    But it is possible to pass a few hours long file if enough GPU memory is available.\n",
    "        batch_size: (int) batch size to use during inference. \\\n",
    "    Bigger will result in better throughput performance but would use more memory.\n",
    "\n",
    "    Returns:\n",
    "\n",
    "        A list of transcriptions in the same order as paths2audio_files\n",
    "    \"\"\"\n",
    "    if paths2audio_files is None or len(paths2audio_files) == 0:\n",
    "        return {}\n",
    "    # We will store transcriptions here\n",
    "    hypotheses = []\n",
    "    # Model's mode and device\n",
    "    mode = self.training\n",
    "    device = next(self.parameters()).device\n",
    "    batch_outputs = []\n",
    "    try:\n",
    "        # Switch model to evaluation mode\n",
    "        self.eval()\n",
    "        # Work in tmp directory - will store manifest file there\n",
    "        with tempfile.TemporaryDirectory() as tmpdir:\n",
    "            with open(os.path.join(tmpdir, 'manifest.json'), 'w') as fp:\n",
    "                for audio_file in paths2audio_files:\n",
    "                    entry = {'audio_filepath': audio_file, 'duration': 100000, 'text': 'nothing'}\n",
    "                    fp.write(json.dumps(entry) + '\\n')\n",
    "\n",
    "            config = {'paths2audio_files': paths2audio_files, 'batch_size': batch_size, 'temp_dir': tmpdir}\n",
    "\n",
    "            temporary_datalayer = self._setup_transcribe_dataloader(config)\n",
    "            for test_batch in tqdm(temporary_datalayer):\n",
    "                log_probs, encoded_len, greedy_predictions = self.forward(\n",
    "                    input_signal=test_batch[0].to(device), input_signal_length=test_batch[1].to(device)\n",
    "                )\n",
    "                for i in range(log_probs.shape[0]):\n",
    "                    batch_outputs.append(log_probs[i:i+1, :encoded_len[i], :])\n",
    "                del test_batch\n",
    "    finally:\n",
    "        # set mode back to its original value\n",
    "        self.train(mode=mode)\n",
    "    assert len(batch_outputs) == len(paths2audio_files)\n",
    "    return batch_outputs"
   ]
  },
  {
   "cell_type": "code",
   "execution_count": 108,
   "metadata": {},
   "outputs": [
    {
     "name": "stdout",
     "output_type": "stream",
     "text": [
      "[NeMo I 2020-11-27 16:47:28 collections:173] Dataset loaded with 6389 files totalling 177472.22 hours\n",
      "[NeMo I 2020-11-27 16:47:28 collections:174] 0 files were filtered totalling 0.00 hours\n"
     ]
    },
    {
     "name": "stderr",
     "output_type": "stream",
     "text": [
      "  0%|                                                                                         | 0/1598 [00:00<?, ?it/s][NeMo W 2020-11-27 16:47:28 nemo_logging:349] C:\\Users\\shunl\\Anaconda3\\lib\\site-packages\\torch\\functional.py:516: UserWarning: stft will require the return_complex parameter be explicitly  specified in a future PyTorch release. Use return_complex=False  to preserve the current behavior or return_complex=True to return  a complex output. (Triggered internally at  ..\\aten\\src\\ATen\\native\\SpectralOps.cpp:653.)\n",
      "      normalized, onesided, return_complex)\n",
      "    \n",
      "[NeMo W 2020-11-27 16:47:28 nemo_logging:349] C:\\Users\\shunl\\Anaconda3\\lib\\site-packages\\torch\\functional.py:516: UserWarning: The function torch.rfft is deprecated and will be removed in a future PyTorch release. Use the new torch.fft module functions, instead, by importing torch.fft and calling torch.fft.fft or torch.fft.rfft. (Triggered internally at  ..\\aten\\src\\ATen\\native\\SpectralOps.cpp:590.)\n",
      "      normalized, onesided, return_complex)\n",
      "    \n",
      "100%|██████████████████████████████████████████████████████████████████████████████| 1598/1598 [22:51<00:00,  1.17it/s]\n"
     ]
    }
   ],
   "source": [
    "dev_log_probs = get_log_probs(quartznet, dev_filenames)"
   ]
  },
  {
   "cell_type": "code",
   "execution_count": 111,
   "metadata": {},
   "outputs": [
    {
     "name": "stdout",
     "output_type": "stream",
     "text": [
      "Stored 'dev_log_probs' (list)\n"
     ]
    }
   ],
   "source": [
    "%store dev_log_probs"
   ]
  },
  {
   "cell_type": "markdown",
   "metadata": {},
   "source": [
    "In order to ensure that we understand the acoutic_model output, let's write our own squashing function.  Recall that the job of the squashing function is to accept a path, which represents one character from each frame of the acoustic model output, and return a label (i.e. a final answer).\n",
    "\n",
    "Paths may contain duplicated characters and blank characters, so we must remove these through _squashing_."
   ]
  },
  {
   "cell_type": "code",
   "execution_count": 120,
   "metadata": {},
   "outputs": [],
   "source": [
    "def squash(path: str, blank_char:str=\"_\") -> str:\n",
    "    \"\"\"Convert a path into a label via CTC squashing.\"\"\"\n",
    "    # First deduplicate successive chars\n",
    "    # Then remove all blank chars\n",
    "    lst = []\n",
    "    s = set()\n",
    "    trig = 0\n",
    "    # your code here\n",
    "    for char in path:\n",
    "        if char == '_':\n",
    "            s = set()\n",
    "            \n",
    "        else:\n",
    "            if char not in s:\n",
    "                s.add(char)\n",
    "                lst.append(char)\n",
    "    \n",
    "    return ''.join(lst)        \n",
    "        "
   ]
  },
  {
   "cell_type": "code",
   "execution_count": 118,
   "metadata": {},
   "outputs": [
    {
     "data": {
      "text/plain": [
       "'dfsfsdf'"
      ]
     },
     "execution_count": 118,
     "metadata": {},
     "output_type": "execute_result"
    }
   ],
   "source": [
    "''.join(['dfsf','sdf'])"
   ]
  },
  {
   "cell_type": "code",
   "execution_count": 121,
   "metadata": {},
   "outputs": [
    {
     "data": {
      "text/plain": [
       "'hello'"
      ]
     },
     "execution_count": 121,
     "metadata": {},
     "output_type": "execute_result"
    }
   ],
   "source": [
    "squash(\"hel_lo\")"
   ]
  },
  {
   "cell_type": "code",
   "execution_count": 122,
   "metadata": {},
   "outputs": [],
   "source": [
    "assert squash(\"hello\") == \"helo\"\n",
    "assert squash(\"hel_lo\") == \"hello\"\n",
    "assert squash(\"hhhheeelll___llloooo\") == \"hello\"\n",
    "assert squash(\"\") == \"\""
   ]
  },
  {
   "cell_type": "markdown",
   "metadata": {},
   "source": [
    "In order to decode we'll need to keep the model's alphabet handy.  The blank character is often not treated as an explicit part of the alphabet, but for our purposes it will be helpful to see it explicitly in the paths."
   ]
  },
  {
   "cell_type": "code",
   "execution_count": 123,
   "metadata": {},
   "outputs": [
    {
     "name": "stdout",
     "output_type": "stream",
     "text": [
      "[' ', 'a', 'b', 'c', 'd', 'e', 'f', 'g', 'h', 'i', 'j', 'k', 'l', 'm', 'n', 'o', 'p', 'q', 'r', 's', 't', 'u', 'v', 'w', 'x', 'y', 'z', \"'\", '_']\n",
      "29\n"
     ]
    }
   ],
   "source": [
    "vocab = list(quartznet.decoder.vocabulary)\n",
    "# the blank character is not explicitly listed in the quartznet vocabulary, so we must add it.\n",
    "vocab = vocab + [\"_\"]  \n",
    "print(vocab)\n",
    "print(len(vocab))"
   ]
  },
  {
   "cell_type": "markdown",
   "metadata": {},
   "source": [
    "Let's try decoding something, for practice."
   ]
  },
  {
   "cell_type": "code",
   "execution_count": 124,
   "metadata": {},
   "outputs": [
    {
     "data": {
      "text/plain": [
       "torch.Size([1, 50, 29])"
      ]
     },
     "execution_count": 124,
     "metadata": {},
     "output_type": "execute_result"
    }
   ],
   "source": [
    "log_prob_matrix = dev_log_probs[0]\n",
    "log_prob_matrix.shape\n",
    "# should be BATCHSIZE x N_TIMESTEPS x N_LABELS"
   ]
  },
  {
   "cell_type": "markdown",
   "metadata": {},
   "source": [
    "Here's an acoustic model output matrix below.  "
   ]
  },
  {
   "cell_type": "code",
   "execution_count": 125,
   "metadata": {},
   "outputs": [
    {
     "data": {
      "text/plain": [
       "<matplotlib.image.AxesImage at 0x1b57744b6a0>"
      ]
     },
     "execution_count": 125,
     "metadata": {},
     "output_type": "execute_result"
    },
    {
     "data": {
      "image/png": "[encoded data removed]",
      "text/plain": [
       "<Figure size 496.552x288 with 1 Axes>"
      ]
     },
     "metadata": {
      "needs_background": "light"
     },
     "output_type": "display_data"
    }
   ],
   "source": [
    "plt.matshow(log_prob_matrix[0].T)"
   ]
  },
  {
   "cell_type": "markdown",
   "metadata": {},
   "source": [
    "It looks like silence predominates except for a few frames around the 20 frame mark.  What does it say?  We can get an idea by greedily decoding it ourselves."
   ]
  },
  {
   "cell_type": "code",
   "execution_count": 126,
   "metadata": {},
   "outputs": [],
   "source": [
    "def get_greedy_path(log_prob_matrix: torch.tensor) -> str:\n",
    "    \"\"\"Return the maximum likelihood path through log_prob_matrix.\"\"\"\n",
    "    assert len(log_prob_matrix.shape) == 3\n",
    "    assert log_prob_matrix.shape[0] == 1\n",
    "    matrix = log_prob_matrix[0]\n",
    "    max_likelihood_characters = [vocab[i] for i in np.argmax(matrix, axis=1)]\n",
    "    return \"\".join(max_likelihood_characters)"
   ]
  },
  {
   "cell_type": "code",
   "execution_count": 127,
   "metadata": {},
   "outputs": [
    {
     "data": {
      "text/plain": [
       "'___________________________b_u_d__________________'"
      ]
     },
     "execution_count": 127,
     "metadata": {},
     "output_type": "execute_result"
    }
   ],
   "source": [
    "get_greedy_path(log_prob_matrix)"
   ]
  },
  {
   "cell_type": "markdown",
   "metadata": {},
   "source": [
    "We can then squash the path in order to obtain a label:"
   ]
  },
  {
   "cell_type": "code",
   "execution_count": 128,
   "metadata": {},
   "outputs": [
    {
     "data": {
      "text/plain": [
       "'bud'"
      ]
     },
     "execution_count": 128,
     "metadata": {},
     "output_type": "execute_result"
    }
   ],
   "source": [
    "squash(get_greedy_path(log_prob_matrix))"
   ]
  },
  {
   "cell_type": "code",
   "execution_count": 129,
   "metadata": {},
   "outputs": [
    {
     "data": {
      "text/html": [
       "\n",
       "                <audio  controls=\"controls\" autoplay=\"autoplay\">\n",
       "                    <source src=\"data:audio/wav;base64,UklGRiR9AABXQVZFZm10IBAAAAABAAEAgD4AAAB9AAACABAAZGF0YQB9AAD4//X/9f/0/+z/5v/q/+P/2f/i/9b/3//n/9n/1f/M/9T/0P/F/8r/yP/I/8n/zP/K/83/0f/O/9L/zv/M/9L/0//R/9f/2v/a/+L/2P/b/+X/2v/k/+H/4f/v/+n/7f/z//j/8//z//z/AQACAAMADgANAAcAAgAOABIAEwAdABsAHAAXABoAFwAWABAABgAQABAAFQAWABQAFwAaACIAHgAbACQAIAAiACkAIAAjACUALwAzADQAKQAkACcAJAAjAB0AIwAlACYAJAAiACEAHgAdABsAFwAVAB0AFAARABMADwASAAsAEAAKAAoAEAAHAAkACAACAPr/BAAFAP3/BQD+//T/8f/7//b/6v/v//H/8v/s/+3/8f/w/+v/6v/w/+j/6f/u/+n/5f/c/9j/2v/j/+X/2v/h/+D/3v/c/+P/6P/o//H/5//t/+7/5//w//P/+f////z///8CAAUADQAOAA4ADwANACAAGwAZACUAFQAhAB4AFAAhACYAJwAkACUALAAzAC8ALQA0AC4AMQAyADAAOAAwACsALgAtAC8AKgAnADAALgArADEAKQAkAC8AMwAxADkANgAwAC8AMwAyAC8APQA8AC0AMQApACYAJQAYAB0AGgAVABkAFgAQAAYAAwAGAAEAAwAAAPj/+f/1//P/+//1/+r/7v/m/+T/6P/c/+T/5v/e/+P/3v/a/93/4v/e/9b/1P/U/9n/3f/N/9D/1f/F/8f/xv/J/8r/x//G/8n/z//K/8//y//P/9L/y//L/9D/3P/f/9f/1f/X/9j/2//h/+T/5v/o/+f/6v/v/+z/8f/9//X/9f/9//3/CAAJAAMABQACAAYAEgAUAAwADQAXABYAGAAWABMAFwAWABAAFgAhAB0AFgAbACEAIQArACIAIAAiAB8AIwAjACoAIAAqADQAJQAfACQAIgAnACsAGwAcACYAHwAlACMAGwAjABwAGwAgABsAFgAbABEACgANAAEA//8BAAEAAQD6//n/+P/0/+z/5f/n/+X/3//h/9//2P/g/9j/zP/M/9P/0v/P/9D/0v/Y/9X/zf/K/87/zv/N/8r/xP/J/8P/wf/M/8H/yP/Q/8T/wf/C/8T/w//C/8X/zf/U/9T/0//Q/9f/1v/a/9n/0v/Y/+T/5v/m/+j/4//v/+z/8P/7//n//v8CAAMABgAMAAoACgAOAAkABwATABYADwAbABoAFgAiABwAIgAqACkALQAlACIAIwAkACgAJAAdACAAIQAdACIAHwAeABoAFwAfAB0AIAAaABAAFgAWABQAFAAVABsAFwAHAAUABgD///f/+P/9//z//P/6//H/8//0//T/9P/y//T/5v/p/+7/6v/i/9z/4//a/9z/3P/g/+j/4v/c/+D/4v/f/+r/4//a/9z/3f/g/+X/6f/i/+P/2f/f/9r/1P/d/9j/2f/S/9X/0P/S/9v/2//c/9T/2v/g/93/3v/d/93/3v/d/9v/2v/e/+D/5f/q/+n/6f/t//T/+v/7//z/BAADAAoAGQAYAB8AGwAbACkAJAAjACAAHwAkAB0AHwApACsALAAnABoAIgArACkAJwApAC0AJwAlACYAIgAhACoAJgAaABwAGwAZAB4AIgAjACAAGgAZABkAGwAaAB4AFAASABgADQAfAB4AEwAdACAAGgAXABoAFgAZABIAEgAUABAAEgAIAAEAAwAGAAEAAwD+//z//v/3//z/+P/z//T/+P/3//T/8f/s/+z/8P/4//L/5//k/+f/5v/v/+7/7P/0/+z/6//l/9//5P/f/+D/5v/g/9//5P/n/+b/3//g/97/4P/n/+r/7P/m/+T/6//p//f/AgD6/wYABQAGAAQAAQAJAA4ADgAJABIAEAAVABUAEQAgAB0AHgAiACUAHAAbACAAGwAmACIAKAA0ACAAIQAnAB8AIAAbABYAEAAMABYAEAARAB4AFwARABoAGQAVABoAFwAbAB0AFwAhAB8AFwAhABoAHAAfAB4AIQAfACAAFgAaACIAGgATAA4AFQAbAA4ADwAQAAwACAAAAAoABAADAAgA/P///wAA/f/9//X/7//w//D/7P/y//b/6v/s/+7/5//n/+n/7f/o/+r/6f/m/+L/4v/k/+b/5//j/+7/6//g/+r/7f/i/97/5P/i/+H/4//g/+T/4//g/+b/4f/h/+f/5v/r/+v/6//k/+r/+f/r//L//v/6//f/+/8GAP3//v8CAAoACgAEABQADgAKAA8ACgAKABMAEAAMABUAEQAUACAADwATAB4ADAAUABwAFwAaABkAHAARAAsAFwAWAAoABwAOAAoAEgAPAAcABwAFAA0ACQAIAAkADAALAA4ABQD//wIA/v8HAAYAAgD+//v/AwABAAMABQD9//7////+/wUAAgD//wUAAAD7//3////5/wEABQD8/wUACQACAPn/+//9////AwD7//j/+f/6//D/9/8CAPr/+P/9//7/7//y//f/9P/z//X/+P/z//n/8f/r/+n/8P/y/+z/+//4//X/9v/x/+3/9f/3/+7/9f/1//P/9f/1//r//P/9//3/AQD//wUACAAAAAQACwAOAAMACQAYAA4AEQAZABwAGwAVABYAFwAVABQAEwAMAAcACQADAAUACwAGAAIABgANAAYAAgD8/wAABQD9/wAABQADAAEAAgACAAcABwAFAAYACwAPABMADwAUAB4AFAAUABQADQATAA8ACwANAA8AEgAPABAAHAAOAAsACwAAAAcAAwAGAA0ABgAEAAUA//8AAAcAAwADAP//+//9//r/+P///wYAAgACAAIA/P/+//n/8v/v/+//+P/8//n/+/8BAP3/+P/+//3/+/////X/+P/x/+v/8v/q/+f/6//v/+//7P/n//L/8//t//H/7P/q/+X/6//x/+j/6v/u//D/8//2//j/9v/u/+//+v/y/+7/+P/5//X/+f/6//r/8////wMAAQAIAAcADwAHAAoACQADAAkADAANAAYABgALAA8ADAAGAA8AEwAUABYAEQAXABkAGQAZABoAIAAcACAAFwAcACUAHgAkACAAHAAeABsAIQAkAB4AHAAdABgAGgAeABcAGwAeABkAGgAQAAwAEgAWABUAEgAWABcAGwAWABYAFgAOABEAEwASAAoAAAAAAAUABQABAAEA/f/4////AQACAP7/8f/3//j/6//v/+f/4P/e/9r/4P/e/9b/z//M/8j/x//M/8b/x//O/9L/zv/N/9H/0//T/9X/3f/b/9//2v/Z/+H/3f/f/+T/5v/l/+3/6//n//D/8f/o/+3/7f/p/+z/7f/u//H/8f/z//f/9f/7////AAD+//r/+f/5//3//P////7//f8GAAUABAATAA8AAgAFAAgAFQAaABkAHQAYACQAKQAiACQAGgAZACAAGgAfACYALAAmACkALAAhACoALAAoACcAJQAfACwAKQAhAC4ALgAsACUAIQAcACMAJAAfABkAFwAYAAoAFgAVAA8AGwAJAAMABwAAAAQA/P/6//v/8f/7//7/8//w/+f/3//h/97/5f/i/9j/3v/Z/+L/3//U/9H/zP/V/9P/yP/H/8r/w/++/8b/zP/M/8//1P/Q/8z/0f/V/9X/1//b/9z/3P/h/9//3P/g/9//3v/n/+T/4//r/+b/6//1//P/+P/3////AQD9/wEA/P8DAAQAAgACAAYADQAOAA4AEwAWABIAGAAiAB8AHwAfABsAJQAwACsAJQAdACAAKwAkACIAIgAlACIAHwAlACgAMAAsADQAMAAmACoAKgAsACgALgAuACoAJQAYACIAIAAgABgAEgAZABUAIAAXABgAHAAPABQAFQATAA8AFgAYABIADwABAAkABgD7/wIA+f/t/+r/5v/n/+H/3//W/9f/4v/V/9b/2v/S/9H/0f/P/9H/0v/Q/9P/2//W/9r/4P/d/+f/6f/p/+j/7P/x/+n/5f/o/+X/4f/f/93/4P/d/+H/2f/g/+j/4//o/+b/7v/r/+D/6v/w//T/9f/y//X//P/7//r/AQD8////BQAJABMADwAQABcAFwAOABAAEwATAB0AGwAYABYACwAYAB4AFQAeABUAGAAjAB0AIgAbABYAFQAZABkAFgAWAA4ADAAQAA4ACwAMAAMAAAABAP7/AwABAAIABQD8////BwD//wQACQADAAYAAAD+//n//P////v/AQD+//v//f/u//H/8P/u//j/7//x//T/+P/5//j/7v/t//P/9P/4//T/8v/k/+L/4//f/9//0P/U/8//yv/U/8n/yv/J/8H/yv/K/8z/1P/R/9P/2//Y/9n/3v/e/+D/3v/k/+P/7f/3//D/7P/x//n//v8FAAUAAgAEABMAGAAZAB4AEAAPABUAFgAVABUAFQAPAA0AEwAYABAAFAAcAB4AGAAeACAAHgApACIAKAAmAB0AKAAoADEAMQAjADAAOQA6AD0AOwA7AC4ANAA5AC8AKwAsADMANwA5ADYANQAtAC0AKAArACoAFwAfACsAKwAkABoAFwAWABQAFQAVAAkABwAPAAwADwAKAAAAAQD2//v//P/2//3/8//3//z/+P/9//z/8//x//X/8f/2//f/6//i/9//5P/m/+j/5v/g/9j/2//j/+H/3f/a/+L/1//P/9P/3P/f/9z/5//r/+z/7P/i/+D/7//r//H/+v/1//z//P/8/wQABAABAAoADAAHAAYAFAAiABYAHAAkACIAJgAfABwAFgAZACMAGgAeACQAIQAiAB4AIAAdABwAHwAnACkAIAAjACEAJAAvADAAKQAlACYAJwAqACoAKwAtACsAJQAfAB4AGQAhACcAHwAfABYAJgAuACMALgAlACEAIAAVABcAFwAVABEADgAHAAUAAgACAP//9v/8//j/7//x//L/6//v//H/7v/v/+v/7f/r/+n/6f/r/+v/6v/m/+P/7v/p/+P/7P/j/93/5f/e/9f/4P/g/9r/0//Z/9j/0v/V/9n/3f/c/93/3//m/97/4v/o/93/5//q/+z/5v/o//T/7f/w//L/8v/9//z/9v8CAAcACQANAAwACAAQABQAGAAYAA0AFwAXABgAHgAiACQAIgAmACQAKAAlACUALwArACYAHQAhACYAHQAiACMAHwAgACMAIwAmACMAGQAYABkAFQAWACAAHAAQAAoACwARABYAFQAMAAgAAwAAAP////8EAPz/AgADAAAAAwD7//f//P/7//f/+//6//L/8v/u/+b/8f/t/+D/5f/o/+X/3v/c/9f/1v/W/9L/1P/U/9L/1P/Y/9P/1P/Y/9H/2P/d/9z/2//R/9H/zP/L/9D/0//S/9L/1//Y/9X/z//L/9L/0f/I/8r/yf/I/8T/zf/e/9r/2v/g/+j/6v/s/+//8v////b///8BAP3/BwAJAAkABQARABIAFAAWABYAHQAfACIAIgAoACoALAAsADEALAAoADIALAAtADAAKgAnACoAHwAYABsAFwAXABEADAAVABUAFQATAAoADwANABEAEAAKABQAEwAUABcACgAKAA0ABwALAAUAAAAIAAEA//8HAAUAAwAFAAMABAABAAAAAQD5/wIABwD7////AADz//j/+//2//D/6//u/+z/6//o/+T/5f/p/+X/3//e/9//4f/h/+H/3P/d/+H/5P/o/+j/5f/j/+D/4P/q/+T/4f/n/+7/9P/n/+r/7P/t/+z/4//m/+L/5v/q/+n/4v/h//H/7//0/+//8v8CAPv/+P///wgAAAD+/wQAAgACAP/////8/wAAAAD//wYABAAEAAMAAQAFAAcACAATABAACAARAAkAEgAXABAAGAARAA4AEQAXABQAEAAdABQAEgARABIAGwAUABsAIQAVABkAFwAUABMADQAVABQAEQAYABcAGAAVAA8AEQAJAA4AGQALAAMABgAHAP//AQADAPz////3//b/+v/z//v/+v/5//f/7P/p/+3/8f/t/+z/8v/v/+b/6//p//T/9v/s/+r/7f/3/+z/7v/y/+r/7P/u/+r/4f/p/+n/3f/p/+j/4f/p/+T/4P/j/93/3P/V/9L/2//U/9r/3f/a/97/1f/T/9v/1f/W/9n/2//i/+f/6v/m/+j/7P/8//3/+P8AAPz/+/8AAAMABgAEAAEADQAOAAEABQAKAAgAEwAWABIACgAOABQAFwAUAA4AEAAGAA0AEwAWABUAEwAbABgAGwAbABcAIQAlACAAHQAWABgAIwAhACMAIQAdACIAGwAaAB8AHwAYABUAFwAWABYAGQAdAB4AGQAUABUADwAUABwAGwAWABsAGQAUABoAFQAYAA8AEQAKAAMACgAKAA0ACQARAAoABgAMAAMAAwAHAAsAFwASAAkABwAIAAEA+/8FAAIAAgD+//r//P/y//b/AQD3//X/9v/y/+7/7f/4//T/7//0//j/+f/1//f//P/8//7////8/wAACAAGAAcACAABAAgACwAGAP7///8GAAgACwAHAAoABAALAA0ADAAcAA4ADAAPAAoACwALAAkABwAIAAQAAAD//wUABQAIAAUAAAADAP//BwANAAgABwAIAAQACwATAAgACAATABgAFgAIAAQADAAVABsAGQAYABYAFwAXAAwAFQARAAwAEwAQABAADgASAA0ADQANAAUA///6//v//f8BAPn/9//w/+v/8v/2/+3/5P/t/+n/6v/q/+D/5v/s/+j/6v/l/+L/6//v/+r/6v/o/+D/5f/i/+b/5v/f/+X/4v/k/+b/6v/r/+z/6v/p//D/4v/i//X/5//h/+L/3f/o/9r/1v/m/+D/2v/i/+X/5P/n/+z/7//u//D/7//x//n/9v/+/wAA/f8EAAIABwAHAAEAAwAIAAMABAAKAAYACQAOAA8AFQAYABYAGwAcACEAHwAcAB4AHAAYABoAJAAdACEAJAAgAB8AGwAcABoAIQAdABkAIAAVABgAFQAXABoAFgAaABEAIgAaABQAHwAOABYAEQAUABcADAAUABQAHAAXAAwAFwAMAAkAEAAKAAwABgADAAcABAAEAP///P/9////AQABAAAA/v/9//n/+//7//T/+f/5/+n/8v/y/+L/5v/l/+X/6P/f/9z/3v/X/9r/3P/X/9//4P/Y/9P/2P/g/9f/0v/T/9H/0f/Z/9L/0f/Y/9z/5f/Z/+P/8P/n/+f/6v/4//r/7//n//b/9//v//f/9f/6/////v8EAAQACAANAAgACQAGAAQABgAEAP3/+P///wIAAQAIABEAFwAwACkACwALAAIADwAoACAACwAIAAYAHAA1AE0AWwAdABkAHAAaADQAIgAeABgADgAXABcAHAAgAC4ALwAvADcAIQAiACAAHwArACMAHAAbABwAJwAfAB0AGQAIAAYA/v8GAAkACwAHAAwADAD9/wUA///9//T/6f/o/+P/+P/5/+v/6f/i/+X/6v/m/+T/6P/i/9z/1f/Z/9r/1//d/9v/z//F/8P/yf/I/8b/z//F/9L/1f/M/9r/2//g/97/1//e/9n/4v/k/9j/4v/k/+n/5//t/+//7//5//L/8//5/wIAAAABAAwABwD//wsAFQAJAAsAGgAbABsAGAASAB4AGQAUABYAEgAVABAAGgAiABgAHAAiACkALwAsACUAJgAkACkAJgAqAC4AKAAtACoAKQAtACoAJQAnACEAHwAfABkAHQAbABgAIAAfABcAIAAjAB4AJgAlACMAIAAhACUAHQAWABYAGwAYABYAFQALAAwAEQAMAA4ACAABAAgA//8AAPr/8v/+//r//v8CAPj/9v/y/+v/6//u/+n/4//d/93/3//b/9r/2//d/97/2f/Z/97/3v/b/9r/4f/h/9v/3v/n/+P/3f/o/+j/4v/v//f/9v/3//X/+f/6//v/9v/0//z/+f/y//3//v/5//7/+//7/wEAAgD/////CAAFAAYACwAJABAABQAGABIACAAKABAABwAQAA0ADAAXABMAFgAVABQAHgAhABQACQATABoAGgAdAB8AHwAfABsAEwAVABUAGAAZABcAFwAPAAgABgAFAAcABgAGAAcABwADAPz/AgAFAAEABwAEAP3/AAD5//j/9P/p/+z/5//j//P/6P/f/+X/4v/o/+T/6P/k/+b/5f/p/+X/4v/n/9v/4v/f/97/3v/c/97/3P/b/9D/0v/a/9f/yP/F/87/zv/K/83/1//U/83/0v/U/9T/2f/W/9n/4f/d/93/3P/i/+n/4v/j/+r/7//v//D/8f/3//z//P/1//r/AAD//wkABgALABAADAAPABEAGQAaABYAGQAXABIAHAAhAB4AJAAjACQAJQAeACMAIgAhACIAGQAhACgAHwAdACIAJAAnAB8AJwAvACQAJQAkACAAIQAkABwAHwAgABgAGQARABAAFAAMAAsAFgAWABMADgAVABgADwANAAcAAgABAAAA+f/5//b/7v/v//j//P/8//f/+v/+/+//7f/v/+X/5P/n/+H/4f/b/9f/2f/Q/87/z//K/8r/yv/D/77/xP/N/8b/wP/A/8L/w//K/9L/zP/N/8z/0//a/93/5//h/+n/7P/s//j/9v/y//T/+/8BAAEAAgAGAAcADQAOABQAFgALABIAEQAOABUAGwAZABQAIgAhABkAEwAQABUAGAAXABoAIAAjADEAJwAsADAALgA6AC8AMQAtACkAMQAiACwAMgAlAC4AMQAqACwALgAyADAAKwAsACUAIwAsAC0AJQAlACYAJAAZABsAGwAUACIAHAAeAB4AFQAVAAYACgAIAPr//f/1//H/9f/t/+v/6f/f/+b/4f/e/+L/5P/j/+L/4f/R/9z/4P/Z/9f/1f/a/9P/2//W/9H/0P/F/8n/y//M/87/0f/M/8j/0f/Q/9L/3f/b/9n/2f/b/9v/1f/Q/9j/1//W/9f/0v/d/9r/4v/h/+X/6//c/+//7f/y//z/8//6//r/AgACAPr/AwAHAAYACAAKAA0AEAAWABkAFAAXAB4AHAAaACAAIQAfABgAFQAaAB0AHgAeACUAJwAkAB8AHgAlABwAGgAjAB4AHwAnAB8AGwAmACYAIwAnACQAKgAwACsAMQApACgAJAAaACwAKgAgACAAIwAWAAsAFAASAAwABwAGAAQABAD+//3/+P/1//z/8P/r/+3/7P/v/+b/7v/z/+n/+f/y/+3/9P/q/+z/5//v/+7/5v/w//X/9f/q/+7/6//r//P/7//y//L/9P/0/+n/6P/0/+n/5f/n/+f/7P/w//X/7//z//X/9//4//j/AAD+//3/AwAIAAQAAwAJAAsACgAQAAoACgAaABoAFQAfAB4AHAAkACgALAAsACgAKAArACYAKAAuADMAKgAhACgAKQApACkAKgAgAB4AIgAeABoAFgAZABgAGAAbABoAFwAUABoAHAAYABYAFgAZAA4ACQAPAAgAAwAFAA4AGAAPAAkAFAATABAACQACAAUA//8AAAAA/v8AAPz//v8AAP3//v/2/+z/8//x/+n/6//k/+b/6f/n/+r/8P/v/+z/7v/p/+z/7v/r/+j/7//r/97/4f/i/9//5P/h/97/5f/o/+T/3//r/+7/5f/g/+L/3//g/+3/6f/v//b/6//t//P/9v/1/+n/7v/5//X//P8BAAQAAwAIAAcABQAQAAUABgATAAsABQAKAAcABQADAAYABwADAAEA//8HAAIAAQD+//7/BQACAAUABgABAAIA//8EAAgAAQD7/wEABQABAA4ACgAEAAkACAAFAAkABgD/////AQAGAAAA+v8EAAEA/f8BAPz/+//9//r/+v/+//v/8P/w/+//6//v/+z/8P/5//r/8//z//T/7v/s//L/9v/r/+7/7P/j/+b/6v/x/+3/8v/6//X/9v/3//b/7v/u/+n/5//t/+z/7f/2//j/8//x/+n/7v/6//T/6v/m/+X/7P/p/+n/5//k/+T/4v/k/+j/5v/k/+n/5v/q/+v/7v/z//H/+P/0//j////7//v/+/8BAAAAAQADAAMACwAFAAsADAALABYAFAAXABUAEwAOAAoAGQAZABMAEgAYABcAEgAaABcAEAAYABYAFAAUABEAFQATAA0ACQAPABAACgAMAAgADAASAAwAFAASAA8ADwAHABAAFgARABAAEgAHAAgAEQAIAA0AEQAQAAkACQAOAAkACwANAA4ADAASAAwABgAKAAsACAAHAAkABQAKAAYABAAEAP//BAACAAAABQD///7//v/7//z/+P/+/wEA/f/9//7/9P/5//n/8f/1//r//v/7//j/9f/y/+n/8v/6//n/9v/t//L/7v/q/+//7//x//j//f/8//7//P/+/wAA//8FAAcAAAAGAAUA/v8AAAEACQADAAEAAgD//wAA+/8AAAEA+P/7/wIA9v/4/wEA+f8AAAIAAAACAAQABgD7/wQAAAABABEAAwAFAAUAAAAHAAgABQAPABYACAAMABkAFwATABIADgAOABIAFgAWABIAGAAcACAAJQAgABwAFwAaABoAHwAeABkAHQAZAB4AHwAeABcAGQAbABQAFwASAA0ADQAMABAAEwAOAAgACQALAAIAAQAKAAIAAgAFAAAA//8AAP7/9v///wMA/v/7//n//f/9//b/9P/6//b/9f/0/+b/5v/s/+b/3v/c/+H/4f/T/9P/3v/b/97/4P/d/9r/2f/X/9r/3P/d/9r/4P/o/97/5v/h/+H/7//n/+v/6//r//P/7P/t/+z/9//5//n/AADy//j/+P/9/wgAAwAJAAwADQAQAAgADwARAA0AGQAVAA0AFQAYABEACAAHAAcADAAPABEAGQATABoAIgAZABwAGQAYABYAGQAZABkAHwAbACQAHQAXAB4AFwAdABYAGQAeABMAGAAWABwAFwAXABQADAALAAQADAAOAA0ACgD///7///8DAAsAAAD1//r/+f/4//b/9//w/+f/6P/h/+f/7P/l/+v/7f/j/+X/5v/l/+j/3//g/+L/1//M/9H/1f/R/9L/2f/Y/9L/2f/a/9X/1f/T/9v/2v/V/+L/4P/X/97/5v/h/9f/3P/m/+j/5v/q/+//9//4//H/+P/9//f///8DAAAAAgACAAUAAAACAAgAAQAHAAgAAwAIAAkAAQD+/wAA/v8BAAIADwAQAA0ADQANABwAHQAaABcAIAAcABUAGgAVABIAFAATABsAHAAVABkAEAAHAA4AEgAMAAkACgAUABgAFwAWABUAFQAPAAYABwAJAAoACgAPAAsA//8HAAcAAAD6//T/+v/7//H/8P/z//H/5//k/+7/7f/o/+n/6v/h/+L/6P/i/97/2v/U/93/1//R/9j/yf/M/9P/y//H/83/z//L/8f/y//N/8z/zv/H/8r/0//M/8r/0//W/9H/0f/Z/9b/z//Y/9n/2f/g/9//4P/i/97/4v/0//f/9v/7//n/BgAMAAcABAAGABAADwAUAB0AHgAbAB0AJwAlACgAMAAwACoAMQA4ADAANAA0ADEAMQA0ADQALgAxAC4AMAA0ADEALgAxADEANgA2ADcAPgAwADgAMgApADMAMAA2ACsAJgAvADcALQAhACgAKwAtAC4AKwAfACMAJQAYAB8AHwAXABwAHAAXABMAEwARAAgABQAEAAcACgAFAAIAAgADAP7//f////n/9f/z//H/8v/n/9//4f/f/93/1f/Q/8v/zP/N/9L/0f/I/87/1f/P/8X/0//J/8v/2P/S/8//0v/f/9j/2f/Z/9b/2//c/9r/4f/o/+b/7P/t//H/8//x//X//P/7////CwAHAAYAEQAIABIAHAATABoAGQAVABoAGAAVABkAFwAYABsAHAAZABQAEgAaAB8AHQAdABsAHAAcABsAHQAlACUAJQAjACcALgAwADEAMAAuACoALAAnAB4AIwApACgAJgApACYALAAkABgAJAAXABkAGQAVABMABAAKAAkABQAJAP7/BAADAPn/+//y//f//v/7//r//P/0//T//P/w/+//7P/o/+7/5f/t/+//4//n/+D/2v/b/9b/1f/P/87/1//V/87/z//R/8r/y//L/8r/yP/E/9D/0v/Y/9v/zf/U/9z/3v/i/97/5P/k/+3/+P/z//n/+v/6/wAA/v/8/wAABgADAAoADgADAAsAFAAQAA4AFwAeABwAIwAgAB8AKAAlACoAMAAtACoAKwAuACYAKAAvAC4AMAAqACoAJgAmACYAKwAvACYAJQAfAB8AIAAhACsAMAAnACUAJgAiACQAGAAUABYAHAAfABwAIQARAA0AEQALABEADQAFAAMAAgAJAAUAAAD8//f//f/5//b/+P/7//r/+//6//X/8//t//X/8//v/+r/5P/t/+n/5f/j/+v/7P/l/+z/6f/m/97/4v/m/93/4v/h/+D/4f/j/9//2P/Z/9r/3f/d/9n/3P/k/97/5v/m/93/6P/t/+b/5f/s//D/9//8//7//P8AAAIAAAACAAAAAwADAAgAEAAKAAcACQAJAAIAAgARAA0ACQAZABEAAwAIABEAFgANAAgAFAAaABEAFwAYABgAGQASABsAGwATABIAEwAWABQAGAAbABcAGAAQABMAFQAMABYAEQAKABAACQAPABIACgACAP////8BAAYAAgACAPv/9f/2//D/8f/1//D/7//u/+L/3//l/+X/4f/b/9X/2v/Q/83/1P/W/9X/0//V/9P/2f/U/9T/1f/N/9L/0f/S/9H/zf/V/9f/2P/W/9T/z//R/9b/1P/T/8//0P/Q/9j/1f/b/9j/2f/o/97/4P/l/+H/4P/j//L/7//r/+z/4//s//z//P/7//X/9f/4//r/BQAEAAsADwAFAAUAEwAbABoAHgAeACMAJAAkACMALwA0ACcAKgAvADIALAArAC4ALgAuAC8ALAAqACoAJwAnACQAKgApACYAJgAjACMAIQAjACUAKgAoACsALgAqAC0ALgAoACEAIwAhABwAFwAPABMADQAIAAoACQAHAPz//v8CAP///f/3//z//P/y//j/+f/1//z/9f/1//L/6v/0/+z/4v/o/+T/4P/i/+H/4f/g/+r/6P/e/+L/3//m/+f/3f/g/+f/6f/i/+P/6f/n/+P/5P/p/+L/4//l/+b/5v/i/+j/5P/r/+//7//7//T/9v8BAPv/+f8AAAEABAAEAAUABwAKABQAFwARABIAGQAVABwAHQAYACAAIAAmACIAHwAeAB4AIgAiAB0AHwAhAB4AGgAfAB4AFAAWABQAHAAbABgAFAAUABIADwAUAAwAFQARAAwAEgAGAAEABQAHAAgADwAIAAUABAD//wQA+v/+/wQA+v/8//v/+//7//n/BAABAPv/AAD8//3//v/7//f/9//3/+3/8v/u/+b/5f/i/+n/4//l/97/3f/p/9r/2f/k/97/3f/g/93/4v/r/+f/6//t/+z/8v/r//T/9f/v//r//f8BAPz/+f/9//b/7//y//f/+P/5/wMAAwD///z//P8DAP//AwAIAA4AEgATABAAEgAbABEAFQAXABEAIQAcABYAJwAkABgAGwAjACQAKgArACQAJQArAC4ALwAhACEAJwAjACYAGQAgAB8AEwAcABsAFgAUABYAFwATAAsADwAWABUADwARAAIABQASAAgAEQAMABEAEQAOAA8ABwAJAAQACwAHAAMA/P/+/wQAAwAMAAUAAQAEAP///v8EAP7/+v/w/+z/+v/v/+j/8f/y/+//6//t/+v/5//t/+7/4v/j/+7/6v/l/+f/5f/n//D/9v/5//v/9P/q/+r/9/8AAAAA/P/6//r/+f/z//n/AADv//f/+f/v//j/7//u//f/8P/0//b/7//s//v/AwD4//z/+v/+//7/+/8BAP//AAABAAUACQAKAA0ADQAIAAQAEQAVABAADgARABMAFgAeABEAFQAdABYAFQAVABsAHQAXAAwABgAKAAQAAQAJAAYA/v8FAA0ACAAMAA0ACgAOAA8ACwAEAAQABAACAAEAAwAAAPz/AgAEAAoACAADAAEA+/8CAAIA+f/9//X/9//8//T/+//4//v/8f/m/+//4//n/+z/6f/p/+X/9P/7/+7/8f/z/+//6//m/+//7f/q/+//5//j/+L/4//j/+j/8//1//f/8//0//H/6v/s/+j/4f/k/+P/4v/q/9//4f/l/93/5f/l/+L/5v/o/+D/3P/i/9f/1v/f/9z/2//j/+T/4f/p/+v/6f/z/+//9P/2//L/+P/u//L////+//j/9P/5//r/8v/w//n/AgABAAMABgAAAAMABAAAAP/////9////AgADAAYADQAGAAwAFQASABYADQAVABgAEQAVABYAHwAdABkAFwAVAB0AIgAgABkAEQASABgAGAAbABsAFgAPAAwADQAMAAEACwARAAwAFAAHAAEABAAIAAkABgAGAAAABwALAAkABQAGAAcA/v8CAAQAAwAEAPz/9v/5/wAAAAD7//7/+f/7//z/+f8DAAQA+f/6//z/+P/7//r/+f/5//f/7v/s/+//7//q/+b/6P/n//H/5v/h/+v/5v/r/+H/3//o/+P/5P/h/+r/7P/k/+f/4//i/+b/7f/q/+j/5//z//b/7f/1//r/AgAAAPf/+f////7///8HAAcABgAKABAACwAJAA8AEAAJABMAEwANABMADgAdABsAEQAcABMAHgAkAB8AJAAdACQAJQAgACwALAAnACwAKQAnACcAKAAnACUAKQAsACcAKgAuACUAIwAhACAAIgAbAB0AGgAWABMAGQAlACEAJAAgAB8AGgAOABoAKgAYABIAFwAQACgANAAvAHkAygCWAJcAeAAoAFoAWwBsAJ0AfwCZANsALQFlAT4B+ACUAFMAWQBVADkA8P+6/9D/9/87AFIAZQBFAGoAwwDMABwBgQDv/9H/hv/P/87/rv+Z/0X///6U/lb+Yv6o/gX/9/7N/qL+o/4Z/2f/nP+9/8j/9v/z/9H/jv9Y/2T/s/8SAAoA1/+I/2n/e/9n/2j/VP9f/5T/sf+1/2z/RP+C/9f/MQBTAEoARwBfAJAAnwCoAKMAsgDhAN0AugCGAFkASwBIAEAAHgD+/+T/yP+n/3b/Yv+F/8X/+P/2/8T/t//Z//3/HQAYAOn/x//G/7X/f/8s/9P+jv4c/nX9pPzJ+1H7Q/t5+8z7FPxS/IX82vya/TL/fgFyA5gE9QTeBBEFwwVgBlYGzAXTBLgDpQJAAeX/9P5q/h3+3v1o/fj8KP3T/dP+6f+0AJUBhgIxA6gD3wPvAwoECwSkA9YC5QH2ADwAgv/A/hz+v/2x/Wj9Hf3a/O/8qv1//ij/Yf9p/5H/5/9PAIcAkgBNALX/vf4t/V37d/nk+Ov5+fqY+1X7n/t8/VkAzQLWA3gE5wRSBtEHWQd0BmMFqwQ9BLsCtgC6/qv9P/3V/ET8hPvx+zn9k/6d/0UAawEBA5IEaQVvBTwFDwXjBDYEAgOvAZIAzP/Z/tf9Dv2W/M/8Nf2O/QP+n/57/yYAqwArAbYBZwKjAmgC0AEcAboATQDL/wP/Gv5A/Q38tvpm+eX3VvZ/9vf3p/nj+hX7+fx6AAAEXAYMB9gG+Qa0CBcJnAfGBW0D/AFuANT9gfsk+vT5P/pb+sn5EPow/Jj+5gB/AscDUQWPBkoHNAexBgwGTwX1A8YByv9L/i79c/zH+1j7b/vz+9H8yP2x/ur/ZwF9AugC/QLfAq0CZgLFAQsBRgBT/4P+0P03/Qv9FP37/Lj8Tfz0+6z78fre+ab43fiv+iP8bv4OAnYEYwXpBXEFMAXNBvUHKgdxBeQCswBL/7P9jfwr/Or7w/vA+6P7Lvw+/r4AiQK6A5kEYwUEBoAGdQbkBREFzQMQAsz/y/3c/JD8W/wR/Bf8avwl/W/+xv/7AO4B6gIxA+oCxwJmAgICawGFAIT/ov7k/Tn96Pyr/KL8Af0//W39c/01/b/80/u7+rn5D/nb+SL7xPx0ALADtAS6BFcECASUBbUHSAeRBT8DxQCO/3D+MP3C/Kf8SPwZ/PX7KvwD/pAAYQLDA5gECgWpBQQGDAbzBV8FIgRaAhwAJv5D/ev8u/yI/IH82fx5/Xv+uv8dATUCKAOEAxkDwgJLAtkBmQEFATQARf9H/mn9Ev06/Yb9Ff5u/lP+Jv7C/VD99vw5/EL7IPqm+bL68/sv/r4B5gN7BKMEaQSdBCUGKwdNBsUEuALTAJr/Gf4e/fH8tPyD/G78VPz9/Ar/RAHLAvADoAQzBZkFrwW8BTQFOgTnAgcBBf+U/fn8uPyL/HD8rPw9/Rf+Vv+DAHsBNQK6As0ClwJeAtEBSQF4AIv/x/73/Wz99vzc/Bz9gP0K/lr+ZP4s/vv9u/0k/Vn8Mvsm+gL6yfp7+4r9HgF4A4wEgwThA/sDgwXKBhQGeASQAr8AV//A/cj8qvzE/N38nPxj/Ev9h//XAVkDSQTTBC0FkAWUBUYFzAT4A4wChACL/kj99vzu/N38CP1H/Qz+7P63/84AygG2AjoD8wJyAvkBewHdAA4AKP9S/tH9WP37/Pn8Qv24/RL+Of4x/h7+wv0m/Sj86PrU+bT59Prt+zf+igGEA18EeQQcBAgEagUfBkQFxgOUAer/lP4S/Vf8TPx8/Kb8yfzY/NH9GABCAsYDgwTtBDkFOwUpBawE8wPnAlIBi/+o/ZD8Xvx4/Kn81vx5/Tz+PP9sAGMBTQL5AjoD2AInAowB3QA/ALL/7v43/qr9HP3g/BH9lf0o/pH+tP6n/on+OP7K/ef8uvun+v75g/oR+6r8QQA3A6UEywQzBKcD5gR2Bg8G2QThAr0APf+0/Zf8d/zD/A79M/00/az9Zv+WAVYDjQQ3BXEFSQUCBZUEFARSAwYCWABs/v38YPxa/Kf8O/0i/uv+b/8HAPgA/wEJA5ADJANPAmwBoQC7/wf/cf7x/bX9Q/3J/Lf8Jv3b/Wf+lv53/ir+vf0v/W38jvvI+sb6bfsv/MP+FgIYBMEEZgSlA4wD0wRPBX4EQANeAaX/JP7U/Hz83Pxv/bb9yf3b/db+1gCzAiME8gQyBfsEhgQLBJcDCQMkAt8AOv+o/b38ffzG/Hz9fP5R/7L/HwCZAH0BcwIzA3QDwgLOAaAAqv8e//X+3P6P/jD+r/2Y/ev9d/4E/zH/Hv/L/mD+5/1G/YP8h/uS+mH6CPsF/JX+7QEKBN4EuwQmBBIENQWCBacEYwNMAZ//J/7V/E38hvwN/VX92v1z/p//jwEWAz4EHAV2BWkF8AQxBF0DpwKpATcAuf5V/aT8lvzX/Gr9SP5k/zgA5AB9ARcC4QIsA9kC8wHCANT/D/9//g/+pf2C/Yn9ef1V/Yj9/v10/uT+5f6b/gT+Rf0l/CD7SvqK+oL7gvxs/3YCCwRoBAIETQOzAxkFOwUmBHUCiQAY//z9AP3M/A79df3Z/Q7+l/7z/90BZgNgBN0E+QS8BD0EtAMTA2ECgAEtAH3+Lv2v/Of8af0K/sr+i/8xAM8AfAEkArICygJgAm8BXQCC/9f+oP6e/mz+CP6h/Xv9zP16/vH+J//+/rb+Y/6//SL9YPyj+8f6efri+qP7Kf6TAQgE8AS3BN0DfQOaBEsFuQRUAzwBNf+o/Y/8TfzK/GH93v07/pX+mP9pARUDTgQIBRQFwgQgBF0DxAIwAmABMQCm/kf9nvy5/En9Ff7i/rj/iAAgAdYBeQLsAvQCQAIXAen/B/+X/mL+Nf7e/YP9f/2c/Rv+zf5i/3j/CP9n/rX9WP0C/VT8cvs8+uD5mvoP/IT//QLjBCgFZgR+A3QDugT/BF0EAQO5ANT+O/09/H78Ov31/VD+dv7w/k0AUQLlA/oEYQUuBc0ECwRCA5AC2gH5ALb/VP48/d38DP2g/WT+Pv8vAPUAZwHLAVICjQKlAg8C6QD2/xv/s/48/tn9rf2k/fr9QP6T/gT/V/+I/zb/s/5H/tf9Uv1L/EX7bPpk+gX77/vb/k0CngR4BaAEegNzA7AEMgVMBK0CfwDE/nL9TvxK/OH8xf14/rf+Kf87ABACkQOOBBcF4gRtBJgDwwI6AqkB8ADM/2H+Wv35/Bf9sf2O/nz/WgDAABwBiwH+AWcCIgJsAWsAtf8v/4f+Kf61/Z791P0h/o3+vP7h/vX+9P7T/q/+SP6a/dH8Hvyc+y/7M/tX+1b8L/9mApQEIAVwBIYDfAM/BFgEnAMoAmkA+v6M/bH8ufxC/SD+2P46/8n/AgFrAskDnQTUBLUEGQRjA5ECywEZAWUAiv+A/tH9ZP2i/UD+DP8nAMkAWAGMAZkB2wHEAbsBNgFkAKH/2v6D/jr+Sf5k/mv+of6i/vv+SP9p/1b/x/5Q/sv9Ov3a/FD8yfuS+2/7qfsp/Bb+PQEDBG4F+QTZAwQDZwPvA14DQgKtABL/yP2o/Gz8//wB/tz+K/+w/4sAAgJZAygEsgSzBEgEUwNJAlkBwwBWAJX/mv7g/Zn9y/1l/gf/1v+VAB8BRgFfAYoBqgGGAdMADwBY/8P+Yf4G/u/9Bf5P/p7+u/7w/gv/Dv/X/nz+N/7D/Tr9bPzF+5r7hfvj+wn85fy//+sCKgWUBbMEhANXA/0DpwP5ArABNQAG/3P9j/yV/HP9h/5R/9z/OABoAb0C2AO3BAYFAgUtBDMDLQI7AcgAMQCG/7D+Jv7a/fH9jf5r/2oA9wA4AW4BxAE2AhsCegGQALf/TP/T/lv+H/4z/of+uv7W/uv+E/9r/2b/C/+Z/hz+lP0Q/Vn8pPtZ+zX7efsB/HT9VgB1A0wFYAWJBH0DYAPcA40DlgIxAZ7/P/71/Er8lPx6/X/+Nv/N/3gAkAHaAtEDegSjBFoEjQOXAscB9gBSAKz/9P5G/uD92f0g/sL+q/9XAP8AWAFvAc0B5wG4AQoBHwB+/9z+iP4r/v39DP4Z/o3+rv4l/67/6P/a/xn/iP7q/V/95fwO/Jv7Y/tO+6X73vvR/Jr/7gJIBfAFNwXZA2kD1wODA+ICnAEDAMj+WP1x/Jn8VP1w/nP/JQDJAMIB7QLgA7EEAAXaBBYE4QLIAQEBdwDt/0L/hP79/d79L/6v/p//igBFAaQBgQF6AZ4BswFeAZkAof/c/pH+h/6q/rX+b/5O/mv+1P6K/woABwB6/5j+z/1V/fj8p/wh/JP7TPs2+2P73fu3/e8A/wO+BXIFNQRBA0YDwQNWA1YCywAq/7b9YPz8+4P8w/34/rL/LACzANkBHQMlBM0E2wRmBH0DcQKNAeoAXwDC/xD/bP4L/gP+L/7C/rX/wQCGAaoBigF0AZ0BpQEZAUsAff8V/+P+xv6J/lL+gP6m/t7+Ef9i/8L/sf9p/7P+4v2G/Qv9pvwN/Ir7NPsm+9v7ePzh/isCaQSdBSUFLwShAwQEOARKAwoCPQC2/pH9lvyp/D/9OP4Y/7b/bABaAcwC5wOJBM4EgwQZBDcDPgJiAZ4ACABW/7T+JP4e/mf+y/5X/9r/fAAiAZUB3AHVAagBQwGHAMr/Av+U/lD+Lv5J/k/+cv6d/tv+L/95/7j/gP/r/lX+zf1Z/b382fsJ+7L6qfpW+yj8zPzy/skBJwRNBRkFMARmA78DoAP2AtwBKwDc/n79bvwu/Lv81/2//qL/XQA+AYkCnwOEBNwE2AR0BL8DywKwAc4A7P80/5P+C/68/bT9FP7s/vv/7ACPAb4BxgH3AfkB0wEfARsASv+B/lj+M/5T/oj+mv7d/tv+MP+a/wEAFgCC/9b+2f0s/cb8bvwF/Er79vrY+kr76/tf/YgAqQPJBQkG9QTQA50DGQS+A8QCGwFd/+n9d/zM+yb8Qv2M/or/HADBAPEBPANdBA0FKwXPBNwDqQK3AQcBWwCb/5P+rP01/UP9s/1m/kX/JwAAAVUBkAHzARkC+wE7AR4AU//X/p/+Q/7c/aP9oP0F/lP+3v6F/xQALACg/+L+T/77/bv9OP1J/Ij72/rU+gL7ivtY/BX+HgGeA2AFpgX1BFsEOwRTBK8DeQL2AGz/+P3A/GX8qfxe/YH+dv9VAFcBegKwA60EPwVlBQ8FMwQgAx4CFAFRALT/5/5J/tb9uf35/af+sP+qAIEByQHuARMCCQIMAogB5QAWAEX/uv4s/vf97/1C/pz+7f4+/1X/o/+7/7//ef/y/pL+7P1V/Wr8aPvN+rn6Efuh+yz8Cf18/5YC4QTCBW4FWwT5Ay0EnAOxAm4BBwC5/nH9cvw6/O/88f3o/r//jQCzAfEC7AONBLoErgRIBEEDOwI+AUcAjv/V/ir+wP23/dH9UP4l/wQA6ABqAZoBwAH7AQACeAGfALz//f6v/lH+CP7U/bX9DP5O/s/+WP/A/wAA2P+c/0v///6e/u39FP0H/B/7wvro+kv7JPyx/JP9EQCKAqgE3AXQBRwFrgRmBG8DmwJ6Afv/+/6A/X/8jPwU/Rz+Ef8XAAIBKwJZA1UE9AQRBQEFVQRkA1QCYQGgANX/MP9p/tX9vP0D/qD+Wv8PAKAADQFrAbgB+AHuAVgBpgDd/17/Hf+5/oj+Jf4I/ib+Vf7S/jL/i/+0/7D/gf/+/qD+J/6t/Sj9J/x0+9768PpA+4b7UfzG/Jz+TwGzAzAFhAU7BTUE7wOGA7gCAAKjAFX/7/2c/Dr8ofyc/Z7+qv+lAIQBmQJqAx4EogTmBM0EDQT0AsIB0gATADz/sf5N/gv+GP5p/un+n/+NAEYBpQGzAcMBywHHAYcBBgFlAJ7/8/5b/gX+8v0Z/oX+uP7d/hn/Vv+4/9z/5f+5/zn/w/77/RL9/vsv+9L6wPr/+jX71/un/Bj/aAKqBAQGBQYkBYsEgQT/AyUDWALdAGj/Iv6t/Dn8p/x0/W3+Yv9bAEYBZQJmAxIEtATyBKwECQTwAgwCMgFuAJj/w/5I/qf9gv24/TT+Mf8LAMMAGQFRAZgBlgGdATQBwQAxAJH/Bv9z/iz+rP21/eX9P/7j/kH/j/+E/6H/t/+j/17/rP7L/Qj9FfxP+776Xfpu+tv63vt3/Ir+eAHEA6EFzQUZBW8EsQSkBNwD9wIRAZ//lP4o/aL8s/xZ/Ur+M//d/5cAHQI8A08E7gTRBKwELwSZA7cCzQG6AKX/3v4v/ur92f0h/pr+If/d/40AQwHdAWoCbgIlAp8B2gBzAO//SP+k/v79l/13/Zv91P1R/vf+eP8eAF4AegCVAFsA7/8x/1r+S/0Y/Bz7cfom+iP6efo4+3r74fwdACwDhgU8BsMF0wTpBCoFaASPA9sBagAI/0X9J/zW+4X8e/1S/vb+0/8VATwChQN6BO0EDQWhBMgD2AIUAnQBiwBz/1/+r/1S/U39zP1G/jv/HgCZAPYAKwGcAeAB7wGNAQEBlQDY/zT/lP7y/c393f3y/TL+h/71/ln/tf/4/0kAZgAKAH//jf7E/SX9evzC+w/7g/oU+qD6Zvvr+979AgHtA6wFAQZFBX8E3QQyBawEmQMDAqMAKf+X/aX8V/zt/OL9rf48/wkAMQFWApADRgSwBPQErwQUBDkDPwJeAZ8Ayf8d/6b+If71/UH+uv54/xYAkgD3ADIBewGPAYcBOAHjAEUAf/8F/37+av6E/nf+N/4T/nH+6/6Q/wIAKQBKABcA2f9N/5r+5/0T/XP8evvh+oj6SfqK+hv7rvuU/Db/HwJPBJgFZAWSBHMEqgR8BPgD1gJcAcD/L/7I/G38yvxu/U3+r/4x/wwAIQFSAncDUQSPBHYE9wM9A6QCFgKSAcMA5f8q/4X+G/4I/lj+7v6q/xoATgCmAOIALQF8AUQBBQHTAFkA0f8s/63+b/52/pf+nv7V/gn/Qf+c/9//IgA1ACMA4v+B/z7/iP7J/fX89ftN+6f6JPom+gX7Ffx//Oj9eQAWA0IFBgaEBcMEOAVOBbMEIAR0AgsBvf/1/c/8lfwh/cv9dP60/hn/SQBQAX4CpANSBMQEpQQVBHID3AJpAqsBlwCY/77+R/77/dL9OP7u/qP//f8PAFYArwAdAUgBDwHBAHQAGwCm/x//sf5s/m/+Uv4u/oT+yP5k/9j/0//t/xAAOAAxAMH/Bf9a/sH9E/0o/Dr7oPpB+j76gPo1+6D7gfwT//sBdwSvBX0FugScBDMFTwW8BIYD8QGKACP/1v01/Sv9vv0t/i3+SP78/kkAsAHlArYDMwRwBH8ERgSyAykDpgLdAfAA/P8u/5n+Rv4+/qD+Fv+H/9//CgBbAJEAvQC+AMMA0wDRAIgA7v9g/+L+5v7//gX/HP8X/yf/OP92/9X/JgBRAEYAQAAGAK7/Af8L/kT9ovwY/E37efoC+iH60/rn+278+vxz/2QCqgTUBXwFqwSoBFMFEQVWBDgDxgGJANH+fP3K/ML8Rv10/YL9sP25/hUAUQGQAmsDEARKBEkEEwStA1UDnAKfAaAAvv/7/mL+C/7p/T3+lf7R/hr/Vf/g/0QAkgCxALoA4wC5AG0A3P93/z7/L/8X/+D+yv7E/u3+Iv93/8v/RQCxAKUAaQAfANP/R/+s/uP96Pxh/ID71fpm+j/67vqJ+038e/yf/WYAMANvBekFbgXHBAIFmQUVBX8ESwO9AWwAsv6R/Qn9G/1//Yb9xP0z/jH/LAA2AYcCcQNDBGoERQQlBNIDqAMiA0ICYwF2AI//uP4r/vn9Qv6t/tT+/P4M/13/xv/0/0IAZgCfALEAagAUAMX/s/+T/4H/SP8y/z3/GP8w/1D/lP8eAGQAYQA0ALT/gP9B/7r+HP49/an84vsq+3b6L/qo+jL77fsp/GH8v/2AAIsDUwW9BScFfwSyBOYEqQQjBC8D6gFLAI3+OP22/O/8b/2N/ZX99P3A/u//KAFeAnQDHwRiBFEEFQT9A8IDTAOKAn4BjQCg/9P+Xf4r/kL+Z/5D/jj+c/7k/mX/yP8eAG4AuACuAHsAOwAMADoAWABAAA0Atv+c/4r/l//q/yEAXABdAEMAEgDi/8//iv8z/8D+Qf6o/f38Ovyk+z37R/uo+yT8b/y2/BP90v1gACADLwX7BT8FXQQmBLQEtQRqBHMD3QGCAK7+df37/AT9rf3+/Q/+Df6K/pX/wwAfAhgD7wNFBBcE7QOdA3sDSAPfAukB0QDj/9z+Vf79/db9/f3//fn9Gv5R/rP+Nf+B/9H/OQB/AIsAXQAsAC0AUwB4ADUAt/9+/3P/hP+u/8X/vv/T/9L/ov+n/3j/Xf9s/zL/1P5S/q/9/vy6/GT8J/wl/O/7Mfxb/Kf8LP2R/aL/iQKFBFEF2QTaA7kDuATjBIcEvwNCAhwBlP83/qj9qf0G/g/+x/2T/TX+Tf9VAFsBTAJTA/EDEgTwA8wD9gP7A38DeAJTAT8ATv+q/hv+3/3r/eL9uv2+/er9XP4r/7//JgB4AJMAtwDcANcA3QDfAJMARgD+/7L/lf9t/1T/Uf9s/5r/sP+3/67/pf+H/4f/dv9l/1n/6/4n/jf9vPyC/Iv8lPwc/AX8SPx+/Az9bv3h/RwAzgJGBL0EFgQeA2kDWARiBBQEIAO6AY8AI/8Z/rz9vv0V/iz+5P28/Tj+Q/94AKkBmQIuA2YDjAOmA8cD6AOfAwMDGgIRATEAXP+8/mr+S/4p/gL+6f3t/V7+0/5F/7j/BABqAKAArQC2AK8AyADMAJsAYAAOAPj/9//x/+n/1//k/8r/yf+r/5b/zf/f/9D/if9A/+7+l/4t/qP9S/35/Lv8mfxr/Kb88PwY/aj9yf3//qQBkAOmBJwEnAMCA9YDOwQBBMQDZQI8ASIAhv7a/dD9Bv5b/jD+yP26/YP+ff+nAMQBUgLpAhYDEwMpAzQDWgMlA5ICngGBALT/F//N/pX+dv4z/tr90/3h/Tr+u/7o/hf/b/+r/wgALQAyAC8AQQBqAGgAbwBAACsA/v/G/9//9v86ADsA8/+z/23/bP+x/9j/2/+9/2j/Cv+z/nv+eP5k/kX+A/6z/Xj9X/2E/eT9MP5f/ob++v7QAKkCkAOPA/ACfQLiAqQDhAMeA2MCcgG/ANP/LP/r/gv/Qf/u/qv+jf77/tb/jQAzAY0BCAJlAp4CzQLWAu8CrQJEAr4BEAGSAP7/c//3/q3+pv5U/in+9v36/Uv+hP7l/gn/bv+z/93/EwD1/ycATQBaAGIANQAhAPD/xv+d/2H/of/C/6b/bP/2/ub+Av8Y/+n+o/5m/jP+FP6K/TL9//wB/Rf99vwn/SH9W/2b/d39Yf+EAVADzwM/A1ICPwJwA8oD3QNeAyoCdwFKAC//sf68/g3/DP+2/hH+JP7E/n7/jgApAbYBRwJrAogCnQLcAhUDHwOmAsEBGwGHAAQAqf9N/xb/0/6J/lf+MP5k/qT+2f4R/0j/f/+9/wYABwAwAHkApwDgAOQAnABiACwALwBZAF0AUAASAOf/sP+O/3z/W/9e/0r/MP8L/8/+tv6r/pv+bv4I/rj9fv1v/ZT9mP2q/aP9qP2u/Vj+TwANAvECzgL8AZABKQI0A0wDGgOJAnkB3wDj/zP/PP9W/4H/D/9o/iP+iv5h/xIAtAARAVkBsgHhAQMCOgKJAp4CawLNAQwBkABEAAwAv/9s/wj/sP6D/n/+h/6L/pr+xf4H/1D/jf+V/6H/xf/z/0AAXgBjAHcAZwBXAEkAVwB9AKoAsABeAPf/i/9//6r/sv/H/4P/L//v/oX+P/4M/vL98f3M/WD9NP17/aH9/P0l/ir+sf+yAfMCbAPbAi8CcwKQAwUEzANoA10CqAH8AO3/oP92/2f/VP+Y/vb92f17/lX/HACtAM0AKAFzAcQBHwJ6AgQD/wKkAgQCHQGyAH8AcABJALn/D/9z/h3+BP5D/mb+Uv5U/iL+Kf6F/u3+Wv+G/5f/zv/j/yoAggCRAKgAtQCrAK0AvwC4ALMAdgAFAMn/lP+N/5T/Vv8a/77+nP7F/t/+6f7C/pf+bf54/lX+Pf5O/jD+Tv4w/iz+Jf6G/jMApAFMAlUCyAEtAc8B6AIBAxEDqQLFAV8BvABFAE4ALwBPAA4AT//j/hf/sP9SAO4A7gDVABMBRgHJAR8CUQJyAi8C6AFQAdgArQCcAH0AWAD8/xD/qP7A/gz/Xf/f/ob+yf6m/uP+M/8K/1v/uv8KACgA+v8dAEYAcgCxALUAgwBnAGYAOwDl/5L/W/9G/2P/Nv+s/gX+ev07/RH96fyl/Jv8uvy7/NX86Pxi/Uj/igHhAj8DsgIyAtACEgS7BOEENgQFAyYCLgFmABQA0P+F/xL/LP5G/Q39cv1M/jv/sv/c/+j/KQDuALoBWALiAhED0wJ6AtkBbAFnAYEBagGxAMr/9v6G/nb+Z/5b/ib+5v28/Zf9qv0A/m/+9/5K/3T/lv/I/0sA2QBEAXgBlAGLAYIBiwFmAUcBFAHUAKAALgDP/3X/Jf8b/wn/+v7l/vz+K/9J/4P/vf8NAFkAowDEALEAyQCxAJYAewALAKr/PP+2/l7++/2T/Uv9KP1b/bX9Rf7T/ir/gP/2/2YADQHaASoCcgJ4AjkCTAJDAjcCNQLTAVEB2QBgACYAHAD8//r/8f+q/7f/r/+8/xwANQBvAHcAUQBeAF8AhwC8AMIArwCUAGsAIgAAAOX/z/+5/2X/Ev+c/kz+PP4b/vX9oP0V/bP8evxA/OD7bvvg+o36q/rk+m/7l/vg+xf8Hf1vABQDhgQfBWUECgR4BSgHbwdtB3oGoASqA2ICIgHtADoAdf+3/lX9Q/wl/Jn8Y/2J/hz/Gf9b/+H/6wA3Ag8DogPHA4wDUgPRAmcCjwKeAj4CeAEdABn/w/6N/nT+Jv6n/V79Kv0D/Tj9tv06/t/+QP9u/9X/QgDsAKQBDwJ1AqAClAKWAm0CVQIcAqwBTwHZAFIAov8V/5n+V/5X/gH+2v3U/dr9Lv5q/qv+HP+i/yQAcwC0ANIAFwF3AaIBwgGfAWwBPQEDAbsAZAARAMf/iP9D/xv/3P6z/rP+0v4m/2D/gf+F/8H/MQCDAPAAMgFOAXMBdAF8AXcBcgFxATsB3wB2ABMAxf+X/23/Pf8F/6z+av5X/mv+lP6o/qf+rP7G/ub+I/9c/2H/gf+R/3//cP9A/xj/2v6J/ij+o/0r/a/8X/xV/EH8H/zV+6n79vtM/Ij9vf82ARoChAJSAsECSwSqBTgGUwaGBYoE/wNYA/QCoALqASgBKgAA/0n+/f0H/lL+ff5o/j3+Kv6K/mX/VQApAZUBoQHYAQ0CKwKPAsICxgLPAlACfAHkAIcAVwAzALL/7/44/rH9Y/1K/WH9gv2a/av91P0U/oD+E/+x/3EABwFRAX4BmAG/ASgCbgJrAkACqgEoAacAfQCEAOT/o/9D/5D+Z/5H/jz+XP6I/sv+8/4E/x7/bf/a/1sA4AD2ABUBJwEwAWkBUwFuAU8B3gCZABkAv/96/zT/D/+4/nT+Mv7z/QH+M/52/rH+6/4V/0T/of8PAH8A2AARAS8BOQFNAWsBZgE5ARcB8gC4AGsAGADX/6r/p/+a/3//Wf9B/zr/Rf9n/3r/qv/B//H/GwAtAE8AQQBdAHEAeQB8ADYA6v+T/1D/I/+9/lT+xv1G/f78xvyy/Hb8MvwX/A38Wfzp/M/9bf+uAGkByAH0AZgCoQPaBF4FZgUzBZUEIATEA2kDHgOYAs4B3gDt/13/E//e/sn+uv6e/nz+dv6l/jb/5P9nANIA5wAJAWgBmQHHAQYCMQIwAvkBfQECAdMAowBeAO//Yf/v/nr+Iv7Z/aD9p/2y/bv9uv2y/dz9O/7F/mX/7f9IAJgA2gAkAZsB+gEpAh8C8wHCAY0BPQHsALYAcAAMAKb/Hf+u/pf+df5s/lH+Bv7j/cn90/0E/gP+GP4f/iX+Zf6a/hf/8P/TAEsBVgEbARcBnAEkApoCwwJTAt8BigEuASwBOgEMAdQAeAD3/7f/mP+j/+f/6P/d/9f/n/+0//7/SQCuALwApwCKAHQAhQCBAJgArgClAJcAQgDz/9j/zP/u/93/ov9e/xD/Av8B///+Df/6/ub+0v62/rT+1f4G/y7/IP8K/wP/3v6//oz+W/4e/uT9vP2Q/Xn9dv12/Wr9Dv5P/1cAyQCwAIQAwgCdAaICMwMjAyIDAQOLAoYCdQJtAqMCWgLOASMBmQBcADYAKAAoAAUAoP83/9v+5/40/3b/kf9i/0X/Sf9j/4//0/8lAIwAvACMAHkAgQCiAOIA3QC3AJIAXwAtAOT/tf+y/5L/gP9c/xP/Af/z/gH/Hv8+/3//m/+i/6L/rf/j/zIAeQCcAJgAmgCnAKsAvAC7AMgA3wDAAKMAbQBDAEQALwAtABwA/f/3/83/sP+6/7//1v/f/9X/2v/i//P//f8GAA4AGAAhABUAAQD+//r/+P/9/93/0v/L/7f/r/+d/5b/nf+t/7b/qf+Y/5f/n/+w/8D/wv/A/8L/tf+0/7b/q/+1/7n/r/+h/5L/kf+g/53/kf+J/3r/d/9+/4b/lP+U/4v/jv+V/5b/of+p/5//lP+H/5H/jP9z/2H/Tf8+/0L/Qv8y/zf/P/91/7D/vv/P/9L/1P///y8ATABzAJIApQC7ANkA8AD6ACABNgE7AUgBQwFLAUoBOQE7ATABKQEvASgBFQEFAe8A0QDAAK8AmQCGAHcAWwBCADQALAArACQAHQAOAAMA/f/v/+f/4f/Z/8r/vP+4/6X/mf+U/5f/n/+e/5j/lv+Y/6H/s/+//9H/3P/f/+b/7//v//7/EAAYABEACAAVAA8AFQAbABYAEQAGAA4ABgD7/wEA///4//P/6P/m/+r/4f/d/+P/2//Y/9T/0P/X/9r/3//Z/9L/3P/g/9v/4f/t/+//8P/7//3/BAAWABsAJgAtAC8AOAA6AD0ARABEAEQARwBIAEcARQBIAEUAQwA3ADQALgAmADIAKwAgABoADAARABMACAAGAAAA9v/n/+X/5f/j/97/y/+4/7n/sP+h/5//hP9+/3P/Xv9f/03/R/9O/0j/Rf89/zj/P/9L/2f/dv+B/5L/nv+7/9b/9f8KACYASQBRAGwAhACQAKgAvADJAMwA0QDVAOEA5ADrAOcA3ADoANUAxADLAM0AvwCrAKMAlgCEAH8AeABqAFoATgA+AC8AIgAWAAkA8v/l/9H/uf+p/5D/gv9z/2n/af9d/1P/UP9H/0X/SP9R/1//Xf9j/3H/ff+D/4T/lv+t/7j/uP+5/8D/y//S/+f/+/8EAAYADAAeACAAJQArADkAQgA+AEcAPAA+AEsASgBMAEoARwBHAEgARQBGAEQAOwA5AEMARwBMAD4ANwA+ADsAOAA7AEoAQgBIAEkASQBMAFMAXwBdAGAAWwBfAFQARwBPAD0ANAAvAB4AEwALAPn/7P/l/9T/zP+//7L/pf+i/53/hv93/3v/dv9d/1D/Sf9A/y7/I/8c/xD//v7w/uH+0/7X/tP+0f7O/tH+0/7P/tz+2/7m/vj+Cf8p/zn/Tv9u/4X/pP/M/+j/AgAfAEQAYwCAAJ8ArgDFANcA6AABAQkBCgELAQkBDQEIAfgA9gD2APYA9ADjANQA0ADNAMQAwAC3AKAAjgB7AG8AZABLAEMAOAAZAAwA+P/j/93/0f+7/7P/qv+b/5j/f/9+/37/ff+I/4z/k/+X/6H/pv+7/83/2v/n//L/AAAEABIAGAAXACAAGAAcACUAJQAqACcAKQAwAC4APAA9ADUARwBEAEMARwA9AD4AOQA4AEIAOgA4ADUAMQAtACgAKQAjABsAGAAOAAgAEAATABYAEgANABYAEQARABUADgAXAB0AGQAbABAADAAQAAUA+//1/+7/5P/W/83/xv+//7j/rv+i/5b/h/99/3f/c/9o/2D/Zf9l/17/W/9h/2P/X/9e/2j/cv94/4T/iP+N/5T/k/+S/5f/n/+l/6n/qf+n/6P/tf++/7r/wv+9/8D/zP/P/9n/4//t/wUAFQAZACgAOQBJAGAAdQCKAJQAogCyALYAvADGAN4A6ADmAOkA3ADXANEAygDPAMgAwwC4ALoArQCbAKAAlQCPAIcAggB7AHAAZQBUAE8APwAxACgAGgADAO3/4//I/7f/rv+k/5P/ff93/2f/Xv9X/1P/XP9d/17/Zf9x/33/hP+M/6P/q/+v/7f/vv/L/9D/1//Y/+L/6v/p/+n/8f/z//X//v8DABAADgAQABgAFwAeACgAKQAwAEAAPwA6AEMARAA+AEcAQwBDAEsATQBRAE8AVABMAEgASQA9ADkAPgA7ADQAMgAtACsAKAAqAC0ALQAuACIAGwAjABsAFgAPAAAA+f/0//L/5f/b/9j/zv/L/7z/tv+x/6f/pf+U/5X/k/+Q/5b/kP+O/4n/j/+Z/5b/lv+R/4v/i/+P/4//j/+L/4z/jf+L/5H/iv+I/4b/gf+K/4f/if+Z/5v/rv/E/8v/1f/n//r/DQAmADUASwBeAHAAeQCCAJgApgCoAKwAtAC4ALcAtwC0AK8AqwCrAKUAogChAI8AjwCKAH4AggBzAGwAYABMAEQAOAAvACcAHwAKAPf/4//W/8v/t/+w/5r/lf+P/37/d/9r/23/av9v/3f/cP97/43/lv+g/6//uv/S/93/5f/2//3/EAAWABkAJAAtACwAOgBCAD4AQwBCAEoARQBDAEgATgBTAFcAWgBYAFYAVQBcAFUAUwBSAFAATwBFAEkARgA+ADwANAAuADAALwAwADIALgArACoAHwAYABgAEwAcABMACAAIAAIAAwABAPj/8f/x/+j/4P/h/+D/2P/T/9L/wv+7/7n/r/+t/6z/oP+a/5n/lP+P/4z/hf+A/4f/hv+I/47/kv+R/4//lf+T/57/n/+c/6L/of+m/6L/pf+o/6z/qv+v/7v/uf+7/7X/u//I/8f/zv/b/+j/9/8DABEAHQAnADUARwBSAFoAZQBwAHgAhQCIAJQAmgCfAKMAnwCqAKMAmQCZAJsAnQCOAI8AjgB4AHIAcAB0AG0AYgBfAFEARQBDADwAKAAdABIAAwDx/9v/0P/K/7n/pv+Y/5H/jv99/3n/bv9p/3T/cP9z/3b/gf+N/5X/l/+e/6z/uf/E/8f/0v/a/+3/+f/5////BQAKABgAIAApADQAMgA0ADsAPwBFAEsAQwBOAFEATgBXAFAAWwBdAF0AXABXAFsAVgBYAF0AVgBNAEgAPQA5ADgALAAoACkAIgAcABUADQAIAAIA/v////j/7//u/+b/2v/a/9T/0f/T/8v/w/++/73/tv+x/6r/oP+d/5j/l/+S/5b/k/+K/47/j/+I/4D/i/+R/5L/lv+X/5j/i/+R/5b/if+N/4n/hf+D/4D/gf+A/4f/gf9//4P/iv+U/5z/q/+2/73/yP/W/+j///8VAC8AQABOAFoAZwB5AIcAlACXAKoArQCwALwAsQCuALgAvAC7ALsAtgC0AK0AswCyAKEAlACJAIwAgABsAGgAUgBJAEUAKAAgABUAAQD0/+n/3f/T/8r/s/+o/5z/nf+g/5f/lf+Z/6L/oP+a/6T/qv+p/7//0P/Z/9//7P/9/wIADAAYABoAIgAgACIALgAwADsANwA8AEEAPwBNAEgASgBSAEwAWABfAFMATgBNAE8AUQBMAEoASAA+ADUAKQAkACoAIgAWABEACgADAAQABAAAAPz/8//x//T/8f/u/+f/6P/u/+b/3v/j/9n/zv/V/9L/zP/G/8P/u/+6/7v/q/+z/7T/rf+r/67/r/+o/6T/mf+g/6r/q/+p/7b/vv+7/8z/xv++/8v/0f/b/+L/5P/g/+L/7P/p/+r/7f/w//n/+v/8//7//v8BAAcADQALABQAIQAfACUAJAArAD0APgBFAFMAWwBaAF8AZgBrAGwAbQB2AHoAfQCAAIgAhwCNAI0AkgCVAI4AlwCOAIkAjQCFAIEAfQB3AG8AZwBfAFUASgBEADIAJQAcAAcAAQDz/9v/0//B/7P/qP+e/5f/kv+J/3v/dv91/3D/af9s/2X/Zf9m/1n/U/9Z/13/W/9p/3D/d/95/3r/gf+K/5f/mv+j/6n/r//C/9H/3//r//r/CwAQACQAMgAxAEoAWQBaAGYAcgB5AIgAjgCPAJ4AogCjAKYApACkAJ8AnACWAIkAiACKAIEAeQBqAGIAYQBUAEkAQgA4ACwAIgAbAAoAAQD0/+L/3f/V/8v/xf+9/6r/oP+e/5b/kP+L/4j/gv+I/5b/m/+Y/57/qP+m/6v/tf+y/8D/z//X/9//3v/y/wYAAAAAABEAEwAWACAAIQArACoALwA4ADUAOQA7ADwAMwAqAC8ALwAqAC0ALgAuAC0AHQAVABQADwAIAP7//v/8//L/8f/o/+H/4f/n/+f/2P/U/9H/zv/F/8D/v/++/7P/t/+6/7P/uv+y/7n/vP+y/7j/t/+z/7f/tf+y/7D/r/+5/7X/tf+9/77/0f/Q/8v/z//S/9r/4f/j/+X/6P/p//j//P/9//v//v8HAA0AEQAQABMAEwAXABMAFAAVABUAIwAjACIAJwAjACcAKQAlACYAMgA3ADAANAA3ADgANAA8AEEAOwBDAEsARwBCAEYASwBOAE8ARwBLAEsASQBMAEEARwBFAD0APQA0ADIAMgAnAB0AFwANAA4ACQABAPv/6//q/+D/0v/Q/8r/t/+u/6H/l/+c/5L/m/+P/4v/kf9+/4b/hf+G/4j/gv+C/4b/jv+O/5P/nP+l/63/rP+x/77/uv+8/8j/1f/c/+H/7P/z//f/AwALAAwAFgAWABwALAAsAC8AMwA1ADwAQgBHAEQASQBVAE8AVQBWAFoAXABYAGAAXABgAF4AWgBdAFYAVQBWAFEATABRAFIATQBRAE4ASgBMAEYAOwA0AC8AKwAqACYAJAAiABsAGwAIAP///v/5//z/9//5/+7/5v/p/+P/3f/k/+T/5P/q/+r/5v/g/+T/5v/n/+X/5v/j/9v/4f/k/+f/5v/o/+z/7v/3//L/+//8//r/+v///woAAAD+/wEAAQACAAAA/f/6//7/9f/t//P/5v/g/+f/5P/e/+T/7v/r/+L/3f/h/+T/3v/h/+n/4P/b/+P/3P/c/9z/3P/g/+L/5f/l/+f/4P/m/+X/5P/v/+b/6v/s/+T/6P/l/+z/+f/4//r/+//8//z//P8AAAIAAwADAAoACwAFAAsAFAAVAB4AGwATACEAKQAfACIAKgAjAC8AKAAnADAAKwA6AEAASgBMAEAAQwBAAD4ANQAwADYALwA1ADEAMAA6ACsAJAAnAB8AGgAiABwAFQAWABsAEwAKAA8ABAD9//r/+f/u/+z/6//n/+n/4//d/9j/1v/Q/87/y//E/8L/x/+//7r/w//B/8H/wP+7/73/wf/K/7z/vP+9/7b/wv+7/7z/vf/E/8P/wf/M/8f/zP/J/8n/0v/W/9r/2//a/97/7P/p/+b/6f/n/+3//P////j/BAAKAAoAFAAPABMAIgAgACAAHQAfACoAMwAwADUALQAsADsAMQA5ADMAMAA1ACwAMwApACoAMAAuADMALwAtACwAKQAqACsALQAwAC4AJQAhACcAKAAkABsAIAAgABgAGwATAAwAFAAQAAgAEQATABkAGAAdABwAEQAYABMAEQARAA8AEQAMAAIACwAIAAMABwACAAYAAwD//wIAAAD4//j/9//w//b/AAD///3//f/6//j/+v///wEA+//x//P/9//s/+j/7f/t/+r/8f/x/+f/9P/6//H/9//2//H/7f/u//v/7v/o//b/6v/p//n/8//v//n/9v/2//b/8//s/+r//P/5//b/+//5//f/9f8BAP7//P8CAP7/BQAGAAMAAQAHAA4ACQAUABEAEgAdABIACgARABUAEQAUABYAIgAdABoAHwAYACQAHwAWABwAFgAZABsAHAAgABoAFgAXABYAEgAKAAcABwAEAP7//f8NAAgAAgAIAAoAEwALAAsACgD+/wwABAD0/wIA/f/8//v///8EAAQACwAHABgA3P+zAa8FSgV0AdT+Qf0N/pT/YQB7AHj/RgBeASkBQgGwAbMCiQLLAGX///5O/57/pP8s/8v+t/7Y/q/++/1//iL/YP98/6X+qP7h/jn/x/9T/8v/nQD0AOoAyv82/wb/Jf+ZAIABaQE2AeUADAGnAC4A7QAMAawAVwBz//n+e/+nABYBxwBvAAoAVAAJAAz/7P5W/9T/5f+c/0f/BP9L/4f/ff8s/xz/kv9V//j+4/69/iP/1v/y/4P/mv/D/7D/9v+t/7v/egCDAHIA4f9d/9L/cwA/Ac4ADgBSAPf/8/85AOr/fgDXAJYATwCN/7r/0//i/2MA0P/d/xQArv/B/2j/aP8IAC8AOQDz/4L/kP+L/3//rP+o/63/3f/t/4P/aP+q/3b/j//F/5//o//v/+j/0P/3/+X/QQBiAP3/CADR/8z/KAAUAEwAVwAVADsA+//H//r/GwApAOv/uP+f/2j/Zv+H/3b/df+n/6L/hv9q/1L/kf/K/+//CwD6//n/8f/z/wYACAAnADwAHADs/8T/wv/z/ysAOAAlABAAAAALAP3/7f8KACwARAA1ABIABAATACwARgBWAEkAUAA6AAYAAgAEAC8AdwBbACgADAD3/xAAHQAsAAcA2P/Y/73/rP+r/8X/7v8DAPj/xP+U/5f/vP/r//7//f8HAPj/1f/B/8f/1f8FABkA6v/W/7H/r//Z/+v/+v/x//T/9P/X/8L/u//Z//7/BQD9/+T/z//F/9P/4//s/wcAGQAPAO7/2P/h//v/IQA1ACMAGQAUAAIABQAeACoALQApAAMA6v/g/9//9v8AAAYACwAGAP//7f/a/97/5//p//b//v/+/+z/1//M/8v/3//z//j/3P++/7v/w//f//b/5f/V/9D/y//T/9T/3P/u/+3/1f+7/6n/t//d//X/+v/6//v/9v/+//7/AQAYADgAVQBMADcALgA1AFcAbQB9AI8AjwCOAIEAbQBzAIMAkgCNAH0AagBbAF4AWwBWAFsAWABKADMAGQALAAwAHQAyACQAFAAiABoAFwAEAP//DwATACQAEwDv/9P/zP/a/+L/2//R/8H/qf+L/3f/e/+P/6b/o/+I/2H/T/9j/4X/mP+V/5b/lf+L/5L/mv+9/+v/AAAQAAoACQALABUAIgAnADAAOwBVAFoAWwBVAEQATwBTAFMAaABtAF0ATwBKAFgAcgCPAJIAhwB6AGIATgBaAG4AegB0AFIARwA+ACwAMwBEADIAEAD2/+D/4//u/+z/3v/L/7r/tf+z/7H/o/+g/5//mf+c/4H/b/9r/2v/e/+E/4//lP+C/3f/ev+S/6n/uP/S/+P/7P/t//P/CwA0AGYAgQCEAHoAiACrALkAxQDNAOEAAQECAfEA3wDRANwA/AADAewA4wDMALwAtwC0ALIAqgC3AKgAfgBeAFEASwBJAFYAQwAiAB8AHgAjAB0ABgDv/+r/+f/r/8v/rv+i/5n/jf9+/2H/T/9A/zP/I/8K/wD/BP8K/wH/5/7p/gb/Gv8q/yP/Gv8w/03/bf+A/5v/u//Y//T/AgAdAEUAdQCWAKEAowCrAL0AxwDLANUA6wD4AOwAyQCmAK4A1ADYALwAnACPAIcAeAB1AG8AagBnAE0AKwAfACAAKQAmAA8AAAD7//L/9//w/9//2P/D/67/nv+Z/5r/lf+A/1T/Nf80/zz/P/8u/wn/8P72/gf/E/8b/zD/Pv8m/wn/FP9P/6L/2v/p/9//4f/+/yoAagCdALoAyAC/ALMAxwDyABoBLgEQAe8A4wD5ABIBAgHsANoAzwC9AKwApQChAJkAkwB7AGcAbQBvAHUAaABLADwAQQBHAEsAUgBDACYACQDq/8v/wv/B/7L/mP94/2D/UP84/zD/Nv8z/yL/C//k/tf+4v7M/sv+2f7m/vz++f7x/v7+K/9h/2j/av+K/67/2P/8/w0AHgBAAGcAkQCOAHkAkgCmAM0A1ADSAN0A0wDnANMAzgDhAPAA+wDhANUA1wDwAA0B9QDZAMYAuQDAALEApwCbAKAAsACSAGMARgA2ADgARAAqAAAA6v/r/97/zv+r/37/ef95/2//TP8z/zf/OP9D/zr/Jf8p/zT/N/8z/0D/Pf86/0//W/9Y/0r/Tv9j/47/wP/N/9H/3P/n////IQAxADIAQABZAGoAdwB9AH8AlQCpAK8AsACuAKgAqgC1AMMAsgCSAIcAhwCbAKoAnABzAFsATwBTAF0ATABHADwAJgAOAPb/+v8TACUAFQDg/7n/p/+e/6j/o/+W/43/ff9t/1P/TP9e/2n/aP9j/0T/Qf9S/z7/Tv9N/03/av9f/1H/Rf9a/4b/nf+a/5T/mv+n/8n/4f/6/yAAQABLAEkARwBOAG0AegBsAGMAdACNAJQAkQCPAJoAtAC/AK8AqAC0ALsAvgC7AKsArACzAKsAlAB3AG8AgACOAIUAaQBCABoADAAEAPz//f/9//7/7v/Q/7j/ov+l/6v/lf+C/27/Z/9s/2v/YP9N/z3/O/8+/0L/Uf9d/13/Q/8w/zb/Sv94/57/of+R/37/eP+Q/67/uP/M/+3/8f/u/+v/6/8KACoASwBVAEwAUgBWAF4AZgBnAHYAfQB7AH8AZABDAEkAWABvAH0AcABoAGMAWQBZAF4AdwCIAHsAZgAyABIAGwAiACQAFAABAP7/+//+//f/5v/e/9j/2//K/7T/uv/C/8j/sf+S/4v/gf+H/53/nP+V/5X/lP+X/6D/sf+6/8f/yf/F/9f/6v/3//z//v/7/woAEgASAB0ALQBUAFwASwA9ADIAPABGAF0AbgBtAGwAYwBfAFIAXQB6AIQAdQBRAC8AIAAyAEYAWgBMACUAEgAGAA4AEwAfACsAGgACAOb/1//X/97/4P/Q/7r/s/+w/7T/qP+M/43/pP+7/8L/qv+I/3D/Zv9i/2b/d/9+/3T/Wf89/z//Wf9w/4j/g/9z/3n/iP+c/7D/zP/a/87/x/+//9b/AQAUACEAEAD1//T/AgAQACkAMQAtACoAGQAkADEANQBIAE4AUQBdAFkAVQBfAG8AbwBqAHcAbABpAGkAVABfAF0AVwBNADoAOQApABkAHAAYAAYACQAIAP3/6f/G/77/xf++/9D/3v/F/7X/sf+8/8b/2v/p/+T/3P/M/8P/vP/F/8f/vf+8/7v/uf+v/7T/tf+9/9j/7f/t//n//f/v//n/BAALACEAJQAXACEAIwAhAB8ACQAWACoALgAxAB0AFQATACkAPwAvACIAEgD9/+//6v/s/wgADQDv/8r/qP+7/+n/EgAZAAQA9v/q/9j/1P/q/w0ALAAeAPj/1/++/8j/2f/k/+z/6//h/9j/xv/G/+X/9f8AAP///P/6//n/BQABAAMADwATABcAHQAbAAwACgAcACoANgBIAEUAPgAyACQANABHAGIAZgBPADIAHAAXACUAPwBQAE4APQAtAA8AHAA7AFEAaABcADkAIAAcADEATgBTAEUAMQAYAAIA/P8RACMAJwAgAAkA9f/0//P/7P/o/+H/6f/l/+H/4P/Q/8v/uP+3/8b/zv/h/97/1//O/7f/y//U/9z/+//6/+7/zP/E/97/6v/+/wUA6//U/77/u//W/+X/5v/i/9n/1f/d/+P/7P/4/wIAEgAXABcAHAAWAA0ACAD7/wYAHgAPAAIAAgADABEAGgARAAYACQANAAcAAQAMABsAJwAmABUACAAFAAQAAgAUABoAFgAZABgAGQAMAP///v8TADAAPQAzAB4ABADu//j/DwAcABoACgD+/+j/3//w/wgAHgAhABoABQD+/wkAHQA6AD8ANwAqAB8AFQAiAC0AHQAWAAMAAQAGAAAAEgAYABYAGQASAAoACgAVACMAIQAcABsAFQAWAAAA8f/z/+T/8f8NAA0ACgD6/+n/6f/o//T//f8BAP7/8//c/9P/1f/h/+f/2v/Y/9b/3P/p//j/8v/s/+z/6v/q/+b/5f/m/+n/5P/Y/8//zf/N/8j/z//U/+L/7v/0/wQA+//0/wEAAAD9/wcABgALAAkABgAQAAAAEAAdABIAHgATAA4AFgANABQADwAOAB8AEQAHAAUAAgAXABEACgATAAMACwAZABUAHwAfACEAHQAPABkAEQAFABIADgADAPz/CAAMAPf/7P/j/+//AQAGAAkA+//d/9P/5P/u/wEACgAEAAUA7//n/+v/9f8KAA8AGAATAP///f/6//f//v8BAAAA+f/q/+D/4v/f/9z/4P/Z/8//2v/g/+n/+f/3//v/AwD///n/8//7/wwAFAAdAB0AEgARAA0AAgD+/wEA//8KAAUA+P/q/9v/5f/m//j/9f/d/9T/wP/D/9T/3//v//7//v/7/+r/4P/6/wEADgAZAPP/8v8FAAUAAgAFAA4ABgABAPv/9P///wYAAwAFAAQAAAAEAAAA//8CAPj/AAAMABQAGwAbACEAJwAnABsAEAARABMAHQAZAPf/4P/m/+v/9v/6//r//f/3/wAAAgABAAQA/v8DAAYAAQD//wUA/v///wsABgACAP7//f8DAAsACwD9//P/9//6//P/6P/m/+v/6v/o/+r/6v/m//f/8v/p//j//v8GAAkAAgDy/+z/+f8DAPv/7f/h/+L/6f/o/+f/7v8AAP//9P/7/+3/6v/2/+//5//o//j/+f/s//H/7P/k//v/BwD9//f/8//u/+7/9f/+/wwAFgAKAPb/5v/c/+//CwAPABgAEgANABcAIAAuADoAPgA5ADAAKQAzADwASgBIAD0APAAlACkAMgAgAB8AGwAUABYAEwARABQAEgALAAsAEQAiACsALQAlAA8ABQAAAAMAEAAVAAwACAAAAPz/DQAfACsAGwAFAAIACAAJAAoAGgASABUACgDy//T/+v8PABYADAACAAMAEwAqABwACQAFAPn//v8AAAYA/P/x//P/3//Z/9b/1f/s//L/5v/r//P/6//0/+n/4f/8//f/+v8CAP7/BgAGAPv/5f/j//j/8//x//X/6//s//H/7P/k/+v/8v/x/+z/5f/k//b/AwACAPf/5//8/xIACQAEAAcACwAaABsACAADAAcAEAALAP//9v/0/wcA///6//b/7f8CAAIAAQD9//b/9v/x//n/+P/1/wIACAD+/wEACAAOABUADQAGAAYABgAEAAgAEQARABIAAQDr/+f/6P/9/wYAEgAVAAwAGQAIAAgAEwARACMAJwATABkAHgAaACsAMAAvACEAEgAYAAcAAgAcAB0AFAAMAPb//v8KAA8AGwAIAAYACgAJABAABwAEAAYA9//x//X/9v8TAB8AIwAWAP7/DAAMAA0ADwAWABkACgAHAPP/5P/3/xUAEAACAOP/zf/W/9f/7P/7/wMAAQDx/+L/3f/f/+X/9P/w/+j/1v/N/9f/3P/o/+L/4v/i/9T/2//k/+D/6v/w//X/+P/p/+L/1//O/97/2//a/9//3v/i/+P/3//k//b/AgALAAwABwD+/wIABwAPABsABgD0/+z/4v/s//D/8//w/+X/6v/q/+n/4v/q//z/AwABAAMAAwD///3/CAAYACAALQA9ADgAJwAtADEAQgA/ADkAQAAmAC0AKwAkAC8AJgAkABcAEwAQABYAHAARAA4ACgATABsAGwAeABYAFgAWAAcAFAALABAAIQAYACEAEwAOAAMA+P8DAP7/AQDt/9X/2//k/+j/5v/d/97/7v/1//D/5v/g/9n/5f/x//X//P/2//v/+f/o/+D/3//j/+7/5v/c/9f/yv/T/87/wv/H/8z/0v/R/9H/0//a/+L/5v/v//X/6v/d/9v/7//1/+//7v/q/+//6//w//7/AwACAAcACAD4//f/+P/+//X/6//6//P/6//r/+n/8v/4////CgAIAAQA/f/7/wsAFwAeAB0AIgAiABoAGgAMAAYAEwAbACAAFwAKAAoABAAGAP//8v8EAAMAAgAEAPL////7/wEADgD+/w0ADgATACcAIwAmAC8AMwA7AC4AHAAYABUAGQAZABEABAAEAP7/8f/7////+f8KAA8ABAD//+z/8f/u//X/AQD7//3/7//w/+v/6P/x//L/+P/6/+//7f/u/9z/4P/l/+f/8f/g/9P/x/+9/8X/yv/E/8H/x//R/97/5f/t/+3/7f/7//j/+/8DAAEACQD8//T/8v/w//3//v/8/wMABQAKAA4ACwAFAAsAHQAcABkAGgAeACEAGQAYACIALAAvADMAKAAjACQAMQAzACQALwAlABUAFwADAPr/AQADAAkACQAMAAwABQAIAAoAEgAjADAAKwAkACQAIwAoACIAJQAtACYAJwAlACAAHAAhACAAEwAXAA8ADgAcABkAEgADAP3/EQANAAMAEgANAAAA/f/u/+r/9P/8/wIA///2/+n/5//w//v/9//4//P/5f/q/+f/2//Q/8H/wv/E/8n/yv+4/7b/pP+m/8L/y//P/9H/1P/b/+D/1f/U/9n/4f/i/9//6//o/+L/6v/s//X/+v8AAAAA9v/w/+r/9P/3//3/CgAJABIACgAEAA0AEAAMABIAKAAmACEALgAuADYAOwAuACsAIQAgACEAHwAmACIAJQAgAB0ALgAmAC4APwA4AD4AQQBFAD4ALQA3ADcAMwBEADoANAAvACUANAAuACsAMwAnADcAPwA2ADkAKAArADgALgApACMAFwAXAA0AAQD8//3/BgD4//P/AAD6//T/7v/h/+n/6//0//X/4f/f/93/2v/d/+D/1//U/83/0//c/8z/y//W/9f/zP/M/9T/4//d/9T/2f/Q/9H/zf/E/8b/y//C/7f/uv+3/8H/2//a/8j/zv/c/+3/8f/p/+3/8P/9//7//f8AAOv/6/8AAP3/8f/4//7/AgAIAAcAAgAFABcAHQATABcAGQAWACEAKQAeABMAIAApAC0AMAAvADkALwA0ADwAMAA4AC8ALQAqACgAKgAgACEAJgAtACwAJAAaABgAGQAbACMAGwAgAB4AFgAWAAcACgANAAoAAwABAAUAAAD+/wAAEgAZAAYAAgD5//P/9v/t/+f/3P/R/9T/zf/N/9j/zf/S/9z/4P/o/+P/8v/5/+7/5//o/+z/5P/k/+L/2v/Z/97/3f/a/9z/2v/k/+v/4v/n/+f/3v/f/+P/6P/W/9j/2f/Y/9//1//Z/9X/3v/i/+f/6P/f/+n/7v/x//T//f8BAP7/+//3/+j/7f/+/wMACQAEABYAGAARAA4AAwAHABIAHAAWABgAGgALAAwADAAOACIAHgAdACwAKwArACgAHQAcABoALAAvACMAIQAWABQAEgAJAAMADAAQABsAGAD8/wEACAAWACMAHwAYABEAGAAMAAYAEwALABMAGgAGAAEAAgD+/wMACgAAAAUAEgAIAAsAEAAIABAAGwAaAAYAAQAGAAMADAAJAP//CgARAAUA/P/5////+v/7//7/9f/5//v/+P/1/+n/7v/9//3/9//y//D/8v/2//H/8P/t/+r/8P/p/+T/4//d/97/5P/j/+P/6P/r/+H/3f/c/+f/+v/3//f/7//k/+z/7v/j/+z/+f/+/wMA/P////j/AwAXABAAFwAVABgAHgAeABUACwAYABYAGAAdABQABgACABEAFgATABkAHAAXAB4AEAAJAAYABAAXABYAEAAHAAcADgAMAAcACQASABoAFwALAAwADgAeAB8AEgAPAAkACAAHAAQABgAAAP//BAACAAMACgAUABAABgACAPf/8//7//X/6//e/9z/7//z//L/7P/k/+//5//q//z/+f/+//z/9v/1/+v/5//o/97/2P/o/+n/4P/f/8//2//w/+b/4P/f/+L/4v/o/+v/3v/b/9r/2f/T/9L/3P/V/9f/4P/c/9X/3P/r/+v/5f/o//L/8//8//v/7v/v//H/6//m/+z/7//4//r/+//9//v////9/wsABwD7/wEAAQAIAAsAEgASAA0ADwAYAB0AIQAnACMAIwAbABcAFAAQABUAFQARAAYABgDy//P/CAD//xQA9v/s////9v8jAA0A+/8IAPv/GwAeABoAIQAZAB4ADwAMAB8AHQAaAB4AGwAVABoAEgALAAEA+v8CAO3/8f/w/97/5//c/9r/5P/W/+L/6f/l/+r/3v/u/+T/6P///+j/BAACAO7/AwDt//j/BQDm//L//P/4/wAA+P/n/+j/+v8IAAYAAAAFAPX/+v8WAAoAAQAFAAgACQAEAAwACQAMABEACAASABIADQAKAAIAAgD4/+j/4v/u//b/8//7//L/7P/4/wAADwASAA4AEgAVABcAGgAYABUAHAAdAB4AGgAaABgAFAAZAB8AJgAmACcAIwAhACUAIgAaABcAIgAdACcAIAAMABgACwANABkAFwAXAB8AIQAXABQACAAZACEADwAHAP3////6//f//P/2//3//v/3//T/9//7//r/AQD7//3/AgD6/wEAAQD+/wAA8f/o/9//7//r/9j/CAAJAAAACQDe/+P////5//r/4P/o//f//v/9/8//y//Z/+7/CgD3/97/4v/t//T/6//b/9b/5f/z/+z/3v/R/9j/3//d/9//3f/m//P/7//r/+n/4P/w//L/4//x//T/6P/p/97/3P/m/+v/9v/q/+r/8//r/+v/5v/t//j/+v/+/+7/7//+//j/8//2//L/9//7/+7/6f/s/+n/7v/v/+n/8P/3//z/+//4/wMA/v/+/wMABAAJAAgACQAQAAoACgASAAsADwAMAAcADwAOAAwAFgAYABYAIAAgABgAHQAbABAADwALAAQAAQD///n/+P/5//b/9//4/wIADAAGAAwADQANAAYAAAAGAPv/+/8EAPz/6//x//7/+//+/wIAAwAGAAQABwAQABMAFQAPAAIA/f8FAAQAAAD3/+//8v/z//v/+/8CAAoAAgAIAAwA/f/0//X/5v/p//P/6P/p/+D/5v/p/+T/8P/1//r///8GAP7/+/8BAP3/+v/y//L//f8AAP7/+f/+////BwANAAsAFQATAB8AJQAZABIAGwASAAYADAD9/wIACgABAA8ADQANABkAFAAcABwAHQAlACQAJAAmABsAEwAeABcACwAYABoAEQAiABwAHAA2ADkAMwAvACwAKgAqACkALQAkACAALAAdABUAIQAjACsAMgArACMALAAtADMAOQA2ADcAKgAoAC0ALgAoACkAJAAeABwADAAYAB4AGQAfACUAIQAZACAAJQAlACkAJgAYABIABwD//wQAAgD///7/+//7//T/6v/n/+7/5f/h/+H/3v/g/9z/3//U/9L/1P/Y/9b/2v/Z/9L/2f/P/9L/z//U/9z/3//c/9j/3P/a/93/3f/j/+v/7P/u//T/7//q/+z/8P/u/+3/+v/8//j/9/8BAAQACQAPAAUAAgAHAAkACwAJAAUACgAUABoAEwAOABoAIwAeACQAHAAZACUAGgAdACUAIgAeAB4AGAAfACAAEwAcAB8AGwAYABoAGgAaABsAGQAiAB8AHgAeABkAHQAaABgAFQAUAA4ADQAUABEADQAOABYAGAASABQAFwAOAAsADQAPAA0ACgAQAA==\" type=\"audio/wav\" />\n",
       "                    Your browser does not support the audio element.\n",
       "                </audio>\n",
       "              "
      ],
      "text/plain": [
       "<IPython.lib.display.Audio object>"
      ]
     },
     "execution_count": 129,
     "metadata": {},
     "output_type": "execute_result"
    }
   ],
   "source": [
    "Audio(dev_filenames[0], autoplay=True)"
   ]
  },
  {
   "cell_type": "markdown",
   "metadata": {},
   "source": [
    "So that checks out.  Now let's see if we can decode the matrix with a proper beam search."
   ]
  },
  {
   "cell_type": "markdown",
   "metadata": {},
   "source": [
    "## Beam Search Decoding"
   ]
  },
  {
   "cell_type": "code",
   "execution_count": 131,
   "metadata": {},
   "outputs": [
    {
     "ename": "ModuleNotFoundError",
     "evalue": "No module named 'ctcdecode'",
     "output_type": "error",
     "traceback": [
      "\u001b[1;31m---------------------------------------------------------------------------\u001b[0m",
      "\u001b[1;31mModuleNotFoundError\u001b[0m                       Traceback (most recent call last)",
      "\u001b[1;32m<ipython-input-131-1a9f5488ba56>\u001b[0m in \u001b[0;36m<module>\u001b[1;34m\u001b[0m\n\u001b[1;32m----> 1\u001b[1;33m \u001b[1;32mfrom\u001b[0m \u001b[0mctcdecode\u001b[0m \u001b[1;32mimport\u001b[0m \u001b[0mCTCBeamDecoder\u001b[0m\u001b[1;33m\u001b[0m\u001b[0m\n\u001b[0m",
      "\u001b[1;31mModuleNotFoundError\u001b[0m: No module named 'ctcdecode'"
     ]
    }
   ],
   "source": [
    "from ctcdecode import CTCBeamDecoder"
   ]
  },
  {
   "cell_type": "code",
   "execution_count": null,
   "metadata": {},
   "outputs": [],
   "source": []
  },
  {
   "cell_type": "markdown",
   "metadata": {},
   "source": [
    "We construct a CTC beam search decoder, telling the constructor to expect each cell of the matrix to represent the log probability of each character at each frame, and letting it know which character of the alphabet represents the blank character."
   ]
  },
  {
   "cell_type": "code",
   "execution_count": null,
   "metadata": {},
   "outputs": [],
   "source": [
    "decoder = CTCBeamDecoder(vocab,  log_probs_input=True, blank_id=len(vocab)-1)"
   ]
  },
  {
   "cell_type": "code",
   "execution_count": null,
   "metadata": {},
   "outputs": [],
   "source": [
    "def path_from_beam(beam: torch.tensor) -> str:\n",
    "    \"\"\"Read out a beam as a string.\"\"\"\n",
    "    return \"\".join([vocab[int(i)] for i in beam.detach().numpy()])"
   ]
  },
  {
   "cell_type": "code",
   "execution_count": null,
   "metadata": {},
   "outputs": [],
   "source": [
    "def decode_with_beam_search(log_probs):\n",
    "    \"\"\"Decode log probs with beam search.\"\"\"\n",
    "    beam_results, beam_scores, timesteps, out_lens = decoder.decode(log_probs)\n",
    "    #  as an implementation detail, the data in each beam_result is only guaranteed\n",
    "    # to be valid up to the corresponding out_len, and may contain unitialized garbage\n",
    "    # memory thereafter.  Don't worry about this!\n",
    "    best_beam = beam_results[0][0][:out_lens[0][0]]\n",
    "    decoding = path_from_beam(best_beam)\n",
    "    return decoding"
   ]
  },
  {
   "cell_type": "markdown",
   "metadata": {},
   "source": [
    "Let's pick a random matrix and decode it with beam search:"
   ]
  },
  {
   "cell_type": "code",
   "execution_count": null,
   "metadata": {},
   "outputs": [],
   "source": [
    "random.seed(\"MIT\")\n",
    "i = random.randrange(len(dev_log_probs))\n",
    "log_probs = dev_log_probs[i]\n",
    "label = val_labels.iloc[i]\n",
    "beam_results, beam_scores, timesteps, out_lens = decoder.decode(log_probs)\n",
    "num_beams = beam_results.shape[1]\n",
    "beams = [beam_results[0][i][:out_lens[0][i]] for i in range(num_beams)]\n",
    "decodings = [path_from_beam(beam) for beam in beams]"
   ]
  },
  {
   "cell_type": "markdown",
   "metadata": {},
   "source": [
    "And look at the top twenty possible decodings:"
   ]
  },
  {
   "cell_type": "code",
   "execution_count": null,
   "metadata": {},
   "outputs": [],
   "source": [
    "decodings[:20]"
   ]
  },
  {
   "cell_type": "markdown",
   "metadata": {},
   "source": [
    "Comparing this to the true label:"
   ]
  },
  {
   "cell_type": "code",
   "execution_count": null,
   "metadata": {},
   "outputs": [],
   "source": [
    "dev_labels.iloc[i]"
   ]
  },
  {
   "cell_type": "markdown",
   "metadata": {},
   "source": [
    "We find... maybe some kind of spiritual similarity.  The model is pretty sure it heard an `s`?\n",
    "\n",
    "This was a tough one.  Let's check the audio:"
   ]
  },
  {
   "cell_type": "code",
   "execution_count": null,
   "metadata": {},
   "outputs": [],
   "source": [
    "Audio(dev_filenames[i], autoplay=True)"
   ]
  },
  {
   "cell_type": "markdown",
   "metadata": {},
   "source": [
    "Now let's decode the whole dev set."
   ]
  },
  {
   "cell_type": "code",
   "execution_count": null,
   "metadata": {},
   "outputs": [],
   "source": [
    "% time beam_search_decodings = [decode_with_beam_search(val_matrix) for val_matrix in tqdm(dev_log_probs)]"
   ]
  },
  {
   "cell_type": "code",
   "execution_count": null,
   "metadata": {},
   "outputs": [],
   "source": [
    "evaluate_metrics(beam_search_decodings, dev_labels)"
   ]
  },
  {
   "cell_type": "code",
   "execution_count": null,
   "metadata": {},
   "outputs": [],
   "source": [
    "fixed_up_beam_search_decodings = [postprocess_transcription(bsd) for bsd in beam_search_decodings]\n",
    "evaluate_metrics(fixed_up_beam_search_decodings, dev_labels)"
   ]
  },
  {
   "cell_type": "markdown",
   "metadata": {},
   "source": [
    "How do these results look, compared to the last model?"
   ]
  },
  {
   "cell_type": "markdown",
   "metadata": {},
   "source": [
    "They look pretty similar, as though beam search didn't help us much."
   ]
  },
  {
   "cell_type": "markdown",
   "metadata": {},
   "source": [
    "Let's see if we can apply another trick to improve our performance.  Beam search gives us many alternate decodings, but we're currently only using the most probable decoding.  Could we improve our estimates by taking some sort of majority vote over the top k beams?"
   ]
  },
  {
   "cell_type": "code",
   "execution_count": null,
   "metadata": {},
   "outputs": [],
   "source": [
    "def majority_vote(xs):\n",
    "    \"\"\"Return the most frequent element of xs.\"\"\"\n",
    "    if not xs:\n",
    "        return None\n",
    "    else:\n",
    "        kv = Counter(xs).most_common(1)[0]\n",
    "        k, v= kv\n",
    "        return k"
   ]
  },
  {
   "cell_type": "code",
   "execution_count": null,
   "metadata": {},
   "outputs": [],
   "source": [
    "assert majority_vote([]) is None\n",
    "assert majority_vote([1, 1, 2, 3]) == 1\n",
    "assert majority_vote([1, 1, 2, 2, 3]) in [1, 2]"
   ]
  },
  {
   "cell_type": "code",
   "execution_count": null,
   "metadata": {},
   "outputs": [],
   "source": [
    "def majority_decoding_with_beam_search(log_probs, num_voting_beams=5):\n",
    "    beam_results, beam_scores, timesteps, out_lens = decoder.decode(log_probs)\n",
    "    num_beams = beam_results.shape[1]\n",
    "    beams = [beam_results[0][i][:out_lens[0][i]] for i in range(num_beams)]\n",
    "    decodings = [path_from_beam(beam) for beam in beams]\n",
    "    fixed_up_decodings = [postprocess_transcription(decoding) for decoding in decodings]\n",
    "    voting_beams = fixed_up_decodings[:num_voting_beams]\n",
    "    majority_decoding = majority_vote(voting_beams)\n",
    "    return majority_decoding"
   ]
  },
  {
   "cell_type": "code",
   "execution_count": null,
   "metadata": {},
   "outputs": [],
   "source": [
    "%time majority_beam_search_decodings = [majority_decoding_with_beam_search(val_matrix) for val_matrix in tqdm(dev_log_probs)]"
   ]
  },
  {
   "cell_type": "code",
   "execution_count": null,
   "metadata": {},
   "outputs": [],
   "source": [
    "eval_decodings(majority_beam_search_decodings, val_labels)"
   ]
  },
  {
   "cell_type": "markdown",
   "metadata": {},
   "source": [
    "How does the majority vote model compare to the last?"
   ]
  },
  {
   "cell_type": "markdown",
   "metadata": {},
   "source": [
    "They're not much different.  If anything, the majority vote beam search model is worse than the fixed-up beam search model."
   ]
  },
  {
   "cell_type": "markdown",
   "metadata": {},
   "source": [
    "Let's look at some classification mistakes for inspiration:"
   ]
  },
  {
   "cell_type": "code",
   "execution_count": null,
   "metadata": {},
   "outputs": [],
   "source": [
    "mistakes = [(d, l )for (d, l) in zip(majority_beam_search_decodings, val_labels) if d != l]\n",
    "[random.choice(mistakes) for _ in range(10)]"
   ]
  },
  {
   "cell_type": "markdown",
   "metadata": {},
   "source": [
    "No clear pattern jumps out at me, what do you think?"
   ]
  },
  {
   "cell_type": "markdown",
   "metadata": {},
   "source": [
    "Let's now add a language model to our decoder.  As you might recall from the lecture, a language model is just a way of assigning probabilities to sequences of words.  In decoding one usually uses a simple n-gram model, which is simple but fast.  In practice, everyone uses a program called lkenlm.\n",
    "\n",
    "To install kenlm, run the following commands:"
   ]
  },
  {
   "cell_type": "code",
   "execution_count": null,
   "metadata": {},
   "outputs": [],
   "source": [
    "! git clone https://github.com/kpu/kenlm.git\n",
    "! cd kenlm\n",
    "! mkdir -p build\n",
    "! cmake ..\n",
    "! make -j 4"
   ]
  },
  {
   "cell_type": "markdown",
   "metadata": {},
   "source": [
    "(You might have trouble running these commands from an IPython notebook.  In that case, try switching to a terminal.  Consult this page if you get really stuck: https://github.com/kpu/kenlm)"
   ]
  },
  {
   "cell_type": "markdown",
   "metadata": {},
   "source": [
    "Next we need to build a language model.  Create a text file containing the labels, one label per line, and call it labels.txt.  Place it in the `build` directory.  Then run the command:\n",
    "\n",
    "`! bin/lmplz -o 2 --discount_fallback <labels.txt >lm.arpa`\n",
    "\n",
    "This builds a bigram model from `labels.txt` and stores it in `lm.arpa`.  (The flag `--discount-fallback` is required to silence warnings about creating a language model from small / synthetic data, which of course we are.)"
   ]
  },
  {
   "cell_type": "markdown",
   "metadata": {},
   "source": [
    "We can now build another decoder that has access to the language model.  The parameter `alpha` controls how much influence the language model has."
   ]
  },
  {
   "cell_type": "code",
   "execution_count": null,
   "metadata": {},
   "outputs": [],
   "source": [
    "lm_decoder = CTCBeamDecoder(vocab,  log_probs_input=True, blank_id=len(vocab)-1, model_path='kenlm/build/lm.arpa', alpha=1, beam_width=100)"
   ]
  },
  {
   "cell_type": "code",
   "execution_count": null,
   "metadata": {},
   "outputs": [],
   "source": [
    "def decode_with_decoder(decoder, log_probs):\n",
    "    \"\"\"Decode log probs with beam search.\"\"\"\n",
    "    beam_results, beam_scores, timesteps, out_lens = lm_decoder.decode(log_probs)\n",
    "    #  as an implementation detail, the data in each beam_result is only guaranteed\n",
    "    # to be valid up to the corresponding out_len, and may contain unitialized garbage\n",
    "    # memory thereafter.  Don't worry about this!\n",
    "    best_beam = beam_results[0][0][:out_lens[0][0]]\n",
    "    decoding = path_from_beam(best_beam)\n",
    "    return decoding"
   ]
  },
  {
   "cell_type": "code",
   "execution_count": null,
   "metadata": {},
   "outputs": [],
   "source": [
    "%time lm_decodings = [decode_with_decoder(lm_decoder, log_probs) for log_probs in dev_log_probs]"
   ]
  },
  {
   "cell_type": "code",
   "execution_count": null,
   "metadata": {},
   "outputs": [],
   "source": [
    "evaluate_metrics(lm_decodings, dev_labels)"
   ]
  },
  {
   "cell_type": "code",
   "execution_count": null,
   "metadata": {},
   "outputs": [],
   "source": [
    "fixed_up_lm_decodings = [postprocess_transcription(decoding) for decoding in lm_decodings]\n",
    "evaluate_metrics(fixed_up_lm_decodings, dev_labels)"
   ]
  },
  {
   "cell_type": "markdown",
   "metadata": {},
   "source": [
    "Again, let's examine the mistakes for inspiration:"
   ]
  },
  {
   "cell_type": "code",
   "execution_count": null,
   "metadata": {},
   "outputs": [],
   "source": [
    "mistakes = [(decoding, label) for (decoding, label) in zip(lm_decodings, val_labels) if postprocess_transcription(decoding) != label]\n",
    "[random.choice(mistakes) for _ in range(20)]"
   ]
  },
  {
   "cell_type": "markdown",
   "metadata": {},
   "source": [
    "Let's finally throw all of the ideas we've seen so far into one model and see what happens.  In this model we can also filter the candidate voting beams in order to exclude transcriptions that are unlikely to map reliably to a label."
   ]
  },
  {
   "cell_type": "code",
   "execution_count": null,
   "metadata": {},
   "outputs": [],
   "source": [
    "MIN_LABEL_LENGTH = min(map(len, LABELS))\n",
    "\n",
    "def is_passable_label(label: str) -> bool:\n",
    "    \"\"\"Indicate whether label is at least MIN_LABEL_LENGTH and contains exactly one word.\"\"\"\n",
    "    return len(label) >= MIN_LABEL_LENGTH and len(label.split()) == 1\n",
    "\n",
    "def majority_decoding_with_beam_search_lm(log_probs, num_voting_beams=5, min_length=MIN_LABEL_LENGTH):\n",
    "    beam_results, beam_scores, timesteps, out_lens =  lm_decoder.decode(log_probs)\n",
    "    num_beams = beam_results.shape[1]\n",
    "    beams = [beam_results[0][i][:out_lens[0][i]] for i in range(num_beams)]\n",
    "    all_decodings = [path_from_beam(beam) for beam in beams]\n",
    "    decodings = [decoding for decoding in all_decodings if is_passable_label(decoding)]\n",
    "    fixed_up_decodings = [postprocess_transcription(decoding) for decoding in decodings]\n",
    "    voting_beams = fixed_up_decodings[:num_voting_beams]\n",
    "    majority_decoding = majority_vote(voting_beams) if voting_beams else \"\"\n",
    "    return majority_decoding"
   ]
  },
  {
   "cell_type": "code",
   "execution_count": null,
   "metadata": {},
   "outputs": [],
   "source": [
    "%time majority_vote_lm_decodings = [majority_decoding_with_beam_search_lm(log_probs) for log_probs in dev_log_probs]"
   ]
  },
  {
   "cell_type": "code",
   "execution_count": null,
   "metadata": {},
   "outputs": [],
   "source": [
    "evaluate_metrics(majority_vote_lm_decodings, val_labels)"
   ]
  },
  {
   "cell_type": "markdown",
   "metadata": {},
   "source": [
    "Q: Which model did best?"
   ]
  },
  {
   "cell_type": "code",
   "execution_count": null,
   "metadata": {},
   "outputs": [],
   "source": [
    "# your answer here"
   ]
  },
  {
   "cell_type": "markdown",
   "metadata": {},
   "source": [
    "# Evaluating on Test Set"
   ]
  },
  {
   "cell_type": "code",
   "execution_count": null,
   "metadata": {},
   "outputs": [],
   "source": [
    "test_filenames = [os.path.join(\"test\", filename) for filename in df.filename[df.split=='test']]\n",
    "test_labels = df.label[df.split=='test']"
   ]
  },
  {
   "cell_type": "code",
   "execution_count": null,
   "metadata": {},
   "outputs": [],
   "source": [
    "%time test_log_probs = get_log_probs(quartznet, test_filenames)"
   ]
  },
  {
   "cell_type": "code",
   "execution_count": null,
   "metadata": {},
   "outputs": [],
   "source": [
    "%time lm_decodings_test = [decode_with_decoder(lm_decoder, log_probs) for log_probs in test_log_probs]"
   ]
  },
  {
   "cell_type": "code",
   "execution_count": null,
   "metadata": {},
   "outputs": [],
   "source": [
    "evaluate_metrics(lm_decodings_test, test_labels)"
   ]
  },
  {
   "cell_type": "code",
   "execution_count": null,
   "metadata": {},
   "outputs": [],
   "source": [
    "fixed_up_test_labels = [postprocess_transcription(decoding) for decoding in lm_decodings_test]\n",
    "evaluate_metrics(fixed_up_test_labels, test_labels)"
   ]
  },
  {
   "cell_type": "markdown",
   "metadata": {},
   "source": [
    "Q: How does test accuracy compare to dev?"
   ]
  },
  {
   "cell_type": "code",
   "execution_count": null,
   "metadata": {},
   "outputs": [],
   "source": [
    "# your answer here"
   ]
  },
  {
   "cell_type": "markdown",
   "metadata": {},
   "source": [
    "# Conclusions"
   ]
  },
  {
   "cell_type": "markdown",
   "metadata": {},
   "source": [
    "In this lab we've built an entire speech2text pipeline for a simple command classification task, briefly touring preprocessing, acoustic models, decoders and language models.  While a full exploration of any these topics would quickly exceed our scope, I hope this lab offers a taste of the possibilities.  With off-the-shelf materials a few lines of code, and very little tuning, we've managed to achieve near human level performance."
   ]
  },
  {
   "cell_type": "markdown",
   "metadata": {},
   "source": [
    "Though we can't do so here, there are many more steps that one would typically take to improve model performance before pushing it to production.\n",
    "\n",
    "One would typically prefer to fine tune the acoustic model on the dataset.  For convenience we have taken pre-trained weights and used them as-is.\n",
    "\n",
    "Data preprocessing often leads to large gains in audio tasks.  Data could be normalized with respect to volume, spectrum or fundamental frequency.  In a command classification task, tricks like looping the audio several times for the acoustic model's benefit would be quite legitimate.\n",
    "\n",
    "Lastly, we have performed practically no tuning of decoder, though that is another likely source of further improvement.\n",
    "\n"
   ]
  },
  {
   "cell_type": "code",
   "execution_count": null,
   "metadata": {},
   "outputs": [],
   "source": []
  },
  {
   "cell_type": "code",
   "execution_count": null,
   "metadata": {},
   "outputs": [],
   "source": []
  },
  {
   "cell_type": "code",
   "execution_count": null,
   "metadata": {},
   "outputs": [],
   "source": []
  },
  {
   "cell_type": "code",
   "execution_count": null,
   "metadata": {},
   "outputs": [],
   "source": []
  },
  {
   "cell_type": "code",
   "execution_count": null,
   "metadata": {},
   "outputs": [],
   "source": []
  },
  {
   "cell_type": "code",
   "execution_count": null,
   "metadata": {},
   "outputs": [],
   "source": []
  },
  {
   "cell_type": "code",
   "execution_count": null,
   "metadata": {},
   "outputs": [],
   "source": []
  },
  {
   "cell_type": "code",
   "execution_count": null,
   "metadata": {},
   "outputs": [],
   "source": []
  }
 ],
 "metadata": {
  "kernelspec": {
   "display_name": "Python 3",
   "language": "python",
   "name": "python3"
  },
  "language_info": {
   "codemirror_mode": {
    "name": "ipython",
    "version": 3
   },
   "file_extension": ".py",
   "mimetype": "text/x-python",
   "name": "python",
   "nbconvert_exporter": "python",
   "pygments_lexer": "ipython3",
   "version": "3.6.5"
  }
 },
 "nbformat": 4,
 "nbformat_minor": 4
}
