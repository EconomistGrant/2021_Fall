{
 "cells": [
  {
   "cell_type": "markdown",
   "metadata": {},
   "source": [
    "# Problem 0: Named entity recognition"
   ]
  },
  {
   "cell_type": "markdown",
   "metadata": {},
   "source": [
    "Named entity recognition is a common NLP task that tries to identify entities in text.\n",
    "\n",
    "See: https://en.wikipedia.org/wiki/Named-entity_recognition\n",
    "\n",
    "Common Types of entities include `Location (LOC)`, `Person (PER)`, and `Organization (ORG)`. For example, in the sentence\n",
    "# Janet Yellen, the chairwoman of the Federal Reserve, gave a speech in Colorado.\n",
    "## $ \\\\ $ \n",
    "the goal would be to recognize\n",
    "# `Janet Yellen`$_{PER}$, the chairwoman of the `Federal Reserve`$_{ORG}$, gave a speech in `Colorado`$_{LOC}$.\n",
    "# $ \\\\ $\n",
    "# In this problem we will build a model to recognized named entities using word vectors"
   ]
  },
  {
   "cell_type": "markdown",
   "metadata": {},
   "source": [
    "# $ $"
   ]
  },
  {
   "cell_type": "markdown",
   "metadata": {},
   "source": [
    "## Part 1: \n",
    "### Give an example of a sentence with a Person but not a location. \n",
    "### Give an example of a sentence with an organization and a location, but not a person. "
   ]
  },
  {
   "cell_type": "code",
   "execution_count": null,
   "metadata": {},
   "outputs": [],
   "source": [
    "# your answer here"
   ]
  },
  {
   "cell_type": "markdown",
   "metadata": {},
   "source": [
    "# Part 2: building a model\n",
    "# $ \\\\ $\n",
    "### The goal of this section is to build a model to take a sentence (list of words) and identify what kind of tag each word is\n",
    "# $ \\\\ $\n",
    "## Why is this problem hard:\n",
    "### Some words will be the same tag all the time. For example `Colorado` is almost always a `LOCATION`\n",
    "### Some words depend on context: above `federal` and `reserve` are `ORGANIZATION` but I can write `I would like to reserve a table.`\n",
    "\n",
    "# $ \\\\ $\n",
    "## To combat this issue we will make a very simple model but taking a 3-word window around every word\n",
    "  - For every word, we will take the word vector of that word and the two surrounding words\n",
    "\n",
    "### Example: `I went to the store` will be represented as \n",
    " - `I` $\\rightarrow$ `PAD` - `I` - `went` $\\rightarrow$ $\\left[ V_{PAD}, V_{I}, V_{went}\\right]$\n",
    " - `went` $\\rightarrow$ `I` - `went` - `to`$\\rightarrow$ $\\left[V_{I}, V_{went},  V_{to}\\right]$\n",
    " - `to` $\\rightarrow$ `went` - `to` - `the`$\\rightarrow$ $\\left[V_{went},  V_{to}, V_{the}\\right]$\n",
    " - ...\n",
    "#### Where \n",
    " - $V_{word_{i}}$ is the representation for $word_{i}$\n",
    " - `UNK` is the token for unknown words\n",
    " - `PAD` is the token for boundary words\n",
    " \n",
    "Like this, we will encode some __context__ around every word. Each word here will be encoded as a $3 * d_{embedding}$-dimensional vector."
   ]
  },
  {
   "cell_type": "markdown",
   "metadata": {},
   "source": [
    "we will use pretrained GLOVE-embeddings as a representation for each word.\n",
    "\n",
    "Note that this means we will have a fixed vocabulary defined by all the vectors present within our pretrained embeddings as well 0 vectors for padding token and unknown tokens\n",
    "\n",
    "Also note that GLOVE vectors are all lowercase, so we will do our problem with all lowercased sentences and words"
   ]
  },
  {
   "cell_type": "code",
   "execution_count": null,
   "metadata": {},
   "outputs": [],
   "source": [
    "import numpy as np\n",
    "import pandas as pd\n",
    "%pylab inline\n",
    "\n",
    "import re\n",
    "\n",
    "from sklearn.linear_model import LogisticRegression\n",
    "from sklearn.metrics import accuracy_score, f1_score\n",
    "\n",
    "from keras.models import Model\n",
    "from keras.layers import Input, Dropout, Dense\n",
    "from keras.initializers import Constant\n",
    "import keras.backend as K\n",
    "from keras.utils import to_categorical"
   ]
  },
  {
   "cell_type": "markdown",
   "metadata": {},
   "source": [
    "### First let's load our Glove vectors and our NER training data"
   ]
  },
  {
   "cell_type": "code",
   "execution_count": null,
   "metadata": {},
   "outputs": [],
   "source": [
    "# the format of the glove file is pretty simple. so rather than using gensim, we will use a basic line-by-line parser\n",
    "def load_glove_file(filepath):\n",
    "    \"\"\"Load a glove embedding from a file\"\"\"\n",
    "    word_to_vector = {}\n",
    "    with open(filepath) as f:\n",
    "        for line in f:\n",
    "            # skip first description line\n",
    "            if len(line.strip()) <= 15:\n",
    "                continue\n",
    "            values = line.strip().split()\n",
    "            word = values[0]\n",
    "            vector = np.asarray(values[1:], dtype='float32')\n",
    "            word_to_vector[word] = vector\n",
    "    return word_to_vector\n",
    "\n",
    "def load_dataset(fname):\n",
    "    \"\"\"Load an NER dataset with everything lowercased.\"\"\"\n",
    "    docs = []\n",
    "    with open(fname) as fd:\n",
    "        cur = []\n",
    "        for line in fd:\n",
    "            # new sentence on -DOCSTART- or blank line\n",
    "            if re.match(r\"-DOCSTART-.+\", line) or (len(line.strip()) == 0):\n",
    "                if len(cur) > 0:\n",
    "                    docs.append(cur)\n",
    "                cur = []\n",
    "            else: # read in tokens\n",
    "                text, tag = line.strip().split(\"\\t\", 1)\n",
    "                cur.append([text.lower(), tag])\n",
    "        # flush running buffer\n",
    "        if cur:\n",
    "            docs.append(cur)\n",
    "    return docs"
   ]
  },
  {
   "cell_type": "code",
   "execution_count": null,
   "metadata": {},
   "outputs": [],
   "source": [
    "word_vecs = load_glove_file('../../data/glove.6B.50d.txt')  # FIXME\n",
    "docs = load_dataset('../../data/ner_train.conll')  # FIXME"
   ]
  },
  {
   "cell_type": "code",
   "execution_count": null,
   "metadata": {},
   "outputs": [],
   "source": [
    "correct_first_doc = [\n",
    "    ['eu', 'ORG'],\n",
    "    ['rejects', 'O'],\n",
    "    ['german', 'MISC'],\n",
    "    ['call', 'O'],\n",
    "    ['to', 'O'],\n",
    "    ['boycott', 'O'],\n",
    "    ['british', 'MISC'],\n",
    "    ['lamb', 'O'],\n",
    "    ['.', 'O'],\n",
    "]\n",
    "assert len(word_vecs) == 400000, 'word vectors did not load properly'\n",
    "assert word_vecs['the'].shape == (50,), 'word vectors did not load properly'\n",
    "assert len(docs) == 14041, 'something has gone wrong with data loading'\n",
    "assert docs[0] == correct_first_doc, 'something has gone wrong with data loading'"
   ]
  },
  {
   "cell_type": "markdown",
   "metadata": {},
   "source": [
    "### Define a few constants, such as target classes"
   ]
  },
  {
   "cell_type": "code",
   "execution_count": null,
   "metadata": {},
   "outputs": [],
   "source": [
    "NULL_TAG = 'O'  # tags that are not a named entity\n",
    "\n",
    "# Some derived quantities\n",
    "TAGS = (NULL_TAG, 'LOC', 'PER', 'ORG', 'MISC')\n",
    "IDX_TO_TAG = dict(enumerate(TAGS))\n",
    "TAG_TO_IDX = {tag: num for num, tag in IDX_TO_TAG.items()}\n",
    "\n",
    "NUM_CLASSES = len(TAGS)\n",
    "assert NUM_CLASSES == 5, 'something has gone wrong'"
   ]
  },
  {
   "cell_type": "markdown",
   "metadata": {},
   "source": [
    "## Create an embeddings matrix correctly sorted according to our vocabulary index"
   ]
  },
  {
   "cell_type": "markdown",
   "metadata": {},
   "source": [
    "### In class we first looked at our training data to decide which vocabulary set to use to train embeddings. Here instead we want to use pretrained fixed embeddings, so instead we will use the vocabulary provided by our GLOVE vectors.\n",
    "\n",
    "- #### Note that we want to add two rows as index len(word_vecs) for `UNK` and len(word_vecs) + 1 for `PAD`"
   ]
  },
  {
   "cell_type": "code",
   "execution_count": null,
   "metadata": {},
   "outputs": [],
   "source": [
    "EMBEDDING_DIM = 50  \n",
    "VOCAB_SIZE = len(word_vecs) + 2\n",
    "UNKNOWN_INDEX = len(word_vecs)\n",
    "PADDING_INDEX = len(word_vecs) + 1\n",
    "\n",
    "WORD_TO_IDX = {word: idx  for idx, word in enumerate(word_vecs.keys())}\n",
    "IDX_TO_WORD = {idx: word for word, idx in WORD_TO_IDX.items()}\n",
    "\n",
    "assert WORD_TO_IDX['the'] < 10, '\"the\" is not a common word- something has gone wrong.'"
   ]
  },
  {
   "cell_type": "code",
   "execution_count": null,
   "metadata": {},
   "outputs": [],
   "source": [
    "EMBEDDING_MATRIX = np.zeros((VOCAB_SIZE, EMBEDDING_DIM))\n",
    "for word, embedding_vector in word_vecs.items():\n",
    "    idx = WORD_TO_IDX[word]\n",
    "    EMBEDDING_MATRIX[idx] = embedding_vector"
   ]
  },
  {
   "cell_type": "markdown",
   "metadata": {},
   "source": [
    "## Creating windowed-word sequences\n",
    "\n",
    "### For every sentence (list of words) let's create word triples as well as the class corresponding to the center word"
   ]
  },
  {
   "cell_type": "code",
   "execution_count": null,
   "metadata": {},
   "outputs": [],
   "source": [
    "def seq_to_windows(words, tags):\n",
    "    \"\"\"Turn sequences of words and tags into corresponding windowed sequences\"\"\"\n",
    "    X = []\n",
    "    y = []\n",
    "    word_idx_list = [WORD_TO_IDX.get(word, UNKNOWN_INDEX) for word in words]\n",
    "    for idx_left, idx, idx_right, tag in zip(\n",
    "        [PADDING_INDEX] + word_idx_list[:-1], \n",
    "        word_idx_list, \n",
    "        word_idx_list[1:] + [PADDING_INDEX],\n",
    "        tags\n",
    "    ):\n",
    "        X.append([idx_left, idx, idx_right])\n",
    "        y.append(TAG_TO_IDX[tag])\n",
    "    return array(X), array(y)"
   ]
  },
  {
   "cell_type": "code",
   "execution_count": null,
   "metadata": {},
   "outputs": [],
   "source": [
    "# test out that we have done things correctly\n",
    "words, tags = zip(*docs[0])\n",
    "x, y = seq_to_windows(words, tags)\n",
    "\n",
    "assert x.dtype == np.int, 'x has the wrong data type'\n",
    "reconstructed_words = [IDX_TO_WORD[num] for num in x[:, 1]]\n",
    "assert tuple(reconstructed_words) == words, 'word transformation has gone wrong'"
   ]
  },
  {
   "cell_type": "code",
   "execution_count": null,
   "metadata": {},
   "outputs": [],
   "source": [
    "def convert_window_to_embedding(idx_window):\n",
    "    \"\"\"Turn a row of integers (np.array) into a single word vector\"\"\"\n",
    "    # TODO: implement this"
   ]
  },
  {
   "cell_type": "code",
   "execution_count": null,
   "metadata": {},
   "outputs": [],
   "source": [
    "assert convert_window_to_embedding(x[0]).shape == (150,)"
   ]
  },
  {
   "cell_type": "markdown",
   "metadata": {},
   "source": [
    "### Do this for all our data"
   ]
  },
  {
   "cell_type": "code",
   "execution_count": null,
   "metadata": {},
   "outputs": [],
   "source": [
    "x_all = []\n",
    "y_all = []\n",
    "for doc in docs:\n",
    "    words, tags = zip(*doc)\n",
    "#     TODO\n",
    "#     1. use `seq_to_windows` to turn `words` and `tag` into `x` and `y`\n",
    "#     2. turn `x` into a single vector with `convert_window_to_embedding`\n",
    "\n",
    "    \n",
    "    x_all.extend(x)\n",
    "    y_all.extend(y)\n",
    "    \n",
    "x_all = np.vstack(x_all)\n",
    "y_all = np.vstack(y_all)\n",
    "\n",
    "y_all = to_categorical(y_all)\n",
    "assert x_all.shape[0] == y_all.shape[0]"
   ]
  },
  {
   "cell_type": "code",
   "execution_count": null,
   "metadata": {},
   "outputs": [],
   "source": [
    "K.clear_session()\n",
    "\n",
    "#TODO\n",
    "# 1. build a network with \n",
    "#  - an input layer\n",
    "#  - some number of dense layers and dropout\n",
    "\n",
    "model = Model(word_input, output)\n",
    "model.compile(optimizer='rmsprop', loss='categorical_crossentropy', metrics=['accuracy'])"
   ]
  },
  {
   "cell_type": "code",
   "execution_count": null,
   "metadata": {},
   "outputs": [],
   "source": [
    "hist = model.fit(\n",
    "    x_all, y_all, \n",
    "    validation_split=0.2, \n",
    "    epochs=10, \n",
    "    batch_size=256\n",
    ")"
   ]
  },
  {
   "cell_type": "markdown",
   "metadata": {},
   "source": [
    "## Let's try out our model by predicting some new sentences"
   ]
  },
  {
   "cell_type": "markdown",
   "metadata": {},
   "source": [
    "### Note that since our traning data was already tokenized we need to write a simple tokenzier such as `re.findall(r'[a-z]+|[^\\s]', text.lower())`"
   ]
  },
  {
   "cell_type": "code",
   "execution_count": null,
   "metadata": {},
   "outputs": [],
   "source": [
    "def tokenize(text):\n",
    "    return re.findall(r'[a-z]+|[^\\s]', text.lower())"
   ]
  },
  {
   "cell_type": "code",
   "execution_count": null,
   "metadata": {},
   "outputs": [],
   "source": [
    "def preprocess_sentence(sentence):\n",
    "    \"\"\"Preprocess a sentence for input into the model\"\"\" \n",
    "#     TODO:\n",
    "#         1. tokenize the sentence\n",
    "#         2. make each word into a 3-word window (hint: you can use seq_to_windows if you create some fake tags)\n",
    "#         3. turn each row (3-word window) into a single vector (use convert_window_to_embedding)\n",
    "#         4. turn the list of 150-d vectors into a numpy matrix shape (n_words x 150)\n"
   ]
  },
  {
   "cell_type": "code",
   "execution_count": null,
   "metadata": {},
   "outputs": [],
   "source": [
    "assert (\n",
    "    preprocess_sentence('This sentence has five words.').shape == (6, EMBEDDING_DIM * 3)\n",
    "), '`preprocess_sentence` does not work'"
   ]
  },
  {
   "cell_type": "code",
   "execution_count": null,
   "metadata": {},
   "outputs": [],
   "source": [
    "# TODO\n",
    "# 1. Come up with a sentence\n",
    "# 2. preprocess it for consumption by the network with `preprocess_sentence`\n",
    "# 3. use the model to make predictions\n",
    "# 4. Turn the predicted probabilities into predicted labels\n",
    "# 5. print the output nicely  (done for you)\n",
    "\n",
    "maxlen = max(map(len, sentence.split()))\n",
    "for word, label in zip(sentence.split(), predicted_labels):\n",
    "    print('{} :  {}'.format(word.ljust(maxlen), label))"
   ]
  },
  {
   "cell_type": "markdown",
   "metadata": {},
   "source": [
    "# $ \\\\ $"
   ]
  },
  {
   "cell_type": "markdown",
   "metadata": {},
   "source": [
    "# $ \\\\ $"
   ]
  },
  {
   "cell_type": "code",
   "execution_count": null,
   "metadata": {},
   "outputs": [],
   "source": []
  },
  {
   "cell_type": "code",
   "execution_count": null,
   "metadata": {},
   "outputs": [],
   "source": []
  },
  {
   "cell_type": "markdown",
   "metadata": {},
   "source": [
    "# Problem 1: NER, again!"
   ]
  },
  {
   "cell_type": "markdown",
   "metadata": {},
   "source": [
    "## This time we will use a sequence based network such as LSTM to get context beyond the 3 word window and instead process the whole sequence."
   ]
  },
  {
   "cell_type": "code",
   "execution_count": null,
   "metadata": {},
   "outputs": [],
   "source": [
    "def process_sequences(words, tags):\n",
    "    \"\"\"Process a sequence of words and tags\"\"\"\n",
    "    int_seq = []\n",
    "    tags = []\n",
    "    # TODO loop through doc and assembed `int_seq`, and `tags`\n",
    "    #     both of which should be integers instead of strings\n",
    "\n",
    "    return int_seq, tags"
   ]
  },
  {
   "cell_type": "code",
   "execution_count": null,
   "metadata": {},
   "outputs": [],
   "source": [
    "int_sequences = []\n",
    "tag_seqs = []\n",
    "\n",
    "for doc in docs:\n",
    "    # if the length of the document is less than 2, ignore it\n",
    "    if len(doc) < 2:\n",
    "        continue\n",
    "    words, tags = zip(*doc)\n",
    "    int_seq, tags = process_sequences(words, tags)\n",
    "    int_sequences.append(int_seq)\n",
    "    tag_seqs.append(tags)"
   ]
  },
  {
   "cell_type": "markdown",
   "metadata": {},
   "source": [
    "### What is the longest sequence that we see?"
   ]
  },
  {
   "cell_type": "code",
   "execution_count": null,
   "metadata": {},
   "outputs": [],
   "source": [
    "assert max(map(len, int_sequences)) == 113, 'something has gone wrong'"
   ]
  },
  {
   "cell_type": "markdown",
   "metadata": {},
   "source": [
    "## In class we used a fixed 10 tokens. But we can be a little smarter and deal with variable length sequence by using `pad_sequences` We already have a pad token reserved in our embedding matrix, so let's use that.\n"
   ]
  },
  {
   "cell_type": "markdown",
   "metadata": {},
   "source": [
    "### Let's define a slightly longer max_seq_length and add padding everywhere to get to a constant length"
   ]
  },
  {
   "cell_type": "code",
   "execution_count": null,
   "metadata": {},
   "outputs": [],
   "source": [
    "MAX_SEQ_LEN = 115"
   ]
  },
  {
   "cell_type": "code",
   "execution_count": null,
   "metadata": {},
   "outputs": [],
   "source": [
    "from keras.preprocessing.sequence import pad_sequences\n",
    "\n",
    "# TODO:\n",
    "# 1. pad the integer sequences of words `int_sequences`\n",
    "# 2. do the same with the tags `tag_seqs`\n",
    "# 3. Turn the tags into categorical variables\n"
   ]
  },
  {
   "cell_type": "code",
   "execution_count": null,
   "metadata": {},
   "outputs": [],
   "source": [
    "assert int_sequences.shape == (13862, 115)"
   ]
  },
  {
   "cell_type": "code",
   "execution_count": null,
   "metadata": {},
   "outputs": [],
   "source": [
    "from keras.layers import (\n",
    "    SimpleRNN, Dense, LSTM,\n",
    "    Embedding, Input, Dropout,\n",
    ")\n",
    "from keras.models import Model\n",
    "import keras.backend as K"
   ]
  },
  {
   "cell_type": "markdown",
   "metadata": {},
   "source": [
    "### We will use our global embeddings matrix. Compared to class however we will set it to `trainable=False`. The hope is that this way the embedding can better generalize to words that GLOVE has seen, even though they never occured in our training data."
   ]
  },
  {
   "cell_type": "code",
   "execution_count": null,
   "metadata": {},
   "outputs": [],
   "source": [
    "K.clear_session()\n",
    "\n",
    "#TODO: Build a netowrk\n",
    "# 1. make an input\n",
    "# 2. make a non-trainable embedding\n",
    "# 3. make a single, LSTM, add dropout and recurrent dropout\n",
    "# 4. Make a single dense hidden layer\n",
    "# 5. Make the correct-sized output layer\n",
    "#       the output should be softmax\n",
    "\n",
    "\n",
    "model = Model(word_input, output)\n",
    "model.compile(\n",
    "    optimizer='rmsprop', \n",
    "    loss='categorical_crossentropy', \n",
    "    metrics=['accuracy']\n",
    ")"
   ]
  },
  {
   "cell_type": "code",
   "execution_count": null,
   "metadata": {},
   "outputs": [],
   "source": [
    "hist = model.fit(\n",
    "    int_sequences, y_all, \n",
    "    validation_split=0.2, \n",
    "    epochs=10, \n",
    "    batch_size=128\n",
    ")"
   ]
  },
  {
   "cell_type": "markdown",
   "metadata": {},
   "source": [
    "## Let's try out our model by predicting some new sentences"
   ]
  },
  {
   "cell_type": "code",
   "execution_count": null,
   "metadata": {},
   "outputs": [],
   "source": [
    "def preprocess_sentence(sentence):\n",
    "    \"\"\"Preprocess a sentence into word vectors for the model\"\"\"\n",
    "\n",
    "    tokens = tokenize(sentence)\n",
    "    \n",
    "    # TODO:\n",
    "    # 1. turn tokens into an integer sequence\n",
    "    # 2. Use the model, call `predict` on the integer sequence\n",
    "    # 3. create a list of predicted labels for each word called `predicted_labels`\n",
    "    # 4. remove the padding from predicted_labels\n",
    "\n",
    "    \n",
    "    return tokens, predicted_labels"
   ]
  },
  {
   "cell_type": "code",
   "execution_count": null,
   "metadata": {},
   "outputs": [],
   "source": [
    "sentence = # come up with a sentence\n",
    "\n",
    "tokens, predicted_labels = preprocess_sentence(sentence)\n",
    "\n",
    "for word, lab in zip(tokens, predicted_labels):\n",
    "    print('{}: {}'.format(word, lab))"
   ]
  },
  {
   "cell_type": "markdown",
   "metadata": {},
   "source": [
    "# $ \\\\ $"
   ]
  },
  {
   "cell_type": "markdown",
   "metadata": {},
   "source": [
    "# $ \\\\ $"
   ]
  },
  {
   "cell_type": "code",
   "execution_count": null,
   "metadata": {},
   "outputs": [],
   "source": []
  },
  {
   "cell_type": "code",
   "execution_count": null,
   "metadata": {},
   "outputs": [],
   "source": []
  },
  {
   "cell_type": "markdown",
   "metadata": {},
   "source": [
    "# Problem 2: Speech2Text: A Gentle Introduction\n",
    "\n",
    "Pat O'Neill\n",
    "patrick.oneill@kensho.com\n",
    "\n",
    "In this notebook we will attempt to solve a simplified version of the transcription task.  Rather than build a model that can transcribe arbitrary speech, we will restrict ourselves to the problem of classifying a small, fixed number of words.  You could imagine such a model being useful if you wanted to build a simple interface that allowed a user to give voice commands to a device.  We'll explore this task using the Google Voice Commands Dataset, a collection of short audio files of speakers uttering words from a fixed vocabulary.  \n",
    "\n",
    "Download the Google Voice Commands Dataset from http://download.tensorflow.org/data/speech_commands_v0.01.tar.gz. Create a directory called `data` and unpack it there."
   ]
  },
  {
   "cell_type": "markdown",
   "metadata": {},
   "source": [
    "### (Note that this problem is long, but only very few code additions are needed and a big part of the credit will be to just work through the whole problem)"
   ]
  },
  {
   "cell_type": "markdown",
   "metadata": {},
   "source": [
    "Spend some time playing around with the data.  How many words are there in the vocabulary?  How many files are there?  How large is each file in kB?  How long are they in seconds?  What's the format of the audio?  Listen to a few: how is the sound quality?  Are there any anomalies?"
   ]
  },
  {
   "cell_type": "code",
   "execution_count": null,
   "metadata": {},
   "outputs": [],
   "source": [
    "# your answer here"
   ]
  },
  {
   "cell_type": "markdown",
   "metadata": {},
   "source": [
    "Next we'll create a manifest for the data."
   ]
  },
  {
   "cell_type": "markdown",
   "metadata": {},
   "source": [
    "## Dataset Definition"
   ]
  },
  {
   "cell_type": "code",
   "execution_count": 9,
   "metadata": {},
   "outputs": [],
   "source": [
    "import os\n",
    "import json\n",
    "import random\n",
    "import tempfile\n",
    "from typing import List\n",
    "import logging\n",
    "\n",
    "import torch\n",
    "\n",
    "from IPython.display import Audio\n",
    "import librosa\n",
    "from librosa import display as libdisplay\n",
    "import Levenshtein\n",
    "from matplotlib import pyplot as plt\n",
    "import nemo\n",
    "import nemo.collections.asr as nemo_asr\n",
    "import numpy as np\n",
    "import pandas as pd\n",
    "from tqdm import tqdm"
   ]
  },
  {
   "cell_type": "markdown",
   "metadata": {},
   "source": [
    "Installing nemo is a little touchy, and you may have to help it along with the following installs:"
   ]
  },
  {
   "cell_type": "code",
   "execution_count": 3,
   "metadata": {},
   "outputs": [
    {
     "name": "stderr",
     "output_type": "stream",
     "text": [
      "A subdirectory or file test already exists.\n",
      "Error occurred while processing: test.\n"
     ]
    }
   ],
   "source": [
    "! mkdir dev leaveout test"
   ]
  },
  {
   "cell_type": "markdown",
   "metadata": {},
   "source": [
    "We'll split the dataset up into two splits, `dev` and `test`.  (We won't be doing any training per se, only comparing model architectures, so one `dev` split is sufficient.)  We'll also aliquot the data (i.e. leave 80% out) in order to iterate more quickly.  After we're satisfied with model performance on `dev`, we'll use `test` to benchmark its prospective performance."
   ]
  },
  {
   "cell_type": "code",
   "execution_count": 10,
   "metadata": {},
   "outputs": [],
   "source": [
    "def generate_split():\n",
    "    \"\"\"Choose a split at random\"\"\"\n",
    "    return random.choice([\"dev\"] * 1 + [\"test\"] * 1 + [\"leaveout\"] * 8)"
   ]
  },
  {
   "cell_type": "code",
   "execution_count": 11,
   "metadata": {},
   "outputs": [],
   "source": [
    "#  test the split function\n",
    "from collections import Counter\n",
    "split_counts = Counter([generate_split() for _ in range(1000)])\n",
    "assert 750 <= split_counts[\"leaveout\"] <= 850\n",
    "assert 50 <= split_counts[\"dev\"] <= 150\n",
    "assert 50 <= split_counts[\"test\"] <= 150"
   ]
  },
  {
   "cell_type": "code",
   "execution_count": null,
   "metadata": {},
   "outputs": [
    {
     "name": "stderr",
     "output_type": "stream",
     "text": [
      " 10%|████████▎                                                                          | 3/30 [00:54<07:50, 17.42s/it]"
     ]
    }
   ],
   "source": [
    "random.seed(\"MIT\")\n",
    "rows = []\n",
    "def make_splits():\n",
    "    word_dirs = [word_dir for word_dir in os.listdir('C:/Users/shunl/data/_') if not word_dir.startswith(\"_\")]\n",
    "    #rows = []\n",
    "    for word_dir in tqdm(word_dirs):\n",
    "        full_path = os.path.join('C:/Users/shunl/data/_', word_dir)\n",
    "        for filename in os.listdir(full_path):\n",
    "            split = generate_split()\n",
    "            labeled_filename = filename.replace(\".wav\", \"_{}.wav\".format(word_dir))\n",
    "            rows.append((labeled_filename, word_dir, split))\n",
    "            source_filename = os.path.join(full_path, filename)\n",
    "            source_filename = source_filename.replace(\"/\",\"\\\\\")\n",
    "            target_filename = os.path.join('C:/Users/shunl/data/'+ split, labeled_filename).replace(\"/\",\"\\\\\")\n",
    "            #print(str(\"robocopy {} {}\".format(source_filename, target_filename)))\n",
    "            os.popen(\"copy {} {}\".format(source_filename, target_filename))\n",
    "            \n",
    "make_splits()  # uncomment to make splits!"
   ]
  },
  {
   "cell_type": "code",
   "execution_count": 7,
   "metadata": {},
   "outputs": [
    {
     "name": "stderr",
     "output_type": "stream",
     "text": [
      "'ls' is not recognized as an internal or external command,\n",
      "operable program or batch file.\n"
     ]
    }
   ],
   "source": [
    "! ls leaveout | wc; ls dev | wc; ls test | wc"
   ]
  },
  {
   "cell_type": "code",
   "execution_count": 13,
   "metadata": {},
   "outputs": [],
   "source": [
    "df = pd.DataFrame(rows, columns=[\"filename\", \"label\", \"split\"])"
   ]
  },
  {
   "cell_type": "code",
   "execution_count": 14,
   "metadata": {},
   "outputs": [
    {
     "data": {
      "text/html": [
       "<div>\n",
       "<style scoped>\n",
       "    .dataframe tbody tr th:only-of-type {\n",
       "        vertical-align: middle;\n",
       "    }\n",
       "\n",
       "    .dataframe tbody tr th {\n",
       "        vertical-align: top;\n",
       "    }\n",
       "\n",
       "    .dataframe thead th {\n",
       "        text-align: right;\n",
       "    }\n",
       "</style>\n",
       "<table border=\"1\" class=\"dataframe\">\n",
       "  <thead>\n",
       "    <tr style=\"text-align: right;\">\n",
       "      <th></th>\n",
       "      <th>filename</th>\n",
       "      <th>label</th>\n",
       "      <th>split</th>\n",
       "    </tr>\n",
       "  </thead>\n",
       "  <tbody>\n",
       "    <tr>\n",
       "      <th>0</th>\n",
       "      <td>00176480_nohash_0_bed.wav</td>\n",
       "      <td>bed</td>\n",
       "      <td>test</td>\n",
       "    </tr>\n",
       "    <tr>\n",
       "      <th>1</th>\n",
       "      <td>004ae714_nohash_0_bed.wav</td>\n",
       "      <td>bed</td>\n",
       "      <td>leaveout</td>\n",
       "    </tr>\n",
       "    <tr>\n",
       "      <th>2</th>\n",
       "      <td>004ae714_nohash_1_bed.wav</td>\n",
       "      <td>bed</td>\n",
       "      <td>leaveout</td>\n",
       "    </tr>\n",
       "    <tr>\n",
       "      <th>3</th>\n",
       "      <td>00f0204f_nohash_0_bed.wav</td>\n",
       "      <td>bed</td>\n",
       "      <td>dev</td>\n",
       "    </tr>\n",
       "    <tr>\n",
       "      <th>4</th>\n",
       "      <td>00f0204f_nohash_1_bed.wav</td>\n",
       "      <td>bed</td>\n",
       "      <td>leaveout</td>\n",
       "    </tr>\n",
       "  </tbody>\n",
       "</table>\n",
       "</div>"
      ],
      "text/plain": [
       "                    filename label     split\n",
       "0  00176480_nohash_0_bed.wav   bed      test\n",
       "1  004ae714_nohash_0_bed.wav   bed  leaveout\n",
       "2  004ae714_nohash_1_bed.wav   bed  leaveout\n",
       "3  00f0204f_nohash_0_bed.wav   bed       dev\n",
       "4  00f0204f_nohash_1_bed.wav   bed  leaveout"
      ]
     },
     "execution_count": 14,
     "metadata": {},
     "output_type": "execute_result"
    }
   ],
   "source": [
    "df.head()"
   ]
  },
  {
   "cell_type": "code",
   "execution_count": 15,
   "metadata": {},
   "outputs": [
    {
     "data": {
      "text/html": [
       "<div>\n",
       "<style scoped>\n",
       "    .dataframe tbody tr th:only-of-type {\n",
       "        vertical-align: middle;\n",
       "    }\n",
       "\n",
       "    .dataframe tbody tr th {\n",
       "        vertical-align: top;\n",
       "    }\n",
       "\n",
       "    .dataframe thead th {\n",
       "        text-align: right;\n",
       "    }\n",
       "</style>\n",
       "<table border=\"1\" class=\"dataframe\">\n",
       "  <thead>\n",
       "    <tr style=\"text-align: right;\">\n",
       "      <th></th>\n",
       "      <th></th>\n",
       "      <th>filename</th>\n",
       "    </tr>\n",
       "    <tr>\n",
       "      <th>label</th>\n",
       "      <th>split</th>\n",
       "      <th></th>\n",
       "    </tr>\n",
       "  </thead>\n",
       "  <tbody>\n",
       "    <tr>\n",
       "      <th rowspan=\"3\" valign=\"top\">bed</th>\n",
       "      <th>dev</th>\n",
       "      <td>154</td>\n",
       "    </tr>\n",
       "    <tr>\n",
       "      <th>leaveout</th>\n",
       "      <td>1389</td>\n",
       "    </tr>\n",
       "    <tr>\n",
       "      <th>test</th>\n",
       "      <td>172</td>\n",
       "    </tr>\n",
       "    <tr>\n",
       "      <th rowspan=\"3\" valign=\"top\">bird</th>\n",
       "      <th>dev</th>\n",
       "      <td>169</td>\n",
       "    </tr>\n",
       "    <tr>\n",
       "      <th>leaveout</th>\n",
       "      <td>1410</td>\n",
       "    </tr>\n",
       "    <tr>\n",
       "      <th>test</th>\n",
       "      <td>152</td>\n",
       "    </tr>\n",
       "    <tr>\n",
       "      <th rowspan=\"3\" valign=\"top\">cat</th>\n",
       "      <th>dev</th>\n",
       "      <td>159</td>\n",
       "    </tr>\n",
       "    <tr>\n",
       "      <th>leaveout</th>\n",
       "      <td>1403</td>\n",
       "    </tr>\n",
       "    <tr>\n",
       "      <th>test</th>\n",
       "      <td>171</td>\n",
       "    </tr>\n",
       "    <tr>\n",
       "      <th rowspan=\"3\" valign=\"top\">dog</th>\n",
       "      <th>dev</th>\n",
       "      <td>160</td>\n",
       "    </tr>\n",
       "    <tr>\n",
       "      <th>leaveout</th>\n",
       "      <td>1416</td>\n",
       "    </tr>\n",
       "    <tr>\n",
       "      <th>test</th>\n",
       "      <td>170</td>\n",
       "    </tr>\n",
       "    <tr>\n",
       "      <th rowspan=\"3\" valign=\"top\">down</th>\n",
       "      <th>dev</th>\n",
       "      <td>244</td>\n",
       "    </tr>\n",
       "    <tr>\n",
       "      <th>leaveout</th>\n",
       "      <td>1893</td>\n",
       "    </tr>\n",
       "    <tr>\n",
       "      <th>test</th>\n",
       "      <td>222</td>\n",
       "    </tr>\n",
       "    <tr>\n",
       "      <th rowspan=\"3\" valign=\"top\">eight</th>\n",
       "      <th>dev</th>\n",
       "      <td>223</td>\n",
       "    </tr>\n",
       "    <tr>\n",
       "      <th>leaveout</th>\n",
       "      <td>1869</td>\n",
       "    </tr>\n",
       "    <tr>\n",
       "      <th>test</th>\n",
       "      <td>260</td>\n",
       "    </tr>\n",
       "    <tr>\n",
       "      <th rowspan=\"3\" valign=\"top\">five</th>\n",
       "      <th>dev</th>\n",
       "      <td>232</td>\n",
       "    </tr>\n",
       "    <tr>\n",
       "      <th>leaveout</th>\n",
       "      <td>1881</td>\n",
       "    </tr>\n",
       "    <tr>\n",
       "      <th>test</th>\n",
       "      <td>244</td>\n",
       "    </tr>\n",
       "    <tr>\n",
       "      <th rowspan=\"3\" valign=\"top\">four</th>\n",
       "      <th>dev</th>\n",
       "      <td>250</td>\n",
       "    </tr>\n",
       "    <tr>\n",
       "      <th>leaveout</th>\n",
       "      <td>1890</td>\n",
       "    </tr>\n",
       "    <tr>\n",
       "      <th>test</th>\n",
       "      <td>232</td>\n",
       "    </tr>\n",
       "    <tr>\n",
       "      <th rowspan=\"3\" valign=\"top\">go</th>\n",
       "      <th>dev</th>\n",
       "      <td>216</td>\n",
       "    </tr>\n",
       "    <tr>\n",
       "      <th>leaveout</th>\n",
       "      <td>1907</td>\n",
       "    </tr>\n",
       "    <tr>\n",
       "      <th>test</th>\n",
       "      <td>249</td>\n",
       "    </tr>\n",
       "    <tr>\n",
       "      <th rowspan=\"3\" valign=\"top\">happy</th>\n",
       "      <th>dev</th>\n",
       "      <td>178</td>\n",
       "    </tr>\n",
       "    <tr>\n",
       "      <th>leaveout</th>\n",
       "      <td>1393</td>\n",
       "    </tr>\n",
       "    <tr>\n",
       "      <th>test</th>\n",
       "      <td>171</td>\n",
       "    </tr>\n",
       "    <tr>\n",
       "      <th>...</th>\n",
       "      <th>...</th>\n",
       "      <td>...</td>\n",
       "    </tr>\n",
       "    <tr>\n",
       "      <th rowspan=\"3\" valign=\"top\">sheila</th>\n",
       "      <th>dev</th>\n",
       "      <td>164</td>\n",
       "    </tr>\n",
       "    <tr>\n",
       "      <th>leaveout</th>\n",
       "      <td>1411</td>\n",
       "    </tr>\n",
       "    <tr>\n",
       "      <th>test</th>\n",
       "      <td>159</td>\n",
       "    </tr>\n",
       "    <tr>\n",
       "      <th rowspan=\"3\" valign=\"top\">six</th>\n",
       "      <th>dev</th>\n",
       "      <td>237</td>\n",
       "    </tr>\n",
       "    <tr>\n",
       "      <th>leaveout</th>\n",
       "      <td>1915</td>\n",
       "    </tr>\n",
       "    <tr>\n",
       "      <th>test</th>\n",
       "      <td>217</td>\n",
       "    </tr>\n",
       "    <tr>\n",
       "      <th rowspan=\"3\" valign=\"top\">stop</th>\n",
       "      <th>dev</th>\n",
       "      <td>219</td>\n",
       "    </tr>\n",
       "    <tr>\n",
       "      <th>leaveout</th>\n",
       "      <td>1926</td>\n",
       "    </tr>\n",
       "    <tr>\n",
       "      <th>test</th>\n",
       "      <td>235</td>\n",
       "    </tr>\n",
       "    <tr>\n",
       "      <th rowspan=\"3\" valign=\"top\">three</th>\n",
       "      <th>dev</th>\n",
       "      <td>235</td>\n",
       "    </tr>\n",
       "    <tr>\n",
       "      <th>leaveout</th>\n",
       "      <td>1875</td>\n",
       "    </tr>\n",
       "    <tr>\n",
       "      <th>test</th>\n",
       "      <td>246</td>\n",
       "    </tr>\n",
       "    <tr>\n",
       "      <th rowspan=\"3\" valign=\"top\">tree</th>\n",
       "      <th>dev</th>\n",
       "      <td>168</td>\n",
       "    </tr>\n",
       "    <tr>\n",
       "      <th>leaveout</th>\n",
       "      <td>1395</td>\n",
       "    </tr>\n",
       "    <tr>\n",
       "      <th>test</th>\n",
       "      <td>170</td>\n",
       "    </tr>\n",
       "    <tr>\n",
       "      <th rowspan=\"3\" valign=\"top\">two</th>\n",
       "      <th>dev</th>\n",
       "      <td>215</td>\n",
       "    </tr>\n",
       "    <tr>\n",
       "      <th>leaveout</th>\n",
       "      <td>1944</td>\n",
       "    </tr>\n",
       "    <tr>\n",
       "      <th>test</th>\n",
       "      <td>214</td>\n",
       "    </tr>\n",
       "    <tr>\n",
       "      <th rowspan=\"3\" valign=\"top\">up</th>\n",
       "      <th>dev</th>\n",
       "      <td>222</td>\n",
       "    </tr>\n",
       "    <tr>\n",
       "      <th>leaveout</th>\n",
       "      <td>1894</td>\n",
       "    </tr>\n",
       "    <tr>\n",
       "      <th>test</th>\n",
       "      <td>259</td>\n",
       "    </tr>\n",
       "    <tr>\n",
       "      <th rowspan=\"3\" valign=\"top\">wow</th>\n",
       "      <th>dev</th>\n",
       "      <td>189</td>\n",
       "    </tr>\n",
       "    <tr>\n",
       "      <th>leaveout</th>\n",
       "      <td>1381</td>\n",
       "    </tr>\n",
       "    <tr>\n",
       "      <th>test</th>\n",
       "      <td>175</td>\n",
       "    </tr>\n",
       "    <tr>\n",
       "      <th rowspan=\"3\" valign=\"top\">yes</th>\n",
       "      <th>dev</th>\n",
       "      <td>229</td>\n",
       "    </tr>\n",
       "    <tr>\n",
       "      <th>leaveout</th>\n",
       "      <td>1923</td>\n",
       "    </tr>\n",
       "    <tr>\n",
       "      <th>test</th>\n",
       "      <td>225</td>\n",
       "    </tr>\n",
       "    <tr>\n",
       "      <th rowspan=\"3\" valign=\"top\">zero</th>\n",
       "      <th>dev</th>\n",
       "      <td>257</td>\n",
       "    </tr>\n",
       "    <tr>\n",
       "      <th>leaveout</th>\n",
       "      <td>1884</td>\n",
       "    </tr>\n",
       "    <tr>\n",
       "      <th>test</th>\n",
       "      <td>235</td>\n",
       "    </tr>\n",
       "  </tbody>\n",
       "</table>\n",
       "<p>90 rows × 1 columns</p>\n",
       "</div>"
      ],
      "text/plain": [
       "                 filename\n",
       "label  split             \n",
       "bed    dev            154\n",
       "       leaveout      1389\n",
       "       test           172\n",
       "bird   dev            169\n",
       "       leaveout      1410\n",
       "       test           152\n",
       "cat    dev            159\n",
       "       leaveout      1403\n",
       "       test           171\n",
       "dog    dev            160\n",
       "       leaveout      1416\n",
       "       test           170\n",
       "down   dev            244\n",
       "       leaveout      1893\n",
       "       test           222\n",
       "eight  dev            223\n",
       "       leaveout      1869\n",
       "       test           260\n",
       "five   dev            232\n",
       "       leaveout      1881\n",
       "       test           244\n",
       "four   dev            250\n",
       "       leaveout      1890\n",
       "       test           232\n",
       "go     dev            216\n",
       "       leaveout      1907\n",
       "       test           249\n",
       "happy  dev            178\n",
       "       leaveout      1393\n",
       "       test           171\n",
       "...                   ...\n",
       "sheila dev            164\n",
       "       leaveout      1411\n",
       "       test           159\n",
       "six    dev            237\n",
       "       leaveout      1915\n",
       "       test           217\n",
       "stop   dev            219\n",
       "       leaveout      1926\n",
       "       test           235\n",
       "three  dev            235\n",
       "       leaveout      1875\n",
       "       test           246\n",
       "tree   dev            168\n",
       "       leaveout      1395\n",
       "       test           170\n",
       "two    dev            215\n",
       "       leaveout      1944\n",
       "       test           214\n",
       "up     dev            222\n",
       "       leaveout      1894\n",
       "       test           259\n",
       "wow    dev            189\n",
       "       leaveout      1381\n",
       "       test           175\n",
       "yes    dev            229\n",
       "       leaveout      1923\n",
       "       test           225\n",
       "zero   dev            257\n",
       "       leaveout      1884\n",
       "       test           235\n",
       "\n",
       "[90 rows x 1 columns]"
      ]
     },
     "execution_count": 15,
     "metadata": {},
     "output_type": "execute_result"
    }
   ],
   "source": [
    "df.groupby(['label', 'split']).count()"
   ]
  },
  {
   "cell_type": "markdown",
   "metadata": {},
   "source": [
    "Q: Here we have done a simple split where we have randomly assigned each file to one of `dev`, `test` or `leaveout`.  For our purposes this is sufficient, but could this approach be criticized on any grounds?  What if we wanted to ensure that the distribution of vocabulary is exactly consistent between splits?  How much of a concern is this, when our dataset is as large as it is?\n",
    "\n",
    "(Hint: look at `sklearn.StratifiedShuffleSplit`)"
   ]
  },
  {
   "cell_type": "markdown",
   "metadata": {},
   "source": [
    "# your answer here\n",
    "* if we want to ensure that the distribution of vocabulary is exactly consistent between splits, then sklearn.StrtifiedShuffleSplit maybe a better method. The exactly consistent is important as we handle very large dataset where the discrepency of the dev and test made by random shuffle could be huge."
   ]
  },
  {
   "cell_type": "markdown",
   "metadata": {},
   "source": [
    "Save the dataframe so that we don't have to regenerate it upon reloading the notebook:"
   ]
  },
  {
   "cell_type": "code",
   "execution_count": 16,
   "metadata": {},
   "outputs": [],
   "source": [
    "df.to_csv(\"manifest.csv\")"
   ]
  },
  {
   "cell_type": "code",
   "execution_count": 17,
   "metadata": {},
   "outputs": [],
   "source": [
    "import pandas as pd\n",
    "df = pd.read_csv(\"manifest.csv\")"
   ]
  },
  {
   "cell_type": "markdown",
   "metadata": {},
   "source": [
    "    Let's now visualize our waveforms."
   ]
  },
  {
   "cell_type": "markdown",
   "metadata": {},
   "source": [
    "## Data Exploration"
   ]
  },
  {
   "cell_type": "code",
   "execution_count": 18,
   "metadata": {},
   "outputs": [
    {
     "name": "stdout",
     "output_type": "stream",
     "text": [
      "0474c92a_nohash_1_left.wav\n"
     ]
    }
   ],
   "source": [
    "filepath = df.filename[(df.split==\"dev\")&(df.label==\"left\")].iloc[2]\n",
    "print(filepath)"
   ]
  },
  {
   "cell_type": "code",
   "execution_count": 20,
   "metadata": {},
   "outputs": [],
   "source": [
    "left_data, sr = librosa.load(os.path.join('C:/Users/shunl/data/'+ \"dev\", filepath).replace(\"/\",\"\\\\\"))"
   ]
  },
  {
   "cell_type": "markdown",
   "metadata": {},
   "source": [
    "Let's visualize a raw waveform:"
   ]
  },
  {
   "cell_type": "code",
   "execution_count": 21,
   "metadata": {
    "scrolled": true
   },
   "outputs": [
    {
     "data": {
      "text/plain": [
       "[<matplotlib.lines.Line2D at 0x1b786d74f98>]"
      ]
     },
     "execution_count": 21,
     "metadata": {},
     "output_type": "execute_result"
    },
    {
     "data": {
      "image/png": "[encoded data removed]",
      "text/plain": [
       "<Figure size 432x288 with 1 Axes>"
      ]
     },
     "metadata": {
      "needs_background": "light"
     },
     "output_type": "display_data"
    }
   ],
   "source": [
    "plt.plot(left_data)"
   ]
  },
  {
   "cell_type": "markdown",
   "metadata": {},
   "source": [
    "What are the units of the axes of this plot?"
   ]
  },
  {
   "cell_type": "markdown",
   "metadata": {},
   "source": [
    "We can listen to the file using IPython's built-in audio player:"
   ]
  },
  {
   "cell_type": "code",
   "execution_count": 22,
   "metadata": {},
   "outputs": [
    {
     "data": {
      "text/html": [
       "\n",
       "                <audio  controls=\"controls\" >\n",
       "                    <source src=\"data:audio/wav;base64,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\" type=\"audio/wav\" />\n",
       "                    Your browser does not support the audio element.\n",
       "                </audio>\n",
       "              "
      ],
      "text/plain": [
       "<IPython.lib.display.Audio object>"
      ]
     },
     "execution_count": 22,
     "metadata": {},
     "output_type": "execute_result"
    }
   ],
   "source": [
    "Audio(left_data, rate=sr)"
   ]
  },
  {
   "cell_type": "markdown",
   "metadata": {},
   "source": [
    "Look at, and listen to, a few more wavforms for the label \"left\".  What do they seem to have in common, if anything?  How do they differ?"
   ]
  },
  {
   "cell_type": "markdown",
   "metadata": {},
   "source": [
    "# your answer here\n",
    "* * they are all the sounds \"left\" with different accents. However, the clearnesses of sounds are different among words. some of them have background noises that distract the sound of the word."
   ]
  },
  {
   "cell_type": "markdown",
   "metadata": {},
   "source": [
    "## MFCCs\n",
    "We can also visualize the Mel Frequency Cepstrum Coefficients (MFCCs) of a waveform.  (Recall this is the processed form of the audio data that most acoustic models actually take as input.)"
   ]
  },
  {
   "cell_type": "code",
   "execution_count": 23,
   "metadata": {},
   "outputs": [],
   "source": [
    "mfccs = librosa.feature.mfcc(left_data, sr=sr)"
   ]
  },
  {
   "cell_type": "code",
   "execution_count": 24,
   "metadata": {},
   "outputs": [
    {
     "name": "stderr",
     "output_type": "stream",
     "text": [
      "[NeMo W 2020-11-28 20:27:28 nemo_logging:349] C:\\Users\\shunl\\Anaconda3\\lib\\site-packages\\librosa\\display.py:974: MatplotlibDeprecationWarning: The 'basey' parameter of __init__() has been renamed 'base' since Matplotlib 3.3; support for the old name will be dropped two minor releases later.\n",
      "      scaler(mode, **kwargs)\n",
      "    \n",
      "[NeMo W 2020-11-28 20:27:28 nemo_logging:349] C:\\Users\\shunl\\Anaconda3\\lib\\site-packages\\librosa\\display.py:974: MatplotlibDeprecationWarning: The 'linthreshy' parameter of __init__() has been renamed 'linthresh' since Matplotlib 3.3; support for the old name will be dropped two minor releases later.\n",
      "      scaler(mode, **kwargs)\n",
      "    \n"
     ]
    },
    {
     "data": {
      "text/plain": [
       "<matplotlib.collections.QuadMesh at 0x1b786e68dd8>"
      ]
     },
     "execution_count": 24,
     "metadata": {},
     "output_type": "execute_result"
    },
    {
     "data": {
      "image/png": "[encoded data removed]",
      "text/plain": [
       "<Figure size 432x288 with 1 Axes>"
      ]
     },
     "metadata": {
      "needs_background": "light"
     },
     "output_type": "display_data"
    }
   ],
   "source": [
    "libdisplay.specshow(mfccs, sr=sr, x_axis='time', y_axis='mel')"
   ]
  },
  {
   "cell_type": "code",
   "execution_count": 25,
   "metadata": {},
   "outputs": [],
   "source": [
    "def mfccs_from_filename(filename):\n",
    "    x , sr = librosa.load(filename)\n",
    "    mfccs = librosa.feature.mfcc(x, sr=sr)\n",
    "    return mfccs\n",
    "\n",
    "def plot_mfccs(filename):\n",
    "    mfccs = mfccs_from_filename(filename)\n",
    "    libdisplay.specshow(mfccs, sr=sr, x_axis='time', y_axis='mel')"
   ]
  },
  {
   "cell_type": "markdown",
   "metadata": {},
   "source": [
    "## Setting up Evaluation Metrics"
   ]
  },
  {
   "cell_type": "markdown",
   "metadata": {},
   "source": [
    "We'll be evaluating the performance of several different models.  To that end, it will help to have all of our evaluation code in one place so we can easily compare."
   ]
  },
  {
   "cell_type": "code",
   "execution_count": 26,
   "metadata": {},
   "outputs": [],
   "source": [
    "#  Pull the dev labels out and name them for convenience\n",
    "import os\n",
    "dev_filenames = [os.path.join('C:/Users/shunl/data/'+ \"dev\", filename).replace(\"/\",\"\\\\\") for filename in df.filename[df.split==\"dev\"]]\n",
    "dev_labels = df.label[df.split==\"dev\"]"
   ]
  },
  {
   "cell_type": "code",
   "execution_count": 27,
   "metadata": {},
   "outputs": [],
   "source": [
    "assert len(dev_filenames) == len(dev_labels)\n",
    "assert len(dev_filenames) == len(set(dev_filenames))\n",
    "assert len(set(dev_labels)) == len(df.label.unique())"
   ]
  },
  {
   "cell_type": "markdown",
   "metadata": {},
   "source": [
    "Make sure the bulk statistics are what we're expecting:"
   ]
  },
  {
   "cell_type": "markdown",
   "metadata": {},
   "source": [
    "### Character error rate "
   ]
  },
  {
   "cell_type": "markdown",
   "metadata": {},
   "source": [
    "For simplicity we'll evaluate the performance of our classifiers using accuracy, i.e. the percentage of predictions we get exactly right.  This is not the only metric we could use, and different choices of metric might lead us to prefer different models.  (Note that because this is a 30-way classification problem, accuracy is actually quite a demanding metric!)"
   ]
  },
  {
   "cell_type": "code",
   "execution_count": 28,
   "metadata": {},
   "outputs": [],
   "source": [
    "def accuracy(predicted_labels: List[str], actual_labels: List[str]) -> float:\n",
    "    \"\"\"Calculate accuracy.\"\"\"\n",
    "    assert len(predicted_labels) == len(actual_labels)\n",
    "    return np.mean([predicted == actual for (predicted, actual) in zip(predicted_labels, actual_labels)])"
   ]
  },
  {
   "cell_type": "code",
   "execution_count": 29,
   "metadata": {},
   "outputs": [
    {
     "name": "stderr",
     "output_type": "stream",
     "text": [
      "[NeMo W 2020-11-28 20:27:39 nemo_logging:349] C:\\Users\\shunl\\Anaconda3\\lib\\site-packages\\numpy\\core\\fromnumeric.py:3373: RuntimeWarning: Mean of empty slice.\n",
      "      out=out, **kwargs)\n",
      "    \n",
      "[NeMo W 2020-11-28 20:27:39 nemo_logging:349] C:\\Users\\shunl\\Anaconda3\\lib\\site-packages\\numpy\\core\\_methods.py:170: RuntimeWarning: invalid value encountered in double_scalars\n",
      "      ret = ret.dtype.type(ret / rcount)\n",
      "    \n"
     ]
    }
   ],
   "source": [
    "assert accuracy([\"foo\", \"foo\"], [\"foo\", \"foo\"]) == 1\n",
    "assert accuracy([\"foo\", \"foo\"], [\"bar\", \"bar\"]) == 0\n",
    "assert accuracy([\"foo\", \"bar\"], [\"foo\", \"foo\"]) == 0.5\n",
    "assert np.isnan(accuracy([], []))"
   ]
  },
  {
   "cell_type": "markdown",
   "metadata": {},
   "source": [
    "For exploratory purposes we can also calculate the character error rate (CER).  The CER between a predicted and actual label is simply the minimum edit distance (number of insertions, deletions or substitutions required to transform one string into another, normalized by the length of the true label."
   ]
  },
  {
   "cell_type": "code",
   "execution_count": 32,
   "metadata": {},
   "outputs": [],
   "source": [
    "def character_error_rate(predicted: str, actual: str) -> float:\n",
    "    \"\"\"Calculate character error rate, edit distance normalized by length of true label.\"\"\"\n",
    "    # your code here\n",
    "    error = 0\n",
    "    if len(predicted) < len(actual):\n",
    "        error = len(actual) - len(predicted)\n",
    "        for x,y in zip(predicted, actual):\n",
    "            if x != y:\n",
    "                error = error + 1\n",
    "    else:\n",
    "        for x,y in zip(predicted, actual):\n",
    "            if x != y:\n",
    "                error = error + 1\n",
    "    error_rate = error/len(actual)\n",
    "    return error_rate "
   ]
  },
  {
   "cell_type": "code",
   "execution_count": 33,
   "metadata": {},
   "outputs": [],
   "source": [
    "assert character_error_rate(\"cat\", \"cat\") == 0\n",
    "assert np.isclose(character_error_rate(\"cat\", \"hat\"), 1/3)\n",
    "assert np.isclose(character_error_rate(\"car\", \"hat\"), 2/3)\n",
    "assert np.isclose(character_error_rate(\"\", \"hat\"), 1)"
   ]
  },
  {
   "cell_type": "code",
   "execution_count": 34,
   "metadata": {},
   "outputs": [],
   "source": [
    "def evaluate_metrics(predicted_labels: List[str], actual_labels: List[str])-> None: \n",
    "    \"\"\"Calculate and report evaluation metrics.\"\"\"\n",
    "    accuracy = np.mean([p == a for (p, a) in zip(predicted_labels, actual_labels)])\n",
    "    print(\"accuracy: {:.3f}\".format(accuracy))\n",
    "    cer = np.mean([character_error_rate(p, a) for (p, a) in zip(predicted_labels, actual_labels)])\n",
    "    print(\"cer: {:.3f}\".format(cer))"
   ]
  },
  {
   "cell_type": "markdown",
   "metadata": {},
   "source": [
    "## Establishing a human baseline\n",
    "\n",
    "In machine learning, it almost always pays to establish a human baseline: how well could you, yourself, do at the task?  \n",
    "\n",
    "Human baselines are helpful for two reasons.  First, they can help you to realize what a realistic performance goal looks like.  Often datasets will contain irreducible error--cases where it's not realistic to expect any algorithm or person to classify an instance correctly--such as when a voice is faint and drowned out by static.  With such data, the realistic ceiling on accuracy might be lower than 100%.  (\n",
    "\n",
    "The second reason that baselines are helpful is simply that they force you to explore the data manually, and this can often lead to insights that are harder to come by when your data is simply a row in a dataframe."
   ]
  },
  {
   "cell_type": "code",
   "execution_count": 35,
   "metadata": {},
   "outputs": [],
   "source": [
    "predictions = []\n",
    "ground_truth = []"
   ]
  },
  {
   "cell_type": "markdown",
   "metadata": {},
   "source": [
    "### Baseline Harness\n",
    "Run the two cells below a few times (say, 50) in order to establish a feel for what human performance looks like on this task.  Please listen to each recording _only once_ in order make a fair comparison.  Don't go back and listen again!\n",
    "\n",
    "(Reminder: you can evaluate cells with Shift + Enter and navigate with the arrow keys.)"
   ]
  },
  {
   "cell_type": "code",
   "execution_count": 136,
   "metadata": {},
   "outputs": [
    {
     "data": {
      "text/html": [
       "\n",
       "                <audio  controls=\"controls\" autoplay=\"autoplay\">\n",
       "                    <source src=\"data:audio/wav;base64,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\" type=\"audio/wav\" />\n",
       "                    Your browser does not support the audio element.\n",
       "                </audio>\n",
       "              "
      ],
      "text/plain": [
       "<IPython.lib.display.Audio object>"
      ]
     },
     "execution_count": 136,
     "metadata": {},
     "output_type": "execute_result"
    }
   ],
   "source": [
    "fname, label = random.choice(list(zip(dev_filenames, dev_labels)))\n",
    "Audio(fname, autoplay=True)"
   ]
  },
  {
   "cell_type": "code",
   "execution_count": 137,
   "metadata": {
    "scrolled": true
   },
   "outputs": [
    {
     "name": "stdout",
     "output_type": "stream",
     "text": [
      "<what did you hear?>six\n",
      "ground truth: six\n",
      "percent correct: 0.86\n",
      "trials: 50\n"
     ]
    }
   ],
   "source": [
    "predicted = input(\"<what did you hear?>\")\n",
    "\n",
    "predictions.append(predicted)\n",
    "ground_truth.append(label)\n",
    "\n",
    "print(\"ground truth:\", label)\n",
    "print(\"percent correct:\", np.mean(np.array(predictions) == np.array(ground_truth)))\n",
    "print(\"trials:\", len(predictions))"
   ]
  },
  {
   "cell_type": "markdown",
   "metadata": {},
   "source": [
    "### End Baseline Harness"
   ]
  },
  {
   "cell_type": "markdown",
   "metadata": {},
   "source": [
    "I personally found it difficult to consistently exceed 95% due to audio quality issues. How'd you do?"
   ]
  },
  {
   "cell_type": "markdown",
   "metadata": {},
   "source": [
    "# your answer\n",
    "* it is very hard to exceed 95% I can only get 85% right"
   ]
  },
  {
   "cell_type": "markdown",
   "metadata": {},
   "source": [
    "## Quartznet\n",
    "\n",
    "We will use an acoustic model architecture called [Quartznet](https://arxiv.org/abs/1910.10261), developed by NVIDIA, in order to interpret the audio.  NVIDIA has made pre-trained models available, so let's take one off the shelf and see how it does."
   ]
  },
  {
   "cell_type": "markdown",
   "metadata": {},
   "source": [
    "(Please politely ignore the scary warning messages from running the cell below. It's fine.)"
   ]
  },
  {
   "cell_type": "code",
   "execution_count": 3,
   "metadata": {},
   "outputs": [
    {
     "name": "stderr",
     "output_type": "stream",
     "text": [
      "[NeMo W 2020-11-26 19:08:21 experimental:28] Module <class 'nemo.collections.asr.losses.ctc.CTCLoss'> is experimental, not ready for production and is not fully supported. Use at your own risk.\n",
      "[NeMo W 2020-11-26 19:08:23 experimental:28] Module nemo.collections.asr.data.audio_to_text.AudioToCharDataset is experimental, not ready for production and is not fully supported. Use at your own risk.\n",
      "[NeMo W 2020-11-26 19:08:23 experimental:28] Module nemo.collections.asr.data.audio_to_text.AudioToBPEDataset is experimental, not ready for production and is not fully supported. Use at your own risk.\n",
      "[NeMo W 2020-11-26 19:08:23 experimental:28] Module nemo.collections.asr.data.audio_to_text.AudioLabelDataset is experimental, not ready for production and is not fully supported. Use at your own risk.\n",
      "[NeMo W 2020-11-26 19:08:23 experimental:28] Module nemo.collections.asr.data.audio_to_text.TarredAudioToTextDataset is experimental, not ready for production and is not fully supported. Use at your own risk.\n",
      "[NeMo W 2020-11-26 19:08:23 experimental:28] Module nemo.collections.asr.data.audio_to_text.TarredAudioToCharDataset is experimental, not ready for production and is not fully supported. Use at your own risk.\n",
      "[NeMo W 2020-11-26 19:08:23 experimental:28] Module nemo.collections.asr.data.audio_to_text.TarredAudioToBPEDataset is experimental, not ready for production and is not fully supported. Use at your own risk.\n",
      "[NeMo W 2020-11-26 19:08:24 experimental:28] Module <class 'nemo.collections.asr.data.audio_to_text_dali.AudioToCharDALIDataset'> is experimental, not ready for production and is not fully supported. Use at your own risk.\n"
     ]
    },
    {
     "name": "stdout",
     "output_type": "stream",
     "text": [
      "[NeMo I 2020-11-26 19:08:24 cloud:56] Found existing object /Users/Yx-Z/.cache/torch/NeMo/NeMo_1.0.0b2/QuartzNet15x5Base-En/00869f9c89b8393ca3de640e0c536bd2/QuartzNet15x5Base-En.nemo.\n",
      "[NeMo I 2020-11-26 19:08:24 cloud:62] Re-using file from: /Users/Yx-Z/.cache/torch/NeMo/NeMo_1.0.0b2/QuartzNet15x5Base-En/00869f9c89b8393ca3de640e0c536bd2/QuartzNet15x5Base-En.nemo\n",
      "[NeMo I 2020-11-26 19:08:24 common:417] Instantiating model from pre-trained checkpoint\n"
     ]
    },
    {
     "name": "stderr",
     "output_type": "stream",
     "text": [
      "[NeMo W 2020-11-26 19:08:24 nemo_logging:349] /Users/Yx-Z/Desktop/hw8/venv/lib/python3.6/site-packages/hydra/_internal/utils.py:632: UserWarning: \n",
      "    Config key 'cls' is deprecated since Hydra 1.0 and will be removed in Hydra 1.1.\n",
      "    Use '_target_' instead of 'cls'.\n",
      "    See https://hydra.cc/docs/next/upgrades/0.11_to_1.0/object_instantiation_changes\n",
      "      warnings.warn(message=msg, category=UserWarning)\n",
      "    \n",
      "[NeMo W 2020-11-26 19:08:24 nemo_logging:349] /Users/Yx-Z/Desktop/hw8/venv/lib/python3.6/site-packages/hydra/_internal/utils.py:577: UserWarning: \n",
      "    Field 'params' is deprecated since Hydra 1.0 and will be removed in Hydra 1.1.\n",
      "    Inline the content of params directly at the containing node.\n",
      "    See https://hydra.cc/docs/next/upgrades/0.11_to_1.0/object_instantiation_changes\n",
      "      warnings.warn(category=UserWarning, message=msg)\n",
      "    \n"
     ]
    },
    {
     "name": "stdout",
     "output_type": "stream",
     "text": [
      "[NeMo I 2020-11-26 19:08:24 features:235] PADDING: 16\n",
      "[NeMo I 2020-11-26 19:08:24 features:251] STFT using torch\n",
      "[NeMo I 2020-11-26 19:08:25 modelPT:405] Model EncDecCTCModel was successfully restored from /Users/Yx-Z/.cache/torch/NeMo/NeMo_1.0.0b2/QuartzNet15x5Base-En/00869f9c89b8393ca3de640e0c536bd2/QuartzNet15x5Base-En.nemo.\n"
     ]
    }
   ],
   "source": [
    "import nemo.collections.asr.models as ncam\n",
    "quartznet = ncam.EncDecCTCModel.from_pretrained(model_name=\"QuartzNet15x5Base-En\")"
   ]
  },
  {
   "cell_type": "markdown",
   "metadata": {},
   "source": [
    "Let's try running some audio through the acoustic model.  The `transcribe` method accepts a list of filenames as input and returns a list of greedily decoded transcripts, i.e. transcripts generated by selecting the maximum likelihood character of each frame of the matrix and then squashing."
   ]
  },
  {
   "cell_type": "markdown",
   "metadata": {},
   "source": [
    "Let's run the dev files through.  On CPU, this might take about five minutes."
   ]
  },
  {
   "cell_type": "code",
   "execution_count": 40,
   "metadata": {},
   "outputs": [
    {
     "name": "stderr",
     "output_type": "stream",
     "text": [
      "[NeMo W 2020-11-26 18:08:38 nemo_logging:349] /Users/Yx-Z/Desktop/hw8/venv/lib/python3.6/site-packages/torch/functional.py:516: UserWarning: stft will require the return_complex parameter be explicitly  specified in a future PyTorch release. Use return_complex=False  to preserve the current behavior or return_complex=True to return  a complex output. (Triggered internally at  ../aten/src/ATen/native/SpectralOps.cpp:653.)\n",
      "      normalized, onesided, return_complex)\n",
      "    \n",
      "[NeMo W 2020-11-26 18:08:38 nemo_logging:349] /Users/Yx-Z/Desktop/hw8/venv/lib/python3.6/site-packages/torch/functional.py:516: UserWarning: The function torch.rfft is deprecated and will be removed in a future PyTorch release. Use the new torch.fft module functions, instead, by importing torch.fft and calling torch.fft.fft or torch.fft.rfft. (Triggered internally at  ../aten/src/ATen/native/SpectralOps.cpp:590.)\n",
      "      normalized, onesided, return_complex)\n",
      "    \n"
     ]
    },
    {
     "name": "stdout",
     "output_type": "stream",
     "text": [
      "CPU times: user 19min 16s, sys: 28.6 s, total: 19min 44s\n",
      "Wall time: 19min 18s\n"
     ]
    }
   ],
   "source": [
    "%time greedy_decodings = quartznet.transcribe(dev_filenames)"
   ]
  },
  {
   "cell_type": "markdown",
   "metadata": {},
   "source": [
    "Let's take a glance at the results, examining a random sample of decodings and their respective labels:"
   ]
  },
  {
   "cell_type": "code",
   "execution_count": 41,
   "metadata": {},
   "outputs": [
    {
     "name": "stdout",
     "output_type": "stream",
     "text": [
      "Label\tPrediction\n",
      "yes\tyes\n",
      "off\tes\n",
      "tree\ttree\n",
      "bird\terg\n",
      "wow\twow\n",
      "eight\t\n",
      "five\tfive\n",
      "house\thouse\n",
      "right\tright\n",
      "on\ton\n"
     ]
    }
   ],
   "source": [
    "random.seed(\"MIT\")\n",
    "labels_and_decodings = list(zip(dev_labels, greedy_decodings))\n",
    "random_sample = [random.choice(labels_and_decodings) for _ in range(10)]\n",
    "\n",
    "print(\"Label\\tPrediction\")\n",
    "for expected, actual in random_sample:\n",
    "    print(\"{}\\t{}\".format(expected, actual))"
   ]
  },
  {
   "cell_type": "markdown",
   "metadata": {},
   "source": [
    "What can we conclude from this?\n",
    "\n",
    "We can see that our approach is basically on track (we're getting output, the output basically corresponds to the label, the output varies in a way that makes sense given the label, &c.). But we can also see that there's room for improvement.  Some of our predictions are wrong, and one of our predictions is not even an English word!"
   ]
  },
  {
   "cell_type": "markdown",
   "metadata": {},
   "source": [
    "### Greedy Decoding Evaluation"
   ]
  },
  {
   "cell_type": "markdown",
   "metadata": {},
   "source": [
    "Let's now compute our metrics for the full dataset:"
   ]
  },
  {
   "cell_type": "code",
   "execution_count": 8,
   "metadata": {},
   "outputs": [],
   "source": [
    "def eval_decodings (predict, actual):\n",
    "    mistake = [(label, decoding) for (label, decoding) in zip(actual, predict) if label != decoding]\n",
    "    len_mistake = len(mistake)\n",
    "    return 1 - len_mistake/len(actual)"
   ]
  },
  {
   "cell_type": "code",
   "execution_count": 42,
   "metadata": {
    "scrolled": true
   },
   "outputs": [
    {
     "data": {
      "text/plain": [
       "0.6899358272030052"
      ]
     },
     "execution_count": 42,
     "metadata": {},
     "output_type": "execute_result"
    }
   ],
   "source": [
    "eval_decodings(greedy_decodings, dev_labels)"
   ]
  },
  {
   "cell_type": "markdown",
   "metadata": {},
   "source": [
    "Our first model achieves an accuracy of about 70%.  Not bad, but could we do any better?"
   ]
  },
  {
   "cell_type": "markdown",
   "metadata": {},
   "source": [
    "## Fixed Up Greedy Decoding"
   ]
  },
  {
   "cell_type": "markdown",
   "metadata": {},
   "source": [
    "To start thinking about how to improve this model, let's look at some of our errors:"
   ]
  },
  {
   "cell_type": "code",
   "execution_count": 43,
   "metadata": {},
   "outputs": [
    {
     "data": {
      "text/plain": [
       "[('happy', 'abby'),\n",
       " ('on', 'owing'),\n",
       " ('one', 'why'),\n",
       " ('tree', 'three'),\n",
       " ('one', ''),\n",
       " ('off', 'urth'),\n",
       " ('up', 'oh'),\n",
       " ('marvin', 'marthen'),\n",
       " ('sheila', 'ceela'),\n",
       " ('bird', 'bared'),\n",
       " ('zero', 'ze war'),\n",
       " ('four', 'for'),\n",
       " ('cat', 'hm'),\n",
       " ('sheila', 'she ae'),\n",
       " ('marvin', 'morvin'),\n",
       " ('dog', 'dod'),\n",
       " ('on', ''),\n",
       " ('on', 'n'),\n",
       " ('yes', 'ho likes'),\n",
       " ('stop', 'that')]"
      ]
     },
     "execution_count": 43,
     "metadata": {},
     "output_type": "execute_result"
    }
   ],
   "source": [
    "mistakes = [(label, decoding) for (label, decoding) in zip(dev_labels, greedy_decodings) if label != decoding]\n",
    "[random.choice(mistakes) for _ in range(20)]"
   ]
  },
  {
   "cell_type": "markdown",
   "metadata": {},
   "source": [
    "We can see that often (but not always!), the output is close to the correct label.  In the context of a speech classification task, our model is at a disadvantage: decoding can return arbitrary text, even though the correct answer is always constrained to be in a small set of vocabulary words.  If we took the simple step of matching the greedy decoding to the closest vocab word and returned that instead, could we improve our performance?"
   ]
  },
  {
   "cell_type": "markdown",
   "metadata": {},
   "source": [
    "Let's write a function that accepts a string and returns the closest string in the vocabulary, according to CER."
   ]
  },
  {
   "cell_type": "code",
   "execution_count": 29,
   "metadata": {},
   "outputs": [],
   "source": [
    "LABELS = sorted(df.label.unique())\n",
    "\n",
    "def postprocess_transcription(transcription: str) -> str:\n",
    "    \"\"\"Find the closest label to a given string.\"\"\"\n",
    "    cers = [character_error_rate(transcription, label) for label in LABELS]\n",
    "    # return the label of the index with the lowest CER\n",
    "    # your code here\n",
    "    return LABELS[cers.index(min(cers))]"
   ]
  },
  {
   "cell_type": "markdown",
   "metadata": {},
   "source": [
    "### Fixed up Greedy Decoding Evaluation"
   ]
  },
  {
   "cell_type": "code",
   "execution_count": 45,
   "metadata": {},
   "outputs": [
    {
     "data": {
      "text/plain": [
       "0.8132728126467366"
      ]
     },
     "execution_count": 45,
     "metadata": {},
     "output_type": "execute_result"
    }
   ],
   "source": [
    "fixed_greedy_decodings = [postprocess_transcription(gd) for gd in greedy_decodings]\n",
    "eval_decodings(fixed_greedy_decodings, dev_labels)"
   ]
  },
  {
   "cell_type": "markdown",
   "metadata": {},
   "source": [
    "Right off the bat we get a >10% improvement in accuracy, just by constraining our output to be in the original vocabulary."
   ]
  },
  {
   "cell_type": "markdown",
   "metadata": {},
   "source": [
    "## Beam Search Decoding"
   ]
  },
  {
   "cell_type": "markdown",
   "metadata": {},
   "source": [
    "So far we have simply taken the MLE decoding of the acoustic model output.  Let's see if we can improve our results by doing a proper beam search over acoustic model results."
   ]
  },
  {
   "cell_type": "code",
   "execution_count": 18,
   "metadata": {},
   "outputs": [],
   "source": [
    "# The following code is gently lifted from the quartznet source \n",
    "# so that we can reach into the guts of the inference code and \n",
    "# pull out some logit matrices before they're decoded.\n",
    "\n",
    "# Feel free to ignore this.\n",
    "\n",
    "# The important thing to keep track of is the API for this function:\n",
    "# get_log_probs accepts a list of filenames as input, \n",
    "# and returns a list of log_probability matrices of shape:\n",
    "# 1 x TIMESTEPS X ALPHABET_SIZE.\n",
    "\n",
    "# In principle the first dimension could be disregarded and a 2-D tensor\n",
    "# returned instead, but our downstream decoder will expect a 3-D tensor, so we keep it.\n",
    "\n",
    "@torch.no_grad()\n",
    "def get_log_probs(self, paths2audio_files: List[str], batch_size: int = 4) -> [torch.Tensor]:\n",
    "    \"\"\"\n",
    "    Uses greedy decoding to transcribe audio files. Use this method for debugging and prototyping.\n",
    "\n",
    "    Args:\n",
    "\n",
    "        paths2audio_files: (a list) of paths to audio files. \\\n",
    "    Recommended length per file is between 5 and 25 seconds. \\\n",
    "    But it is possible to pass a few hours long file if enough GPU memory is available.\n",
    "        batch_size: (int) batch size to use during inference. \\\n",
    "    Bigger will result in better throughput performance but would use more memory.\n",
    "\n",
    "    Returns:\n",
    "\n",
    "        A list of transcriptions in the same order as paths2audio_files\n",
    "    \"\"\"\n",
    "    if paths2audio_files is None or len(paths2audio_files) == 0:\n",
    "        return {}\n",
    "    # We will store transcriptions here\n",
    "    hypotheses = []\n",
    "    # Model's mode and device\n",
    "    mode = self.training\n",
    "    device = next(self.parameters()).device\n",
    "    batch_outputs = []\n",
    "    try:\n",
    "        # Switch model to evaluation mode\n",
    "        self.eval()\n",
    "        # Work in tmp directory - will store manifest file there\n",
    "        with tempfile.TemporaryDirectory() as tmpdir:\n",
    "            with open(os.path.join(tmpdir, 'manifest.json'), 'w') as fp:\n",
    "                for audio_file in paths2audio_files:\n",
    "                    entry = {'audio_filepath': audio_file, 'duration': 100000, 'text': 'nothing'}\n",
    "                    fp.write(json.dumps(entry) + '\\n')\n",
    "\n",
    "            config = {'paths2audio_files': paths2audio_files, 'batch_size': batch_size, 'temp_dir': tmpdir}\n",
    "\n",
    "            temporary_datalayer = self._setup_transcribe_dataloader(config)\n",
    "            for test_batch in tqdm(temporary_datalayer):\n",
    "                log_probs, encoded_len, greedy_predictions = self.forward(\n",
    "                    input_signal=test_batch[0].to(device), input_signal_length=test_batch[1].to(device)\n",
    "                )\n",
    "                for i in range(log_probs.shape[0]):\n",
    "                    batch_outputs.append(log_probs[i:i+1, :encoded_len[i], :])\n",
    "                del test_batch\n",
    "    finally:\n",
    "        # set mode back to its original value\n",
    "        self.train(mode=mode)\n",
    "    assert len(batch_outputs) == len(paths2audio_files)\n",
    "    return batch_outputs"
   ]
  },
  {
   "cell_type": "code",
   "execution_count": 19,
   "metadata": {},
   "outputs": [
    {
     "name": "stdout",
     "output_type": "stream",
     "text": [
      "[NeMo I 2020-11-26 19:10:48 collections:173] Dataset loaded with 6389 files totalling 177472.22 hours\n",
      "[NeMo I 2020-11-26 19:10:48 collections:174] 0 files were filtered totalling 0.00 hours\n"
     ]
    },
    {
     "name": "stderr",
     "output_type": "stream",
     "text": [
      "  0%|          | 0/1598 [00:00<?, ?it/s][NeMo W 2020-11-26 19:10:48 nemo_logging:349] /Users/Yx-Z/Desktop/hw8/venv/lib/python3.6/site-packages/torch/functional.py:516: UserWarning: stft will require the return_complex parameter be explicitly  specified in a future PyTorch release. Use return_complex=False  to preserve the current behavior or return_complex=True to return  a complex output. (Triggered internally at  ../aten/src/ATen/native/SpectralOps.cpp:653.)\n",
      "      normalized, onesided, return_complex)\n",
      "    \n",
      "[NeMo W 2020-11-26 19:10:48 nemo_logging:349] /Users/Yx-Z/Desktop/hw8/venv/lib/python3.6/site-packages/torch/functional.py:516: UserWarning: The function torch.rfft is deprecated and will be removed in a future PyTorch release. Use the new torch.fft module functions, instead, by importing torch.fft and calling torch.fft.fft or torch.fft.rfft. (Triggered internally at  ../aten/src/ATen/native/SpectralOps.cpp:590.)\n",
      "      normalized, onesided, return_complex)\n",
      "    \n",
      "100%|██████████| 1598/1598 [17:49<00:00,  1.49it/s]\n"
     ]
    }
   ],
   "source": [
    "dev_log_probs = get_log_probs(quartznet, dev_filenames)"
   ]
  },
  {
   "cell_type": "markdown",
   "metadata": {},
   "source": [
    "In order to ensure that we understand the acoutic_model output, let's write our own squashing function.  Recall that the job of the squashing function is to accept a path, which represents one character from each frame of the acoustic model output, and return a label (i.e. a final answer).\n",
    "\n",
    "Paths may contain duplicated characters and blank characters, so we must remove these through _squashing_."
   ]
  },
  {
   "cell_type": "code",
   "execution_count": 48,
   "metadata": {},
   "outputs": [],
   "source": [
    "def squash(path: str, blank_char:str=\"_\") -> str:\n",
    "    \"\"\"Convert a path into a label via CTC squashing.\"\"\"\n",
    "    # First deduplicate successive chars\n",
    "    # Then remove all blank chars\n",
    "    \n",
    "    # your code here\n",
    "    lst = []\n",
    "    s = set()\n",
    "    trig = 0\n",
    "    # your code here\n",
    "    for char in path:\n",
    "        if char == '_':\n",
    "            s = set()\n",
    "            \n",
    "        else:\n",
    "            if char not in s:\n",
    "                s.add(char)\n",
    "                lst.append(char)\n",
    "    \n",
    "    return ''.join(lst)        "
   ]
  },
  {
   "cell_type": "code",
   "execution_count": 49,
   "metadata": {},
   "outputs": [],
   "source": [
    "assert squash(\"hello\") == \"helo\"\n",
    "assert squash(\"hel_lo\") == \"hello\"\n",
    "assert squash(\"hhhheeelll___llloooo\") == \"hello\"\n",
    "assert squash(\"\") == \"\""
   ]
  },
  {
   "cell_type": "markdown",
   "metadata": {},
   "source": [
    "In order to decode we'll need to keep the model's alphabet handy.  The blank character is often not treated as an explicit part of the alphabet, but for our purposes it will be helpful to see it explicitly in the paths."
   ]
  },
  {
   "cell_type": "code",
   "execution_count": 4,
   "metadata": {},
   "outputs": [
    {
     "name": "stdout",
     "output_type": "stream",
     "text": [
      "[' ', 'a', 'b', 'c', 'd', 'e', 'f', 'g', 'h', 'i', 'j', 'k', 'l', 'm', 'n', 'o', 'p', 'q', 'r', 's', 't', 'u', 'v', 'w', 'x', 'y', 'z', \"'\", '_']\n",
      "29\n"
     ]
    }
   ],
   "source": [
    "vocab = list(quartznet.decoder.vocabulary)\n",
    "# the blank character is not explicitly listed in the quartznet vocabulary, so we must add it.\n",
    "vocab = vocab + [\"_\"]  \n",
    "print(vocab)\n",
    "print(len(vocab))"
   ]
  },
  {
   "cell_type": "markdown",
   "metadata": {},
   "source": [
    "Let's try decoding something, for practice."
   ]
  },
  {
   "cell_type": "code",
   "execution_count": 51,
   "metadata": {},
   "outputs": [
    {
     "data": {
      "text/plain": [
       "torch.Size([1, 50, 29])"
      ]
     },
     "execution_count": 51,
     "metadata": {},
     "output_type": "execute_result"
    }
   ],
   "source": [
    "log_prob_matrix = dev_log_probs[0]\n",
    "log_prob_matrix.shape\n",
    "# should be BATCHSIZE x N_TIMESTEPS x N_LABELS"
   ]
  },
  {
   "cell_type": "markdown",
   "metadata": {},
   "source": [
    "Here's an acoustic model output matrix below.  "
   ]
  },
  {
   "cell_type": "code",
   "execution_count": 52,
   "metadata": {},
   "outputs": [
    {
     "data": {
      "text/plain": [
       "<matplotlib.image.AxesImage at 0x7fed48272630>"
      ]
     },
     "execution_count": 52,
     "metadata": {},
     "output_type": "execute_result"
    },
    {
     "data": {
      "image/png": "[encoded data removed]",
      "text/plain": [
       "<Figure size 496.552x288 with 1 Axes>"
      ]
     },
     "metadata": {
      "needs_background": "light"
     },
     "output_type": "display_data"
    }
   ],
   "source": [
    "plt.matshow(log_prob_matrix[0].T)"
   ]
  },
  {
   "cell_type": "markdown",
   "metadata": {},
   "source": [
    "It looks like silence predominates except for a few frames around the 20 frame mark.  What does it say?  We can get an idea by greedily decoding it ourselves."
   ]
  },
  {
   "cell_type": "code",
   "execution_count": 53,
   "metadata": {},
   "outputs": [],
   "source": [
    "def get_greedy_path(log_prob_matrix: torch.tensor) -> str:\n",
    "    \"\"\"Return the maximum likelihood path through log_prob_matrix.\"\"\"\n",
    "    assert len(log_prob_matrix.shape) == 3\n",
    "    assert log_prob_matrix.shape[0] == 1\n",
    "    matrix = log_prob_matrix[0]\n",
    "    max_likelihood_characters = [vocab[i] for i in np.argmax(matrix, axis=1)]\n",
    "    return \"\".join(max_likelihood_characters)"
   ]
  },
  {
   "cell_type": "code",
   "execution_count": 54,
   "metadata": {},
   "outputs": [
    {
     "data": {
      "text/plain": [
       "'________________________________rri_ght___________'"
      ]
     },
     "execution_count": 54,
     "metadata": {},
     "output_type": "execute_result"
    }
   ],
   "source": [
    "get_greedy_path(log_prob_matrix)"
   ]
  },
  {
   "cell_type": "markdown",
   "metadata": {},
   "source": [
    "We can then squash the path in order to obtain a label:"
   ]
  },
  {
   "cell_type": "code",
   "execution_count": 55,
   "metadata": {},
   "outputs": [
    {
     "data": {
      "text/plain": [
       "'right'"
      ]
     },
     "execution_count": 55,
     "metadata": {},
     "output_type": "execute_result"
    }
   ],
   "source": [
    "squash(get_greedy_path(log_prob_matrix))"
   ]
  },
  {
   "cell_type": "code",
   "execution_count": 56,
   "metadata": {},
   "outputs": [
    {
     "data": {
      "text/html": [
       "\n",
       "                <audio  controls=\"controls\" autoplay=\"autoplay\">\n",
       "                    <source src=\"data:audio/x-wav;base64,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\" type=\"audio/x-wav\" />\n",
       "                    Your browser does not support the audio element.\n",
       "                </audio>\n",
       "              "
      ],
      "text/plain": [
       "<IPython.lib.display.Audio object>"
      ]
     },
     "execution_count": 56,
     "metadata": {},
     "output_type": "execute_result"
    }
   ],
   "source": [
    "Audio(dev_filenames[0], autoplay=True)"
   ]
  },
  {
   "cell_type": "markdown",
   "metadata": {},
   "source": [
    "So that checks out.  Now let's see if we can decode the matrix with a proper beam search."
   ]
  },
  {
   "cell_type": "markdown",
   "metadata": {},
   "source": [
    "## Beam Search Decoding"
   ]
  },
  {
   "cell_type": "code",
   "execution_count": 5,
   "metadata": {},
   "outputs": [],
   "source": [
    "from ctcdecode import CTCBeamDecoder"
   ]
  },
  {
   "cell_type": "markdown",
   "metadata": {},
   "source": [
    "We construct a CTC beam search decoder, telling the constructor to expect each cell of the matrix to represent the log probability of each character at each frame, and letting it know which character of the alphabet represents the blank character."
   ]
  },
  {
   "cell_type": "code",
   "execution_count": 58,
   "metadata": {},
   "outputs": [],
   "source": [
    "decoder = CTCBeamDecoder(vocab,  log_probs_input=True, blank_id=len(vocab)-1)"
   ]
  },
  {
   "cell_type": "code",
   "execution_count": 21,
   "metadata": {},
   "outputs": [],
   "source": [
    "def path_from_beam(beam: torch.tensor) -> str:\n",
    "    \"\"\"Read out a beam as a string.\"\"\"\n",
    "    return \"\".join([vocab[int(i)] for i in beam.detach().numpy()])"
   ]
  },
  {
   "cell_type": "code",
   "execution_count": 60,
   "metadata": {},
   "outputs": [],
   "source": [
    "def decode_with_beam_search(log_probs):\n",
    "    \"\"\"Decode log probs with beam search.\"\"\"\n",
    "    beam_results, beam_scores, timesteps, out_lens = decoder.decode(log_probs)\n",
    "    #  as an implementation detail, the data in each beam_result is only guaranteed\n",
    "    # to be valid up to the corresponding out_len, and may contain unitialized garbage\n",
    "    # memory thereafter.  Don't worry about this!\n",
    "    best_beam = beam_results[0][0][:out_lens[0][0]]\n",
    "    decoding = path_from_beam(best_beam)\n",
    "    return decoding"
   ]
  },
  {
   "cell_type": "markdown",
   "metadata": {},
   "source": [
    "Let's pick a random matrix and decode it with beam search:"
   ]
  },
  {
   "cell_type": "code",
   "execution_count": 62,
   "metadata": {},
   "outputs": [],
   "source": [
    "random.seed(\"MIT\")\n",
    "i = random.randrange(len(dev_log_probs))\n",
    "log_probs = dev_log_probs[i]\n",
    "label = dev_labels.iloc[i]\n",
    "beam_results, beam_scores, timesteps, out_lens = decoder.decode(log_probs)\n",
    "num_beams = beam_results.shape[1]\n",
    "beams = [beam_results[0][i][:out_lens[0][i]] for i in range(num_beams)]\n",
    "decodings = [path_from_beam(beam) for beam in beams]"
   ]
  },
  {
   "cell_type": "markdown",
   "metadata": {},
   "source": [
    "And look at the top twenty possible decodings:"
   ]
  },
  {
   "cell_type": "code",
   "execution_count": 63,
   "metadata": {},
   "outputs": [
    {
     "data": {
      "text/plain": [
       "['yes',\n",
       " 'yas',\n",
       " 'ye s',\n",
       " 'yesh',\n",
       " 'yea',\n",
       " 'yess',\n",
       " 'yee',\n",
       " 'yes ',\n",
       " 'yese',\n",
       " 'yeas',\n",
       " 'ye',\n",
       " 'yus',\n",
       " 'yest',\n",
       " \"yes'\",\n",
       " 'yis',\n",
       " 'ys',\n",
       " \"ye's\",\n",
       " 'yees',\n",
       " 'yet',\n",
       " 'yaes']"
      ]
     },
     "execution_count": 63,
     "metadata": {},
     "output_type": "execute_result"
    }
   ],
   "source": [
    "decodings[:20]"
   ]
  },
  {
   "cell_type": "markdown",
   "metadata": {},
   "source": [
    "Comparing this to the true label:"
   ]
  },
  {
   "cell_type": "code",
   "execution_count": 64,
   "metadata": {},
   "outputs": [
    {
     "data": {
      "text/plain": [
       "'yes'"
      ]
     },
     "execution_count": 64,
     "metadata": {},
     "output_type": "execute_result"
    }
   ],
   "source": [
    "dev_labels.iloc[i]"
   ]
  },
  {
   "cell_type": "markdown",
   "metadata": {},
   "source": [
    "We find... maybe some kind of spiritual similarity.  The model is pretty sure it heard an `s`?\n",
    "\n",
    "This was a tough one.  Let's check the audio:"
   ]
  },
  {
   "cell_type": "code",
   "execution_count": 65,
   "metadata": {},
   "outputs": [
    {
     "data": {
      "text/html": [
       "\n",
       "                <audio  controls=\"controls\" autoplay=\"autoplay\">\n",
       "                    <source src=\"data:audio/x-wav;base64,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\" type=\"audio/x-wav\" />\n",
       "                    Your browser does not support the audio element.\n",
       "                </audio>\n",
       "              "
      ],
      "text/plain": [
       "<IPython.lib.display.Audio object>"
      ]
     },
     "execution_count": 65,
     "metadata": {},
     "output_type": "execute_result"
    }
   ],
   "source": [
    "Audio(dev_filenames[i], autoplay=True)"
   ]
  },
  {
   "cell_type": "markdown",
   "metadata": {},
   "source": [
    "Now let's decode the whole dev set."
   ]
  },
  {
   "cell_type": "code",
   "execution_count": 67,
   "metadata": {},
   "outputs": [
    {
     "name": "stderr",
     "output_type": "stream",
     "text": [
      "100%|██████████| 6389/6389 [02:40<00:00, 39.78it/s]"
     ]
    },
    {
     "name": "stdout",
     "output_type": "stream",
     "text": [
      "CPU times: user 2min 38s, sys: 2.5 s, total: 2min 41s\n",
      "Wall time: 2min 40s\n"
     ]
    },
    {
     "name": "stderr",
     "output_type": "stream",
     "text": [
      "\n"
     ]
    }
   ],
   "source": [
    "%time beam_search_decodings = [decode_with_beam_search(val_matrix) for val_matrix in tqdm(dev_log_probs)]"
   ]
  },
  {
   "cell_type": "code",
   "execution_count": 68,
   "metadata": {},
   "outputs": [
    {
     "name": "stdout",
     "output_type": "stream",
     "text": [
      "accuracy: 0.692\n",
      "cer: 0.170\n"
     ]
    }
   ],
   "source": [
    "evaluate_metrics(beam_search_decodings, dev_labels)"
   ]
  },
  {
   "cell_type": "code",
   "execution_count": 69,
   "metadata": {},
   "outputs": [
    {
     "name": "stdout",
     "output_type": "stream",
     "text": [
      "accuracy: 0.815\n",
      "cer: 0.141\n"
     ]
    }
   ],
   "source": [
    "fixed_up_beam_search_decodings = [postprocess_transcription(bsd) for bsd in beam_search_decodings]\n",
    "evaluate_metrics(fixed_up_beam_search_decodings, dev_labels)"
   ]
  },
  {
   "cell_type": "markdown",
   "metadata": {},
   "source": [
    "How do these results look, compared to the last model?"
   ]
  },
  {
   "cell_type": "markdown",
   "metadata": {},
   "source": [
    "They look pretty similar, as though beam search didn't help us much."
   ]
  },
  {
   "cell_type": "markdown",
   "metadata": {},
   "source": [
    "Let's see if we can apply another trick to improve our performance.  Beam search gives us many alternate decodings, but we're currently only using the most probable decoding.  Could we improve our estimates by taking some sort of majority vote over the top k beams?"
   ]
  },
  {
   "cell_type": "code",
   "execution_count": 35,
   "metadata": {},
   "outputs": [],
   "source": [
    "def majority_vote(xs):\n",
    "    \"\"\"Return the most frequent element of xs.\"\"\"\n",
    "    if not xs:\n",
    "        return None\n",
    "    else:\n",
    "        kv = Counter(xs).most_common(1)[0]\n",
    "        k, v= kv\n",
    "        return k"
   ]
  },
  {
   "cell_type": "code",
   "execution_count": 71,
   "metadata": {},
   "outputs": [],
   "source": [
    "assert majority_vote([]) is None\n",
    "assert majority_vote([1, 1, 2, 3]) == 1\n",
    "assert majority_vote([1, 1, 2, 2, 3]) in [1, 2]"
   ]
  },
  {
   "cell_type": "code",
   "execution_count": 72,
   "metadata": {},
   "outputs": [],
   "source": [
    "def majority_decoding_with_beam_search(log_probs, num_voting_beams=5):\n",
    "    beam_results, beam_scores, timesteps, out_lens = decoder.decode(log_probs)\n",
    "    num_beams = beam_results.shape[1]\n",
    "    beams = [beam_results[0][i][:out_lens[0][i]] for i in range(num_beams)]\n",
    "    decodings = [path_from_beam(beam) for beam in beams]\n",
    "    fixed_up_decodings = [postprocess_transcription(decoding) for decoding in decodings]\n",
    "    voting_beams = fixed_up_decodings[:num_voting_beams]\n",
    "    majority_decoding = majority_vote(voting_beams)\n",
    "    return majority_decoding"
   ]
  },
  {
   "cell_type": "code",
   "execution_count": 73,
   "metadata": {},
   "outputs": [
    {
     "name": "stderr",
     "output_type": "stream",
     "text": [
      "100%|██████████| 6389/6389 [02:53<00:00, 36.84it/s]"
     ]
    },
    {
     "name": "stdout",
     "output_type": "stream",
     "text": [
      "CPU times: user 2min 51s, sys: 3.11 s, total: 2min 55s\n",
      "Wall time: 2min 53s\n"
     ]
    },
    {
     "name": "stderr",
     "output_type": "stream",
     "text": [
      "\n"
     ]
    }
   ],
   "source": [
    "%time majority_beam_search_decodings = [majority_decoding_with_beam_search(val_matrix) for val_matrix in tqdm(dev_log_probs)]"
   ]
  },
  {
   "cell_type": "code",
   "execution_count": 75,
   "metadata": {},
   "outputs": [
    {
     "data": {
      "text/plain": [
       "0.8250117389262795"
      ]
     },
     "execution_count": 75,
     "metadata": {},
     "output_type": "execute_result"
    }
   ],
   "source": [
    "eval_decodings(majority_beam_search_decodings, dev_labels)"
   ]
  },
  {
   "cell_type": "markdown",
   "metadata": {},
   "source": [
    "How does the majority vote model compare to the last?"
   ]
  },
  {
   "cell_type": "markdown",
   "metadata": {},
   "source": [
    "They're not much different.  If anything, the majority vote beam search model is worse than the fixed-up beam search model."
   ]
  },
  {
   "cell_type": "markdown",
   "metadata": {},
   "source": [
    "Let's look at some classification mistakes for inspiration:"
   ]
  },
  {
   "cell_type": "code",
   "execution_count": 77,
   "metadata": {},
   "outputs": [
    {
     "data": {
      "text/plain": [
       "[('sheila', 'wow'),\n",
       " ('one', 'on'),\n",
       " ('sheila', 'zero'),\n",
       " ('up', 'bed'),\n",
       " ('five', 'right'),\n",
       " ('tree', 'three'),\n",
       " ('cat', 'on'),\n",
       " ('sheila', 'wow'),\n",
       " ('right', 'on'),\n",
       " ('go', 'off')]"
      ]
     },
     "execution_count": 77,
     "metadata": {},
     "output_type": "execute_result"
    }
   ],
   "source": [
    "mistakes = [(d, l )for (d, l) in zip(majority_beam_search_decodings, dev_labels) if d != l]\n",
    "[random.choice(mistakes) for _ in range(10)]"
   ]
  },
  {
   "cell_type": "markdown",
   "metadata": {},
   "source": [
    "No clear pattern jumps out at me, what do you think?"
   ]
  },
  {
   "cell_type": "markdown",
   "metadata": {},
   "source": [
    "Let's now add a language model to our decoder.  As you might recall from the lecture, a language model is just a way of assigning probabilities to sequences of words.  In decoding one usually uses a simple n-gram model, which is simple but fast.  In practice, everyone uses a program called lkenlm.\n",
    "\n",
    "To install kenlm, run the following commands:"
   ]
  },
  {
   "cell_type": "code",
   "execution_count": 78,
   "metadata": {},
   "outputs": [
    {
     "name": "stdout",
     "output_type": "stream",
     "text": [
      "Cloning into 'kenlm'...\n",
      "remote: Enumerating objects: 90, done.\u001b[K\n",
      "remote: Counting objects: 100% (90/90), done.\u001b[K\n",
      "remote: Compressing objects: 100% (64/64), done.\u001b[K\n",
      "remote: Total 13672 (delta 41), reused 54 (delta 21), pack-reused 13582\u001b[K\n",
      "Receiving objects: 100% (13672/13672), 5.53 MiB | 10.00 MiB/s, done.\n",
      "Resolving deltas: 100% (7847/7847), done.\n",
      "CMake Error: The source directory \"/Users/Yx-Z/Desktop\" does not appear to contain CMakeLists.txt.\n",
      "Specify --help for usage, or press the help button on the CMake GUI.\n",
      "make: *** No targets specified and no makefile found.  Stop.\n"
     ]
    }
   ],
   "source": [
    "! git clone https://github.com/kpu/kenlm.git\n",
    "! cd kenlm\n",
    "! mkdir -p build\n",
    "! cmake ..\n",
    "! make -j 4"
   ]
  },
  {
   "cell_type": "markdown",
   "metadata": {},
   "source": [
    "(You might have trouble running these commands from an IPython notebook.  In that case, try switching to a terminal.  Consult this page if you get really stuck: https://github.com/kpu/kenlm)"
   ]
  },
  {
   "cell_type": "markdown",
   "metadata": {},
   "source": [
    "Next we need to build a language model.  Create a text file containing the labels, one label per line, and call it labels.txt.  Place it in the `build` directory.  Then run the command:\n",
    "\n",
    "`! bin/lmplz -o 2 --discount_fallback <labels.txt >lm.arpa`\n",
    "\n",
    "This builds a bigram model from `labels.txt` and stores it in `lm.arpa`.  (The flag `--discount-fallback` is required to silence warnings about creating a language model from small / synthetic data, which of course we are.)"
   ]
  },
  {
   "cell_type": "markdown",
   "metadata": {},
   "source": [
    "We can now build another decoder that has access to the language model.  The parameter `alpha` controls how much influence the language model has."
   ]
  },
  {
   "cell_type": "code",
   "execution_count": 6,
   "metadata": {},
   "outputs": [],
   "source": [
    "lm_decoder = CTCBeamDecoder(vocab,  log_probs_input=True, blank_id=len(vocab)-1, model_path='kenlm/build/lm.arpa', alpha=1, beam_width=100)"
   ]
  },
  {
   "cell_type": "code",
   "execution_count": 7,
   "metadata": {},
   "outputs": [],
   "source": [
    "def decode_with_decoder(decoder, log_probs):\n",
    "    \"\"\"Decode log probs with beam search.\"\"\"\n",
    "    beam_results, beam_scores, timesteps, out_lens = lm_decoder.decode(log_probs)\n",
    "    #  as an implementation detail, the data in each beam_result is only guaranteed\n",
    "    # to be valid up to the corresponding out_len, and may contain unitialized garbage\n",
    "    # memory thereafter.  Don't worry about this!\n",
    "    best_beam = beam_results[0][0][:out_lens[0][0]]\n",
    "    decoding = path_from_beam(best_beam)\n",
    "    return decoding"
   ]
  },
  {
   "cell_type": "code",
   "execution_count": 22,
   "metadata": {},
   "outputs": [
    {
     "name": "stdout",
     "output_type": "stream",
     "text": [
      "CPU times: user 20.8 s, sys: 1.69 s, total: 22.5 s\n",
      "Wall time: 21.4 s\n"
     ]
    }
   ],
   "source": [
    "%time lm_decodings = [decode_with_decoder(lm_decoder, log_probs) for log_probs in dev_log_probs]"
   ]
  },
  {
   "cell_type": "code",
   "execution_count": 27,
   "metadata": {},
   "outputs": [
    {
     "name": "stdout",
     "output_type": "stream",
     "text": [
      "accuracy: 0.816\n",
      "cer: 0.118\n"
     ]
    }
   ],
   "source": [
    "evaluate_metrics(lm_decodings, dev_labels)"
   ]
  },
  {
   "cell_type": "code",
   "execution_count": 30,
   "metadata": {},
   "outputs": [
    {
     "name": "stdout",
     "output_type": "stream",
     "text": [
      "accuracy: 0.856\n",
      "cer: 0.108\n"
     ]
    }
   ],
   "source": [
    "fixed_up_lm_decodings = [postprocess_transcription(decoding) for decoding in lm_decodings]\n",
    "evaluate_metrics(fixed_up_lm_decodings, dev_labels)"
   ]
  },
  {
   "cell_type": "markdown",
   "metadata": {},
   "source": [
    "Again, let's examine the mistakes for inspiration:"
   ]
  },
  {
   "cell_type": "code",
   "execution_count": 32,
   "metadata": {},
   "outputs": [
    {
     "data": {
      "text/plain": [
       "[('e', 'up'),\n",
       " ('th', 'off'),\n",
       " ('', 'up'),\n",
       " ('go', 'two'),\n",
       " ('zer', 'four'),\n",
       " ('tre', 'three'),\n",
       " ('h', 'up'),\n",
       " ('o', 'off'),\n",
       " ('ni', 'six'),\n",
       " ('e', 'eight'),\n",
       " ('be', 'four'),\n",
       " ('e', 'three'),\n",
       " ('ho', 'off'),\n",
       " ('mar', 'bird'),\n",
       " ('h', 'up'),\n",
       " ('ei', 'bird'),\n",
       " ('three', 'tree'),\n",
       " ('h', 'off'),\n",
       " ('no', 'bird'),\n",
       " ('h', 'up')]"
      ]
     },
     "execution_count": 32,
     "metadata": {},
     "output_type": "execute_result"
    }
   ],
   "source": [
    "mistakes = [(decoding, label) for (decoding, label) in zip(lm_decodings, dev_labels) if postprocess_transcription(decoding) != label]\n",
    "[random.choice(mistakes) for _ in range(20)]"
   ]
  },
  {
   "cell_type": "markdown",
   "metadata": {},
   "source": [
    "Let's finally throw all of the ideas we've seen so far into one model and see what happens.  In this model we can also filter the candidate voting beams in order to exclude transcriptions that are unlikely to map reliably to a label."
   ]
  },
  {
   "cell_type": "code",
   "execution_count": 33,
   "metadata": {},
   "outputs": [],
   "source": [
    "MIN_LABEL_LENGTH = min(map(len, LABELS))\n",
    "\n",
    "def is_passable_label(label: str) -> bool:\n",
    "    \"\"\"Indicate whether label is at least MIN_LABEL_LENGTH and contains exactly one word.\"\"\"\n",
    "    return len(label) >= MIN_LABEL_LENGTH and len(label.split()) == 1\n",
    "\n",
    "def majority_decoding_with_beam_search_lm(log_probs, num_voting_beams=5, min_length=MIN_LABEL_LENGTH):\n",
    "    beam_results, beam_scores, timesteps, out_lens =  lm_decoder.decode(log_probs)\n",
    "    num_beams = beam_results.shape[1]\n",
    "    beams = [beam_results[0][i][:out_lens[0][i]] for i in range(num_beams)]\n",
    "    all_decodings = [path_from_beam(beam) for beam in beams]\n",
    "    decodings = [decoding for decoding in all_decodings if is_passable_label(decoding)]\n",
    "    fixed_up_decodings = [postprocess_transcription(decoding) for decoding in decodings]\n",
    "    voting_beams = fixed_up_decodings[:num_voting_beams]\n",
    "    majority_decoding = majority_vote(voting_beams) if voting_beams else \"\"\n",
    "    return majority_decoding"
   ]
  },
  {
   "cell_type": "code",
   "execution_count": 37,
   "metadata": {},
   "outputs": [
    {
     "name": "stdout",
     "output_type": "stream",
     "text": [
      "CPU times: user 34.8 s, sys: 1.79 s, total: 36.6 s\n",
      "Wall time: 35.4 s\n"
     ]
    }
   ],
   "source": [
    "from collections import Counter\n",
    "%time majority_vote_lm_decodings = [majority_decoding_with_beam_search_lm(log_probs) for log_probs in dev_log_probs]"
   ]
  },
  {
   "cell_type": "code",
   "execution_count": 39,
   "metadata": {},
   "outputs": [
    {
     "name": "stdout",
     "output_type": "stream",
     "text": [
      "accuracy: 0.868\n",
      "cer: 0.094\n"
     ]
    }
   ],
   "source": [
    "evaluate_metrics(majority_vote_lm_decodings, dev_labels)"
   ]
  },
  {
   "cell_type": "markdown",
   "metadata": {},
   "source": [
    "Q: Which model did best?"
   ]
  },
  {
   "cell_type": "markdown",
   "metadata": {},
   "source": [
    "# your answer here\n",
    "* the last one did best because we combined all technics into this method"
   ]
  },
  {
   "cell_type": "markdown",
   "metadata": {},
   "source": [
    "# Evaluating on Test Set"
   ]
  },
  {
   "cell_type": "code",
   "execution_count": 40,
   "metadata": {},
   "outputs": [],
   "source": [
    "test_filenames = [os.path.join(\"test\", filename) for filename in df.filename[df.split=='test']]\n",
    "test_labels = df.label[df.split=='test']"
   ]
  },
  {
   "cell_type": "code",
   "execution_count": 41,
   "metadata": {},
   "outputs": [
    {
     "name": "stdout",
     "output_type": "stream",
     "text": [
      "[NeMo I 2020-11-26 19:34:57 collections:173] Dataset loaded with 6386 files totalling 177388.89 hours\n",
      "[NeMo I 2020-11-26 19:34:57 collections:174] 0 files were filtered totalling 0.00 hours\n"
     ]
    },
    {
     "name": "stderr",
     "output_type": "stream",
     "text": [
      "100%|██████████| 1597/1597 [19:46<00:00,  1.35it/s]"
     ]
    },
    {
     "name": "stdout",
     "output_type": "stream",
     "text": [
      "CPU times: user 19min 41s, sys: 30.7 s, total: 20min 11s\n",
      "Wall time: 19min 46s\n"
     ]
    },
    {
     "name": "stderr",
     "output_type": "stream",
     "text": [
      "\n"
     ]
    }
   ],
   "source": [
    "%time test_log_probs = get_log_probs(quartznet, test_filenames)"
   ]
  },
  {
   "cell_type": "code",
   "execution_count": 42,
   "metadata": {},
   "outputs": [
    {
     "name": "stdout",
     "output_type": "stream",
     "text": [
      "CPU times: user 23.1 s, sys: 1.51 s, total: 24.6 s\n",
      "Wall time: 23.7 s\n"
     ]
    }
   ],
   "source": [
    "%time lm_decodings_test = [decode_with_decoder(lm_decoder, log_probs) for log_probs in test_log_probs]"
   ]
  },
  {
   "cell_type": "code",
   "execution_count": 43,
   "metadata": {},
   "outputs": [
    {
     "name": "stdout",
     "output_type": "stream",
     "text": [
      "accuracy: 0.814\n",
      "cer: 0.119\n"
     ]
    }
   ],
   "source": [
    "evaluate_metrics(lm_decodings_test, test_labels)"
   ]
  },
  {
   "cell_type": "code",
   "execution_count": 44,
   "metadata": {},
   "outputs": [
    {
     "name": "stdout",
     "output_type": "stream",
     "text": [
      "accuracy: 0.855\n",
      "cer: 0.109\n"
     ]
    }
   ],
   "source": [
    "fixed_up_test_labels = [postprocess_transcription(decoding) for decoding in lm_decodings_test]\n",
    "evaluate_metrics(fixed_up_test_labels, test_labels)"
   ]
  },
  {
   "cell_type": "markdown",
   "metadata": {},
   "source": [
    "Q: How does test accuracy compare to dev?"
   ]
  },
  {
   "cell_type": "markdown",
   "metadata": {},
   "source": [
    "# your answer here\n",
    "* the test accuracy improves from around originally 70% to 85.5%"
   ]
  },
  {
   "cell_type": "markdown",
   "metadata": {},
   "source": [
    "# Conclusions"
   ]
  },
  {
   "cell_type": "markdown",
   "metadata": {},
   "source": [
    "In this lab we've built an entire speech2text pipeline for a simple command classification task, briefly touring preprocessing, acoustic models, decoders and language models.  While a full exploration of any these topics would quickly exceed our scope, I hope this lab offers a taste of the possibilities.  With off-the-shelf materials a few lines of code, and very little tuning, we've managed to achieve near human level performance."
   ]
  },
  {
   "cell_type": "markdown",
   "metadata": {},
   "source": [
    "Though we can't do so here, there are many more steps that one would typically take to improve model performance before pushing it to production.\n",
    "\n",
    "One would typically prefer to fine tune the acoustic model on the dataset.  For convenience we have taken pre-trained weights and used them as-is.\n",
    "\n",
    "Data preprocessing often leads to large gains in audio tasks.  Data could be normalized with respect to volume, spectrum or fundamental frequency.  In a command classification task, tricks like looping the audio several times for the acoustic model's benefit would be quite legitimate.\n",
    "\n",
    "Lastly, we have performed practically no tuning of decoder, though that is another likely source of further improvement.\n",
    "\n"
   ]
  },
  {
   "cell_type": "code",
   "execution_count": null,
   "metadata": {},
   "outputs": [],
   "source": []
  },
  {
   "cell_type": "code",
   "execution_count": null,
   "metadata": {},
   "outputs": [],
   "source": []
  },
  {
   "cell_type": "code",
   "execution_count": null,
   "metadata": {},
   "outputs": [],
   "source": []
  },
  {
   "cell_type": "code",
   "execution_count": null,
   "metadata": {},
   "outputs": [],
   "source": []
  },
  {
   "cell_type": "code",
   "execution_count": null,
   "metadata": {},
   "outputs": [],
   "source": []
  },
  {
   "cell_type": "code",
   "execution_count": null,
   "metadata": {},
   "outputs": [],
   "source": []
  },
  {
   "cell_type": "code",
   "execution_count": null,
   "metadata": {},
   "outputs": [],
   "source": []
  },
  {
   "cell_type": "code",
   "execution_count": null,
   "metadata": {},
   "outputs": [],
   "source": []
  }
 ],
 "metadata": {
  "kernelspec": {
   "display_name": "Python 3",
   "language": "python",
   "name": "python3"
  },
  "language_info": {
   "codemirror_mode": {
    "name": "ipython",
    "version": 3
   },
   "file_extension": ".py",
   "mimetype": "text/x-python",
   "name": "python",
   "nbconvert_exporter": "python",
   "pygments_lexer": "ipython3",
   "version": "3.6.5"
  }
 },
 "nbformat": 4,
 "nbformat_minor": 4
}
