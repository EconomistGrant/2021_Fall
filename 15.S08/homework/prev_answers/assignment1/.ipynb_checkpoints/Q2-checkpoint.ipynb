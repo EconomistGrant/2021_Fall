{
 "cells": [
  {
   "cell_type": "markdown",
   "metadata": {},
   "source": [
    "# Homework Problem 0: Making sure you're set up with python\n",
    "### You will need to be able to run all of these cells without error"
   ]
  },
  {
   "cell_type": "code",
   "execution_count": 1,
   "metadata": {},
   "outputs": [
    {
     "name": "stdout",
     "output_type": "stream",
     "text": [
      "Populating the interactive namespace from numpy and matplotlib\n"
     ]
    }
   ],
   "source": [
    "import numpy as np\n",
    "import pandas as pd \n",
    "%pylab inline"
   ]
  },
  {
   "cell_type": "code",
   "execution_count": 2,
   "metadata": {},
   "outputs": [
    {
     "name": "stderr",
     "output_type": "stream",
     "text": [
      "  0%|                                                                                            | 0/3 [00:00<?, ?it/s]"
     ]
    },
    {
     "name": "stdout",
     "output_type": "stream",
     "text": [
      "look at the pretty progress bar\n",
      "look at the pretty progress bar\n",
      "look at the pretty progress bar\n"
     ]
    },
    {
     "name": "stderr",
     "output_type": "stream",
     "text": [
      "100%|███████████████████████████████████████████████████████████████████████████████████| 3/3 [00:00<00:00, 751.80it/s]\n"
     ]
    }
   ],
   "source": [
    "import tqdm\n",
    "\n",
    "\n",
    "for i in tqdm.tqdm(range(3)):\n",
    "    print(\"look at the pretty progress bar\")\n"
   ]
  },
  {
   "cell_type": "code",
   "execution_count": 3,
   "metadata": {},
   "outputs": [
    {
     "data": {
      "text/plain": [
       "array([135, 145, 155])"
      ]
     },
     "execution_count": 3,
     "metadata": {},
     "output_type": "execute_result"
    }
   ],
   "source": [
    "# make sure numpy works\n",
    "arr = np.arange(30).reshape(10, 3)\n",
    "arr.sum(axis=0)"
   ]
  },
  {
   "cell_type": "code",
   "execution_count": 4,
   "metadata": {},
   "outputs": [
    {
     "data": {
      "text/plain": [
       "<matplotlib.axes._subplots.AxesSubplot at 0x15ef2954d88>"
      ]
     },
     "execution_count": 4,
     "metadata": {},
     "output_type": "execute_result"
    },
    {
     "data": {
      "image/png": "[encoded data removed]",
      "text/plain": [
       "<Figure size 432x288 with 1 Axes>"
      ]
     },
     "metadata": {
      "needs_background": "light"
     },
     "output_type": "display_data"
    }
   ],
   "source": [
    "# make sure pandas works\n",
    "pd.Series(range(10), index=list(\"abcdefghij\")).plot()"
   ]
  },
  {
   "cell_type": "code",
   "execution_count": 5,
   "metadata": {},
   "outputs": [
    {
     "data": {
      "text/plain": [
       "array([1., 1., 1., 1., 1., 1., 1., 1., 1., 1.])"
      ]
     },
     "execution_count": 5,
     "metadata": {},
     "output_type": "execute_result"
    }
   ],
   "source": [
    "# make sure scikit learn works\n",
    "from sklearn.preprocessing import normalize\n",
    "\n",
    "arr = np.arange(30).reshape(10, 3)\n",
    "new_arr = normalize(arr)\n",
    "(new_arr * new_arr).sum(axis=1)"
   ]
  },
  {
   "cell_type": "code",
   "execution_count": 6,
   "metadata": {},
   "outputs": [
    {
     "name": "stderr",
     "output_type": "stream",
     "text": [
      "Using TensorFlow backend.\n"
     ]
    }
   ],
   "source": [
    "from keras.utils import to_categorical\n",
    "\n",
    "arr = np.array([[1, 2, 1, 0, 5], [3, 4, 1, 0, 5]])\n",
    "assert to_categorical(arr).shape == (2, 5, 6)"
   ]
  },
  {
   "cell_type": "code",
   "execution_count": 7,
   "metadata": {},
   "outputs": [
    {
     "name": "stdout",
     "output_type": "stream",
     "text": [
      "you have tensorflow version 1.14.0.Your code may not be compatible with everything we do in class\n",
      "[[0.75435245]\n",
      " [0.75435245]\n",
      " [0.75435245]\n",
      " [0.75435245]\n",
      " [0.75435245]\n",
      " [0.75435245]\n",
      " [0.75435245]\n",
      " [0.75435245]\n",
      " [0.75435245]\n",
      " [0.75435245]]\n"
     ]
    }
   ],
   "source": [
    "from keras.layers import Input, Dense\n",
    "from keras.models import Model\n",
    "import keras.backend as K\n",
    "import tensorflow as tf\n",
    "\n",
    "K.clear_session()\n",
    "inpt = Input(shape=(10,))\n",
    "mat = Dense(1, input_shape=(10,))\n",
    "\n",
    "res = mat(K.variable(np.ones((10, 1))))\n",
    "\n",
    "if tf.__version__.startswith(\"1\"):\n",
    "    print(\n",
    "        f\"you have tensorflow version {tf.__version__}.\"\n",
    "        \"Your code may not be compatible with everything we do in class\"\n",
    "    )\n",
    "    result = K.eval(res)\n",
    "else:\n",
    "    result = res.numpy()\n",
    "    assert (result == K.eval(res)).all()\n",
    "\n",
    "print(result)"
   ]
  },
  {
   "cell_type": "code",
   "execution_count": 8,
   "metadata": {},
   "outputs": [
    {
     "name": "stdout",
     "output_type": "stream",
     "text": [
      "Model: \"model_1\"\n",
      "_________________________________________________________________\n",
      "Layer (type)                 Output Shape              Param #   \n",
      "=================================================================\n",
      "input_1 (InputLayer)         (None, 10)                0         \n",
      "_________________________________________________________________\n",
      "dense_1 (Dense)              (None, 1)                 11        \n",
      "=================================================================\n",
      "Total params: 11\n",
      "Trainable params: 11\n",
      "Non-trainable params: 0\n",
      "_________________________________________________________________\n"
     ]
    }
   ],
   "source": [
    "K.clear_session()\n",
    "inpt = Input(shape=(10,))\n",
    "mat = Dense(1, input_shape=(10,))\n",
    "outpt = mat(inpt)\n",
    "\n",
    "model = Model(inpt, outpt)\n",
    "model.compile(\"adam\", loss=\"binary_crossentropy\")\n",
    "assert model.count_params() == 11\n",
    "model.summary()\n"
   ]
  },
  {
   "cell_type": "code",
   "execution_count": null,
   "metadata": {},
   "outputs": [],
   "source": []
  },
  {
   "cell_type": "code",
   "execution_count": null,
   "metadata": {},
   "outputs": [],
   "source": []
  },
  {
   "cell_type": "markdown",
   "metadata": {},
   "source": [
    "# Homework Problem 1: Company Descriptions from Wikipedia\n",
    "Downloading data from the web is a large part of working with text.\n",
    "Importantly, it can be difficult to find the __right__ data. \n",
    "Here, we will download the company descriptions from wikipedia for the current set of S&P500 companies. \n",
    "\n",
    "## The `wikipedia` package\n",
    "You can install it with `pip install wikipedia`\n",
    "\n",
    "We will use `wikipeda.page` to grab data\n",
    "```python\n",
    "import wikipedia\n",
    "\n",
    "page = wikipedia.page(page_url)\n",
    "print(page.content)\n",
    "```"
   ]
  },
  {
   "cell_type": "code",
   "execution_count": 10,
   "metadata": {},
   "outputs": [
    {
     "name": "stdout",
     "output_type": "stream",
     "text": [
      "Populating the interactive namespace from numpy and matplotlib\n"
     ]
    }
   ],
   "source": [
    "import numpy as np\n",
    "import pandas as pd\n",
    "%pylab inline\n",
    "\n",
    "from tqdm import tqdm\n",
    "import wikipedia as wiki"
   ]
  },
  {
   "cell_type": "markdown",
   "metadata": {},
   "source": [
    "## Part 0: get the list of the S&P500 companies\n",
    "### Hint, a `wikipedia` page has a method `html()` which returns the html from the page\n",
    "### pandas has `read_html` https://pandas.pydata.org/pandas-docs/version/0.23.4/generated/pandas.read_html.html"
   ]
  },
  {
   "cell_type": "code",
   "execution_count": 11,
   "metadata": {},
   "outputs": [
    {
     "data": {
      "text/html": [
       "<div>\n",
       "<style scoped>\n",
       "    .dataframe tbody tr th:only-of-type {\n",
       "        vertical-align: middle;\n",
       "    }\n",
       "\n",
       "    .dataframe tbody tr th {\n",
       "        vertical-align: top;\n",
       "    }\n",
       "\n",
       "    .dataframe thead th {\n",
       "        text-align: right;\n",
       "    }\n",
       "</style>\n",
       "<table border=\"1\" class=\"dataframe\">\n",
       "  <thead>\n",
       "    <tr style=\"text-align: right;\">\n",
       "      <th></th>\n",
       "      <th>Symbol</th>\n",
       "      <th>Security</th>\n",
       "      <th>SEC filings</th>\n",
       "      <th>GICS Sector</th>\n",
       "      <th>GICS Sub Industry</th>\n",
       "      <th>Headquarters Location</th>\n",
       "      <th>Date first added</th>\n",
       "      <th>CIK</th>\n",
       "      <th>Founded</th>\n",
       "    </tr>\n",
       "  </thead>\n",
       "  <tbody>\n",
       "    <tr>\n",
       "      <td>0</td>\n",
       "      <td>MMM</td>\n",
       "      <td>3M Company</td>\n",
       "      <td>reports</td>\n",
       "      <td>Industrials</td>\n",
       "      <td>Industrial Conglomerates</td>\n",
       "      <td>St. Paul, Minnesota</td>\n",
       "      <td>1976-08-09</td>\n",
       "      <td>66740</td>\n",
       "      <td>1902</td>\n",
       "    </tr>\n",
       "    <tr>\n",
       "      <td>1</td>\n",
       "      <td>ABT</td>\n",
       "      <td>Abbott Laboratories</td>\n",
       "      <td>reports</td>\n",
       "      <td>Health Care</td>\n",
       "      <td>Health Care Equipment</td>\n",
       "      <td>North Chicago, Illinois</td>\n",
       "      <td>1964-03-31</td>\n",
       "      <td>1800</td>\n",
       "      <td>1888</td>\n",
       "    </tr>\n",
       "    <tr>\n",
       "      <td>2</td>\n",
       "      <td>ABBV</td>\n",
       "      <td>AbbVie Inc.</td>\n",
       "      <td>reports</td>\n",
       "      <td>Health Care</td>\n",
       "      <td>Pharmaceuticals</td>\n",
       "      <td>North Chicago, Illinois</td>\n",
       "      <td>2012-12-31</td>\n",
       "      <td>1551152</td>\n",
       "      <td>2013 (1888)</td>\n",
       "    </tr>\n",
       "    <tr>\n",
       "      <td>3</td>\n",
       "      <td>ABMD</td>\n",
       "      <td>ABIOMED Inc</td>\n",
       "      <td>reports</td>\n",
       "      <td>Health Care</td>\n",
       "      <td>Health Care Equipment</td>\n",
       "      <td>Danvers, Massachusetts</td>\n",
       "      <td>2018-05-31</td>\n",
       "      <td>815094</td>\n",
       "      <td>1981</td>\n",
       "    </tr>\n",
       "    <tr>\n",
       "      <td>4</td>\n",
       "      <td>ACN</td>\n",
       "      <td>Accenture plc</td>\n",
       "      <td>reports</td>\n",
       "      <td>Information Technology</td>\n",
       "      <td>IT Consulting &amp; Other Services</td>\n",
       "      <td>Dublin, Ireland</td>\n",
       "      <td>2011-07-06</td>\n",
       "      <td>1467373</td>\n",
       "      <td>1989</td>\n",
       "    </tr>\n",
       "  </tbody>\n",
       "</table>\n",
       "</div>"
      ],
      "text/plain": [
       "  Symbol             Security SEC filings             GICS Sector  \\\n",
       "0    MMM           3M Company     reports             Industrials   \n",
       "1    ABT  Abbott Laboratories     reports             Health Care   \n",
       "2   ABBV          AbbVie Inc.     reports             Health Care   \n",
       "3   ABMD          ABIOMED Inc     reports             Health Care   \n",
       "4    ACN        Accenture plc     reports  Information Technology   \n",
       "\n",
       "                GICS Sub Industry    Headquarters Location Date first added  \\\n",
       "0        Industrial Conglomerates      St. Paul, Minnesota       1976-08-09   \n",
       "1           Health Care Equipment  North Chicago, Illinois       1964-03-31   \n",
       "2                 Pharmaceuticals  North Chicago, Illinois       2012-12-31   \n",
       "3           Health Care Equipment   Danvers, Massachusetts       2018-05-31   \n",
       "4  IT Consulting & Other Services          Dublin, Ireland       2011-07-06   \n",
       "\n",
       "       CIK      Founded  \n",
       "0    66740         1902  \n",
       "1     1800         1888  \n",
       "2  1551152  2013 (1888)  \n",
       "3   815094         1981  \n",
       "4  1467373         1989  "
      ]
     },
     "execution_count": 11,
     "metadata": {},
     "output_type": "execute_result"
    }
   ],
   "source": [
    "sp500_url = 'List_of_S%26P_500_companies'\n",
    "data1 = pd.read_html(wiki.page(sp500_url).html())\n",
    "df1 = data1[0]\n",
    "df1.head()"
   ]
  },
  {
   "cell_type": "code",
   "execution_count": 12,
   "metadata": {},
   "outputs": [
    {
     "data": {
      "text/plain": [
       "['3M Company',\n",
       " 'Abbott Laboratories',\n",
       " 'AbbVie Inc.',\n",
       " 'ABIOMED Inc',\n",
       " 'Accenture plc',\n",
       " 'Activision Blizzard',\n",
       " 'Adobe Inc.',\n",
       " 'Advanced Micro Devices Inc',\n",
       " 'Advance Auto Parts',\n",
       " 'AES Corp']"
      ]
     },
     "execution_count": 12,
     "metadata": {},
     "output_type": "execute_result"
    }
   ],
   "source": [
    "com_list = df1[\"Security\"].tolist()\n",
    "com_list[:10]"
   ]
  },
  {
   "cell_type": "markdown",
   "metadata": {},
   "source": [
    "## Part 2: For every S&P500 company, get the page content"
   ]
  },
  {
   "cell_type": "code",
   "execution_count": 14,
   "metadata": {},
   "outputs": [
    {
     "data": {
      "text/plain": [
       "100"
      ]
     },
     "execution_count": 14,
     "metadata": {},
     "output_type": "execute_result"
    }
   ],
   "source": [
    "import json\n",
    "# your code here. We suggest that you save your results\n",
    "# to a json file so that you don't need to re-scrape\n",
    "n = 100\n",
    "page_cont = []\n",
    "for company in com_list[:n]:\n",
    "    page_cont.append(wiki.page(company).content)\n",
    "len(page_cont)"
   ]
  },
  {
   "cell_type": "code",
   "execution_count": 16,
   "metadata": {},
   "outputs": [
    {
     "name": "stdout",
     "output_type": "stream",
     "text": [
      "found 100 results\n"
     ]
    }
   ],
   "source": [
    "results = dict(zip(com_list[:n],page_cont))\n",
    "with open(\"results.json\", \"w\") as outfile:\n",
    "    json.dump(results, outfile)\n",
    "print(\"found {} results\".format(len(results)))"
   ]
  },
  {
   "cell_type": "markdown",
   "metadata": {},
   "source": [
    "## Part 3: Content length\n",
    " - For every page, compute the length of the text (how many characters)\n",
    " - What is the mean length(number of characters) for each gics sector. "
   ]
  },
  {
   "cell_type": "code",
   "execution_count": 18,
   "metadata": {},
   "outputs": [
    {
     "data": {
      "text/plain": [
       "[17739, 15689, 6967, 5937, 13044, 19006, 20899, 54344, 11433, 13388]"
      ]
     },
     "execution_count": 18,
     "metadata": {},
     "output_type": "execute_result"
    }
   ],
   "source": [
    "leng = []\n",
    "for i in range(n):\n",
    "    leng.append(len(page_cont[i]))\n",
    "leng[:10]"
   ]
  },
  {
   "cell_type": "code",
   "execution_count": 19,
   "metadata": {},
   "outputs": [
    {
     "name": "stdout",
     "output_type": "stream",
     "text": [
      "['Communication Services', 'Consumer Discretionary', 'Consumer Staples', 'Energy', 'Financials', 'Health Care', 'Industrials', 'Information Technology', 'Materials', 'Real Estate', 'Utilities']\n",
      "11\n"
     ]
    }
   ],
   "source": [
    "sector_unsorted = df1['GICS Sector'].tolist()\n",
    "sector = sorted(set(sector_unsorted))\n",
    "m = len(sector)\n",
    "print(sector)\n",
    "print(m)"
   ]
  },
  {
   "cell_type": "code",
   "execution_count": 20,
   "metadata": {},
   "outputs": [
    {
     "name": "stdout",
     "output_type": "stream",
     "text": [
      "[94413, 145079, 45182, 30539, 319240, 182775, 105553, 329156, 56622, 13704, 58524]\n",
      "[5, 9, 4, 3, 15, 18, 10, 16, 7, 6, 7]\n"
     ]
    }
   ],
   "source": [
    "count = [0] * m\n",
    "num_com = [0] * m\n",
    "for i in range(n):\n",
    "    for j in range(m):\n",
    "        if sector_unsorted[i] == sector[j]:\n",
    "            count[j] += leng[i]\n",
    "            num_com[j] += 1\n",
    "print(count)\n",
    "print(num_com)"
   ]
  },
  {
   "cell_type": "code",
   "execution_count": 21,
   "metadata": {},
   "outputs": [
    {
     "name": "stdout",
     "output_type": "stream",
     "text": [
      "[18882.6, 16119.888888888889, 11295.5, 10179.666666666666, 21282.666666666668, 10154.166666666666, 10555.3, 20572.25, 8088.857142857143, 2284.0, 8360.57142857143]\n"
     ]
    }
   ],
   "source": [
    "average = [0] * m\n",
    "for i in range(m):\n",
    "    if num_com[i] == 0:\n",
    "        average[i] = 0\n",
    "    else:\n",
    "        average[i] = count[i] / num_com[i]\n",
    "print(average)"
   ]
  },
  {
   "cell_type": "code",
   "execution_count": 22,
   "metadata": {},
   "outputs": [
    {
     "data": {
      "text/plain": [
       "{'Communication Services': 18882.6,\n",
       " 'Consumer Discretionary': 16119.888888888889,\n",
       " 'Consumer Staples': 11295.5,\n",
       " 'Energy': 10179.666666666666,\n",
       " 'Financials': 21282.666666666668,\n",
       " 'Health Care': 10154.166666666666,\n",
       " 'Industrials': 10555.3,\n",
       " 'Information Technology': 20572.25,\n",
       " 'Materials': 8088.857142857143,\n",
       " 'Real Estate': 2284.0,\n",
       " 'Utilities': 8360.57142857143}"
      ]
     },
     "execution_count": 22,
     "metadata": {},
     "output_type": "execute_result"
    }
   ],
   "source": [
    "leng_sector = dict(zip(sector, average))\n",
    "leng_sector"
   ]
  },
  {
   "cell_type": "markdown",
   "metadata": {},
   "source": [
    "## Part 4: Count how many times `computer` appears in the content for each company\n",
    " - what is the mean number of times it occurs in each sector?\n",
    " - Do these results make sense"
   ]
  },
  {
   "cell_type": "code",
   "execution_count": 23,
   "metadata": {},
   "outputs": [
    {
     "name": "stdout",
     "output_type": "stream",
     "text": [
      "[0, 0, 0, 0, 4, 0, 5, 11, 0, 0, 0, 0, 0, 1, 0, 0, 0, 0, 0, 0, 0, 0, 0, 0, 0, 6, 0, 0, 0, 1, 0, 0, 0, 0, 0, 0, 0, 0, 1, 1, 2, 0, 0, 0, 0, 0, 41, 2, 0, 0, 1, 0, 0, 0, 0, 6, 2, 2, 0, 0, 0, 0, 0, 1, 0, 0, 0, 8, 0, 0, 0, 0, 0, 0, 0, 0, 0, 0, 0, 0, 0, 0, 2, 0, 1, 0, 0, 0, 0, 0, 0, 0, 1, 0, 0, 0, 1, 0, 0, 1]\n"
     ]
    }
   ],
   "source": [
    "word = 'computer'\n",
    "count_word = [0] * n\n",
    "for i in range(n):\n",
    "    count_word[i] = page_cont[i].count(word)\n",
    "print(count_word)"
   ]
  },
  {
   "cell_type": "code",
   "execution_count": 24,
   "metadata": {},
   "outputs": [
    {
     "name": "stdout",
     "output_type": "stream",
     "text": [
      "[1, 16, 0, 0, 2, 1, 0, 80, 0, 0, 1]\n"
     ]
    }
   ],
   "source": [
    "# average\n",
    "word_sec = [0] *m\n",
    "for i in range(n):\n",
    "    for j in range(m):\n",
    "        if sector_unsorted[i] == sector[j]:\n",
    "            word_sec[j] += count_word[i]\n",
    "print(word_sec)"
   ]
  },
  {
   "cell_type": "code",
   "execution_count": 25,
   "metadata": {},
   "outputs": [
    {
     "name": "stdout",
     "output_type": "stream",
     "text": [
      "[0.2, 1.7777777777777777, 0.0, 0.0, 0.13333333333333333, 0.05555555555555555, 0.0, 5.0, 0.0, 0.0, 0.14285714285714285]\n"
     ]
    }
   ],
   "source": [
    "avg_word = [0] * m\n",
    "for i in range(m):\n",
    "    if num_com[i] == 0:\n",
    "        avg_word[i] = 0\n",
    "    else:\n",
    "        avg_word[i] = word_sec[i] / num_com[i]\n",
    "print(avg_word)"
   ]
  },
  {
   "cell_type": "markdown",
   "metadata": {},
   "source": [
    "## Part 5: repeat part 4 with lots of words\n",
    " - try `['computer', 'oil', 'debt', 'drug', 'building', 'food']`\n",
    " - add your own words"
   ]
  },
  {
   "cell_type": "code",
   "execution_count": 26,
   "metadata": {},
   "outputs": [
    {
     "data": {
      "text/html": [
       "<div>\n",
       "<style scoped>\n",
       "    .dataframe tbody tr th:only-of-type {\n",
       "        vertical-align: middle;\n",
       "    }\n",
       "\n",
       "    .dataframe tbody tr th {\n",
       "        vertical-align: top;\n",
       "    }\n",
       "\n",
       "    .dataframe thead th {\n",
       "        text-align: right;\n",
       "    }\n",
       "</style>\n",
       "<table border=\"1\" class=\"dataframe\">\n",
       "  <thead>\n",
       "    <tr style=\"text-align: right;\">\n",
       "      <th></th>\n",
       "      <th>computer</th>\n",
       "      <th>oil</th>\n",
       "      <th>debt</th>\n",
       "      <th>drug</th>\n",
       "      <th>building</th>\n",
       "      <th>food</th>\n",
       "    </tr>\n",
       "  </thead>\n",
       "  <tbody>\n",
       "    <tr>\n",
       "      <td>Communication Services</td>\n",
       "      <td>0</td>\n",
       "      <td>0</td>\n",
       "      <td>0</td>\n",
       "      <td>0</td>\n",
       "      <td>0</td>\n",
       "      <td>0</td>\n",
       "    </tr>\n",
       "    <tr>\n",
       "      <td>Consumer Discretionary</td>\n",
       "      <td>0</td>\n",
       "      <td>0</td>\n",
       "      <td>0</td>\n",
       "      <td>0</td>\n",
       "      <td>0</td>\n",
       "      <td>0</td>\n",
       "    </tr>\n",
       "    <tr>\n",
       "      <td>Consumer Staples</td>\n",
       "      <td>0</td>\n",
       "      <td>0</td>\n",
       "      <td>0</td>\n",
       "      <td>0</td>\n",
       "      <td>0</td>\n",
       "      <td>0</td>\n",
       "    </tr>\n",
       "    <tr>\n",
       "      <td>Energy</td>\n",
       "      <td>0</td>\n",
       "      <td>0</td>\n",
       "      <td>0</td>\n",
       "      <td>0</td>\n",
       "      <td>0</td>\n",
       "      <td>0</td>\n",
       "    </tr>\n",
       "    <tr>\n",
       "      <td>Financials</td>\n",
       "      <td>0</td>\n",
       "      <td>0</td>\n",
       "      <td>0</td>\n",
       "      <td>0</td>\n",
       "      <td>0</td>\n",
       "      <td>0</td>\n",
       "    </tr>\n",
       "    <tr>\n",
       "      <td>Health Care</td>\n",
       "      <td>0</td>\n",
       "      <td>0</td>\n",
       "      <td>0</td>\n",
       "      <td>0</td>\n",
       "      <td>0</td>\n",
       "      <td>0</td>\n",
       "    </tr>\n",
       "    <tr>\n",
       "      <td>Industrials</td>\n",
       "      <td>0</td>\n",
       "      <td>0</td>\n",
       "      <td>0</td>\n",
       "      <td>0</td>\n",
       "      <td>0</td>\n",
       "      <td>0</td>\n",
       "    </tr>\n",
       "    <tr>\n",
       "      <td>Information Technology</td>\n",
       "      <td>0</td>\n",
       "      <td>0</td>\n",
       "      <td>0</td>\n",
       "      <td>0</td>\n",
       "      <td>0</td>\n",
       "      <td>0</td>\n",
       "    </tr>\n",
       "    <tr>\n",
       "      <td>Materials</td>\n",
       "      <td>0</td>\n",
       "      <td>0</td>\n",
       "      <td>0</td>\n",
       "      <td>0</td>\n",
       "      <td>0</td>\n",
       "      <td>0</td>\n",
       "    </tr>\n",
       "    <tr>\n",
       "      <td>Real Estate</td>\n",
       "      <td>0</td>\n",
       "      <td>0</td>\n",
       "      <td>0</td>\n",
       "      <td>0</td>\n",
       "      <td>0</td>\n",
       "      <td>0</td>\n",
       "    </tr>\n",
       "    <tr>\n",
       "      <td>Utilities</td>\n",
       "      <td>0</td>\n",
       "      <td>0</td>\n",
       "      <td>0</td>\n",
       "      <td>0</td>\n",
       "      <td>0</td>\n",
       "      <td>0</td>\n",
       "    </tr>\n",
       "  </tbody>\n",
       "</table>\n",
       "</div>"
      ],
      "text/plain": [
       "                        computer  oil  debt  drug  building  food\n",
       "Communication Services         0    0     0     0         0     0\n",
       "Consumer Discretionary         0    0     0     0         0     0\n",
       "Consumer Staples               0    0     0     0         0     0\n",
       "Energy                         0    0     0     0         0     0\n",
       "Financials                     0    0     0     0         0     0\n",
       "Health Care                    0    0     0     0         0     0\n",
       "Industrials                    0    0     0     0         0     0\n",
       "Information Technology         0    0     0     0         0     0\n",
       "Materials                      0    0     0     0         0     0\n",
       "Real Estate                    0    0     0     0         0     0\n",
       "Utilities                      0    0     0     0         0     0"
      ]
     },
     "execution_count": 26,
     "metadata": {},
     "output_type": "execute_result"
    }
   ],
   "source": [
    "words = ['computer', 'oil', 'debt', 'drug', 'building', 'food']\n",
    "\n",
    "# one way to do this is to make a dataframe of counts,\n",
    "# initialize all to 0, and then loop through and count the occurences\n",
    "counts = pd.DataFrame(0, index=sector, columns=words)\n",
    "counts"
   ]
  },
  {
   "cell_type": "code",
   "execution_count": 28,
   "metadata": {},
   "outputs": [],
   "source": [
    "w = len(words)\n",
    "count_words = []\n",
    "\n",
    "for j in range(w):\n",
    "    count_oneword = []\n",
    "    for i in range(n):\n",
    "        count_oneword.append(page_cont[i].count(words[j]))\n",
    "    count_words.append(count_oneword)\n"
   ]
  },
  {
   "cell_type": "code",
   "execution_count": 29,
   "metadata": {},
   "outputs": [
    {
     "name": "stdout",
     "output_type": "stream",
     "text": [
      "[[1, 16, 0, 0, 2, 1, 0, 80, 0, 0, 1], [0, 5, 7, 35, 5, 0, 14, 0, 5, 0, 8], [10, 3, 0, 1, 16, 3, 4, 2, 0, 0, 5], [0, 0, 0, 0, 1, 96, 0, 0, 0, 0, 0], [19, 15, 2, 0, 51, 0, 14, 23, 1, 7, 4], [0, 6, 17, 0, 3, 5, 2, 1, 14, 0, 0]]\n"
     ]
    }
   ],
   "source": [
    "#average\n",
    "words_sec = []\n",
    "for x in range(w):\n",
    "    word_sec = [0] * m\n",
    "    for i in range(n):\n",
    "        for j in range(m):\n",
    "            if sector_unsorted[i] == sector[j]:\n",
    "                word_sec[j] += (count_words[x][i])\n",
    "    words_sec.append(word_sec)\n",
    "print(words_sec)"
   ]
  },
  {
   "cell_type": "code",
   "execution_count": 30,
   "metadata": {},
   "outputs": [
    {
     "name": "stdout",
     "output_type": "stream",
     "text": [
      "[[0.2, 1.7777777777777777, 0.0, 0.0, 0.13333333333333333, 0.05555555555555555, 0.0, 5.0, 0.0, 0.0, 0.14285714285714285], [0.0, 0.5555555555555556, 1.75, 11.666666666666666, 0.3333333333333333, 0.0, 1.4, 0.0, 0.7142857142857143, 0.0, 1.1428571428571428], [2.0, 0.3333333333333333, 0.0, 0.3333333333333333, 1.0666666666666667, 0.16666666666666666, 0.4, 0.125, 0.0, 0.0, 0.7142857142857143], [0.0, 0.0, 0.0, 0.0, 0.06666666666666667, 5.333333333333333, 0.0, 0.0, 0.0, 0.0, 0.0], [3.8, 1.6666666666666667, 0.5, 0.0, 3.4, 0.0, 1.4, 1.4375, 0.14285714285714285, 1.1666666666666667, 0.5714285714285714], [0.0, 0.6666666666666666, 4.25, 0.0, 0.2, 0.2777777777777778, 0.2, 0.0625, 2.0, 0.0, 0.0]]\n"
     ]
    }
   ],
   "source": [
    "avg_words = []\n",
    "for x in range(w):\n",
    "    avg_oneword = [0] * m\n",
    "    for i in range(m):\n",
    "        if num_com[i] != 0:\n",
    "            avg_oneword[i] = words_sec[x][i] / num_com[i]\n",
    "    avg_words.append(avg_oneword)\n",
    "print(avg_words)"
   ]
  },
  {
   "cell_type": "code",
   "execution_count": 31,
   "metadata": {},
   "outputs": [
    {
     "data": {
      "text/html": [
       "<div>\n",
       "<style scoped>\n",
       "    .dataframe tbody tr th:only-of-type {\n",
       "        vertical-align: middle;\n",
       "    }\n",
       "\n",
       "    .dataframe tbody tr th {\n",
       "        vertical-align: top;\n",
       "    }\n",
       "\n",
       "    .dataframe thead th {\n",
       "        text-align: right;\n",
       "    }\n",
       "</style>\n",
       "<table border=\"1\" class=\"dataframe\">\n",
       "  <thead>\n",
       "    <tr style=\"text-align: right;\">\n",
       "      <th></th>\n",
       "      <th>computer</th>\n",
       "      <th>oil</th>\n",
       "      <th>debt</th>\n",
       "      <th>drug</th>\n",
       "      <th>building</th>\n",
       "      <th>food</th>\n",
       "    </tr>\n",
       "  </thead>\n",
       "  <tbody>\n",
       "    <tr>\n",
       "      <td>Communication Services</td>\n",
       "      <td>0.200000</td>\n",
       "      <td>0.000000</td>\n",
       "      <td>2.000000</td>\n",
       "      <td>0.000000</td>\n",
       "      <td>3.800000</td>\n",
       "      <td>0.000000</td>\n",
       "    </tr>\n",
       "    <tr>\n",
       "      <td>Consumer Discretionary</td>\n",
       "      <td>1.777778</td>\n",
       "      <td>0.555556</td>\n",
       "      <td>0.333333</td>\n",
       "      <td>0.000000</td>\n",
       "      <td>1.666667</td>\n",
       "      <td>0.666667</td>\n",
       "    </tr>\n",
       "    <tr>\n",
       "      <td>Consumer Staples</td>\n",
       "      <td>0.000000</td>\n",
       "      <td>1.750000</td>\n",
       "      <td>0.000000</td>\n",
       "      <td>0.000000</td>\n",
       "      <td>0.500000</td>\n",
       "      <td>4.250000</td>\n",
       "    </tr>\n",
       "    <tr>\n",
       "      <td>Energy</td>\n",
       "      <td>0.000000</td>\n",
       "      <td>11.666667</td>\n",
       "      <td>0.333333</td>\n",
       "      <td>0.000000</td>\n",
       "      <td>0.000000</td>\n",
       "      <td>0.000000</td>\n",
       "    </tr>\n",
       "    <tr>\n",
       "      <td>Financials</td>\n",
       "      <td>0.133333</td>\n",
       "      <td>0.333333</td>\n",
       "      <td>1.066667</td>\n",
       "      <td>0.066667</td>\n",
       "      <td>3.400000</td>\n",
       "      <td>0.200000</td>\n",
       "    </tr>\n",
       "    <tr>\n",
       "      <td>Health Care</td>\n",
       "      <td>0.055556</td>\n",
       "      <td>0.000000</td>\n",
       "      <td>0.166667</td>\n",
       "      <td>5.333333</td>\n",
       "      <td>0.000000</td>\n",
       "      <td>0.277778</td>\n",
       "    </tr>\n",
       "    <tr>\n",
       "      <td>Industrials</td>\n",
       "      <td>0.000000</td>\n",
       "      <td>1.400000</td>\n",
       "      <td>0.400000</td>\n",
       "      <td>0.000000</td>\n",
       "      <td>1.400000</td>\n",
       "      <td>0.200000</td>\n",
       "    </tr>\n",
       "    <tr>\n",
       "      <td>Information Technology</td>\n",
       "      <td>5.000000</td>\n",
       "      <td>0.000000</td>\n",
       "      <td>0.125000</td>\n",
       "      <td>0.000000</td>\n",
       "      <td>1.437500</td>\n",
       "      <td>0.062500</td>\n",
       "    </tr>\n",
       "    <tr>\n",
       "      <td>Materials</td>\n",
       "      <td>0.000000</td>\n",
       "      <td>0.714286</td>\n",
       "      <td>0.000000</td>\n",
       "      <td>0.000000</td>\n",
       "      <td>0.142857</td>\n",
       "      <td>2.000000</td>\n",
       "    </tr>\n",
       "    <tr>\n",
       "      <td>Real Estate</td>\n",
       "      <td>0.000000</td>\n",
       "      <td>0.000000</td>\n",
       "      <td>0.000000</td>\n",
       "      <td>0.000000</td>\n",
       "      <td>1.166667</td>\n",
       "      <td>0.000000</td>\n",
       "    </tr>\n",
       "    <tr>\n",
       "      <td>Utilities</td>\n",
       "      <td>0.142857</td>\n",
       "      <td>1.142857</td>\n",
       "      <td>0.714286</td>\n",
       "      <td>0.000000</td>\n",
       "      <td>0.571429</td>\n",
       "      <td>0.000000</td>\n",
       "    </tr>\n",
       "  </tbody>\n",
       "</table>\n",
       "</div>"
      ],
      "text/plain": [
       "                        computer        oil      debt      drug  building  \\\n",
       "Communication Services  0.200000   0.000000  2.000000  0.000000  3.800000   \n",
       "Consumer Discretionary  1.777778   0.555556  0.333333  0.000000  1.666667   \n",
       "Consumer Staples        0.000000   1.750000  0.000000  0.000000  0.500000   \n",
       "Energy                  0.000000  11.666667  0.333333  0.000000  0.000000   \n",
       "Financials              0.133333   0.333333  1.066667  0.066667  3.400000   \n",
       "Health Care             0.055556   0.000000  0.166667  5.333333  0.000000   \n",
       "Industrials             0.000000   1.400000  0.400000  0.000000  1.400000   \n",
       "Information Technology  5.000000   0.000000  0.125000  0.000000  1.437500   \n",
       "Materials               0.000000   0.714286  0.000000  0.000000  0.142857   \n",
       "Real Estate             0.000000   0.000000  0.000000  0.000000  1.166667   \n",
       "Utilities               0.142857   1.142857  0.714286  0.000000  0.571429   \n",
       "\n",
       "                            food  \n",
       "Communication Services  0.000000  \n",
       "Consumer Discretionary  0.666667  \n",
       "Consumer Staples        4.250000  \n",
       "Energy                  0.000000  \n",
       "Financials              0.200000  \n",
       "Health Care             0.277778  \n",
       "Industrials             0.200000  \n",
       "Information Technology  0.062500  \n",
       "Materials               2.000000  \n",
       "Real Estate             0.000000  \n",
       "Utilities               0.000000  "
      ]
     },
     "execution_count": 31,
     "metadata": {},
     "output_type": "execute_result"
    }
   ],
   "source": [
    "array_counts = np.array(avg_words)\n",
    "transpose = array_counts.T\n",
    "avg_words_trs = transpose.tolist()\n",
    "counts = pd.DataFrame(avg_words_trs, index=sector, columns=words)\n",
    "counts"
   ]
  },
  {
   "cell_type": "markdown",
   "metadata": {},
   "source": [
    "## Problem 2: Obtain structured company data using Regex (20%)"
   ]
  },
  {
   "cell_type": "code",
   "execution_count": 32,
   "metadata": {},
   "outputs": [
    {
     "name": "stdout",
     "output_type": "stream",
     "text": [
      "Populating the interactive namespace from numpy and matplotlib\n"
     ]
    }
   ],
   "source": [
    "%pylab inline\n",
    "import re\n",
    "import pandas as pd"
   ]
  },
  {
   "cell_type": "code",
   "execution_count": 33,
   "metadata": {},
   "outputs": [
    {
     "data": {
      "text/html": [
       "<div>\n",
       "<style scoped>\n",
       "    .dataframe tbody tr th:only-of-type {\n",
       "        vertical-align: middle;\n",
       "    }\n",
       "\n",
       "    .dataframe tbody tr th {\n",
       "        vertical-align: top;\n",
       "    }\n",
       "\n",
       "    .dataframe thead th {\n",
       "        text-align: right;\n",
       "    }\n",
       "</style>\n",
       "<table border=\"1\" class=\"dataframe\">\n",
       "  <thead>\n",
       "    <tr style=\"text-align: right;\">\n",
       "      <th></th>\n",
       "      <th>page_id</th>\n",
       "      <th>page_title</th>\n",
       "      <th>page_views</th>\n",
       "      <th>intro_text</th>\n",
       "    </tr>\n",
       "  </thead>\n",
       "  <tbody>\n",
       "    <tr>\n",
       "      <td>0</td>\n",
       "      <td>856</td>\n",
       "      <td>Apple Inc.</td>\n",
       "      <td>190485</td>\n",
       "      <td>Apple Inc. is an American multinational techno...</td>\n",
       "    </tr>\n",
       "    <tr>\n",
       "      <td>1</td>\n",
       "      <td>2386</td>\n",
       "      <td>American Airlines</td>\n",
       "      <td>40829</td>\n",
       "      <td>American Airlines, Inc. (AA) is a major Americ...</td>\n",
       "    </tr>\n",
       "  </tbody>\n",
       "</table>\n",
       "</div>"
      ],
      "text/plain": [
       "   page_id         page_title  page_views  \\\n",
       "0      856         Apple Inc.      190485   \n",
       "1     2386  American Airlines       40829   \n",
       "\n",
       "                                          intro_text  \n",
       "0  Apple Inc. is an American multinational techno...  \n",
       "1  American Airlines, Inc. (AA) is a major Americ...  "
      ]
     },
     "execution_count": 33,
     "metadata": {},
     "output_type": "execute_result"
    }
   ],
   "source": [
    "wiki_df = pd.read_csv('kdwd_r1k_articles.csv')\n",
    "wiki_df.head(2)"
   ]
  },
  {
   "cell_type": "markdown",
   "metadata": {},
   "source": [
    "### -) Write a regex to find unusually capitalized terms\n",
    "Sometimes product names will have unusual capitalization such as iPhone or ThinkPad. Find a list of such terms and investigate if you think some of them are products."
   ]
  },
  {
   "cell_type": "code",
   "execution_count": 34,
   "metadata": {},
   "outputs": [
    {
     "name": "stdout",
     "output_type": "stream",
     "text": [
      "267 terms found that are potential products\n"
     ]
    }
   ],
   "source": [
    "maybe_products_ptn = r'\\b[a-zA-z]+[A-Z]+[a-z]+\\b'# find the correct regular expression here\n",
    "\n",
    "# code here!\n",
    "info_list = wiki_df['intro_text'].tolist()\n",
    "maybe_products_set = []\n",
    "for i in range(len(info_list)):\n",
    "    maybe_products_set.extend(re.findall(maybe_products_ptn,info_list[i]))\n",
    "maybe_products_set = sorted(set(maybe_products_set))\n",
    "print(len(maybe_products_set), 'terms found that are potential products')"
   ]
  },
  {
   "cell_type": "code",
   "execution_count": 35,
   "metadata": {},
   "outputs": [
    {
     "name": "stdout",
     "output_type": "stream",
     "text": [
      "After investigation, only around 15 are products\n"
     ]
    }
   ],
   "source": [
    "shouldbe_products_set = [ 'AirPods','AppleCare','BankAmericard', 'EpiPen',  'HomePod', 'ThinkCentre', 'ThinkPad', 'WaterSeal','WoodWick', 'ZonePerfect', 'iLife', 'iMac', 'iPad', 'iPhone', 'iPod']\n",
    "\n",
    "print(\"After investigation, only around \" + str(len(shouldbe_products_set)) +\" are products\")\n"
   ]
  },
  {
   "cell_type": "code",
   "execution_count": 36,
   "metadata": {},
   "outputs": [],
   "source": [
    "# verify that we found some of the key terms\n",
    "assert('iPhone' in maybe_products_set)\n",
    "assert('ThinkPad' in maybe_products_set)"
   ]
  },
  {
   "cell_type": "markdown",
   "metadata": {},
   "source": [
    "### -) Parse company acquisition data from plain text"
   ]
  },
  {
   "cell_type": "markdown",
   "metadata": {},
   "source": [
    "We are looking to identify the following types of patterns.<br />\n",
    "`'Citrix acquired Sequoia Software Corp'`<br />\n",
    "`'Moody\\'s was acquired by Dun & Bradstreet in 1962.'`<br />\n",
    "The idea here is to look for patterns around the word 'acquire' with two valid entities on either side, and an option year at the end.<br />\n",
    "<span style=\"color:orange\">Helpful Reminder:</span> you can create non-capturing capture groups via `(?:capture this|or that)`"
   ]
  },
  {
   "cell_type": "code",
   "execution_count": 37,
   "metadata": {},
   "outputs": [
    {
     "name": "stdout",
     "output_type": "stream",
     "text": [
      "7954 terms found that are potential companies\n"
     ]
    }
   ],
   "source": [
    "# find a way to capture, 'FedEx', 'Coca-Cola', 'Sequoia Software Corp', 'Dun & Bradstreet' and 'Moody\\'s'\n",
    "company_ptn = r'(?:[A-Z]+[a-z]+\\s)?[A-Z]+[a-z]+(?:\\-|\\s\\&\\s|\\s+|\\')?[A-Z]?[a-z]+'  # write pattern\n",
    "\n",
    "# code here!\n",
    "search_result2 = []\n",
    "for i in range(len(info_list)):\n",
    "    search_result2.extend(re.findall(company_ptn,info_list[i]))\n",
    " \n",
    "maybe_companies_set = sorted(set(search_result2))\n",
    "print(len(maybe_companies_set), 'terms found that are potential companies')"
   ]
  },
  {
   "cell_type": "code",
   "execution_count": 38,
   "metadata": {},
   "outputs": [
    {
     "name": "stdout",
     "output_type": "stream",
     "text": [
      "Found FedEx\n",
      "Found Coca-Cola\n",
      "Found Sequoia Software Corp\n",
      "Found Dun & Bradstreet\n",
      "Found Moody's\n"
     ]
    }
   ],
   "source": [
    "# verify that we found some of the key terms\n",
    "list_keyterm = ['FedEx', 'Coca-Cola', 'Sequoia Software Corp', 'Dun & Bradstreet','Moody\\'s']\n",
    "for item in list_keyterm:\n",
    "    if item in maybe_companies_set:\n",
    "        print(\"Found \" + item)\n",
    "    else:\n",
    "        print(\"Didn't find \" + item)"
   ]
  },
  {
   "cell_type": "code",
   "execution_count": 39,
   "metadata": {},
   "outputs": [],
   "source": [
    "# acquisition pattern\n",
    "acquisition_ptn = r'(?:acquired|was acquired by)'\n",
    "\n",
    "# find a way to optionally capture the year such as ' in 1962'\n",
    "optional_year_ptn = r'(?: in [12][0-9]{3}\\b)?'"
   ]
  },
  {
   "cell_type": "code",
   "execution_count": 40,
   "metadata": {},
   "outputs": [],
   "source": [
    "# let's assemble the patterns together to a full capture pattern\n",
    "full_acquisition_pattern = (\n",
    "    company_ptn + r'\\s+' + acquisition_ptn + r'\\s+' + company_ptn + optional_year_ptn\n",
    ")"
   ]
  },
  {
   "cell_type": "code",
   "execution_count": 41,
   "metadata": {},
   "outputs": [
    {
     "name": "stdout",
     "output_type": "stream",
     "text": [
      "20 potential acquisitions found.\n"
     ]
    }
   ],
   "source": [
    "acquisition_strings = []\n",
    "for i in range(len(info_list)):\n",
    "    acquisition_strings.extend(re.findall(full_acquisition_pattern, info_list[i]))\n",
    "\n",
    "print(len(acquisition_strings), 'potential acquisitions found.')\n"
   ]
  },
  {
   "cell_type": "code",
   "execution_count": 42,
   "metadata": {},
   "outputs": [
    {
     "name": "stdout",
     "output_type": "stream",
     "text": [
      "Found Citrix acquired Sequoia Software Corp\n",
      "Found Moody's was acquired by Dun & Bradstreet in 1962\n"
     ]
    }
   ],
   "source": [
    "# verify that we found some of the key terms\n",
    "list_keyterm2 = [\"Citrix acquired Sequoia Software Corp\", \"Moody\\'s was acquired by Dun & Bradstreet in 1962\"]\n",
    "for item in list_keyterm2:\n",
    "    if item in acquisition_strings:\n",
    "        print(\"Found \" + item)\n",
    "    else:\n",
    "        print(\"Didn't find \" + item)"
   ]
  },
  {
   "cell_type": "code",
   "execution_count": null,
   "metadata": {},
   "outputs": [],
   "source": []
  },
  {
   "cell_type": "markdown",
   "metadata": {},
   "source": [
    "### -) Question: Are there any failures false positives in your results? If so, how could you account for them?"
   ]
  },
  {
   "cell_type": "code",
   "execution_count": 43,
   "metadata": {},
   "outputs": [
    {
     "name": "stdout",
     "output_type": "stream",
     "text": [
      "['Citrix acquired Sequoia Software Corp', 'Citrix acquired Framehawk and', 'Aflac acquired Continental American Insurance', 'Giannini acquired Banca d', \"Moody's was acquired by Dun & Bradstreet in 1962\", 'Brookfield acquired Rouse Properties in', 'Medtronic acquired Irish', 'Limited acquired Chubb in', 'Lottomatica acquired Gtech Corporation', 'Group acquired OneWest', 'Advance Auto Parts acquired Carport Auto Parts', 'Advance acquired Discount Auto Parts', 'Thermo Fisher acquired Life Technologies Corporation', 'The company acquired Questar gas', 'Keurig Green Mountain acquired Dr Pepper Snapple', 'Gendex Corporation acquired Dentsply International Inc', 'Sovran Self Storage acquired LifeStorage', \"Novartis acquired Incyte's\", 'Colfax acquired British Charter International', 'Further Colfax also acquired Allweiler']\n",
      "['ABInBev', 'ADMMicro', 'AFVs ever', 'AMOLEDs on', 'ATMs across', 'ATMs located', 'ATMs of', 'Aachen', 'Aaron Brothers Custom', 'Aaron Scheinfeld', 'AbbVie', 'Abbey National', 'Abbott Laboratories', 'Abbott Laboratories is', 'Abbott Park', 'Abilene', 'AbioCor', 'Abiomed in', 'Abiomed is', 'Abiomed reported', 'About', 'AboveNet', 'Acadia Healthcare is', 'Acadia provides', 'Accenture appointed', 'Accenture plc', \"Accenture's\", 'Accident Insurance Company', 'According to', 'Accountemps', 'Accounting', \"Ackman's\", 'Acquisition of', 'Act and', 'Act of', 'Actavis from', 'Actavis plc', 'Actavis used', 'Actavis was', 'Active and', 'Activision', 'Activision Blizzard', 'Activision Blizzard Studios', 'Activision Blizzard and', 'Activision Blizzard currently', 'Activision Publishing', \"Activision's\", 'Activision-Blizzard', 'Actonel', 'Acuity Brands', 'Acuity Brands include', 'Acuity Brands is', 'Acuity Brands lighting', 'Acuity Brands markets', 'Acuvue contact', 'Adcetris', 'Additionally', 'Adecco and', 'Adena Friedman', 'Adient', 'Adient acquired', 'Adient announced', 'Adient employed', 'Adient plc', 'Adient was', 'Adrian Bellamy', 'Advance', 'Advance Auto Parts', \"Advance Auto's\", 'Advance Stores from', 'Advance acquired', 'Advance and', 'Advance announced', 'Advance store', 'Advance was', \"Advance's\", 'Advanced Cell Diagnostics', 'Advanced Micro Devices', 'Advantage Funding Management', 'Advent International holding', 'Advent Software', 'Advent season', 'Advertising', 'Advisors and', 'Aeronautics', 'Aerospace', 'Aerospace & Electronics', 'Aetna', 'Aetna for', 'Aetna said', 'Affiliated Computer Services', 'Affiliated Managers Group', 'Affordable Care Act', 'Affymax', 'Aflac Inc', 'Aflac acquired', 'Aflac to', 'Aflac underwrites', 'Aflac was', 'Africa', 'Africa and', 'Africa nearly', 'African American employees', 'After', 'After Babcock & Wilcox', \"After Young's\", 'After a', 'After an', 'After being', 'After divesting', 'After emerging', 'After its', 'After registering', 'After several', 'After suffering', 'After the', 'Afterwards', 'Agency Ltd', 'Agilent Technologies', 'Agilent focuses', 'Agilent stock', 'Agios Pharmaceuticals Inc', 'Agios is', 'Agoda', 'Agoura Hills', 'Agreement Cloud', 'Agriculture', 'Aidells', 'Aimco or', 'Air', 'Air Force', 'Air Jordan', 'Air Lease Corporation', 'Air Lease owns', 'Air Lease provides', 'Air Lease purchases', 'Air Lease reported', 'Air Max', \"Air Product's\", 'Air Products', 'Air Products and', 'Air Products announced', 'Air Products is', 'Air Services', 'Air Southwest Co', 'AirPods', 'Airbus', 'Airbus Group', 'Airlines', 'Airstream', 'Airways Corporation', 'Airways is', 'Akamai Technologies', 'Akamai customer', \"Akamai's\", 'Akcea Therapeutics', 'Akron', 'AkzoNobel', 'Al Schneider sold', 'Al as', \"Al's\", 'Alabama', 'Alabama and', 'Alameda', 'Alamo Title', 'Alapocas', 'Alaska', 'Alaska Air Group', 'Alaska Airlines', 'Alaska Airlines and', 'Alaska Permanent Fund', 'Alaska and', 'Albany to', 'Albemarle Corporation is', 'Albert', 'Albert Nahmad', 'Alberta', 'Albuquerque', 'Alcan announced', 'Alcan in', 'Alcoa Corp', 'Alcoa Corporation', 'Alcoa Inc', 'Alcoa announced', 'Alcoa conducts', 'Alcoa is', 'Alcoa moved', 'Aldurazyme', 'Alex Bowman in', 'Alex Molinaroli', 'Alexander Graham Bell', 'Alexandria Real Estate', 'Alexion Pharmaceuticals Inc', 'Alexion announced', 'Alfred', 'Alice Schwartz', 'Align Technology is', 'All of', 'AllModern', \"Allan Kirby's\", 'Allan Price Kirby', 'Alleghany Corporation is', \"Alleghany's\", 'Allegheny', 'Allegheny Ludlum Corporation', 'Allegheny Steel Distributors', 'Allegheny Technologies', 'Allegheny Technologies retained', 'Allegheny Teledyne Incorporated', \"Allegheny's\", 'Allegion on', 'Allegion plc', 'Allegion spun', 'Allen', 'Allen-Bradley', 'Allentown', 'Allergan', 'Allergan Inc', 'Allergan acquires', 'Allergan for', 'Allergan name', 'Allergan plc', 'Alleud', 'Alliance Boots operated', 'Alliance Boots that', 'Alliance Healthcare', 'Alliant Energy Corporation', 'Alliant Energy and', 'Allied Waste Industries', 'Allied efforts', 'Allied in', 'Allison Transmission has', 'Allison Transmission is', 'Allison products', 'Allman', 'Allmerica Financial Corporation', 'Allmerica Property & Casualty', 'Allstate for', 'Allstate is', 'Allstate was', 'Alltrista', 'Allweiler', 'Ally Financial is', 'Ally is', 'Almost all', 'Alnylam Pharmaceuticals Inc', 'Along with', 'Alphabet', 'Alphabet Inc', 'Alpharetta', 'Also acquired', 'Also in', 'Also the', 'Altair', 'Although Bell Atlantic', 'Although Intel created', 'Although McDonald', 'Although Trinity began', 'Although established', 'Although known', 'Although much', 'Although relatively', 'Although sales', 'Although the', 'Altria', 'Altria Group', 'Altria also', 'Altria at', 'Altria explained', 'Altria focuses', 'Altria is', 'Aluminum Co', 'Aluminum Company of', 'AmSurg', 'Amadeo Pietro Giannini', 'Amazon', 'Amazon respectively', 'Amdocs', 'Amerada Hess Corporation', 'Amerada Petroleum in', 'Ameren Corporation is', 'Ameren Illinois', 'Ameren Missouri', 'Ameren Missouri is', 'Ameren Transmission Company', 'Ameren is', 'AmeriGas', 'AmeriSource', 'AmeriSpec', 'America', 'America Corporation', 'America Corporation was', 'America Holdings', 'America Merrill Lynch', 'America and', 'America by', 'America e', 'America has', 'America in', 'America operates', 'America to', 'America until', 'America was', \"America's\", 'American', 'American Airlines', 'American Airlines Group', 'American Airlines and', 'American Airlines is', 'American Anesthesiology', 'American Banker and', 'American Campus Communities', 'American Civil War', 'American DuPont', 'American Eagle', 'American Eagle operate', 'American Electric Power', 'American English', 'American Express', 'American Express as', 'American Express network', 'American Family Life', 'American Financial Group', 'American Fortune', 'American Fortune Global', 'American Girl', 'American Homes', 'American International Group', 'American Internet and', 'American Internet company', 'American Machine and', 'American Marketing Association', 'American Medical Response', 'American Metal Products', 'American National Insurance', 'American Phenolic Corp', 'American Radio Systems', 'American Savings Bank', 'American Standard Brands', 'American Telephone and', 'American Tower', 'American Tower Corporation', 'American Tower acquired', 'American Tower began', 'American Tower is', 'American Tower merged', 'American Tower now', 'American Tower or', 'American Tower was', 'American Utility Management', 'American Water Military', 'American Water Works', 'American Water also', 'American Water established', 'American Water has', 'American Water is', 'American Water shares', \"American Water's\", 'American aerospace', 'American agribusiness', 'American agricultural', 'American aircraft', 'American airline', 'American and', 'American animation', 'American automobile', 'American automotive', 'American bank', 'American beverage', 'American biopharmaceutical', 'American biotechnology', 'American business', 'American casino', 'American cell', 'American chain', 'American chemical', 'American clinical', 'American clothing', 'American cloud', 'American coffee', 'American commercial', 'American companies', 'American company', 'American computer', 'American conglomerate', 'American consumer', 'American content', 'American corporation', 'American corporations', 'American credit', 'American data', 'American dental', 'American department', 'American designer', 'American distributor', 'American diversified', 'American drug', 'American e', 'American electric', 'American electronic', 'American energy', 'American entertainment', 'American fabless', 'American fashion', 'American fast', 'American financial', 'American flooring', 'American food', 'American foodservice', 'American for', 'American foreign', 'American gambling', 'American gaming', 'American glassworks', 'American global', 'American health', 'American healthcare', 'American holding', 'American independent', 'American industrial', 'American information', 'American insurance', 'American interactive', 'American international', 'American investment', 'American less', 'American lifestyle', 'American low', 'American manufacturer', 'American manufacturing', 'American media', 'American medical', 'American microblogging', 'American mountain', 'American multi', 'American multilevel', 'American multinational', 'American oil', 'American online', 'American operates', 'American packaged', 'American petroleum', 'American pharmaceutical', 'American photovoltaic', 'American power', 'American producer', 'American professional', 'American provider', 'American public', 'American publicly', 'American pulp', 'American real', 'American restaurant', 'American retail', 'American retailer', 'American retailing', 'American semiconductor', 'American short', 'American social', 'American software', 'American specialty', 'American sporting', 'American sportswear', 'American steel', 'American supermarket', 'American supplier', 'American tax', 'American technology', 'American telecommunications', 'American telegraph', 'American timberland', 'American timeshare', 'American university', 'American upstream', 'American video', 'American wireless', 'American worldwide', \"American's\", 'American-Marietta', 'American-based', 'American-owned', 'American-style', 'Americans', 'Americas', 'Americas Beverages', 'Americas and', 'Americas in', 'Ameriprise Financial', 'Ameriprise Financial Services', 'Ameriprise Financial engages', \"Ameriprise Financial's\", 'AmerisourceBergen', 'Ameritrade for', 'Ameritrade is', 'Amex', 'Amgen', 'Amgen Inc', 'Amgen sponsors', 'Amgen the', 'Amgen was', \"Amgen's\", 'Among Lincoln Electric', 'Among its', 'Among major', 'Among others', 'Among projects', 'Among the', 'Among them', 'Amphenol Aerospace', 'Amphenol Cables on', 'Amphenol Corporation is', 'Amphenol Fiber Systems', 'Amphenol engineers', 'Amphenol expanded', 'Amphenol is', 'Amphenol launched', 'Amphenol was', \"Amphenol's\", 'Amsterdam', 'An Equifax manager', 'An anthem', 'An app', 'An initial', 'Analog', 'Analog Devices', 'Analog Devices has', 'Analog Devices led', 'Analysts like', 'Analytical Laboratory instrument', 'Analytics', 'And as', 'And finally', 'And knowing', 'Andacolo', 'Andeavor on', 'Anderson-Barngrover', 'Andrew Florance', 'Andrew Grove', 'Andrew McCollum', 'Androderm', 'Android', 'Aneel Bhusri following', 'Anglican church', 'Anglicans', 'Ankeny', 'Ann Arbor', 'Annaly Capital Management', 'Annaly Management Company', 'Annapolis Junction', \"Annie's\", 'Annual worldwide', 'Ansys Inc', 'Ansys made', 'Ansys software', 'Ansys was', 'Ansys went', 'Antar and', 'Antero Resources Corporation', 'Anthem and', 'Anthropologie', 'AntiVirals', 'Antibody-drug', 'Apache Corporation is', 'Apartment Communities is', 'Apartment Investment and', 'Apartments', 'Apollo Global Management', 'App Store', 'Appalachia Region', 'Appalachia regions', 'Appalachian Basin', 'Appalachian Power', 'Apple', 'Apple Card', 'Apple Computer', 'Apple Inc', 'Apple Music', 'Apple Pay', 'Apple Pay Cash', 'Apple Store', 'Apple Stores in', 'Apple Watch smartwatch', 'Apple amicably', 'Apple and', 'Apple as', 'Apple became', 'Apple employee', 'Apple in', 'Apple is', 'Apple lost', 'Apple products', 'Apple receives', 'Apple shipped', 'Apple swiftly', 'Apple technicians', 'Apple to', 'Apple was', 'Apple went', \"Apple's\", 'AppleCare', 'Appleton', 'Applied Materials', 'Applied Molecular Genetics', 'Approximately', 'Aprica', 'April', 'Aptiv', 'Aqua America is', 'Aramark', 'Aramark Corporation', 'Aramark and', \"Aramark's\", 'Aranesp', 'Arastra', \"Arby's\", 'ArcLight', 'Arch Capital Group', 'Arch Capital or', 'Archer Daniels Midland', 'Arconic', 'Arconic Inc', 'Arctic Cat', 'Ardagh Group is', 'Are you', 'Area', 'Arena in', 'Ares', 'Argentina', 'Aria Resort & Casino', 'Arista', 'Arista Networks', 'Arista products', \"Arista's\", 'Arizona', 'Arizona Public Service', 'Arkansas', 'Arkansas on', 'Arkansas with', 'Arlington', 'Arm', 'Arm & Hammer', \"Arm's\", 'Armed Forces', 'Armenian Stock Exchange', 'Armonk', 'Armor All', 'Armor Materials', 'Armstrong World Industries', 'Armstrong brands', \"Armstrong's\", 'Army of', 'Arne Sorenson', 'Arrow Electronics is', 'Art Deco building', 'Art Peck was', 'Arthur', 'Arthur Taubman purchased', 'Artificial Lift', 'Artistree', 'As a', 'As an', 'As of', 'As part', 'As the', 'As well', 'As with', 'Asa Griggs Candler', 'Asbestos Personal Injury', 'Asda in', 'Ashburn', 'Ashland', 'Ashland Global Specialty', 'Asia', 'Asia Pacific', 'Asia Pacific regions', 'Asia Pacific with', 'Asia and', 'Asia from', 'Asia with', 'Asia-Pacific', 'Asian business', 'Asian market', 'Asian original', 'Aspen Technology', 'AspenTech', 'Associated Banc-Corp', 'Associated Bank is', 'Association', 'Associations', 'Assuming completion', 'Assurance Company', 'Assurance Society of', 'Assurance Wireless', 'Assurant', 'Assurant is', 'Astellas Pharma', 'Astoria Bank closed', 'At December', 'At March', 'At first', 'At least', 'At that', 'At the', 'At this', 'At various', 'Athleta', 'Atlanta', 'Atlanta being', 'Atlanta in', 'Atlanta metropolitan', 'Atlantic City Electric', 'Atlantic and', 'Atlantic footprint', 'Atlassian Corporation Plc', 'Atlassian serves', 'Atmos Energy Corporation', 'Atmos Energy also', 'Auburn Hills', 'August', 'Augusta', 'Austin', 'Austin Beutner', 'Austin Bridge Company', 'Austin and', 'Austin markets', 'Australia', 'Australia Malcolm Turnbull', 'Australia and', 'Australian enterprise', 'Authority', 'Auto', 'AutoFuse', 'AutoNation', 'AutoZone', 'Autodesk', 'Autodesk Inventor', 'Autodesk Product Design', 'Autodesk became', 'Autodesk is', 'Autodesk software', \"Autodesk's\", 'Automatic Data Processing', 'Automatic Products', 'Avago Technologies in', 'AvalonBay', 'Avangrid', 'AvantiGas', 'Avenue Food & Provisions', 'Avenue of', 'Avenues from', 'Average', 'Average and', 'Average from', 'Average on', 'Average since', 'Avery Dennison Corporation', 'Aviall', 'Avnet', 'Avnet currently', 'Avnet officially', 'Award Honorees', 'Awards for', 'Axalta Coating Systems', 'Axalta currently', 'Axalta in', 'Axalta traces', 'Axalta went', 'Axiometrics', 'Azur Pharma plc', 'Azure', 'Baar', 'Babcock & Wilcox', 'Baby', 'Baby Bell', 'Baby Bell company', 'Baby Bell members', 'Baby Bells', 'Baby Bells in', 'Baby Jogger and', 'Baby Neill Constant', 'Baby products', 'Babysun', 'Back in', 'Bagnell Dam on', 'Bahama Breeze', 'Bain Capital', 'Baja California', 'Baja Fresh', 'Bake Shop and', 'Baker Distributing Company', 'Baker Hughes', 'Baker Hughes Company', 'Baker Hughes Incorporated', 'Baker Hughes is', 'Bakersfield', 'Bakken Formation and', 'Bakken formation', 'Balboa Bridge in', 'Baldwin', 'Bali', 'Ball Brothers Company', 'Ball Brothers Glass', 'Ball Corporation in', 'Ball Corporation is', 'Ball Park', 'Ball brand', 'Ball company', 'Ball exited', 'Ball registered', 'Ballast Point and', 'Ballistix', 'Baltimore', 'Baltimore Gas and', 'Baltimore Ravens', 'Baltimore metropolitan', 'Banana Republic', 'Banana Republic and', 'Banana Republic division', 'BancWest', 'Banca d', 'Banco Popular Puerto', 'Banco Popular de', 'Banco Popular in', 'Banco Santander', 'Bancorp', 'Band-Aid', 'Bangalore', 'Bank', 'Bank Corporation', 'Bank Corporation is', 'Bank Holding Company', 'Bank Stadium', 'Bank also', 'Bank expanded', 'Bank from', 'Bank has', 'Bank is', 'Bank of', 'BankAmerica', 'BankAmericard', 'Bankruptcy Protection', 'Bannockburn', 'Baojun', 'Bar Rescue and', 'Barbie', 'Bard for', 'Barely There', 'Barnett Shale', 'Barny and', 'Baroid', 'Barra', 'Barrack Jr', \"Barron's\", 'Basaglar', 'Based in', 'Based on', 'Basell Polyolefins for', 'Baskin-Robbins', 'Bath & Body', 'Battle Creek', 'Battle Creek include', 'Battlefield', 'Bauer Hockey', 'Baugh and', 'Baxter International Inc', \"Baxter's\", 'Bay Area', 'Bay Area companies', 'Bay later', 'Bay spun', 'Bayonne Energy Center', 'Beachwood', 'Beacon', 'Bead Landing', 'Beam Inc', 'Beam Suntory subsidiary', 'Bean Spray Pump', 'Bear Instruments and', 'Beaumont', 'Beauty', 'Beaverton', 'Because of', 'Becton', 'Becton Dickinson agreed', 'Bedford', 'Beechcraft', 'Beefy', 'Bees', 'Before a', 'Before the', 'Beginning in', 'Beiard Industries', 'Beijing', 'Belgian financial', 'Belgium', 'Belgium-based', 'Bell Atlantic', 'Bell Atlantic acquired', 'Bell Atlantic expanded', \"Bell Atlantic's\", 'Bell Helicopter', 'Bell Mobility', 'Bell Operating Companies', 'Bell System and', 'Bell Telephone Company', 'Bell of', 'BellSouth', 'Bellagio', 'Bellevue', 'Bells', 'Beloit', 'Belt', 'Beltway', 'Belvita', 'Ben Franklin', 'Bender in', 'Bender-Wallace', 'Bendix Corporation', 'Benefit brow', 'Benefits also', 'Bengaluru in', 'Benson', 'Bentonville', 'Bergen Brunswig and', 'Berkeley', 'Berkley Corporation', 'Berkley Corporation is', \"Berkley's\", 'Berkshire', 'Berkshire Hathaway Inc', 'Berkshire Hathaway became', 'Berkshire Hathaway has', 'Berkshire Hathaway is', 'Berkshire Hathaway owns', 'Berkshire Hathaway was', 'Berkshire is', 'Berkshire now', 'Berlin and', 'Bermuda', 'Bermuda-based', 'Bernard Kroger in', 'Berol', 'Berry Global', 'Berry Plastics to', 'Berry claims', 'Berry has', 'Bert Wolstein', 'Berwyn', 'Best Bank', 'Best Banks', 'Best Buy', 'Best Buy Co', 'Best Buy Mobile', 'Best Buy also', 'Best Buy is', 'Best Buy operates', 'Best Buy sells', 'Best Buy was', 'Best Companies To', 'Best Companies to', 'Best Employers', 'Best Manufacturing', 'Best Mid-Cap', 'Best Price in', 'Best with', 'Bethesda', 'BetterInvesting', 'Betty Crocker', 'Between', 'Beverage', 'Beverly Hills', 'Beyond Meat is', 'Big Four', 'Big Four tech', 'Big Men that', 'Big Oil companies', 'Big Three', 'Bill', 'Bill Ackman of', 'Bill Bowerman and', 'Bill Gates and', 'Billerica', 'Billion', 'Billion came', 'Billionaire investor', 'Bing', 'Bio-Rad', 'Bio-Techne', 'BioMarin', 'BioPharma', 'BioScience', 'BioShock', 'BioWare', 'Biogen Idec', 'Biogen Inc', 'Biogen and', 'Biomet', 'Bionostics and', 'BiosPacific', 'Biotechnology', 'Biotechnology Index and', 'Birch Lane', 'Birmingham', 'Bismarck', 'Biz Stone', 'BizBuy', 'Black & Decker', 'BlackRock', 'Blackstone', 'Blackstone Group and', 'Blizzard Entertainment', 'Bloch and', 'Block', 'Block operates', 'Blocks', 'Bloomberg', 'Bloomberg analysis', 'Bloomfield', 'Bloomfield Hills', \"Bloomingdale's\", 'Blu-ray', 'Blue', 'Blue Ribbon Sports', 'Blue Ridge Mountains', 'Blue Sky Studios', 'Blue-Point', 'Bluetooth Low-Energy', 'Board', 'Board & Chief', 'Board of', 'Board since', 'Board was', 'Boardwalk Pipeline Partners', 'Bob', 'Bob Nardelli to', 'Bobby Yerramilli-Rao', 'Boca Raton', 'Boeing', 'Boeing Capital', 'Boeing Commercial Airplanes', 'Boeing Defense', 'Boeing Shared Services', 'Boeing is', 'Boeing recorded', 'Boeing stock', 'Boeing subsidiary', 'Boeing was', 'Boeing with', \"Boeing's\", 'Bof', 'Bohn', 'Bois', 'Boise', 'Bolingbrook', 'Bond and', 'Booking', 'Booking Holdings', 'Booking Holdings Inc', 'Boost Mobile', 'Boots', 'Boots and', 'Booz Allen', 'Booz Allen Hamilton', 'Borden', 'Borderlands', 'BorgWarner', 'Born', 'Boston', 'Boston Avenue in', 'Boston Marathon bombings', 'Boston Options Exchange', 'Boston Properties', 'Boston Properties became', 'Boston Properties is', 'Boston Scientific', 'Boston Scientific Corporation', 'Boston Scientific is', 'Boston area', 'Boston became', 'Boston during', 'Boston used', 'Boston with', 'Boston-based', 'BostonBiochem', 'Both Bank of', 'Both aquarium', 'Both companies', 'Both lepidopteran', 'Both the', 'Bothell', 'Botox', 'Boulder', 'Bradley Jacobs and', 'Braine-l', 'Branching out', 'Brand Finance study', 'Brand Jordan', 'Brand line', 'Brands', 'Brands Group', 'Brands business', 'Brands include', 'Brands operated', 'Brands posted', 'Brandywine Realty Trust', 'Brant resigning', 'Brazil', 'Brazil and', 'Brazil in', 'Brazilian-owned', 'Brentuximab vedotin', 'Brentwood', 'Brian Robins announced', 'Briggs & Stratton', 'Bright Canyon Energy', 'Bright House Networks', 'Brighthouse Financial', 'Brighthouse Financial brand', 'Brighthouse Financial completed', 'Brinker was', 'Bristol Myers Squibb', 'Bristol-Myers', 'Brita', 'British American Tobacco', 'British Charter International', 'British Columbia in', 'British English', 'British Virgin Islands', 'British company', 'Brixmor Property Group', 'Broadcom Corporation was', 'Broadcom Inc', \"Broadcom's\", 'Broadridge Financial Solutions', 'Broadridge is', 'Broadway in', 'Broken', 'Brokerage services', 'Brookfield Properties Retail', 'Brookfield Property Partners', 'Brookfield acquired', 'Brookfield in', 'Brooklyn Heights', 'Broomfield', 'Brown & Brown', 'Brown Telephone Company', 'Bruker', 'Bruker BioSpin', 'Bruker Corporation is', 'Bruker Daltonics and', 'Bruker Daltonics subsidiary', 'Bruker Energy & Supercon', 'Bruker Optics', 'Bruker Scientific Instruments', 'Bruker created', 'Bryan', 'Bryn Mawr', 'Bubba water', 'Bubble Wrap cushioning', 'Buckeye Partners', 'Bud Robinson', 'Buffalo', 'Buffalo Bills in', 'Buffalo Savings Bank', 'Buffalo to', 'Buffett focused', 'Buffett stated', 'Buick', 'Builder magazine', 'Building in', 'Buildings', 'Bulge Bracket', 'Bunge International', 'Bunge Limited', 'Bunge y', 'Bunker Ramo Corporation', 'Burbank', 'Bureau', 'Bureau from', 'Burger King', 'Burlingame', 'Burlington', 'Burlington Northern Santa', 'Burn', 'Burnaby', 'Burns serving', \"Burt's\", 'Business Insurance', 'Business Insurance magazine', \"Business Insurance's\", 'Business Magazine named', 'Business units', 'Butterball', 'By January', 'By September', 'By analogy', 'By enrolling', 'By mid', 'By revenue', 'By that', 'By the', 'Byron', 'Bystolic', 'Cabinets', 'Cable', 'Cable One', 'Cablegrams', 'Cablevision', 'Cablevision executive', 'Cabot Corporation is', 'Cabot Oil & Gas', 'Cabuyao', 'Cacharel', 'Cadbury', 'Cadbury Schweppes', 'Cadbury Schweppes as', 'Cadbury Schweppes become', 'Cadence Design Systems', 'Cadillac', 'Caesars Entertainment Corporation', 'Caesars is', \"Caesars's\", 'Caffeine-Free', 'Cal Turner', 'Calais', 'Calamba and', 'Calgary', 'Calhoun', 'Calif', 'California', 'California Analysis Center', 'California Reinforced Plastics', 'California and', 'California commercial', 'California founded', 'California in', 'California outlet', 'California that', 'California to', 'California warehouse', 'California which', 'California with', 'California-based', 'Call of', 'Calphalon cookware', 'Caltech and', 'Cambria and', 'Cambridge', 'Cambridge Analytica data', 'Camden', 'Camden Property Trust', 'Cameron Health in', 'Campo and', 'Cana', 'Canada', 'Canada Drilling', 'Canada Governor and', 'Canada and', 'Canada are', 'Canada as', 'Canada consisting', 'Canada down', 'Canada in', 'Canada over', 'Canada were', \"Canada's\", 'Canadair', 'Canadian', 'Canadian Pacific Railway', 'Canadian cannabis', 'Canadian competitors', 'Canadian provinces', 'Candy Crush Saga', 'Candygrams', 'Cannon connectors', 'Canonsburg', 'Canopy by', 'Cantel Medical Corporation', 'Canton', 'Cantor Fitzgerald organization', 'CapSense', 'Capabilities include', 'Capella Healthcare', 'Capital', 'Capital Holdings Limited', 'Capital Management Company', 'Capital Partners announced', 'Capital and', 'Capri Holdings Limited', 'Car Manufacturing Company', 'CarMax', 'CarRentals', 'Carboline', 'Cardinal Health', 'Cardinal Health provides', 'Care', 'CareFusion', 'Caremark', 'Caremark Corporation', 'Caremark Rx in', 'Carey Inc', 'Cargill and', 'Caribbean', 'Caribbean and', 'Caribbean under', 'Carl', 'Carl Icahn', 'Carl Icahn disclosed', 'Carl Liebert', 'Carlsbad', 'Carlyle Group exited', 'Carnival include', 'Carnival is', 'Carnival season', 'Carnival typically', 'Carole Gould noted', 'Carolinas from', 'Carport Auto Parts', 'Carquest franchise', 'Carrier', 'Carrier Corporation', \"Carter's\", 'Carthage', 'Cartoon character', 'Casa Noble Tequila', 'Cascade Natural Gas', 'Cascadian Therapeutics for', 'Casey Jr', \"Casey's\", 'Catalent', 'Catalent Pharma Solutions', 'Catalent became', 'Caterpillars are', 'Caterpillars of', 'Catholic presence', 'Cavanal Hill Investment', 'Cayman Islands', 'Cboe Global Markets', 'CdTe', 'Cedar Mill', 'Celanese Corporation', \"Celanese's\", 'Celebra', 'Celebrex', 'Celebrity', 'Celgene Cellular Therapeutics', 'Celgene Corporation was', 'Cellular', 'Cellular was', 'Cementing', 'Cendant Corporation in', 'Centene Corporation announced', 'Centennial', 'Center', 'Center City', 'Center for', 'Center in', 'Center invented', 'Center to', 'Centers Corp', 'Central America', 'Central America and', 'Central Illinois Public', 'Central Oklahoma area', 'Central Research Labs', 'Central Texas', 'Central and', 'Central-Eastern', 'Centroam', 'Century Fox', 'CenturyLink', 'Ceridian', 'Cerner Corporation is', 'Cessna Grand Caravans', 'Cessna brands', 'Chabot', 'Chachoengsao', 'Chairman', 'Chairman & Chief', 'Chairman Emeritus effective', 'Chairman John', 'Chairman Thomas Peterffy', 'Chairman and', 'Chairman is', 'Chairman of', 'Chalmette', 'Champion', 'Champs Sports', 'Chandler', 'Change and', 'Channelview', 'Chaps brand', 'Chapter', 'Charles', 'Charles Avnet in', 'Charles County', 'Charles Francis', 'Charles River Laboratories', 'Charles Schwab Corporation', 'Charles Shaver', 'Charles had', 'Charlie Munger', 'Charlotte', 'Charlotte-based', 'Charter Communications', 'Charter completed', 'Charter ranked', 'Chase Manhattan Corporation', 'Chase Manhattan and', 'Chateau Ste', 'Chattanooga', 'Cheapflights', \"Cheddar's\", 'Cheerios', 'Cheez-It', 'Chemical', 'Chemical Analysis Division', 'Chemical Bank', 'Chemical Intermediates and', 'Chemical and', 'Chemicals', 'Chemicals Inc', 'Chemicals and', 'Chengdu', 'Cheniere Energy', 'Chennai', 'Chennai and', 'Cherry', 'Cheryl Miller', 'Chesapeake', 'Chesapeake Bay Candle', 'Chesapeake Bay region', 'Chesapeake Energy Corporation', 'Chesterfield', 'Chevrolet', 'Chevron', 'Chevron Corporation accounted', 'Chevron Corporation is', 'Chevron is', 'Chevron sold', \"Chevron's\", 'Chevy Chase', 'Chicago', 'Chicago Board Options', 'Chicago Board of', 'Chicago Mercantile Exchange', 'Chicago Title', 'Chicago and', 'Chicago by', 'Chicago in', 'Chicago on', 'Chicago physician', 'Chicago suburb', 'Chiclets', 'Chief Executive Darren', 'Chief Executive Officer', 'Chief Financial Officer', 'Chief Investment Officer', 'Chief Operating Officer', 'Chief Scientific Advisor', 'Chief Technology Officer', 'Chile', 'China', 'China Holdings Limited', 'China UnionPay', 'China and', 'China are', 'China in', 'China until', \"China's\", 'Chinese', 'Chinese government', 'Chinese merger', 'Chinese official', 'Chipotle', 'Chipotle Mexican Grill', 'Chipotle announced', 'Chipotle had', 'Chipotle in', 'Chipotle is', 'Chips Ahoy', 'Choice Hotels International', 'Choice Hotels franchised', 'Chongqing', 'Chris Hughes', 'Chris Stolte', 'Christian Chabot', 'Christie Brown and', 'Christie and', 'Christopher', 'Christopher Lofgren was', 'Chrysler Corporation in', 'Chub', 'Chubb', 'Chubb Corporation for', 'Chubb Limited', 'Chubb Limited and', 'Chubb consist', 'Chubb in', 'Chubb name', 'Chubb operates', 'Chubb provides', 'Chubb trades', \"Chubb's\", 'Chuck', 'Church', 'Church & Dwight', 'Church of', 'Ciba Composites', 'Cigar Corporation from', 'Cigna', 'Cigna Global Health', 'Cigna Medical Group', 'Cigna also', 'Cigna and', 'Cigna corporation', 'Cigna is', 'Cigna offers', 'Cigna runs', 'Cigna would', 'Cimarex Energy Co', 'CinFin', 'Cincinnati', 'Cincinnati Financial Corporation', 'Cincinnati Global', 'Cincinnati Global Syndicate', 'Cincinnati Global Underwriting', 'Cincinnati Specialty Underwriters', 'Cincinnati began', 'Cincinnati-based', 'Cinema', 'Cingular Wireless', 'Cintas Corporation', 'Cintas among', 'Cintas has', 'Cintas is', 'Circuit City Stores', \"Circuit City's\", 'Cirro Energy', 'Cisco', 'Cisco Systems', 'Cisco Systems was', 'Cisco develops', 'Cisco had', 'Cisco is', 'Cisco specializes', 'Cisco stock', \"Cisco's\", 'Citgo', 'Citi', 'Citi is', 'Citibank', \"Citibank's\", 'Citicorp', 'Citicorp and', 'Cities Service Company', 'Citigroup', 'Citigroup Inc', 'Citigroup and', 'Citigroup has', 'Citigroup is', 'Citigroup owns', 'Citigroup to', 'Citizens Bank', 'Citizens Bank brand', 'Citizens Financial Group', 'Citizens operates', 'Citizens ranks', 'Citizens was', 'Citrix Systems', 'Citrix acquired', 'Citrix came', 'Citrix completed', 'Citrix has', 'Citrix in', 'Citrix solutions', 'Citrix spun', 'Citrix to', 'City', \"City Center's\", 'CityCenter', 'CityTarget', 'Civilization', 'Class', 'Claure', 'Claure is', 'Clayton', 'Clayton Antitrust Act', 'Clean', 'Clean & Clear', 'Clean Harbors', 'Clear', 'Clear Credit', 'Clear Europe', 'Clear Lake area', 'Clear Netherlands and', 'Clear Singapore', 'Clearfield Cluster', 'Clearing which', 'Clearlake Capital', 'Clearwire Corporation which', 'Cleveland', 'Cleveland mailing', 'ClickPay', 'Clients of', 'Climate Control brands', 'Cline Shale', 'Cliniqa', 'Clorox Chemical Co', 'Clorox brands', 'Clorox products', 'Clorox ranked', 'Clos du', 'Closed Block Business', 'Cloud', 'Cloud oktas', 'Club Monaco brands', 'Club Social', 'Club members', 'Club opened', 'Club retail', 'CoStar', 'Coach', 'Coach New York', 'Coal transported', 'Coastal Grill', 'Coasts', 'Coca-Cola', 'Cocoa Puffs', 'Coffee small', 'Cognex', 'Cognex Corporation is', 'Cognex began', 'Cognex is', 'Cognizant had', 'Cognizant is', 'Cohen', 'Coherent', 'Coke', 'Coke name', 'Coke products', 'Col', 'Cold War era', 'Coldwell Banker Richard', 'Cole Haan and', 'Coleman outdoor', 'Colfax', 'Colfax Corporation is', 'Colfax acquired', 'Collection by', 'Collectively', 'College Station area', 'Collier Trophy eight', 'Collier Trophy for', 'Collier Trophy six', 'Colombia', 'Colombia as', 'Colombian carrier', 'Colombo', 'Colonial Life', 'Colony Capital', 'Colony Capital invests', 'Colony was', 'Colorado', 'Colorado River', 'Colorado Springs', 'Colorado State Bank', 'Colorado in', 'Columbia', 'Columbia Management and', 'Columbia Threadneedle Investments', 'Columbia and', 'Columbia in', 'Columbia with', \"Columbia's\", 'Columbus', 'Comcast', 'Comcast and', 'Comerica Bank New', 'Comerica Incorporated is', 'Comerica Park in', 'Comerica Theatre in', 'Comerica also', 'Comerica is', 'Cometriq', 'CommScope', 'Command & Conquer', 'Commentators have', 'Commerce', 'Commerce Bancshares', 'Commerce Bancshares is', 'Commerce Bank', 'Commerce Bank in', 'Commerce Bank is', 'Commerce Bank was', 'Commerce Trust Company', 'Commerce website', 'Commercial', 'Commercial Banking', 'Commercial Heating and', 'Commercial Investment Trust', 'Commercial Motors', 'Commercial Workers', 'Commercial payers', 'Commission', 'Commission challenged', 'Commission correlating', 'Commodity Futures Trading', 'Commodity Trading and', 'Common applications', 'Common stock', 'Commonwealth Edison', 'Commonwealth Land Title', 'Commonwealth of', 'Communications', 'Communications Corporation leases', 'Communications Corporation owns', 'Communications Corporation was', 'Communications Inc', 'Communications bought', 'Communities', 'Companies', 'Companies headed', 'Companion Animal Group', 'Companion animal', 'Company', 'Company also', 'Company and', 'Company before', 'Company consists', 'Company distributes', 'Company evolved', 'Company for', 'Company has', 'Company in', 'Company is', 'Company of', 'Company oversees', 'Company produces', 'Company provides', 'Company subsidiary', 'Company took', 'Company until', 'Company was', 'Company were', 'Company would', \"Company's\", 'Competitors in', 'Competitors include', 'Completion & Production', 'Completion Tools', 'Composites', 'Comprising more', 'Comptroller of', 'Computer Science at', 'Computer Sciences Corporation', 'Computing-Tabulating', 'Con Ed', 'Con Edison', 'Con Edison Development', 'Con Edison Energy', 'Con Edison Solutions', 'Con Edison Transmission', 'Conagra Brands', 'Conagra Brands on', 'Conagra makes', 'Concho Resources Inc', 'Condit continued', 'Conduent', 'Conduent Inc', 'Conferences', 'Confinity', 'Confluence', 'Conjugates are', 'Connect and', 'Connecticut', 'Connecticut and', 'Connecticut in', 'Connecticut that', 'Connecticut-based', 'Connor retired', 'Conoco Inc', 'ConocoPhillips', 'Conrad Hilton in', 'Conrad Hotels & Resorts', 'Conrail', 'Conshohocken-based', 'Consolidated Analysis Center', 'Consolidated Container Company', 'Consolidated Edison', 'Consolidated Edison Company', 'Consolidated under', 'Constellation Brands', 'Constellation Brands is', 'Constellation Energy Group', 'Constellation has', 'Constellation is', \"Constellation's\", 'Construction Products Group', 'Construction Services Group', 'Consulting', 'Consulting & Project', 'Consulting and', 'Consumer & International', 'Consumer Financial Protection', 'Consumer Packaging', 'Consumer Protection Financial', 'Consumer Reports named', 'Consumer Value Stores', 'Consumer brands', 'Consumers Energy', 'Consumers Energy has', 'Contemporaneous with', 'Contigo and', 'Continental Airlines', 'Continental American Insurance', 'Continental Can', 'Continental Casualty Company', 'Continental Oil Center', 'Continental Resources', 'Continental Resources and', 'Continental share', 'Continental shareholders', \"Continental's\", 'Continuum', 'Control Technologies', 'Controls', 'Converse', 'Conversely', 'Cookies', 'Cooling', 'Cooperative manages', 'Copa Airlines Colombia', 'Copa Airlines and', 'Copa Holdings', 'Copart', 'Copenhagen Stock Exchange', 'Coraopolis', 'Core & Main', 'CoreLogic', 'CoreSite', 'Corelle Brands', 'Corelle Vitrelle tableware', 'Corey Goodman and', 'Corie Barry in', 'Cork', 'Corman Railroad', 'Corn Flakes', 'Corn Products International', 'Cornell Law School', 'Corning Consumer Products', 'Corning Glass Works', 'Corning Incorporated is', 'Corning develops', 'Corning divested', 'Corning had', 'Corning in', 'Corning is', 'Corning won', 'CorningWare', 'Cornwell Tools', 'Corona', 'Corp', 'Corp is', 'Corporate Office Properties', 'Corporate Services provides', 'Corporate headquarters', 'Corporation', 'Corporation after', 'Corporation and', 'Corporation as', 'Corporation became', 'Corporation changed', 'Corporation comprises', 'Corporation est', 'Corporation from', 'Corporation in', 'Corporation is', 'Corporation or', 'Corporation revenues', 'Corporation split', 'Corporation spun', 'Corporation to', 'Corporation was', 'Corporation would', \"Corporation's\", 'Corpus Christi and', 'Corteva', 'Corzine', 'Cosmetics & Fragrance', 'Costa Rica and', 'Cotai', 'Cottonwood Heights', 'Coty', 'Coty Inc', 'Coty owns', 'County', 'Covance were', 'Covidien', 'Covington', 'Craig', 'Craig Thompson', 'Crane Co', 'Created in', 'Creatology and', 'Credit Acceptance Corporation', 'Credit Acceptance reported', 'Cresson', 'Crew', 'Crimea', 'Criticism of', 'Critics of', 'Crock-Pot', 'Croix', 'Cronos Group', 'Crosstex', 'Crown Castle is', 'Crown Castle officially', 'Crown Cork & Seal', 'Crown Holdings', 'Crown employs', 'Crucial and', 'Cryovac food', 'CubeSmart', 'Cullen', 'Cummins also', 'Cummins is', 'Cummins reported', 'Cummins sells', 'Cup Series race', 'Cupertino', 'Cura', 'Curio', 'Currency', 'Current and', 'Currently', 'Currently American Tower', 'Currently about', 'Currently the', 'Curtiss', 'Customer Fulfillment Centers', 'Cutter and', 'Cybersecurity partner', 'Cybertruck', 'Cymbalta', 'Cynthia Harriss as', 'Cypress Semiconductor Corporation', 'Cypress Semiconductors announced', 'Cypress Semiconductors with', 'CyrusOne', 'DaVinci', 'DaVita', \"Dad's\", 'Daiichi Sankyo on', 'Daily newspaper', 'Dairy', 'Dairy Queen', 'Daisyfresh', 'Dale Asplund', 'Dallas', 'Dallas County mule', 'Dallas Tank', 'Dallas Tank Company', 'Dallas in', \"Dallas's\", 'Dallas-Fort', 'Dalvance', 'Damian Services Corp', 'Dan Hesse was', 'Danaher Corporation', 'Danaher Corporation is', 'Danaher is', 'Danger Inc', 'Daniel Springer', 'Danvers', 'Darden Restaurants', 'Darden Restaurants Inc', 'Darden also', 'Darden has', 'Darden is', 'Dare Vita', 'Darice', 'Darren Jackson elected', 'Data Systems', 'DataMan', 'Databeans', 'Dave Lennox', 'Dave Lesar', 'David', 'David Duffield', 'David Offensend', 'David Weiden', 'David and', 'Davidson', 'Day', 'Day-Glo', 'Dayton', 'Dayton Company in', 'Dayton Corporation in', 'Dayton properties', \"Dayton's\", 'Dayton-Hudson', 'Daytona Beach', 'Dazs', 'De Agostini', 'DePaolo', 'DeSerres', 'Dead Space', 'Dealing in', 'Dean Witter Discover', \"Dean Witter's\", 'Decade', 'December', 'Dedicated Contract Services', 'Deep South of', 'Deepwater Horizon', 'Deepwater Horizon oil', 'Deere', 'Deere & Company', 'Deerfield', 'Defense', 'Deisel-Wemmer', 'Del Monte Foods', 'Delaware', 'Delaware Basin', 'Delaware Basin and', 'Delaware City', 'Delaware City Refinery', 'Delaware and', 'Delaware corporation', 'Delaware for', 'Delaware in', 'Delivery', 'Dell', 'Dell Technologies Inc', 'Dell Technologies is', 'Dell and', 'Dell ranked', \"Dell's\", 'Delmarva Power & Light', 'Deloitte', 'Delphi Automotive', 'Delta', 'Delta Air Lines', 'Delta Connection', 'Delta Steel', 'Delta has', 'Delta is', 'Demand', 'Demetriou', 'Denim & Supply', 'Denmark', 'Denmark and', 'Dennis Muilenburg', 'Dentsply International Inc', 'Dentsply Sirona announced', 'Dentsply Sirona is', 'Dentyne', 'Denver', 'Denver Basin', 'Denver after', 'Department of', 'Departments found', 'Dept', 'Dermalogica skin', 'Des Moines', 'Despite an', 'Despite the', 'Desseaux', 'Detroit', 'Detroit Edison until', 'Detroit and', 'Detroit that', \"Detroit's\", 'Detroit-based', 'Deutsche Telekom', 'Developers Diversified Realty', 'Development Company merged', 'Devon Energy Center', 'Devon Energy Corporation', 'Dexcom', 'Diablo', 'Diagnostic Systems Inc', 'Dialysis', 'Diamond Offshore Drilling', 'Diamond Shamrock', 'Diamond State Telephone', 'Diamondback Energy', 'Diamondback Energy is', 'Dick', 'Dick Cheney', \"Dick's\", 'Dickinson and', 'Die', 'Diet Coke', 'Diet Coke Caffeine', 'Differential Steel Car', 'Diflucan', 'DigiCert', 'Dim', 'Diners Club International', 'Dingo', 'Direc', 'Direct Energy', 'Director of', 'Directors', 'Directors in', 'Discount Auto Parts', 'Discount Store News', 'Discover Bank', 'Discover Card is', 'Discover Financial Services', 'Discover and', 'Discover is', 'Discovery', 'Discovery Family network', 'Discovery Research', 'Disney', 'Disney Brothers Cartoon', 'Disney Channel', 'Disney Media Networks', 'Disney Parks', 'Disney as', 'Disney has', 'Disney owns', 'Disney was', \"Disney's\", 'Dispensing Equipment', 'Distributed Antenna System', 'Distributing goods', 'Distribution Corporation', 'Distributors', 'District Court Judge', 'District of', 'Diversey Care in', 'Diversified Products', 'Diversity', 'Dividend Achievers', 'Division', 'Dixie-Narco', 'Do-It', 'DocuSign', 'Dolan family', 'Dolby', 'Dolby Laboratories', 'Dolby Labs and', 'Dolby licenses', 'Dollar Bills', 'Dollar General Corporation', 'Dollar General has', 'Dollar General in', 'Dollar General operates', 'Dollar Tree Stores', 'Dollar Tree and', 'Dollar Tree competes', 'Dollar Tree store', 'Dollygrams', 'Dolophine', 'Dominion', 'Dominion Energy', 'Dominion Energy completed', 'Dominion also', \"Domino's\", 'Don Fisher', 'Don Schneider', \"Don's\", 'Donald', 'Donald Fisher', 'Donald Fisher and', 'Donald Fisher served', 'Donald Slager', 'Donald Trump and', 'Donaldson Company', 'Donuts and', 'Doorn', 'Doris', 'Doris Fisher', 'Doss', 'Double', 'DoubleTree', 'Doug Leone', 'Doug Shulman', 'Douglas', 'Douglas on', 'Dover Corporation is', 'Dover is', \"Dover's\", 'Dow Chemical and', 'Dow Corning and', 'Dow Inc', 'Dow Jones Indices', 'Dow Jones Industrial', 'Dow Jones Market', 'DowDu', 'Downers Grove', 'Downtown Dallas', 'Downtown Oklahoma city', 'Dr Pepper Snapple', 'Dragon Age', 'Drexler refused', 'Drexler was', 'Drill Bits & Services', 'Drill Company and', 'Drilling', 'Drilling Solutions', 'Drug Administration', 'Dry Goods Company', 'Dryvit', 'DuPont', 'Duane Reade', 'Dubai', 'Dubilier', 'Dubilier & Rice', 'Dublin', 'Dublin based', 'Due to', 'Duke Energy Corporation', 'Duke Realty is', 'Dulles', 'Dulles in', 'Duluth', 'Dun & Bradstreet', 'Dunkin', 'Duofold', 'Dupey in', 'Dupli-Color', 'Duracell', 'Durant on', 'Durco International', 'During', 'During Lent', 'During the', 'During this', 'Dustin Moskovitz and', 'Dutch Boy', 'Dutch and', 'Dutch firm', 'Dutch global', 'Dutch holding', 'Dutch-domiciled', 'Duty', 'Dymo', 'Each Dollar Tree', 'Each facility', 'Each segment', 'Each store', 'Eagle', 'Eagle Ford Group', 'Eagle Ford formation', 'Eagle Materials Inc', 'Earlier in', 'Early in', 'East', 'East Asia', 'East Coast', 'East Coast market', 'East Coast of', 'East Pratt Street', 'East Syracuse', 'East Tennessee', 'East Texas', 'East Texas asphalt', 'East West', 'East West Bancorp', 'East West Bank', 'East to', 'Eastbay', 'Eastern Interconnection', 'Eastern Time', 'Eastern Virginia to', 'Eastpak', 'Eastview', 'Eaton Corporation Inc', 'Eaton Vance Corp', 'Eaton Vance provides', 'Eaton has', 'Echelon Mall in', 'EchoStar', 'Ecolab', 'Ecolab Inc', 'Economic Research estimated', 'Economics Laboratory in', 'Ed Iacobucci', 'Eddie', 'Edge web', 'Edison', 'Edison Energy', 'Edison International is', \"Edison's\", 'Edmonton and', 'Eduardo Robreno in', 'Eduardo Saverin', 'Education', 'Edward', 'Edward Breen is', 'Edwards Lifesciences is', 'Effective January', 'Eggo', 'Eighth Avenue and', 'Eindhoven', 'El Dorado', 'El Indio Gold', 'El Segundo', 'Elaborate costumes', 'Electric', 'Electric Boat and', 'Electric Company', 'Electric Light Company', 'Electric Reliability Council', 'Electric and', 'Electrical businesses', 'Electrical segment', 'Electromechanical Group', 'Electronic Arts', 'Electronic Arts Inc', 'Electronic Arts in', 'Electronic Instruments Group', 'Electronic Signatures Directive', 'Element Solutions Inc', 'Eleven years', 'Elgin', 'Eli Lilly', 'Eli Lilly and', 'Eli Lilly is', 'Elkhart', 'Elliot Handler', 'Elliott', 'Elliott Management Corporation', 'Elliott publicly', 'Ellis', 'Elmer Winter and', \"Elmer's\", 'Elon Musk', 'Embarq', 'Embassy Suites Hotels', 'Embraer', 'Embraer and', 'Emerald Homes', 'Emerald Homes brand', 'Emergency Economic Stabilization', 'Emerson Electric Co', 'Emerson has', 'Empire City Casino', 'Empire Pipeline', 'Empire State Building', 'Enablex', 'Enbrel', 'Encompass Health Corporation', 'Endicott', 'Ending', 'Endoscope Reprocessing and', 'Energen Corporation was', 'Energizer as', 'Energizer in', 'Energy', 'Energy Company', 'Energy Company is', 'Energy Company of', 'Energy Corp', 'Energy Corridor district', 'Energy East and', 'Energy Group', 'Energy Group Inc', \"Energy Group's\", 'Energy Inc', 'Energy Management System', 'Energy Marketing', 'Energy Partners', 'Energy Resources', 'Energy Resources owns', 'Energy Services', 'Energy Services Group', 'Energy Services operation', 'Energy Systems and', 'Energy and', 'Energy has', 'Energy is', 'Energy portfolio', 'Energy until', 'Engineered Materials', 'Engineered Systems', 'Engineering', 'England', 'England Mark Carney', 'Englewood', 'Enidine energy', 'Enogex Inc', 'Enron Oil & Gas', 'Enron in', 'Ensenada', 'Ensure', 'Entergy Corporation is', 'Entergy has', 'Entergy is', 'Enterprise Company', 'Enterprise Group', 'Enterprise Security software', 'Enterprise Services business', 'Enterprise Solutions', 'Enterprise trades', 'Enterprises', 'Enterprises Inc', 'Entertainment', 'Entertainment division', 'Environmental', 'Environmental & Nuclear', 'Environmental Design', 'Environmental and', 'Envision Healthcare is', 'Envision announced', 'Envision for', 'Envision sold', 'Envision was', \"Envision's\", 'Envison and', 'EpiPen', 'Epic Games', 'Epic Games Store', 'Episcopal Church', 'Epogen', 'Equatorial Guinea', 'Equifax', 'Equifax Inc', 'Equifax also', 'Equifax announced', 'Equifax collects', 'Equifax consumers', 'Equifax had', 'Equifax has', 'Equifax operates', 'Equifax sells', 'Equifax was', \"Equifax's\", 'Equinix', 'Equipment', 'Equitable Life Insurance', 'Equitable Powder Company', 'Equitable Shipyards', 'Equities is', 'Equity Residential is', 'Ernest Health', 'Ernst & Young', 'Esoteric Testing in', 'Essential Air Service', 'Essentially', 'Essex Property Trust', 'Esso', 'Established in', 'Estate', 'Estrace', 'Esurance before', 'Ethan Brown', 'Ethernet', 'Ethisphere Institute as', 'Ethisphere Magazine chose', 'Euclid', 'Euco', 'Eugene Watson as', 'Euro Stoxx', 'Euromoney Institutional Investor', 'Euronet Worldwide is', 'Euronext Paris', 'Europe', 'Europe after', 'Europe along', 'Europe and', 'Europe by', 'Europe in', 'Europe until', 'European Bakers', 'European Central Bank', 'European Federation of', 'European Rail business', 'European Stock Exchanges', 'European Textile and', 'European Union', \"European Union's\", 'European and', 'European banking', 'European cavalry', 'European countries', 'European headquarters', 'European retailers', 'European roots', 'Evan Williams', 'Evangelical Lutheran countries', 'Evansville', 'Eventually', 'Ever After High', 'Ever Clean pet', 'Everbridge', 'Everbridge for', 'Everbridge relayed', 'Everbridge sends', 'Evercore Inc', 'Evercore Partners', 'Evercore serves', \"Evercore's\", 'Everest Re Group', 'Evergy generates', 'Evergy is', 'Evergy owns', 'Evergy service', 'Eversource Energy', 'Evolution Fresh juices', 'Ewing', 'Examples of', 'Excellence', 'Exchange', 'Exchange Commission', 'Exchange Commission accused', 'Exchange Commission probe', 'Exchange Commission related', 'Exchange October', 'Exchange and', 'Exchange as', 'Exchange in', 'Exchange on', 'Exchange since', 'Exchange under', 'Exchange using', 'Exchange with', 'Executive Chairman Bill', 'Executive Officer', 'Executive Programs', 'Executive Vice President', 'Exelis', 'Exelixis', 'Exelixis Plant Sciences', 'Exelixis had', 'Exelixis in', 'Exelixis invested', 'Exelixis licensed', 'Exelixis partnered', 'Exelixis was', 'Exelixis with', 'Exelixis won', 'Exelon Corporation is', 'Exelon Generation', 'Exelon consists', 'Exelon had', 'Exelon has', 'Exelon is', 'Exelon merged', 'Exelon operates', 'Exosome Diagnostics', 'Expected to', 'Expedia', 'Expedia Group is', 'Expeditors', 'Expeditors International of', 'Experian and', 'Experiences and', 'Experis', 'ExpertCity', 'Exploration', 'Exploration and', 'Expo Markers', 'Express', 'Express Homes', 'Express Homes is', 'Express Scripts approved', 'Express Scripts in', 'Extended Stay America', 'Extensible Operating System', 'Exton', 'Extra Space Storage', 'ExtraOrtho', 'Exubera', 'Exxon', 'Exxon Mobil Corporation', 'Exxon Valdez oil', 'ExxonMobil', 'Eze Software', 'Fab', 'Fabric & Home', 'Facebook', 'Facebook claimed', 'Facebook in', 'Facebook knows', 'Facebook of', 'Facebook partnered', 'Facilities', 'FactSet', 'Fairfax County', 'Fall of', 'Fallavier', 'Fallon', 'Family Care', 'Family Dollar', 'Family Game Night', 'Family of', 'Fannie Mae or', 'FarmVille', 'Farmington', 'Farms Office Park', \"Fast Company's\", 'Fast Tech rankings', 'Fastelavn', 'Fastenal Company is', 'Fastenal refers', 'Fastenal resells', 'Fe Corporation from', 'Feb', 'February', 'February or', 'FedEx', 'Federal Deposit Insurance', 'Federal Express', 'Federal Family Education', 'Federal Home Loan', 'Federal Judge Amit', 'Federal Realty Investment', 'Federal Reserve', 'Federal Reserve Bank', 'Federal Reserve System', 'Federal Reserve bailed', 'Federal Trade Commission', 'Federated Department Stores', 'Fees became', 'Feminine', 'Feralloy', 'Ferguson', 'Few', 'Fidelity National Financial', 'Fidelity National Title', 'Fiduciary activity', 'Field', 'Field in', 'Fifth and', 'Fighting Falcon', 'Films', 'Films and', 'Final Cut Pro', 'Finance', 'Financial', 'Financial Corporation', 'Financial Corporation is', 'Financial Crisis Inquiry', 'Financial Group', 'Financial Holdings Inc', 'Financial Industry Regulatory', 'Financial Services', 'Financial Services Businesses', 'Financial Services Group', 'Financial Stability Board', 'Financial has', 'Financial is', 'Financial was', 'Findlay', 'Finland', 'Fire', 'Fire & Safety', 'Fire Control', 'FireEye', 'First Alert alarm', 'First American Financial', 'First American offers', 'First Capital Corp', 'First Central Bank', 'First Citizens Bancshares', 'First Citizens Bank', 'First Citizens operates', 'First Empire State', 'First Hawaiian', 'First Hawaiian Bank', 'First Hawaiian Center', 'First Hawaiian was', 'First Horizon', 'First Horizon National', 'First Republic Bank', 'First Republic Investment', 'First Republic Securities', 'First Republic Trust', 'First Republic Wealth', 'First Republic offers', 'First Solar', 'First Solar became', 'First Solar is', 'First Solar uses', 'First Solar was', 'First Tennessee', 'FirstEnergy', 'Fiscal year', 'Fiserv', 'Fiserv Forum', 'Fiserv has', 'Fiserv obtained', 'Fiserv reported', 'Fish', 'Fisher', 'Fisher Scientific', 'Fisher agreed', 'Fisher and', 'Fisher asked', 'Fisher carefully', 'Fisher family', 'Fisher on', 'Fisher opened', 'Fisher recruited', 'Fisher to', 'Fisher was', \"Fisher's\", 'Fisher-Price', 'Fitbit and', 'Fitch rates', 'Five Star', 'Five Star in', 'Flaga in', 'Flagstar Bank', 'Flash', 'Flash Technologies', 'Flatbed', 'Fleet Support', 'FleetCor', 'Flight Forward', 'FlightSafety', 'Floor & Decor', 'Florida', 'Florida Corporation in', 'Florida Power & Light', 'Florida and', 'Florida golf', 'Florida which', 'Florida within', 'Flowcrete', 'Flower Foods', 'Flowers', 'Flowers Foods', 'Flowers Foods has', 'Flowers owns', 'Flowserve Corporation was', 'Flowserve has', 'Flowserve sells', 'Fluid & Metering', 'Fluid Handling', 'Fluids', 'Fluor Construction Company', 'Fluor Corporation is', 'Fluor introduced', 'Fluor sold', 'Fluor was', \"Fluor's\", 'Foamposite', 'Focused on', 'Following a', 'Following its', 'Following the', 'Following what', 'Food Machinery Corporation', 'Food Processing magazine', 'Food and', 'FoodSaver', 'Foods', 'Foods Inc', 'Foods for', 'Foods offers', 'Foods was', 'Foods were', 'Foods would', 'Foodservice', 'Foodservice until', 'Foot Locker', 'Foot Locker Retail', 'Foot Locker chain', \"Foot Locker's\", 'Footaction', 'Footlocker', 'For', 'For a', 'For fiscal', 'For its', 'For more', 'Forbes', 'Forbes Digital', 'Forbes Global', 'Forbes Magazine', 'Forbes Magazine Global', 'Forbes and', 'Forbes as', 'Forbes from', 'Forbes in', 'Forbes inaugural', 'Forbes included', 'Forbes list', 'Forbes magazine', 'Forbes named', \"Forbes's\", 'Ford Motor Company', 'Forest Labs', 'Formation in', 'Formed in', 'Former', 'Former Boeing chair', 'Former employees', 'Formerly Cable One', 'Formerly Cadbury Schweppes', 'Formerly known', 'Formula', 'Fort Lauderdale', 'Fort Lauderdale Florida', 'Fort Mill', 'Fort Wayne', 'Fort Worth', 'Fort Worth Division', 'Fort Worth Metroplex', 'Fort Worth being', 'Fort Worth metroplex', 'FortiGate', 'Fortigent', 'Fortinet had', 'Fortinet is', 'Fortinet released', 'Fortinet was', 'Fortis', 'Fortis Insurance', 'Fortune', 'Fortune Brands Home', 'Fortune Brands holding', 'Fortune Brands is', 'Fortune Brands renamed', 'Fortune Global', 'Fortune Magazine', 'Fortune World', \"Fortune World's\", 'Fortune in', 'Fortune included', 'Fortune list', 'Fortune magazine', 'Fortune on', 'Fortune ranked', \"Fortune's\", 'Fortunes', 'Foster', 'Foster City', 'Foundation said', 'Founded and', 'Founded by', 'Founded in', 'Founders Joseph', 'Founding', 'Four Seasons Hotel', 'Fourth Amended Plan', 'Fourth of', 'Fox', 'Fox Searchlight Pictures', 'Framehawk and', 'Framing store', 'Framingham', 'Fran', 'France', 'Franciscan Estates', 'Frank Blake', 'Frankfurt Stock Exchange', 'Frankfurt and', 'Franklin', 'Franklin Lakes', 'Frappuccino beverages', 'Frazier Technology Ventures', 'Fred', 'Fred Campbell Auto', 'Fred Luddy', 'Freddie Mac', 'Free', 'Free People', 'Free People by', 'FreeStyle', 'Freedom Homes', 'Freedom Homes caters', 'Freeform', 'Freeport', 'Freeport-Mc', 'Freescale Semiconductor', 'Freia', 'Freight', 'Fremont', 'Fremont and', 'French insurance', 'Fresh Step', \"Freshley's\", 'Fridley', 'Friedrichshafen', 'Friends', 'Frito-Lay', 'Fritz Feigl Prize', 'From', 'From August', 'From February', 'Frost Bank is', 'Frost Bankers', 'Frosted Flakes', 'Fruit of', \"Fry's\", 'Funky Buddha', 'Furby', 'Furniture Medic', 'Further Colfax also', 'Fusion', 'Futuris from', 'Gallagher & Co', 'Galveston', \"Gamble's\", 'Gaming and', 'Gap', 'Gap Adult', 'Gap Inc', 'Gap Inc announced', 'Gap Inc began', 'Gap announced', 'Gap assumed', 'Gap began', 'Gap division', 'Gap established', 'Gap from', 'Gap opened', 'Gap store', 'Gap units', 'Gap was', \"Gap's\", 'Gapontsev', 'Garden Safe brand', 'Garden opened', 'Garden share', 'Gardner Denver', 'Garmin', 'Garmin Ltd', 'Gartner', 'Gartner Group', 'Gartner clients', 'Gartner has', 'Gartner in', 'Gartner uses', 'Gary Burrell and', 'Gary Cohn', 'Gas', 'Gas Apparatus', 'Gas Co', 'Gas Company', 'Gas Company is', 'Gas Company was', 'Gas groups', 'Gas to', 'Gates Corporation', 'Gates as', 'Gateway area', 'Gathering', 'Gatorade brand', 'Gbit', 'GeForce', 'Geek Squad', 'Gelnique', 'Gemaire Distributors Inc', 'Gendex Corporation acquired', 'Genentech', 'Genentech and', 'General American Transportation', 'General Dynamics', 'General Dynamics Corporation', 'General Dynamics Land', 'General Electric Company', 'General Electric and', 'General Electric on', 'General Electric still', 'General Growth Properties', 'General Instrument and', 'General Insurance', 'General Insurance includes', 'General Mills', 'General Motors', 'General Motors Acceptance', 'General Motors Company', 'General Motors is', 'General Motors manufactures', 'General Parts', 'General Parts International', 'General Stores', 'Genesee and', 'Genius Bar', 'Genmab', 'Genpact', 'Genta had', 'Genteq brand', 'Gentex Corporation', 'Genzyme Corporation', 'Geophysical Service Incorporated', 'George Damaris currently', 'George Dayton and', 'George Foreman', 'George Kaiser', 'George Kozmetsky', 'George Scangos joined', 'Georgia', 'Georgia Institute of', 'Georgiadis stepped', 'German auto', 'German building', 'German firm', 'German telecommunications', 'German-based', 'Germany', 'Germany and', 'Germany in', 'Germany-based', 'Gerry Rubin who', 'Gert Boyle', 'GetGo', 'Ghana', 'Ghana and', 'Giannini acquired', 'Gibbstown', 'Gibraltar as', 'Gigabit Ethernet low', 'Gigafactory', 'Gil Amelio to', 'Gilbert Corporation from', 'Gilead Sciences', 'Gilead Sciences and', 'Gilead is', 'Gilead sold', 'Gillette', 'Glad', 'Glasco Polyvend Lektrovend', 'Glass', 'Glassdoor Best places', 'GlaxoSmith', 'Glendale', 'Glenn', 'Glenn Murphy', 'Glenview', 'Global', 'Global Business Advisor', 'Global Center', 'Global Headquarters opened', 'Global Holdings', 'Global Housing', 'Global Inc', 'Global Information Solutions', 'Global Lifestyle', 'Global Market Intelligence', 'Global Markets', 'Global Payments Inc', 'Global Platts', 'Global Preneed', 'Global Ratings', 'Global Select Market', 'Global Tower Partners', 'Global and', 'Global as', 'Global for', 'GlobalFoundries', 'Globex trading', 'Glucerna', 'GoDaddy', 'GoTo', 'Gold', 'Gold Medal flour', 'Golden Arches logo', 'Golden Valley', 'Goldman Sachs Bank', 'Goldman Sachs have', 'Goldman Sachs suffered', 'Goldman Sachs was', 'Goldman employees', 'Goodfellow Dry Goods', 'Goodlettsville', 'Google', 'Google Cloud', 'Google and', 'Google executive', 'Google has', 'Gordon Moore', \"Gordon's\", 'Gorilla Glass', 'Gotham Bank of', 'Goulds Pumps', 'Governor of', 'Governors of', 'Grace Catalysts Technologies', 'Grace Empire', 'Grace Materials and', 'Grace and', 'Grace currently', 'Grace is', 'Graco', 'GrafTech', 'Graham Holdings Company', 'Grainger', 'Grainger serves', 'Grand', 'Grand Prairie', 'Grand Theft Auto', 'Grand derived', 'Graphic Packaging International', 'Great Depression', 'Great Lent', 'Great Plains Energy', 'Great Plains Natural', 'Great Plains regions', 'Great Street to', 'Greater Atlanta metropolitan', 'Greater China markets', 'Greater Cleveland', 'Greater Houston area', 'Greater Manchester', 'Greater Orlando', 'Greater St', 'Greater Washington', 'Greece', 'Greek goddess', 'Greek word', 'Greeley', 'Green & Black', 'Green Bay', 'Green Brier Tennessee', 'Green Building Council', 'Green Mountain Energy', 'Green Realty Corp', 'Greensboro', 'Greenville Steel Car', 'Greenwich', 'Greg Horrigan', 'Gregory', 'Gresham', 'Gro Company is', 'Grooming', 'Group', 'Group Corp', 'Group Inc', 'Group Incorporated is', 'Group Retirement', 'Group acquired', 'Group agreed', 'Group also', 'Group business', 'Group from', 'Group has', 'Group in', 'Group is', 'Group offers', 'Group was', 'Group would', 'Growing steadily', 'Growth Properties', 'Growth Stock Index', 'Grubhub Inc', 'Grupo Big in', 'Gtech', 'Gtech Corporation', 'Gtech managed', 'Guam', 'Guam and', 'Guangzhou', 'Guarantee Company', 'Guarantee Company became', 'Guidewire', 'Guidewire Software Inc', 'Guitar Hero', 'Gulf Coast', 'Gulf Coast ports', 'Gulf Intracoastal Waterway', 'Gulf Power Company', 'Gulf Region', 'Gulf of', 'Gulfstream Aerospace', 'Guy Carpenter', 'Guyana & Suriname', 'Gwinnett County', 'HMSHost', 'Haas Jr', 'Haas assumed', 'Haas referred', 'Haas to', 'Hackensack', 'Hackney', 'Halliburton Company is', 'Halliburton announced', 'Halliburton has', 'Halliburton on', \"Halliburton's\", 'Halls', 'Halter Marine', 'Hamilton', \"Hamm's\", 'Hampton Roads at', 'Hampton by', 'Hanes', 'Hanes Hosiery', 'Hanesbrands Inc', 'Hanesbrands owns', 'Hanrahan and', \"Hansen's\", 'Hardware & Home', 'Hare', 'Harold', 'Harold Geneen', 'Harold Hamm in', 'Harold McMaster', 'Harold Stanley', \"Harrah's\", 'Harris', 'Harris Corporation on', 'Harris Technologies', 'Harrison', 'Harry Rosenthal in', 'Harry Stonecipher', 'Hartford', 'Hartford city', 'Hartree Partners', 'Harvard Business School', 'Harvard College students', 'Harvard students', 'Harvey Hubbell as', 'Harvoni and', 'Hasbro', 'Hasbro owns', 'Hassenfeld Brothers', 'Hastings abandoned', 'Hatfield', 'Hato Rey', 'Hauppauge', \"Hawai'i\", \"Hawai'is\", 'Hawaii', 'Hawaii Corporation', 'Hawaii has', 'Hawaii residents', \"Hawaii's\", 'Hawaiian Electric Company', 'Hawaiian Electric Industries', 'Hawaiian-based', 'Hawker and', 'Hayes is', 'He began', 'He designed', 'He founded', 'He has', 'He joined', 'He served', 'Head Chairman and', 'Headquartered and', 'Headquartered in', 'Headquarters in', 'Headquarters is', 'Health', 'Health & Science', 'Health Care', 'Health Plan Arizona', 'Health Plans', 'Health Sciences is', 'Health and', 'Health in', \"Health's\", 'HealthSouth', 'Healthcare Property Investors', 'Healthcare is', 'Healthpeak Properties', 'Healthpeak Properties and', 'Healthpeak is', 'Hearthstone', 'Heartland', 'Heartland Homes brands', 'Heatcraft', 'Heatcraft Refrigeration and', 'Heatcraft umbrella', 'Hellman & Friedman', 'Helmerich & Payne', 'Helsinki Stock Exchange', 'Helzberg Diamonds', 'Hendrick Motorsports car', 'Henrico County', 'Henry', 'Henry Baldwin Hyde', 'Henry Foster', 'Henry Paulson', 'Henry Schein Inc', 'Henry Schein has', 'Henry Singleton and', 'Henry Sturgis Morgan', 'Her last', 'Herald Square', 'Herald Square estimates', 'Herald Square in', 'Herald Square is', 'Herb Kelleher as', 'Herbalife', 'Herbalife Nutrition is', 'Herbalife agreed', 'Herbalife operates', 'Herbalife products', 'Herbalife stock', 'Herbert Irving', 'Herberts Gmbh', 'Hercules', 'Hercules Composites Products', 'Heritage Plaza building', 'Herman', 'Hermes Growth Partners', 'Hernando', 'Heroes of', 'Hershey Foods', 'Hertfordshire', 'Herzog currently', 'Hess', 'Hess Corporation', 'Hess Energy Trading', 'Hess Oil and', 'Hess also', 'Hess completed', 'Hess sold', 'Hess succeed', 'Hewlett Packard Enterprise', 'Hewlett-Packard', 'Hexcel Corporation is', 'Hexcel was', 'Hexcel works', 'Hickory', 'Hidden Valley', 'High Moon Studios', 'High West Whiskey', 'Highlands Ranch', 'Hilden', 'Hill', 'Hill City', 'Hill Companies', 'Hill Financial', 'Hillsboro', 'Hillshire Farm', 'Hilo in', 'Hilton', 'Hilton Garden Inn', 'Hilton Grand Vacations', 'Hilton Hotels', 'Hilton Hotels & Resorts', 'Hilton Hotels Corporation', 'Hilton Hotels are', 'Hilton Inc', 'Hilton Worldwide', 'Hilton Worldwide Holdings', 'Hilton again', 'Hilton common', 'Hilton from', 'Hilton has', 'Hilton is', 'Hilton was', \"Hilton's\", 'Himawari', 'Hinge and', 'His son', 'Historically', 'History', 'Hobby Lobby', 'Hoechst Celanese', 'Hoffmann-La', 'Holden', 'Holding Corporation', 'Holdings', 'Holdings Inc', 'Holdings Inc trading', 'Holdings Ltd is', 'Holdings is', 'HollyFrontier', 'Holmes', 'HoloLens', 'Hologic', 'Holt & Knupps', 'Home', 'Home Care', 'Home Depot', 'Home Depot announced', 'Home Depot stock', 'HomeAway', 'HomeGoods', 'HomeLink', 'HomePod', 'HomeSense', 'HomeTeam', 'Homegrown', 'Homewood Suites by', 'Hong Kong', 'Honolulu', 'Honor', 'Hoofddorp', 'Hoops', 'Hoover Universal', 'Hopewell Township and', 'Horizon Air', 'Horsham', 'Horton', 'Horton operates', 'Hospital', 'Hospitality', 'Host Hotels & Resorts', 'Host International Company', 'Host Marriot Services', 'Host Marriott', 'Hot Wheels', 'Hotel Company to', 'Hotel Impossible', 'Hotels', 'Hotwire', 'Houdaille Industries', 'House of', 'Houston', 'Houston and', 'Houston area', 'Hovensa', 'Howard', 'Howard Hughes', 'Howard Schultz announced', 'Howard Schultz retired', 'However', 'Huawei', 'Hub Group', 'Hubbell', 'Hubbell Inc', 'Hubbell Inc is', 'Hubbell Incorporated designs', 'Hubbell was', 'Hubert Joly is', 'Hudson Company in', 'Hudson Pacific Properties', 'Hudson Valley Holding', \"Hudson's\", 'Hughes', 'Hughes Network Systems', 'Hughes Supply in', 'Hughes Supply was', 'Humalog', 'Human Capital Management', 'Human Services investigated', 'Humana Inc', 'Humana for', 'Humana had', 'Humana in', 'Humulin', 'Hungary', 'Hunt Transport Services', 'Hunt Transport began', 'Hunt Valley', 'Hunt had', 'Hunt primarily', 'Hunt was', \"Hunt's\", 'Huntington Bancshares Incorporated', 'Huntington Ingalls Industries', 'Huntsman Corporation had', 'Huntsman Corporation is', 'Huntsman manufactures', 'Hurley International and', 'Hurricane Katrina and', 'Hurricane Sandy', 'Hybridon', 'Hydroxybutyric acid', 'Hygiene', 'Hype Cycles and', 'IBMers', 'IBMers are', 'IBMers is', 'IEnova', 'ISPs to', 'Ian Wright', 'Iberdrola', 'Icahn holding', 'Icahn were', 'Iceland Stock Exchange', 'Idaho', 'Ignite cybersecurity', 'Ignition Partners', 'Igor Samartsev', 'Illinois', 'Illinois River', 'Illinois Tool Works', 'Illinois and', 'Illinois from', 'Illinois producing', 'Illinois that', 'Illinois which', 'Impella', 'Improvement division', 'In April', 'In Asia', 'In August', 'In Canada', 'In December', 'In February', 'In German-speaking', 'In Greater China', 'In January', 'In July', 'In June', 'In March', 'In May', 'In November', 'In October', 'In Pennsylvania', 'In September', 'In Slavic Eastern', \"In Southern's\", 'In a', 'In addition', 'In an', 'In commercial', 'In connection', 'In early', 'In electrical', 'In fact', 'In fiscal', 'In historically', 'In its', 'In late', 'In meteorology', 'In narrow', 'In negotiations', 'In particular', 'In recent', 'In response', 'In summer', 'In terms', 'In the', \"In's\", 'In-Sight', 'Inc', 'Inc is', 'Inc to', 'Including two', 'Incorporated', 'Incorporated in', 'Incorporated is', 'Incorporated of', 'Incyte Corp is', 'Incyte has', \"Incyte's\", 'Independent Public Offering', 'Index', 'Index and', 'Index by', 'Index in', 'Index not', 'Index since', 'Indexed on', 'Indexes', 'India', 'India and', 'India-based', 'Indiana', 'Indiana Michigan Power', 'Indiana and', 'Indiana counties', 'Indiana headquartered', 'Indiana in', 'Indianapolis', 'Inditex Group and', 'Individual Retirement', 'Indonesia and', 'Industrial Business Indicator', 'Industrial Direct Co', 'Industrial Imaging', 'Industrial Process', 'Industrial Specialties', 'Industrial Supply', 'Industrial Supply Co', 'Industrial Technology', 'Industrial brands', 'Industrials Group', 'Industries', 'Industries served', 'Infineon is', 'Infinity Ward', 'Infra-Metals', 'Infrastructure & Advanced', 'Infrastructure as', 'Ingalls Shipbuilding and', 'Ingalls shipbuilding', 'Ingersoll Rand Plc', 'Ingersoll-Rand', 'Ingersoll-Sergeant', 'Ingredion Incorporated', 'Ingrezza', 'Inheritation of', 'Initial Public Offering', 'Initially', 'Innovation', 'Innovation four', 'Insignia brands', 'Instant Ocean', 'Instead', 'Institutional Markets', 'Institutional Shareholder Services', 'Insurance Associates', 'Insurance Company', 'Insurance Company markets', 'Insurance or', 'Insurance-Domestic', 'Insurance-International', 'Integrated Capacity Solutions', 'Integrated Research & Development', 'Integrys Energy Group', 'Intel', 'Intel Array Building', 'Intel Corporation', 'Intel Corporation was', 'Intel also', 'Intel and', 'Intel became', 'Intel hosts', 'Intel in', 'Intel invested', 'Intel is', 'Intel ranked', 'Intel supplies', 'Intel together', 'Intel was', 'Interactive Brokers', 'Interactive Brokers Group', 'Interactive Brokers became', 'Interactive Software', 'Interactive and', 'Interbank', \"Interbrand's\", 'Intercontinental', 'Intercontinental Exchange', 'Interflex', 'Interim Armored Vehicle', 'Interim Chief Executive', 'Intermediate', 'Intermix', 'Intermodal', 'Intermountain Gas Company', 'International', 'International Business Machines', 'International Comfort Products', 'International Drilling', 'International Fact-Checking', 'International Flavors & Fragrances', 'International Game Technology', 'International Inc', 'International Ltd', 'International Railway Systems', 'International Telephone & Telegraph', 'International and', 'International field', 'International is', 'International segments', 'Internationally', 'Internet', 'Internet Explorer and', 'Internet Protocol', 'Internet connectivity', 'Internet domain', 'Internet of', 'Internet search', 'Internet services', \"Internet's\", 'Interstate Power and', 'Interviewing investor', 'Intuit', 'Intuit Inc', 'Intuit completed', 'Intuit is', 'Intuit produces', 'Intuitive Surgical Inc', 'Inventions by', 'Invesco', 'Invesco Ltd', 'Invesco Perpetual', 'Invesco operates', 'Investment Banking business', 'Investment Co', 'Investment Company supports', 'Investment Management business', 'Investments Company', 'Investor', 'Investors Service', 'Ionis', 'Ionis Pharmaceuticals', 'Iowa', 'Ipsen worldwide', 'Iraq War', 'Iraq and', 'Ireland', 'Ireland and', 'Ireland for', 'Ireland from', 'Ireland is', 'Ireland since', 'Ireland that', 'Ireland to', 'Ireland with', 'Ireland-based', 'Irish', 'Irish Revenue Commissioners', 'Irish corporate', 'Irish low', 'Irish-domiciled', 'Irvine', 'Irving', 'Irving Langmuir', 'Isis', 'Isis Pharmaceuticals until', 'Isis changed', 'Isis terminated', 'Islamic State of', 'Israel', 'Israel and', 'It also', 'It became', 'It began', 'It caught', 'It changed', 'It claims', 'It competes', 'It completed', 'It comprises', 'It consists', 'It contracts', 'It currently', 'It debuted', 'It derives', 'It designs', 'It develops', 'It discovered', 'It does', 'It employs', 'It enables', 'It eventually', 'It exited', 'It facilitates', 'It featured', 'It focuses', 'It gained', 'It generates', 'It grew', 'It has', 'It helped', 'It is', 'It later', 'It mainly', 'It maintains', 'It may', 'It offers', 'It operates', 'It originally', 'It originated', 'It owned', 'It owns', 'It provides', 'It publishes', 'It ranked', 'It ranks', 'It received', 'It receives', 'It researches', 'It rose', 'It screens', 'It serves', 'It sold', 'It specializes', 'It split', 'It suffered', 'It then', 'It trades', 'It was', 'It works', 'Italia', 'Italian gambling', 'Italian immigrants', 'Italian language', 'Italy', 'Italy Mario Monti', 'Its', 'Its Canada offices', 'Its European headquarters', 'Its French subsidiary', 'Its Michael Foods', 'Its Post Consumer', 'Its President and', 'Its acquisition', 'Its active', 'Its banking', 'Its best', 'Its brand', 'Its business', 'Its businesses', 'Its capabilities', 'Its client', 'Its commercial', 'Its common', 'Its communications', 'Its construction', 'Its consumer', 'Its core', 'Its corporate', 'Its current', 'Its customers', 'Its electric', 'Its fiscal', 'Its flagship', 'Its four', 'Its generation', 'Its head', 'Its headquarters', 'Its insurance', 'Its largest', 'Its most', 'Its name', 'Its nature', 'Its non', 'Its online', 'Its operating', 'Its operations', 'Its phosphorescent', 'Its pipeline', 'Its platforms', 'Its portfolio', 'Its primary', 'Its principal', 'Its products', 'Its resorts', 'Its shares', 'Its stock', 'Its stores', 'Its subsidiaries', 'Its ten', 'Its underwriting', 'Its wealth', 'Its websites', 'Its worldwide', 'Ivanka Trump sat', 'Ivanka Trump served', 'Ivar Giaever', 'Ivor Ichikowitz', 'Ivy League schools', 'JPMorgan Chase', 'JPMorgan Chase & Co', 'JPMorgan Chase Bank', 'JPMorgan Chase in', 'JPMorgan Chase is', 'JProtect security', 'Jabber and', 'Jabil Inc', 'Jabil has', 'Jack Calhoun became', 'Jack Dorsey', 'Jack Dorsey and', 'Jack Green and', 'Jack Henry & Associates', 'Jack Kilby invented', 'Jackson', 'Jackson and', 'Jackson as', 'Jacksonville', 'Jacobs', 'Jacobs Engineering Group', 'Jacobs Engineering was', 'Jacobs Technology Inc', 'Jacobs acquired', 'Jacobs agreed', 'Jacobs had', 'Jacobs would', 'Jakafi', 'James', 'James Cracchiolo is', 'James Gamble', 'James Hughes July', 'James Luther Turner', 'James Wheeler in', 'JanSport', 'January', 'Japan', 'Japan and', 'Japanese', 'Japanese telecommunications', 'Jarden Corporation', 'Jarden is', 'Jasper', 'Jayco', 'Jazz Pharmaceuticals', 'Jazz Pharmaceuticals plc', 'Jeff Fettig is', 'Jeff Gordon and', 'Jeff Miller was', 'Jefferies Financial Group', 'Jeffrey', 'Jeremy Male', 'Jersey City', 'Jersey-domiciled', 'Jessica Graziano', 'JetBlue', 'Jiefang', 'Jim McKelvey', 'Jimmy Dean', 'Jira', 'Jo-Ann', 'Jobs and', 'Jobs back', 'Jobs died', 'Jobs pensively', 'Jobs renamed', 'Jobs resigned', 'Joe', 'Joe Bob Perkins', 'Joe Carlson wrote', 'Joe Kiani', 'Joe Mansueto founded', 'John', 'John Bean in', 'John Crane seals', 'John Deere is', 'John Jack Schiff', 'John Middleton', 'John Moody in', 'John Reese praised', 'John Simon Fluor', 'John Stith Pemberton', 'John Swanson', 'John Tamberlane', 'John Walker', 'Johnnie Bryan Hunt', 'Johnson & Johnson', \"Johnson Control's\", 'Johnson Controls International', 'Johnson Controls at', 'Johnson Controls had', 'Johnson Controls in', 'Johnson Controls with', 'Johnson assumed', \"Johnson's\", 'Joint Development Area', 'Jon Vander Ark', 'Jonas Salk', 'Jony Ive', 'Joseph', 'Joss & Main', 'Journal', 'Journal reported', 'Juarez', 'Jubilee oil', 'Judy Wicks', 'Julie Sweet as', 'July', 'July fireworks', 'July of', 'Jun Ying', 'June', 'Jungle', 'Juniper Networks', 'Juniper Networks originally', 'Juniper appointed', 'Juniper entered', 'Juniper grew', 'Juniper has', \"Juniper's\", 'Just Do It', 'Just My Size', 'Justice', 'Justice Department', 'Justice mandated', 'Juvederm', 'Kailua-Kona', 'Kaiserslautern near', 'Kalamazoo and', 'Kansas', 'Kansas City', 'Kansas City Power', 'Kansas and', 'Kate Spade New', 'Katharine Weymouth were', 'Kauai Island Utility', 'Kauai is', 'Kayak', 'KeepStock', 'Keith', 'Keith Krach was', 'Keith Oden', \"Kellogg's\", 'Ken and', 'Kennametal for', 'Kennedy International Airport', 'Kenner', 'Kenneth Volk Jr', 'Kenneth Woolley', 'Kenosha', 'Kentucky', 'Kentucky Power', 'Kenworth', 'Kerkorian was', 'Keurig Dr Pepper', 'Keurig Green Mountain', 'Kevin Gorman', 'Kevin Johnson', 'Kevin Johnson as', 'Keysight', 'Keystone', 'Keystone Insurance and', 'Keytruda', 'Khosla Ventures', 'Kiani was', 'Kids Foot Locker', 'Kim Crawford', 'Kimco Realty Corporation', 'Kinder Morgan', 'Kinder Morgan also', 'Kinder Morgan is', 'Kinder Morgan owns', 'King', 'King of', 'Kingsford', 'Kinney Shoes and', 'Kirby', 'Kirby Corporation', 'Kirby Inland Marine', 'Kirby also', 'Kirby include', 'Kirby is', 'Kirby operates', \"Kirby's\", 'Kirk Kerkorian and', 'Kirkland', 'Kitchen Bouquet', 'Klaus Kleinfeld citing', 'Klaus Kleinfeld resigned', 'Kline', 'Kline announced', 'Kline head', 'Kmart', 'Knauf', 'Knife River Corporation', 'Knight-Swift', 'Known originally', 'Koch Industries natural', 'Kohl Family', \"Kohl's\", 'Kohlberg Kravis Roberts', 'Konica Minolta', 'Kool Seal', 'Koppel', 'Korea', 'Korean', 'Koreatown', 'Kosmos Energy is', 'Kosmos has', 'Kosmos was', 'Kowlzan', 'Kraft Foods Inc', 'Kraft Foods employees', 'Kraft Heinz Company', 'Krazy Glue', 'Kriens has', 'Kroger', 'Kroger is', 'Kroger operates', \"Kroger's\", 'Kroger-branded', 'Krylon', 'Kuala Lumpur', 'Kummeth', 'Kuvan for', 'Kwikset', 'Kysor', 'La Boulange pastries', 'LabCorp', 'Label Switching', 'Label and', 'Labor had', 'Laboratories', 'Laboratory Corporation of', 'Labs', 'Lacerte', 'Lacta', 'Lady Foot Locker', 'Lafley', 'Lake Forest', 'Lake of', 'Lam Research Corporation', 'Lam Research was', 'Lam and', 'Lamb Weston Holdings', \"Lambert's\", 'Lancaster', 'Landmark Software & Services', 'Landstar System', 'Landstar provides', 'Large Companies', 'Large cataracts', 'Largest Banks with', 'Largest Companies', 'Larkin', 'Las Vegas', 'Las Vegas Sands', 'Las Vegas Strip', 'Las Vegas twice', 'Latency', 'Later', 'Later acquisitions', 'Latin America', 'Latin America and', 'Latin for', 'Latin word', 'Latisse', 'Laukien Prize', 'Laurel', 'Lauren Ralph Lauren', 'Law about', 'Lawrence', 'Lazard', 'Lazard Fr', 'Lazard was', 'Lazy Pet', 'Leadership in', 'League', 'Lear Corporation was', 'Lear announced', 'Lear grew', 'Lease Rent Options', 'Leases', 'Leawood', 'Lee Partners in', 'Leeson', 'Legal Information Institute', 'Legal issues', 'Legality of', 'Legg & Co', 'Legg Mason & Co', 'Legg Mason in', 'Legg Mason is', 'Legg Mason offers', 'Legg Mason operates', 'Legg Mason serves', 'Leggett & Platt', 'Lehigh Valley Hospital', 'Lehigh Valley region', \"Lehigh Valley's\", 'Leisure Properties', 'Lenexa', 'Lennan Companies', 'Lennan Companies ranked', \"Lennan's\", 'Lennox Industries was', 'Lennox International Inc', 'Lennox International is', 'Lennox Kitty Track', 'Lennox also', 'Lennox dabbled', 'Lennox has', 'Lennox purchased', 'Lenovo', 'Lenovo in', 'Lent', 'Lenten celebrations', 'Leon Hess', 'Leonard', 'Leonard Bosack and', 'Lepidoptera', 'Leroy Merlin', 'Less', 'Less than', 'Levant', 'Levi Strauss & Co', \"Levi's\", 'Lewis', 'Lewis Cantley', 'Lexar between', 'Lexington', 'Lexington from', 'Lexmark in', 'Leyland Trucks and', 'Liberty Global', 'Liberty Interactive', 'Liberty Property Trust', 'Libre', 'Libya and', 'Liebovich', 'Life', 'Life & Retirement', 'Life Insurance Company', 'Life Science', 'Life Sciences', 'Life Sciences Award', 'Life Storage', 'Life Storage is', 'Life Technologies Corporation', 'Life and', 'LifeStorage', 'Liffe futures', 'LiftFan', 'Light', 'Light Company', 'Lighter Aboard Ship', 'Lighter sabres', 'Lightning', 'Lihue on', 'Like all', 'Like many', 'Like several', 'Liletta', 'Lilly is', \"Lilly's\", 'Lilyhammer', 'Limited', 'Limited Brands', 'Limited acquired', 'Lincoln Electric Holdings', 'Lincoln Electric by', \"Lincoln Electric's\", 'Lincoln Financial Field', 'Lincoln Financial Group', 'Lincoln National Corporation', 'Lincoln has', 'Lincoln with', 'Lincolnshire', 'Linde in', 'Line is', 'Link Motor Supply', 'Link planned', 'Link the', 'LinkedIn', 'Linsco', 'Linux', 'Linux-based', 'Linzess', 'Lipitor', 'Liquid-Plumr', 'List', 'List of', 'Littelfuse', 'Littelfuse has', 'Littelfuse is', 'Little Falls', 'Little Italy', 'Little Rock', 'Live', 'Live Nation Entertainment', 'Live Nation and', 'Livestock', 'Livin Lite', 'Livonia', \"Lloyd's\", 'Lo Loestrin Fe', 'LoRa', 'Loan', 'Loan Program', 'Located in', 'Lock Inc', 'Lock is', 'Lock name', 'Lockhart said', 'Lockheed Corporation in', 'Lockheed Corporation to', 'Lockheed Corporation with', 'Lockheed Martin', 'Lockheed Martin Corporation', 'Lockheed Martin employs', 'Lockheed Martin is', 'Lockheed Martin operates', \"Lockheed Martin's\", 'Loews Corporation', 'Loews Corporation is', 'Loews Hotels and', 'Loews has', 'Loews spent', 'LogMe', 'Logic Pro', 'Logistics', 'London', 'London Stock Exchange', 'London and', 'Long & Foster', 'Long Beach', 'Long Island City', 'Long John Silver', 'Long Lines Program', 'Long Lines microwave', 'Long Lines sites', 'Long term', 'Long-term', 'LongHorn', 'Longview', 'Loom', 'LoopNet', 'Los Angeles', 'Los Angeles-based', 'Los Angeles-class', 'Los Gatos', 'Lottomatica', 'Lottomatica acquired', 'Louis', 'Louis and', 'Louis community', 'Louis within', 'Louise Moorhouse', 'Louisiana', 'Louisiana Tech', 'Louisiana and', 'Louisiana that', 'Louisville', 'Low', \"Lowe's\", 'Lowell', 'Lower Manhattan with', 'Loyalty Program for', 'Ltd', 'Lubrizol', 'Lucas', 'Lucasfilm', 'Lucent Technologies from', 'Lucky Charms', \"Luke's\", 'Lululemon Athletica inc', 'Lululemon has', 'Luxembourg-based', 'Lycoming Engines', 'Lyft', 'Lyft did', 'Lyft drivers', 'Lyft is', 'Lyft mobile', 'Lynchburg', 'Lynchburg and', 'Lynx Therapeutics working', 'Lyon', 'Lyondell Chemical Company', 'Lyondell was', 'LyondellBasell', 'Lyrica', 'Ma Bell', 'Mac App Store', 'Mac Tools and', 'Mac in', 'Mac personal', 'Macao', 'Macau', 'Macau resort', 'Mace Siegel and', 'Macerich is', 'Machines Corporation', 'Macintosh in', 'Macon', 'Macquarie Group Limited', 'Macquarie Infrastructure Corporation', 'Macquarie Infrastructure Management', 'Macy & Co', \"Macy's\", 'Madden', 'Madison', 'Madison Avenue', 'Madison Avenue in', 'Madison Square', 'Madison Square Garden', 'Madrid and', 'Magic Quadrants for', 'Magnificent Mile as', 'Magnolia Audio Video', 'Magog', 'Maidenform', 'Maine', 'Maintenance Warehouse changed', 'Maintenance Warehouse in', 'Maintenance Warehouse with', 'Major League Gaming', 'Malartic gold', 'Malaysia', 'Malaysia and', 'Malone', 'Management', 'Management Company is', 'Management consulting', 'Management owned', 'Management retain', 'Managing nearly', 'Manchester', 'Mandalay Bay', 'Mandiant', 'Manhattan', 'Manhattan Beach', 'Manhattan Project', 'Manhattan Supply Company', 'Manhattan borough', 'Manhattan landmarks', \"Manhattan's\", 'Manpower', 'Manpower Inc', 'ManpowerGroup', 'Mantis Van Sweringen', 'Manufacturers of', 'Manufacturing Company', 'Many critics', 'Many of', 'Many specialized', 'Many stores', 'Many stories', 'Many subsidiaries', 'Maplewood', 'Mar Cor Purification', 'Marabou', 'Marathon Electric Motor', 'Marathon Oil', 'Marathon Oil Corporation', 'Marathon Oil Tower', 'Marathon Oil is', 'Marathon Oil until', 'Marathon Petroleum', 'Marathon Petroleum Corporation', 'Marathon Petroleum became', 'Marathon Petroleum ranked', 'Marc Randolph in', 'Marc Tarpenning', 'Marcellus Formation', 'Marcellus Shale', 'Marcellus Shale and', 'Marcellus and', 'Marcelo Claure', 'March', 'Marco Island', 'Mardi Gras', 'Margo Georgiadis as', 'Margolis has', 'Marina Bay Sands', 'Marine', 'Marineland', 'Mark', 'Mark Hughes in', 'Mark Steven', 'Mark West', 'Mark Widmar', 'Mark Zuckerberg', 'Marka Hansen', 'Markel Corporation is', 'Markel reports', 'Market Research Firms', 'Market under', 'Market with', 'MarketAxess', 'Marketing Specialists', 'Markit Ltd', 'Markit Ltd is', 'Marlboro', 'Marlboro cigarettes', 'Marquette Building in', 'Marriot divided', 'Marriott', 'Marriott Corporation in', 'Marriott International is', 'Marriott was', 'Marsh', 'Marsh & Mc', \"Marshall Field's\", 'Marshalls', 'Marshalltown', 'Martin Company and', 'Martin Eberhard and', 'Martin Marietta in', 'Martin from', \"Martin's\", 'Marvel Studios', 'Mary Land & Exploration', 'Maryland', 'Maryland Corporation and', 'Maryland and', 'Maryland in', 'Maryland with', 'Marys', 'Marysville', 'Masco Corporation is', 'Masco conglomerate', 'Masco employed', 'Masco had', 'Masimo', 'Masimo has', 'Masimo invented', 'Masimo is', 'Masimo to', 'Masimo was', 'Maslenitsa is', 'Mason & Co', 'Mass Effect', 'Massachusetts', 'Massachusetts and', 'Massachusetts in', 'Master Charge', 'Master Lock', 'MasterBrand', 'MasterCard', 'Mastercard', 'Mastercard Incorporated', 'Mastercard International Global', 'Mastercard Worldwide has', 'Mastercard Worldwide was', 'Masterpiece', 'Masters of', 'Mat Sheathing', 'Matariki Forestry Group', 'Match', 'Match Group', 'Match Group is', 'Matchbox', 'Matco', 'Materials Company', 'Materials Company of', 'Materials Technologies business', 'Mathieson Alkali Works', 'Matrix Laboratories Limited', 'Matson and', 'Matt', 'Matt Wallach', 'Mattel', 'Mattel is', 'Mattel named', 'Mattel on', 'Mattel produced', 'Matthew Flannery', 'Matthew Maddox', 'Maui', 'Maui Electric Company', 'Maurice McDonald', 'Mauritania and', 'Mauritius', 'Max and', 'Maxim Integrated develops', 'Maxim Integrated is', 'Maxim is', 'Maxim was', 'Maxwell Kohl', 'Maxx', 'May', 'May and', 'Maya are', 'Mayer movie', 'Mayfield Heights', 'Mayfield Village', 'Maytag', 'McCann', 'McCormick', 'McDermott', 'McDonald', 'McDonnell', 'McGee', 'McGraw', 'McLean', 'Medal of', 'Media and', 'Mediabrands', 'Medicaid', 'Medicaid Drug Rebate', 'Medicaid and', 'Medicaid products', 'Medical', 'Medical Group', 'Medical Office', 'Medical Products', 'Medical Products business', 'Medical Properties Trust', 'Medical Segment of', 'Medical and', 'Medical has', \"Medical's\", 'Medicare', 'Medicare Advantage and', 'Medicare Prescription Drug', 'Medicare and', 'Medicare for', 'Medicare recipients', 'Medtronic acquired', 'Medtronic has', 'Medtronic operates', 'Medtronic plc', 'Medtronic to', 'Megapack batteries', 'Mehta ruled', 'Meiomi', 'Melbourne', 'Melodygrams', 'Melville', 'Melville Corporation', 'Melville in', 'Melville office', 'Membership was', 'Memorial Sloan Kettering', 'Memphis', 'Memphis suburb', 'Menards', 'Menlo Park', 'Menomonee Falls', 'Mercer', 'Merchandising Technology', 'Merck', 'Merck Group', \"Merck's\", 'Mergent Handbook of', 'Meridian Health Plan', 'Merriam', 'Merrill Lynch', 'Merrill Lynch Wealth', 'Merrill Lynch for', 'Merritt', 'Merry Maids', \"Mervyn's\", 'Mesa', 'Message', 'Met inhibitor', 'MetLife', 'Metals', 'Methodists', 'Metro by', 'Metro-Goldwyn', 'Mexicali', 'Mexicali and', 'Mexican market', 'Mexico', 'Mexico and', 'Mexico in', 'MiWi', 'Miami', 'Miami-Dade', 'Michael', 'Michael Byrne', 'Michael Kors', 'Michael Kors Holdings', 'Michael Kors had', 'Michael Kors handbags', 'Michael Roth is', 'Michael Xie', 'Michaels Stores brand', 'Michaels competitors', 'Michaels flagship', 'Michel Combes replaced', 'Michelle Wine Estates', 'Michigan', 'Michigan Gas Utilities', 'Michigan Street in', 'Michigan and', \"Michigan's\", 'Michigan-based', 'Mickey Mouse', 'Micro Devices', 'Micro Focus', 'Microchip Technology', 'Microchip Technology Inc', 'Micron', 'Micron Technology', 'Micron and', 'Micronauts', 'Microsoft', 'Microsoft Azure', 'Microsoft Corporation is', 'Microsoft Mobile through', 'Microsoft Office', 'Microsoft Surface line', 'Microsoft Surface lineup', 'Microsoft Windows', 'Microsoft Windows line', 'Microsoft Windows on', 'Microsoft acquiring', 'Microsoft came', 'Microsoft employees', 'Microsoft for', 'Microsoft is', 'Microsoft operating', 'Microsoft reached', 'Microsoft surpassed', 'Microsoft was', \"Microsoft's\", 'Mid', 'Mid-America', 'Mid-Atlantic', 'Mid-Continent', 'MidCap', 'Middle East', 'Middle East and', 'Middle Tennessee', 'Middleby Corp', 'Middleby does', 'Midland', 'Midland Basin', 'Midland Company', 'Midstream Company', 'Midtown Atlanta near', 'Midtown Manhattan', 'Midtown Manhattan between', 'Midwest', 'Midwest United States', 'Midwest and', 'Midwestern United States', 'Midwestern and', 'Mike Petters is', 'Milestone Group', 'Milford', 'Military Services Group', 'Milka', 'Millard Drexler', 'Millard Drexler in', 'Millburn', 'Millefiori Milano and', 'Milling', 'Million from', 'Milpitas', 'Milton Bradley', 'Milton Park', 'Milwaukee', 'Milwaukee Bucks', 'Milwaukee suburb', 'Mimpara', 'Min Kao in', 'Minn', 'Minneapolis', 'Minneapolis-based', 'Minnesota', 'Minnesota Energy Resources', 'Minnesota Mining and', 'Minnesota and', 'Minnesota in', 'Minnesota or', 'Minnesota until', 'Minnetonka', 'Minogue joined', 'Minogue was', 'MinuteClinic', 'Minwax', 'Miracle', 'Miracle-Gro', 'Mirage', 'Mirage Resorts', 'Mirage Resorts Chairman', 'Mirage amidst', 'Mirage in', 'Mirage to', 'Missile Defense Agency', 'Missile Defense Integration', 'Missiles and', 'Mission Driven Innovative', 'Mission Systems', 'Mission-style', 'Mississauga', 'Mississippi', 'Mississippi River System', 'Mississippi and', 'Mississippi have', 'Missouri', 'Missouri Care', 'Missouri Pacific and', 'Missouri and', \"Missouri's\", 'Mistolin', 'MitraClip', 'Mitsubishi Motors', 'MoBank', 'MoRan', 'Mobil', 'Mobile', 'Mobile and', 'Mobile brands', 'Mobile is', 'Mobile the', 'Mobile through', 'Mobility', 'Model', 'Modelo Especial', 'Modified', \"Moe's\", 'Moen faucets', 'Mogens Bay was', 'Mohamed Diab', 'Mohawk Industries is', 'Mohawk produces', 'Mohawk was', 'Mokulele Airlines', 'Mokulele brand', 'Molecular Biology and', 'Molina Healthcare is', 'Momondo', 'Monclova', 'Mondel', 'Mondelez Canada holds', \"Mondelez International's\", 'Monett', 'Monolithic Power Systems', 'Monongahela Valley', 'Monopoly', 'Monroe', 'Monster Beverage Corporation', 'Monster Beverage in', 'Monster Energy', 'Monster High', 'Monster held', 'Montana', 'Montana-Dakota', 'Monterrey', 'Montr', 'Montreal', \"Moody's\", 'Moore and', 'Moore stores', \"Moore's\", 'Mooresville', 'More powerful', 'More recently', 'More than', 'Morgan', 'Morgan & Co', 'Morgan Chase', 'Morgan Stanley', 'Morgan Stanley Building', 'Morgan Stanley Capital', 'Morgan Stanley Dean', 'Morgan Stanley Real', 'Morgan Stanley is', 'Morgan Stanley ranked', 'Morgan Stanley with', 'Morgan banking', 'Morgan brand', 'Morningstar', 'Morningstar Advisor Workstation', 'Morningstar Direct', 'Morningstar analysts', 'Morningstar as', 'Morningstar in', \"Morningstar's\", 'Morocco and', 'Morrissey as', 'Morrissey had', 'Mortimer', 'Moscow', 'Mosher Steel in', 'Mosher Steel of', 'Most Admired Companies', 'Most Admired Company', 'Most Dollar Tree', 'Most Ethical Companies', 'Most Ethical Company', 'Most Generous Corporations', 'Most Innovative Growth', 'Most Trustworthy Companies', 'Most claims', 'Most jurisdictions', 'Most of', 'Most recently', 'Motion Picture Association', 'Motion Technologies', 'Motorola', 'Motorola Mobility in', 'Motorola Solutions', 'Motto by', 'Mount Dora Farms', 'Mount Milligan', 'Mount Milligan lasts', 'Mountain View', 'Movilcarga', 'Mrs', 'Much of', 'MullenLowe', 'Multi-Chem', 'Multi-Protocol', 'Multiple forms', 'Muncie', 'Murphy Oil Corporation', 'Murphy up', 'Music', 'Musk', 'My Little Pony', 'Myelodysplastic syndromes', 'Mylan', 'Mylan acquired', 'Mylan for', 'Mylan grew', 'Mylan had', 'Mylan settled', 'Mylan went', \"Mylan's\", 'NVHomes and', 'Nabisco', 'Nabors Industries is', 'Nabors owns', 'Nahmad', 'Nahuatl name', 'Namenda', 'Namibia', 'Nanjing in', 'Napa Valley', 'Napoleonic periods', 'Nasdaq', 'Nasdaq Global Select', 'Nasdaq stock', 'Nashville', 'Nashville and', 'Nassetta', 'Natick', 'National Amusements', 'National Bank of', 'National Basketball Association', 'National Cash Register', 'National Entrepreneur of', 'National Football League', 'National Fuel Gas', 'National Fuel Resources', 'National Futures Association', 'National Genetics Institute', 'National Geographic', 'National Harbor', 'National Harbor in', 'National Hardware', 'National Health Laboratory', 'National Hockey League', 'National Instruments Corporation', 'National Medal of', 'National Medals of', 'National Notification Network', 'National Oilwell Varco', 'National Retail Properties', 'National Semiconductor in', 'National Specialty Alloys', 'National line', 'NationsBank', 'Natrelle', 'Natural Vitality', \"Nature's\", 'Navient', 'Navient Corporation', 'Navient employs', 'Navient is', 'Navient services', 'Nearly', 'Nearly all', 'Neartown', 'Nebraska', 'Nebraska and', 'Nebraska with', 'Need for', 'Negra Modelo', 'Nektar', 'Nektar Therapeutics', \"Nelson's\", 'Nemours', 'Neocell', 'Nerf', 'Nestl', 'Nestle', 'Net sales', 'NetJets', 'NetScreen', 'Netflix', 'Netflix Original', 'Netflix announced', 'Netflix entered', 'Netflix expanded', 'Netflix had', 'Netflix has', 'Netflix is', 'Netflix released', 'Netflix services', \"Netflix's\", 'Netherlands', 'Network', 'Network Corporation is', 'Network service', 'Network to', 'Networks', 'Networks Inc', 'Networks International', 'Neuch', 'Neulasta', 'Neurocrine Biosciences is', 'Neurocrine develops', 'Neutrogena skin', 'Nevada', 'Nevada and', 'Nevada that', 'Nevada-based', 'New Britain', 'New Brunswick', 'New England', 'New England in', 'New England region', 'New England states', 'New Era Cap', 'New Hampshire', 'New Hampshire and', 'New Haven', 'New Haven Railroad', 'New Jersey', 'New Jersey Bell', 'New Jersey Jon', 'New Jersey and', 'New Jersey in', 'New Jersey power', 'New Jersey to', \"New Jersey's\", 'New Mexico', 'New Mexico in', 'New Orleans', 'New York', 'New York Central', 'New York City', 'New York Community', 'New York Knicks', 'New York Liberty', 'New York Mercantile', 'New York Metropolitan', 'New York Post', 'New York Rangers', 'New York State', 'New York Stock', 'New York Times', 'New York and', 'New York in', 'New York metropolitan', 'New York stock', 'New York under', \"New York's\", 'New Zealand', 'New lead', 'New-Jersey', 'Newark', 'Newark Energy Center', 'Newell Brands', 'Newell Brands is', 'Newport Beach', 'Newport News Shipbuilding', 'Newport News and', 'Newport News sector', 'News and', 'Newton', 'Nexeo Solutions in', 'NextEra', 'Nextel Communications and', 'Nextel network', 'Nextera Energy is', 'Niagara Falls', 'Nickel Plate Road', 'Nicknamed Big Blue', 'Nielsen', 'Nielsen Holdings Plc', 'Nielsen number', 'Nielsen operates', 'Nigerian officials', 'Nike', 'Nike Bauer', 'Nike Blazers', 'Nike Dunk', 'Nike Golf', 'Nike Pro', 'Nike Skateboarding', 'Nike also', 'Nike brand', 'Nike markets', 'Nike ranked', 'Nike sponsors', 'Nikesh Arora joined', 'Niketown name', 'Nikola Tesla', 'Nilson Report', 'Nintendo', 'Nissan as', 'No single', 'Noah Glass', 'Nobel Prize', 'Nobel Prizes', 'Noble Affiliates', 'Noble Energy', \"Nokia's\", 'None of', 'Nonetheless', 'Nordson Corporation is', 'Nordstrom', 'Nordstrom Inc', 'Nordstrom and', 'Norfolk', 'Norfolk Southern Corporation', 'Norfolk Southern announced', 'Norfolk Southern is', 'Norfolk after', 'Norfolk and', 'Norge appliance', 'Norris who', 'North America', 'North America accounting', 'North America and', 'North America including', 'North America opened', 'North America that', \"North America's\", 'North American Car', 'North American Division', 'North American and', 'North American brands', 'North American consumer', 'North American energy', 'North American fire', 'North American grocery', 'North American market', 'North Bethesda', 'North Carolina', 'North Carolina and', 'North Carolina metropolitan', 'North Carolina site', 'North Carolina that', 'North Carolina which', 'North Carolina-headquartered', 'North Dakota', 'North Dakota and', 'North Face brands', 'North Kansas City', 'North Korea', 'North Reading', 'North Shore Gas', 'North Shore to', 'North and', 'Northbrook since', 'Northeast', 'Northeast Utilities', 'Northeast Utilities had', 'Northeastern United States', 'Northern States Power', 'Northern Trust', 'Northern Trust Corporation', 'Northern Virginia', 'Northern Virginia by', 'Northfield Township', 'Northrop Grumman', 'Northrop Grumman Corporation', 'Northrop Grumman Shipbuilding', 'Northrop Grumman and', 'Northrop Grumman currently', \"Northrop's\", 'Northwest regions', 'NortonLife', 'Norwalk', 'Norway', 'Norwegian', 'Norwegian Cruise Line', 'Norwest Corporation in', 'Norwood', 'Not all', 'Not to', 'Notable examples', 'Notable products', 'Notable properties', 'Nothing Runs Like', 'Nourishing families', 'Novaled', 'Novartis acquired', 'November', 'Novus Biologicals', 'Now', 'Now Alleghany Corporation', 'Noyce having', 'Nplate', 'Nu Skin Enterprises', 'Nu Skin agreed', 'Nu Skin and', 'Nu Skin following', 'Nu Skin over', 'Nu Skin reached', 'Nu Skin was', \"Nu Skin's\", 'Nuance is', 'Nuance merged', 'Nuclear and', 'Nuclear waste', 'Nucor Corporation is', 'Nucor is', 'Nuk', 'Nutanix is', 'Nvidia', 'Nvidia Corporation', 'Nvidia also', 'Nvidia expanded', 'Nvidia has', 'Nvidia have', 'Nvidia is', 'Nvidia provides', 'OEMs to', 'OLEDs and', 'Oahu', 'Oak Brook', 'Oak Park', 'Oakland', 'Oaks', 'Oaktree Capital', 'Oath Inc', 'Occidental Petroleum Corporation', 'Ocean Avenue in', 'Oct', 'October', 'October of', 'Of the', 'Of these', 'Office of', 'OfficeTeam', 'Officer', 'Offices are', 'Often referred', 'Ohana Health Plan', 'Ohio', 'Ohio River and', 'Ohio and', 'Ohio to', 'Oil and', 'OkCupid', 'Oklahoma', 'Oklahoma City', 'Oklahoma City Metropolitan', 'Oklahoma Gas & Electric', 'Oklahoma Natural Gas', 'Oklahoma and', 'Oktas are', 'Olathe', 'Old Dominion Freight', 'Old El Paso', 'Old Navy', 'Old Navy laid', 'Old Republic International', 'Olefins and', \"Olin's\", 'Olive Garden', 'Olive Garden restaurants', 'Oliver Wyman Group', 'Omaha', 'Omaha and', 'Omnicom', 'Omnicom Group Inc', 'Omnicom Group was', 'Omnicom was', \"Omnicom's\", 'On April', 'On August', 'On December', 'On February', 'On January', 'On July', 'On June', 'On March', 'On May', 'On November', 'On October', 'On September', 'On the', 'On-Site', 'Once completely', 'Oncor', 'Oncor Electric Delivery', 'One Hanes Places', 'One Lincoln Street', 'One World Trade', 'One branch', 'One company', 'One month', 'One of', 'One such', 'One which', 'One year', 'One-Oak', 'OneChicago', 'OneMain', 'OneWest', 'Oneworld', 'Oneworld alliance', 'Only', 'Ontario', 'Ontario and', 'Opdivo', 'Open', 'OpenStack', 'OpenTable', 'Operations & Technology', 'Operations Center', 'Operations are', 'Operations outside', 'Optive', 'Optronics', 'Oracle', 'Oracle Corporation is', 'Oracle was', \"Oracle's\", 'Orange', 'Orange and', 'Orbitz', 'Orchard Park', 'Oregon', 'Oregon and', 'Oreo', 'Organized as', 'Origin', 'Originally', 'Originally associated', 'Originally called', 'Originally focused', 'Originally formed', 'Originally headquartered', 'Originally marketed', 'Originally named', 'Orion command', 'Oris and', 'Orkin', 'Orlando', 'Oro', 'Orrville', 'Ortho brands', 'Orthodox nations', 'Ortner Freight Car', 'Osage River', 'Osborn', 'OshKosh', 'Oshkosh', 'Oshkosh Corporation', 'Oshkosh Truck', \"Osisko Mining's\", 'Oster', 'Osterizer', 'Other', 'Other common', 'Other corporate', 'Other divisions', 'Other products', 'Other services', 'Other than', 'Outdoor', 'Outfront Media', 'Outfront Media operates', 'Over', 'Over half', 'Over the', 'Overcast', 'Overland Park', 'Overnite Transportation', 'Overwatch through', 'Owens Corning has', 'Owens Corning is', 'Owens-Illinois', 'Oxford', 'Oxy in', 'Ozark Automotive Distributors', 'Ozark warehouse', 'Ozarks', 'Ozurdex', 'PCs and', 'PEGylation and', 'PICkit for', 'Pa and', 'Pac', 'Pacific Metal', 'Pacific Northwest', 'Pacific Sales', 'Packaging Corporation of', 'Pactiv Corporation on', 'Pad', 'Pad tablet', 'Paints line', 'Palm Beach', 'Palo Alto', 'Palo Alto Networks', 'Palo Alto Research', 'Pampered Chef', 'Pamplona', 'Panama', 'Panama City', 'Panama and', 'Panamanian carrier', 'Panasonic Idemitsu', 'Pancakes', 'Panels', 'PaperMate', 'Parade in', 'Paradise', 'Paramount Group is', 'Paribas', 'Paris', 'Paris and', 'Park', 'Park Avenue', 'Park Hotels & Resorts', 'Parker', 'Parker Appliance Company', 'Parker Brothers', 'Parker Pens', 'Parker employs', 'Parker-Hannifin', \"Parkinson's\", 'Parks or', 'Parsippany', 'Participants often', 'Partners became', 'Partners is', 'Pasadena', 'Pascua Lama', 'Pat Hanrahan and', 'Pathology in', 'Patrick Robinson for', 'Patterson was', 'Patton saber', 'Paul', 'Paul Allen on', 'Paul Lamfrom', 'Paul Pressler as', 'Paul Pressler in', 'Paulsboro in', 'Paulson & Co', 'Pawtucket', 'PayPal', 'PaySpot', 'Paychex', 'Paycom', 'Paycom Software', 'Payment and', 'Pedialyte', 'Pediatrix Medical Group', 'Pediatrix was', 'Pedro Heilbron', 'Peek Freans', 'Pega Infinity suite', 'Pega Platform', 'Pegasystems Inc', 'Pegasystems develops', 'Penn Central Transportation', 'Penn Central and', 'Penn Central railroad', 'Penn National Gaming', 'Penn Plaza', 'Penney', 'Pennsylvania', 'Pennsylvania Lines at', 'Pennsylvania Plaza office', 'Pennsylvania Railroad', 'Pennsylvania Station', 'Pennsylvania and', 'Pennsylvania corporation', 'Pennsylvania opened', 'Pennsylvania that', 'Pennsylvania with', \"Pennsylvania's\", 'Pennzoil Building', 'Penske Automotive Group', 'Pentagon', 'Pentagon awarded', 'Pentair plc', 'Pentair was', \"People's\", 'PeopleSoft', 'Peoples Gas', 'Pep Boys', 'Pepco Holdings in', 'Pepsi to', 'Pepsi-Cola', 'PepsiCo', 'Perfecto', 'Performance Coatings', 'Perigold', 'Perimeter Center edge', 'PerkinElmer', 'Perlman', 'Permian Basin', 'Permian Basin and', 'Perrigo Company plc', 'Perrigo completed', 'Perrigo engages', 'Perrigo is', 'Perrigo suffered', 'Perrigo that', \"Perrigo's\", 'Pershing Square Capital', 'Personal Insurance', 'Personal and', 'Peru', 'Pest Defense', 'Peter', 'Peter Gassner and', 'Peterbilt', 'Peterffy also', 'Petersburg', 'Petratis has', 'Petters previously', 'Pfister', 'Pfizer', 'Pfizer Inc', 'Pfizer and', 'Pfizer announced', 'Pfizer plc', 'Pfizer ranked', \"Pfizer's\", 'Pharma', 'Pharmaceutical Inc', 'Pharmaceutical Industries and', 'Pharmaceutical Research and', 'Pharmaceutical Wholesale', 'Pharmaceuticals', 'Pharmacy', 'Pharmacy store', 'Pharmanex brands', 'Phase', 'Phil Knight', 'Phil Silver and', 'Philadelphia', 'Philadelphia Eagles of', 'Philadelphia and', 'Philadelphia to', 'Philip', 'Philip Johnson', 'Philip Morris', 'Philip Morris Capital', 'Philip Morris Companies', 'Philip Morris International', 'Philip Morris brands', 'Philip Morris were', 'Philip van', 'Philippines', 'Phillips', 'Phillips Petroleum Co', 'Phillips Petroleum Company', 'Phoenix', 'Phoenix area', 'Phoenix metropolitan', 'Phone', 'Phone smartphone', 'Phone to', 'Photonics developed', 'Photonics is', 'Photovoltaik Global', 'Pictures', 'Pierce Manufacturing', 'Pilatus', \"Pilgrim's\", 'Pillsbury', 'Pilot Flying', 'Pine-Sol', 'Pinnacle Financial Partners', 'Pinnacle Foods', 'Pinnacle West Capital', 'Pioneer', 'Pioneer Natural Resources', 'Pipeline & Process', 'Pipeline System', 'Pipeline and', 'Piperlime in', 'Piperlime store', 'Pittsburgh', 'Pittsburgh Corning', 'Pittsburgh International Airport', 'Pittsburgh National Corporation', 'Pittsburgh effective', 'Pittsburgh location', \"Pittsburgh's\", 'Pixar', 'Pizza', 'Pizza Hut', 'Place', 'Plainview', 'Plano', 'Platform Specialty Products', 'Playtex', 'Plc to', 'Pleasanton', 'PlentyOf', 'Plump for', 'Plymouth', 'Pod portable', 'Poett', 'Point coal', 'Poland', 'Poland and', 'Polish cavalry', 'Polish immigrant', 'Polk', 'Polly Pocket', 'Polo Ralph Lauren', 'Pont ranked', 'Pool founded', \"Poor's\", 'Popular', 'Popular Bank', 'Pork', 'Port Reading', 'Port of', 'Portec-Paragon', 'Portfolio Program', 'Portland', 'Portland metropolitan', 'Post Holdings', 'Post Refrigerated Retail', 'Post offers', 'Post participates', 'Post-Newsweek', 'Potomac Electric Power', 'Poultry and', 'Power', 'Power Management', 'Power Only', 'Power Rangers', 'Power segment', 'Powerpack', 'Powershares brand', 'Powerwall', \"Poynter Institute's\", 'Pradeep Sindhu', 'Pratt & Lambert', 'Pre-Lent', 'Premier is', 'President', 'President John Fees', 'President Mario Draghi', \"President Trump's\", 'President and', 'President of', 'President since', 'Pressler resigned', 'Priceline', 'Pride Corporation', 'Pride purchased', 'Primatics Financial', 'Prime Minister of', 'Prime Seafood and', 'Prime Standard', 'Prince of', 'Princeton', 'Princeton University', 'Principal products', 'Pringles', 'Pringles to', 'Prior period', 'Prior to', 'Prismacolor', 'Private Division to', 'Private First Class', 'Private Ledger', 'Pro', 'ProConnect', 'ProLogis', 'ProNav', 'ProPublica', 'ProSeries', 'Processor of', 'Procter & Gamble', 'Procurement', 'Production', 'Production Capacity', 'Production Enhancement', 'Production Facilities', 'Production Solutions', 'Production segment', 'Products', 'Products designed', 'Products include', 'Products section', 'Products transported', 'Professional Lines', 'Program', 'Progressive has', 'Progressive is', 'Prolia and', 'Prologis', 'Prologis Logistics Rent', 'Prologis had', 'Prologis operates', 'Prologis the', 'Proofpoint Systems', 'Proofpoint is', 'Properties is', 'Property', 'Property Corporation and', 'Propulsion System', 'Prosperity Bancshares', 'Prosperity Bank', 'ProteinSimple', 'Protestants', 'Protiviti Inc', 'Providence', 'Provident Bank', 'Provident Life and', 'Provident National Corporation', 'Provident New York', 'Provident changed', 'Providing services', 'Provo', 'Prozac', 'Prudential Financial', 'Prudential Financial is', 'Prudential has', 'Prudential is', 'Prussia', 'Public Companies', 'Public Service Company', 'Public Service Corporation', 'Public Service Electric', 'Public Storage Inc', 'Public Storage and', 'Public Storage founder', 'Public Storage is', 'Public Storage retaining', 'Public Storage self', 'Publicis and', 'Puerto Rico', 'Puerto Rico and', 'Puerto Rico for', 'Puerto Rico through', 'Puerto Rico with', 'Pullman-Standard', 'Pulse networks', 'Pulte Homes', 'PulteGroup', 'Pumpkin Spice Latte', 'Pune', 'Purcell', 'Purchase', 'Purchase Program', 'Purdy and', 'Pure Storage developed', 'Pure Storage finished', 'Pure Storage is', 'Pure Storage was', 'Purpose Joint Compound', 'Pyrex glass', 'Qdoba Mexican Grill', 'Qorvo is', 'Quaker Oats Company', 'Qualcomm', 'Qualcomm Incorporated', 'Qualcomm Incorporated is', 'Qualcomm Technologies', 'Qualcomm Technology Licensing', 'Qualcomm would', \"Qualcomm's\", 'Quality Management and', 'Quanta Services employs', 'Quanta Services is', 'Quanta Services was', 'Quanta went', 'Quebec', 'Queen Elizabeth', 'Queens', 'Quer', 'Quest Diagnostics and', 'Quest Diagnostics is', 'Quest also', 'Quest operates', 'Questar gas', 'Quick Car and', 'Quick Car of', 'QuickBooks', 'Quicken', 'Quintiles and', 'Quonset Hut in', 'Qurate Retail Group', 'Qwest', 'RVs and', 'RVs through', 'Racing', 'Radeon', 'Radio Frequency', 'Radio Row', 'Radnor', 'Raider', 'Railroad', 'Railway Company', 'Railway is', 'Rainbow Light', 'Rainbow Media Holdings', 'Rainbow Programming Holdings', 'Raleigh', 'Ralph Hoagland', 'Ralph Lauren', 'Ralph Lauren Childrenswear', 'Ralph Lauren Collection', 'Ralph Lauren Corporation', 'Ralph Lauren Purple', 'Rami Rahim in', 'Ramon Laguarta has', 'Rand Drill Company', 'Randstad', 'Range Resources Corporation', 'Raptor fighter', 'Ravenswood Winery', 'Ray Kroc', 'Ray Wallace', 'Ray Wallace became', 'Raymond James Financial', 'Rayonier Inc', 'Rayovac Corporation', 'Rayovac and', 'Rayovac competitor', 'Rayovac had', 'Raytheon', 'Raytheon announced', 'Raytheon is', \"Raytheon's\", 'RealPage', 'Realogy Holdings Corp', 'Realty Corporation is', 'Recollections', 'Recording Company', 'Red Dead', 'Red Hat', 'Red Lobster', 'Redmond', 'Redomiciled from', 'Redwood City', 'Redwood Shores', 'Reed Hastings and', 'Refrigerated', 'Refrigeration', 'Refrigeration & Food', 'Regal', 'Regal Beloit Corporation', 'Regency Centers Corporation', 'Regeneron Pharmaceuticals', 'Region subsidized', 'Regional Bell Operating', 'Regional offices', 'Regional service', 'Registered users', 'Reilly', 'Reilly Auto Parts', 'Reilly Automotive', 'Reilly Automotive and', 'Reilly immigrated', 'Reilly to', 'Reinsurance Group of', 'Reinsurance Ltd', 'Reinsurance includes', 'Reinsurance segment', 'Reinsurance-Global', 'Relentless and', 'Reliance Metalcenter', 'Reliance Steel and', 'Reliant Energy', 'Remington', 'Renaissance Center', 'Renaissance Reinsurance Ltd', 'Renaissance Reinsurance of', 'Renaissance Underwriting Managers', 'RenaissanceRe', 'Renesas and', 'RenewLife', 'Reno', 'Rent Roll', 'Rent is', 'Rentalcars', 'Reorganization', 'Repel brand', 'Replacing him', 'Report on', 'Republic Industries began', 'Republic Industries spun', 'Republic Industries was', 'Republic Services', 'Republic Services Board', 'Republic Services as', 'Republic Services name', 'Republic became', 'Republic of', 'Republic stock', 'Research', 'Research Systems Inc', 'Research Triangle Park', 'Research and', 'Research provided', 'Researchers at', 'Residential Heating and', 'Residents in', 'Resort villas', 'Resorts', 'Resorts International', 'Resorts International is', 'Resorts as', 'Resorts is', 'Resorts owns', 'Resource is', 'Resources', 'Resources Group', 'Resources divisions', 'Resources is', 'Respawn Entertainment in', 'Restasis', 'Restaurants', 'Reston', 'Restore', 'Retail Banking', 'Retail Pharmacy', 'Retail Pharmacy International', 'Reuters calls', 'Revenue in', 'Revenue is', 'Revenues increased', 'Revit line', 'Revit software', 'Revlimid', 'Revlimid is', 'Reynolds', 'Rheem distributor', 'Rhode Island', 'Rhode Island and', 'Rice have', 'Rich Barton', 'Richard', 'Richard Bloch', 'Richard Cohen', 'Richard Hayne', 'Richard Manoogian', 'Richard McKenney', 'Richard McVey', 'Richard Teller Crane', 'Richard and', 'Richardson', 'Richfield', 'Richmond', 'Richmond Tank Car', 'Rico are', 'Rig Technologies', 'Riga Stock Exchange', 'Right Management', 'Rinbros', 'RingCentral', 'Rio Tinto in', 'Ritmo', 'Ritz', 'Rival', 'RiverSource', 'Riverwoods', 'Roadster', 'Roanoke', 'Rob Theis', 'Robert', 'Robert Cleveland Schiff', 'Robert Coury received', 'Robert Daugherty in', 'Robert Half', 'Robert Half Finance', 'Robert Half International', 'Robert Half Legal', 'Robert Half Management', 'Robert Half has', 'Robert Half is', 'Robert Mondavi', 'Robert Noyce and', 'Robert Ralph Young', 'Robert succeeded', 'Robinson and', 'Robinson is', 'Robinson offered', 'Robinson was', 'Roche', 'Roche BioMedical', 'Rochester', 'Rock of', \"Rockefeller's\", 'Rockland Utilities', 'Rockstar Games and', 'Rockstar North', 'Rockville', 'Rockwell Automation', 'Rockwell Automation employs', 'Rockwell Software', 'Rocky Mountain and', 'Rocky Mountains', 'Rocky Mountains in', 'Roebuck and', 'Roger', 'Roger Altman', 'Rogers Wireless', 'Rolling Meadows', 'Rollins', 'Rom', 'Rome', 'Ronald Wayne in', 'Roper Industries', 'Roper Technologies', 'Roper joined', 'Roper provides', 'Rosarito and', 'Rosemead', 'Rosemont', 'Roseville', 'Ross', 'Ross & Co', 'Ross Dress for', 'Ross Stores', 'Ross operates', 'Rotary and', 'Rotring', 'Round Rock', 'Roundup', 'Rouse Properties in', 'Rowe Price Group', 'Rowland Hussey Macy', 'Roy', 'Royal Dutch Shell', 'Royal Gold is', 'Royal Gold reported', \"Royal Gold's\", 'Royal Little in', 'Royal Vopak and', 'Royal Warrant from', 'Rubbermaid storage', \"Rubio's\", 'Ruffino', 'Run-off', 'Russell', 'Russell Hobbs brand', 'Russia', 'Russia and', 'Russian bond', 'Rust-Oleum', 'Ryan Brant in', 'Ryan Homes', 'Ryder', 'Ryder System', 'Ryder operates', 'Ryder specializes', 'Saa', 'Sacramento', 'Sacred Harp and', 'Safari web', 'Saint-Quentin', 'Saipan', 'Sales for', 'Salesforce', 'Salesforce also', 'Salesforce dot', 'Salesforce was', 'Sallie Mae', 'Sallie Mae Bank', 'Sallie Mae employs', 'Sallie Mae into', 'Sallie Mae previously', 'Sallie Mae spun', 'Salt Lake City', 'Sam Walton in', \"Sam Walton's\", \"Sam's\", 'Samsung', 'Samsung Electronics', 'Samsung and', 'San Antonio', 'San Antonio with', 'San Bernardino', 'San Clemente', 'San Diego', 'San Diego Gas', 'San Francisco', 'San Francisco Bay', 'San Francisco and', 'San Francisco building', 'San Francisco on', 'San Jose', 'San Juan', 'San Mateo', 'San Rafael', 'San Ramon', 'Sands China', 'Sands Cotai Central', 'Sands Macao', 'Sandton', 'Sandy', 'Sandy Baker became', 'Sandy Lerner', 'Sandy Springs', 'Sanibel Island', 'Santa Barbara', 'Santa Clara', 'Santa Fe Railway', 'Santa Monica', 'Santander Bank', 'Santander Group', 'Santander in', 'Santander is', 'Santander maintains', 'Santander name', 'Santander was', 'Saphris', 'Sara Lee', 'Sara Lee Corporation', 'Sarasota', 'Sarepta Therapeutics', 'Sarepta Therapeutics and', 'SaskTel', 'Satellite Services business', 'Saudi Arabia', 'Saunders after', 'Saunders had', 'Scale Venture Partners', 'Scaled Composites', 'ScanSoft', 'Scangos departed', 'Scattered', 'Schaffhausen', 'Schlage and', 'Schlumberger', 'Schlumberger Limited', 'Schlumberger employs', 'Schlumberger has', 'Schlumberger is', 'Schmitt', 'Schneider National', 'Schneider began', 'Schneider is', 'Schulze and', 'Schwab', 'Schwab operates', 'Science', 'Scientific and', 'Scoop Away and', 'Scotland', 'Scotland Group', 'Scott', 'Scott Belair in', 'Scott Kriens as', 'Scott Scherr', 'Scott began', 'Scotts', 'Scotts Valley', 'Scottsdale', 'Scottsville', 'Scratch Kitchen', 'Scrushy', 'Sea', 'SeaTac', 'Seaboard Corporation based', 'Seaboard Corporation is', \"Seaboard Corporation's\", 'Seaboard Foods', 'Seaboard Marine', 'Seaboard Overseas & Trading', 'Seaboard is', 'Seagate Technology', 'Sealed Air', 'Sealed Air Corporation', 'Sealy Corporation in', 'Sears', 'Seasons', 'Seattle', 'Seattle Genetics', 'Seattle Genetics has', 'Seattle Genetics is', 'Seattle in', 'Seattle metropolitan', 'Second Measure', 'Secret and', 'Secretaries of', 'Secretary of', 'Secure Sockets Layer', 'Securities and', 'Security Fabric architecture', 'Security Title Agency', 'Security and', 'Security equipment', 'Security was', 'Securock Brand Glass', 'See also', 'Sefi Ghasemi', 'Segment handles', 'Seiyu Group in', 'Select Nordstrom stores', 'Self Storage', 'Self Storage to', 'Sell', 'Semi vehicles', 'Semiconductor Test and', 'Semiconductor and', 'Semiconductor has', 'Semiconductor is', 'Semiconductor manufacturing', 'Semiconductor runs', 'Semiconductors', 'Sempra', 'Sempra Energy is', 'Sempra Energy reported', \"Sempra Energy's\", 'Seneca', 'Seneca Resources Company', 'Senegal', 'Senior Housing and', 'Sensipar', 'Sentry Safe', 'September', 'Sequoia Capital', 'Sequoia Software Corp', 'Serial', 'Series', 'Service', 'Service Company', 'Service Corporation International', 'Service in', 'Service offerings', 'Service-now', 'ServiceMaster', 'ServiceNow', 'Services', 'Services Company', 'Services Group', 'Services Group provides', 'Settlement Trust', 'Seven Sisters that', 'Seventh Street and', 'Several banks', 'Several other', 'Shamrock', 'Shanghai', 'Shantou and', 'Sharpie', 'Shay', 'Shaygan Kheradpir in', 'Shazam acoustic', 'She accepted', 'Sheer Energy', 'Sheetrock Brand All', 'Sheetrock Brand Gypsum', 'Shelly Dean Oil', 'Shelly Dean re', 'Shelton', 'Shenzhen', 'Sherman in', 'Sherman tanks', 'Sherwin-Williams', 'Shield Android', 'Shield Portable', 'Shield Tablet', 'Shoes', \"Shopper's\", 'Shoppers Drug Mart', 'Short Hills', 'Short Message Service', 'Shrove Tuesday or', 'Shrovetide', 'Shudder', 'Shurgard Storage Centers', 'Shurgard has', 'Sid Tool', 'Sidney', 'Sidney Goldstein and', 'Sidney Jacobson', 'Sierra in', 'Sigma Partners', 'Signal Extraction Technology', 'Signature', 'Signature Bank being', 'Signature Bank was', \"Signature Bank's\", 'Signatures processed', 'Silgan Holdings', 'Silgan Holdings employs', 'Silgan Holdings is', 'Silicon Valley', 'Silicon Valley Bank', 'Silicon Valley at', 'Silk Reflections', 'Silver Spring', 'Similac', 'Similar to', 'Simon Kneen for', 'Simon Property Group', 'Simulated Environments Inc', 'Since', 'Since August', 'Since June', 'Since Satya Nadella', 'Since acquiring', 'Since both', 'Since its', 'Since neither', 'Since the', 'Since then', 'Singapore', 'Singapore is', 'Sioux Falls', 'Siskin Steel', 'Site Development', 'Site Leasing and', 'Six Flags', 'Six Flags Entertainment', 'Six Flags Over', 'Six Flags Theme', 'Six Flags properties', 'Six Flags was', 'Skate or', 'Skechers', 'Sketch', 'Sketchbook', 'Skillman', 'Skippack', 'Sky clear', 'Sky conditions', 'SkyTeam', 'Skylanders through', 'Skype Technologies for', 'Skyworks Solutions', 'Skyworks manufactures', 'Sling', 'Slovakia and', 'Small Business Administration', 'Small whirlpools', 'Smaller whirlpools', 'SmartAuction', 'Smith', 'Smith Corporation is', 'Smith has', 'Smith ranked', 'Smokeless Tobacco Company', 'Smucker Company', 'Smucker and', \"Smucker's\", 'Smyrna', 'Snap-on', 'Snee and', 'SoCal', 'SoCs', 'SoHo', 'Social Point to', 'Social Security numbers', 'Sodexo', 'SoftBank', 'Software as', 'Sol', 'Sol y', 'Solar Cells', 'Solar Power World', 'SolarCity', 'Soliris', 'Solutions', 'Solvents', 'Some feed', 'Some of', 'Some parts', 'Somerset', 'Son in', 'Sony', 'Sony Pictures', 'Soon after', 'Sound of', 'South', 'South Africa', 'South Africa in', 'South African entrepreneur', 'South America', 'South America and', 'South Boston', 'South Carolina', 'South Carolina and', 'South Dakota', 'South Dakota and', 'South Florida', 'South Florida-based', 'South Korea', 'South Korea and', 'South Texas', 'South and', 'Southeast', 'Southeast Asia', 'Southeast with', 'Southeastern Michigan and', 'Southeastern United States', 'Southern Airways Express', 'Southern Airways announced', 'Southern California', 'Southern California Edison', 'Southern California Gas', 'Southern California and', 'Southern United States', 'Southern and', 'Southern became', 'Southern intends', 'Southern operates', 'Southlake', 'Southwest', 'Southwest Airlines Co', 'Southwest Airlines and', 'Southwest Grill', 'Southwest carries', \"Southwest's\", 'Southwestern Bell Corporation', 'Southwestern Bell Telephone', 'Southwestern Electric Power', 'Southwestern Public Service', 'Southwestern United States', 'Sovaldi', 'Sovran Self Storage', 'Soy Vay', 'Space & Security', 'Space Fence', 'Space Systems', 'SpaceShip', 'Spain', \"Spain's\", 'Spanish multinational', 'Sparklight', 'Sparklight since', 'Sparks to', 'Special Yarns Company', 'Special types', 'Specialist Four Robert', 'Specialties', 'Specialty', 'Specialty Insurance', 'Specialty Products', 'Specialty Retailer of', 'Spectra-Physics', 'SpectraSite', 'Spectracide and', 'Spectrum', 'Spectrum Brands Holdings', 'Spectrum Brands is', 'Spectrum manufactured', 'Spectrum owns', \"Spectrum's\", 'Speed', 'SpeedPerks', 'Speedway', 'Sperry Drilling', 'Spirit', 'Spirits brands', 'Splunk', 'Splunk Inc', 'Splunk had', 'Splunk intends', 'Splunk is', 'Sporting Goods', 'Sports', 'Sports Flooring business', 'Sports titles', 'Spraberry Trend of', 'Sprague-Sells', 'Springdale', 'Springfield', 'Springfield area', 'Springfield in', 'Sprint', 'Sprint Corporation', 'Sprint Corporation in', 'Sprint Corporation is', 'Sprint Nextel Corporation', 'Sprint acquired', 'Sprint is', 'Sprint left', 'Sprint traces', 'Sprint uses', \"Sprint's\", 'Sprouts Farmers Market', 'Sprouts employs', 'Sprouts on', 'Spyridon Artavanis', 'Spyro', 'Square', 'Squibb', 'Squibb Company', 'Squibb and', 'Squibb manufactures', 'St Louis', 'Stack in', 'Stadium New Era', 'Stamford', 'Standard & Poor', 'Standard & Poors', 'Standard Oil', 'Standard Oil Company', 'Standard Oil since', 'Standard and', 'Standards', 'Stanford', 'Stanford University computer', 'Stanford University who', 'Stanford between', 'Stanley Black & Decker', 'Stanley Crooke', 'Stanley Works and', 'Stanley and', 'Star Alliance', 'Star Tribune', 'Star Wars', 'StarCraft', 'Starboard Value', 'Starboard Values believes', \"Starboard's\", 'Starbucks Corporation is', 'Starbucks Evenings', 'Starbucks Reserve program', 'Starbucks first', 'Starbucks has', 'Starbucks location', 'Starbucks locations', 'Starbucks nowadays', 'Starbucks opened', 'Starbucks operates', 'Starbucks was', 'Starbucks-brand', 'Started in', 'Starwood Hotels & Resorts', 'State Fair', 'State John', 'State Street Corporation', 'State Street in', 'State Street is', 'State of', 'Staywell Health Plan', 'Steagall Act that', 'Steakhouse', 'Steam and', 'Stearns Airport Equipment', 'Steel', 'Steel Dynamics', 'Steel Dynamics is', 'Stericycle is', 'Sterling Bancorp and', 'Sterling Bancorp through', \"Sterling Bancorp's\", 'Sterling National Bank', 'Sterling completed', 'Sterling was', 'Steve Ballmer replaced', 'Steve Ells on', 'Steve Jobs', 'Steve Jobs in', 'Steve Winn is', 'Steve Wozniak', 'Steve Wynn', 'Steven', 'Steward Health Care', 'Stock is', 'Stockholm Stock Exchange', 'Stocks in', 'Stolte were', 'Stonhard', 'Stoops', 'Storage', 'Storage Equities merged', 'Storage segment', 'Store', 'Store-It', 'Stores', 'Storm', 'Straubel and', 'Strauss Zelnick as', 'Stream Energy and', 'Street', 'Street and', 'Streets', 'Stride', 'Stryker', 'Stryker is', 'Stryker vehicles', 'Stuart', 'Stuart Weitzman', 'Student Loan Marketing', 'Studio', 'Studio and', 'Studios', 'Subcutaneous Implantable Defibrillator', 'Subsequently', 'Subsequently in', 'Successfactors', 'Sudhakar Reddy Bonthu', 'Sugar and', 'Suite', 'Suites by', 'Summer Olympics', 'Summit', 'Sumner Redstone', 'Sun Communities is', 'Sunbeam', 'Sundance', 'Sundance Now and', 'Sunnyvale', 'Sunrise', 'Suntory to', 'SuperTarget', 'Superior', 'Supply', 'Supply Corporation and', 'Supply Holdings', 'Supply division', 'Supply for', 'Supply in', 'Suriname', 'Svedka Vodka', 'Swanson sold', 'Sweden', 'Sweden and', 'Swedish', 'Swedish American John', 'Swift Transportation', 'Swiss Exchange', 'Swiss firm', 'Swiss-domiciled', 'Switches in', 'Switzerland', 'Switzerland to', 'Switzerland-based', 'Swoosh logo', 'Swords', 'Sydney-based', 'Symantec', 'Symantec declared', 'Symantec for', 'Symantec had', 'Symantec later', 'Symantec sold', 'Symphony Health for', 'Synchrony Bank', 'Synchrony is', 'Syndicate', 'Synopsys', 'Synopsys has', 'Synvasive Technology', 'Syria', 'Syro Steel and', 'Sysco', 'Sysco Corp announced', 'Sysco Corporation', 'Sysco No', 'Sysco announced', 'Sysco as', 'Sysco is', 'Sysco terminated', 'System', 'SystemVerilog', 'Systems', 'Systems Canada for', 'Systems Test Group', 'Systems and', 'Szabla wz', 'Szentgotth', 'TKs had', 'Tabacal Agroindustria', 'Tableau', 'Tableau Software', 'Tableau products', 'Taco Bell', 'Tagless', 'Taipei and', 'Taiwan', 'Tak Mak and', 'Take-Two', 'Takeda Pharmaceutical Company', 'Takeda has', 'Tallinn Stock Exchange', 'Tampa', 'Tampa Bay area', 'Tang', 'Taparko', 'Taparko in', 'Tapestry', 'Tapestry Collection by', 'Tapestry on', 'Tapijtfabriek', 'Targa', 'Targa Resources', 'Target', 'Target Australia', 'Target Canada subsidiary', 'Target Corporation in', 'Target Corporation is', 'Target brand', 'Target branding', 'Target established', 'Target is', 'Target operates', 'Target store', 'TargetExpress', 'Tarrytown', \"Tate's\", 'Taubman Centers', 'Taunton', 'Tax Online', 'Taxus Stent', 'Taylor is', 'TeamHealth', 'Teaneck', 'Teavana tea', 'Tecate', 'Techne Corporation and', 'Technical Solutions', 'Technologies', 'Technologies Inc', 'Technologies the', 'Technology', 'Technology Center at', 'Technology Corporation', 'Technology Square', 'Technology and', 'Technology is', 'Ted Doheny is', 'Teen and', 'Teflaro', 'Tegra mobile', 'Tel Aviv and', 'TeleRecarga', 'Teledyne', 'Teledyne Technologies', 'Teledyne Technologies had', 'Teledyne Technologies was', 'Teledyne existed', 'Teleflex Incorporated', 'Teleflex has', 'Telegraph Company in', 'Telephone', 'Telephone and', 'Telus Mobility', 'Tempe', 'Tempur Sealy International', 'Tempur-Pedic', 'Tennessee', 'Tennessee and', 'Tennessee operating', 'Tennessee that', 'Tennessee-based', 'Teradata Corporation', 'Teradata Corporation is', 'Teradyne', \"Teradyne's\", 'Terex Corporation is', 'Terex Financial Services', 'Terex equipment', 'Terex offers', 'Terex operates', 'Terminix', 'Terminix Commercial', 'Terms of', 'Terrain', 'Terrorism', 'Tesaro is', 'Tesla', 'Tesla Factory in', 'Tesla Motors', 'Tesla Motors as', 'Tesla Motors shortened', 'Tesla Motors was', 'Tesla also', 'Tesla electric', 'Tesla has', 'Tesla in', 'Tesla ranked', 'Tesla sells', 'Tesla vehicle', 'Tesla was', 'Testing & Subsea', 'Testors', 'Tetra', 'Texaco brands', 'Texarkana', 'Texas', 'Texas Instruments Incorporated', 'Texas Instruments and', 'Texas Instruments emerged', \"Texas Instruments's\", 'Texas Stadium', 'Texas and', 'Texas in', 'Texas is', 'Texas on', 'Texas with', 'Texas workers', 'Texas-chartered', 'Textron Aviation', 'Textron Inc', 'Textron employed', \"Textron's\", 'Thailand', 'Thanksgiving Day Parade', 'Thanksgiving Day parade', 'That January', 'That July', 'That equates', 'That same', 'The', 'The Alaska Air', 'The Allstate Corporation', 'The Ameren Missouri', 'The American Express', 'The American River', 'The Americas division', 'The Archer Daniels', 'The Armstrong World', 'The Babcock & Wilcox', 'The Ball brothers', 'The Bank completed', 'The Bank of', 'The Banker and', 'The Bell Telephone', 'The Big Book', 'The Blackstone Group', 'The Body Shop', 'The Boeing Company', 'The Capital Grille', 'The Carlyle Group', 'The Charles Schwab', 'The Chase brand', 'The Cincinnati Casualty', 'The Cincinnati Indemnity', 'The Cincinnati Insurance', 'The Cincinnati Life', 'The Clorox Company', 'The Coca-Cola', 'The Columbia Sportswear', 'The Company', 'The Company operates', 'The Company was', \"The Company's\", 'The Crane Company', 'The Creative Group', 'The Curtiss-Wright', 'The Direct Store', 'The Dun & Bradstreet', 'The Economist as', 'The Energy Marketing', 'The Equitable', 'The Equitable Life', 'The European Bakers', 'The Exploration and', 'The Facebook service', 'The Federal Trade', 'The First American', 'The Fisher family', 'The Flowserve Corporation', 'The Flowserve brand', 'The Fortune', 'The French Battery', 'The Gap', 'The Gap to', \"The Gap's\", 'The Garden is', 'The Garden or', 'The Genesee & Wyoming', 'The Glaser-Kochavi', 'The Global Operations', 'The Goldman Sachs', 'The Group is', 'The Gulf Intracoastal', 'The Hague', 'The Hanover Insurance', 'The Harris Products', 'The Hartford', 'The Hartford Financial', 'The Hartford and', 'The Hartford is', 'The Hasbro brand', 'The Hewlett Packard', 'The HollyFrontier', 'The Home Depot', 'The Howard Hughes', 'The Huntington National', 'The Industrial Fumigant', 'The International Business', 'The International Paper', 'The Interpublic Group', 'The Kansas City', 'The Kellogg Company', 'The Kroger Co', 'The Lego Group', 'The Limited', 'The Little Clinic', 'The Loop', 'The Martin Marietta', 'The McDonald', 'The Michaels Companies', 'The Middleby Corporation', 'The Mills', 'The Mondelez name', 'The Mosaic Company', 'The Most Sustainable', 'The National Bureau', 'The Netherlands', 'The New York', 'The Norfolk Southern', 'The Olin Corporation', 'The Open Source', 'The Palazzo', 'The Parisian Macao', 'The Paul Revere', 'The Phillips', 'The Pink Panther', 'The Pipeline and', 'The Plan includes', 'The Plaza Macao', 'The Principal Financial', 'The Prisoner', 'The Private Trust', 'The Procter & Gamble', 'The Progressive Corporation', 'The Promus Companies', 'The Provident Companies', 'The Public Service', 'The Raytheon Company', 'The Rouse Company', 'The Royal Bank', 'The Scotts Miracle', 'The Sims', 'The Stanley Works', 'The Swedish investment', 'The Timken Company', 'The Tower of', 'The Travelers Companies', 'The Unicode set', 'The Urban Outfitters', 'The Utility segment', 'The Vanguard Group', 'The Venetian Macao', 'The Venetian and', 'The Vetri Group', 'The Wall Street', 'The Walt Disney', 'The Weather Company', \"The Wendy's\", 'The Western Union', 'The Williams Companies', 'The Woodlands', 'The abbreviation', 'The acquired', 'The acquisition', 'The agriculture', 'The airline', 'The bank', 'The bankruptcy', 'The basic', 'The bid', 'The biggest', 'The board', 'The bottlers', 'The business', 'The chain', 'The chairman', 'The combined', 'The commercial', 'The companies', 'The company', 'The companys', 'The concepts', 'The core', 'The corporate', 'The corporation', 'The court', 'The current', 'The deal', 'The drink', 'The entity', 'The executive', 'The fact', 'The failing', 'The federal', 'The firm', 'The first', 'The flagship', 'The former', 'The founders', 'The global', 'The group', 'The headquarters', 'The health', 'The healthy', 'The impact', 'The insurance', 'The investment', 'The island', 'The largest', 'The last', 'The letters', 'The long', 'The main', 'The majority', 'The manufacturing', 'The mechanism', 'The merged', 'The merger', 'The military', 'The mirrors', 'The most', 'The mountain', 'The move', 'The name', 'The net', 'The new', 'The next', 'The online', 'The original', 'The other', 'The parent', 'The passage', 'The picture', 'The present', 'The presentation', 'The previous', 'The primary', 'The private', 'The product', 'The products', 'The properties', 'The railway', 'The real', 'The reinsurance', 'The remainder', 'The report', 'The responsibility', 'The resulting', 'The royalties', 'The sale', 'The service', 'The services', 'The sets', 'The shareholders', 'The shares', 'The simulators', 'The spin', 'The split', 'The state', 'The stock', 'The term', 'The title', 'The total', 'The transaction', 'The two', 'The use', 'The value', 'The vehicle', 'The word', 'The year', 'Their', 'Their FlexRigs', 'Their corporate', 'Their customers', 'Their desktop', 'Their digital', 'Their efforts', 'Their medical', 'Their mirrors', 'Their operations', 'Their portfolio', 'Their primary', 'Their products', 'Their retail', 'Their sales', 'Their system', 'Their technology', 'Their wholesale', 'Then', 'Therapeutic Filtration', 'There are', 'There continued', 'There was', 'Therma-Tru', 'Thermo Electron and', 'Thermo Fisher Scientific', 'Thermo Fisher acquired', 'These combined', 'These concepts', 'These concession', 'These facilities', 'These include', 'These often', 'These technologies', 'They also', 'They are', 'They can', 'They do', 'They focus', 'They incorporate', 'They opened', 'They pioneered', 'They provide', 'They rechristened', 'They sell', 'They specialize', 'Thierry Bernard is', 'Things', 'Things Business', 'Think different', 'ThinkCentre', 'ThinkPad', 'Thirty Years', 'This Fortune', 'This acquisition', 'This approach', 'This client', 'This company', 'This dates', 'This division', 'This has', 'This holding', 'This includes', 'This is', 'This makes', 'This new', 'This placed', 'This segment', 'This unfolded', 'This was', 'This water', 'Thomas', 'Thomas & Friends', 'Thomas Oland', 'Thomas Peterffy is', 'Thomas Rowe Price', 'Thomas Rutledge as', 'Thomasville', 'Thompson', 'Thompson Creek Metals', 'Thomson Reuters', 'Thor Industries', 'Though the', 'Thousand Oaks', 'Thousand Oaks staff', 'Thrall Car Manufacturing', 'Threading Building Blocks', 'Threadneedle Asset Management', 'Three Forks Shale', 'Three World Financial', \"Through Kirby's\", 'Through Markel Ventures', 'Through a', 'Through five', 'Through its', 'Through later', 'Through several', 'Through the', 'Through these', 'Through various', 'Throughout the', 'Tiburon in', 'Ticketmaster', 'Ticor Title', 'Tigex', 'Tijuana', 'Tilex', 'Tim Cook became', 'Timber Hill', 'Timber Hill Inc', 'Timberland and', 'Time Warner Cable', 'Times', 'Times featured', 'Times in', 'Timken operates', 'Tinder', 'Ting Tsung Chao', 'Titanfall', 'To date', 'To effect', 'To expand', 'To facilitate', 'Toblerone', 'Tocris Bioscience', 'Today', 'Today the', 'Todd Oldham for', 'Together', 'Together they', 'Together with', 'Tokyo', 'Tokyo in', 'Toledo', 'Toll Brothers is', 'Tom', 'Tom Greco would', \"Tony Hawk's\", 'Top', 'Top Layer Reinsurance', 'Topeka', 'Topeka and', 'Toronto', 'Toronto-Dominion', 'Torrance', 'Tortue gas', 'Total revenues', 'Total sales', \"Totino's\", 'Tour of', 'Tourette syndrome', 'Tower in', 'Toyota', 'Toyota stores', 'Toys for', 'Tracinda Corporation were', \"Tracinda's\", 'Trade', 'Trade Financial Corporation', 'Traded on', 'Traditionally', 'Trafford', 'Trafford Park in', 'Trak Auto stores', 'Trans-Alaska', 'TransFund', 'TransUnion', 'Transact', 'Transcontinental Capital Corporation', 'Transformers', 'Transit Mix Concrete', 'Transocean Ltd', 'Transocean was', 'Transportation Company along', 'Transportation Holdings Inc', 'Transportation Security Administration', 'Travelers', 'Travelers Group in', 'Travelers also', 'Travelers is', 'Travelers ranked', 'Travelers was', 'Travelocity', 'Traveo microcontrollers', 'Treasury', 'Treasury Robert Rubin', 'Treasury Steven Mnuchin', 'Treasury as', 'Treasury blocked', 'TreeHouse', 'Tremco', 'Treyarch', 'TriQuint', 'Triarc Companies', 'Tricon Global Restaurants', 'Trident', 'Trimark', 'Trinity Industries', 'Trinity Industries acquired', 'Trinity Steel', 'Trinity Steel manufactured', 'Trinity Steel merged', 'Trinity absorbed', 'Trinity acquired', 'Trinity also', 'Trinity began', 'Trinity diversified', 'Trinity faced', 'Trinity had', 'Trinity later', 'Trinity produced', 'Trinity the', 'Trip Hawkins', 'Triscuit', 'Trix', 'Tropicana Products in', 'Troubled Asset Relief', 'Tru by', 'Truck Load', 'Trucking', 'Truckload', 'True North Partners', 'Trump Organization while', 'Trump administration', 'Trump family', \"Trump's\", 'Trust', 'Trust is', 'Trust services', 'Tsakonas', 'Tube Instruments', 'Tube Service', 'Tulsa', 'Tulsa Drillers minor', 'Tulsa area', 'Tulsa in', 'Tulsa since', 'Tunes Store', 'Tunes media', 'TurboTax', 'Turing Awards', 'Turner and', 'Tweets were', 'Twilio', 'Twilio allows', 'Twister', 'Twitter', 'Twitter had', 'Twitter has', 'Twitter through', 'Twitter was', 'Two', 'Two Shell Plaza', 'Two employees', 'Two months', 'Tyco International', 'Tylenol medications', 'Tyler Technologies Inc', 'Tyler Technologies has', 'Tyree', 'Tyson Foods', 'Tyson Foods ranked', 'Tysons', 'Tysons Corner', 'USAToday says', 'Ub Iwerks', 'Uber', 'Uber Technologies', 'Uber for', 'Uber had', 'Uber has', 'Uber is', 'Ubisoft as', 'Udvar', 'Uganda', 'Ulta Beauty Inc', 'Ulta Beauty carries', 'Ulta Beauty currently', 'Ulta Salon', 'UltiPro', 'Ultimate Software Group', 'Ultimate Software reported', 'Ultimate has', 'Ultipro Software is', 'Ultramar', 'Umbro', \"Uncle Bob's\", 'Under Secretary of', 'Under a', 'Under the', 'Underwriting', 'Uniball', 'Unicode character', 'Unicode symbols', 'Unicode to', 'Unicode which', 'Unicom Corp of', 'Unified Communications as', 'Unilever', 'Union Bank', 'Union Electric Company', 'Union Tank Car', 'Uniprise brands', 'Unisphere', 'Unit', 'United Airlines', 'United Airlines Holdings', 'United Airlines and', 'United Arab Emirates', 'United Bank', 'United Continental Holdings', 'United Dominion Realty', 'United Financial', 'United Food and', 'United Gas Improvement', 'United Kingdom', 'United Kingdom and', 'United Parcel Service', 'United Pet Group', 'United Rentals', 'United Rentals is', 'United States', 'United States Army', 'United States Cellular', 'United States Department', 'United States Food', 'United States Gypsum', 'United States Military', 'United States Secretary', 'United States Senator', 'United States Treasury', 'United States accounted', 'United States airline', 'United States alone', 'United States and', 'United States are', 'United States as', 'United States bank', 'United States based', 'United States behind', 'United States but', 'United States by', 'United States coastwise', 'United States companies', 'United States comprising', 'United States consumer', 'United States corporations', 'United States financial', 'United States focused', 'United States for', 'United States government', 'United States in', 'United States network', 'United States of', 'United States operating', 'United States public', 'United States real', 'United States still', 'United States that', 'United States the', 'United States through', 'United States to', 'United States today', 'United States v', 'United States with', 'United States-based', 'United Technologies', 'United Technologies Automotive', 'United Technologies Corporation', 'United Therapeutics is', 'United and', 'United became', 'United is', 'United shareholders', \"United's\", 'UnitedHealth', 'Univar', 'Univar Solutions following', 'Univar Solutions is', 'Universal Display Corporation', 'Universal Display works', 'Universal Health Services', 'Universal Sealants', 'Universe', 'University of', 'Unshielded Twisted Pair', 'Until', 'Until July', 'Until May', 'Until a', 'Until his', 'Unum', 'Unum Corporation and', 'Unum Group is', 'Unum Group was', 'Unum as', 'Unum had', 'Unum is', 'UnumProvident', 'Up until', 'Upon acquisition', 'Upon completion', 'Upon inception', 'Upper Michigan Energy', 'Upromise Rewards business', 'Urban Outfitters', 'Urban Outfitters and', 'Users access', 'Users can', 'Utah', 'Utah Corporation', 'Utah and', 'Utah federal', 'Utica Shale', 'Utica Shales in', 'Utilities Co', 'Utility', 'VMware', 'VMware provides', \"VMware's\", 'Vail Resorts', 'Vail Resorts Development', 'Vail Resorts Hospitality', 'Valentin', 'Valero', 'Valero Energy Corporation', 'Valero was', 'Valex', 'Valley', 'Valley center', 'Valmont Industries', 'Valmont has', \"Valve's\", 'Valvoline', 'Valvoline Express Care', 'Valvoline Inc', 'Valvoline Instant Oil', 'Valvoline-brand', 'Van Noy Brothers', 'Van Noy Railway', 'Van Sweringens and', 'Van Waters & Rogers', 'Vancouver', 'Vancouver in', 'Vanderbilt interests', 'Vanguard group', 'Vanilla', 'Vantiv to', 'Varathane and', 'Varden Technologies', 'Varian Medical Systems', 'Varian in', 'Varian is', 'Varian product', 'Various logos', 'Various timeshare', 'Varta brand', 'Vectibix', 'Vectren Corporation was', 'Vectren Energy Delivery', 'Vectren North', 'Vectren South', \"Vectren's\", 'Veeva Systems Inc', 'Veldhoven in', 'Venere', 'Ventura County', 'Ventures', 'Ventures Ltd', 'Ventures include', 'Verilog', 'Verisign', 'Verisign Identity Protection', 'Verisign Trust Seal', 'Verisign also', 'Verisign sold', 'Verisign to', \"Verisign's\", 'Verisk', 'Verisk Analytics', 'Veritas Technologies', 'Verizon', 'Verizon Communications Inc', 'Verizon Media', 'Verizon Wireless', 'Verizon Wireless is', 'Verizon expanded', 'Verizon is', \"Verizon's\", 'Vermont', 'Vernier', 'Versum Materials', 'Vertex Pharmaceuticals', 'Very Strong', 'Via its', 'Viacom', 'Viacom being', 'Viacom on', 'Viagra', 'Vice President of', 'Vici Properties as', 'Vici Properties is', 'Victor', 'Victoria', \"Victoria's\", 'Vidaza is', 'Vidia on', 'Vietnam War', 'Viibryd', 'Vilnius', 'Vinci Surgical System', 'Vinyls', 'Virgin Islands and', 'Virgin Islands under', 'Virgin Mobile', 'Virginia', 'Virginia and', 'Virginia is', 'Virginia that', 'Virginia-based', 'Virginian Railway', 'Virginian Railway and', 'ViroMed', 'Virtu Financial is', 'Virtu Financial successfully', 'Virtu provides', 'Virtu uses', 'Visa', 'Visa Inc', 'Visa credit', 'Visa does', 'Visa has', 'Visa is', 'Visa provides', 'Visa transactions', \"Visa's\", 'Visa-branded', 'VisaNet', 'Visalia', 'Visi-Therm', 'VisionPro', 'Visioneer', 'Visions Pyroceram-based', 'Visteon Corporation', 'Visteon is', 'Visual Studio', 'Vivendi Games', 'Vlad Shmunis and', 'Vlad Vendrow founded', 'Voice over', 'Von Duprin', 'Voorhees', 'Vornado Realty Trust', 'Vortex is', 'Voya Financial', 'Voya Financial is', 'Voya began', 'Voya served', \"Voya's\", 'Wabash Railway', 'Wachovia', 'Wal-Mart', 'Waldorf Astoria Hotels', 'Wales', 'Walgreens', 'Walgreens Boots Alliance', 'Walgreens and', 'Walgreens became', 'Walgreens had', 'Walgreens purchased', 'Wall Street Journal', 'Wallace Calvin Abbott', 'Wallin', 'Wallingford', 'Wally', 'Walmart', 'Walmart Brasil', 'Walmart Inc', 'Walmart announced', 'Walmart de', 'Walmart has', 'Walmart in', 'Walmart is', 'Walmart more', 'Walmart only', 'Walmart or', 'Walmart through', 'Walmart was', 'Walmart with', \"Walmart's\", 'Walt Disney Animation', 'Walt Disney Direct', 'Walt Disney Parks', 'Walt Disney Pictures', 'Walt Disney Productions', 'Walt Disney Studios', 'Walt Disney and', 'Walt and', 'Walter', 'Waltham', 'Waltham and', 'Waltham from', 'Walton Enterprises and', 'Walton family', 'War', 'Warcraft', 'Warehouse', 'Warehouse Segment is', 'WarnerMedia', 'Warren', 'Warren Buffett', \"Warren Buffett's\", 'Warren brand', 'Warrick operations', 'Warsaw', 'Washington', 'Washington County', 'Washington International Airport', 'Washington Metro', 'Washington and', 'Washington in', 'Washington metropolitan', 'Washington on', 'Watch', 'Water', 'Water Pik Technologies', 'Water and', 'WaterSeal', 'Waterbury', 'Waterloo tool', 'Waterman', 'Waters Corporation is', 'Waters markets', 'Watertown', 'Waterway', 'Waterworks division', 'Watsco', 'Watsco added', 'Watsco divested', 'Watsco grew', 'Watsco has', 'Watsco is', 'Watsco was', \"Watsco's\", 'Wayfair Inc', 'Wayfair has', 'Wayfair operates', 'Wayfair site', 'Wayland', 'Wayne', 'Wayne Hughes Early', 'Wayne Hughes and', 'Wayne Huizenga', 'Wayne Huizenga in', 'Wayne sold', 'We Energies', 'We have', 'We made', 'Weatherford International plc', 'Weatherford operates', 'Web-style', 'Weber was', 'Webex', 'Webster Bank is', 'Weingarten Realty Investors', 'Welding Consumables', 'WellCare', 'Wellbore Technologies', 'Wellcare Health Plans', 'Wellington Management Group', 'Wells Fargo', 'Wells Fargo & Company', 'Wells Fargo Bank', 'Wells Fargo became', 'Wells Fargo began', 'Wells Fargo employees', 'Wells Fargo fell', 'Wells Fargo fixes', 'Wells Fargo from', 'Wells Fargo in', 'Wells Fargo is', 'Wells Fargo itself', 'Wells Fargo ranked', 'Wells Fargo was', \"Wells Fargo's\", 'Welltower Inc', \"Wendy's\", 'Werner Enterprises', 'West', 'West Adams Street', 'West Africa which', 'West Coast of', 'West Coast with', 'West Monroe', 'West Palm Beach', 'West Pharmaceutical Services', 'West Street in', 'West Texas', 'West Virginia', 'West Virginia bituminous', 'West and', 'West produced', 'Westar Energy of', 'Westbrook', 'Westbury', 'Westchase', 'Westchester', 'Westchester County', 'Western Auto', 'Western Auto operations', 'Western Christian festive', 'Western Digital Corporation', 'Western Digital and', 'Western Digital has', 'Western Europe', 'Western Europe and', 'Western Europe in', 'Western New York', 'Western Pest Services', 'Western Railway through', 'Western Sahara', 'Western Union', 'Western Union has', 'Western Union was', 'Western United States', 'Westlake', 'Westlake Chemical is', 'Westlake Chemical operates', 'Westminster', 'Weston', 'Wex accepts', 'Wex is', 'Wex was', 'Wexford', 'Weyerhaeuser Company is', 'Weyerhaeuser is', 'When a', 'When ranked', 'When used', 'While Advance stock', 'While CarMax', 'While initially', 'While it', 'While previously', 'While some', 'Whiskey', 'Whisper', 'Whitacre Tower in', 'White Lightening', 'White Mountains Insurance', 'White Plains', 'White for', 'White thought', 'Whitehead', 'Whiting Petroleum Corporation', 'Wike of', 'Wild Horse Winery', 'Wildlight', 'Willard Marriott', 'Willemstad', 'William', 'William Boeing in', 'William Byron in', 'William Carter', 'William Procter and', 'Williams Production and', 'Williamsville', 'Willis Tower in', 'Willis Towers Watson', 'Williston Basin or', 'Wilmington', 'Wilmington Trust is', 'Wilmslow', 'Windsor', 'Wine brands', 'WingStreet', 'Winner', 'Winners in', 'Winnipeg', 'Winona', 'Winston-Salem', 'Wintrust is', 'Wireless', 'Wireless Control System', 'Wireless Internet of', 'Wireless in', 'Wireline & Perforating', 'Wisconsin', 'Wisconsin Electric Power', 'Wisconsin Gas', 'Wisconsin Power and', 'Wisconsin Public Service', 'Wisconsin and', 'Wisconsin in', 'Wisconsin since', 'With', 'With a', 'With approximately', 'With headquarters', 'With its', 'With more', 'With net', 'With offices', 'With over', 'With regards', 'With roots', 'With the', 'With tobacco', 'With total', 'Within', 'Within North America', 'Within a', 'Witter Discover & Co', 'Woburn', 'Wonderbox', 'Wonderbra', 'WoodWick', 'Wooden Jacket Can', 'Woodford in', 'Woolworth Company', \"Woolworth's\", 'Woonsocket', 'Worcester', 'Words with', 'Work', 'Work For', 'Work For in', 'Work creativity', 'Workday', 'Works', 'World', 'World Bank', 'World Trade Center', 'World War', 'World and', 'World in', 'World of', \"World's\", 'WorldPay', 'Worldgroup', 'Worldpay', 'Worldpay Group plc', 'Worldwide', 'WorleyParsons', 'Worth International Airport', 'Worthington Industries', 'Wozniak departed', 'Wozniak had', \"Wozniak's\", 'Wright', 'Wright Brand', 'Writing for', 'Wuling', 'Wyndham Destinations', 'Wyndham Hotels and', 'Wyndham Worldwide Corporation', 'Wyndham Worldwide spun', 'Wynn Resorts Ltd', 'Wyoming', 'Wyoming Railroad', 'Wyomissing', 'Xbox video', 'Xcel Energy', 'Xcel Energy Inc', 'Xcel announced', 'Xcel the', 'Xcode', 'Xen', 'Xerox', 'Xerox Holdings Corporation', 'Xerox abandoned', 'Xerox also', 'Xerox and', 'Xerox did', 'Xerox engineers', 'Xerox focuses', 'Xerox is', 'Xerox separated', 'Xerox spin', 'Xiamen', 'Xilinx', 'Xylem Inc', 'Xylem is', 'Xyrem', 'Xyrem for', 'Xyrem were', 'Yahoo', 'Yahoo Finance says', 'Yahoo were', 'Yale at', 'Yale students', 'Yankee Candle', 'Yard House and', 'Yarde Metals', 'Year', \"Year's\", 'Ying pleaded', 'Ynon Kreiz is', 'Yonkers', 'Yoplait', 'York', 'York International', 'York and', 'Young Adult Program', 'Young had', 'Young used', 'Yourself', 'Yum', 'Yum China', 'Zayo Group', 'Zayo Group Holdings', 'Zayo Group was', \"Zayo's\", 'Zayre Corp', 'Zebra Technologies Corporation', 'Zeeland', 'Zendesk Inc', 'Zendesk has', 'Zero Sugar', 'Zimmer Biomet announced', 'Zimmer Biomet is', 'Zimmer was', 'Zinsser', 'Zions Bancorporation', 'Zions Bancorporation is', 'Zions Bancorporation merged', 'Zions Bancorporation now', 'Zions Bancorporation originated', 'Zions Bancorporation was', 'Zions First National', 'Zions Utah Bancorporation', 'Zithromax', 'Zoetis Inc', 'Zoetis would', 'Zoho', 'ZonePerfect', 'Zorba', 'Zuckerman and', 'Zurich', 'Zynga Inc', 'Zynga Poker', 'Zynga began', 'Zynga had', 'Zynga launched', 'Zynga states', 'Zyprexa']\n"
     ]
    }
   ],
   "source": [
    "# brief answer here\n",
    "print(acquisition_strings)\n",
    "print(maybe_companies_set)"
   ]
  },
  {
   "cell_type": "code",
   "execution_count": 51,
   "metadata": {},
   "outputs": [
    {
     "name": "stdout",
     "output_type": "stream",
     "text": [
      "There are definitely several false positives such as 'Chinese', 'Inc.', and 'Also' in maybe_companies_set. Such failures are caused by the pattern codes which are identifying suitable words with the only standards of being around 'acquired' and obtaining a leading Capitalized character.\n"
     ]
    }
   ],
   "source": [
    "print(\"There are definitely several false positives such as 'Chinese', 'Inc.', and 'Also' in maybe_companies_set. \"\n",
    "     \"Such failures are caused by the pattern codes which are identifying suitable words with the only standards of being around 'acquired' and obtaining a leading Capitalized character.\")"
   ]
  },
  {
   "cell_type": "markdown",
   "metadata": {},
   "source": [
    "### -) Let's look into speed of regex matching"
   ]
  },
  {
   "cell_type": "code",
   "execution_count": 52,
   "metadata": {},
   "outputs": [],
   "source": [
    "# write a simple pattern of your choice to search for in our dataset\n",
    "search_ptn = r'iPhone'"
   ]
  },
  {
   "cell_type": "code",
   "execution_count": 53,
   "metadata": {},
   "outputs": [],
   "source": [
    "# assemble a list of strings\n",
    "doc_list = wiki_df['intro_text'].tolist()"
   ]
  },
  {
   "cell_type": "code",
   "execution_count": 54,
   "metadata": {},
   "outputs": [
    {
     "name": "stdout",
     "output_type": "stream",
     "text": [
      "1.16 ms ± 115 µs per loop (mean ± std. dev. of 7 runs, 1000 loops each)\n"
     ]
    }
   ],
   "source": [
    "%%timeit\n",
    "# evaluation loop here\n",
    "for doc in doc_list:\n",
    "    re.search(search_ptn,doc)\n"
   ]
  },
  {
   "cell_type": "markdown",
   "metadata": {},
   "source": [
    "### Let's compile the regex and see if this increases the speed using `re.compile`"
   ]
  },
  {
   "cell_type": "code",
   "execution_count": 55,
   "metadata": {},
   "outputs": [
    {
     "name": "stdout",
     "output_type": "stream",
     "text": [
      "789 µs ± 39.2 µs per loop (mean ± std. dev. of 7 runs, 1000 loops each)\n"
     ]
    }
   ],
   "source": [
    "%%timeit\n",
    "# evaluation loop here\n",
    "prog = re.compile(search_ptn)\n",
    "for doc in doc_list:\n",
    "    result = prog.search(doc)"
   ]
  },
  {
   "cell_type": "markdown",
   "metadata": {},
   "source": [
    "### A note on speed: basic string operations are always faster than regex\n",
    "#### show this using `'my_string' in 'other_string'`"
   ]
  },
  {
   "cell_type": "code",
   "execution_count": 56,
   "metadata": {},
   "outputs": [
    {
     "name": "stdout",
     "output_type": "stream",
     "text": [
      "643 µs ± 32.7 µs per loop (mean ± std. dev. of 7 runs, 1000 loops each)\n"
     ]
    }
   ],
   "source": [
    "%%timeit\n",
    "# evaluation loop here\n",
    "for doc in doc_list:\n",
    "    'iPhone' in doc"
   ]
  },
  {
   "cell_type": "code",
   "execution_count": null,
   "metadata": {},
   "outputs": [],
   "source": [
    "%%timeit\n",
    "for doc in doc_list:\n",
    "    re.search('iPhone',doc)"
   ]
  },
  {
   "cell_type": "code",
   "execution_count": null,
   "metadata": {},
   "outputs": [],
   "source": []
  }
 ],
 "metadata": {
  "kernelspec": {
   "display_name": "Python 3",
   "language": "python",
   "name": "python3"
  },
  "language_info": {
   "codemirror_mode": {
    "name": "ipython",
    "version": 3
   },
   "file_extension": ".py",
   "mimetype": "text/x-python",
   "name": "python",
   "nbconvert_exporter": "python",
   "pygments_lexer": "ipython3",
   "version": "3.6.5"
  }
 },
 "nbformat": 4,
 "nbformat_minor": 4
}
