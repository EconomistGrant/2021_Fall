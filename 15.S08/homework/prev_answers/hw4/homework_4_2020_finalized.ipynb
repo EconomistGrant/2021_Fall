{
 "cells": [
  {
   "cell_type": "markdown",
   "metadata": {},
   "source": [
    "# Problem 1: Multiclass (30 %)\n",
    "### Shunli Lu Boning Huang Huizhi Li \n",
    "\n",
    "### So far we have largely focused on binary classification, where the input is a document and the output is a yes or a no (or probability of yes). \n",
    "\n",
    "### In fact, more complex tasks exist where the input is a document and the output can be multiple (more than two) classes. \n",
    "\n",
    "## In this problem we'll investigate two so-called multiclass problems\n",
    "### Multiclass: an observation is assigned inclusion in ONE of a N $N>2$ categories\n",
    " - ### E.g. is this sentence positive, negative, or neutral sentiment\n",
    " - ### E.g. is this email spam or not spam\n",
    "\n",
    "\n",
    "### Multiclass-multilabel: an observation can belong to more than one of $N>=2$ categories\n",
    " - ### E.g. is this document about `{sports, current events, Steph Curry}` ( a document can be about more than one)\n",
    " - ### E.g. is this blood sample A, B, O, $+$, $-$ (blood can be `A+` or `A-`)\n",
    "\n",
    "## We will study the metrics we can use to evaluate these classification problems"
   ]
  },
  {
   "cell_type": "code",
   "execution_count": 1,
   "metadata": {},
   "outputs": [
    {
     "name": "stdout",
     "output_type": "stream",
     "text": [
      "Populating the interactive namespace from numpy and matplotlib\n"
     ]
    }
   ],
   "source": [
    "import numpy as np\n",
    "import pandas as pd\n",
    "%pylab inline\n",
    "\n",
    "import json\n",
    "\n",
    "from sklearn.metrics import accuracy_score, f1_score\n",
    "from sklearn.linear_model import LogisticRegression\n",
    "from sklearn.feature_extraction.text import CountVectorizer"
   ]
  },
  {
   "cell_type": "code",
   "execution_count": 2,
   "metadata": {},
   "outputs": [],
   "source": [
    "np.random.seed(1234)"
   ]
  },
  {
   "cell_type": "markdown",
   "metadata": {},
   "source": [
    "## We will start with multiclass by studying the 20 newsgroups data\n",
    "# $ \\\\ $\n",
    "# $ \\\\ $\n",
    "# Part 0: get the data\n",
    " - ### use the builtin function `from sklearn.datasets import fetch_20newsgroups`\n",
    " - ### NB: look at the docs and use the `remove` kwarg in order to get cleaned data\n",
    "\n",
    "## TODO\n",
    " - ## fetch the data separately for the train and test data\n",
    " - ## How many classes are present? \n",
    " - ## What is the most common class- please give the name and not the number.\n",
    " - ## What is the accuracy of the best constant guess in the train set?"
   ]
  },
  {
   "cell_type": "code",
   "execution_count": 3,
   "metadata": {},
   "outputs": [],
   "source": [
    "from sklearn.datasets import fetch_20newsgroups\n",
    "from collections import Counter"
   ]
  },
  {
   "cell_type": "code",
   "execution_count": 4,
   "metadata": {},
   "outputs": [],
   "source": [
    "data_train = fetch_20newsgroups(subset = 'train', remove = ('headers', 'footers','quotes'))\n",
    "data_test = fetch_20newsgroups(subset = 'test', remove = ('headers', 'footers','quotes'))\n",
    "\n"
   ]
  },
  {
   "cell_type": "code",
   "execution_count": 5,
   "metadata": {},
   "outputs": [
    {
     "name": "stdout",
     "output_type": "stream",
     "text": [
      "found 20 classes\n",
      "most common class: rec.sport.hockey\n",
      "constant guess acc: 0.053\n"
     ]
    }
   ],
   "source": [
    "val_counts = np.array(data_train.target_names)\n",
    "print('found {} classes'.format(val_counts.shape[0]))\n",
    "\n",
    "most_common_class_index = Counter(data_train.target).most_common(1)[0][0]\n",
    "most_common_class = data_train.target_names[most_common_class_index] \n",
    "print('most common class: {}'.format(most_common_class))\n",
    "\n",
    "y_pred = np.full(len(data_train.data), 10)\n",
    "dummy_acc = accuracy_score(data_train.target.astype(int), y_pred)\n",
    "print('constant guess acc: {:.3f}'.format(dummy_acc))"
   ]
  },
  {
   "cell_type": "code",
   "execution_count": null,
   "metadata": {},
   "outputs": [],
   "source": []
  },
  {
   "cell_type": "markdown",
   "metadata": {},
   "source": [
    "# Part 1: fit a model\n",
    "## As we saw with mnist, logistic regression is capable of fitting multi-class data.\n",
    " - ## Encode the text with as a bag of words and fit logistic regression to the data\n",
    " - ## Calcuate the out of sample accuracy score"
   ]
  },
  {
   "cell_type": "code",
   "execution_count": 6,
   "metadata": {},
   "outputs": [],
   "source": [
    "# Todo\n",
    "# 1. make a count vectorizer with max_features=20000\n",
    "# 2. fit it\n",
    "# 3. transform the train and test data into number\n",
    "\n",
    "# your code here\n",
    "vec = CountVectorizer(max_features = 20000)\n",
    "vec.fit(data_train.data)\n",
    "xtr = vec.transform(data_train.data)\n",
    "xte = vec.transform(data_test.data)\n",
    "ytr = data_train.target\n",
    "yte = data_test.target"
   ]
  },
  {
   "cell_type": "code",
   "execution_count": 7,
   "metadata": {},
   "outputs": [
    {
     "name": "stdout",
     "output_type": "stream",
     "text": [
      "train accuracy: 0.969\n",
      "test accuracy: 0.607\n"
     ]
    }
   ],
   "source": [
    "# TODO\n",
    "# 1. fit logistic regression\n",
    "# 2. compute accuracy score\n",
    "\n",
    "# your code here\n",
    "lr = LogisticRegression(solver = 'liblinear')\n",
    "lr.fit(xtr, ytr)\n",
    "\n",
    "train_pred = lr.predict(xtr)\n",
    "test_pred = lr.predict(xte)\n",
    "print('train accuracy: {:.3f}'.format(accuracy_score(ytr, train_pred)))\n",
    "print('test accuracy: {:.3f}'.format(accuracy_score(yte, test_pred)))\n",
    "#accuracy_score(..."
   ]
  },
  {
   "cell_type": "markdown",
   "metadata": {},
   "source": [
    "# Part 2: Evaluate metrics\n",
    "### As we have seen previously, while accuracy is useful, it does not always capture all the behavior we want in a metric.\n",
    "\n",
    "### Here we will extend the concept of f1 score to the multiclass setting. There are several ways to do this\n",
    " - report a different f1 score for every class (no averaging)\n",
    " - report the mean f1 score over all classes\n",
    " - report a weighted f1 score weighted by class prevelance. \n",
    "\n",
    "### For each of these three types of f1\n",
    " - calculate the score(s) without the help of scikit learn\n",
    " - compare it to the corresponding f1 score evaluated with scikit-learn (NB you'll need to read the docs for `f1_score`. \n",
    " - Write down the pros and cons for this method of calculating multiclass f1 score"
   ]
  },
  {
   "cell_type": "code",
   "execution_count": 8,
   "metadata": {},
   "outputs": [
    {
     "name": "stdout",
     "output_type": "stream",
     "text": [
      "fscore for alt.atheism \t = 0.438\n",
      "fscore for comp.graphics \t = 0.587\n",
      "fscore for comp.os.ms-windows.misc \t = 0.569\n",
      "fscore for comp.sys.ibm.pc.hardware \t = 0.545\n",
      "fscore for comp.sys.mac.hardware \t = 0.637\n",
      "fscore for comp.windows.x \t = 0.678\n",
      "fscore for misc.forsale \t = 0.748\n",
      "fscore for rec.autos \t = 0.612\n",
      "fscore for rec.motorcycles \t = 0.667\n",
      "fscore for rec.sport.baseball \t = 0.571\n",
      "fscore for rec.sport.hockey \t = 0.827\n",
      "fscore for sci.crypt \t = 0.688\n",
      "fscore for sci.electronics \t = 0.495\n",
      "fscore for sci.med \t = 0.668\n",
      "fscore for sci.space \t = 0.653\n",
      "fscore for soc.religion.christian \t = 0.649\n",
      "fscore for talk.politics.guns \t = 0.536\n",
      "fscore for talk.politics.mideast \t = 0.687\n",
      "fscore for talk.politics.misc \t = 0.394\n",
      "fscore for talk.religion.misc \t = 0.289\n",
      "\n",
      "\n",
      "\n",
      "sklearn builtin matches results\n"
     ]
    }
   ],
   "source": [
    "preds = lr.predict(xte)\n",
    "\n",
    "f1s = []\n",
    "for label_index, label_name in enumerate(data_train.target_names):\n",
    "    # calculate the f1 score of one (label_index) vs rest\n",
    "    # your code here...\n",
    "    label_preds = preds == label_index\n",
    "    label_yte = yte == label_index\n",
    "    tp = label_preds & label_yte\n",
    "    fp = label_preds & ~label_yte\n",
    "    tn = ~label_preds & ~label_yte\n",
    "    fn = ~label_preds & label_yte\n",
    "    prec_score = tp.sum() / (tp.sum() + fp.sum())\n",
    "    rec_score = tp.sum() /  (tp.sum() + fn.sum())\n",
    "    f1_score2 = 2*(prec_score*rec_score) / (prec_score+rec_score)\n",
    "    f1s.append(f1_score2)\n",
    "\n",
    "for label_name, fs in zip(data_train.target_names, f1s):\n",
    "    print('fscore for {} \\t = {:.3f}'.format(label_name, fs))\n",
    "\n",
    "print('\\n\\n')\n",
    "# compare to sklearn\n",
    "success = (f1s == f1_score(data_test.target, preds, average=None)).all()\n",
    "if success:\n",
    "    print('sklearn builtin matches results')\n",
    "else:\n",
    "    print('scores do not match')"
   ]
  },
  {
   "cell_type": "code",
   "execution_count": 1,
   "metadata": {},
   "outputs": [],
   "source": [
    "# The pros are 1) we get a detailed breakdown that allows us to understand performance of model with respect to each class 2) we can see if any class does particularly badly to spot problems \n",
    "# The cons are 1) we do not get a metric that represents model's overall performance over entire dataset 2) this might produce too many scores which could obfuscate when we have many classes"
   ]
  },
  {
   "cell_type": "code",
   "execution_count": null,
   "metadata": {},
   "outputs": [],
   "source": []
  },
  {
   "cell_type": "code",
   "execution_count": 9,
   "metadata": {},
   "outputs": [
    {
     "name": "stdout",
     "output_type": "stream",
     "text": [
      "macro f1: 0.5967725277969271 \t sklearn macro f1 0.5967725277969271\n"
     ]
    }
   ],
   "source": [
    "# now the macro f1 (the mean of the f1s for each class)\n",
    "f1_macro = sum(f1s) / len(f1s)\n",
    "f1_macro_sk = f1_score(data_test.target, preds, average='macro')\n",
    "assert(round(f1_macro, 5) == round(f1_macro_sk, 5))\n",
    "print('macro f1: {} \\t sklearn macro f1 {}'.format(\n",
    "    f1_macro, \n",
    "    f1_macro_sk\n",
    "))\n",
    "\n"
   ]
  },
  {
   "cell_type": "code",
   "execution_count": null,
   "metadata": {},
   "outputs": [],
   "source": [
    "# The pros are 1) we now have a metric representing overall performance, which is efficient\n",
    "# The cons are 1) the classes are equally weighted, so 2) it's possible for a class with rare occurrence but happens to have very poor precisiion/recall scores to distort our overall f1 score"
   ]
  },
  {
   "cell_type": "code",
   "execution_count": 37,
   "metadata": {},
   "outputs": [
    {
     "name": "stdout",
     "output_type": "stream",
     "text": [
      "weighted f1 0.6066614517944554 \t sklearn weighted f1 0.6066614517944553\n"
     ]
    }
   ],
   "source": [
    "# now weighted by class prevalence\n",
    "# TODO:\n",
    "#  - calculate the frequency of each class\n",
    "#  - take a weighted average of the f1s, weighted by these weights\n",
    "#  - compare to sklearn\n",
    "wts = []\n",
    "for i in range(20):\n",
    "    freq = Counter(yte)[i]\n",
    "    wts.append(freq/len(yte))   \n",
    "\n",
    "weighted_f1 = sum([a*b for a, b in zip(wts,f1s)])\n",
    "weighted_f1_sk = f1_score(data_test.target, preds, average='weighted')\n",
    "\n",
    "print('weighted f1 {} \\t sklearn weighted f1 {}'.format(weighted_f1, weighted_f1_sk))"
   ]
  },
  {
   "cell_type": "code",
   "execution_count": 10,
   "metadata": {},
   "outputs": [],
   "source": [
    "# The pros are 1) we lower/amplify the effect of less/more frequent classes, which might be less/more important \n",
    "# The cons are 1) the classes are weighed by frequency only; there might be instances in which some classes are important for other reasons; e.g. getting a particular class right is more profittable than other classes"
   ]
  },
  {
   "cell_type": "code",
   "execution_count": null,
   "metadata": {},
   "outputs": [],
   "source": []
  },
  {
   "cell_type": "markdown",
   "metadata": {},
   "source": [
    "# Part 3: Confusion Matrix\n",
    "## The confusion matrix is a handy way to understand errors in classification problems.  It is a 2-D grid of what values were predicted and what the actual values were. \n",
    "\n",
    "See [confusion matrix](https://scikit-learn.org/stable/modules/generated/sklearn.metrics.confusion_matrix.html) in the sklearn docs. \n",
    "\n",
    "## Create a confusion matrix for the 20-newsgroups dataset and comment on the most common failure modes"
   ]
  },
  {
   "cell_type": "code",
   "execution_count": 11,
   "metadata": {
    "scrolled": false
   },
   "outputs": [
    {
     "data": {
      "text/html": [
       "<div>\n",
       "<style scoped>\n",
       "    .dataframe tbody tr th:only-of-type {\n",
       "        vertical-align: middle;\n",
       "    }\n",
       "\n",
       "    .dataframe tbody tr th {\n",
       "        vertical-align: top;\n",
       "    }\n",
       "\n",
       "    .dataframe thead th {\n",
       "        text-align: right;\n",
       "    }\n",
       "</style>\n",
       "<table border=\"1\" class=\"dataframe\">\n",
       "  <thead>\n",
       "    <tr style=\"text-align: right;\">\n",
       "      <th></th>\n",
       "      <th>0</th>\n",
       "      <th>1</th>\n",
       "      <th>2</th>\n",
       "      <th>3</th>\n",
       "      <th>4</th>\n",
       "      <th>5</th>\n",
       "      <th>6</th>\n",
       "      <th>7</th>\n",
       "      <th>8</th>\n",
       "      <th>9</th>\n",
       "      <th>10</th>\n",
       "      <th>11</th>\n",
       "      <th>12</th>\n",
       "      <th>13</th>\n",
       "      <th>14</th>\n",
       "      <th>15</th>\n",
       "      <th>16</th>\n",
       "      <th>17</th>\n",
       "      <th>18</th>\n",
       "      <th>19</th>\n",
       "    </tr>\n",
       "  </thead>\n",
       "  <tbody>\n",
       "    <tr>\n",
       "      <th>0</th>\n",
       "      <td>137</td>\n",
       "      <td>3</td>\n",
       "      <td>5</td>\n",
       "      <td>1</td>\n",
       "      <td>2</td>\n",
       "      <td>3</td>\n",
       "      <td>2</td>\n",
       "      <td>6</td>\n",
       "      <td>9</td>\n",
       "      <td>13</td>\n",
       "      <td>2</td>\n",
       "      <td>3</td>\n",
       "      <td>10</td>\n",
       "      <td>10</td>\n",
       "      <td>15</td>\n",
       "      <td>33</td>\n",
       "      <td>8</td>\n",
       "      <td>11</td>\n",
       "      <td>5</td>\n",
       "      <td>41</td>\n",
       "    </tr>\n",
       "    <tr>\n",
       "      <th>1</th>\n",
       "      <td>4</td>\n",
       "      <td>244</td>\n",
       "      <td>23</td>\n",
       "      <td>8</td>\n",
       "      <td>5</td>\n",
       "      <td>24</td>\n",
       "      <td>8</td>\n",
       "      <td>4</td>\n",
       "      <td>5</td>\n",
       "      <td>12</td>\n",
       "      <td>3</td>\n",
       "      <td>4</td>\n",
       "      <td>17</td>\n",
       "      <td>3</td>\n",
       "      <td>11</td>\n",
       "      <td>1</td>\n",
       "      <td>2</td>\n",
       "      <td>3</td>\n",
       "      <td>5</td>\n",
       "      <td>3</td>\n",
       "    </tr>\n",
       "    <tr>\n",
       "      <th>2</th>\n",
       "      <td>4</td>\n",
       "      <td>25</td>\n",
       "      <td>222</td>\n",
       "      <td>44</td>\n",
       "      <td>19</td>\n",
       "      <td>13</td>\n",
       "      <td>3</td>\n",
       "      <td>5</td>\n",
       "      <td>4</td>\n",
       "      <td>19</td>\n",
       "      <td>1</td>\n",
       "      <td>5</td>\n",
       "      <td>5</td>\n",
       "      <td>6</td>\n",
       "      <td>7</td>\n",
       "      <td>1</td>\n",
       "      <td>3</td>\n",
       "      <td>2</td>\n",
       "      <td>4</td>\n",
       "      <td>2</td>\n",
       "    </tr>\n",
       "    <tr>\n",
       "      <th>3</th>\n",
       "      <td>1</td>\n",
       "      <td>18</td>\n",
       "      <td>46</td>\n",
       "      <td>217</td>\n",
       "      <td>30</td>\n",
       "      <td>6</td>\n",
       "      <td>15</td>\n",
       "      <td>4</td>\n",
       "      <td>2</td>\n",
       "      <td>8</td>\n",
       "      <td>2</td>\n",
       "      <td>4</td>\n",
       "      <td>31</td>\n",
       "      <td>3</td>\n",
       "      <td>2</td>\n",
       "      <td>1</td>\n",
       "      <td>0</td>\n",
       "      <td>0</td>\n",
       "      <td>2</td>\n",
       "      <td>0</td>\n",
       "    </tr>\n",
       "    <tr>\n",
       "      <th>4</th>\n",
       "      <td>1</td>\n",
       "      <td>10</td>\n",
       "      <td>11</td>\n",
       "      <td>36</td>\n",
       "      <td>238</td>\n",
       "      <td>2</td>\n",
       "      <td>14</td>\n",
       "      <td>11</td>\n",
       "      <td>6</td>\n",
       "      <td>15</td>\n",
       "      <td>3</td>\n",
       "      <td>4</td>\n",
       "      <td>24</td>\n",
       "      <td>1</td>\n",
       "      <td>6</td>\n",
       "      <td>1</td>\n",
       "      <td>2</td>\n",
       "      <td>0</td>\n",
       "      <td>0</td>\n",
       "      <td>0</td>\n",
       "    </tr>\n",
       "    <tr>\n",
       "      <th>5</th>\n",
       "      <td>1</td>\n",
       "      <td>55</td>\n",
       "      <td>33</td>\n",
       "      <td>15</td>\n",
       "      <td>5</td>\n",
       "      <td>241</td>\n",
       "      <td>6</td>\n",
       "      <td>2</td>\n",
       "      <td>2</td>\n",
       "      <td>11</td>\n",
       "      <td>0</td>\n",
       "      <td>4</td>\n",
       "      <td>3</td>\n",
       "      <td>1</td>\n",
       "      <td>7</td>\n",
       "      <td>4</td>\n",
       "      <td>1</td>\n",
       "      <td>4</td>\n",
       "      <td>0</td>\n",
       "      <td>0</td>\n",
       "    </tr>\n",
       "    <tr>\n",
       "      <th>6</th>\n",
       "      <td>1</td>\n",
       "      <td>4</td>\n",
       "      <td>6</td>\n",
       "      <td>15</td>\n",
       "      <td>12</td>\n",
       "      <td>2</td>\n",
       "      <td>296</td>\n",
       "      <td>9</td>\n",
       "      <td>10</td>\n",
       "      <td>15</td>\n",
       "      <td>1</td>\n",
       "      <td>1</td>\n",
       "      <td>8</td>\n",
       "      <td>1</td>\n",
       "      <td>6</td>\n",
       "      <td>1</td>\n",
       "      <td>1</td>\n",
       "      <td>1</td>\n",
       "      <td>0</td>\n",
       "      <td>0</td>\n",
       "    </tr>\n",
       "    <tr>\n",
       "      <th>7</th>\n",
       "      <td>7</td>\n",
       "      <td>5</td>\n",
       "      <td>3</td>\n",
       "      <td>5</td>\n",
       "      <td>4</td>\n",
       "      <td>1</td>\n",
       "      <td>11</td>\n",
       "      <td>249</td>\n",
       "      <td>21</td>\n",
       "      <td>32</td>\n",
       "      <td>2</td>\n",
       "      <td>1</td>\n",
       "      <td>19</td>\n",
       "      <td>4</td>\n",
       "      <td>6</td>\n",
       "      <td>4</td>\n",
       "      <td>5</td>\n",
       "      <td>3</td>\n",
       "      <td>9</td>\n",
       "      <td>5</td>\n",
       "    </tr>\n",
       "    <tr>\n",
       "      <th>8</th>\n",
       "      <td>2</td>\n",
       "      <td>3</td>\n",
       "      <td>3</td>\n",
       "      <td>4</td>\n",
       "      <td>3</td>\n",
       "      <td>1</td>\n",
       "      <td>4</td>\n",
       "      <td>33</td>\n",
       "      <td>276</td>\n",
       "      <td>22</td>\n",
       "      <td>0</td>\n",
       "      <td>4</td>\n",
       "      <td>12</td>\n",
       "      <td>5</td>\n",
       "      <td>6</td>\n",
       "      <td>1</td>\n",
       "      <td>3</td>\n",
       "      <td>3</td>\n",
       "      <td>10</td>\n",
       "      <td>3</td>\n",
       "    </tr>\n",
       "    <tr>\n",
       "      <th>9</th>\n",
       "      <td>5</td>\n",
       "      <td>3</td>\n",
       "      <td>1</td>\n",
       "      <td>2</td>\n",
       "      <td>3</td>\n",
       "      <td>1</td>\n",
       "      <td>5</td>\n",
       "      <td>8</td>\n",
       "      <td>10</td>\n",
       "      <td>291</td>\n",
       "      <td>31</td>\n",
       "      <td>0</td>\n",
       "      <td>4</td>\n",
       "      <td>4</td>\n",
       "      <td>7</td>\n",
       "      <td>6</td>\n",
       "      <td>4</td>\n",
       "      <td>2</td>\n",
       "      <td>7</td>\n",
       "      <td>3</td>\n",
       "    </tr>\n",
       "    <tr>\n",
       "      <th>10</th>\n",
       "      <td>6</td>\n",
       "      <td>3</td>\n",
       "      <td>1</td>\n",
       "      <td>3</td>\n",
       "      <td>0</td>\n",
       "      <td>0</td>\n",
       "      <td>1</td>\n",
       "      <td>5</td>\n",
       "      <td>4</td>\n",
       "      <td>29</td>\n",
       "      <td>324</td>\n",
       "      <td>2</td>\n",
       "      <td>2</td>\n",
       "      <td>1</td>\n",
       "      <td>4</td>\n",
       "      <td>4</td>\n",
       "      <td>3</td>\n",
       "      <td>0</td>\n",
       "      <td>3</td>\n",
       "      <td>4</td>\n",
       "    </tr>\n",
       "    <tr>\n",
       "      <th>11</th>\n",
       "      <td>4</td>\n",
       "      <td>10</td>\n",
       "      <td>7</td>\n",
       "      <td>4</td>\n",
       "      <td>6</td>\n",
       "      <td>2</td>\n",
       "      <td>4</td>\n",
       "      <td>4</td>\n",
       "      <td>7</td>\n",
       "      <td>26</td>\n",
       "      <td>2</td>\n",
       "      <td>253</td>\n",
       "      <td>16</td>\n",
       "      <td>5</td>\n",
       "      <td>9</td>\n",
       "      <td>2</td>\n",
       "      <td>12</td>\n",
       "      <td>6</td>\n",
       "      <td>9</td>\n",
       "      <td>8</td>\n",
       "    </tr>\n",
       "    <tr>\n",
       "      <th>12</th>\n",
       "      <td>6</td>\n",
       "      <td>15</td>\n",
       "      <td>12</td>\n",
       "      <td>29</td>\n",
       "      <td>18</td>\n",
       "      <td>9</td>\n",
       "      <td>15</td>\n",
       "      <td>17</td>\n",
       "      <td>12</td>\n",
       "      <td>17</td>\n",
       "      <td>1</td>\n",
       "      <td>14</td>\n",
       "      <td>192</td>\n",
       "      <td>11</td>\n",
       "      <td>15</td>\n",
       "      <td>3</td>\n",
       "      <td>2</td>\n",
       "      <td>2</td>\n",
       "      <td>3</td>\n",
       "      <td>0</td>\n",
       "    </tr>\n",
       "    <tr>\n",
       "      <th>13</th>\n",
       "      <td>5</td>\n",
       "      <td>15</td>\n",
       "      <td>2</td>\n",
       "      <td>3</td>\n",
       "      <td>4</td>\n",
       "      <td>3</td>\n",
       "      <td>7</td>\n",
       "      <td>15</td>\n",
       "      <td>13</td>\n",
       "      <td>18</td>\n",
       "      <td>1</td>\n",
       "      <td>4</td>\n",
       "      <td>9</td>\n",
       "      <td>250</td>\n",
       "      <td>7</td>\n",
       "      <td>14</td>\n",
       "      <td>11</td>\n",
       "      <td>4</td>\n",
       "      <td>7</td>\n",
       "      <td>4</td>\n",
       "    </tr>\n",
       "    <tr>\n",
       "      <th>14</th>\n",
       "      <td>6</td>\n",
       "      <td>15</td>\n",
       "      <td>4</td>\n",
       "      <td>4</td>\n",
       "      <td>5</td>\n",
       "      <td>1</td>\n",
       "      <td>1</td>\n",
       "      <td>9</td>\n",
       "      <td>6</td>\n",
       "      <td>23</td>\n",
       "      <td>2</td>\n",
       "      <td>4</td>\n",
       "      <td>17</td>\n",
       "      <td>9</td>\n",
       "      <td>259</td>\n",
       "      <td>5</td>\n",
       "      <td>9</td>\n",
       "      <td>2</td>\n",
       "      <td>8</td>\n",
       "      <td>5</td>\n",
       "    </tr>\n",
       "    <tr>\n",
       "      <th>15</th>\n",
       "      <td>26</td>\n",
       "      <td>2</td>\n",
       "      <td>2</td>\n",
       "      <td>5</td>\n",
       "      <td>1</td>\n",
       "      <td>1</td>\n",
       "      <td>3</td>\n",
       "      <td>4</td>\n",
       "      <td>5</td>\n",
       "      <td>15</td>\n",
       "      <td>2</td>\n",
       "      <td>1</td>\n",
       "      <td>3</td>\n",
       "      <td>9</td>\n",
       "      <td>5</td>\n",
       "      <td>266</td>\n",
       "      <td>1</td>\n",
       "      <td>9</td>\n",
       "      <td>8</td>\n",
       "      <td>30</td>\n",
       "    </tr>\n",
       "    <tr>\n",
       "      <th>16</th>\n",
       "      <td>10</td>\n",
       "      <td>5</td>\n",
       "      <td>2</td>\n",
       "      <td>3</td>\n",
       "      <td>3</td>\n",
       "      <td>2</td>\n",
       "      <td>2</td>\n",
       "      <td>12</td>\n",
       "      <td>16</td>\n",
       "      <td>20</td>\n",
       "      <td>2</td>\n",
       "      <td>15</td>\n",
       "      <td>2</td>\n",
       "      <td>7</td>\n",
       "      <td>7</td>\n",
       "      <td>10</td>\n",
       "      <td>197</td>\n",
       "      <td>8</td>\n",
       "      <td>23</td>\n",
       "      <td>18</td>\n",
       "    </tr>\n",
       "    <tr>\n",
       "      <th>17</th>\n",
       "      <td>30</td>\n",
       "      <td>1</td>\n",
       "      <td>1</td>\n",
       "      <td>1</td>\n",
       "      <td>1</td>\n",
       "      <td>0</td>\n",
       "      <td>0</td>\n",
       "      <td>7</td>\n",
       "      <td>8</td>\n",
       "      <td>12</td>\n",
       "      <td>1</td>\n",
       "      <td>6</td>\n",
       "      <td>3</td>\n",
       "      <td>5</td>\n",
       "      <td>3</td>\n",
       "      <td>14</td>\n",
       "      <td>13</td>\n",
       "      <td>241</td>\n",
       "      <td>19</td>\n",
       "      <td>10</td>\n",
       "    </tr>\n",
       "    <tr>\n",
       "      <th>18</th>\n",
       "      <td>16</td>\n",
       "      <td>2</td>\n",
       "      <td>0</td>\n",
       "      <td>3</td>\n",
       "      <td>0</td>\n",
       "      <td>2</td>\n",
       "      <td>1</td>\n",
       "      <td>8</td>\n",
       "      <td>10</td>\n",
       "      <td>14</td>\n",
       "      <td>3</td>\n",
       "      <td>6</td>\n",
       "      <td>4</td>\n",
       "      <td>7</td>\n",
       "      <td>9</td>\n",
       "      <td>9</td>\n",
       "      <td>77</td>\n",
       "      <td>14</td>\n",
       "      <td>109</td>\n",
       "      <td>16</td>\n",
       "    </tr>\n",
       "    <tr>\n",
       "      <th>19</th>\n",
       "      <td>35</td>\n",
       "      <td>5</td>\n",
       "      <td>2</td>\n",
       "      <td>3</td>\n",
       "      <td>3</td>\n",
       "      <td>2</td>\n",
       "      <td>3</td>\n",
       "      <td>6</td>\n",
       "      <td>4</td>\n",
       "      <td>10</td>\n",
       "      <td>2</td>\n",
       "      <td>4</td>\n",
       "      <td>2</td>\n",
       "      <td>11</td>\n",
       "      <td>8</td>\n",
       "      <td>42</td>\n",
       "      <td>17</td>\n",
       "      <td>11</td>\n",
       "      <td>13</td>\n",
       "      <td>68</td>\n",
       "    </tr>\n",
       "  </tbody>\n",
       "</table>\n",
       "</div>"
      ],
      "text/plain": [
       "     0    1    2    3    4    5    6    7    8    9    10   11   12   13   14  \\\n",
       "0   137    3    5    1    2    3    2    6    9   13    2    3   10   10   15   \n",
       "1     4  244   23    8    5   24    8    4    5   12    3    4   17    3   11   \n",
       "2     4   25  222   44   19   13    3    5    4   19    1    5    5    6    7   \n",
       "3     1   18   46  217   30    6   15    4    2    8    2    4   31    3    2   \n",
       "4     1   10   11   36  238    2   14   11    6   15    3    4   24    1    6   \n",
       "5     1   55   33   15    5  241    6    2    2   11    0    4    3    1    7   \n",
       "6     1    4    6   15   12    2  296    9   10   15    1    1    8    1    6   \n",
       "7     7    5    3    5    4    1   11  249   21   32    2    1   19    4    6   \n",
       "8     2    3    3    4    3    1    4   33  276   22    0    4   12    5    6   \n",
       "9     5    3    1    2    3    1    5    8   10  291   31    0    4    4    7   \n",
       "10    6    3    1    3    0    0    1    5    4   29  324    2    2    1    4   \n",
       "11    4   10    7    4    6    2    4    4    7   26    2  253   16    5    9   \n",
       "12    6   15   12   29   18    9   15   17   12   17    1   14  192   11   15   \n",
       "13    5   15    2    3    4    3    7   15   13   18    1    4    9  250    7   \n",
       "14    6   15    4    4    5    1    1    9    6   23    2    4   17    9  259   \n",
       "15   26    2    2    5    1    1    3    4    5   15    2    1    3    9    5   \n",
       "16   10    5    2    3    3    2    2   12   16   20    2   15    2    7    7   \n",
       "17   30    1    1    1    1    0    0    7    8   12    1    6    3    5    3   \n",
       "18   16    2    0    3    0    2    1    8   10   14    3    6    4    7    9   \n",
       "19   35    5    2    3    3    2    3    6    4   10    2    4    2   11    8   \n",
       "\n",
       "     15   16   17   18  19  \n",
       "0    33    8   11    5  41  \n",
       "1     1    2    3    5   3  \n",
       "2     1    3    2    4   2  \n",
       "3     1    0    0    2   0  \n",
       "4     1    2    0    0   0  \n",
       "5     4    1    4    0   0  \n",
       "6     1    1    1    0   0  \n",
       "7     4    5    3    9   5  \n",
       "8     1    3    3   10   3  \n",
       "9     6    4    2    7   3  \n",
       "10    4    3    0    3   4  \n",
       "11    2   12    6    9   8  \n",
       "12    3    2    2    3   0  \n",
       "13   14   11    4    7   4  \n",
       "14    5    9    2    8   5  \n",
       "15  266    1    9    8  30  \n",
       "16   10  197    8   23  18  \n",
       "17   14   13  241   19  10  \n",
       "18    9   77   14  109  16  \n",
       "19   42   17   11   13  68  "
      ]
     },
     "execution_count": 11,
     "metadata": {},
     "output_type": "execute_result"
    }
   ],
   "source": [
    "from sklearn.metrics import confusion_matrix\n",
    "# your code here\n",
    "df = pd.DataFrame(confusion_matrix(yte, preds))\n",
    "df\n",
    "# NB: it's handy to call `pd.DataFrame` on the confusion matrix to print it out nicely\n",
    "# C_(ij) entry means: known to be in group i, predicted to be in group j"
   ]
  },
  {
   "cell_type": "code",
   "execution_count": 4,
   "metadata": {},
   "outputs": [],
   "source": [
    "# comments here\n",
    "#1) Failures occur mostly within newsgroups or sub-newsgroups: e.g. computers, politics, religion, rec-auto, rec-sports\n",
    "#2) Interestingly, less intra-newsgroup failure for science; most commonly misplaced categories are in other newsgroups like computers and even sports!\n",
    "#3) Religion newsgroup shows particularly severe intra-newsgroup failures; understandable since, in English language literature at least, discussions of religion, Christianity and atheism are particularly intertwined "
   ]
  },
  {
   "cell_type": "code",
   "execution_count": null,
   "metadata": {},
   "outputs": [],
   "source": []
  },
  {
   "cell_type": "markdown",
   "metadata": {},
   "source": [
    "# Problem 2: Multiclass Multilabel Problems (20 %)\n",
    "### In this problem we'll examine academic articles from the [arXiv](www.arxiv.org).\n",
    "### Authors who submit articles can attach one or more categories to the articles"
   ]
  },
  {
   "cell_type": "code",
   "execution_count": null,
   "metadata": {},
   "outputs": [],
   "source": []
  },
  {
   "cell_type": "markdown",
   "metadata": {},
   "source": [
    "# Part 0: Load the data\n",
    "## TODO\n",
    " - ### load the data\n",
    " - ### compute all of the unique categories in the train data\n",
    " - ### What are the 10 most common categories which occur together"
   ]
  },
  {
   "cell_type": "code",
   "execution_count": 14,
   "metadata": {},
   "outputs": [
    {
     "name": "stdout",
     "output_type": "stream",
     "text": [
      "9923 2481\n"
     ]
    }
   ],
   "source": [
    "with open('./../data/arXiv/arxiv-qfin-train.json') as fi:\n",
    "    data_train = json.load(fi)\n",
    "\n",
    "with open('./../data/arXiv/arxiv-qfin-test.json') as fi:\n",
    "    data_test = json.load(fi)\n",
    "\n",
    "    \n",
    "print(len(data_train), len(data_test))"
   ]
  },
  {
   "cell_type": "code",
   "execution_count": null,
   "metadata": {},
   "outputs": [],
   "source": []
  },
  {
   "cell_type": "code",
   "execution_count": 15,
   "metadata": {},
   "outputs": [
    {
     "name": "stdout",
     "output_type": "stream",
     "text": [
      "{'q-fin.CP', 'q-fin.MF', 'q-fin.TR', 'econ.GN', 'math.PR', 'q-fin.ST', 'econ.EM', 'q-fin.RM', 'q-fin.EC', 'q-fin.PR', 'q-fin.GN', 'q-fin.PM'}\n"
     ]
    },
    {
     "data": {
      "text/plain": [
       "12"
      ]
     },
     "execution_count": 15,
     "metadata": {},
     "output_type": "execute_result"
    }
   ],
   "source": [
    "# compute the unique categories here\n",
    "set_cat = set()\n",
    "for val in data_train:\n",
    "    for cat in val['category']:\n",
    "        set_cat.add(cat)\n",
    "        \n",
    "print(set_cat)\n",
    "len(set_cat)"
   ]
  },
  {
   "cell_type": "code",
   "execution_count": 16,
   "metadata": {},
   "outputs": [
    {
     "data": {
      "text/plain": [
       "{\"['econ.GN', 'q-fin.EC']\": 795,\n",
       " \"['math.PR', 'q-fin.PR']\": 281,\n",
       " \"['math.PR', 'q-fin.MF']\": 160,\n",
       " \"['q-fin.CP', 'q-fin.PR']\": 130,\n",
       " \"['q-fin.ST', 'q-fin.TR']\": 117,\n",
       " \"['math.PR', 'q-fin.RM']\": 113,\n",
       " \"['math.PR', 'q-fin.CP']\": 112,\n",
       " \"['q-fin.GN', 'q-fin.ST']\": 98,\n",
       " \"['q-fin.RM', 'q-fin.ST']\": 82,\n",
       " \"['q-fin.PM', 'q-fin.RM']\": 72}"
      ]
     },
     "execution_count": 16,
     "metadata": {},
     "output_type": "execute_result"
    }
   ],
   "source": [
    "# compute the co-occuring categories here\n",
    "# Hint:\n",
    "#  - loop through all the train articles\n",
    "#  - loop through all the pairs of categories\n",
    "#  - keep track of the counts of every pair\n",
    "dict_cat = {}\n",
    "for val in data_train:\n",
    "    if len(val['category'])>1:\n",
    "        if str(sorted(val['category'])) in dict_cat:\n",
    "            dict_cat[str(sorted(val['category']))] += 1\n",
    "        else:\n",
    "            dict_cat[str(sorted(val['category']))] = 1\n",
    "\n",
    "\n",
    "sorted_dict = {k: v for k, v in sorted(dict_cat.items(), key=lambda item: item[1], reverse=True)}\n",
    "dict(list(sorted_dict.items())[0:10])"
   ]
  },
  {
   "cell_type": "markdown",
   "metadata": {},
   "source": [
    "# Part 1: Encode the data\n",
    "\n",
    "## We will encode the title of each article using a bag of words (`CountVectorizer`). Try limiting the features to about 20k. \n",
    "\n",
    "## Encoding targets is as bit trickier for multilabel problems. In this case we want our target to be a matrix of $N_{samples} x N_{categories}$ but each row does not have to sum to 1.\n",
    " - ## NB: scikit learn as a `MultiLabelBinarizer` to help here. \n",
    "\n",
    "# $ \\\\ $\n",
    "## TODO\n",
    " - ## fit a `CountVectorizer` on the titles to create `x_train` and `x_test`\n",
    " - ## create `y_train` and `y_test` to be matrices of $N_{samples} x N_{categories}$ with all 0s and 1s"
   ]
  },
  {
   "cell_type": "code",
   "execution_count": 17,
   "metadata": {},
   "outputs": [],
   "source": [
    "d_train_summ = [item['summary'] for item in data_train]\n",
    "d_test_summ = [item['summary'] for item in data_test]\n",
    "d_train_cat = [sorted(item['category']) for item in data_train]\n",
    "d_test_cat = [sorted(item['category']) for item in data_test]"
   ]
  },
  {
   "cell_type": "code",
   "execution_count": 18,
   "metadata": {},
   "outputs": [],
   "source": [
    "vec = CountVectorizer(lowercase=False)\n",
    "vec.fit(d_train_summ)\n",
    "x_train = vec.transform(d_train_summ)\n",
    "x_test = vec.transform(d_test_summ)"
   ]
  },
  {
   "cell_type": "code",
   "execution_count": 19,
   "metadata": {},
   "outputs": [
    {
     "name": "stdout",
     "output_type": "stream",
     "text": [
      "(9923, 12) (2481, 12)\n",
      "['econ.EM', 'econ.GN', 'math.PR', 'q-fin.CP', 'q-fin.EC', 'q-fin.GN', 'q-fin.MF', 'q-fin.PM', 'q-fin.PR', 'q-fin.RM', 'q-fin.ST', 'q-fin.TR']\n"
     ]
    },
    {
     "data": {
      "text/plain": [
       "<9923x28496 sparse matrix of type '<class 'numpy.int64'>'\n",
       "\twith 873196 stored elements in Compressed Sparse Row format>"
      ]
     },
     "execution_count": 19,
     "metadata": {},
     "output_type": "execute_result"
    }
   ],
   "source": [
    "from sklearn.preprocessing import MultiLabelBinarizer\n",
    "\n",
    "mlb = MultiLabelBinarizer()\n",
    "# your code here\n",
    "mlb.fit(d_train_cat)\n",
    "y_train = mlb.transform(d_train_cat)\n",
    "y_test = mlb.transform(d_test_cat)\n",
    "print(y_train.shape, y_test.shape)\n",
    "print(list(mlb.classes_))\n",
    "x_train"
   ]
  },
  {
   "cell_type": "code",
   "execution_count": null,
   "metadata": {},
   "outputs": [],
   "source": []
  },
  {
   "cell_type": "markdown",
   "metadata": {},
   "source": [
    "## Part 2: Model the data\n",
    "### While scikit-learn can't handle multilabel data in logistic regression, keras can. \n",
    "### Create and fit a multilabel logistic regression model and fit it. \n",
    "### NB: think hard about the activation function and loss function that are appropriate in this case!"
   ]
  },
  {
   "cell_type": "code",
   "execution_count": 20,
   "metadata": {},
   "outputs": [
    {
     "name": "stderr",
     "output_type": "stream",
     "text": [
      "Using TensorFlow backend.\n"
     ]
    }
   ],
   "source": [
    "from keras.models import Model, Input\n",
    "from keras.layers import Dense, Softmax, Dropout\n",
    "import keras.backend as K\n",
    "\n",
    "K.clear_session()\n",
    "doc_input = Input(shape=(x_train.shape[1],))\n",
    "output = Dense(len(mlb.classes_), activation='sigmoid')(doc_input)\n",
    "# your code here\n",
    "# dont forget to compile your model\n",
    "model = Model(doc_input, output)\n",
    "model.compile(\n",
    "    optimizer='adam', \n",
    "    loss='mse', \n",
    "    metrics=['accuracy']\n",
    ")"
   ]
  },
  {
   "cell_type": "code",
   "execution_count": 21,
   "metadata": {},
   "outputs": [
    {
     "name": "stdout",
     "output_type": "stream",
     "text": [
      "Model: \"model_1\"\n",
      "_________________________________________________________________\n",
      "Layer (type)                 Output Shape              Param #   \n",
      "=================================================================\n",
      "input_1 (InputLayer)         (None, 28496)             0         \n",
      "_________________________________________________________________\n",
      "dense_1 (Dense)              (None, 12)                341964    \n",
      "=================================================================\n",
      "Total params: 341,964\n",
      "Trainable params: 341,964\n",
      "Non-trainable params: 0\n",
      "_________________________________________________________________\n"
     ]
    }
   ],
   "source": [
    "model.summary()"
   ]
  },
  {
   "cell_type": "code",
   "execution_count": 22,
   "metadata": {},
   "outputs": [
    {
     "name": "stdout",
     "output_type": "stream",
     "text": [
      "Epoch 1/10\n",
      "9923/9923 [==============================] - 2s 226us/step - loss: 0.1478 - accuracy: 0.2162\n",
      "Epoch 2/10\n",
      "9923/9923 [==============================] - 2s 229us/step - loss: 0.1022 - accuracy: 0.3192\n",
      "Epoch 3/10\n",
      "9923/9923 [==============================] - 2s 233us/step - loss: 0.0939 - accuracy: 0.3227\n",
      "Epoch 4/10\n",
      "9923/9923 [==============================] - 2s 224us/step - loss: 0.0858 - accuracy: 0.4124\n",
      "Epoch 5/10\n",
      "9923/9923 [==============================] - 2s 213us/step - loss: 0.0782 - accuracy: 0.4829\n",
      "Epoch 6/10\n",
      "9923/9923 [==============================] - 2s 215us/step - loss: 0.0718 - accuracy: 0.5297\n",
      "Epoch 7/10\n",
      "9923/9923 [==============================] - 2s 217us/step - loss: 0.0666 - accuracy: 0.5496\n",
      "Epoch 8/10\n",
      "9923/9923 [==============================] - 2s 214us/step - loss: 0.0622 - accuracy: 0.5682\n",
      "Epoch 9/10\n",
      "9923/9923 [==============================] - 2s 214us/step - loss: 0.0585 - accuracy: 0.5822\n",
      "Epoch 10/10\n",
      "9923/9923 [==============================] - 2s 218us/step - loss: 0.0553 - accuracy: 0.5957\n"
     ]
    },
    {
     "data": {
      "text/plain": [
       "<keras.callbacks.callbacks.History at 0x15f8f1b4438>"
      ]
     },
     "execution_count": 22,
     "metadata": {},
     "output_type": "execute_result"
    }
   ],
   "source": [
    "model.fit(x_train, y_train, batch_size=512, epochs=10, shuffle=True)"
   ]
  },
  {
   "cell_type": "code",
   "execution_count": 23,
   "metadata": {},
   "outputs": [
    {
     "data": {
      "text/plain": [
       "<AxesSubplot:>"
      ]
     },
     "execution_count": 23,
     "metadata": {},
     "output_type": "execute_result"
    },
    {
     "data": {
      "image/png": "[encoded data removed]",
      "text/plain": [
       "<Figure size 864x504 with 1 Axes>"
      ]
     },
     "metadata": {
      "needs_background": "light"
     },
     "output_type": "display_data"
    }
   ],
   "source": [
    "pd.DataFrame(model.history.history).plot(#[['val_loss', 'val_accuracy']]\n",
    "    figsize=(12,7), secondary_y='val_loss'\n",
    ")"
   ]
  },
  {
   "cell_type": "markdown",
   "metadata": {},
   "source": [
    "# Part 3: f1 score\n",
    "## While modeling is more difficult in the multilabel case, the metrics are, oddly, simpler. Here, we can only compute metrics class by class.\n",
    "\n",
    "### For each class, print the accuracy and f1 score for the class. Comment on the results. "
   ]
  },
  {
   "cell_type": "code",
   "execution_count": 24,
   "metadata": {},
   "outputs": [
    {
     "name": "stdout",
     "output_type": "stream",
     "text": [
      "classecon.EM \t\tacc: 0.942 \tf1: 0.657\n",
      "classecon.GN \t\tacc: 0.942 \tf1: 0.537\n",
      "classmath.PR \t\tacc: 0.909 \tf1: 0.429\n",
      "classq-fin.CP \t\tacc: 0.915 \tf1: 0.365\n",
      "classq-fin.EC \t\tacc: 0.921 \tf1: 0.588\n",
      "classq-fin.GN \t\tacc: 0.863 \tf1: 0.443\n",
      "classq-fin.MF \t\tacc: 0.894 \tf1: 0.077\n",
      "classq-fin.PM \t\tacc: 0.924 \tf1: 0.390\n",
      "classq-fin.PR \t\tacc: 0.911 \tf1: 0.548\n",
      "classq-fin.RM \t\tacc: 0.918 \tf1: 0.447\n",
      "classq-fin.ST \t\tacc: 0.889 \tf1: 0.692\n",
      "classq-fin.TR \t\tacc: 0.935 \tf1: 0.415\n"
     ]
    }
   ],
   "source": [
    "preds = model.predict(x_test)\n",
    "for i, class_ in enumerate(mlb.classes_):\n",
    "    acc = accuracy_score(y_test[:, i].astype(numpy.float32), preds[:, i].round())\n",
    "    f1 = f1_score(y_test[:, i].astype(numpy.float32), preds[:, i].round())\n",
    "    print('class{} \\t\\tacc: {:.3f} \\tf1: {:.3f}'.format(class_, acc, f1))"
   ]
  },
  {
   "cell_type": "code",
   "execution_count": null,
   "metadata": {},
   "outputs": [],
   "source": []
  },
  {
   "cell_type": "code",
   "execution_count": null,
   "metadata": {},
   "outputs": [],
   "source": []
  },
  {
   "cell_type": "markdown",
   "metadata": {},
   "source": [
    "# Problem 3: New Metrics (30%)\n",
    "## In this problem we'll explore new metrics associated with true positives and false positives."
   ]
  },
  {
   "cell_type": "markdown",
   "metadata": {},
   "source": [
    "## Part 0: Load the IMDB data and fit a model\n",
    " - ### Load the imdb data\n",
    " - ### featurize the text using TFIDF\n",
    " - ### Fit logistic regression\n",
    " - ### calculate the in-sample and out of sample accuracy and f1 score"
   ]
  },
  {
   "cell_type": "code",
   "execution_count": 26,
   "metadata": {},
   "outputs": [
    {
     "name": "stdout",
     "output_type": "stream",
     "text": [
      "Populating the interactive namespace from numpy and matplotlib\n",
      "found 25000 train docs and 25000 test docs\n"
     ]
    }
   ],
   "source": [
    "import os\n",
    "import glob\n",
    "import numpy as np\n",
    "import pandas as pd\n",
    "import matplotlib.pyplot as plt\n",
    "%pylab inline\n",
    "\n",
    "\n",
    "def load_imdb_data_text(imdb_data_dir, random_seed=1234):\n",
    "    train_dir = os.path.join(imdb_data_dir, 'train')\n",
    "    test_dir = os.path.join(imdb_data_dir, 'test')\n",
    "\n",
    "    np.random.seed(random_seed)\n",
    "    texts = []\n",
    "    targets = []\n",
    "    for label in ('pos', 'neg'):\n",
    "        data_dir = os.path.join(train_dir, label)\n",
    "        files = glob.glob(os.path.join(data_dir, '*.txt'))\n",
    "        for filename in files:\n",
    "            with open(filename,'r', encoding='UTF-8') as fi:\n",
    "                text = fi.read()\n",
    "            target = (label == 'pos')\n",
    "            texts.append(text)\n",
    "            targets.append(target)\n",
    "\n",
    "    train_docs = texts\n",
    "    y_train = np.array(targets)\n",
    "\n",
    "\n",
    "    texts = []\n",
    "    targets = []\n",
    "    for label in ('pos', 'neg'):\n",
    "        data_dir = os.path.join(test_dir, label)\n",
    "        files = glob.glob(os.path.join(data_dir, '*.txt'))\n",
    "        for filename in files:\n",
    "            with open(filename,'r', encoding='UTF-8') as fi:\n",
    "                text = fi.read()\n",
    "            target = (label == 'pos')\n",
    "            texts.append(text)\n",
    "            targets.append(target)\n",
    "\n",
    "    test_docs = texts\n",
    "    y_test = np.array(targets)\n",
    "\n",
    "    inds = np.arange(y_train.shape[0])\n",
    "    np.random.shuffle(inds)\n",
    "\n",
    "    train_docs = [train_docs[i] for i in inds]\n",
    "    y_train = y_train[inds]\n",
    "    \n",
    "    return (train_docs, y_train), (test_docs, y_test)\n",
    "\n",
    "(train_docs, y_train), (test_docs, y_test) = load_imdb_data_text('./../data/aclImdb/')\n",
    "print('found {} train docs and {} test docs'.format(len(train_docs), len(test_docs)))"
   ]
  },
  {
   "cell_type": "code",
   "execution_count": 27,
   "metadata": {},
   "outputs": [],
   "source": [
    "from sklearn.feature_extraction.text import TfidfVectorizer\n",
    "from sklearn.linear_model import LogisticRegression\n",
    "from sklearn.metrics import accuracy_score, f1_score"
   ]
  },
  {
   "cell_type": "code",
   "execution_count": 28,
   "metadata": {},
   "outputs": [],
   "source": [
    "vec = TfidfVectorizer(min_df=3, max_df=1.0)\n",
    "# more code here\n",
    "vec.fit(train_docs)\n",
    "train_tfv = vec.transform(train_docs)\n",
    "test_tfv = vec.transform(test_docs)"
   ]
  },
  {
   "cell_type": "code",
   "execution_count": 29,
   "metadata": {},
   "outputs": [
    {
     "name": "stdout",
     "output_type": "stream",
     "text": [
      "#################### in sample ####################\n",
      "\t\taccuracy: 0.931\n",
      "\t\tf1: 0.931\n",
      "\n",
      "\n",
      "\n",
      "#################### out of sample ####################\n",
      "\t\taccuracy: 0.883\n",
      "\t\tf1: 0.883\n"
     ]
    }
   ],
   "source": [
    "# more code here\n",
    "model = LogisticRegression(solver = 'liblinear')\n",
    "model.fit(train_tfv,y_train)\n",
    "\n",
    "preds_train = (model.predict_proba(train_tfv)[:,1] >= 0.5).astype(bool)\n",
    "preds_test = (model.predict_proba(test_tfv)[:,1] >= 0.5).astype(bool)\n",
    "\n",
    "print('#'*20 + ' in sample ' + '#'*20 )\n",
    "print('\\t\\taccuracy: {:.3f}'.format(accuracy_score(y_train, preds_train)))\n",
    "print('\\t\\tf1: {:.3f}'.format(f1_score(y_train, preds_train)))\n",
    "print('\\n\\n')\n",
    "print('#'*20 + ' out of sample ' + '#'*20 )\n",
    "print('\\t\\taccuracy: {:.3f}'.format(accuracy_score(y_test, preds_test)))\n",
    "print('\\t\\tf1: {:.3f}'.format(f1_score(y_test, preds_test)))"
   ]
  },
  {
   "cell_type": "markdown",
   "metadata": {},
   "source": [
    "## Part 2: Tradeoff between true positives and false positives\n",
    "Typically we take a threshold of 0.5 probability to consider something a positive example.\n",
    "However, as we change this threshold we can change the number of true positives we get.\n",
    " - Example: at a theshold of 0.0001 we will get nearly all of the true positives\n",
    " - Example: at a threshold of 0.999 we will get almost none of the true positives\n",
    "\n",
    "Notice: as we change our threshold and increase the number of true positives we will also increase the number of false positives we pick up.\n",
    "\n",
    "In this part you will create a graph of the false positive rate on the x-axis and the true positive rate on the y-axis. This is often called the `receiver operator characteristic`. Make this curve for the out of sample data below.\n",
    "\n",
    "Note: while you can use the builtin scikit-learn functionality for this, you will __not receive credit__ if you do. "
   ]
  },
  {
   "cell_type": "code",
   "execution_count": 30,
   "metadata": {},
   "outputs": [],
   "source": [
    "from tqdm import tqdm\n"
   ]
  },
  {
   "cell_type": "code",
   "execution_count": null,
   "metadata": {},
   "outputs": [],
   "source": [
    "# your code here\n",
    "# hint: \n",
    "#  - loop through the thresholds\n",
    "#  - calulcate the true positives and false positives\n",
    "\n",
    "# hint: what values for thresholds should you loop through?"
   ]
  },
  {
   "cell_type": "code",
   "execution_count": 31,
   "metadata": {},
   "outputs": [
    {
     "name": "stdout",
     "output_type": "stream",
     "text": [
      "[0.001, 0.0509, 0.1009, 0.1508, 0.2008, 0.2507, 0.3007, 0.3506, 0.4006, 0.4505, 0.5005, 0.5504, 0.6003, 0.6503, 0.7002, 0.7502, 0.8001, 0.8501, 0.9, 0.95, 0.9999]\n"
     ]
    }
   ],
   "source": [
    "thresholds = []\n",
    "n = 20\n",
    "for i in range(n+1):\n",
    "    thresholds.append(round((0.001+(0.999-0.0001)*i/20),4))\n",
    "print(thresholds)"
   ]
  },
  {
   "cell_type": "code",
   "execution_count": 32,
   "metadata": {},
   "outputs": [
    {
     "name": "stdout",
     "output_type": "stream",
     "text": [
      "[1.0, 0.99976, 0.99784, 0.99432, 0.98896, 0.98136, 0.96904, 0.95616, 0.938, 0.91368, 0.8808, 0.8468, 0.80208, 0.74784, 0.68256, 0.60072, 0.5052, 0.386, 0.25184, 0.1088, 0.0]\n",
      "[0.99896, 0.81272, 0.6608, 0.54856, 0.454, 0.37576, 0.30416, 0.24624, 0.194, 0.14872, 0.11488, 0.08752, 0.06512, 0.046, 0.0304, 0.02032, 0.01128, 0.00504, 0.00232, 0.00072, 0.0]\n"
     ]
    }
   ],
   "source": [
    "# true pos rate = true pos / (true pos + false negative)\n",
    "# false pos rate = false pos / (true negative + false positive)\n",
    "true_pos_rates = []\n",
    "false_pos_rates = []\n",
    "for i in thresholds:\n",
    "    preds_test = (model.predict_proba(test_tfv)[:,1] >= i).astype(bool)\n",
    "    tp = 0\n",
    "    fp = 0\n",
    "    tn = 0\n",
    "    fn = 0\n",
    "    for j in range(len(preds_test)):\n",
    "        if preds_test[j] == True and y_test[j] == True:\n",
    "            tp += 1\n",
    "        elif preds_test[j] == True and y_test[j] == False:\n",
    "            fp += 1\n",
    "        elif preds_test[j] == False and y_test[j] == False:\n",
    "            tn += 1\n",
    "        elif preds_test[j] == False and y_test[j] == True:\n",
    "            fn += 1\n",
    "    true_pos_rates.append(tp/(tp+fn))\n",
    "    false_pos_rates.append(fp/(tn+fp))\n",
    "\n",
    "print(true_pos_rates)\n",
    "print(false_pos_rates)"
   ]
  },
  {
   "cell_type": "code",
   "execution_count": 33,
   "metadata": {},
   "outputs": [
    {
     "data": {
      "text/plain": [
       "Text(0.5, 1.0, 'Receiver Operator Characteristic')"
      ]
     },
     "execution_count": 33,
     "metadata": {},
     "output_type": "execute_result"
    },
    {
     "data": {
      "image/png": "[encoded data removed]",
      "text/plain": [
       "<Figure size 864x576 with 1 Axes>"
      ]
     },
     "metadata": {
      "needs_background": "light"
     },
     "output_type": "display_data"
    }
   ],
   "source": [
    "pd.Series(true_pos_rates, index=false_pos_rates).plot(figsize=(12,8), fontsize=16)\n",
    "plt.xlabel('False Pos Rate', fontsize=16)\n",
    "plt.ylabel('True Pos Rate', fontsize=16)\n",
    "plt.title('Receiver Operator Characteristic', fontsize=20)"
   ]
  },
  {
   "cell_type": "markdown",
   "metadata": {},
   "source": [
    "## Part 3: Baseline\n",
    " - What does the receiver operator curve look like for a random guessing classifier? \n",
    " - Make the same plot as above but add the random guessing curve\n",
    " - Add comments about WHY the random guessing curve looks this way"
   ]
  },
  {
   "cell_type": "code",
   "execution_count": 35,
   "metadata": {},
   "outputs": [
    {
     "data": {
      "text/plain": [
       "<matplotlib.legend.Legend at 0x15f923125c0>"
      ]
     },
     "execution_count": 35,
     "metadata": {},
     "output_type": "execute_result"
    },
    {
     "data": {
      "image/png": "[encoded data removed]",
      "text/plain": [
       "<Figure size 864x576 with 1 Axes>"
      ]
     },
     "metadata": {
      "needs_background": "light"
     },
     "output_type": "display_data"
    }
   ],
   "source": [
    "ax = pd.Series(true_pos_rates, index=false_pos_rates, name='logistic regression').plot(\n",
    "    figsize=(12,8), fontsize=16\n",
    ")\n",
    "baseline_series = pd.Series([0,1])# your code here for the ROC for random guessing\n",
    "baseline_series.to_frame('random guess').plot(ax=ax, fontsize=16)\n",
    "plt.xlabel('False Pos Rate', fontsize=16)\n",
    "plt.ylabel('True Pos Rate', fontsize=16)\n",
    "plt.title('Receiver Operator Characteristic', fontsize=20)\n",
    "plt.legend(fontsize=16)"
   ]
  },
  {
   "cell_type": "code",
   "execution_count": 36,
   "metadata": {},
   "outputs": [
    {
     "name": "stdout",
     "output_type": "stream",
     "text": [
      "A random guess for ROC curve would be the diagoonal line so that the areas under and above the curve are both 50%. Such guessing is pretty poor but is random enough.\n"
     ]
    }
   ],
   "source": [
    "# add comments here\n",
    "print('A random guess for ROC curve would be the diagoonal line so that the areas under and above the curve are both 50%. Such guessing is pretty poor but is random enough.')"
   ]
  },
  {
   "cell_type": "markdown",
   "metadata": {},
   "source": [
    "## Part 4: Boiling it down to a single number\n",
    " - While the ROC is a useful curve and contains a lot of information, it is useful to distill in down to a single number. Typically, the area under the curve is used. Calculate the area under the curve and add it as the title to your previous plot. \n",
    " - Hint: think about approximations for integrals for finding area under a curve\n"
   ]
  },
  {
   "cell_type": "code",
   "execution_count": 37,
   "metadata": {},
   "outputs": [
    {
     "data": {
      "text/plain": [
       "<matplotlib.legend.Legend at 0x15f94e2b518>"
      ]
     },
     "execution_count": 37,
     "metadata": {},
     "output_type": "execute_result"
    },
    {
     "data": {
      "image/png": "[encoded data removed]",
      "text/plain": [
       "<Figure size 864x576 with 1 Axes>"
      ]
     },
     "metadata": {
      "needs_background": "light"
     },
     "output_type": "display_data"
    }
   ],
   "source": [
    "total_sum = 0\n",
    "for i in range(n):\n",
    "    total_sum += (true_pos_rates[i] + true_pos_rates[i+1])*(false_pos_rates[i]-false_pos_rates[i+1])/2\n",
    "\n",
    "area_under = total_sum\n",
    "\n",
    "\n",
    "# repeat the plotting code here\n",
    "ax = pd.Series(true_pos_rates, index=false_pos_rates, name='logistic regression').plot(\n",
    "    figsize=(12,8), fontsize=16\n",
    ")\n",
    "baseline_series = pd.Series([0,1])# your code here for the ROC for random guessing\n",
    "baseline_series.to_frame('random guess').plot(ax=ax, fontsize=16)\n",
    "plt.xlabel('False Pos Rate', fontsize=16)\n",
    "plt.ylabel('True Pos Rate', fontsize=16)\n",
    "\n",
    "plt.title('Area under the curve = {:.3f}'.format(area_under, fontsize=20))\n",
    "plt.legend(fontsize=16)"
   ]
  },
  {
   "cell_type": "markdown",
   "metadata": {},
   "source": [
    "## Part 5: Check you work and comment on the results\n",
    " - \"There's gotta be a better way!\"\n",
    " - In fact, `scikit-learn` will take care of a lot of the headache here. \n",
    " - `from sklearn.metrics import plot_roc_curve`\n",
    " - read the docs and use this function\n",
    "\n"
   ]
  },
  {
   "cell_type": "code",
   "execution_count": 38,
   "metadata": {},
   "outputs": [
    {
     "data": {
      "text/plain": [
       "<function matplotlib.pyplot.show(close=None, block=None)>"
      ]
     },
     "execution_count": 38,
     "metadata": {},
     "output_type": "execute_result"
    },
    {
     "data": {
      "image/png": "[encoded data removed]",
      "text/plain": [
       "<Figure size 432x288 with 1 Axes>"
      ]
     },
     "metadata": {
      "needs_background": "light"
     },
     "output_type": "display_data"
    }
   ],
   "source": [
    "#from sklearn.metrics import plot_roc_curve, auc\n",
    "from sklearn.metrics import roc_curve, roc_auc_score\n",
    "\n",
    "# your code here\n",
    "preds_test = model.predict_proba(test_tfv)\n",
    "preds_test = preds_test[:,1]\n",
    "fpr, tpr, thresholds = roc_curve(y_test, preds_test)\n",
    "plt.plot(fpr, tpr)\n",
    "plt.xlabel('False Pos Rate', fontsize=16)\n",
    "plt.ylabel('True Pos Rate', fontsize=16)\n",
    "plt.title('Receiver Operator Characteristic', fontsize=20)\n",
    "plt.show"
   ]
  },
  {
   "cell_type": "code",
   "execution_count": 39,
   "metadata": {},
   "outputs": [
    {
     "name": "stdout",
     "output_type": "stream",
     "text": [
      "0.8830000000000001\n"
     ]
    }
   ],
   "source": [
    "preds_test = model.predict(test_tfv)\n",
    "auc = roc_auc_score(y_test, preds_test)\n",
    "print(auc)"
   ]
  },
  {
   "cell_type": "markdown",
   "metadata": {},
   "source": [
    "## A few comments:\n",
    " - The area under the ROC has a nice interpretation. It can be thought of as the probability that a randomly chosen positive example has a higher probability than a randomly chosen negative example.\n",
    " - This metric is also nice since it is independent of a threshold. "
   ]
  },
  {
   "cell_type": "code",
   "execution_count": null,
   "metadata": {},
   "outputs": [],
   "source": []
  },
  {
   "cell_type": "markdown",
   "metadata": {},
   "source": [
    "# Problem 4: Examining Coefficients (20%)\n",
    "In class we skipped an important step: we never made sure our models made sense. \n",
    "Logistic regression provides coefficients, which allow us to determine if a model\n",
    "if learning anything reasonable. \n",
    "\n",
    "In this problem, you'll load the imdb data, fit logistic regression and exmamine the coefficients. \n",
    "Print out the largest and smallest (largest negative) coefficients and comment on the results."
   ]
  },
  {
   "cell_type": "code",
   "execution_count": 40,
   "metadata": {},
   "outputs": [
    {
     "name": "stdout",
     "output_type": "stream",
     "text": [
      "Populating the interactive namespace from numpy and matplotlib\n"
     ]
    }
   ],
   "source": [
    "import os\n",
    "import glob\n",
    "import numpy as np\n",
    "import pandas as pd\n",
    "import matplotlib.pyplot as plt\n",
    "%pylab inline\n",
    "\n",
    "# copy code from above to load the data\n"
   ]
  },
  {
   "cell_type": "code",
   "execution_count": 2,
   "metadata": {},
   "outputs": [
    {
     "name": "stdout",
     "output_type": "stream",
     "text": [
      "found 25000 train docs and 25000 test docs\n"
     ]
    }
   ],
   "source": [
    "(train_docs, y_train), (test_docs, y_test) = load_imdb_data_text('../../data/aclImdb/')\n",
    "print('found {} train docs and {} test docs'.format(len(train_docs), len(test_docs)))"
   ]
  },
  {
   "cell_type": "code",
   "execution_count": 48,
   "metadata": {},
   "outputs": [],
   "source": [
    "from sklearn.feature_extraction.text import TfidfVectorizer\n",
    "from sklearn.linear_model import LogisticRegression\n",
    "\n",
    "vec = TfidfVectorizer(lowercase=True, max_features=10000)\n",
    "x_train = vec.fit_transform(thing for thing in train_docs)\n",
    "x_test = vec.transform(thing for thing in test_docs)\n",
    "# more code here\n",
    "                      \n",
    "lr = LogisticRegression(solver='liblinear')\n",
    "lr.fit(x_train, y_train)\n",
    "\n",
    "test_preds = lr.predict(x_test)\n",
    "\n"
   ]
  },
  {
   "cell_type": "code",
   "execution_count": 49,
   "metadata": {},
   "outputs": [
    {
     "data": {
      "text/plain": [
       "0.88316"
      ]
     },
     "execution_count": 49,
     "metadata": {},
     "output_type": "execute_result"
    }
   ],
   "source": [
    "accuracy_score(y_test, test_preds)"
   ]
  },
  {
   "cell_type": "code",
   "execution_count": 50,
   "metadata": {},
   "outputs": [],
   "source": [
    "coef = np.squeeze(lr.coef_)"
   ]
  },
  {
   "cell_type": "code",
   "execution_count": 51,
   "metadata": {},
   "outputs": [],
   "source": [
    "word = vec.get_feature_names()"
   ]
  },
  {
   "cell_type": "code",
   "execution_count": 52,
   "metadata": {},
   "outputs": [],
   "source": [
    "coefs = pd.DataFrame({'coef': coef, 'token': word}, columns=['coef', 'token']).sort_values(by='coef', ascending=False)"
   ]
  },
  {
   "cell_type": "code",
   "execution_count": 53,
   "metadata": {},
   "outputs": [
    {
     "data": {
      "text/html": [
       "<div>\n",
       "<style scoped>\n",
       "    .dataframe tbody tr th:only-of-type {\n",
       "        vertical-align: middle;\n",
       "    }\n",
       "\n",
       "    .dataframe tbody tr th {\n",
       "        vertical-align: top;\n",
       "    }\n",
       "\n",
       "    .dataframe thead th {\n",
       "        text-align: right;\n",
       "    }\n",
       "</style>\n",
       "<table border=\"1\" class=\"dataframe\">\n",
       "  <thead>\n",
       "    <tr style=\"text-align: right;\">\n",
       "      <th></th>\n",
       "      <th>coef</th>\n",
       "      <th>token</th>\n",
       "    </tr>\n",
       "  </thead>\n",
       "  <tbody>\n",
       "    <tr>\n",
       "      <th>3997</th>\n",
       "      <td>7.066042</td>\n",
       "      <td>great</td>\n",
       "    </tr>\n",
       "    <tr>\n",
       "      <th>3209</th>\n",
       "      <td>6.072309</td>\n",
       "      <td>excellent</td>\n",
       "    </tr>\n",
       "    <tr>\n",
       "      <th>988</th>\n",
       "      <td>4.932215</td>\n",
       "      <td>best</td>\n",
       "    </tr>\n",
       "    <tr>\n",
       "      <th>6553</th>\n",
       "      <td>4.835743</td>\n",
       "      <td>perfect</td>\n",
       "    </tr>\n",
       "    <tr>\n",
       "      <th>9877</th>\n",
       "      <td>4.604285</td>\n",
       "      <td>wonderful</td>\n",
       "    </tr>\n",
       "    <tr>\n",
       "      <th>439</th>\n",
       "      <td>4.043686</td>\n",
       "      <td>amazing</td>\n",
       "    </tr>\n",
       "    <tr>\n",
       "      <th>9743</th>\n",
       "      <td>3.772415</td>\n",
       "      <td>well</td>\n",
       "    </tr>\n",
       "    <tr>\n",
       "      <th>9091</th>\n",
       "      <td>3.753873</td>\n",
       "      <td>today</td>\n",
       "    </tr>\n",
       "    <tr>\n",
       "      <th>3406</th>\n",
       "      <td>3.675948</td>\n",
       "      <td>favorite</td>\n",
       "    </tr>\n",
       "    <tr>\n",
       "      <th>5397</th>\n",
       "      <td>3.671688</td>\n",
       "      <td>loved</td>\n",
       "    </tr>\n",
       "    <tr>\n",
       "      <th>3735</th>\n",
       "      <td>3.632001</td>\n",
       "      <td>fun</td>\n",
       "    </tr>\n",
       "    <tr>\n",
       "      <th>3080</th>\n",
       "      <td>3.433716</td>\n",
       "      <td>enjoyed</td>\n",
       "    </tr>\n",
       "    <tr>\n",
       "      <th>5396</th>\n",
       "      <td>3.393050</td>\n",
       "      <td>love</td>\n",
       "    </tr>\n",
       "    <tr>\n",
       "      <th>4281</th>\n",
       "      <td>3.305913</td>\n",
       "      <td>highly</td>\n",
       "    </tr>\n",
       "    <tr>\n",
       "      <th>8717</th>\n",
       "      <td>3.255022</td>\n",
       "      <td>superb</td>\n",
       "    </tr>\n",
       "    <tr>\n",
       "      <th>1237</th>\n",
       "      <td>3.221957</td>\n",
       "      <td>brilliant</td>\n",
       "    </tr>\n",
       "    <tr>\n",
       "      <th>4800</th>\n",
       "      <td>3.061595</td>\n",
       "      <td>it</td>\n",
       "    </tr>\n",
       "    <tr>\n",
       "      <th>2436</th>\n",
       "      <td>3.014215</td>\n",
       "      <td>definitely</td>\n",
       "    </tr>\n",
       "    <tr>\n",
       "      <th>1033</th>\n",
       "      <td>2.959590</td>\n",
       "      <td>bit</td>\n",
       "    </tr>\n",
       "    <tr>\n",
       "      <th>4878</th>\n",
       "      <td>2.900542</td>\n",
       "      <td>job</td>\n",
       "    </tr>\n",
       "  </tbody>\n",
       "</table>\n",
       "</div>"
      ],
      "text/plain": [
       "          coef       token\n",
       "3997  7.066042       great\n",
       "3209  6.072309   excellent\n",
       "988   4.932215        best\n",
       "6553  4.835743     perfect\n",
       "9877  4.604285   wonderful\n",
       "439   4.043686     amazing\n",
       "9743  3.772415        well\n",
       "9091  3.753873       today\n",
       "3406  3.675948    favorite\n",
       "5397  3.671688       loved\n",
       "3735  3.632001         fun\n",
       "3080  3.433716     enjoyed\n",
       "5396  3.393050        love\n",
       "4281  3.305913      highly\n",
       "8717  3.255022      superb\n",
       "1237  3.221957   brilliant\n",
       "4800  3.061595          it\n",
       "2436  3.014215  definitely\n",
       "1033  2.959590         bit\n",
       "4878  2.900542         job"
      ]
     },
     "execution_count": 53,
     "metadata": {},
     "output_type": "execute_result"
    }
   ],
   "source": [
    "coefs.head(20)"
   ]
  },
  {
   "cell_type": "code",
   "execution_count": 54,
   "metadata": {},
   "outputs": [
    {
     "data": {
      "text/html": [
       "<div>\n",
       "<style scoped>\n",
       "    .dataframe tbody tr th:only-of-type {\n",
       "        vertical-align: middle;\n",
       "    }\n",
       "\n",
       "    .dataframe tbody tr th {\n",
       "        vertical-align: top;\n",
       "    }\n",
       "\n",
       "    .dataframe thead th {\n",
       "        text-align: right;\n",
       "    }\n",
       "</style>\n",
       "<table border=\"1\" class=\"dataframe\">\n",
       "  <thead>\n",
       "    <tr style=\"text-align: right;\">\n",
       "      <th></th>\n",
       "      <th>coef</th>\n",
       "      <th>token</th>\n",
       "    </tr>\n",
       "  </thead>\n",
       "  <tbody>\n",
       "    <tr>\n",
       "      <th>2647</th>\n",
       "      <td>-3.658181</td>\n",
       "      <td>disappointing</td>\n",
       "    </tr>\n",
       "    <tr>\n",
       "      <th>2648</th>\n",
       "      <td>-3.697428</td>\n",
       "      <td>disappointment</td>\n",
       "    </tr>\n",
       "    <tr>\n",
       "      <th>7499</th>\n",
       "      <td>-3.740254</td>\n",
       "      <td>ridiculous</td>\n",
       "    </tr>\n",
       "    <tr>\n",
       "      <th>7807</th>\n",
       "      <td>-3.762265</td>\n",
       "      <td>script</td>\n",
       "    </tr>\n",
       "    <tr>\n",
       "      <th>8633</th>\n",
       "      <td>-3.765571</td>\n",
       "      <td>stupid</td>\n",
       "    </tr>\n",
       "    <tr>\n",
       "      <th>514</th>\n",
       "      <td>-3.847381</td>\n",
       "      <td>annoying</td>\n",
       "    </tr>\n",
       "    <tr>\n",
       "      <th>6106</th>\n",
       "      <td>-4.087997</td>\n",
       "      <td>no</td>\n",
       "    </tr>\n",
       "    <tr>\n",
       "      <th>9378</th>\n",
       "      <td>-4.100726</td>\n",
       "      <td>unfortunately</td>\n",
       "    </tr>\n",
       "    <tr>\n",
       "      <th>4384</th>\n",
       "      <td>-4.196183</td>\n",
       "      <td>horrible</td>\n",
       "    </tr>\n",
       "    <tr>\n",
       "      <th>2865</th>\n",
       "      <td>-4.258127</td>\n",
       "      <td>dull</td>\n",
       "    </tr>\n",
       "    <tr>\n",
       "      <th>6749</th>\n",
       "      <td>-4.268642</td>\n",
       "      <td>poorly</td>\n",
       "    </tr>\n",
       "    <tr>\n",
       "      <th>9908</th>\n",
       "      <td>-4.497154</td>\n",
       "      <td>worse</td>\n",
       "    </tr>\n",
       "    <tr>\n",
       "      <th>6151</th>\n",
       "      <td>-4.636251</td>\n",
       "      <td>nothing</td>\n",
       "    </tr>\n",
       "    <tr>\n",
       "      <th>8934</th>\n",
       "      <td>-4.726659</td>\n",
       "      <td>terrible</td>\n",
       "    </tr>\n",
       "    <tr>\n",
       "      <th>6748</th>\n",
       "      <td>-5.357833</td>\n",
       "      <td>poor</td>\n",
       "    </tr>\n",
       "    <tr>\n",
       "      <th>1151</th>\n",
       "      <td>-5.981622</td>\n",
       "      <td>boring</td>\n",
       "    </tr>\n",
       "    <tr>\n",
       "      <th>9688</th>\n",
       "      <td>-6.279449</td>\n",
       "      <td>waste</td>\n",
       "    </tr>\n",
       "    <tr>\n",
       "      <th>778</th>\n",
       "      <td>-6.458425</td>\n",
       "      <td>awful</td>\n",
       "    </tr>\n",
       "    <tr>\n",
       "      <th>809</th>\n",
       "      <td>-7.572423</td>\n",
       "      <td>bad</td>\n",
       "    </tr>\n",
       "    <tr>\n",
       "      <th>9910</th>\n",
       "      <td>-9.164331</td>\n",
       "      <td>worst</td>\n",
       "    </tr>\n",
       "  </tbody>\n",
       "</table>\n",
       "</div>"
      ],
      "text/plain": [
       "          coef           token\n",
       "2647 -3.658181   disappointing\n",
       "2648 -3.697428  disappointment\n",
       "7499 -3.740254      ridiculous\n",
       "7807 -3.762265          script\n",
       "8633 -3.765571          stupid\n",
       "514  -3.847381        annoying\n",
       "6106 -4.087997              no\n",
       "9378 -4.100726   unfortunately\n",
       "4384 -4.196183        horrible\n",
       "2865 -4.258127            dull\n",
       "6749 -4.268642          poorly\n",
       "9908 -4.497154           worse\n",
       "6151 -4.636251         nothing\n",
       "8934 -4.726659        terrible\n",
       "6748 -5.357833            poor\n",
       "1151 -5.981622          boring\n",
       "9688 -6.279449           waste\n",
       "778  -6.458425           awful\n",
       "809  -7.572423             bad\n",
       "9910 -9.164331           worst"
      ]
     },
     "execution_count": 54,
     "metadata": {},
     "output_type": "execute_result"
    }
   ],
   "source": [
    "coefs.tail(20)"
   ]
  },
  {
   "cell_type": "markdown",
   "metadata": {},
   "source": [
    "## it makes sense that the words such as worst, bad, bad, awful are shown in the largest negative coefficients, since these words are all negative words.\n",
    "## Positive words such as great, excellent, best and etc are also shown in the largest positive coefficients, so the logistic regression does the good job.\n"
   ]
  },
  {
   "cell_type": "code",
   "execution_count": null,
   "metadata": {},
   "outputs": [],
   "source": []
  },
  {
   "cell_type": "code",
   "execution_count": null,
   "metadata": {},
   "outputs": [],
   "source": []
  }
 ],
 "metadata": {
  "kernelspec": {
   "display_name": "Python 3",
   "language": "python",
   "name": "python3"
  },
  "language_info": {
   "codemirror_mode": {
    "name": "ipython",
    "version": 3
   },
   "file_extension": ".py",
   "mimetype": "text/x-python",
   "name": "python",
   "nbconvert_exporter": "python",
   "pygments_lexer": "ipython3",
   "version": "3.6.5"
  }
 },
 "nbformat": 4,
 "nbformat_minor": 4
}
