{
 "cells": [
  {
   "cell_type": "markdown",
   "metadata": {},
   "source": [
    "# Group 6 HW4\n",
    "# Yunze Li \n",
    "# Ce Luo\n",
    "# Huiwen Zhang"
   ]
  },
  {
   "cell_type": "markdown",
   "metadata": {},
   "source": [
    "# Problem 1: Multiclass (30 %)\n",
    "### So far we have largely focused on binary classification, where the input is a document and the output is a yes or a no (or probability of yes). \n",
    "\n",
    "### In fact, more complex tasks exist where the input is a document and the output can be multiple (more than two) classes. \n",
    "\n",
    "## In this problem we'll investigate two so-called multiclass problems\n",
    "### Multiclass: an observation is assigned inclusion in ONE of a N $N>2$ categories\n",
    " - ### E.g. is this sentence positive, negative, or neutral sentiment\n",
    " - ### E.g. is this email spam or not spam\n",
    "\n",
    "\n",
    "### Multiclass-multilabel: an observation can belong to more than one of $N>=2$ categories\n",
    " - ### E.g. is this document about `{sports, current events, Steph Curry}` ( a document can be about more than one)\n",
    " - ### E.g. is this blood sample A, B, O, $+$, $-$ (blood can be `A+` or `A-`)\n",
    "\n",
    "## We will study the metrics we can use to evaluate these classification problems"
   ]
  },
  {
   "cell_type": "code",
   "execution_count": 157,
   "metadata": {},
   "outputs": [
    {
     "name": "stdout",
     "output_type": "stream",
     "text": [
      "Populating the interactive namespace from numpy and matplotlib\n"
     ]
    }
   ],
   "source": [
    "import numpy as np\n",
    "import pandas as pd\n",
    "%pylab inline\n",
    "\n",
    "import json\n",
    "\n",
    "from sklearn.metrics import accuracy_score, f1_score\n",
    "from sklearn.linear_model import LogisticRegression\n",
    "from sklearn.feature_extraction.text import CountVectorizer"
   ]
  },
  {
   "cell_type": "code",
   "execution_count": 158,
   "metadata": {},
   "outputs": [],
   "source": [
    "np.random.seed(1234)"
   ]
  },
  {
   "cell_type": "markdown",
   "metadata": {},
   "source": [
    "## We will start with multiclass by studying the 20 newsgroups data\n",
    "# $ \\\\ $\n",
    "# $ \\\\ $\n",
    "# Part 0: get the data\n",
    " - ### use the builtin function `from sklearn.datasets import fetch_20newsgroups`\n",
    " - ### NB: look at the docs and use the `remove` kwarg in order to get cleaned data\n",
    "\n",
    "## TODO\n",
    " - ## fetch the data separately for the train and test data\n",
    " - ## How many classes are present? \n",
    " - ## What is the most common class- please give the name and not the number.\n",
    " - ## What is the accuracy of the best constant guess in the train set?"
   ]
  },
  {
   "cell_type": "code",
   "execution_count": 159,
   "metadata": {},
   "outputs": [],
   "source": [
    "from sklearn.datasets import fetch_20newsgroups\n"
   ]
  },
  {
   "cell_type": "code",
   "execution_count": 160,
   "metadata": {},
   "outputs": [],
   "source": [
    "data_train=fetch_20newsgroups(subset = 'train',remove = ('headers', 'footers', 'quotes'), random_state = 42)\n",
    "data_test =fetch_20newsgroups(subset = 'test',remove = ('headers', 'footers', 'quotes'), random_state =42)\n"
   ]
  },
  {
   "cell_type": "code",
   "execution_count": 161,
   "metadata": {},
   "outputs": [
    {
     "data": {
      "text/plain": [
       "array([7, 4, 4, ..., 3, 1, 8])"
      ]
     },
     "execution_count": 161,
     "metadata": {},
     "output_type": "execute_result"
    }
   ],
   "source": [
    "data_train.target"
   ]
  },
  {
   "cell_type": "code",
   "execution_count": 162,
   "metadata": {},
   "outputs": [
    {
     "name": "stdout",
     "output_type": "stream",
     "text": [
      "found 20 classes\n",
      "most common class: rec.sport.hockey\n",
      "constant guess acc: 0.053\n"
     ]
    }
   ],
   "source": [
    "from collections import Counter\n",
    "from sklearn.metrics import accuracy_score\n",
    "val_counts = Counter(data_train.target)\n",
    "print('found {} classes'.format(len(val_counts.items())))\n",
    "most_common_class = data_train.target_names[val_counts.most_common(1)[0][0]]\n",
    "print('most common class: {}'.format(most_common_class))\n",
    "\n",
    "dummy_acc = accuracy_score(data_train.target, [10 for i in range(len(data_train.target))])\n",
    "print('constant guess acc: {:.3f}'.format(dummy_acc))"
   ]
  },
  {
   "cell_type": "code",
   "execution_count": null,
   "metadata": {},
   "outputs": [],
   "source": []
  },
  {
   "cell_type": "markdown",
   "metadata": {},
   "source": [
    "# Part 1: fit a model\n",
    "## As we saw with mnist, logistic regression is capable of fitting multi-class data.\n",
    " - ## Encode the text with as a bag of words and fit logistic regression to the data\n",
    " - ## Calcuate the out of sample accuracy score"
   ]
  },
  {
   "cell_type": "code",
   "execution_count": null,
   "metadata": {},
   "outputs": [],
   "source": []
  },
  {
   "cell_type": "code",
   "execution_count": 163,
   "metadata": {},
   "outputs": [],
   "source": [
    "# Todo\n",
    "# 1. make a count vectorizer with max_features=20000\n",
    "# 2. fit it\n",
    "# 3. transform the train and test data into number\n",
    "from sklearn.feature_extraction.text import CountVectorizer\n",
    "\n",
    "vec = CountVectorizer(max_features = 2000)\n",
    "\n",
    "\n",
    "# your code here\n",
    "xtr = vec.fit_transform(data_train.data) #train data\n",
    "xte = vec.fit_transform(data_test.data) # test data\n"
   ]
  },
  {
   "cell_type": "code",
   "execution_count": null,
   "metadata": {},
   "outputs": [],
   "source": []
  },
  {
   "cell_type": "code",
   "execution_count": 164,
   "metadata": {},
   "outputs": [
    {
     "data": {
      "text/plain": [
       "0.05801911842804036"
      ]
     },
     "execution_count": 164,
     "metadata": {},
     "output_type": "execute_result"
    }
   ],
   "source": [
    "# TODO\n",
    "# 1. fit logistic regression\n",
    "# 2. compute accuracy score\n",
    "from sklearn.linear_model import LogisticRegression\n",
    "lr = LogisticRegression(max_iter = 4000)\n",
    "lr.fit(xtr,data_train.target)\n",
    "y_prob = lr.predict(xte)\n",
    "# your code here\n",
    "accuracy_score(data_test.target, y_prob)"
   ]
  },
  {
   "cell_type": "markdown",
   "metadata": {},
   "source": [
    "# Part 2: Evaluate metrics\n",
    "### As we have seen previously, while accuracy is useful, it does not always capture all the behavior we want in a metric.\n",
    "\n",
    "### Here we will extend the concept of f1 score to the multiclass setting. There are several ways to do this\n",
    " - report a different f1 score for every class (no averaging)\n",
    " - report the mean f1 score over all classes\n",
    " - report a weighted f1 score weighted by class prevelance. \n",
    "\n",
    "### For each of these three types of f1\n",
    " - calculate the score(s) without the help of scikit learn\n",
    " - compare it to the corresponding f1 score evaluated with scikit-learn (NB you'll need to read the docs for `f1_score`. \n",
    " - Write down the pros and cons for this method of calculating multiclass f1 score"
   ]
  },
  {
   "cell_type": "code",
   "execution_count": 165,
   "metadata": {},
   "outputs": [
    {
     "name": "stdout",
     "output_type": "stream",
     "text": [
      "fscore for alt.atheism \t = 0.044\n",
      "fscore for comp.graphics \t = 0.049\n",
      "fscore for comp.os.ms-windows.misc \t = 0.039\n",
      "fscore for comp.sys.ibm.pc.hardware \t = 0.069\n",
      "fscore for comp.sys.mac.hardware \t = 0.026\n",
      "fscore for comp.windows.x \t = 0.069\n",
      "fscore for misc.forsale \t = 0.116\n",
      "fscore for rec.autos \t = 0.049\n",
      "fscore for rec.motorcycles \t = 0.047\n",
      "fscore for rec.sport.baseball \t = 0.085\n",
      "fscore for rec.sport.hockey \t = 0.019\n",
      "fscore for sci.crypt \t = 0.017\n",
      "fscore for sci.electronics \t = 0.036\n",
      "fscore for sci.med \t = 0.013\n",
      "fscore for sci.space \t = 0.067\n",
      "fscore for soc.religion.christian \t = 0.000\n",
      "fscore for talk.politics.guns \t = 0.074\n",
      "fscore for talk.politics.mideast \t = 0.005\n",
      "fscore for talk.politics.misc \t = 0.062\n",
      "fscore for talk.religion.misc \t = 0.028\n",
      "\n",
      "\n",
      "\n",
      "sklearn builtin matches results\n"
     ]
    },
    {
     "name": "stderr",
     "output_type": "stream",
     "text": [
      "/Users/yunzeli/opt/anaconda3/lib/python3.7/site-packages/ipykernel_launcher.py:15: RuntimeWarning: invalid value encountered in double_scalars\n",
      "  from ipykernel import kernelapp as app\n"
     ]
    }
   ],
   "source": [
    "preds = lr.predict(xte)\n",
    "\n",
    "f1s = []\n",
    "for label_index, label_name in enumerate(data_train.target_names):\n",
    "    # calculate the f1 score of one (label_index) vs rest\n",
    "    # your code here...\n",
    "    predictions = np.where(preds == label_index, 1,0)\n",
    "    tests = np.where(data_test.target == label_index, 1,0)\n",
    "    tp = predictions & tests\n",
    "    fp = predictions & ~tests\n",
    "    tn = ~predictions & ~tests\n",
    "    fn = ~predictions & tests\n",
    "    prec_score = tp.sum() / (tp.sum() + fp.sum())\n",
    "    rec_score = tp.sum() /  (tp.sum() + fn.sum())\n",
    "    f1s.append(2*(prec_score * rec_score)/(prec_score + rec_score))\n",
    "f1s = np.where(np.isnan(f1s), 0, f1s)\n",
    "for label_name, fs in zip(data_train.target_names, f1s):\n",
    "    print('fscore for {} \\t = {:.3f}'.format(label_name, fs))\n",
    "\n",
    "print('\\n\\n')\n",
    "# compare to sklearn\n",
    "success = (f1s == f1_score(data_test.target, preds, average=None)).all()\n",
    "if success:\n",
    "    print('sklearn builtin matches results')\n",
    "else:\n",
    "    print('scores do not match')"
   ]
  },
  {
   "cell_type": "code",
   "execution_count": 166,
   "metadata": {},
   "outputs": [],
   "source": [
    "# The pros are ...\n",
    "# The cons are ..."
   ]
  },
  {
   "cell_type": "code",
   "execution_count": null,
   "metadata": {},
   "outputs": [],
   "source": []
  },
  {
   "cell_type": "code",
   "execution_count": 167,
   "metadata": {},
   "outputs": [
    {
     "name": "stdout",
     "output_type": "stream",
     "text": [
      "macro f1: 0.04574683508775485 \t sklearn macro f1 0.04574683508775485\n"
     ]
    }
   ],
   "source": [
    "# now the macro f1 (the mean of the f1s for each class)\n",
    "f1_macro = f1s.mean() # calculate without sklearn\n",
    "f1_macro_sk = f1_score(data_test.target, preds, average='macro') # calculate with sklearn\n",
    "assert(f1_macro == f1_macro_sk)\n",
    "print('macro f1: {} \\t sklearn macro f1 {}'.format(\n",
    "    f1_macro, \n",
    "    f1_macro_sk\n",
    "))\n",
    "\n"
   ]
  },
  {
   "cell_type": "code",
   "execution_count": 168,
   "metadata": {},
   "outputs": [],
   "source": [
    "# The pros are ...\n",
    "# The cons are ..."
   ]
  },
  {
   "cell_type": "code",
   "execution_count": 169,
   "metadata": {},
   "outputs": [
    {
     "name": "stdout",
     "output_type": "stream",
     "text": [
      "weighted f1 0.045837312361332726 \t sklearn weighted f1 0.04584024955138909\n"
     ]
    }
   ],
   "source": [
    "# now weighted by class prevalence\n",
    "# TODO:\n",
    "#  - calculate the frequency of each class\n",
    "#  - take a weighted average of the f1s, weighted by these weights\n",
    "#  - compare to sklearn\n",
    "\n",
    "w = [Counter(data_train.target)[key] for key in sorted(Counter(data_train[\"target\"]))]\n",
    "wts = w/sum(w)\n",
    "weighted_f1 = sum(wts * f1s)\n",
    "weighted_f1_sk = f1_score(data_test.target, preds, average=\"weighted\") # with sklearn\n",
    "\n",
    "print('weighted f1 {} \\t sklearn weighted f1 {}'.format(weighted_f1, weighted_f1_sk))"
   ]
  },
  {
   "cell_type": "code",
   "execution_count": 170,
   "metadata": {},
   "outputs": [],
   "source": [
    "# The pros are ...\n",
    "# The cons are ..."
   ]
  },
  {
   "cell_type": "code",
   "execution_count": null,
   "metadata": {},
   "outputs": [],
   "source": []
  },
  {
   "cell_type": "markdown",
   "metadata": {},
   "source": [
    "# Part 3: Confusion Matrix\n",
    "## The confusion matrix is a handy way to understand errors in classification problems.  It is a 2-D grid of what values were predicted and what the actual values were. \n",
    "\n",
    "See [confusion matrix](https://scikit-learn.org/stable/modules/generated/sklearn.metrics.confusion_matrix.html) in the sklearn docs. \n",
    "\n",
    "## Create a confusion matrix for the 20-newsgroups dataset and comment on the most common failure modes"
   ]
  },
  {
   "cell_type": "code",
   "execution_count": 171,
   "metadata": {},
   "outputs": [
    {
     "data": {
      "text/html": [
       "<div>\n",
       "<style scoped>\n",
       "    .dataframe tbody tr th:only-of-type {\n",
       "        vertical-align: middle;\n",
       "    }\n",
       "\n",
       "    .dataframe tbody tr th {\n",
       "        vertical-align: top;\n",
       "    }\n",
       "\n",
       "    .dataframe thead th {\n",
       "        text-align: right;\n",
       "    }\n",
       "</style>\n",
       "<table border=\"1\" class=\"dataframe\">\n",
       "  <thead>\n",
       "    <tr style=\"text-align: right;\">\n",
       "      <th></th>\n",
       "      <th>0</th>\n",
       "      <th>1</th>\n",
       "      <th>2</th>\n",
       "      <th>3</th>\n",
       "      <th>4</th>\n",
       "      <th>5</th>\n",
       "      <th>6</th>\n",
       "      <th>7</th>\n",
       "      <th>8</th>\n",
       "      <th>9</th>\n",
       "      <th>10</th>\n",
       "      <th>11</th>\n",
       "      <th>12</th>\n",
       "      <th>13</th>\n",
       "      <th>14</th>\n",
       "      <th>15</th>\n",
       "      <th>16</th>\n",
       "      <th>17</th>\n",
       "      <th>18</th>\n",
       "      <th>19</th>\n",
       "    </tr>\n",
       "  </thead>\n",
       "  <tbody>\n",
       "    <tr>\n",
       "      <td>0</td>\n",
       "      <td>10</td>\n",
       "      <td>14</td>\n",
       "      <td>1</td>\n",
       "      <td>7</td>\n",
       "      <td>3</td>\n",
       "      <td>6</td>\n",
       "      <td>9</td>\n",
       "      <td>12</td>\n",
       "      <td>2</td>\n",
       "      <td>146</td>\n",
       "      <td>2</td>\n",
       "      <td>1</td>\n",
       "      <td>4</td>\n",
       "      <td>2</td>\n",
       "      <td>25</td>\n",
       "      <td>0</td>\n",
       "      <td>44</td>\n",
       "      <td>1</td>\n",
       "      <td>29</td>\n",
       "      <td>1</td>\n",
       "    </tr>\n",
       "    <tr>\n",
       "      <td>1</td>\n",
       "      <td>6</td>\n",
       "      <td>18</td>\n",
       "      <td>4</td>\n",
       "      <td>18</td>\n",
       "      <td>8</td>\n",
       "      <td>2</td>\n",
       "      <td>18</td>\n",
       "      <td>13</td>\n",
       "      <td>6</td>\n",
       "      <td>112</td>\n",
       "      <td>11</td>\n",
       "      <td>1</td>\n",
       "      <td>12</td>\n",
       "      <td>3</td>\n",
       "      <td>34</td>\n",
       "      <td>3</td>\n",
       "      <td>65</td>\n",
       "      <td>3</td>\n",
       "      <td>51</td>\n",
       "      <td>1</td>\n",
       "    </tr>\n",
       "    <tr>\n",
       "      <td>2</td>\n",
       "      <td>11</td>\n",
       "      <td>17</td>\n",
       "      <td>9</td>\n",
       "      <td>16</td>\n",
       "      <td>7</td>\n",
       "      <td>3</td>\n",
       "      <td>18</td>\n",
       "      <td>16</td>\n",
       "      <td>4</td>\n",
       "      <td>135</td>\n",
       "      <td>13</td>\n",
       "      <td>5</td>\n",
       "      <td>5</td>\n",
       "      <td>3</td>\n",
       "      <td>30</td>\n",
       "      <td>7</td>\n",
       "      <td>32</td>\n",
       "      <td>8</td>\n",
       "      <td>54</td>\n",
       "      <td>1</td>\n",
       "    </tr>\n",
       "    <tr>\n",
       "      <td>3</td>\n",
       "      <td>4</td>\n",
       "      <td>28</td>\n",
       "      <td>4</td>\n",
       "      <td>23</td>\n",
       "      <td>3</td>\n",
       "      <td>4</td>\n",
       "      <td>31</td>\n",
       "      <td>13</td>\n",
       "      <td>5</td>\n",
       "      <td>125</td>\n",
       "      <td>10</td>\n",
       "      <td>5</td>\n",
       "      <td>9</td>\n",
       "      <td>5</td>\n",
       "      <td>11</td>\n",
       "      <td>1</td>\n",
       "      <td>42</td>\n",
       "      <td>4</td>\n",
       "      <td>63</td>\n",
       "      <td>2</td>\n",
       "    </tr>\n",
       "    <tr>\n",
       "      <td>4</td>\n",
       "      <td>1</td>\n",
       "      <td>20</td>\n",
       "      <td>8</td>\n",
       "      <td>22</td>\n",
       "      <td>6</td>\n",
       "      <td>4</td>\n",
       "      <td>18</td>\n",
       "      <td>12</td>\n",
       "      <td>7</td>\n",
       "      <td>128</td>\n",
       "      <td>8</td>\n",
       "      <td>7</td>\n",
       "      <td>14</td>\n",
       "      <td>1</td>\n",
       "      <td>11</td>\n",
       "      <td>0</td>\n",
       "      <td>44</td>\n",
       "      <td>2</td>\n",
       "      <td>70</td>\n",
       "      <td>2</td>\n",
       "    </tr>\n",
       "    <tr>\n",
       "      <td>5</td>\n",
       "      <td>11</td>\n",
       "      <td>17</td>\n",
       "      <td>3</td>\n",
       "      <td>11</td>\n",
       "      <td>3</td>\n",
       "      <td>17</td>\n",
       "      <td>19</td>\n",
       "      <td>15</td>\n",
       "      <td>5</td>\n",
       "      <td>134</td>\n",
       "      <td>9</td>\n",
       "      <td>9</td>\n",
       "      <td>13</td>\n",
       "      <td>4</td>\n",
       "      <td>18</td>\n",
       "      <td>3</td>\n",
       "      <td>48</td>\n",
       "      <td>2</td>\n",
       "      <td>49</td>\n",
       "      <td>5</td>\n",
       "    </tr>\n",
       "    <tr>\n",
       "      <td>6</td>\n",
       "      <td>7</td>\n",
       "      <td>9</td>\n",
       "      <td>6</td>\n",
       "      <td>29</td>\n",
       "      <td>9</td>\n",
       "      <td>13</td>\n",
       "      <td>38</td>\n",
       "      <td>17</td>\n",
       "      <td>19</td>\n",
       "      <td>94</td>\n",
       "      <td>6</td>\n",
       "      <td>3</td>\n",
       "      <td>6</td>\n",
       "      <td>16</td>\n",
       "      <td>21</td>\n",
       "      <td>3</td>\n",
       "      <td>32</td>\n",
       "      <td>8</td>\n",
       "      <td>48</td>\n",
       "      <td>6</td>\n",
       "    </tr>\n",
       "    <tr>\n",
       "      <td>7</td>\n",
       "      <td>8</td>\n",
       "      <td>15</td>\n",
       "      <td>2</td>\n",
       "      <td>13</td>\n",
       "      <td>2</td>\n",
       "      <td>4</td>\n",
       "      <td>15</td>\n",
       "      <td>16</td>\n",
       "      <td>8</td>\n",
       "      <td>155</td>\n",
       "      <td>5</td>\n",
       "      <td>5</td>\n",
       "      <td>12</td>\n",
       "      <td>7</td>\n",
       "      <td>18</td>\n",
       "      <td>0</td>\n",
       "      <td>52</td>\n",
       "      <td>6</td>\n",
       "      <td>53</td>\n",
       "      <td>0</td>\n",
       "    </tr>\n",
       "    <tr>\n",
       "      <td>8</td>\n",
       "      <td>9</td>\n",
       "      <td>14</td>\n",
       "      <td>4</td>\n",
       "      <td>24</td>\n",
       "      <td>4</td>\n",
       "      <td>4</td>\n",
       "      <td>10</td>\n",
       "      <td>15</td>\n",
       "      <td>12</td>\n",
       "      <td>148</td>\n",
       "      <td>15</td>\n",
       "      <td>9</td>\n",
       "      <td>7</td>\n",
       "      <td>10</td>\n",
       "      <td>13</td>\n",
       "      <td>1</td>\n",
       "      <td>41</td>\n",
       "      <td>5</td>\n",
       "      <td>51</td>\n",
       "      <td>2</td>\n",
       "    </tr>\n",
       "    <tr>\n",
       "      <td>9</td>\n",
       "      <td>9</td>\n",
       "      <td>23</td>\n",
       "      <td>3</td>\n",
       "      <td>17</td>\n",
       "      <td>5</td>\n",
       "      <td>2</td>\n",
       "      <td>5</td>\n",
       "      <td>16</td>\n",
       "      <td>7</td>\n",
       "      <td>147</td>\n",
       "      <td>5</td>\n",
       "      <td>4</td>\n",
       "      <td>10</td>\n",
       "      <td>4</td>\n",
       "      <td>26</td>\n",
       "      <td>1</td>\n",
       "      <td>46</td>\n",
       "      <td>1</td>\n",
       "      <td>64</td>\n",
       "      <td>2</td>\n",
       "    </tr>\n",
       "    <tr>\n",
       "      <td>10</td>\n",
       "      <td>7</td>\n",
       "      <td>18</td>\n",
       "      <td>4</td>\n",
       "      <td>22</td>\n",
       "      <td>3</td>\n",
       "      <td>4</td>\n",
       "      <td>3</td>\n",
       "      <td>11</td>\n",
       "      <td>10</td>\n",
       "      <td>148</td>\n",
       "      <td>5</td>\n",
       "      <td>3</td>\n",
       "      <td>10</td>\n",
       "      <td>6</td>\n",
       "      <td>18</td>\n",
       "      <td>3</td>\n",
       "      <td>47</td>\n",
       "      <td>7</td>\n",
       "      <td>68</td>\n",
       "      <td>2</td>\n",
       "    </tr>\n",
       "    <tr>\n",
       "      <td>11</td>\n",
       "      <td>2</td>\n",
       "      <td>28</td>\n",
       "      <td>5</td>\n",
       "      <td>6</td>\n",
       "      <td>2</td>\n",
       "      <td>0</td>\n",
       "      <td>12</td>\n",
       "      <td>14</td>\n",
       "      <td>5</td>\n",
       "      <td>214</td>\n",
       "      <td>4</td>\n",
       "      <td>4</td>\n",
       "      <td>11</td>\n",
       "      <td>1</td>\n",
       "      <td>13</td>\n",
       "      <td>5</td>\n",
       "      <td>41</td>\n",
       "      <td>1</td>\n",
       "      <td>28</td>\n",
       "      <td>0</td>\n",
       "    </tr>\n",
       "    <tr>\n",
       "      <td>12</td>\n",
       "      <td>4</td>\n",
       "      <td>27</td>\n",
       "      <td>4</td>\n",
       "      <td>16</td>\n",
       "      <td>7</td>\n",
       "      <td>2</td>\n",
       "      <td>15</td>\n",
       "      <td>15</td>\n",
       "      <td>3</td>\n",
       "      <td>164</td>\n",
       "      <td>7</td>\n",
       "      <td>2</td>\n",
       "      <td>10</td>\n",
       "      <td>2</td>\n",
       "      <td>16</td>\n",
       "      <td>3</td>\n",
       "      <td>33</td>\n",
       "      <td>2</td>\n",
       "      <td>61</td>\n",
       "      <td>0</td>\n",
       "    </tr>\n",
       "    <tr>\n",
       "      <td>13</td>\n",
       "      <td>1</td>\n",
       "      <td>20</td>\n",
       "      <td>2</td>\n",
       "      <td>15</td>\n",
       "      <td>1</td>\n",
       "      <td>8</td>\n",
       "      <td>14</td>\n",
       "      <td>15</td>\n",
       "      <td>4</td>\n",
       "      <td>148</td>\n",
       "      <td>8</td>\n",
       "      <td>1</td>\n",
       "      <td>12</td>\n",
       "      <td>3</td>\n",
       "      <td>26</td>\n",
       "      <td>0</td>\n",
       "      <td>52</td>\n",
       "      <td>1</td>\n",
       "      <td>64</td>\n",
       "      <td>1</td>\n",
       "    </tr>\n",
       "    <tr>\n",
       "      <td>14</td>\n",
       "      <td>7</td>\n",
       "      <td>24</td>\n",
       "      <td>3</td>\n",
       "      <td>7</td>\n",
       "      <td>3</td>\n",
       "      <td>11</td>\n",
       "      <td>13</td>\n",
       "      <td>17</td>\n",
       "      <td>1</td>\n",
       "      <td>162</td>\n",
       "      <td>6</td>\n",
       "      <td>5</td>\n",
       "      <td>6</td>\n",
       "      <td>2</td>\n",
       "      <td>26</td>\n",
       "      <td>2</td>\n",
       "      <td>62</td>\n",
       "      <td>3</td>\n",
       "      <td>34</td>\n",
       "      <td>0</td>\n",
       "    </tr>\n",
       "    <tr>\n",
       "      <td>15</td>\n",
       "      <td>5</td>\n",
       "      <td>9</td>\n",
       "      <td>0</td>\n",
       "      <td>5</td>\n",
       "      <td>2</td>\n",
       "      <td>6</td>\n",
       "      <td>12</td>\n",
       "      <td>6</td>\n",
       "      <td>2</td>\n",
       "      <td>190</td>\n",
       "      <td>3</td>\n",
       "      <td>3</td>\n",
       "      <td>3</td>\n",
       "      <td>3</td>\n",
       "      <td>21</td>\n",
       "      <td>0</td>\n",
       "      <td>72</td>\n",
       "      <td>0</td>\n",
       "      <td>56</td>\n",
       "      <td>0</td>\n",
       "    </tr>\n",
       "    <tr>\n",
       "      <td>16</td>\n",
       "      <td>5</td>\n",
       "      <td>9</td>\n",
       "      <td>2</td>\n",
       "      <td>6</td>\n",
       "      <td>2</td>\n",
       "      <td>3</td>\n",
       "      <td>4</td>\n",
       "      <td>5</td>\n",
       "      <td>1</td>\n",
       "      <td>210</td>\n",
       "      <td>8</td>\n",
       "      <td>3</td>\n",
       "      <td>6</td>\n",
       "      <td>5</td>\n",
       "      <td>15</td>\n",
       "      <td>1</td>\n",
       "      <td>48</td>\n",
       "      <td>4</td>\n",
       "      <td>24</td>\n",
       "      <td>3</td>\n",
       "    </tr>\n",
       "    <tr>\n",
       "      <td>17</td>\n",
       "      <td>11</td>\n",
       "      <td>12</td>\n",
       "      <td>0</td>\n",
       "      <td>7</td>\n",
       "      <td>4</td>\n",
       "      <td>2</td>\n",
       "      <td>7</td>\n",
       "      <td>8</td>\n",
       "      <td>1</td>\n",
       "      <td>189</td>\n",
       "      <td>3</td>\n",
       "      <td>4</td>\n",
       "      <td>5</td>\n",
       "      <td>0</td>\n",
       "      <td>14</td>\n",
       "      <td>0</td>\n",
       "      <td>56</td>\n",
       "      <td>1</td>\n",
       "      <td>51</td>\n",
       "      <td>1</td>\n",
       "    </tr>\n",
       "    <tr>\n",
       "      <td>18</td>\n",
       "      <td>5</td>\n",
       "      <td>11</td>\n",
       "      <td>1</td>\n",
       "      <td>4</td>\n",
       "      <td>1</td>\n",
       "      <td>1</td>\n",
       "      <td>2</td>\n",
       "      <td>9</td>\n",
       "      <td>3</td>\n",
       "      <td>169</td>\n",
       "      <td>3</td>\n",
       "      <td>2</td>\n",
       "      <td>3</td>\n",
       "      <td>2</td>\n",
       "      <td>10</td>\n",
       "      <td>2</td>\n",
       "      <td>40</td>\n",
       "      <td>2</td>\n",
       "      <td>40</td>\n",
       "      <td>0</td>\n",
       "    </tr>\n",
       "    <tr>\n",
       "      <td>19</td>\n",
       "      <td>11</td>\n",
       "      <td>7</td>\n",
       "      <td>3</td>\n",
       "      <td>6</td>\n",
       "      <td>2</td>\n",
       "      <td>4</td>\n",
       "      <td>5</td>\n",
       "      <td>7</td>\n",
       "      <td>3</td>\n",
       "      <td>125</td>\n",
       "      <td>2</td>\n",
       "      <td>2</td>\n",
       "      <td>3</td>\n",
       "      <td>3</td>\n",
       "      <td>11</td>\n",
       "      <td>1</td>\n",
       "      <td>30</td>\n",
       "      <td>1</td>\n",
       "      <td>21</td>\n",
       "      <td>4</td>\n",
       "    </tr>\n",
       "  </tbody>\n",
       "</table>\n",
       "</div>"
      ],
      "text/plain": [
       "     0   1  2   3  4   5   6   7   8    9  10  11  12  13  14  15  16  17  18  \\\n",
       "0   10  14  1   7  3   6   9  12   2  146   2   1   4   2  25   0  44   1  29   \n",
       "1    6  18  4  18  8   2  18  13   6  112  11   1  12   3  34   3  65   3  51   \n",
       "2   11  17  9  16  7   3  18  16   4  135  13   5   5   3  30   7  32   8  54   \n",
       "3    4  28  4  23  3   4  31  13   5  125  10   5   9   5  11   1  42   4  63   \n",
       "4    1  20  8  22  6   4  18  12   7  128   8   7  14   1  11   0  44   2  70   \n",
       "5   11  17  3  11  3  17  19  15   5  134   9   9  13   4  18   3  48   2  49   \n",
       "6    7   9  6  29  9  13  38  17  19   94   6   3   6  16  21   3  32   8  48   \n",
       "7    8  15  2  13  2   4  15  16   8  155   5   5  12   7  18   0  52   6  53   \n",
       "8    9  14  4  24  4   4  10  15  12  148  15   9   7  10  13   1  41   5  51   \n",
       "9    9  23  3  17  5   2   5  16   7  147   5   4  10   4  26   1  46   1  64   \n",
       "10   7  18  4  22  3   4   3  11  10  148   5   3  10   6  18   3  47   7  68   \n",
       "11   2  28  5   6  2   0  12  14   5  214   4   4  11   1  13   5  41   1  28   \n",
       "12   4  27  4  16  7   2  15  15   3  164   7   2  10   2  16   3  33   2  61   \n",
       "13   1  20  2  15  1   8  14  15   4  148   8   1  12   3  26   0  52   1  64   \n",
       "14   7  24  3   7  3  11  13  17   1  162   6   5   6   2  26   2  62   3  34   \n",
       "15   5   9  0   5  2   6  12   6   2  190   3   3   3   3  21   0  72   0  56   \n",
       "16   5   9  2   6  2   3   4   5   1  210   8   3   6   5  15   1  48   4  24   \n",
       "17  11  12  0   7  4   2   7   8   1  189   3   4   5   0  14   0  56   1  51   \n",
       "18   5  11  1   4  1   1   2   9   3  169   3   2   3   2  10   2  40   2  40   \n",
       "19  11   7  3   6  2   4   5   7   3  125   2   2   3   3  11   1  30   1  21   \n",
       "\n",
       "    19  \n",
       "0    1  \n",
       "1    1  \n",
       "2    1  \n",
       "3    2  \n",
       "4    2  \n",
       "5    5  \n",
       "6    6  \n",
       "7    0  \n",
       "8    2  \n",
       "9    2  \n",
       "10   2  \n",
       "11   0  \n",
       "12   0  \n",
       "13   1  \n",
       "14   0  \n",
       "15   0  \n",
       "16   3  \n",
       "17   1  \n",
       "18   0  \n",
       "19   4  "
      ]
     },
     "execution_count": 171,
     "metadata": {},
     "output_type": "execute_result"
    }
   ],
   "source": [
    "from sklearn.metrics import confusion_matrix\n",
    "# your code here\n",
    "pd.DataFrame(confusion_matrix(data_test.target,preds))\n",
    "# NB: it's handy to call `pd.DataFrame` on the confusion matrix to print it out nicely"
   ]
  },
  {
   "cell_type": "code",
   "execution_count": 172,
   "metadata": {},
   "outputs": [],
   "source": [
    "# comments here"
   ]
  },
  {
   "cell_type": "code",
   "execution_count": null,
   "metadata": {},
   "outputs": [],
   "source": []
  },
  {
   "cell_type": "markdown",
   "metadata": {},
   "source": [
    "# Problem 2: Multiclass Multilabel Problems (20 %)\n",
    "### In this problem we'll examine academic articles from the [arXiv](www.arxiv.org).\n",
    "### Authors who submit articles can attach one or more categories to the articles"
   ]
  },
  {
   "cell_type": "code",
   "execution_count": null,
   "metadata": {},
   "outputs": [],
   "source": []
  },
  {
   "cell_type": "markdown",
   "metadata": {},
   "source": [
    "# Part 0: Load the data\n",
    "## TODO\n",
    " - ### load the data\n",
    " - ### compute all of the unique categories in the train data\n",
    " - ### What are the 10 most common categories which occur together"
   ]
  },
  {
   "cell_type": "code",
   "execution_count": 205,
   "metadata": {},
   "outputs": [
    {
     "name": "stdout",
     "output_type": "stream",
     "text": [
      "9618 2420\n"
     ]
    }
   ],
   "source": [
    "with open('/Users/yunzeli/Downloads/arxiv-qfin-train.json') as fi:\n",
    "    data_train = json.load(fi)\n",
    "\n",
    "with open('/Users/yunzeli/Downloads/arxiv-qfin-test.json') as fi:\n",
    "    data_test = json.load(fi)\n",
    "\n",
    "def include(item):\n",
    "    if len(item[\"category\"]) > 0:\n",
    "        return True\n",
    "    return False\n",
    "\n",
    "data_train = [d for d in data_train if include(d) ]\n",
    "data_test = [d for d in data_test if include(d)]    \n",
    "print(len(data_train), len(data_test))"
   ]
  },
  {
   "cell_type": "code",
   "execution_count": null,
   "metadata": {},
   "outputs": [],
   "source": [
    "\n"
   ]
  },
  {
   "cell_type": "code",
   "execution_count": 206,
   "metadata": {},
   "outputs": [
    {
     "data": {
      "text/plain": [
       "['q-fin.RM',\n",
       " 'q-fin.CP',\n",
       " 'q-fin.TR',\n",
       " 'q-fin.GN',\n",
       " 'econ.EM',\n",
       " 'econ.GN',\n",
       " 'q-fin.ST',\n",
       " 'q-fin.EC',\n",
       " 'math.PR',\n",
       " 'q-fin.MF',\n",
       " 'q-fin.PR',\n",
       " 'q-fin.PM']"
      ]
     },
     "execution_count": 206,
     "metadata": {},
     "output_type": "execute_result"
    }
   ],
   "source": [
    "# compute the unique categories here\n",
    "unique_cat = set()\n",
    "for i in range(len(data_train)):\n",
    "    temp = data_train[i]['category']\n",
    "    for cat in temp:\n",
    "        unique_cat.add(cat)\n",
    "unique_cat = list(unique_cat)\n",
    "unique_cat"
   ]
  },
  {
   "cell_type": "code",
   "execution_count": 207,
   "metadata": {},
   "outputs": [],
   "source": [
    "# compute the co-occuring categories here\n",
    "# Hint:\n",
    "#  - loop through all the train articles\n",
    "#  - loop through all the pairs of categories\n",
    "#  - keep track of the counts of every pair\n",
    "all_cat = {}\n",
    "for i in range(len(data_train)):\n",
    "    temp = data_train[i]['category']\n",
    "    if str(temp) not in all_cat.keys():\n",
    "        all_cat[str(temp)] = 1\n",
    "    else:\n",
    "        all_cat[str(temp)] +=1\n"
   ]
  },
  {
   "cell_type": "markdown",
   "metadata": {},
   "source": [
    "# Part 1: Encode the data\n",
    "\n",
    "## We will encode the title of each article using a bag of words (`CountVectorizer`). Try limiting the features to about 20k. \n",
    "\n",
    "## Encoding targets is as bit trickier for multilabel problems. In this case we want our target to be a matrix of $N_{samples} x N_{categories}$ but each row does not have to sum to 1.\n",
    " - ## NB: scikit learn as a `MultiLabelBinarizer` to help here. \n",
    "\n",
    "# $ \\\\ $\n",
    "## TODO\n",
    " - ## fit a `CountVectorizer` on the titles to create `x_train` and `x_test`\n",
    " - ## create `y_train` and `y_test` to be matrices of $N_{samples} x N_{categories}$ with all 0s and 1s"
   ]
  },
  {
   "cell_type": "code",
   "execution_count": 208,
   "metadata": {},
   "outputs": [],
   "source": [
    "from sklearn.feature_extraction.text import CountVectorizer\n"
   ]
  },
  {
   "cell_type": "code",
   "execution_count": 209,
   "metadata": {},
   "outputs": [],
   "source": [
    "\n",
    "vec = CountVectorizer(max_features = 20000)\n",
    "vec.fit(dat['summary'] for dat in data_train)\n",
    "x_train = vec.transform(dat['summary'] for dat in data_train)\n",
    "x_test = vec.transform(dat['summary'] for dat in data_test)"
   ]
  },
  {
   "cell_type": "code",
   "execution_count": null,
   "metadata": {},
   "outputs": [],
   "source": []
  },
  {
   "cell_type": "code",
   "execution_count": 210,
   "metadata": {},
   "outputs": [
    {
     "name": "stdout",
     "output_type": "stream",
     "text": [
      "(9618, 12) (2420, 12)\n",
      "['q-fin.CP', 'q-fin.ST', 'q-fin.GN', 'econ.GN', 'math.PR', 'q-fin.MF', 'q-fin.TR', 'q-fin.RM', 'q-fin.PR', 'q-fin.PM', 'econ.EM', 'q-fin.EC']\n"
     ]
    }
   ],
   "source": [
    "from sklearn.preprocessing import MultiLabelBinarizer\n",
    "\n",
    "mlb = MultiLabelBinarizer(classes=pd.DataFrame(data_train)['category'].apply(lambda x: x[0]).unique())\n",
    "# your code here\n",
    "y_train = mlb.fit_transform(pd.DataFrame(data_train)[\"category\"].tolist())\n",
    "y_test = mlb.fit_transform(pd.DataFrame(data_test)[\"category\"].tolist())\n",
    "print(y_train.shape, y_test.shape)\n",
    "print(list(mlb.classes_))"
   ]
  },
  {
   "cell_type": "code",
   "execution_count": null,
   "metadata": {},
   "outputs": [],
   "source": []
  },
  {
   "cell_type": "markdown",
   "metadata": {},
   "source": [
    "## Part 2: Model the data\n",
    "### While scikit-learn can't handle multilabel data in logistic regression, keras can. \n",
    "### Create and fit a multilabel logistic regression model and fit it. \n",
    "### NB: think hard about the activation function and loss function that are appropriate in this case!"
   ]
  },
  {
   "cell_type": "code",
   "execution_count": 224,
   "metadata": {},
   "outputs": [
    {
     "data": {
      "text/plain": [
       "(2420, 20000)"
      ]
     },
     "execution_count": 224,
     "metadata": {},
     "output_type": "execute_result"
    }
   ],
   "source": [
    "x_train.shape\n",
    "x_test.shape"
   ]
  },
  {
   "cell_type": "code",
   "execution_count": 221,
   "metadata": {},
   "outputs": [
    {
     "ename": "ValueError",
     "evalue": "Please provide to Input either a `shape` or a `tensor` argument. Note that `shape` does not include the batch dimension.",
     "output_type": "error",
     "traceback": [
      "\u001b[0;31m---------------------------------------------------------------------------\u001b[0m",
      "\u001b[0;31mValueError\u001b[0m                                Traceback (most recent call last)",
      "\u001b[0;32m<ipython-input-221-60286826a453>\u001b[0m in \u001b[0;36m<module>\u001b[0;34m\u001b[0m\n\u001b[1;32m      4\u001b[0m \u001b[0;34m\u001b[0m\u001b[0m\n\u001b[1;32m      5\u001b[0m \u001b[0mK\u001b[0m\u001b[0;34m.\u001b[0m\u001b[0mclear_session\u001b[0m\u001b[0;34m(\u001b[0m\u001b[0;34m)\u001b[0m\u001b[0;34m\u001b[0m\u001b[0;34m\u001b[0m\u001b[0m\n\u001b[0;32m----> 6\u001b[0;31m \u001b[0mdoc_input\u001b[0m \u001b[0;34m=\u001b[0m \u001b[0mInput\u001b[0m\u001b[0;34m(\u001b[0m\u001b[0;34m)\u001b[0m\u001b[0;34m\u001b[0m\u001b[0;34m\u001b[0m\u001b[0m\n\u001b[0m\u001b[1;32m      7\u001b[0m \u001b[0mdoc_output\u001b[0m \u001b[0;34m=\u001b[0m \u001b[0mDense\u001b[0m\u001b[0;34m(\u001b[0m\u001b[0mlen\u001b[0m\u001b[0;34m(\u001b[0m\u001b[0mlist\u001b[0m\u001b[0;34m(\u001b[0m\u001b[0mmlb\u001b[0m\u001b[0;34m.\u001b[0m\u001b[0mclasses_\u001b[0m\u001b[0;34m)\u001b[0m\u001b[0;34m)\u001b[0m\u001b[0;34m,\u001b[0m \u001b[0mactivation\u001b[0m\u001b[0;34m=\u001b[0m\u001b[0;34m'sigmoid'\u001b[0m\u001b[0;34m)\u001b[0m\u001b[0;34m(\u001b[0m\u001b[0mdoc_input\u001b[0m\u001b[0;34m)\u001b[0m\u001b[0;34m\u001b[0m\u001b[0;34m\u001b[0m\u001b[0m\n\u001b[1;32m      8\u001b[0m \u001b[0mmodel\u001b[0m \u001b[0;34m=\u001b[0m \u001b[0mModel\u001b[0m\u001b[0;34m(\u001b[0m\u001b[0mdoc_input\u001b[0m\u001b[0;34m,\u001b[0m \u001b[0mdoc_output\u001b[0m\u001b[0;34m)\u001b[0m\u001b[0;34m\u001b[0m\u001b[0;34m\u001b[0m\u001b[0m\n",
      "\u001b[0;32m~/opt/anaconda3/lib/python3.7/site-packages/tensorflow/python/keras/engine/input_layer.py\u001b[0m in \u001b[0;36mInput\u001b[0;34m(shape, batch_size, name, dtype, sparse, tensor, ragged, **kwargs)\u001b[0m\n\u001b[1;32m    296\u001b[0m                      'to Input, not both at the same time.')\n\u001b[1;32m    297\u001b[0m   \u001b[0;32mif\u001b[0m \u001b[0mbatch_input_shape\u001b[0m \u001b[0;32mis\u001b[0m \u001b[0;32mNone\u001b[0m \u001b[0;32mand\u001b[0m \u001b[0mshape\u001b[0m \u001b[0;32mis\u001b[0m \u001b[0;32mNone\u001b[0m \u001b[0;32mand\u001b[0m \u001b[0mtensor\u001b[0m \u001b[0;32mis\u001b[0m \u001b[0;32mNone\u001b[0m\u001b[0;34m:\u001b[0m\u001b[0;34m\u001b[0m\u001b[0;34m\u001b[0m\u001b[0m\n\u001b[0;32m--> 298\u001b[0;31m     raise ValueError('Please provide to Input either a `shape`'\n\u001b[0m\u001b[1;32m    299\u001b[0m                      \u001b[0;34m' or a `tensor` argument. Note that '\u001b[0m\u001b[0;34m\u001b[0m\u001b[0;34m\u001b[0m\u001b[0m\n\u001b[1;32m    300\u001b[0m                      \u001b[0;34m'`shape` does not include the batch '\u001b[0m\u001b[0;34m\u001b[0m\u001b[0;34m\u001b[0m\u001b[0m\n",
      "\u001b[0;31mValueError\u001b[0m: Please provide to Input either a `shape` or a `tensor` argument. Note that `shape` does not include the batch dimension."
     ]
    }
   ],
   "source": [
    "from keras.models import Model, Input\n",
    "from keras.layers import Dense, Softmax, Dropout\n",
    "import keras.backend as K\n",
    "\n",
    "K.clear_session()\n",
    "doc_input = Input(shape = (x_train.shape[1],))\n",
    "doc_output = Dense(len(list(mlb.classes_)), activation='sigmoid')(doc_input)\n",
    "model = Model(doc_input, doc_output)\n",
    "model.compile(\n",
    "    optimizer='adam', \n",
    "    loss='binary_crossentropy', \n",
    "    metrics=['accuracy']\n",
    ")\n",
    "# your code here\n",
    "# dont forget to compile your model"
   ]
  },
  {
   "cell_type": "code",
   "execution_count": 212,
   "metadata": {},
   "outputs": [
    {
     "name": "stdout",
     "output_type": "stream",
     "text": [
      "Epoch 1/50\n",
      "WARNING:tensorflow:AutoGraph could not transform <function Model.make_train_function.<locals>.train_function at 0x1535907a0> and will run it as-is.\n",
      "Please report this to the TensorFlow team. When filing the bug, set the verbosity to 10 (on Linux, `export AUTOGRAPH_VERBOSITY=10`) and attach the full output.\n",
      "Cause: 'arguments' object has no attribute 'posonlyargs'\n",
      "To silence this warning, decorate the function with @tf.autograph.experimental.do_not_convert\n",
      "WARNING: AutoGraph could not transform <function Model.make_train_function.<locals>.train_function at 0x1535907a0> and will run it as-is.\n",
      "Please report this to the TensorFlow team. When filing the bug, set the verbosity to 10 (on Linux, `export AUTOGRAPH_VERBOSITY=10`) and attach the full output.\n",
      "Cause: 'arguments' object has no attribute 'posonlyargs'\n",
      "To silence this warning, decorate the function with @tf.autograph.experimental.do_not_convert\n",
      "17/19 [=========================>....] - ETA: 0s - loss: 0.4789 - accuracy: 0.1911WARNING:tensorflow:AutoGraph could not transform <function Model.make_test_function.<locals>.test_function at 0x12223f3b0> and will run it as-is.\n",
      "Please report this to the TensorFlow team. When filing the bug, set the verbosity to 10 (on Linux, `export AUTOGRAPH_VERBOSITY=10`) and attach the full output.\n",
      "Cause: 'arguments' object has no attribute 'posonlyargs'\n",
      "To silence this warning, decorate the function with @tf.autograph.experimental.do_not_convert\n",
      "WARNING: AutoGraph could not transform <function Model.make_test_function.<locals>.test_function at 0x12223f3b0> and will run it as-is.\n",
      "Please report this to the TensorFlow team. When filing the bug, set the verbosity to 10 (on Linux, `export AUTOGRAPH_VERBOSITY=10`) and attach the full output.\n",
      "Cause: 'arguments' object has no attribute 'posonlyargs'\n",
      "To silence this warning, decorate the function with @tf.autograph.experimental.do_not_convert\n",
      "19/19 [==============================] - 0s 16ms/step - loss: 0.4694 - accuracy: 0.2074 - val_loss: 0.3710 - val_accuracy: 0.3636\n",
      "Epoch 2/50\n",
      "19/19 [==============================] - 0s 9ms/step - loss: 0.3506 - accuracy: 0.3751 - val_loss: 0.3405 - val_accuracy: 0.3645\n",
      "Epoch 3/50\n",
      "19/19 [==============================] - 0s 8ms/step - loss: 0.3154 - accuracy: 0.4570 - val_loss: 0.3149 - val_accuracy: 0.4512\n",
      "Epoch 4/50\n",
      "19/19 [==============================] - 0s 8ms/step - loss: 0.2875 - accuracy: 0.5261 - val_loss: 0.2967 - val_accuracy: 0.4789\n",
      "Epoch 5/50\n",
      "19/19 [==============================] - 0s 8ms/step - loss: 0.2663 - accuracy: 0.5554 - val_loss: 0.2834 - val_accuracy: 0.4913\n",
      "Epoch 6/50\n",
      "19/19 [==============================] - 0s 8ms/step - loss: 0.2492 - accuracy: 0.5695 - val_loss: 0.2733 - val_accuracy: 0.4930\n",
      "Epoch 7/50\n",
      "19/19 [==============================] - 0s 8ms/step - loss: 0.2352 - accuracy: 0.5807 - val_loss: 0.2653 - val_accuracy: 0.4967\n",
      "Epoch 8/50\n",
      "19/19 [==============================] - 0s 8ms/step - loss: 0.2232 - accuracy: 0.5919 - val_loss: 0.2589 - val_accuracy: 0.4996\n",
      "Epoch 9/50\n",
      "19/19 [==============================] - 0s 9ms/step - loss: 0.2129 - accuracy: 0.5999 - val_loss: 0.2538 - val_accuracy: 0.4996\n",
      "Epoch 10/50\n",
      "19/19 [==============================] - 0s 9ms/step - loss: 0.2038 - accuracy: 0.6059 - val_loss: 0.2495 - val_accuracy: 0.5050\n",
      "Epoch 11/50\n",
      "19/19 [==============================] - 0s 9ms/step - loss: 0.1956 - accuracy: 0.6154 - val_loss: 0.2460 - val_accuracy: 0.5083\n",
      "Epoch 12/50\n",
      "19/19 [==============================] - 0s 8ms/step - loss: 0.1882 - accuracy: 0.6232 - val_loss: 0.2429 - val_accuracy: 0.5116\n",
      "Epoch 13/50\n",
      "19/19 [==============================] - 0s 8ms/step - loss: 0.1815 - accuracy: 0.6316 - val_loss: 0.2403 - val_accuracy: 0.5103\n",
      "Epoch 14/50\n",
      "19/19 [==============================] - 0s 8ms/step - loss: 0.1753 - accuracy: 0.6362 - val_loss: 0.2382 - val_accuracy: 0.5099\n",
      "Epoch 15/50\n",
      "19/19 [==============================] - 0s 10ms/step - loss: 0.1696 - accuracy: 0.6464 - val_loss: 0.2362 - val_accuracy: 0.5132\n",
      "Epoch 16/50\n",
      "19/19 [==============================] - 0s 10ms/step - loss: 0.1643 - accuracy: 0.6472 - val_loss: 0.2345 - val_accuracy: 0.5120\n",
      "Epoch 17/50\n",
      "19/19 [==============================] - 0s 8ms/step - loss: 0.1593 - accuracy: 0.6538 - val_loss: 0.2331 - val_accuracy: 0.5103\n",
      "Epoch 18/50\n",
      "19/19 [==============================] - 0s 8ms/step - loss: 0.1546 - accuracy: 0.6607 - val_loss: 0.2316 - val_accuracy: 0.5087\n",
      "Epoch 19/50\n",
      "19/19 [==============================] - 0s 12ms/step - loss: 0.1502 - accuracy: 0.6625 - val_loss: 0.2306 - val_accuracy: 0.5058\n",
      "Epoch 20/50\n",
      "19/19 [==============================] - 0s 9ms/step - loss: 0.1461 - accuracy: 0.6677 - val_loss: 0.2296 - val_accuracy: 0.5062\n",
      "Epoch 21/50\n",
      "19/19 [==============================] - 0s 8ms/step - loss: 0.1421 - accuracy: 0.6723 - val_loss: 0.2287 - val_accuracy: 0.5099\n",
      "Epoch 22/50\n",
      "19/19 [==============================] - 0s 8ms/step - loss: 0.1384 - accuracy: 0.6802 - val_loss: 0.2280 - val_accuracy: 0.5095\n",
      "Epoch 23/50\n",
      "19/19 [==============================] - 0s 8ms/step - loss: 0.1348 - accuracy: 0.6809 - val_loss: 0.2273 - val_accuracy: 0.5107\n",
      "Epoch 24/50\n",
      "19/19 [==============================] - 0s 8ms/step - loss: 0.1315 - accuracy: 0.6855 - val_loss: 0.2268 - val_accuracy: 0.5070\n",
      "Epoch 25/50\n",
      "19/19 [==============================] - 0s 8ms/step - loss: 0.1283 - accuracy: 0.6871 - val_loss: 0.2262 - val_accuracy: 0.5074\n",
      "Epoch 26/50\n",
      "19/19 [==============================] - 0s 8ms/step - loss: 0.1252 - accuracy: 0.6935 - val_loss: 0.2258 - val_accuracy: 0.5083\n",
      "Epoch 27/50\n",
      "19/19 [==============================] - 0s 9ms/step - loss: 0.1223 - accuracy: 0.6949 - val_loss: 0.2254 - val_accuracy: 0.5087\n",
      "Epoch 28/50\n",
      "19/19 [==============================] - 0s 9ms/step - loss: 0.1195 - accuracy: 0.6979 - val_loss: 0.2251 - val_accuracy: 0.5070\n",
      "Epoch 29/50\n",
      "19/19 [==============================] - 0s 7ms/step - loss: 0.1168 - accuracy: 0.6997 - val_loss: 0.2250 - val_accuracy: 0.5066\n",
      "Epoch 30/50\n",
      "19/19 [==============================] - 0s 8ms/step - loss: 0.1142 - accuracy: 0.7038 - val_loss: 0.2247 - val_accuracy: 0.5074\n",
      "Epoch 31/50\n",
      "19/19 [==============================] - 0s 7ms/step - loss: 0.1117 - accuracy: 0.7054 - val_loss: 0.2245 - val_accuracy: 0.5062\n",
      "Epoch 32/50\n",
      "19/19 [==============================] - 0s 6ms/step - loss: 0.1094 - accuracy: 0.7072 - val_loss: 0.2244 - val_accuracy: 0.5083\n",
      "Epoch 33/50\n",
      "19/19 [==============================] - 0s 6ms/step - loss: 0.1071 - accuracy: 0.7097 - val_loss: 0.2244 - val_accuracy: 0.5079\n",
      "Epoch 34/50\n",
      "19/19 [==============================] - 0s 6ms/step - loss: 0.1049 - accuracy: 0.7118 - val_loss: 0.2243 - val_accuracy: 0.5058\n",
      "Epoch 35/50\n",
      "19/19 [==============================] - 0s 6ms/step - loss: 0.1027 - accuracy: 0.7152 - val_loss: 0.2243 - val_accuracy: 0.5087\n",
      "Epoch 36/50\n",
      "19/19 [==============================] - 0s 6ms/step - loss: 0.1007 - accuracy: 0.7164 - val_loss: 0.2244 - val_accuracy: 0.5066\n",
      "Epoch 37/50\n",
      "19/19 [==============================] - 0s 6ms/step - loss: 0.0987 - accuracy: 0.7159 - val_loss: 0.2244 - val_accuracy: 0.5045\n",
      "Epoch 38/50\n",
      "19/19 [==============================] - 0s 6ms/step - loss: 0.0968 - accuracy: 0.7211 - val_loss: 0.2245 - val_accuracy: 0.5054\n",
      "Epoch 39/50\n",
      "19/19 [==============================] - 0s 6ms/step - loss: 0.0949 - accuracy: 0.7203 - val_loss: 0.2247 - val_accuracy: 0.5050\n",
      "Epoch 40/50\n",
      "19/19 [==============================] - 0s 7ms/step - loss: 0.0932 - accuracy: 0.7214 - val_loss: 0.2248 - val_accuracy: 0.5062\n",
      "Epoch 41/50\n",
      "19/19 [==============================] - 0s 6ms/step - loss: 0.0914 - accuracy: 0.7248 - val_loss: 0.2251 - val_accuracy: 0.5087\n",
      "Epoch 42/50\n",
      "19/19 [==============================] - 0s 6ms/step - loss: 0.0898 - accuracy: 0.7269 - val_loss: 0.2253 - val_accuracy: 0.5054\n",
      "Epoch 43/50\n",
      "19/19 [==============================] - 0s 6ms/step - loss: 0.0881 - accuracy: 0.7284 - val_loss: 0.2254 - val_accuracy: 0.5054\n",
      "Epoch 44/50\n",
      "19/19 [==============================] - 0s 6ms/step - loss: 0.0866 - accuracy: 0.7313 - val_loss: 0.2258 - val_accuracy: 0.5066\n",
      "Epoch 45/50\n",
      "19/19 [==============================] - 0s 6ms/step - loss: 0.0850 - accuracy: 0.7306 - val_loss: 0.2259 - val_accuracy: 0.5041\n",
      "Epoch 46/50\n",
      "19/19 [==============================] - 0s 9ms/step - loss: 0.0835 - accuracy: 0.7312 - val_loss: 0.2263 - val_accuracy: 0.5070\n",
      "Epoch 47/50\n",
      "19/19 [==============================] - 0s 5ms/step - loss: 0.0821 - accuracy: 0.7352 - val_loss: 0.2264 - val_accuracy: 0.5062\n",
      "Epoch 48/50\n",
      "19/19 [==============================] - 0s 6ms/step - loss: 0.0807 - accuracy: 0.7352 - val_loss: 0.2269 - val_accuracy: 0.5050\n",
      "Epoch 49/50\n",
      "19/19 [==============================] - 0s 9ms/step - loss: 0.0793 - accuracy: 0.7339 - val_loss: 0.2271 - val_accuracy: 0.5058\n",
      "Epoch 50/50\n",
      "19/19 [==============================] - 0s 6ms/step - loss: 0.0780 - accuracy: 0.7374 - val_loss: 0.2275 - val_accuracy: 0.5074\n"
     ]
    },
    {
     "data": {
      "text/plain": [
       "<tensorflow.python.keras.callbacks.History at 0x1210ff090>"
      ]
     },
     "execution_count": 212,
     "metadata": {},
     "output_type": "execute_result"
    }
   ],
   "source": [
    "model.fit(\n",
    "    x_train, y_train, batch_size=512, epochs=50, shuffle=True, validation_data=(x_test, y_test)\n",
    ")"
   ]
  },
  {
   "cell_type": "code",
   "execution_count": 213,
   "metadata": {},
   "outputs": [
    {
     "data": {
      "text/plain": [
       "<matplotlib.axes._subplots.AxesSubplot at 0x11ef2e150>"
      ]
     },
     "execution_count": 213,
     "metadata": {},
     "output_type": "execute_result"
    },
    {
     "data": {
      "image/png": "[encoded data removed]",
      "text/plain": [
       "<Figure size 864x504 with 2 Axes>"
      ]
     },
     "metadata": {
      "needs_background": "light"
     },
     "output_type": "display_data"
    }
   ],
   "source": [
    "pd.DataFrame(model.history.history)[['val_loss', 'val_accuracy']].plot(\n",
    "    figsize=(12,7), secondary_y='val_loss'\n",
    ")"
   ]
  },
  {
   "cell_type": "markdown",
   "metadata": {},
   "source": [
    "# Part 3: f1 score\n",
    "## While modeling is more difficult in the multilabel case, the metrics are, oddly, simpler. Here, we can only compute metrics class by class.\n",
    "\n",
    "### For each class, print the accuracy and f1 score for the class. Comment on the results. "
   ]
  },
  {
   "cell_type": "code",
   "execution_count": 228,
   "metadata": {},
   "outputs": [],
   "source": [
    "preds =  model.predict(x_test)\n",
    "for i in range(len(preds)):\n",
    "    for j in range(len(preds[0])):\n",
    "        preds[i][j] = 1 if preds[i][j]>0.5 else 0"
   ]
  },
  {
   "cell_type": "code",
   "execution_count": 230,
   "metadata": {},
   "outputs": [
    {
     "name": "stdout",
     "output_type": "stream",
     "text": [
      "classq-fin.CP \t\tacc: 0.911 \tf1: 0.430\n",
      "classq-fin.ST \t\tacc: 0.889 \tf1: 0.713\n",
      "classq-fin.GN \t\tacc: 0.867 \tf1: 0.522\n",
      "classecon.GN \t\tacc: 0.959 \tf1: 0.733\n",
      "classmath.PR \t\tacc: 0.917 \tf1: 0.579\n",
      "classq-fin.MF \t\tacc: 0.889 \tf1: 0.263\n",
      "classq-fin.TR \t\tacc: 0.941 \tf1: 0.528\n",
      "classq-fin.RM \t\tacc: 0.928 \tf1: 0.582\n",
      "classq-fin.PR \t\tacc: 0.913 \tf1: 0.593\n",
      "classq-fin.PM \t\tacc: 0.933 \tf1: 0.556\n",
      "classecon.EM \t\tacc: 0.954 \tf1: 0.764\n",
      "classq-fin.EC \t\tacc: 0.936 \tf1: 0.714\n"
     ]
    }
   ],
   "source": [
    "\n",
    "# loop through all the classes\n",
    "# compute and print the accuracy and f1 for that class\n",
    "for i, class_ in enumerate(mlb.classes_):\n",
    "    acc = accuracy_score(y_test[:, i], preds[:, i])\n",
    "    f1 = f1_score(y_test[:, i], preds[:, i])\n",
    "    print('class{} \\t\\tacc: {:.3f} \\tf1: {:.3f}'.format(class_, acc, f1))\n"
   ]
  },
  {
   "cell_type": "code",
   "execution_count": null,
   "metadata": {},
   "outputs": [],
   "source": []
  },
  {
   "cell_type": "markdown",
   "metadata": {},
   "source": [
    "# Problem 3: New Metrics (30%)\n",
    "## In this problem we'll explore new metrics associated with true positives and false positives."
   ]
  },
  {
   "cell_type": "markdown",
   "metadata": {},
   "source": [
    "## Part 0: Load the IMDB data and fit a model\n",
    " - ### Load the imdb data\n",
    " - ### featurize the text using TFIDF\n",
    " - ### Fit logistic regression\n",
    " - ### calculate the in-sample and out of sample accuracy and f1 score"
   ]
  },
  {
   "cell_type": "code",
   "execution_count": 1,
   "metadata": {},
   "outputs": [
    {
     "name": "stdout",
     "output_type": "stream",
     "text": [
      "Populating the interactive namespace from numpy and matplotlib\n",
      "found 25000 train docs and 25000 test docs\n"
     ]
    }
   ],
   "source": [
    "import os\n",
    "import glob\n",
    "import numpy as np\n",
    "import pandas as pd\n",
    "import matplotlib.pyplot as plt\n",
    "%pylab inline\n",
    "\n",
    "\n",
    "def load_imdb_data_text(imdb_data_dir, random_seed=1234):\n",
    "    train_dir = os.path.join(imdb_data_dir, 'train')\n",
    "    test_dir = os.path.join(imdb_data_dir, 'test')\n",
    "\n",
    "    np.random.seed(random_seed)\n",
    "    texts = []\n",
    "    targets = []\n",
    "    for label in ('pos', 'neg'):\n",
    "        data_dir = os.path.join(train_dir, label)\n",
    "        files = glob.glob(os.path.join(data_dir, '*.txt'))\n",
    "        for filename in files:\n",
    "            with open(filename ,encoding='utf-8') as fi:\n",
    "                text = fi.read()\n",
    "            target = (label == 'pos')\n",
    "            texts.append(text)\n",
    "            targets.append(target)\n",
    "\n",
    "    train_docs = texts\n",
    "    y_train = np.array(targets)\n",
    "\n",
    "\n",
    "    texts = []\n",
    "    targets = []\n",
    "    for label in ('pos', 'neg'):\n",
    "        data_dir = os.path.join(test_dir, label)\n",
    "        files = glob.glob(os.path.join(data_dir, '*.txt'))\n",
    "        for filename in files:\n",
    "            with open(filename, encoding='utf-8') as fi:\n",
    "                text = fi.read()\n",
    "            target = (label == 'pos')\n",
    "            texts.append(text)\n",
    "            targets.append(target)\n",
    "\n",
    "    test_docs = texts\n",
    "    y_test = np.array(targets)\n",
    "\n",
    "    inds = np.arange(y_train.shape[0])\n",
    "    np.random.shuffle(inds)\n",
    "\n",
    "    train_docs = [train_docs[i] for i in inds]\n",
    "    y_train = y_train[inds]\n",
    "    \n",
    "    return (train_docs, y_train), (test_docs, y_test)\n",
    "\n",
    "(train_docs, y_train), (test_docs, y_test) = load_imdb_data_text('aclImdb')\n",
    "print('found {} train docs and {} test docs'.format(len(train_docs), len(test_docs)))"
   ]
  },
  {
   "cell_type": "code",
   "execution_count": 3,
   "metadata": {},
   "outputs": [],
   "source": [
    "from sklearn.feature_extraction.text import TfidfVectorizer\n",
    "from sklearn.linear_model import LogisticRegression\n",
    "from sklearn.metrics import accuracy_score, f1_score"
   ]
  },
  {
   "cell_type": "code",
   "execution_count": 4,
   "metadata": {},
   "outputs": [
    {
     "name": "stdout",
     "output_type": "stream",
     "text": [
      "#################### in sample ####################\n",
      "\t\taccuracy: 0.933\n",
      "\t\tf1: 0.933\n",
      "\n",
      "\n",
      "\n",
      "#################### out of sample ####################\n",
      "\t\taccuracy: 0.882\n",
      "\t\tf1: 0.882\n"
     ]
    }
   ],
   "source": [
    "vec = TfidfVectorizer(min_df = 3, lowercase=False)\n",
    "\n",
    "vec.fit(train_docs)\n",
    "docTermMat_train = vec.transform(train_docs)\n",
    "docTermMat_test = vec.transform(test_docs)\n",
    "\n",
    "logReg = LogisticRegression()\n",
    "logReg.fit(docTermMat_train, y_train)\n",
    "\n",
    "preds_train = logReg.predict(docTermMat_train)\n",
    "preds_test = logReg.predict(docTermMat_test)\n",
    "\n",
    "print('#'*20 + ' in sample ' + '#'*20 )\n",
    "print('\\t\\taccuracy: {:.3f}'.format(accuracy_score(y_train, preds_train)))\n",
    "print('\\t\\tf1: {:.3f}'.format(f1_score(y_train, preds_train)))\n",
    "print('\\n\\n')\n",
    "print('#'*20 + ' out of sample ' + '#'*20 )\n",
    "print('\\t\\taccuracy: {:.3f}'.format(accuracy_score(y_test, preds_test)))\n",
    "print('\\t\\tf1: {:.3f}'.format(f1_score(y_test, preds_test)))"
   ]
  },
  {
   "cell_type": "markdown",
   "metadata": {},
   "source": [
    "## Part 2: Tradeoff between true positives and false positives\n",
    "Typically we take a threshold of 0.5 probability to consider something a positive example.\n",
    "However, as we change this threshold we can change the number of true positives we get.\n",
    " - Example: at a theshold of 0.0001 we will get nearly all of the true positives\n",
    " - Example: at a threshold of 0.999 we will get almost none of the true positives\n",
    "\n",
    "Notice: as we change our threshold and increase the number of true positives we will also increase the number of false positives we pick up.\n",
    "\n",
    "In this part you will create a graph of the false positive rate on the x-axis and the true positive rate on the y-axis. This is often called the `receiver operator characteristic`. Make this curve for the out of sample data below.\n",
    "\n",
    "Note: while you can use the builtin scikit-learn functionality for this, you will __not receive credit__ if you do. "
   ]
  },
  {
   "cell_type": "code",
   "execution_count": 6,
   "metadata": {},
   "outputs": [],
   "source": [
    "from tqdm import tqdm\n"
   ]
  },
  {
   "cell_type": "code",
   "execution_count": 5,
   "metadata": {},
   "outputs": [],
   "source": [
    "# your code here\n",
    "# hint: \n",
    "#  - loop through the thresholds\n",
    "#  - calulcate the true positives and false positives\n",
    "\n",
    "# hint: what values for thresholds should you loop through?"
   ]
  },
  {
   "cell_type": "code",
   "execution_count": 7,
   "metadata": {},
   "outputs": [],
   "source": [
    "thresholds = np.arange(0.001, 1, 0.001)"
   ]
  },
  {
   "cell_type": "code",
   "execution_count": 8,
   "metadata": {},
   "outputs": [
    {
     "name": "stderr",
     "output_type": "stream",
     "text": [
      "100%|██████████████████████████████████████████████████████████████████████████████| 999/999 [00:00<00:00, 3898.30it/s]\n"
     ]
    },
    {
     "data": {
      "text/plain": [
       "Text(0.5, 1.0, 'Receiver Operator Characteristic')"
      ]
     },
     "execution_count": 8,
     "metadata": {},
     "output_type": "execute_result"
    },
    {
     "data": {
      "image/png": "[encoded data removed]",
      "text/plain": [
       "<Figure size 864x576 with 1 Axes>"
      ]
     },
     "metadata": {
      "needs_background": "light"
     },
     "output_type": "display_data"
    }
   ],
   "source": [
    "predProbs = logReg.predict_proba(docTermMat_test)[:, 1]\n",
    "\n",
    "true_pos_rates = []\n",
    "false_pos_rates = []\n",
    "for threshold in tqdm(thresholds):\n",
    "    preds = np.where(predProbs > threshold, True, False)   \n",
    "    tp = preds & y_test\n",
    "    fp = preds & ~y_test\n",
    "    tn = ~preds & ~y_test\n",
    "    fn = ~preds & y_test\n",
    "    tpr =  tp.sum()/(tp.sum()+fn.sum())\n",
    "    fpr =  fp.sum()/(fp.sum()+tn.sum())\n",
    "    true_pos_rates.append(tpr)\n",
    "    false_pos_rates.append(fpr)\n",
    "\n",
    "pd.Series(true_pos_rates, index=false_pos_rates).plot(figsize=(12,8), fontsize=16)\n",
    "plt.xlabel('False Pos Rate', fontsize=16)\n",
    "plt.ylabel('True Pos Rate', fontsize=16)\n",
    "plt.title('Receiver Operator Characteristic', fontsize=20)"
   ]
  },
  {
   "cell_type": "markdown",
   "metadata": {},
   "source": [
    "## Part 3: Baseline\n",
    " - What does the receiver operator curve look like for a random guessing classifier? \n",
    " - Make the same plot as above but add the random guessing curve\n",
    " - Add comments about WHY the random guessing curve looks this way"
   ]
  },
  {
   "cell_type": "code",
   "execution_count": 9,
   "metadata": {},
   "outputs": [
    {
     "name": "stderr",
     "output_type": "stream",
     "text": [
      "100%|██████████████████████████████████████████████████████████████████████████████| 999/999 [00:00<00:00, 3574.07it/s]\n"
     ]
    },
    {
     "data": {
      "text/plain": [
       "<matplotlib.legend.Legend at 0x1af940f6c18>"
      ]
     },
     "execution_count": 9,
     "metadata": {},
     "output_type": "execute_result"
    },
    {
     "data": {
      "image/png": "[encoded data removed]",
      "text/plain": [
       "<Figure size 864x576 with 1 Axes>"
      ]
     },
     "metadata": {
      "needs_background": "light"
     },
     "output_type": "display_data"
    }
   ],
   "source": [
    "ax = pd.Series(true_pos_rates, index=false_pos_rates, name='logistic regression').plot(\n",
    "    figsize=(12,8), fontsize=16\n",
    ")\n",
    "\n",
    "randomGuess = np.random.uniform(low=0.0, high=1.0, size=y_test.shape)\n",
    "random_true_pos_rates = []\n",
    "random_false_pos_rates = []\n",
    "for threshold in tqdm(thresholds):\n",
    "    preds = np.where(randomGuess > threshold, True, False)     \n",
    "    tp = preds & y_test\n",
    "    fp = preds & ~y_test\n",
    "    tn = ~preds & ~y_test\n",
    "    fn = ~preds & y_test\n",
    "    tpr =  tp.sum()/(tp.sum()+fn.sum())\n",
    "    fpr =  fp.sum()/(fp.sum()+tn.sum())\n",
    "    random_true_pos_rates.append(tpr)\n",
    "    random_false_pos_rates.append(fpr)\n",
    "                    \n",
    "baseline_series = pd.Series(random_true_pos_rates, index=random_false_pos_rates)\n",
    "baseline_series.to_frame('random guess').plot(ax=ax, fontsize=16)\n",
    "plt.xlabel('False Pos Rate', fontsize=16)\n",
    "plt.ylabel('True Pos Rate', fontsize=16)\n",
    "plt.title('Receiver Operator Characteristic', fontsize=20)\n",
    "plt.legend(fontsize=16)"
   ]
  },
  {
   "cell_type": "code",
   "execution_count": 10,
   "metadata": {},
   "outputs": [],
   "source": [
    "# add comments here"
   ]
  },
  {
   "cell_type": "markdown",
   "metadata": {},
   "source": [
    "ROC is a probability curve tells how much model is capable of distinguishing between classes. The more concave the curve is (Higher the AUC), the better the model is at predicting 0s as 0s and 1s as 1s. \n",
    "\n",
    "Since random guessing is expected to be correct 50% of times in the case of two labels, we expect that the improvement of true positives will come with about the same increase of false negatives. Therefore, we will see an ROC curve of 45 degrees straight line. This indicates that the model has no discrimination capacity to distinguish between positive class and negative class. (AUC is approximately 0.5)"
   ]
  },
  {
   "cell_type": "markdown",
   "metadata": {},
   "source": [
    "## Part 4: Boiling it down to a single number\n",
    " - While the ROC is a useful curve and contains a lot of information, it is useful to distill in down to a single number. Typically, the area under the curve is used. Calculate the area under the curve and add it as the title to your previous plot. \n",
    " - Hint: think about approximations for integrals for finding area under a curve\n"
   ]
  },
  {
   "cell_type": "code",
   "execution_count": 11,
   "metadata": {},
   "outputs": [
    {
     "data": {
      "text/plain": [
       "<matplotlib.legend.Legend at 0x1af940e60f0>"
      ]
     },
     "execution_count": 11,
     "metadata": {},
     "output_type": "execute_result"
    },
    {
     "data": {
      "image/png": "[encoded data removed]",
      "text/plain": [
       "<Figure size 864x576 with 1 Axes>"
      ]
     },
     "metadata": {
      "needs_background": "light"
     },
     "output_type": "display_data"
    }
   ],
   "source": [
    "from sklearn.metrics import auc\n",
    "area_under = auc(false_pos_rates, true_pos_rates)\n",
    "\n",
    "# repeat the plotting code here\n",
    "pd.Series(true_pos_rates, index=false_pos_rates, name='logistic regression').plot(\n",
    "    figsize=(12,8), fontsize=16\n",
    ")\n",
    "plt.xlabel('False Pos Rate', fontsize=16)\n",
    "plt.ylabel('True Pos Rate', fontsize=16)\n",
    "plt.title('Area under the curve = {:.3f}'.format(area_under, fontsize=20))\n",
    "plt.legend(fontsize=16)"
   ]
  },
  {
   "cell_type": "markdown",
   "metadata": {},
   "source": [
    "## Part 5: Check you work and comment on the results\n",
    " - \"There's gotta be a better way!\"\n",
    " - In fact, `scikit-learn` will take care of a lot of the headache here. \n",
    " - `from sklearn.metrics import plot_roc_curve`\n",
    " - read the docs and use this function\n",
    "\n"
   ]
  },
  {
   "cell_type": "code",
   "execution_count": 13,
   "metadata": {},
   "outputs": [
    {
     "data": {
      "text/plain": [
       "<sklearn.metrics._plot.roc_curve.RocCurveDisplay at 0x1af951a00f0>"
      ]
     },
     "execution_count": 13,
     "metadata": {},
     "output_type": "execute_result"
    },
    {
     "data": {
      "image/png": "[encoded data removed]",
      "text/plain": [
       "<Figure size 432x288 with 1 Axes>"
      ]
     },
     "metadata": {
      "needs_background": "light"
     },
     "output_type": "display_data"
    }
   ],
   "source": [
    "from sklearn.metrics import plot_roc_curve, auc\n",
    "# your code here\n",
    "plot_roc_curve(logReg,docTermMat_test, y_test)"
   ]
  },
  {
   "cell_type": "markdown",
   "metadata": {},
   "source": [
    "## A few comments:\n",
    " - The area under the ROC has a nice interpretation. It can be thought of as the probability that a randomly chosen positive example has a higher probability than a randomly chosen negative example.\n",
    " - This metric is also nice since it is independent of a threshold. "
   ]
  },
  {
   "cell_type": "code",
   "execution_count": null,
   "metadata": {},
   "outputs": [],
   "source": []
  },
  {
   "cell_type": "code",
   "execution_count": null,
   "metadata": {},
   "outputs": [],
   "source": []
  },
  {
   "cell_type": "markdown",
   "metadata": {},
   "source": [
    "# Problem 4: Examining Coefficients (20%)\n",
    "In class we skipped an important step: we never made sure our models made sense. \n",
    "Logistic regression provides coefficients, which allow us to determine if a model\n",
    "if learning anything reasonable. \n",
    "\n",
    "In this problem, you'll load the imdb data, fit logistic regression and exmamine the coefficients. \n",
    "Print out the largest and smallest (largest negative) coefficients and comment on the results."
   ]
  },
  {
   "cell_type": "code",
   "execution_count": 14,
   "metadata": {},
   "outputs": [
    {
     "name": "stdout",
     "output_type": "stream",
     "text": [
      "Populating the interactive namespace from numpy and matplotlib\n",
      "found 25000 train docs and 25000 test docs\n"
     ]
    }
   ],
   "source": [
    "import os\n",
    "import glob\n",
    "import numpy as np\n",
    "import pandas as pd\n",
    "import matplotlib.pyplot as plt\n",
    "%pylab inline\n",
    "\n",
    "# copy code from above to load the data\n",
    "\n",
    "(train_docs, y_train), (test_docs, y_test) = load_imdb_data_text('aclImdb')\n",
    "print('found {} train docs and {} test docs'.format(len(train_docs), len(test_docs)))"
   ]
  },
  {
   "cell_type": "code",
   "execution_count": 15,
   "metadata": {},
   "outputs": [],
   "source": [
    "from sklearn.feature_extraction.text import TfidfVectorizer\n",
    "from sklearn.linear_model import LogisticRegression\n",
    "    \n",
    "vec = TfidfVectorizer(lowercase=False)\n",
    "vec.fit(train_docs)\n",
    "\n",
    "term_document_matrix_train = vec.transform(train_docs)\n",
    "term_document_matrix_test = vec.transform(test_docs)"
   ]
  },
  {
   "cell_type": "code",
   "execution_count": 16,
   "metadata": {},
   "outputs": [
    {
     "data": {
      "text/plain": [
       "LogisticRegression(C=1.0, class_weight=None, dual=False, fit_intercept=True,\n",
       "                   intercept_scaling=1, l1_ratio=None, max_iter=100,\n",
       "                   multi_class='auto', n_jobs=None, penalty='l2',\n",
       "                   random_state=None, solver='liblinear', tol=0.0001, verbose=0,\n",
       "                   warm_start=False)"
      ]
     },
     "execution_count": 16,
     "metadata": {},
     "output_type": "execute_result"
    }
   ],
   "source": [
    "lr = LogisticRegression(solver='liblinear')\n",
    "lr.fit(term_document_matrix_train, y_train)"
   ]
  },
  {
   "cell_type": "code",
   "execution_count": null,
   "metadata": {},
   "outputs": [],
   "source": [
    "# Hint: you can call `vec.get_feature_names` to get the words in order\n",
    "# that correspond to the columns of the TFIDF matrix \n",
    "# This is useful to pass to the index of a pd.Series"
   ]
  },
  {
   "cell_type": "code",
   "execution_count": 17,
   "metadata": {},
   "outputs": [
    {
     "data": {
      "text/plain": [
       "worst       -9.079838\n",
       "bad         -7.985344\n",
       "great        7.255796\n",
       "awful       -6.453350\n",
       "waste       -6.386504\n",
       "boring      -5.836068\n",
       "excellent    5.656307\n",
       "poor        -5.406920\n",
       "well         5.061576\n",
       "best         5.028383\n",
       "perfect      4.909919\n",
       "nothing     -4.873936\n",
       "terrible    -4.717455\n",
       "worse       -4.492199\n",
       "wonderful    4.478167\n",
       "amazing      4.205910\n",
       "no          -4.205367\n",
       "poorly      -4.185853\n",
       "dull        -4.099209\n",
       "love         4.070937\n",
       "dtype: float64"
      ]
     },
     "execution_count": 17,
     "metadata": {},
     "output_type": "execute_result"
    }
   ],
   "source": [
    "coefs = pd.Series(lr.coef_[0], index= vec.get_feature_names())\n",
    "coefs.loc[coefs.abs().nlargest(20).index]\n",
    "# NB: to get the largest items in a series by abs try\n",
    "#    coefs.loc[coefs.abs().nlargest(20).index]"
   ]
  },
  {
   "cell_type": "code",
   "execution_count": 9,
   "metadata": {},
   "outputs": [],
   "source": [
    "# comments here"
   ]
  },
  {
   "cell_type": "markdown",
   "metadata": {},
   "source": [
    "Positive coefficient words: great, excellent, well, best, perfect, wonderful, amazing, love.\n",
    "\n",
    "Negative coefficient words: worst, bad, awful, waste, boring, poor, nothing, terrible, worse, no, poorly, dull.\n",
    "\n",
    "Positive words get largest coefficients, while negative words get smallest (largest negative) coefficients. Thus, the coeffcients make intuitive sense."
   ]
  },
  {
   "cell_type": "code",
   "execution_count": null,
   "metadata": {},
   "outputs": [],
   "source": []
  }
 ],
 "metadata": {
  "kernelspec": {
   "display_name": "Python 3",
   "language": "python",
   "name": "python3"
  },
  "language_info": {
   "codemirror_mode": {
    "name": "ipython",
    "version": 3
   },
   "file_extension": ".py",
   "mimetype": "text/x-python",
   "name": "python",
   "nbconvert_exporter": "python",
   "pygments_lexer": "ipython3",
   "version": "3.6.5"
  }
 },
 "nbformat": 4,
 "nbformat_minor": 4
}
