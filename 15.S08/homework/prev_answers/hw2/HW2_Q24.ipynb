{
 "cells": [
  {
   "cell_type": "markdown",
   "metadata": {},
   "source": [
    "# Homework #2"
   ]
  },
  {
   "cell_type": "code",
   "execution_count": 1,
   "metadata": {},
   "outputs": [
    {
     "name": "stdout",
     "output_type": "stream",
     "text": [
      "Populating the interactive namespace from numpy and matplotlib\n"
     ]
    }
   ],
   "source": [
    "%pylab inline"
   ]
  },
  {
   "cell_type": "code",
   "execution_count": 2,
   "metadata": {},
   "outputs": [],
   "source": [
    "import os\n",
    "import json\n",
    "import re\n",
    "\n",
    "import numpy as np\n",
    "import pandas as pd"
   ]
  },
  {
   "cell_type": "markdown",
   "metadata": {},
   "source": [
    "# Problem 2: Word vectors via Pointwise Mutual Information (PMI)"
   ]
  },
  {
   "cell_type": "markdown",
   "metadata": {},
   "source": [
    "### In this problem we will investigate another way of creating word representation from word co-occurrences. For this we will create a word-word matrix that counts the number of times that two words appear close to each other.\n",
    "\n",
    "## More formally:"
   ]
  },
  {
   "cell_type": "markdown",
   "metadata": {},
   "source": [
    "### The pointwise mutual information (PMI) for a (word, context) pair in a corpus is defined as the probability of their co-occurrence divided by the probabilities of them appearing individually, \n",
    "## $$\n",
    "{\\rm pmi}(w, c) = \\log \\frac{p(w, c)}{p(w) p(c)}\n",
    "$$\n",
    "\n",
    "## $$\n",
    "p(w, c) = \\frac{\n",
    "f_{i,j}\n",
    "}{\n",
    "\\sum_{i=1}^N \\sum_{j=1}^N f_{i,j}\n",
    "}, \\quad \n",
    "p(w) = \\frac{\n",
    "\\sum_{j=1}^N f_{i,j}\n",
    "}{\n",
    "\\sum_{i=1}^N \\sum_{j=1}^N f_{i,j}\n",
    "}, \\quad\n",
    "p(c) = \\frac{\n",
    "\\sum_{i=1}^N f_{i,j}\n",
    "}{\n",
    "\\sum_{i=1}^N \\sum_{j=1}^N f_{i,j}\n",
    "}\n",
    "$$\n",
    "### where $f_{i,j}$ is the word-word count matrix. <br />\n",
    "### In addition we can define the positive pointwise mutual information as, \n",
    "## $$\n",
    "{\\rm ppmi}(w, c) = {\\rm max}\\left[{\\rm pmi(w,c)}, 0 \\right]\n",
    "$$"
   ]
  },
  {
   "cell_type": "markdown",
   "metadata": {},
   "source": [
    "## We will implement this on our wiki featured articles dataset"
   ]
  },
  {
   "cell_type": "code",
   "execution_count": 3,
   "metadata": {},
   "outputs": [
    {
     "data": {
      "text/html": [
       "<div>\n",
       "<style scoped>\n",
       "    .dataframe tbody tr th:only-of-type {\n",
       "        vertical-align: middle;\n",
       "    }\n",
       "\n",
       "    .dataframe tbody tr th {\n",
       "        vertical-align: top;\n",
       "    }\n",
       "\n",
       "    .dataframe thead th {\n",
       "        text-align: right;\n",
       "    }\n",
       "</style>\n",
       "<table border=\"1\" class=\"dataframe\">\n",
       "  <thead>\n",
       "    <tr style=\"text-align: right;\">\n",
       "      <th></th>\n",
       "      <th>page_id</th>\n",
       "      <th>page_title</th>\n",
       "      <th>page_views</th>\n",
       "      <th>intro_text</th>\n",
       "    </tr>\n",
       "  </thead>\n",
       "  <tbody>\n",
       "    <tr>\n",
       "      <td>3511</td>\n",
       "      <td>7015404</td>\n",
       "      <td>Isopogon anethifolius</td>\n",
       "      <td>219</td>\n",
       "      <td>'Isopogon anethifolius', commonly known as nar...</td>\n",
       "    </tr>\n",
       "    <tr>\n",
       "      <td>1343</td>\n",
       "      <td>321495</td>\n",
       "      <td>Bill O'Reilly (cricketer)</td>\n",
       "      <td>683</td>\n",
       "      <td>William Joseph O'Reilly (20 December 19056 Oct...</td>\n",
       "    </tr>\n",
       "    <tr>\n",
       "      <td>1376</td>\n",
       "      <td>335537</td>\n",
       "      <td>1999 FIFA Women's World Cup</td>\n",
       "      <td>1994</td>\n",
       "      <td>The 1999 FIFA Women's World Cup was the third ...</td>\n",
       "    </tr>\n",
       "    <tr>\n",
       "      <td>1404</td>\n",
       "      <td>346987</td>\n",
       "      <td>Referendum Party</td>\n",
       "      <td>4794</td>\n",
       "      <td>The Referendum Party was a Eurosceptic, single...</td>\n",
       "    </tr>\n",
       "    <tr>\n",
       "      <td>4079</td>\n",
       "      <td>14099454</td>\n",
       "      <td>The Chaser APEC pranks</td>\n",
       "      <td>555</td>\n",
       "      <td>The Chaser APEC pranks were a series of comic ...</td>\n",
       "    </tr>\n",
       "  </tbody>\n",
       "</table>\n",
       "</div>"
      ],
      "text/plain": [
       "       page_id                   page_title  page_views  \\\n",
       "3511   7015404        Isopogon anethifolius         219   \n",
       "1343    321495    Bill O'Reilly (cricketer)         683   \n",
       "1376    335537  1999 FIFA Women's World Cup        1994   \n",
       "1404    346987             Referendum Party        4794   \n",
       "4079  14099454       The Chaser APEC pranks         555   \n",
       "\n",
       "                                             intro_text  \n",
       "3511  'Isopogon anethifolius', commonly known as nar...  \n",
       "1343  William Joseph O'Reilly (20 December 19056 Oct...  \n",
       "1376  The 1999 FIFA Women's World Cup was the third ...  \n",
       "1404  The Referendum Party was a Eurosceptic, single...  \n",
       "4079  The Chaser APEC pranks were a series of comic ...  "
      ]
     },
     "execution_count": 3,
     "metadata": {},
     "output_type": "execute_result"
    }
   ],
   "source": [
    "wiki_feat_df = pd.read_csv('kdwd_featured_articles.csv')\n",
    "wiki_feat_df.sample(5)"
   ]
  },
  {
   "cell_type": "code",
   "execution_count": 4,
   "metadata": {},
   "outputs": [],
   "source": [
    "corpus = wiki_feat_df['intro_text'].tolist()"
   ]
  },
  {
   "cell_type": "code",
   "execution_count": 5,
   "metadata": {},
   "outputs": [],
   "source": [
    "def get_tokens(text):\n",
    "    token_pattern = r\"\\b\\w\\w+\\\\?'?s?(?:-\\w+)?\\b\"\n",
    "    return re.findall(token_pattern, text.lower())"
   ]
  },
  {
   "cell_type": "code",
   "execution_count": 6,
   "metadata": {},
   "outputs": [],
   "source": [
    "from collections import Counter"
   ]
  },
  {
   "cell_type": "code",
   "execution_count": 7,
   "metadata": {},
   "outputs": [
    {
     "name": "stdout",
     "output_type": "stream",
     "text": [
      "vocabulary size: 72750\n"
     ]
    }
   ],
   "source": [
    "unigram_counts = Counter()\n",
    "for doc in corpus:\n",
    "    # your code here\n",
    "    tokens = get_tokens(doc)\n",
    "    for word in tokens:\n",
    "        unigram_counts[word] += 1\n",
    "vocab = {token: n for n, token in enumerate(pd.Series(unigram_counts).sort_values().index)}\n",
    "inv_vocab = {v: k for k, v in vocab.items()}\n",
    "print('vocabulary size: {}'.format(len(unigram_counts)))"
   ]
  },
  {
   "cell_type": "markdown",
   "metadata": {},
   "source": [
    "### Skip-grams are a generalization of n-grams: https://en.wikipedia.org/wiki/N-gram#Skip-gram\n",
    "### We will use this term here to find pairs of word within a context window, meaning that all words separated by max N words will be considered a bigram"
   ]
  },
  {
   "cell_type": "code",
   "execution_count": 8,
   "metadata": {},
   "outputs": [
    {
     "name": "stdout",
     "output_type": "stream",
     "text": [
      "number of skipgrams: 1981470\n",
      "most common:\n"
     ]
    },
    {
     "data": {
      "text/plain": [
       "[(('of', 'the'), 42125),\n",
       " (('the', 'of'), 23088),\n",
       " (('in', 'the'), 18020),\n",
       " (('the', 'in'), 17652),\n",
       " (('and', 'the'), 11390)]"
      ]
     },
     "execution_count": 8,
     "metadata": {},
     "output_type": "execute_result"
    }
   ],
   "source": [
    "# use skip-2-grams and context length 2 in each direction\n",
    "word_window_len = 2\n",
    "skipgram_counts = Counter()\n",
    "for doc in corpus:\n",
    "    tokens = get_tokens(doc)\n",
    "    for token_idx, token in enumerate(tokens):\n",
    "        for context_token in tokens[token_idx - word_window_len:token_idx + word_window_len]:\n",
    "            if token != context_token:\n",
    "                skipgram_counts[(vocab[token], vocab[context_token])] += 1\n",
    "print('number of skipgrams:', len(skipgram_counts))\n",
    "print('most common:')\n",
    "\n",
    "[((inv_vocab[t1], inv_vocab[t2]), v) for (t1, t2), v in skipgram_counts.most_common(5)]"
   ]
  },
  {
   "cell_type": "markdown",
   "metadata": {},
   "source": [
    "### Now let's create a sparse matrix that contains word-word co-occurrence counts"
   ]
  },
  {
   "cell_type": "code",
   "execution_count": 9,
   "metadata": {},
   "outputs": [],
   "source": [
    "from scipy import sparse as ssp\n",
    "\n",
    "row_indxs = []\n",
    "col_indxs = []\n",
    "dat_values = []\n",
    "\n",
    "\n",
    "# your code here\n",
    "row_indxs = [t1 for (t1, t2), v in skipgram_counts.items()]\n",
    "col_indxs = [t2 for (t1, t2), v in skipgram_counts.items()]\n",
    "dat_values = [v for (t1, t2), v in skipgram_counts.items()]"
   ]
  },
  {
   "cell_type": "code",
   "execution_count": 10,
   "metadata": {
    "scrolled": true
   },
   "outputs": [
    {
     "data": {
      "text/plain": [
       "<72750x72750 sparse matrix of type '<class 'numpy.int32'>'\n",
       "\twith 1981470 stored elements in Compressed Sparse Row format>"
      ]
     },
     "execution_count": 10,
     "metadata": {},
     "output_type": "execute_result"
    }
   ],
   "source": [
    "wwcnt_mat = ssp.csr_matrix((dat_values, (row_indxs, col_indxs)))\n",
    "wwcnt_mat"
   ]
  },
  {
   "cell_type": "markdown",
   "metadata": {},
   "source": [
    "### Next, create the PPMI matrix"
   ]
  },
  {
   "cell_type": "code",
   "execution_count": 11,
   "metadata": {},
   "outputs": [
    {
     "data": {
      "text/plain": [
       "<72750x72750 sparse matrix of type '<class 'numpy.float64'>'\n",
       "\twith 1981470 stored elements in Compressed Sparse Row format>"
      ]
     },
     "execution_count": 11,
     "metadata": {},
     "output_type": "execute_result"
    }
   ],
   "source": [
    "# reusable quantities\n",
    "num_skipgrams = wwcnt_mat.sum()\n",
    "sum_over_words = np.array(wwcnt_mat.sum(axis=0)).flatten()\n",
    "sum_over_contexts = np.array(wwcnt_mat.sum(axis=1)).flatten()\n",
    "\n",
    "ppmi_dat_values = []   # positive pointwise mutial information\n",
    "row_indxs = []  # for creating sparce matrices\n",
    "col_indxs = []  # for creating sparce matrices\n",
    "for (tok_word, tok_context), sg_count in skipgram_counts.items():\n",
    "\n",
    "    nwc = sg_count\n",
    "    Pwc = nwc / num_skipgrams\n",
    "    nw = sum_over_words[tok_word]\n",
    "    Pw = nw / num_skipgrams\n",
    "    nc = sum_over_words[tok_context]\n",
    "    Pc = nc / num_skipgrams\n",
    "    \n",
    "    pmi = np.log2(Pwc / (Pw * Pc))   \n",
    "    ppmi = max(pmi, 0)\n",
    "    \n",
    "    row_indxs.append(tok_word)\n",
    "    col_indxs.append(tok_context)\n",
    "    ppmi_dat_values.append(ppmi)\n",
    "\n",
    "ppmi_mat = ssp.csr_matrix((ppmi_dat_values, (row_indxs, col_indxs)))\n",
    "ppmi_mat"
   ]
  },
  {
   "cell_type": "markdown",
   "metadata": {},
   "source": [
    "## Use `ppmi_mat` to investigate the most similar values to a few test terms."
   ]
  },
  {
   "cell_type": "code",
   "execution_count": 12,
   "metadata": {},
   "outputs": [],
   "source": [
    "# to speed up calculation we do dimentionality reduction here\n",
    "from sklearn.metrics.pairwise import cosine_similarity\n",
    "from sklearn.decomposition import TruncatedSVD\n"
   ]
  },
  {
   "cell_type": "code",
   "execution_count": 13,
   "metadata": {},
   "outputs": [
    {
     "ename": "MemoryError",
     "evalue": "",
     "output_type": "error",
     "traceback": [
      "\u001b[1;31m---------------------------------------------------------------------------\u001b[0m",
      "\u001b[1;31mMemoryError\u001b[0m                               Traceback (most recent call last)",
      "\u001b[1;32m<ipython-input-13-ee085d7ec113>\u001b[0m in \u001b[0;36m<module>\u001b[1;34m\u001b[0m\n\u001b[0;32m      1\u001b[0m \u001b[0msvd\u001b[0m \u001b[1;33m=\u001b[0m \u001b[0mTruncatedSVD\u001b[0m\u001b[1;33m(\u001b[0m\u001b[0mn_components\u001b[0m\u001b[1;33m=\u001b[0m\u001b[1;36m64\u001b[0m\u001b[1;33m,\u001b[0m \u001b[0mrandom_state\u001b[0m\u001b[1;33m=\u001b[0m\u001b[1;36m6006\u001b[0m\u001b[1;33m)\u001b[0m\u001b[1;33m\u001b[0m\u001b[1;33m\u001b[0m\u001b[0m\n\u001b[0;32m      2\u001b[0m \u001b[0mtrafo_ppmi_mat\u001b[0m \u001b[1;33m=\u001b[0m \u001b[0msvd\u001b[0m\u001b[1;33m.\u001b[0m\u001b[0mfit_transform\u001b[0m\u001b[1;33m(\u001b[0m\u001b[0mppmi_mat\u001b[0m\u001b[1;33m)\u001b[0m\u001b[1;33m\u001b[0m\u001b[1;33m\u001b[0m\u001b[0m\n\u001b[1;32m----> 3\u001b[1;33m \u001b[0msim_mat\u001b[0m \u001b[1;33m=\u001b[0m \u001b[0mcosine_similarity\u001b[0m\u001b[1;33m(\u001b[0m\u001b[0mtrafo_ppmi_mat\u001b[0m\u001b[1;33m)\u001b[0m\u001b[1;33m\u001b[0m\u001b[1;33m\u001b[0m\u001b[0m\n\u001b[0m",
      "\u001b[1;32m~\\Anaconda3\\lib\\site-packages\\sklearn\\metrics\\pairwise.py\u001b[0m in \u001b[0;36mcosine_similarity\u001b[1;34m(X, Y, dense_output)\u001b[0m\n\u001b[0;32m   1034\u001b[0m \u001b[1;33m\u001b[0m\u001b[0m\n\u001b[0;32m   1035\u001b[0m     K = safe_sparse_dot(X_normalized, Y_normalized.T,\n\u001b[1;32m-> 1036\u001b[1;33m                         dense_output=dense_output)\n\u001b[0m\u001b[0;32m   1037\u001b[0m \u001b[1;33m\u001b[0m\u001b[0m\n\u001b[0;32m   1038\u001b[0m     \u001b[1;32mreturn\u001b[0m \u001b[0mK\u001b[0m\u001b[1;33m\u001b[0m\u001b[1;33m\u001b[0m\u001b[0m\n",
      "\u001b[1;32m~\\Anaconda3\\lib\\site-packages\\sklearn\\utils\\extmath.py\u001b[0m in \u001b[0;36msafe_sparse_dot\u001b[1;34m(a, b, dense_output)\u001b[0m\n\u001b[0;32m    140\u001b[0m         \u001b[1;32mreturn\u001b[0m \u001b[0mret\u001b[0m\u001b[1;33m\u001b[0m\u001b[1;33m\u001b[0m\u001b[0m\n\u001b[0;32m    141\u001b[0m     \u001b[1;32melse\u001b[0m\u001b[1;33m:\u001b[0m\u001b[1;33m\u001b[0m\u001b[1;33m\u001b[0m\u001b[0m\n\u001b[1;32m--> 142\u001b[1;33m         \u001b[1;32mreturn\u001b[0m \u001b[0mnp\u001b[0m\u001b[1;33m.\u001b[0m\u001b[0mdot\u001b[0m\u001b[1;33m(\u001b[0m\u001b[0ma\u001b[0m\u001b[1;33m,\u001b[0m \u001b[0mb\u001b[0m\u001b[1;33m)\u001b[0m\u001b[1;33m\u001b[0m\u001b[1;33m\u001b[0m\u001b[0m\n\u001b[0m\u001b[0;32m    143\u001b[0m \u001b[1;33m\u001b[0m\u001b[0m\n\u001b[0;32m    144\u001b[0m \u001b[1;33m\u001b[0m\u001b[0m\n",
      "\u001b[1;31mMemoryError\u001b[0m: "
     ]
    }
   ],
   "source": [
    "svd = TruncatedSVD(n_components=64, random_state=6006)\n",
    "trafo_ppmi_mat = svd.fit_transform(ppmi_mat)\n",
    "sim_mat = cosine_similarity(trafo_ppmi_mat)"
   ]
  },
  {
   "cell_type": "code",
   "execution_count": null,
   "metadata": {},
   "outputs": [],
   "source": [
    "token = 'eminem'\n",
    "# print most similar terms\n",
    "word_idx = vocab[token]\n",
    "for idx, row in pd.Series(sim_mat[word_idx]).sort_values(ascending=False).head(10).iteritems():\n",
    "    print('%.3f' % row, inv_vocab[idx])"
   ]
  },
  {
   "cell_type": "code",
   "execution_count": null,
   "metadata": {},
   "outputs": [],
   "source": [
    "token = 'quantum'\n",
    "# print most similar terms\n",
    "word_idx = vocab[token]\n",
    "for idx, row in pd.Series(sim_mat[word_idx]).sort_values(ascending=False).head(10).iteritems():\n",
    "    print('%.3f' % row, inv_vocab[idx])"
   ]
  },
  {
   "cell_type": "markdown",
   "metadata": {},
   "source": [
    "## In what way do these embeddings differ the TfIdf based ones we covered in class? Can you think of advantages/disadvantages for each approach?"
   ]
  },
  {
   "cell_type": "code",
   "execution_count": 14,
   "metadata": {},
   "outputs": [
    {
     "name": "stdout",
     "output_type": "stream",
     "text": [
      "The difference between these embeddings and TfIdf is that these embeddings find similar terms by cosine similarity, while TfIdf based ones do that by word counting. The advantage of cosine similarity is that it can find out the relationship among different words, which is the disadvantage of TfIdf based ones since they focus on word counting. The disadvantage of these embeddings is that it requires huge amount and types of data/words to calculate the relationship, while TfIdf based ones do not need.\n"
     ]
    }
   ],
   "source": [
    "# Your answer here!\n",
    "print('The difference between these embeddings and TfIdf is that these embeddings find similar terms by cosine similarity, while TfIdf based ones do that by word counting. The advantage of cosine similarity is that it can find out the relationship among different words, which is the disadvantage of TfIdf based ones since they focus on word counting. The disadvantage of these embeddings is that it requires huge amount and types of data/words to calculate the relationship, while TfIdf based ones do not need.')"
   ]
  },
  {
   "cell_type": "code",
   "execution_count": null,
   "metadata": {},
   "outputs": [],
   "source": []
  },
  {
   "cell_type": "markdown",
   "metadata": {},
   "source": [
    "# Problem 4: Corporate Similarity and Returns\n",
    "### In this example we'll explore how to use NLP to measure corporate similarity\n",
    "\n",
    "### In particular we will\n",
    " - ### Make word vectors for firms in order to get an NLP measure of similarity\n",
    " - ### Measure the quality of this similarity metric by predicting future co-movement of returns. \n",
    " \n",
    "## Step X: This problem uses a few concepts of basic modeling such as `sklearn.model_selection.train_test_split` and `sklearn.linear_model.LinearRegression`\n",
    "## Feel free to read some of the sklearn documentation, but otherwise we will cover these concepts next class\n",
    " \n",
    "\n",
    "# $ \\\\ $\n",
    "## Step 0: Load the MD&A section from Form-10-K from 2016"
   ]
  },
  {
   "cell_type": "code",
   "execution_count": 66,
   "metadata": {},
   "outputs": [],
   "source": [
    "with open('parsed_mda.json') as f:\n",
    "    data = json.load(f)"
   ]
  },
  {
   "cell_type": "markdown",
   "metadata": {},
   "source": [
    "### Next, take only the first filing for each company"
   ]
  },
  {
   "cell_type": "code",
   "execution_count": 67,
   "metadata": {},
   "outputs": [],
   "source": [
    "clean = []\n",
    "seen = set()\n",
    "for item in data:\n",
    "    if item['ticker'] in seen:\n",
    "        continue\n",
    "    else:\n",
    "        seen.add(item['ticker'])\n",
    "        clean.append(item)\n",
    "data = clean\n",
    "del clean"
   ]
  },
  {
   "cell_type": "markdown",
   "metadata": {},
   "source": [
    "### Now load the price data for 2015-2018"
   ]
  },
  {
   "cell_type": "code",
   "execution_count": 68,
   "metadata": {},
   "outputs": [],
   "source": [
    "prices = pd.read_csv(\n",
    "    'sp500_prices.csv', \n",
    "    index_col=0, \n",
    "    parse_dates=True\n",
    ").loc['2015-01-01':'2018-01-01']"
   ]
  },
  {
   "cell_type": "code",
   "execution_count": 69,
   "metadata": {},
   "outputs": [
    {
     "data": {
      "text/html": [
       "<div>\n",
       "<style scoped>\n",
       "    .dataframe tbody tr th:only-of-type {\n",
       "        vertical-align: middle;\n",
       "    }\n",
       "\n",
       "    .dataframe tbody tr th {\n",
       "        vertical-align: top;\n",
       "    }\n",
       "\n",
       "    .dataframe thead th {\n",
       "        text-align: right;\n",
       "    }\n",
       "</style>\n",
       "<table border=\"1\" class=\"dataframe\">\n",
       "  <thead>\n",
       "    <tr style=\"text-align: right;\">\n",
       "      <th></th>\n",
       "      <th>MMM</th>\n",
       "      <th>ABT</th>\n",
       "      <th>ABBV</th>\n",
       "      <th>ABMD</th>\n",
       "      <th>ACN</th>\n",
       "      <th>ATVI</th>\n",
       "      <th>ADBE</th>\n",
       "      <th>AMD</th>\n",
       "      <th>AAP</th>\n",
       "      <th>AES</th>\n",
       "      <th>...</th>\n",
       "      <th>WLTW</th>\n",
       "      <th>WYNN</th>\n",
       "      <th>XEL</th>\n",
       "      <th>XRX</th>\n",
       "      <th>XLNX</th>\n",
       "      <th>XYL</th>\n",
       "      <th>YUM</th>\n",
       "      <th>ZBH</th>\n",
       "      <th>ZION</th>\n",
       "      <th>ZTS</th>\n",
       "    </tr>\n",
       "    <tr>\n",
       "      <th>Date</th>\n",
       "      <th></th>\n",
       "      <th></th>\n",
       "      <th></th>\n",
       "      <th></th>\n",
       "      <th></th>\n",
       "      <th></th>\n",
       "      <th></th>\n",
       "      <th></th>\n",
       "      <th></th>\n",
       "      <th></th>\n",
       "      <th></th>\n",
       "      <th></th>\n",
       "      <th></th>\n",
       "      <th></th>\n",
       "      <th></th>\n",
       "      <th></th>\n",
       "      <th></th>\n",
       "      <th></th>\n",
       "      <th></th>\n",
       "      <th></th>\n",
       "      <th></th>\n",
       "    </tr>\n",
       "  </thead>\n",
       "  <tbody>\n",
       "    <tr>\n",
       "      <td>2015-01-02</td>\n",
       "      <td>152.857296</td>\n",
       "      <td>41.911850</td>\n",
       "      <td>59.166809</td>\n",
       "      <td>37.31</td>\n",
       "      <td>83.567918</td>\n",
       "      <td>19.647773</td>\n",
       "      <td>72.340</td>\n",
       "      <td>2.69</td>\n",
       "      <td>157.835250</td>\n",
       "      <td>12.207402</td>\n",
       "      <td>...</td>\n",
       "      <td>NaN</td>\n",
       "      <td>137.601094</td>\n",
       "      <td>32.876454</td>\n",
       "      <td>51.006224</td>\n",
       "      <td>40.568729</td>\n",
       "      <td>36.487373</td>\n",
       "      <td>48.740797</td>\n",
       "      <td>110.052964</td>\n",
       "      <td>27.623683</td>\n",
       "      <td>42.403000</td>\n",
       "    </tr>\n",
       "    <tr>\n",
       "      <td>2015-01-05</td>\n",
       "      <td>149.409947</td>\n",
       "      <td>41.921185</td>\n",
       "      <td>58.053335</td>\n",
       "      <td>37.07</td>\n",
       "      <td>82.156933</td>\n",
       "      <td>19.374481</td>\n",
       "      <td>71.980</td>\n",
       "      <td>2.66</td>\n",
       "      <td>155.754803</td>\n",
       "      <td>11.859892</td>\n",
       "      <td>...</td>\n",
       "      <td>NaN</td>\n",
       "      <td>135.259187</td>\n",
       "      <td>32.503272</td>\n",
       "      <td>49.893361</td>\n",
       "      <td>39.819696</td>\n",
       "      <td>34.216494</td>\n",
       "      <td>47.750487</td>\n",
       "      <td>114.158329</td>\n",
       "      <td>26.588649</td>\n",
       "      <td>42.148444</td>\n",
       "    </tr>\n",
       "    <tr>\n",
       "      <td>2015-01-06</td>\n",
       "      <td>147.816713</td>\n",
       "      <td>41.445126</td>\n",
       "      <td>57.765986</td>\n",
       "      <td>36.13</td>\n",
       "      <td>81.564320</td>\n",
       "      <td>19.013344</td>\n",
       "      <td>70.530</td>\n",
       "      <td>2.63</td>\n",
       "      <td>155.645306</td>\n",
       "      <td>11.592576</td>\n",
       "      <td>...</td>\n",
       "      <td>NaN</td>\n",
       "      <td>132.373957</td>\n",
       "      <td>32.676210</td>\n",
       "      <td>49.225643</td>\n",
       "      <td>39.247454</td>\n",
       "      <td>34.015277</td>\n",
       "      <td>47.164385</td>\n",
       "      <td>113.190639</td>\n",
       "      <td>25.573145</td>\n",
       "      <td>41.737240</td>\n",
       "    </tr>\n",
       "    <tr>\n",
       "      <td>2015-01-07</td>\n",
       "      <td>148.888186</td>\n",
       "      <td>41.781167</td>\n",
       "      <td>60.100691</td>\n",
       "      <td>37.28</td>\n",
       "      <td>83.276314</td>\n",
       "      <td>18.598525</td>\n",
       "      <td>71.110</td>\n",
       "      <td>2.58</td>\n",
       "      <td>158.989948</td>\n",
       "      <td>11.610397</td>\n",
       "      <td>...</td>\n",
       "      <td>NaN</td>\n",
       "      <td>136.261523</td>\n",
       "      <td>32.958372</td>\n",
       "      <td>49.856265</td>\n",
       "      <td>39.261411</td>\n",
       "      <td>34.283567</td>\n",
       "      <td>48.727324</td>\n",
       "      <td>116.005740</td>\n",
       "      <td>25.812374</td>\n",
       "      <td>42.598811</td>\n",
       "    </tr>\n",
       "    <tr>\n",
       "      <td>2015-01-08</td>\n",
       "      <td>152.456658</td>\n",
       "      <td>42.639940</td>\n",
       "      <td>60.729266</td>\n",
       "      <td>38.96</td>\n",
       "      <td>84.546201</td>\n",
       "      <td>18.788854</td>\n",
       "      <td>72.915</td>\n",
       "      <td>2.61</td>\n",
       "      <td>160.383549</td>\n",
       "      <td>11.788608</td>\n",
       "      <td>...</td>\n",
       "      <td>NaN</td>\n",
       "      <td>137.900858</td>\n",
       "      <td>33.340656</td>\n",
       "      <td>51.228796</td>\n",
       "      <td>40.136058</td>\n",
       "      <td>34.542275</td>\n",
       "      <td>49.576161</td>\n",
       "      <td>117.237350</td>\n",
       "      <td>26.178542</td>\n",
       "      <td>43.254780</td>\n",
       "    </tr>\n",
       "  </tbody>\n",
       "</table>\n",
       "<p>5 rows × 494 columns</p>\n",
       "</div>"
      ],
      "text/plain": [
       "                   MMM        ABT       ABBV   ABMD        ACN       ATVI  \\\n",
       "Date                                                                        \n",
       "2015-01-02  152.857296  41.911850  59.166809  37.31  83.567918  19.647773   \n",
       "2015-01-05  149.409947  41.921185  58.053335  37.07  82.156933  19.374481   \n",
       "2015-01-06  147.816713  41.445126  57.765986  36.13  81.564320  19.013344   \n",
       "2015-01-07  148.888186  41.781167  60.100691  37.28  83.276314  18.598525   \n",
       "2015-01-08  152.456658  42.639940  60.729266  38.96  84.546201  18.788854   \n",
       "\n",
       "              ADBE   AMD         AAP        AES  ...  WLTW        WYNN  \\\n",
       "Date                                             ...                     \n",
       "2015-01-02  72.340  2.69  157.835250  12.207402  ...   NaN  137.601094   \n",
       "2015-01-05  71.980  2.66  155.754803  11.859892  ...   NaN  135.259187   \n",
       "2015-01-06  70.530  2.63  155.645306  11.592576  ...   NaN  132.373957   \n",
       "2015-01-07  71.110  2.58  158.989948  11.610397  ...   NaN  136.261523   \n",
       "2015-01-08  72.915  2.61  160.383549  11.788608  ...   NaN  137.900858   \n",
       "\n",
       "                  XEL        XRX       XLNX        XYL        YUM         ZBH  \\\n",
       "Date                                                                            \n",
       "2015-01-02  32.876454  51.006224  40.568729  36.487373  48.740797  110.052964   \n",
       "2015-01-05  32.503272  49.893361  39.819696  34.216494  47.750487  114.158329   \n",
       "2015-01-06  32.676210  49.225643  39.247454  34.015277  47.164385  113.190639   \n",
       "2015-01-07  32.958372  49.856265  39.261411  34.283567  48.727324  116.005740   \n",
       "2015-01-08  33.340656  51.228796  40.136058  34.542275  49.576161  117.237350   \n",
       "\n",
       "                 ZION        ZTS  \n",
       "Date                              \n",
       "2015-01-02  27.623683  42.403000  \n",
       "2015-01-05  26.588649  42.148444  \n",
       "2015-01-06  25.573145  41.737240  \n",
       "2015-01-07  25.812374  42.598811  \n",
       "2015-01-08  26.178542  43.254780  \n",
       "\n",
       "[5 rows x 494 columns]"
      ]
     },
     "execution_count": 69,
     "metadata": {},
     "output_type": "execute_result"
    }
   ],
   "source": [
    "prices.head()"
   ]
  },
  {
   "cell_type": "code",
   "execution_count": 70,
   "metadata": {},
   "outputs": [],
   "source": [
    "data_tickers = [item['ticker'] for item in data]\n",
    "assert len(data_tickers) == len(set(data_tickers)), 'non-unique tickers, this will not work'"
   ]
  },
  {
   "cell_type": "markdown",
   "metadata": {},
   "source": [
    "## Step 1: clean the text\n",
    "### Much of NLP boils down to doing reasonable processing on text.\n",
    "### First, we'll try out very minimial processing"
   ]
  },
  {
   "cell_type": "code",
   "execution_count": 71,
   "metadata": {},
   "outputs": [],
   "source": [
    "def clean_mda_simple(mda):\n",
    "    return mda.lower()"
   ]
  },
  {
   "cell_type": "code",
   "execution_count": 72,
   "metadata": {},
   "outputs": [],
   "source": [
    "# add import here\n",
    "from sklearn.metrics.pairwise import cosine_similarity\n",
    "from sklearn.feature_extraction.text import CountVectorizer"
   ]
  },
  {
   "cell_type": "code",
   "execution_count": 73,
   "metadata": {},
   "outputs": [],
   "source": [
    "vectorizer = CountVectorizer()\n",
    "word_lower = []\n",
    "for item in data:\n",
    "    word_lower.append(clean_mda_simple(item['mda']))\n",
    "word_vecs = vectorizer.fit_transform(word_lower)\n",
    "vocab = {token: n for n, token in enumerate(pd.Series(vectorizer.vocabulary_).sort_values().index)}\n",
    "inv_vocab = {v: k for k, v in vocab.items()}"
   ]
  },
  {
   "cell_type": "markdown",
   "metadata": {},
   "source": [
    "## Step 2: Pairwise Word similarity\n",
    "### Calculate the pariwise cosine similarity between word vectors\n",
    "### Make the cosine similarities into a dataframe indexed/columned on ticker symbols"
   ]
  },
  {
   "cell_type": "code",
   "execution_count": 74,
   "metadata": {},
   "outputs": [],
   "source": [
    "word_sims = cosine_similarity(word_vecs)"
   ]
  },
  {
   "cell_type": "code",
   "execution_count": 75,
   "metadata": {},
   "outputs": [],
   "source": [
    "df = pd.DataFrame(word_sims, index = data_tickers, columns = data_tickers)"
   ]
  },
  {
   "cell_type": "code",
   "execution_count": 76,
   "metadata": {},
   "outputs": [
    {
     "data": {
      "text/html": [
       "<div>\n",
       "<style scoped>\n",
       "    .dataframe tbody tr th:only-of-type {\n",
       "        vertical-align: middle;\n",
       "    }\n",
       "\n",
       "    .dataframe tbody tr th {\n",
       "        vertical-align: top;\n",
       "    }\n",
       "\n",
       "    .dataframe thead th {\n",
       "        text-align: right;\n",
       "    }\n",
       "</style>\n",
       "<table border=\"1\" class=\"dataframe\">\n",
       "  <thead>\n",
       "    <tr style=\"text-align: right;\">\n",
       "      <th></th>\n",
       "      <th>ADBE</th>\n",
       "      <th>AAP</th>\n",
       "      <th>AMD</th>\n",
       "      <th>AES</th>\n",
       "      <th>AMG</th>\n",
       "      <th>AFL</th>\n",
       "      <th>AIV</th>\n",
       "      <th>AKAM</th>\n",
       "      <th>SO</th>\n",
       "      <th>ALK</th>\n",
       "      <th>...</th>\n",
       "      <th>JCI</th>\n",
       "      <th>MU</th>\n",
       "      <th>RJF</th>\n",
       "      <th>ROK</th>\n",
       "      <th>SWKS</th>\n",
       "      <th>SBUX</th>\n",
       "      <th>SNPS</th>\n",
       "      <th>TSN</th>\n",
       "      <th>TDG</th>\n",
       "      <th>VIAB</th>\n",
       "    </tr>\n",
       "  </thead>\n",
       "  <tbody>\n",
       "    <tr>\n",
       "      <td>ADBE</td>\n",
       "      <td>1.000000</td>\n",
       "      <td>0.919373</td>\n",
       "      <td>0.918374</td>\n",
       "      <td>0.867142</td>\n",
       "      <td>0.867563</td>\n",
       "      <td>0.880981</td>\n",
       "      <td>0.877659</td>\n",
       "      <td>0.938738</td>\n",
       "      <td>0.0</td>\n",
       "      <td>0.893183</td>\n",
       "      <td>...</td>\n",
       "      <td>0.832302</td>\n",
       "      <td>0.905662</td>\n",
       "      <td>0.875531</td>\n",
       "      <td>0.887068</td>\n",
       "      <td>0.936977</td>\n",
       "      <td>0.873493</td>\n",
       "      <td>0.950022</td>\n",
       "      <td>0.920298</td>\n",
       "      <td>0.852041</td>\n",
       "      <td>0.884839</td>\n",
       "    </tr>\n",
       "    <tr>\n",
       "      <td>AAP</td>\n",
       "      <td>0.919373</td>\n",
       "      <td>1.000000</td>\n",
       "      <td>0.946086</td>\n",
       "      <td>0.905947</td>\n",
       "      <td>0.895632</td>\n",
       "      <td>0.916336</td>\n",
       "      <td>0.912843</td>\n",
       "      <td>0.943285</td>\n",
       "      <td>0.0</td>\n",
       "      <td>0.911751</td>\n",
       "      <td>...</td>\n",
       "      <td>0.871063</td>\n",
       "      <td>0.943673</td>\n",
       "      <td>0.913981</td>\n",
       "      <td>0.923592</td>\n",
       "      <td>0.921975</td>\n",
       "      <td>0.904917</td>\n",
       "      <td>0.926982</td>\n",
       "      <td>0.942927</td>\n",
       "      <td>0.898032</td>\n",
       "      <td>0.922768</td>\n",
       "    </tr>\n",
       "    <tr>\n",
       "      <td>AMD</td>\n",
       "      <td>0.918374</td>\n",
       "      <td>0.946086</td>\n",
       "      <td>1.000000</td>\n",
       "      <td>0.922994</td>\n",
       "      <td>0.908136</td>\n",
       "      <td>0.907567</td>\n",
       "      <td>0.906314</td>\n",
       "      <td>0.929189</td>\n",
       "      <td>0.0</td>\n",
       "      <td>0.927133</td>\n",
       "      <td>...</td>\n",
       "      <td>0.882126</td>\n",
       "      <td>0.932985</td>\n",
       "      <td>0.904359</td>\n",
       "      <td>0.898625</td>\n",
       "      <td>0.926256</td>\n",
       "      <td>0.885955</td>\n",
       "      <td>0.924474</td>\n",
       "      <td>0.943245</td>\n",
       "      <td>0.887473</td>\n",
       "      <td>0.916984</td>\n",
       "    </tr>\n",
       "    <tr>\n",
       "      <td>AES</td>\n",
       "      <td>0.867142</td>\n",
       "      <td>0.905947</td>\n",
       "      <td>0.922994</td>\n",
       "      <td>1.000000</td>\n",
       "      <td>0.876463</td>\n",
       "      <td>0.908254</td>\n",
       "      <td>0.901906</td>\n",
       "      <td>0.908670</td>\n",
       "      <td>0.0</td>\n",
       "      <td>0.908768</td>\n",
       "      <td>...</td>\n",
       "      <td>0.915712</td>\n",
       "      <td>0.908622</td>\n",
       "      <td>0.913063</td>\n",
       "      <td>0.878228</td>\n",
       "      <td>0.888201</td>\n",
       "      <td>0.870428</td>\n",
       "      <td>0.888656</td>\n",
       "      <td>0.910719</td>\n",
       "      <td>0.895787</td>\n",
       "      <td>0.898210</td>\n",
       "    </tr>\n",
       "    <tr>\n",
       "      <td>AMG</td>\n",
       "      <td>0.867563</td>\n",
       "      <td>0.895632</td>\n",
       "      <td>0.908136</td>\n",
       "      <td>0.876463</td>\n",
       "      <td>1.000000</td>\n",
       "      <td>0.871050</td>\n",
       "      <td>0.869783</td>\n",
       "      <td>0.893722</td>\n",
       "      <td>0.0</td>\n",
       "      <td>0.898257</td>\n",
       "      <td>...</td>\n",
       "      <td>0.808114</td>\n",
       "      <td>0.872916</td>\n",
       "      <td>0.898773</td>\n",
       "      <td>0.865362</td>\n",
       "      <td>0.867588</td>\n",
       "      <td>0.840331</td>\n",
       "      <td>0.882624</td>\n",
       "      <td>0.896644</td>\n",
       "      <td>0.814938</td>\n",
       "      <td>0.864113</td>\n",
       "    </tr>\n",
       "  </tbody>\n",
       "</table>\n",
       "<p>5 rows × 323 columns</p>\n",
       "</div>"
      ],
      "text/plain": [
       "          ADBE       AAP       AMD       AES       AMG       AFL       AIV  \\\n",
       "ADBE  1.000000  0.919373  0.918374  0.867142  0.867563  0.880981  0.877659   \n",
       "AAP   0.919373  1.000000  0.946086  0.905947  0.895632  0.916336  0.912843   \n",
       "AMD   0.918374  0.946086  1.000000  0.922994  0.908136  0.907567  0.906314   \n",
       "AES   0.867142  0.905947  0.922994  1.000000  0.876463  0.908254  0.901906   \n",
       "AMG   0.867563  0.895632  0.908136  0.876463  1.000000  0.871050  0.869783   \n",
       "\n",
       "          AKAM   SO       ALK  ...       JCI        MU       RJF       ROK  \\\n",
       "ADBE  0.938738  0.0  0.893183  ...  0.832302  0.905662  0.875531  0.887068   \n",
       "AAP   0.943285  0.0  0.911751  ...  0.871063  0.943673  0.913981  0.923592   \n",
       "AMD   0.929189  0.0  0.927133  ...  0.882126  0.932985  0.904359  0.898625   \n",
       "AES   0.908670  0.0  0.908768  ...  0.915712  0.908622  0.913063  0.878228   \n",
       "AMG   0.893722  0.0  0.898257  ...  0.808114  0.872916  0.898773  0.865362   \n",
       "\n",
       "          SWKS      SBUX      SNPS       TSN       TDG      VIAB  \n",
       "ADBE  0.936977  0.873493  0.950022  0.920298  0.852041  0.884839  \n",
       "AAP   0.921975  0.904917  0.926982  0.942927  0.898032  0.922768  \n",
       "AMD   0.926256  0.885955  0.924474  0.943245  0.887473  0.916984  \n",
       "AES   0.888201  0.870428  0.888656  0.910719  0.895787  0.898210  \n",
       "AMG   0.867588  0.840331  0.882624  0.896644  0.814938  0.864113  \n",
       "\n",
       "[5 rows x 323 columns]"
      ]
     },
     "execution_count": 76,
     "metadata": {},
     "output_type": "execute_result"
    }
   ],
   "source": [
    "df.head()"
   ]
  },
  {
   "cell_type": "markdown",
   "metadata": {},
   "source": [
    "## Step 2a: Why `cosine_similarity` and not another measure?"
   ]
  },
  {
   "cell_type": "code",
   "execution_count": 77,
   "metadata": {},
   "outputs": [
    {
     "name": "stdout",
     "output_type": "stream",
     "text": [
      "cosine_similarity produces results with absolute value equal or smaller than 1, which are easy to understand and compare.\n"
     ]
    }
   ],
   "source": [
    "# ANSWER GOES HERE\n",
    "print(\"cosine_similarity produces results with absolute value equal or smaller than 1, which are easy to understand and compare.\")"
   ]
  },
  {
   "cell_type": "markdown",
   "metadata": {},
   "source": [
    "## Step 3: Wrangle the price and word data\n",
    "### Our goal here is to have a dataframe which is indexed on PAIRS of tickers and has columns\n",
    " - ### `returns_correlation`: the correlation of returns for those two tickers from Jan 1 2016 to Jan 1 2017\n",
    " - ### `word_similarity`: the cosine similarity of the word vectors for the two companies' MD&A sections\n",
    " \n",
    "## Tips\n",
    " - ### NB: use pct_change to calculate returns in pandas\n",
    " - ### NB: use the pandas builtin corr function to calculate correlations (we don't need anything fancy)\n",
    " - ### NB: the index of the dataframe should have two columns (the tickers)"
   ]
  },
  {
   "cell_type": "code",
   "execution_count": 78,
   "metadata": {},
   "outputs": [
    {
     "data": {
      "text/html": [
       "<div>\n",
       "<style scoped>\n",
       "    .dataframe tbody tr th:only-of-type {\n",
       "        vertical-align: middle;\n",
       "    }\n",
       "\n",
       "    .dataframe tbody tr th {\n",
       "        vertical-align: top;\n",
       "    }\n",
       "\n",
       "    .dataframe thead th {\n",
       "        text-align: right;\n",
       "    }\n",
       "</style>\n",
       "<table border=\"1\" class=\"dataframe\">\n",
       "  <thead>\n",
       "    <tr style=\"text-align: right;\">\n",
       "      <th></th>\n",
       "      <th></th>\n",
       "      <th>returns_correlation</th>\n",
       "      <th>word_similarity</th>\n",
       "    </tr>\n",
       "  </thead>\n",
       "  <tbody>\n",
       "    <tr>\n",
       "      <td rowspan=\"5\" valign=\"top\">ACN</td>\n",
       "      <td>ACN</td>\n",
       "      <td>1.000000</td>\n",
       "      <td>1.000000</td>\n",
       "    </tr>\n",
       "    <tr>\n",
       "      <td>ADBE</td>\n",
       "      <td>0.555422</td>\n",
       "      <td>0.916491</td>\n",
       "    </tr>\n",
       "    <tr>\n",
       "      <td>AMD</td>\n",
       "      <td>0.215997</td>\n",
       "      <td>0.889912</td>\n",
       "    </tr>\n",
       "    <tr>\n",
       "      <td>AAP</td>\n",
       "      <td>0.231908</td>\n",
       "      <td>0.901718</td>\n",
       "    </tr>\n",
       "    <tr>\n",
       "      <td>AES</td>\n",
       "      <td>0.351658</td>\n",
       "      <td>0.871632</td>\n",
       "    </tr>\n",
       "  </tbody>\n",
       "</table>\n",
       "</div>"
      ],
      "text/plain": [
       "          returns_correlation  word_similarity\n",
       "ACN ACN              1.000000         1.000000\n",
       "    ADBE             0.555422         0.916491\n",
       "    AMD              0.215997         0.889912\n",
       "    AAP              0.231908         0.901718\n",
       "    AES              0.351658         0.871632"
      ]
     },
     "execution_count": 78,
     "metadata": {},
     "output_type": "execute_result"
    }
   ],
   "source": [
    "# one way you might do this is\n",
    "rets = prices.pct_change()\n",
    "rets = rets.loc['2016-01-01':'2017-01-01']\n",
    "rets_cor = rets.corr().stack().to_frame(name = 'returns_correlation') # calculate returns correlations\n",
    "word_cor = df.stack()#  calcuate the word similarities in the right shape\n",
    "word_cor.name = 'word_similarity'\n",
    "all_data = rets_cor.join(word_cor)\n",
    "all_data = all_data.dropna()\n",
    "all_data.head()"
   ]
  },
  {
   "cell_type": "markdown",
   "metadata": {},
   "source": [
    "## Step 3a: \n",
    " - ### What is the contemperaneous correlation of these data?\n",
    " - ### Make a scatter plot of the returns correlation and word similarities"
   ]
  },
  {
   "cell_type": "code",
   "execution_count": 79,
   "metadata": {},
   "outputs": [
    {
     "data": {
      "text/html": [
       "<div>\n",
       "<style scoped>\n",
       "    .dataframe tbody tr th:only-of-type {\n",
       "        vertical-align: middle;\n",
       "    }\n",
       "\n",
       "    .dataframe tbody tr th {\n",
       "        vertical-align: top;\n",
       "    }\n",
       "\n",
       "    .dataframe thead th {\n",
       "        text-align: right;\n",
       "    }\n",
       "</style>\n",
       "<table border=\"1\" class=\"dataframe\">\n",
       "  <thead>\n",
       "    <tr style=\"text-align: right;\">\n",
       "      <th></th>\n",
       "      <th>returns_correlation</th>\n",
       "      <th>word_similarity</th>\n",
       "    </tr>\n",
       "  </thead>\n",
       "  <tbody>\n",
       "    <tr>\n",
       "      <td>returns_correlation</td>\n",
       "      <td>1.00000</td>\n",
       "      <td>0.05523</td>\n",
       "    </tr>\n",
       "    <tr>\n",
       "      <td>word_similarity</td>\n",
       "      <td>0.05523</td>\n",
       "      <td>1.00000</td>\n",
       "    </tr>\n",
       "  </tbody>\n",
       "</table>\n",
       "</div>"
      ],
      "text/plain": [
       "                     returns_correlation  word_similarity\n",
       "returns_correlation              1.00000          0.05523\n",
       "word_similarity                  0.05523          1.00000"
      ]
     },
     "execution_count": 79,
     "metadata": {},
     "output_type": "execute_result"
    }
   ],
   "source": [
    "all_data.corr()"
   ]
  },
  {
   "cell_type": "code",
   "execution_count": 80,
   "metadata": {},
   "outputs": [],
   "source": [
    "## This should be about 12%. That's not bad, but we can do better\n",
    "# ? what should be 12%? "
   ]
  },
  {
   "cell_type": "code",
   "execution_count": 81,
   "metadata": {},
   "outputs": [
    {
     "data": {
      "text/plain": [
       "<matplotlib.axes._subplots.AxesSubplot at 0x1e88cec7208>"
      ]
     },
     "execution_count": 81,
     "metadata": {},
     "output_type": "execute_result"
    },
    {
     "data": {
      "image/png": "[encoded data removed]",
      "text/plain": [
       "<Figure size 432x288 with 1 Axes>"
      ]
     },
     "metadata": {
      "needs_background": "light"
     },
     "output_type": "display_data"
    }
   ],
   "source": [
    "all_data.plot.scatter(x='returns_correlation', y='word_similarity')"
   ]
  },
  {
   "cell_type": "markdown",
   "metadata": {},
   "source": [
    "## Part 4: Try to predict the future returns correlations\n",
    "### Use OLS (`LinearRegression`) to predict `returns_correlation` from `word_similarity`. \n",
    "### What is the (contemperaneous) out of sample performance?"
   ]
  },
  {
   "cell_type": "code",
   "execution_count": 82,
   "metadata": {},
   "outputs": [],
   "source": [
    "data_df = np.array(all_data)\n",
    "feature_cols = data_df[:,1:]\n",
    "target_col = data_df[:,0]"
   ]
  },
  {
   "cell_type": "code",
   "execution_count": 83,
   "metadata": {},
   "outputs": [
    {
     "data": {
      "text/plain": [
       "array([[1.        , 1.        ],\n",
       "       [0.55542154, 0.91649091],\n",
       "       [0.21599703, 0.88991216],\n",
       "       ...,\n",
       "       [0.34410792, 0.89216151],\n",
       "       [0.32758096, 0.91544081],\n",
       "       [1.        , 1.        ]])"
      ]
     },
     "execution_count": 83,
     "metadata": {},
     "output_type": "execute_result"
    }
   ],
   "source": [
    "data_df"
   ]
  },
  {
   "cell_type": "code",
   "execution_count": 84,
   "metadata": {},
   "outputs": [
    {
     "data": {
      "text/plain": [
       "array([[1.        ],\n",
       "       [0.91649091],\n",
       "       [0.88991216],\n",
       "       ...,\n",
       "       [0.89216151],\n",
       "       [0.91544081],\n",
       "       [1.        ]])"
      ]
     },
     "execution_count": 84,
     "metadata": {},
     "output_type": "execute_result"
    }
   ],
   "source": [
    "feature_cols"
   ]
  },
  {
   "cell_type": "code",
   "execution_count": 85,
   "metadata": {},
   "outputs": [
    {
     "data": {
      "text/plain": [
       "array([1.        , 0.55542154, 0.21599703, ..., 0.34410792, 0.32758096,\n",
       "       1.        ])"
      ]
     },
     "execution_count": 85,
     "metadata": {},
     "output_type": "execute_result"
    }
   ],
   "source": [
    "target_col"
   ]
  },
  {
   "cell_type": "code",
   "execution_count": 86,
   "metadata": {},
   "outputs": [
    {
     "data": {
      "text/plain": [
       "0.0034679984901585525"
      ]
     },
     "execution_count": 86,
     "metadata": {},
     "output_type": "execute_result"
    }
   ],
   "source": [
    "# add code here\n",
    "from sklearn import linear_model\n",
    "from sklearn.model_selection import train_test_split\n",
    "\n",
    "reg = linear_model.LinearRegression()# add code here\n",
    "X_train, X_test, y_train, y_test = train_test_split(feature_cols,target_col,test_size=0.4, random_state=0)\n",
    "\n",
    "reg.fit(X_train, y_train)\n",
    "reg.score(X_test, y_test)"
   ]
  },
  {
   "cell_type": "code",
   "execution_count": 87,
   "metadata": {},
   "outputs": [
    {
     "data": {
      "text/plain": [
       "array([0.02708369])"
      ]
     },
     "execution_count": 87,
     "metadata": {},
     "output_type": "execute_result"
    }
   ],
   "source": [
    "reg.coef_"
   ]
  },
  {
   "cell_type": "code",
   "execution_count": 89,
   "metadata": {},
   "outputs": [],
   "source": [
    "#? pd.Series(reg.coef_, index=feature_cols)"
   ]
  },
  {
   "cell_type": "markdown",
   "metadata": {},
   "source": [
    "### This is not amazing. We can do better!"
   ]
  },
  {
   "cell_type": "markdown",
   "metadata": {},
   "source": [
    "## $ \\\\ $ "
   ]
  },
  {
   "cell_type": "markdown",
   "metadata": {},
   "source": [
    "## Part 5: Repeat, but be careful\n",
    "### Here we will see if we can clean the data better\n",
    "\n",
    "### Things to try\n",
    " - ### Look at the histograms of word similarities to see if we can \"ignore\" some ill-behaved data\n",
    " - ### Try limiting how greedy the `TFIDFVectorizer` is: `min_df`, `max_df`, `max_features`, etc.\n",
    " \n",
    "### We will examine our data and look for things that look out of place\n",
    " - ### We will ultimately want our data to look normally distributed\n"
   ]
  },
  {
   "cell_type": "code",
   "execution_count": 90,
   "metadata": {},
   "outputs": [],
   "source": [
    "def clean_mda(mda):\n",
    "    paras = [p.lower() for p in mda.split('\\n') if len(p) > 40]\n",
    "    cleaned =  ' '.join(paras)\n",
    "    words = cleaned.split()\n",
    "    words = [word for word in words if len(word) > 2]\n",
    "    if len(words) > 10:\n",
    "        return ' '.join(words)\n",
    "    else:\n",
    "        return ''"
   ]
  },
  {
   "cell_type": "code",
   "execution_count": 91,
   "metadata": {},
   "outputs": [],
   "source": [
    "from sklearn.feature_extraction.text import TfidfVectorizer\n",
    "vec = TfidfVectorizer(\n",
    "    min_df = 3,\n",
    "    max_df = 1.0,\n",
    "    max_features= None\n",
    ")\n",
    "word_vecs = vec.fit_transform((clean_mda(item['mda']) for item in data))\n",
    "\n",
    "vocab = {token: n for n, token in enumerate(pd.Series(vec.vocabulary_).sort_values().index)}\n",
    "inv_vocab = {v: k for k, v in vocab.items()}\n",
    "\n",
    "word_sims =  cosine_similarity(word_vecs)\n",
    "# Lots of word similarities are all zeros- so we'll ignore\n",
    "# add code here to remove rows of word_sims where all the elements are zero\n"
   ]
  },
  {
   "cell_type": "code",
   "execution_count": 92,
   "metadata": {},
   "outputs": [
    {
     "data": {
      "text/plain": [
       "list"
      ]
     },
     "execution_count": 92,
     "metadata": {},
     "output_type": "execute_result"
    }
   ],
   "source": [
    "type(data_tickers)"
   ]
  },
  {
   "cell_type": "code",
   "execution_count": 93,
   "metadata": {},
   "outputs": [],
   "source": [
    "data_tickers = np.array(data_tickers)"
   ]
  },
  {
   "cell_type": "code",
   "execution_count": 94,
   "metadata": {},
   "outputs": [
    {
     "data": {
      "text/plain": [
       "numpy.ndarray"
      ]
     },
     "execution_count": 94,
     "metadata": {},
     "output_type": "execute_result"
    }
   ],
   "source": [
    "type(data_tickers)"
   ]
  },
  {
   "cell_type": "code",
   "execution_count": 95,
   "metadata": {},
   "outputs": [],
   "source": [
    "data_tickers_wo_zero = data_tickers[word_sims.sum(axis = 1) != 0]\n",
    "word_sims_wo_zero = word_sims[word_sims.sum(axis = 1) != 0]\n",
    "df_wo_zero = pd.DataFrame(word_sims_wo_zero, index = data_tickers_wo_zero, columns = data_tickers)"
   ]
  },
  {
   "cell_type": "code",
   "execution_count": 96,
   "metadata": {},
   "outputs": [
    {
     "data": {
      "text/html": [
       "<div>\n",
       "<style scoped>\n",
       "    .dataframe tbody tr th:only-of-type {\n",
       "        vertical-align: middle;\n",
       "    }\n",
       "\n",
       "    .dataframe tbody tr th {\n",
       "        vertical-align: top;\n",
       "    }\n",
       "\n",
       "    .dataframe thead th {\n",
       "        text-align: right;\n",
       "    }\n",
       "</style>\n",
       "<table border=\"1\" class=\"dataframe\">\n",
       "  <thead>\n",
       "    <tr style=\"text-align: right;\">\n",
       "      <th></th>\n",
       "      <th>ADBE</th>\n",
       "      <th>AAP</th>\n",
       "      <th>AMD</th>\n",
       "      <th>AES</th>\n",
       "      <th>AMG</th>\n",
       "      <th>AFL</th>\n",
       "      <th>AIV</th>\n",
       "      <th>AKAM</th>\n",
       "      <th>SO</th>\n",
       "      <th>ALK</th>\n",
       "      <th>...</th>\n",
       "      <th>JCI</th>\n",
       "      <th>MU</th>\n",
       "      <th>RJF</th>\n",
       "      <th>ROK</th>\n",
       "      <th>SWKS</th>\n",
       "      <th>SBUX</th>\n",
       "      <th>SNPS</th>\n",
       "      <th>TSN</th>\n",
       "      <th>TDG</th>\n",
       "      <th>VIAB</th>\n",
       "    </tr>\n",
       "  </thead>\n",
       "  <tbody>\n",
       "    <tr>\n",
       "      <td>ADBE</td>\n",
       "      <td>1.000000</td>\n",
       "      <td>0.778558</td>\n",
       "      <td>0.774899</td>\n",
       "      <td>0.733078</td>\n",
       "      <td>0.716311</td>\n",
       "      <td>0.729026</td>\n",
       "      <td>0.531221</td>\n",
       "      <td>0.846542</td>\n",
       "      <td>0.0</td>\n",
       "      <td>0.709761</td>\n",
       "      <td>...</td>\n",
       "      <td>0.707491</td>\n",
       "      <td>0.761365</td>\n",
       "      <td>0.770023</td>\n",
       "      <td>0.775591</td>\n",
       "      <td>0.838928</td>\n",
       "      <td>0.691573</td>\n",
       "      <td>0.854355</td>\n",
       "      <td>0.781628</td>\n",
       "      <td>0.751405</td>\n",
       "      <td>0.746832</td>\n",
       "    </tr>\n",
       "    <tr>\n",
       "      <td>AAP</td>\n",
       "      <td>0.778558</td>\n",
       "      <td>1.000000</td>\n",
       "      <td>0.813690</td>\n",
       "      <td>0.789807</td>\n",
       "      <td>0.754933</td>\n",
       "      <td>0.784507</td>\n",
       "      <td>0.568569</td>\n",
       "      <td>0.858525</td>\n",
       "      <td>0.0</td>\n",
       "      <td>0.760760</td>\n",
       "      <td>...</td>\n",
       "      <td>0.753291</td>\n",
       "      <td>0.803720</td>\n",
       "      <td>0.808612</td>\n",
       "      <td>0.835261</td>\n",
       "      <td>0.795753</td>\n",
       "      <td>0.793316</td>\n",
       "      <td>0.803614</td>\n",
       "      <td>0.796018</td>\n",
       "      <td>0.803191</td>\n",
       "      <td>0.784600</td>\n",
       "    </tr>\n",
       "    <tr>\n",
       "      <td>AMD</td>\n",
       "      <td>0.774899</td>\n",
       "      <td>0.813690</td>\n",
       "      <td>1.000000</td>\n",
       "      <td>0.808407</td>\n",
       "      <td>0.778368</td>\n",
       "      <td>0.773822</td>\n",
       "      <td>0.555433</td>\n",
       "      <td>0.836496</td>\n",
       "      <td>0.0</td>\n",
       "      <td>0.738259</td>\n",
       "      <td>...</td>\n",
       "      <td>0.808158</td>\n",
       "      <td>0.820952</td>\n",
       "      <td>0.805966</td>\n",
       "      <td>0.782649</td>\n",
       "      <td>0.821668</td>\n",
       "      <td>0.712950</td>\n",
       "      <td>0.822254</td>\n",
       "      <td>0.818619</td>\n",
       "      <td>0.811516</td>\n",
       "      <td>0.779165</td>\n",
       "    </tr>\n",
       "    <tr>\n",
       "      <td>AES</td>\n",
       "      <td>0.733078</td>\n",
       "      <td>0.789807</td>\n",
       "      <td>0.808407</td>\n",
       "      <td>1.000000</td>\n",
       "      <td>0.728791</td>\n",
       "      <td>0.811388</td>\n",
       "      <td>0.560585</td>\n",
       "      <td>0.834174</td>\n",
       "      <td>0.0</td>\n",
       "      <td>0.750890</td>\n",
       "      <td>...</td>\n",
       "      <td>0.847035</td>\n",
       "      <td>0.804228</td>\n",
       "      <td>0.827569</td>\n",
       "      <td>0.795757</td>\n",
       "      <td>0.781394</td>\n",
       "      <td>0.710607</td>\n",
       "      <td>0.787304</td>\n",
       "      <td>0.778269</td>\n",
       "      <td>0.836574</td>\n",
       "      <td>0.780424</td>\n",
       "    </tr>\n",
       "    <tr>\n",
       "      <td>AMG</td>\n",
       "      <td>0.716311</td>\n",
       "      <td>0.754933</td>\n",
       "      <td>0.778368</td>\n",
       "      <td>0.728791</td>\n",
       "      <td>1.000000</td>\n",
       "      <td>0.715637</td>\n",
       "      <td>0.532612</td>\n",
       "      <td>0.803293</td>\n",
       "      <td>0.0</td>\n",
       "      <td>0.692333</td>\n",
       "      <td>...</td>\n",
       "      <td>0.690209</td>\n",
       "      <td>0.737643</td>\n",
       "      <td>0.784179</td>\n",
       "      <td>0.739985</td>\n",
       "      <td>0.742765</td>\n",
       "      <td>0.655550</td>\n",
       "      <td>0.761007</td>\n",
       "      <td>0.746108</td>\n",
       "      <td>0.711462</td>\n",
       "      <td>0.723726</td>\n",
       "    </tr>\n",
       "  </tbody>\n",
       "</table>\n",
       "<p>5 rows × 323 columns</p>\n",
       "</div>"
      ],
      "text/plain": [
       "          ADBE       AAP       AMD       AES       AMG       AFL       AIV  \\\n",
       "ADBE  1.000000  0.778558  0.774899  0.733078  0.716311  0.729026  0.531221   \n",
       "AAP   0.778558  1.000000  0.813690  0.789807  0.754933  0.784507  0.568569   \n",
       "AMD   0.774899  0.813690  1.000000  0.808407  0.778368  0.773822  0.555433   \n",
       "AES   0.733078  0.789807  0.808407  1.000000  0.728791  0.811388  0.560585   \n",
       "AMG   0.716311  0.754933  0.778368  0.728791  1.000000  0.715637  0.532612   \n",
       "\n",
       "          AKAM   SO       ALK  ...       JCI        MU       RJF       ROK  \\\n",
       "ADBE  0.846542  0.0  0.709761  ...  0.707491  0.761365  0.770023  0.775591   \n",
       "AAP   0.858525  0.0  0.760760  ...  0.753291  0.803720  0.808612  0.835261   \n",
       "AMD   0.836496  0.0  0.738259  ...  0.808158  0.820952  0.805966  0.782649   \n",
       "AES   0.834174  0.0  0.750890  ...  0.847035  0.804228  0.827569  0.795757   \n",
       "AMG   0.803293  0.0  0.692333  ...  0.690209  0.737643  0.784179  0.739985   \n",
       "\n",
       "          SWKS      SBUX      SNPS       TSN       TDG      VIAB  \n",
       "ADBE  0.838928  0.691573  0.854355  0.781628  0.751405  0.746832  \n",
       "AAP   0.795753  0.793316  0.803614  0.796018  0.803191  0.784600  \n",
       "AMD   0.821668  0.712950  0.822254  0.818619  0.811516  0.779165  \n",
       "AES   0.781394  0.710607  0.787304  0.778269  0.836574  0.780424  \n",
       "AMG   0.742765  0.655550  0.761007  0.746108  0.711462  0.723726  \n",
       "\n",
       "[5 rows x 323 columns]"
      ]
     },
     "execution_count": 96,
     "metadata": {},
     "output_type": "execute_result"
    }
   ],
   "source": [
    "df_wo_zero.head()"
   ]
  },
  {
   "cell_type": "code",
   "execution_count": 97,
   "metadata": {},
   "outputs": [],
   "source": [
    "# calculate the returns correlation and the cosine similarities as above\n",
    "word_cor_wo_zero = df_wo_zero.stack()#  calcuate the word similarities in the right shape\n",
    "word_cor_wo_zero.name = 'word_similarity'\n",
    "all_data = rets_cor.join(word_cor_wo_zero)\n",
    "all_data = all_data.dropna()"
   ]
  },
  {
   "cell_type": "code",
   "execution_count": 98,
   "metadata": {},
   "outputs": [
    {
     "data": {
      "text/html": [
       "<div>\n",
       "<style scoped>\n",
       "    .dataframe tbody tr th:only-of-type {\n",
       "        vertical-align: middle;\n",
       "    }\n",
       "\n",
       "    .dataframe tbody tr th {\n",
       "        vertical-align: top;\n",
       "    }\n",
       "\n",
       "    .dataframe thead th {\n",
       "        text-align: right;\n",
       "    }\n",
       "</style>\n",
       "<table border=\"1\" class=\"dataframe\">\n",
       "  <thead>\n",
       "    <tr style=\"text-align: right;\">\n",
       "      <th></th>\n",
       "      <th></th>\n",
       "      <th>returns_correlation</th>\n",
       "      <th>word_similarity</th>\n",
       "    </tr>\n",
       "  </thead>\n",
       "  <tbody>\n",
       "    <tr>\n",
       "      <td rowspan=\"5\" valign=\"top\">ACN</td>\n",
       "      <td>ACN</td>\n",
       "      <td>1.000000</td>\n",
       "      <td>1.000000</td>\n",
       "    </tr>\n",
       "    <tr>\n",
       "      <td>ADBE</td>\n",
       "      <td>0.555422</td>\n",
       "      <td>0.797598</td>\n",
       "    </tr>\n",
       "    <tr>\n",
       "      <td>AMD</td>\n",
       "      <td>0.215997</td>\n",
       "      <td>0.775307</td>\n",
       "    </tr>\n",
       "    <tr>\n",
       "      <td>AAP</td>\n",
       "      <td>0.231908</td>\n",
       "      <td>0.778956</td>\n",
       "    </tr>\n",
       "    <tr>\n",
       "      <td>AES</td>\n",
       "      <td>0.351658</td>\n",
       "      <td>0.784401</td>\n",
       "    </tr>\n",
       "  </tbody>\n",
       "</table>\n",
       "</div>"
      ],
      "text/plain": [
       "          returns_correlation  word_similarity\n",
       "ACN ACN              1.000000         1.000000\n",
       "    ADBE             0.555422         0.797598\n",
       "    AMD              0.215997         0.775307\n",
       "    AAP              0.231908         0.778956\n",
       "    AES              0.351658         0.784401"
      ]
     },
     "execution_count": 98,
     "metadata": {},
     "output_type": "execute_result"
    }
   ],
   "source": [
    "all_data.head()"
   ]
  },
  {
   "cell_type": "code",
   "execution_count": 99,
   "metadata": {},
   "outputs": [
    {
     "data": {
      "text/plain": [
       "Text(0.5, 1.0, 'Word Similarity')"
      ]
     },
     "execution_count": 99,
     "metadata": {},
     "output_type": "execute_result"
    },
    {
     "data": {
      "image/png": "[encoded data removed]",
      "text/plain": [
       "<Figure size 864x504 with 1 Axes>"
      ]
     },
     "metadata": {
      "needs_background": "light"
     },
     "output_type": "display_data"
    },
    {
     "data": {
      "image/png": "[encoded data removed]",
      "text/plain": [
       "<Figure size 864x504 with 1 Axes>"
      ]
     },
     "metadata": {
      "needs_background": "light"
     },
     "output_type": "display_data"
    }
   ],
   "source": [
    "# inspect your data- make some histograms\n",
    "import matplotlib.pyplot as plt\n",
    "plt.figure(figsize=(12,7))\n",
    "all_data.returns_correlation.hist(bins=40)\n",
    "plt.title('Returns Correlation')\n",
    "plt.figure(figsize=(12,7))\n",
    "all_data.word_similarity.hist(bins=40)\n",
    "plt.title('Word Similarity')"
   ]
  },
  {
   "cell_type": "markdown",
   "metadata": {},
   "source": [
    "### Cleaning our data\n",
    "### It seems lots of things are identically 0 (no word overlap) or identically 1 (the MD&A section for one company perfectly overlaps itself). We will exclude those"
   ]
  },
  {
   "cell_type": "code",
   "execution_count": 100,
   "metadata": {},
   "outputs": [
    {
     "data": {
      "text/plain": [
       "1.0000000000000004"
      ]
     },
     "execution_count": 100,
     "metadata": {},
     "output_type": "execute_result"
    }
   ],
   "source": [
    "all_data['word_similarity'][0]"
   ]
  },
  {
   "cell_type": "code",
   "execution_count": 101,
   "metadata": {},
   "outputs": [],
   "source": [
    "# your code here\n",
    "all_data = all_data[(all_data['word_similarity'] < 1) & (all_data['word_similarity'] > 0)]"
   ]
  },
  {
   "cell_type": "code",
   "execution_count": 102,
   "metadata": {},
   "outputs": [
    {
     "data": {
      "text/html": [
       "<div>\n",
       "<style scoped>\n",
       "    .dataframe tbody tr th:only-of-type {\n",
       "        vertical-align: middle;\n",
       "    }\n",
       "\n",
       "    .dataframe tbody tr th {\n",
       "        vertical-align: top;\n",
       "    }\n",
       "\n",
       "    .dataframe thead th {\n",
       "        text-align: right;\n",
       "    }\n",
       "</style>\n",
       "<table border=\"1\" class=\"dataframe\">\n",
       "  <thead>\n",
       "    <tr style=\"text-align: right;\">\n",
       "      <th></th>\n",
       "      <th></th>\n",
       "      <th>returns_correlation</th>\n",
       "      <th>word_similarity</th>\n",
       "    </tr>\n",
       "  </thead>\n",
       "  <tbody>\n",
       "    <tr>\n",
       "      <td rowspan=\"5\" valign=\"top\">ACN</td>\n",
       "      <td>ADBE</td>\n",
       "      <td>0.555422</td>\n",
       "      <td>0.797598</td>\n",
       "    </tr>\n",
       "    <tr>\n",
       "      <td>AMD</td>\n",
       "      <td>0.215997</td>\n",
       "      <td>0.775307</td>\n",
       "    </tr>\n",
       "    <tr>\n",
       "      <td>AAP</td>\n",
       "      <td>0.231908</td>\n",
       "      <td>0.778956</td>\n",
       "    </tr>\n",
       "    <tr>\n",
       "      <td>AES</td>\n",
       "      <td>0.351658</td>\n",
       "      <td>0.784401</td>\n",
       "    </tr>\n",
       "    <tr>\n",
       "      <td>AMG</td>\n",
       "      <td>0.510561</td>\n",
       "      <td>0.709525</td>\n",
       "    </tr>\n",
       "    <tr>\n",
       "      <td>...</td>\n",
       "      <td>...</td>\n",
       "      <td>...</td>\n",
       "      <td>...</td>\n",
       "    </tr>\n",
       "    <tr>\n",
       "      <td rowspan=\"5\" valign=\"top\">ZTS</td>\n",
       "      <td>XRX</td>\n",
       "      <td>0.382344</td>\n",
       "      <td>0.825251</td>\n",
       "    </tr>\n",
       "    <tr>\n",
       "      <td>XLNX</td>\n",
       "      <td>0.344773</td>\n",
       "      <td>0.803660</td>\n",
       "    </tr>\n",
       "    <tr>\n",
       "      <td>XYL</td>\n",
       "      <td>0.385495</td>\n",
       "      <td>0.813930</td>\n",
       "    </tr>\n",
       "    <tr>\n",
       "      <td>YUM</td>\n",
       "      <td>0.344108</td>\n",
       "      <td>0.717907</td>\n",
       "    </tr>\n",
       "    <tr>\n",
       "      <td>ZION</td>\n",
       "      <td>0.327581</td>\n",
       "      <td>0.771679</td>\n",
       "    </tr>\n",
       "  </tbody>\n",
       "</table>\n",
       "<p>86762 rows × 2 columns</p>\n",
       "</div>"
      ],
      "text/plain": [
       "          returns_correlation  word_similarity\n",
       "ACN ADBE             0.555422         0.797598\n",
       "    AMD              0.215997         0.775307\n",
       "    AAP              0.231908         0.778956\n",
       "    AES              0.351658         0.784401\n",
       "    AMG              0.510561         0.709525\n",
       "...                       ...              ...\n",
       "ZTS XRX              0.382344         0.825251\n",
       "    XLNX             0.344773         0.803660\n",
       "    XYL              0.385495         0.813930\n",
       "    YUM              0.344108         0.717907\n",
       "    ZION             0.327581         0.771679\n",
       "\n",
       "[86762 rows x 2 columns]"
      ]
     },
     "execution_count": 102,
     "metadata": {},
     "output_type": "execute_result"
    }
   ],
   "source": [
    "all_data"
   ]
  },
  {
   "cell_type": "code",
   "execution_count": 103,
   "metadata": {},
   "outputs": [
    {
     "data": {
      "text/plain": [
       "Text(0.5, 1.0, 'Word Similarity')"
      ]
     },
     "execution_count": 103,
     "metadata": {},
     "output_type": "execute_result"
    },
    {
     "data": {
      "image/png": "[encoded data removed]",
      "text/plain": [
       "<Figure size 864x504 with 1 Axes>"
      ]
     },
     "metadata": {
      "needs_background": "light"
     },
     "output_type": "display_data"
    },
    {
     "data": {
      "image/png": "[encoded data removed]",
      "text/plain": [
       "<Figure size 864x504 with 1 Axes>"
      ]
     },
     "metadata": {
      "needs_background": "light"
     },
     "output_type": "display_data"
    }
   ],
   "source": [
    "# examine histograms again\n",
    "plt.figure(figsize=(12,7))\n",
    "all_data.returns_correlation.hist(bins=40)\n",
    "plt.title('Returns Correlation')\n",
    "plt.figure(figsize=(12,7))\n",
    "all_data.word_similarity.hist(bins=40)\n",
    "plt.title('Word Similarity')"
   ]
  },
  {
   "cell_type": "code",
   "execution_count": 104,
   "metadata": {},
   "outputs": [
    {
     "data": {
      "text/html": [
       "<div>\n",
       "<style scoped>\n",
       "    .dataframe tbody tr th:only-of-type {\n",
       "        vertical-align: middle;\n",
       "    }\n",
       "\n",
       "    .dataframe tbody tr th {\n",
       "        vertical-align: top;\n",
       "    }\n",
       "\n",
       "    .dataframe thead th {\n",
       "        text-align: right;\n",
       "    }\n",
       "</style>\n",
       "<table border=\"1\" class=\"dataframe\">\n",
       "  <thead>\n",
       "    <tr style=\"text-align: right;\">\n",
       "      <th></th>\n",
       "      <th>returns_correlation</th>\n",
       "      <th>word_similarity</th>\n",
       "    </tr>\n",
       "  </thead>\n",
       "  <tbody>\n",
       "    <tr>\n",
       "      <td>returns_correlation</td>\n",
       "      <td>1.000000</td>\n",
       "      <td>0.140083</td>\n",
       "    </tr>\n",
       "    <tr>\n",
       "      <td>word_similarity</td>\n",
       "      <td>0.140083</td>\n",
       "      <td>1.000000</td>\n",
       "    </tr>\n",
       "  </tbody>\n",
       "</table>\n",
       "</div>"
      ],
      "text/plain": [
       "                     returns_correlation  word_similarity\n",
       "returns_correlation             1.000000         0.140083\n",
       "word_similarity                 0.140083         1.000000"
      ]
     },
     "execution_count": 104,
     "metadata": {},
     "output_type": "execute_result"
    }
   ],
   "source": [
    "all_data.corr()"
   ]
  },
  {
   "cell_type": "markdown",
   "metadata": {},
   "source": [
    "### Lastly, there is a bit of a \"hump\" at low `word_similarity`"
   ]
  },
  {
   "cell_type": "code",
   "execution_count": 105,
   "metadata": {},
   "outputs": [],
   "source": [
    "# add code here\n",
    "all_data = all_data[(all_data['word_similarity'] > 0.6)]"
   ]
  },
  {
   "cell_type": "code",
   "execution_count": 106,
   "metadata": {},
   "outputs": [
    {
     "data": {
      "text/html": [
       "<div>\n",
       "<style scoped>\n",
       "    .dataframe tbody tr th:only-of-type {\n",
       "        vertical-align: middle;\n",
       "    }\n",
       "\n",
       "    .dataframe tbody tr th {\n",
       "        vertical-align: top;\n",
       "    }\n",
       "\n",
       "    .dataframe thead th {\n",
       "        text-align: right;\n",
       "    }\n",
       "</style>\n",
       "<table border=\"1\" class=\"dataframe\">\n",
       "  <thead>\n",
       "    <tr style=\"text-align: right;\">\n",
       "      <th></th>\n",
       "      <th>returns_correlation</th>\n",
       "      <th>word_similarity</th>\n",
       "    </tr>\n",
       "  </thead>\n",
       "  <tbody>\n",
       "    <tr>\n",
       "      <td>returns_correlation</td>\n",
       "      <td>1.000000</td>\n",
       "      <td>0.224531</td>\n",
       "    </tr>\n",
       "    <tr>\n",
       "      <td>word_similarity</td>\n",
       "      <td>0.224531</td>\n",
       "      <td>1.000000</td>\n",
       "    </tr>\n",
       "  </tbody>\n",
       "</table>\n",
       "</div>"
      ],
      "text/plain": [
       "                     returns_correlation  word_similarity\n",
       "returns_correlation             1.000000         0.224531\n",
       "word_similarity                 0.224531         1.000000"
      ]
     },
     "execution_count": 106,
     "metadata": {},
     "output_type": "execute_result"
    }
   ],
   "source": [
    "all_data.corr()"
   ]
  },
  {
   "cell_type": "markdown",
   "metadata": {},
   "source": [
    "### The contemperaneous correlation is twice as large!"
   ]
  },
  {
   "cell_type": "markdown",
   "metadata": {},
   "source": [
    "## Part 6: Now, repeat the exercise of predicting future returns correlation"
   ]
  },
  {
   "cell_type": "code",
   "execution_count": 107,
   "metadata": {},
   "outputs": [],
   "source": [
    "data_df = np.array(all_data)# Add code here\n",
    "# add code here\n",
    "feature_cols = data_df[:,1:]\n",
    "target_col = data_df[:,0]"
   ]
  },
  {
   "cell_type": "code",
   "execution_count": 108,
   "metadata": {},
   "outputs": [
    {
     "data": {
      "text/plain": [
       "0.04745323471983143"
      ]
     },
     "execution_count": 108,
     "metadata": {},
     "output_type": "execute_result"
    }
   ],
   "source": [
    "reg = linear_model.LinearRegression()\n",
    "X_train, X_test, y_train, y_test = train_test_split(feature_cols,target_col,test_size=0.4, random_state=0)\n",
    "\n",
    "reg.fit(X_train, y_train)\n",
    "reg.score(X_test, y_test)"
   ]
  },
  {
   "cell_type": "code",
   "execution_count": 109,
   "metadata": {},
   "outputs": [
    {
     "data": {
      "text/plain": [
       "array([0.53144341])"
      ]
     },
     "execution_count": 109,
     "metadata": {},
     "output_type": "execute_result"
    }
   ],
   "source": [
    "reg.coef_"
   ]
  },
  {
   "cell_type": "code",
   "execution_count": 110,
   "metadata": {},
   "outputs": [],
   "source": [
    "#? pd.Series(reg.coef_, index=feature_cols)"
   ]
  },
  {
   "cell_type": "markdown",
   "metadata": {},
   "source": [
    "### This is about 5 times better than before!\n",
    "## $ \\\\ $ \n",
    "## Part 7: What will happen if we include last year's returns correlation as a feature"
   ]
  },
  {
   "cell_type": "code",
   "execution_count": 111,
   "metadata": {},
   "outputs": [
    {
     "data": {
      "text/html": [
       "<div>\n",
       "<style scoped>\n",
       "    .dataframe tbody tr th:only-of-type {\n",
       "        vertical-align: middle;\n",
       "    }\n",
       "\n",
       "    .dataframe tbody tr th {\n",
       "        vertical-align: top;\n",
       "    }\n",
       "\n",
       "    .dataframe thead th {\n",
       "        text-align: right;\n",
       "    }\n",
       "</style>\n",
       "<table border=\"1\" class=\"dataframe\">\n",
       "  <thead>\n",
       "    <tr style=\"text-align: right;\">\n",
       "      <th></th>\n",
       "      <th></th>\n",
       "      <th>last_year_returns_correlation</th>\n",
       "      <th>returns_correlation</th>\n",
       "      <th>word_similarity</th>\n",
       "    </tr>\n",
       "  </thead>\n",
       "  <tbody>\n",
       "    <tr>\n",
       "      <td rowspan=\"5\" valign=\"top\">ACN</td>\n",
       "      <td>ADBE</td>\n",
       "      <td>0.560746</td>\n",
       "      <td>0.555422</td>\n",
       "      <td>0.797598</td>\n",
       "    </tr>\n",
       "    <tr>\n",
       "      <td>AMD</td>\n",
       "      <td>0.251450</td>\n",
       "      <td>0.215997</td>\n",
       "      <td>0.775307</td>\n",
       "    </tr>\n",
       "    <tr>\n",
       "      <td>AAP</td>\n",
       "      <td>0.303237</td>\n",
       "      <td>0.231908</td>\n",
       "      <td>0.778956</td>\n",
       "    </tr>\n",
       "    <tr>\n",
       "      <td>AES</td>\n",
       "      <td>0.395799</td>\n",
       "      <td>0.351658</td>\n",
       "      <td>0.784401</td>\n",
       "    </tr>\n",
       "    <tr>\n",
       "      <td>AMG</td>\n",
       "      <td>0.622302</td>\n",
       "      <td>0.510561</td>\n",
       "      <td>0.709525</td>\n",
       "    </tr>\n",
       "  </tbody>\n",
       "</table>\n",
       "</div>"
      ],
      "text/plain": [
       "          last_year_returns_correlation  returns_correlation  word_similarity\n",
       "ACN ADBE                       0.560746             0.555422         0.797598\n",
       "    AMD                        0.251450             0.215997         0.775307\n",
       "    AAP                        0.303237             0.231908         0.778956\n",
       "    AES                        0.395799             0.351658         0.784401\n",
       "    AMG                        0.622302             0.510561         0.709525"
      ]
     },
     "execution_count": 111,
     "metadata": {},
     "output_type": "execute_result"
    }
   ],
   "source": [
    "rets = prices.pct_change()\n",
    "last_year_corr =  rets.loc['2015-01-01':'2016-01-01'].corr().stack().to_frame(name = 'last_year_returns_correlation')\n",
    "data_df = last_year_corr.join(all_data)\n",
    "data_df = data_df.dropna()\n",
    "data_df.head()"
   ]
  },
  {
   "cell_type": "code",
   "execution_count": 112,
   "metadata": {},
   "outputs": [
    {
     "data": {
      "text/plain": [
       "0.3598212620553878"
      ]
     },
     "execution_count": 112,
     "metadata": {},
     "output_type": "execute_result"
    }
   ],
   "source": [
    "data_df = np.array(data_df)\n",
    "feature_cols = data_df[:, [0,2]]\n",
    "target_col = data_df[:, 1]\n",
    "\n",
    "X_train, X_test, y_train, y_test = train_test_split(feature_cols, target_col, test_size=0.33, random_state=42)\n",
    "reg = linear_model.LinearRegression()\n",
    "reg.fit(X_train, y_train)\n",
    "reg.score(X_test, y_test)"
   ]
  },
  {
   "cell_type": "code",
   "execution_count": 113,
   "metadata": {},
   "outputs": [
    {
     "data": {
      "text/plain": [
       "array([0.64219806, 0.43440817])"
      ]
     },
     "execution_count": 113,
     "metadata": {},
     "output_type": "execute_result"
    }
   ],
   "source": [
    "reg.coef_"
   ]
  },
  {
   "cell_type": "code",
   "execution_count": 114,
   "metadata": {},
   "outputs": [],
   "source": [
    "#? pd.Series(reg.coef_, index=feature_cols)"
   ]
  },
  {
   "cell_type": "markdown",
   "metadata": {},
   "source": [
    "## Indeed, we do much better, but the word features still help!"
   ]
  },
  {
   "cell_type": "code",
   "execution_count": null,
   "metadata": {},
   "outputs": [],
   "source": []
  },
  {
   "cell_type": "code",
   "execution_count": null,
   "metadata": {},
   "outputs": [],
   "source": []
  },
  {
   "cell_type": "code",
   "execution_count": null,
   "metadata": {},
   "outputs": [],
   "source": []
  },
  {
   "cell_type": "code",
   "execution_count": null,
   "metadata": {},
   "outputs": [],
   "source": []
  }
 ],
 "metadata": {
  "kernelspec": {
   "display_name": "Python 3",
   "language": "python",
   "name": "python3"
  },
  "language_info": {
   "codemirror_mode": {
    "name": "ipython",
    "version": 3
   },
   "file_extension": ".py",
   "mimetype": "text/x-python",
   "name": "python",
   "nbconvert_exporter": "python",
   "pygments_lexer": "ipython3",
   "version": "3.6.5"
  }
 },
 "nbformat": 4,
 "nbformat_minor": 2
}
