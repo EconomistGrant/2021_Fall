{
 "cells": [
  {
   "cell_type": "markdown",
   "source": [
    "# Homework Problem 0: Making sure you're set up with python\n",
    "### You will need to be able to run all of these cells without error"
   ],
   "metadata": {}
  },
  {
   "cell_type": "code",
   "execution_count": 2,
   "source": [
    "import numpy as np\r\n",
    "import pandas as pd \r\n",
    "%pylab inline"
   ],
   "outputs": [
    {
     "output_type": "stream",
     "name": "stdout",
     "text": [
      "Populating the interactive namespace from numpy and matplotlib\n"
     ]
    }
   ],
   "metadata": {}
  },
  {
   "cell_type": "code",
   "execution_count": 3,
   "source": [
    "import tqdm\r\n",
    "\r\n",
    "\r\n",
    "for i in tqdm.tqdm(range(3)):\r\n",
    "    print(\"look at the pretty progress bar\")\r\n"
   ],
   "outputs": [
    {
     "output_type": "stream",
     "name": "stderr",
     "text": [
      "100%|██████████| 3/3 [00:00<00:00, 3007.39it/s]"
     ]
    },
    {
     "output_type": "stream",
     "name": "stdout",
     "text": [
      "look at the pretty progress bar\n",
      "look at the pretty progress bar\n",
      "look at the pretty progress bar\n"
     ]
    },
    {
     "output_type": "stream",
     "name": "stderr",
     "text": [
      "\n"
     ]
    }
   ],
   "metadata": {}
  },
  {
   "cell_type": "code",
   "execution_count": 4,
   "source": [
    "# make sure numpy works\r\n",
    "arr = np.arange(30).reshape(10, 3)\r\n",
    "arr.sum(axis=0)"
   ],
   "outputs": [
    {
     "output_type": "execute_result",
     "data": {
      "text/plain": [
       "array([135, 145, 155])"
      ]
     },
     "metadata": {},
     "execution_count": 4
    }
   ],
   "metadata": {}
  },
  {
   "cell_type": "code",
   "execution_count": 5,
   "source": [
    "# make sure pandas works\r\n",
    "pd.Series(range(10), index=list(\"abcdefghij\")).plot()"
   ],
   "outputs": [
    {
     "output_type": "execute_result",
     "data": {
      "text/plain": [
       "<matplotlib.axes._subplots.AxesSubplot at 0x1ead0fb4310>"
      ]
     },
     "metadata": {},
     "execution_count": 5
    },
    {
     "output_type": "display_data",
     "data": {
      "image/png": "[encoded data removed]",
      "text/plain": [
       "<Figure size 432x288 with 1 Axes>"
      ]
     },
     "metadata": {
      "needs_background": "light"
     }
    }
   ],
   "metadata": {}
  },
  {
   "cell_type": "code",
   "execution_count": 6,
   "source": [
    "# make sure scikit learn works\r\n",
    "from sklearn.preprocessing import normalize\r\n",
    "\r\n",
    "arr = np.arange(30).reshape(10, 3)\r\n",
    "new_arr = normalize(arr)\r\n",
    "(new_arr * new_arr).sum(axis=1)"
   ],
   "outputs": [
    {
     "output_type": "execute_result",
     "data": {
      "text/plain": [
       "array([1., 1., 1., 1., 1., 1., 1., 1., 1., 1.])"
      ]
     },
     "metadata": {},
     "execution_count": 6
    }
   ],
   "metadata": {}
  },
  {
   "cell_type": "code",
   "execution_count": 9,
   "source": [
    "from tensorflow.keras.utils import to_categorical\r\n",
    "\r\n",
    "arr = np.array([[1, 2, 1, 0, 5], [3, 4, 1, 0, 5]])\r\n",
    "assert to_categorical(arr).shape == (2, 5, 6)"
   ],
   "outputs": [],
   "metadata": {}
  },
  {
   "cell_type": "code",
   "execution_count": 10,
   "source": [
    "from tensorflow.keras.layers import Input, Dense\r\n",
    "from tensorflow.keras.models import Model\r\n",
    "import tensorflow.keras.backend as K\r\n",
    "import tensorflow as tf\r\n",
    "\r\n",
    "K.clear_session()\r\n",
    "inpt = Input(shape=(10,))\r\n",
    "mat = Dense(1, input_shape=(10,))\r\n",
    "\r\n",
    "res = mat(K.variable(np.ones((10, 1))))\r\n",
    "\r\n",
    "if tf.__version__.startswith(\"1\"):\r\n",
    "    print(\r\n",
    "        f\"you have tensorflow version {tf.__version__}.\"\r\n",
    "        \"Your code may not be compatible with everything we do in class\"\r\n",
    "    )\r\n",
    "    result = K.eval(res)\r\n",
    "else:\r\n",
    "    result = res.numpy()\r\n",
    "    assert (result == K.eval(res)).all()\r\n",
    "\r\n",
    "print(result)"
   ],
   "outputs": [
    {
     "output_type": "stream",
     "name": "stdout",
     "text": [
      "[[-0.29745626]\n",
      " [-0.29745626]\n",
      " [-0.29745626]\n",
      " [-0.29745626]\n",
      " [-0.29745626]\n",
      " [-0.29745626]\n",
      " [-0.29745626]\n",
      " [-0.29745626]\n",
      " [-0.29745626]\n",
      " [-0.29745626]]\n"
     ]
    }
   ],
   "metadata": {}
  },
  {
   "cell_type": "code",
   "execution_count": 11,
   "source": [
    "K.clear_session()\r\n",
    "inpt = Input(shape=(10,))\r\n",
    "mat = Dense(1, input_shape=(10,))\r\n",
    "outpt = mat(inpt)\r\n",
    "\r\n",
    "model = Model(inpt, outpt)\r\n",
    "model.compile(\"adam\", loss=\"binary_crossentropy\")\r\n",
    "assert model.count_params() == 11\r\n",
    "model.summary()\r\n"
   ],
   "outputs": [
    {
     "output_type": "stream",
     "name": "stdout",
     "text": [
      "Model: \"model\"\n",
      "_________________________________________________________________\n",
      "Layer (type)                 Output Shape              Param #   \n",
      "=================================================================\n",
      "input_1 (InputLayer)         [(None, 10)]              0         \n",
      "_________________________________________________________________\n",
      "dense (Dense)                (None, 1)                 11        \n",
      "=================================================================\n",
      "Total params: 11\n",
      "Trainable params: 11\n",
      "Non-trainable params: 0\n",
      "_________________________________________________________________\n"
     ]
    }
   ],
   "metadata": {}
  },
  {
   "cell_type": "code",
   "execution_count": null,
   "source": [],
   "outputs": [],
   "metadata": {}
  },
  {
   "cell_type": "markdown",
   "source": [
    "# Homework Problem 1: Company Descriptions from Wikipedia\n",
    "Downloading data from the web is a large part of working with text.\n",
    "Importantly, it can be difficult to find the __right__ data. \n",
    "Here, we will download the company descriptions from wikipedia for the current set of S&P500 companies. \n",
    "\n",
    "## The `wikipedia` package\n",
    "You can install it with `pip install wikipedia`\n",
    "\n",
    "We will use `wikipeda.page` to grab data\n",
    "```python\n",
    "import wikipedia\n",
    "\n",
    "page = wikipedia.page(page_url)\n",
    "print(page.content)\n",
    "```"
   ],
   "metadata": {}
  },
  {
   "cell_type": "code",
   "execution_count": 12,
   "source": [
    "import numpy as np\r\n",
    "import pandas as pd\r\n",
    "%pylab inline\r\n",
    "\r\n",
    "from tqdm import tqdm\r\n",
    "import wikipedia\r\n",
    "from time import sleep"
   ],
   "outputs": [
    {
     "output_type": "stream",
     "name": "stdout",
     "text": [
      "Populating the interactive namespace from numpy and matplotlib\n"
     ]
    },
    {
     "output_type": "stream",
     "name": "stderr",
     "text": [
      "C:\\Users\\a\\anaconda3\\lib\\site-packages\\IPython\\core\\magics\\pylab.py:159: UserWarning: pylab import has clobbered these variables: ['mat']\n",
      "`%matplotlib` prevents importing * from pylab and numpy\n",
      "  warn(\"pylab import has clobbered these variables: %s\"  % clobbered +\n"
     ]
    }
   ],
   "metadata": {}
  },
  {
   "cell_type": "markdown",
   "source": [
    "## Part 0: get the list of the S&P500 companies\r\n",
    "### Hint, a `wikipedia` page has a method `html()` which returns the html from the page\r\n",
    "### pandas has `read_html` https://pandas.pydata.org/pandas-docs/version/0.23.4/generated/pandas.read_html.html"
   ],
   "metadata": {}
  },
  {
   "cell_type": "code",
   "execution_count": 13,
   "source": [
    "sp500_url = 'List_of_S%26P_500_companies'\r\n",
    "# your code here"
   ],
   "outputs": [],
   "metadata": {}
  },
  {
   "cell_type": "code",
   "execution_count": 14,
   "source": [
    "import requests\r\n",
    "from bs4 import BeautifulSoup\r\n",
    "\r\n",
    "r = requests.get('https://en.wikipedia.org/wiki/List_of_S%26P_500_companies') \r\n",
    "soup = BeautifulSoup(r.content)\r\n",
    "table = soup.findAll(name = \"table\")[0]"
   ],
   "outputs": [],
   "metadata": {}
  },
  {
   "cell_type": "code",
   "execution_count": 15,
   "source": [
    "entries_raw_data = table.tbody.findAll('tr')\r\n",
    "companies_wiki_url = {}\r\n",
    "companies_sector = {}\r\n",
    "companies_sub_industry = {}\r\n",
    "for idx in range(1,len(entries_raw_data)):\r\n",
    "    entry = entries_raw_data[idx]\r\n",
    "    company = entry.findAll('td')[1].a['title']\r\n",
    "    GICS_sector = entry.findAll('td')[3].text.replace(\"\\n\", \"\")\r\n",
    "    GICS_sub_industry = entry.findAll('td')[4].text.replace(\"\\n\", \"\")\r\n",
    "    url = entry.findAll('td')[1].a['href']\r\n",
    "    if companies_wiki_url.get(company,0) != 0:\r\n",
    "        assert companies_wiki_url[company] == url\r\n",
    "    companies_wiki_url[company] = url\r\n",
    "    companies_sector[company] = GICS_sector\r\n",
    "    companies_sub_industry[company] = GICS_sub_industry\r\n",
    "\r\n",
    "companies = [i for i in companies_wiki_url]"
   ],
   "outputs": [],
   "metadata": {}
  },
  {
   "cell_type": "markdown",
   "source": [
    "## Part 2: For every S&P500 company, get the page content"
   ],
   "metadata": {}
  },
  {
   "cell_type": "code",
   "execution_count": 16,
   "source": [
    "import json\r\n",
    "# your code here. We suggest that you save your results\r\n",
    "# to a json file so that you don't need to re-scrape\r\n",
    "id_map = {}\r\n",
    "data = {}\r\n",
    "for company in companies:\r\n",
    "    url = \"https://en.wikipedia.org/\" + companies_wiki_url[company]\r\n",
    "    company_soup = BeautifulSoup(requests.get(url).content)\r\n",
    "    info_url = \"https://en.wikipedia.org/\" + company_soup.findAll(title= \"More information about this page\")[0]['href']\r\n",
    "    info_soup = BeautifulSoup(requests.get(info_url).content)\r\n",
    "    _id = info_soup.findAll(id = 'mw-pageinfo-article-id')[0].text[7:]\r\n",
    "    id_map[company] = _id\r\n",
    "    try:\r\n",
    "        data[company] = wikipedia.page(pageid=_id).content\r\n",
    "    except:\r\n",
    "        print(\"error in finding company page: \" + company)\r\n",
    "print(\"found {} results\".format(len(data)))"
   ],
   "outputs": [
    {
     "output_type": "stream",
     "name": "stdout",
     "text": [
      "error in finding company page: Pool Corporation (page does not exist)\n",
      "found 499 results\n"
     ]
    }
   ],
   "metadata": {}
  },
  {
   "cell_type": "code",
   "execution_count": 19,
   "source": [
    "j_data = json.dumps(data)\r\n",
    "file_obj = open('data.json','w')\r\n",
    "file_obj.write(j_data)\r\n",
    "file_obj.close()"
   ],
   "outputs": [],
   "metadata": {}
  },
  {
   "cell_type": "markdown",
   "source": [
    "## Part 3: Content length\r\n",
    " - For every page, compute the length of the text (how many characters)\r\n",
    " - What is the mean length(number of characters) for each gics sector. "
   ],
   "metadata": {}
  },
  {
   "cell_type": "code",
   "execution_count": 20,
   "source": [
    "companies_sector = pd.Series(companies_sector, name = 'sector')\r\n",
    "content_length = {}\r\n",
    "for company in data:\r\n",
    "    content_length[company] = len(data[company])\r\n",
    "content_length = pd.Series(content_length, name = 'content_length')\r\n",
    "content_length = pd.concat([content_length,companies_sector],axis = 1)\r\n",
    "print(content_length)\r\n",
    "print(content_length.groupby('sector').agg({'content_length':'mean'}))"
   ],
   "outputs": [
    {
     "output_type": "stream",
     "name": "stdout",
     "text": [
      "                                        content_length                  sector\n",
      "3M                                             17762.0             Industrials\n",
      "Abbott Laboratories                            17830.0             Health Care\n",
      "AbbVie                                          7624.0             Health Care\n",
      "Abiomed                                         5918.0             Health Care\n",
      "Accenture                                      11950.0  Information Technology\n",
      "...                                                ...                     ...\n",
      "Zebra Technologies                              3684.0  Information Technology\n",
      "Zimmer Biomet                                   3663.0             Health Care\n",
      "Zions Bancorporation                            5671.0              Financials\n",
      "Zoetis                                          4978.0             Health Care\n",
      "Pool Corporation (page does not exist)             NaN  Consumer Discretionary\n",
      "\n",
      "[500 rows x 2 columns]\n",
      "                        content_length\n",
      "sector                                \n",
      "Communication Services    29608.956522\n",
      "Consumer Discretionary    18299.524590\n",
      "Consumer Staples          17509.906250\n",
      "Energy                    13186.952381\n",
      "Financials                15256.707692\n",
      "Health Care               10912.984375\n",
      "Industrials               11594.608108\n",
      "Information Technology    17205.945946\n",
      "Materials                  7898.000000\n",
      "Real Estate                3804.206897\n",
      "Utilities                 10593.428571\n"
     ]
    }
   ],
   "metadata": {}
  },
  {
   "cell_type": "markdown",
   "source": [
    "## Part 4: Count how many times `computer` appears in the content for each company\n",
    " - what is the mean number of times it occurs in each sector?\n",
    " - Do these results make sense"
   ],
   "metadata": {}
  },
  {
   "cell_type": "code",
   "execution_count": 21,
   "source": [
    "# your code here\r\n",
    "count_computer = {}\r\n",
    "for company in data:\r\n",
    "    word_list = data[company].lower().split()\r\n",
    "    count_computer[company] = word_list.count('computer')\r\n",
    "count_computer = pd.Series(count_computer, name = 'count_computer')\r\n",
    "print(count_computer.sort_values())\r\n",
    "count_computer = pd.concat([count_computer,companies_sector],axis = 1)\r\n",
    "print(count_computer.groupby('sector').agg({'count_computer':'mean'}).sort_values('count_computer',ascending = False))"
   ],
   "outputs": [
    {
     "output_type": "stream",
     "name": "stdout",
     "text": [
      "3M                           0\n",
      "The Mosaic Company           0\n",
      "Moody's Corporation          0\n",
      "Monster Beverage             0\n",
      "Monolithic Power Systems     0\n",
      "                            ..\n",
      "Texas Instruments            9\n",
      "IBM                         11\n",
      "Apple Inc.                  14\n",
      "Microsoft                   15\n",
      "Intel                       25\n",
      "Name: count_computer, Length: 499, dtype: int64\n",
      "                        count_computer\n",
      "sector                                \n",
      "Information Technology        2.229730\n",
      "Communication Services        0.565217\n",
      "Industrials                   0.418919\n",
      "Consumer Discretionary        0.344262\n",
      "Health Care                   0.218750\n",
      "Energy                        0.190476\n",
      "Financials                    0.138462\n",
      "Consumer Staples              0.062500\n",
      "Utilities                     0.035714\n",
      "Materials                     0.000000\n",
      "Real Estate                   0.000000\n"
     ]
    }
   ],
   "metadata": {}
  },
  {
   "cell_type": "markdown",
   "source": [
    "The result makes sense, IT companies mentions 'computer' much more likely and at much higher magnitutute than others"
   ],
   "metadata": {}
  },
  {
   "cell_type": "markdown",
   "source": [
    "## Part 5: repeat part 4 with lots of words\n",
    " - try `['computer', 'oil', 'debt', 'drug', 'building', 'food']`\n",
    " - add your own words"
   ],
   "metadata": {}
  },
  {
   "cell_type": "code",
   "execution_count": 22,
   "source": [
    "words = ['computer', 'oil', 'debt', 'drug', 'building', 'food', 'service']\r\n",
    "# one way to do this is to make a dataframe of counts,\r\n",
    "# initialize all to 0, and then loop through and count the occurences\r\n",
    "counts = pd.DataFrame(0, index=companies, columns=words)\r\n",
    "for company in companies:\r\n",
    "    try:\r\n",
    "        word_list = data[company].lower().split()\r\n",
    "        for word in words:\r\n",
    "            counts.loc[company,word] = word_list.count(word)\r\n",
    "    except:\r\n",
    "        print(company)\r\n",
    "\r\n",
    "counts = pd.concat([counts,companies_sector],axis = 1)\r\n",
    "# your code here"
   ],
   "outputs": [
    {
     "output_type": "stream",
     "name": "stdout",
     "text": [
      "Pool Corporation (page does not exist)\n"
     ]
    }
   ],
   "metadata": {}
  },
  {
   "cell_type": "code",
   "execution_count": 23,
   "source": [
    "counts.groupby('sector').mean()"
   ],
   "outputs": [
    {
     "output_type": "execute_result",
     "data": {
      "text/html": [
       "<div>\n",
       "<style scoped>\n",
       "    .dataframe tbody tr th:only-of-type {\n",
       "        vertical-align: middle;\n",
       "    }\n",
       "\n",
       "    .dataframe tbody tr th {\n",
       "        vertical-align: top;\n",
       "    }\n",
       "\n",
       "    .dataframe thead th {\n",
       "        text-align: right;\n",
       "    }\n",
       "</style>\n",
       "<table border=\"1\" class=\"dataframe\">\n",
       "  <thead>\n",
       "    <tr style=\"text-align: right;\">\n",
       "      <th></th>\n",
       "      <th>computer</th>\n",
       "      <th>oil</th>\n",
       "      <th>debt</th>\n",
       "      <th>drug</th>\n",
       "      <th>building</th>\n",
       "      <th>food</th>\n",
       "      <th>service</th>\n",
       "    </tr>\n",
       "    <tr>\n",
       "      <th>sector</th>\n",
       "      <th></th>\n",
       "      <th></th>\n",
       "      <th></th>\n",
       "      <th></th>\n",
       "      <th></th>\n",
       "      <th></th>\n",
       "      <th></th>\n",
       "    </tr>\n",
       "  </thead>\n",
       "  <tbody>\n",
       "    <tr>\n",
       "      <th>Communication Services</th>\n",
       "      <td>0.565217</td>\n",
       "      <td>0.043478</td>\n",
       "      <td>0.347826</td>\n",
       "      <td>0.086957</td>\n",
       "      <td>2.130435</td>\n",
       "      <td>0.347826</td>\n",
       "      <td>7.652174</td>\n",
       "    </tr>\n",
       "    <tr>\n",
       "      <th>Consumer Discretionary</th>\n",
       "      <td>0.338710</td>\n",
       "      <td>0.161290</td>\n",
       "      <td>0.225806</td>\n",
       "      <td>0.129032</td>\n",
       "      <td>0.903226</td>\n",
       "      <td>2.048387</td>\n",
       "      <td>1.451613</td>\n",
       "    </tr>\n",
       "    <tr>\n",
       "      <th>Consumer Staples</th>\n",
       "      <td>0.062500</td>\n",
       "      <td>0.562500</td>\n",
       "      <td>0.031250</td>\n",
       "      <td>0.437500</td>\n",
       "      <td>0.406250</td>\n",
       "      <td>6.468750</td>\n",
       "      <td>1.093750</td>\n",
       "    </tr>\n",
       "    <tr>\n",
       "      <th>Energy</th>\n",
       "      <td>0.190476</td>\n",
       "      <td>20.714286</td>\n",
       "      <td>0.095238</td>\n",
       "      <td>0.000000</td>\n",
       "      <td>0.904762</td>\n",
       "      <td>0.095238</td>\n",
       "      <td>1.190476</td>\n",
       "    </tr>\n",
       "    <tr>\n",
       "      <th>Financials</th>\n",
       "      <td>0.138462</td>\n",
       "      <td>0.538462</td>\n",
       "      <td>0.446154</td>\n",
       "      <td>0.061538</td>\n",
       "      <td>1.600000</td>\n",
       "      <td>0.092308</td>\n",
       "      <td>0.830769</td>\n",
       "    </tr>\n",
       "    <tr>\n",
       "      <th>Health Care</th>\n",
       "      <td>0.218750</td>\n",
       "      <td>0.031250</td>\n",
       "      <td>0.062500</td>\n",
       "      <td>3.578125</td>\n",
       "      <td>0.156250</td>\n",
       "      <td>0.781250</td>\n",
       "      <td>0.390625</td>\n",
       "    </tr>\n",
       "    <tr>\n",
       "      <th>Industrials</th>\n",
       "      <td>0.418919</td>\n",
       "      <td>0.472973</td>\n",
       "      <td>0.135135</td>\n",
       "      <td>0.027027</td>\n",
       "      <td>1.000000</td>\n",
       "      <td>0.216216</td>\n",
       "      <td>1.905405</td>\n",
       "    </tr>\n",
       "    <tr>\n",
       "      <th>Information Technology</th>\n",
       "      <td>2.229730</td>\n",
       "      <td>0.148649</td>\n",
       "      <td>0.094595</td>\n",
       "      <td>0.027027</td>\n",
       "      <td>0.594595</td>\n",
       "      <td>0.094595</td>\n",
       "      <td>2.891892</td>\n",
       "    </tr>\n",
       "    <tr>\n",
       "      <th>Materials</th>\n",
       "      <td>0.000000</td>\n",
       "      <td>0.642857</td>\n",
       "      <td>0.071429</td>\n",
       "      <td>0.000000</td>\n",
       "      <td>0.857143</td>\n",
       "      <td>1.285714</td>\n",
       "      <td>0.214286</td>\n",
       "    </tr>\n",
       "    <tr>\n",
       "      <th>Real Estate</th>\n",
       "      <td>0.000000</td>\n",
       "      <td>0.000000</td>\n",
       "      <td>0.206897</td>\n",
       "      <td>0.000000</td>\n",
       "      <td>0.448276</td>\n",
       "      <td>0.034483</td>\n",
       "      <td>0.137931</td>\n",
       "    </tr>\n",
       "    <tr>\n",
       "      <th>Utilities</th>\n",
       "      <td>0.035714</td>\n",
       "      <td>1.250000</td>\n",
       "      <td>0.392857</td>\n",
       "      <td>0.000000</td>\n",
       "      <td>0.964286</td>\n",
       "      <td>0.000000</td>\n",
       "      <td>4.107143</td>\n",
       "    </tr>\n",
       "  </tbody>\n",
       "</table>\n",
       "</div>"
      ],
      "text/plain": [
       "                        computer        oil      debt      drug  building  \\\n",
       "sector                                                                      \n",
       "Communication Services  0.565217   0.043478  0.347826  0.086957  2.130435   \n",
       "Consumer Discretionary  0.338710   0.161290  0.225806  0.129032  0.903226   \n",
       "Consumer Staples        0.062500   0.562500  0.031250  0.437500  0.406250   \n",
       "Energy                  0.190476  20.714286  0.095238  0.000000  0.904762   \n",
       "Financials              0.138462   0.538462  0.446154  0.061538  1.600000   \n",
       "Health Care             0.218750   0.031250  0.062500  3.578125  0.156250   \n",
       "Industrials             0.418919   0.472973  0.135135  0.027027  1.000000   \n",
       "Information Technology  2.229730   0.148649  0.094595  0.027027  0.594595   \n",
       "Materials               0.000000   0.642857  0.071429  0.000000  0.857143   \n",
       "Real Estate             0.000000   0.000000  0.206897  0.000000  0.448276   \n",
       "Utilities               0.035714   1.250000  0.392857  0.000000  0.964286   \n",
       "\n",
       "                            food   service  \n",
       "sector                                      \n",
       "Communication Services  0.347826  7.652174  \n",
       "Consumer Discretionary  2.048387  1.451613  \n",
       "Consumer Staples        6.468750  1.093750  \n",
       "Energy                  0.095238  1.190476  \n",
       "Financials              0.092308  0.830769  \n",
       "Health Care             0.781250  0.390625  \n",
       "Industrials             0.216216  1.905405  \n",
       "Information Technology  0.094595  2.891892  \n",
       "Materials               1.285714  0.214286  \n",
       "Real Estate             0.034483  0.137931  \n",
       "Utilities               0.000000  4.107143  "
      ]
     },
     "metadata": {},
     "execution_count": 23
    }
   ],
   "metadata": {}
  }
 ],
 "metadata": {
  "kernelspec": {
   "name": "python3",
   "display_name": "Python 3.8.3 64-bit (conda)"
  },
  "language_info": {
   "codemirror_mode": {
    "name": "ipython",
    "version": 3
   },
   "file_extension": ".py",
   "mimetype": "text/x-python",
   "name": "python",
   "nbconvert_exporter": "python",
   "pygments_lexer": "ipython3",
   "version": "3.8.3"
  },
  "interpreter": {
   "hash": "b9ed21ce3e79e551a27a11d2551dd0fb060a3f4c5f44a14454b2145fe2b135cb"
  }
 },
 "nbformat": 4,
 "nbformat_minor": 4
}