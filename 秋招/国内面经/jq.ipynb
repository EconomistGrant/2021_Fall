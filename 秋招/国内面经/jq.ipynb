{
 "cells": [
  {
   "cell_type": "markdown",
   "source": [
    "# Q1"
   ],
   "metadata": {}
  },
  {
   "cell_type": "code",
   "execution_count": 49,
   "source": [
    "import numpy as np\r\n",
    "import pandas as pd\r\n",
    "import matplotlib.pyplot as plt\r\n",
    "mdLog = pd.read_csv('mdlog.csv',index_col = 0)\r\n",
    "mdLog"
   ],
   "outputs": [],
   "metadata": {}
  },
  {
   "cell_type": "code",
   "execution_count": 46,
   "source": [
    "mdLog['spread'] = mdLog['ask'] - mdLog['bid']\r\n",
    "mdLog['spread_d'] = mdLog['spread'].diff().apply(lambda x: round(x, 2))\r\n",
    "mdLog['bid_d'] = mdLog['bid'].diff().apply(lambda x: round(x, 2))\r\n",
    "mdLog['ask_d'] = mdLog['ask'].diff().apply(lambda x: round(x, 2))\r\n",
    "\r\n",
    "print((mdLog['spread_d'] > 0).sum())\r\n",
    "print(((mdLog['spread_d'] > 0) & (mdLog['bid_d'] <0) & (mdLog['ask_d'] > 0)).sum())\r\n",
    "print(((mdLog['spread_d'] > 0) & ((mdLog['bid_d'] <0) ^ (mdLog['ask_d'] > 0))).sum())"
   ],
   "outputs": [
    {
     "output_type": "stream",
     "name": "stdout",
     "text": [
      "233\n",
      "1\n",
      "232\n"
     ]
    }
   ],
   "metadata": {}
  },
  {
   "cell_type": "code",
   "execution_count": 54,
   "source": [
    "mdLog['market_size'] = (mdLog['bidsize'] + mdLog['asksize'])/2\r\n",
    "plt.hist(mdLog['market_size'], bins = 50)\r\n",
    "plt.show()"
   ],
   "outputs": [
    {
     "output_type": "display_data",
     "data": {
      "image/png": "[encoded data removed]",
      "text/plain": [
       "<Figure size 432x288 with 1 Axes>"
      ]
     },
     "metadata": {
      "needs_background": "light"
     }
    }
   ],
   "metadata": {}
  },
  {
   "cell_type": "code",
   "execution_count": 60,
   "source": [
    "mdLog['mid_price'] = (mdLog['ask'] + mdLog['bid'])/2\r\n",
    "mdLog['mid_price_d'] = mdLog['mid_price'].diff()\r\n",
    "\r\n",
    "mask = (mdLog['mid_price_d'] != 0) & (mdLog['spread_d'] == 0)\r\n",
    "mdLog_mid_change = mdLog[mask]"
   ],
   "outputs": [],
   "metadata": {}
  },
  {
   "cell_type": "code",
   "execution_count": 65,
   "source": [
    "mdLog_mid_change.loc[:,'aggresive_size'] = mdLog_mid_change.apply(lambda row: row['bidsize'] if row['mid_price_d'] > 0 else row['asksize'], axis = 1)\r\n",
    "mdLog_mid_change.loc[:,'defensive_size'] = mdLog_mid_change.apply(lambda row: row['asksize'] if row['mid_price_d'] > 0 else row['bidsize'], axis = 1)"
   ],
   "outputs": [
    {
     "output_type": "stream",
     "name": "stderr",
     "text": [
      "C:\\Users\\a\\anaconda3\\lib\\site-packages\\pandas\\core\\indexing.py:1773: SettingWithCopyWarning: \n",
      "A value is trying to be set on a copy of a slice from a DataFrame.\n",
      "Try using .loc[row_indexer,col_indexer] = value instead\n",
      "\n",
      "See the caveats in the documentation: https://pandas.pydata.org/pandas-docs/stable/user_guide/indexing.html#returning-a-view-versus-a-copy\n",
      "  self._setitem_single_column(ilocs[0], value, pi)\n"
     ]
    }
   ],
   "metadata": {}
  },
  {
   "cell_type": "code",
   "execution_count": 67,
   "source": [
    "plt.hist(mdLog_mid_change['aggresive_size'])\r\n",
    "plt.show()"
   ],
   "outputs": [
    {
     "output_type": "display_data",
     "data": {
      "image/png": "[encoded data removed]",
      "text/plain": [
       "<Figure size 432x288 with 1 Axes>"
      ]
     },
     "metadata": {
      "needs_background": "light"
     }
    }
   ],
   "metadata": {}
  },
  {
   "cell_type": "code",
   "execution_count": 68,
   "source": [
    "plt.hist(mdLog_mid_change['defensive_size'])\r\n",
    "plt.show()"
   ],
   "outputs": [
    {
     "output_type": "display_data",
     "data": {
      "image/png": "[encoded data removed]",
      "text/plain": [
       "<Figure size 432x288 with 1 Axes>"
      ]
     },
     "metadata": {
      "needs_background": "light"
     }
    }
   ],
   "metadata": {}
  },
  {
   "cell_type": "markdown",
   "source": [
    "# Q3"
   ],
   "metadata": {}
  },
  {
   "cell_type": "code",
   "execution_count": 108,
   "source": [
    "# mdLog['lastprice'].value_counts().index.tolist()\r\n",
    "mdLog['trades'] = mdLog['volume'].diff()\r\n",
    "volume_count = {}\r\n",
    "for idx in range(2,len(mdLog)):\r\n",
    "    cur_price = round(mdLog.loc[idx,'lastprice'],2)\r\n",
    "    last_price = round(mdLog.loc[idx,'lastprice'],2)\r\n",
    "    trades = mdLog.loc[idx,'trades']\r\n",
    "    lo = min(cur_price,last_price)\r\n",
    "    hi = max(cur_price,last_price)\r\n",
    "    num_levels = (hi-lo+0.01)/0.01\r\n",
    "    for price in np.arange(lo,hi+0.01,0.01):\r\n",
    "        price = round(price,2)\r\n",
    "        volume_count[price] = volume_count.get(price,0) + trades / num_levels\r\n",
    "\r\n"
   ],
   "outputs": [],
   "metadata": {}
  },
  {
   "cell_type": "code",
   "execution_count": 110,
   "source": [
    "mdLog['lastprice_d'] = mdLog['lastprice'].diff() \r\n",
    "mdLog['trade_at_last_price'] = mdLog['trades'] / (abs(mdLog['lastprice'].diff()/0.01) + 1) "
   ],
   "outputs": [],
   "metadata": {}
  },
  {
   "cell_type": "markdown",
   "source": [
    "# Q4"
   ],
   "metadata": {}
  },
  {
   "cell_type": "code",
   "execution_count": 133,
   "source": [
    "mdLog['sizeDeltaAtBid'] = mdLog['bidsize'].diff() +  mdLog['trade_at_last_price']\r\n",
    "mdLog.loc[mdLog['bid_d'] != 0,'sizeDeltaAtBid'] = 0\r\n",
    "\r\n",
    "mdLog['sizeDeltaAtAsk'] = mdLog['asksize'].diff() +  mdLog['trade_at_last_price']\r\n",
    "mdLog.loc[mdLog['ask_d'] != 0,'sizeDeltaAtAsk'] = 0"
   ],
   "outputs": [],
   "metadata": {}
  },
  {
   "cell_type": "code",
   "execution_count": 166,
   "source": [
    "((mdLog['sizeDeltaAtBid'] > 0) & (mdLog['mid_price_d'] > 0)).sum()"
   ],
   "outputs": [
    {
     "output_type": "execute_result",
     "data": {
      "text/plain": [
       "102"
      ]
     },
     "metadata": {},
     "execution_count": 166
    }
   ],
   "metadata": {}
  },
  {
   "cell_type": "code",
   "execution_count": 172,
   "source": [
    "num_top_order = 0\r\n",
    "num_entire_BBO = 0\r\n",
    "num_filled_original = 0\r\n",
    "\r\n",
    "for idx in mdLog.index:\r\n",
    "    if mdLog.loc[idx,'mid_price_d'] > 0 and mdLog.loc[idx,'sizeDeltaAtBid'] > 0:\r\n",
    "        num_top_order += 1\r\n",
    "        #aggresive_side = 'bid' \r\n",
    "        order_size = mdLog.loc[idx,'sizeDeltaAtBid']\r\n",
    "        bid_price = mdLog.loc[idx,'bid']\r\n",
    "        original_size = True\r\n",
    "        idx += 1\r\n",
    "        while(mdLog.loc[idx,'bid'] == bid_price and order_size > 0):\r\n",
    "            trades = mdLog.loc[idx,'trade_at_last_price']\r\n",
    "            bid_size = mdLog.loc[idx,'bidsize']\r\n",
    "            if trades < order_size:\r\n",
    "                order_size -= trades\r\n",
    "            else:\r\n",
    "                order_size =0\r\n",
    "                break\r\n",
    "            if bid_size < order_size:\r\n",
    "                order_size = bid_size\r\n",
    "                original_size = False\r\n",
    "            idx+=1\r\n",
    "        if order_size == 0:\r\n",
    "            num_entire_BBO += 1\r\n",
    "        if original_size:\r\n",
    "            num_filled_original +=1\r\n",
    "        \r\n",
    "\r\n",
    "    if mdLog.loc[idx,'mid_price_d'] < 0 and mdLog.loc[idx,'sizeDeltaAtAsk'] > 0:\r\n",
    "        num_top_order += 1\r\n",
    "        order_size = mdLog.loc[idx,'sizeDeltaAtAsk']\r\n",
    "        bid_price = mdLog.loc[idx,'ask']\r\n",
    "        original_size = True\r\n",
    "        idx += 1\r\n",
    "        while(mdLog.loc[idx,'bid'] == bid_price and order_size > 0):\r\n",
    "            trades = mdLog.loc[idx,'trade_at_last_price']\r\n",
    "            ask_size = mdLog.loc[idx,'ask']\r\n",
    "            if trades < order_size:\r\n",
    "                order_size -= trades\r\n",
    "            else:\r\n",
    "                order_size =0\r\n",
    "                break\r\n",
    "            if ask_size < order_size:\r\n",
    "                order_size = ask_size\r\n",
    "                original_size = False\r\n",
    "            idx+=1\r\n",
    "        if order_size == 0:\r\n",
    "            num_entire_BBO += 1\r\n",
    "        if original_size:\r\n",
    "            num_filled_original +=1\r\n",
    "        \r\n",
    "    "
   ],
   "outputs": [],
   "metadata": {}
  },
  {
   "cell_type": "code",
   "execution_count": 175,
   "source": [
    "print(num_top_order)\r\n",
    "print(num_entire_BBO)\r\n",
    "print(num_filled_original)"
   ],
   "outputs": [
    {
     "output_type": "stream",
     "name": "stdout",
     "text": [
      "196\n",
      "30\n",
      "194\n"
     ]
    }
   ],
   "metadata": {}
  }
 ],
 "metadata": {
  "orig_nbformat": 4,
  "language_info": {
   "name": "python",
   "version": "3.8.3",
   "mimetype": "text/x-python",
   "codemirror_mode": {
    "name": "ipython",
    "version": 3
   },
   "pygments_lexer": "ipython3",
   "nbconvert_exporter": "python",
   "file_extension": ".py"
  },
  "kernelspec": {
   "name": "python3",
   "display_name": "Python 3.8.3 64-bit (conda)"
  },
  "interpreter": {
   "hash": "b9ed21ce3e79e551a27a11d2551dd0fb060a3f4c5f44a14454b2145fe2b135cb"
  }
 },
 "nbformat": 4,
 "nbformat_minor": 2
}