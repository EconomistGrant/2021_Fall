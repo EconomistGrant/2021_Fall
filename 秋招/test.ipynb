{
 "cells": [
  {
   "cell_type": "code",
   "execution_count": 3,
   "source": [
    "class Foo:\r\n",
    "    def __init__(self, x):\r\n",
    "        self.x = x"
   ],
   "outputs": [],
   "metadata": {}
  },
  {
   "cell_type": "code",
   "execution_count": 6,
   "source": [
    "foo = Foo(2)\r\n",
    "fooo = Foo(3)\r\n",
    "\r\n",
    "test_set = set()\r\n",
    "test_set.add(foo)\r\n",
    "test_set.add(fooo)"
   ],
   "outputs": [],
   "metadata": {}
  },
  {
   "cell_type": "code",
   "execution_count": 22,
   "source": [
    "arr = [1,2,2,3,3,4,4,4,4,4,4,8,9,10]\r\n",
    "target = 3\r\n",
    "l = 0\r\n",
    "r = len(arr)-1\r\n",
    "while (r - l >1):\r\n",
    "    mid = int((l+r)/2)\r\n",
    "    if arr[mid] >= target:\r\n",
    "        r = mid\r\n",
    "    else:\r\n",
    "        l = mid\r\n",
    "    print('---')\r\n",
    "    print(l)\r\n",
    "    print(r)"
   ],
   "outputs": [
    {
     "output_type": "stream",
     "name": "stdout",
     "text": [
      "---\n",
      "0\n",
      "6\n",
      "---\n",
      "0\n",
      "3\n",
      "---\n",
      "1\n",
      "3\n",
      "---\n",
      "2\n",
      "3\n"
     ]
    }
   ],
   "metadata": {}
  },
  {
   "cell_type": "code",
   "execution_count": 26,
   "source": [
    "import random\r\n",
    "random.shuffle(arr)\r\n",
    "arr"
   ],
   "outputs": [
    {
     "output_type": "execute_result",
     "data": {
      "text/plain": [
       "[9, 2, 4, 8, 4, 10, 4, 1, 4, 4, 4, 3, 3, 2]"
      ]
     },
     "metadata": {},
     "execution_count": 26
    }
   ],
   "metadata": {}
  }
 ],
 "metadata": {
  "orig_nbformat": 4,
  "language_info": {
   "name": "python",
   "version": "3.8.3",
   "mimetype": "text/x-python",
   "codemirror_mode": {
    "name": "ipython",
    "version": 3
   },
   "pygments_lexer": "ipython3",
   "nbconvert_exporter": "python",
   "file_extension": ".py"
  },
  "kernelspec": {
   "name": "python3",
   "display_name": "Python 3.8.3 64-bit (conda)"
  },
  "interpreter": {
   "hash": "b9ed21ce3e79e551a27a11d2551dd0fb060a3f4c5f44a14454b2145fe2b135cb"
  }
 },
 "nbformat": 4,
 "nbformat_minor": 2
}