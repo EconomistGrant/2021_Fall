{
 "cells": [
  {
   "cell_type": "markdown",
   "metadata": {},
   "source": [
    "# Homework Problem 0: Making sure you're set up with python\n",
    "### You will need to be able to run all of these cells without error"
   ]
  },
  {
   "cell_type": "code",
   "execution_count": 1,
   "metadata": {},
   "outputs": [
    {
     "ename": "ModuleNotFoundError",
     "evalue": "No module named 'pandas'",
     "output_type": "error",
     "traceback": [
      "\u001b[0;31m---------------------------------------------------------------------------\u001b[0m",
      "\u001b[0;31mModuleNotFoundError\u001b[0m                       Traceback (most recent call last)",
      "\u001b[0;32m<ipython-input-1-c9f2e56002b5>\u001b[0m in \u001b[0;36m<module>\u001b[0;34m\u001b[0m\n\u001b[1;32m      1\u001b[0m \u001b[0;32mimport\u001b[0m \u001b[0mnumpy\u001b[0m \u001b[0;32mas\u001b[0m \u001b[0mnp\u001b[0m\u001b[0;34m\u001b[0m\u001b[0;34m\u001b[0m\u001b[0m\n\u001b[0;32m----> 2\u001b[0;31m \u001b[0;32mimport\u001b[0m \u001b[0mpandas\u001b[0m \u001b[0;32mas\u001b[0m \u001b[0mpd\u001b[0m\u001b[0;34m\u001b[0m\u001b[0;34m\u001b[0m\u001b[0m\n\u001b[0m\u001b[1;32m      3\u001b[0m \u001b[0mget_ipython\u001b[0m\u001b[0;34m(\u001b[0m\u001b[0;34m)\u001b[0m\u001b[0;34m.\u001b[0m\u001b[0mrun_line_magic\u001b[0m\u001b[0;34m(\u001b[0m\u001b[0;34m'pylab'\u001b[0m\u001b[0;34m,\u001b[0m \u001b[0;34m'inline'\u001b[0m\u001b[0;34m)\u001b[0m\u001b[0;34m\u001b[0m\u001b[0;34m\u001b[0m\u001b[0m\n",
      "\u001b[0;31mModuleNotFoundError\u001b[0m: No module named 'pandas'"
     ]
    }
   ],
   "source": [
    "import numpy as np\n",
    "import pandas as pd \n",
    "%pylab inline"
   ]
  },
  {
   "cell_type": "code",
   "execution_count": null,
   "metadata": {},
   "outputs": [
    {
     "name": "stdout",
     "output_type": "stream",
     "text": [
      "Collecting pandas\n",
      "  Downloading pandas-1.3.3.tar.gz (4.7 MB)\n",
      "\u001b[K     |████████████████████████████████| 4.7 MB 252 kB/s eta 0:00:01\n",
      "\u001b[?25h  Installing build dependencies ... \u001b[?25ldone\n",
      "\u001b[?25h  Getting requirements to build wheel ... \u001b[?25ldone\n",
      "\u001b[?25h    Preparing wheel metadata ... \u001b[?25ldone\n",
      "\u001b[?25hRequirement already satisfied: python-dateutil>=2.7.3 in /Users/grant/miniforge3/envs/tf_env/lib/python3.8/site-packages (from pandas) (2.8.2)\n",
      "Requirement already satisfied: numpy>=1.17.3 in /Users/grant/miniforge3/envs/tf_env/lib/python3.8/site-packages (from pandas) (1.18.5)\n",
      "Collecting pytz>=2017.3\n",
      "  Using cached pytz-2021.1-py2.py3-none-any.whl (510 kB)\n",
      "Requirement already satisfied: six>=1.5 in /Users/grant/miniforge3/envs/tf_env/lib/python3.8/site-packages (from python-dateutil>=2.7.3->pandas) (1.16.0)\n",
      "Building wheels for collected packages: pandas\n",
      "  Building wheel for pandas (PEP 517) ... \u001b[?25l|"
     ]
    }
   ],
   "source": [
    "!pip install pandas"
   ]
  },
  {
   "cell_type": "code",
   "execution_count": 2,
   "metadata": {},
   "outputs": [
    {
     "name": "stdout",
     "output_type": "stream",
     "text": [
      "2.4.0-rc0\n"
     ]
    }
   ],
   "source": [
    "import tensorflow as tf\n",
    "print(tf.__version__)"
   ]
  },
  {
   "cell_type": "code",
   "execution_count": 2,
   "metadata": {},
   "outputs": [
    {
     "name": "stderr",
     "output_type": "stream",
     "text": [
      "100%|██████████| 3/3 [00:00<00:00, 7092.96it/s]"
     ]
    },
    {
     "name": "stdout",
     "output_type": "stream",
     "text": [
      "look at the pretty progress bar\n",
      "look at the pretty progress bar\n",
      "look at the pretty progress bar\n"
     ]
    },
    {
     "name": "stderr",
     "output_type": "stream",
     "text": [
      "\n"
     ]
    }
   ],
   "source": [
    "import tqdm\n",
    "\n",
    "\n",
    "for i in tqdm.tqdm(range(3)):\n",
    "    print(\"look at the pretty progress bar\")\n"
   ]
  },
  {
   "cell_type": "code",
   "execution_count": 3,
   "metadata": {},
   "outputs": [
    {
     "data": {
      "text/plain": [
       "array([135, 145, 155])"
      ]
     },
     "execution_count": 3,
     "metadata": {},
     "output_type": "execute_result"
    }
   ],
   "source": [
    "# make sure numpy works\n",
    "arr = np.arange(30).reshape(10, 3)\n",
    "arr.sum(axis=0)"
   ]
  },
  {
   "cell_type": "code",
   "execution_count": 4,
   "metadata": {},
   "outputs": [
    {
     "data": {
      "text/plain": [
       "<AxesSubplot:>"
      ]
     },
     "execution_count": 4,
     "metadata": {},
     "output_type": "execute_result"
    },
    {
     "data": {
      "image/png": "[encoded data removed]",
      "text/plain": [
       "<Figure size 432x288 with 1 Axes>"
      ]
     },
     "metadata": {
      "needs_background": "light"
     },
     "output_type": "display_data"
    }
   ],
   "source": [
    "# make sure pandas works\n",
    "pd.Series(range(10), index=list(\"abcdefghij\")).plot()"
   ]
  },
  {
   "cell_type": "code",
   "execution_count": 5,
   "metadata": {},
   "outputs": [
    {
     "data": {
      "text/plain": [
       "array([1., 1., 1., 1., 1., 1., 1., 1., 1., 1.])"
      ]
     },
     "execution_count": 5,
     "metadata": {},
     "output_type": "execute_result"
    }
   ],
   "source": [
    "# make sure scikit learn works\n",
    "from sklearn.preprocessing import normalize\n",
    "\n",
    "arr = np.arange(30).reshape(10, 3)\n",
    "new_arr = normalize(arr)\n",
    "(new_arr * new_arr).sum(axis=1)"
   ]
  },
  {
   "cell_type": "code",
   "execution_count": 6,
   "metadata": {},
   "outputs": [],
   "source": [
    "from tensorflow.keras.utils import to_categorical\n",
    "\n",
    "arr = np.array([[1, 2, 1, 0, 5], [3, 4, 1, 0, 5]])\n",
    "assert to_categorical(arr).shape == (2, 5, 6)"
   ]
  },
  {
   "cell_type": "code",
   "execution_count": null,
   "metadata": {},
   "outputs": [],
   "source": [
    "from tensorflow.keras.layers import Input, Dense\n",
    "from tensorflow.keras.models import Model\n",
    "import tensorflow.keras.backend as K\n",
    "import tensorflow as tf\n",
    "\n",
    "K.clear_session()\n",
    "inpt = Input(shape=(10,))\n",
    "mat = Dense(1, input_shape=(10,))\n",
    "\n",
    "res = mat(K.variable(np.ones((10, 1))))\n",
    "\n",
    "if tf.__version__.startswith(\"1\"):\n",
    "    print(\n",
    "        f\"you have tensorflow version {tf.__version__}.\"\n",
    "        \"Your code may not be compatible with everything we do in class\"\n",
    "    )\n",
    "    result = K.eval(res)\n",
    "else:\n",
    "    result = res.numpy()\n",
    "    assert (result == K.eval(res)).all()\n",
    "\n",
    "print(result)"
   ]
  },
  {
   "cell_type": "code",
   "execution_count": 1,
   "metadata": {},
   "outputs": [
    {
     "ename": "NameError",
     "evalue": "name 'K' is not defined",
     "output_type": "error",
     "traceback": [
      "\u001b[0;31m---------------------------------------------------------------------------\u001b[0m",
      "\u001b[0;31mNameError\u001b[0m                                 Traceback (most recent call last)",
      "\u001b[0;32m<ipython-input-1-2429e1e5be9d>\u001b[0m in \u001b[0;36m<module>\u001b[0;34m\u001b[0m\n\u001b[0;32m----> 1\u001b[0;31m \u001b[0mK\u001b[0m\u001b[0;34m.\u001b[0m\u001b[0mclear_session\u001b[0m\u001b[0;34m(\u001b[0m\u001b[0;34m)\u001b[0m\u001b[0;34m\u001b[0m\u001b[0;34m\u001b[0m\u001b[0m\n\u001b[0m\u001b[1;32m      2\u001b[0m \u001b[0minpt\u001b[0m \u001b[0;34m=\u001b[0m \u001b[0mInput\u001b[0m\u001b[0;34m(\u001b[0m\u001b[0mshape\u001b[0m\u001b[0;34m=\u001b[0m\u001b[0;34m(\u001b[0m\u001b[0;36m10\u001b[0m\u001b[0;34m,\u001b[0m\u001b[0;34m)\u001b[0m\u001b[0;34m)\u001b[0m\u001b[0;34m\u001b[0m\u001b[0;34m\u001b[0m\u001b[0m\n\u001b[1;32m      3\u001b[0m \u001b[0mmat\u001b[0m \u001b[0;34m=\u001b[0m \u001b[0mDense\u001b[0m\u001b[0;34m(\u001b[0m\u001b[0;36m1\u001b[0m\u001b[0;34m,\u001b[0m \u001b[0minput_shape\u001b[0m\u001b[0;34m=\u001b[0m\u001b[0;34m(\u001b[0m\u001b[0;36m10\u001b[0m\u001b[0;34m,\u001b[0m\u001b[0;34m)\u001b[0m\u001b[0;34m)\u001b[0m\u001b[0;34m\u001b[0m\u001b[0;34m\u001b[0m\u001b[0m\n\u001b[1;32m      4\u001b[0m \u001b[0moutpt\u001b[0m \u001b[0;34m=\u001b[0m \u001b[0mmat\u001b[0m\u001b[0;34m(\u001b[0m\u001b[0minpt\u001b[0m\u001b[0;34m)\u001b[0m\u001b[0;34m\u001b[0m\u001b[0;34m\u001b[0m\u001b[0m\n\u001b[1;32m      5\u001b[0m \u001b[0;34m\u001b[0m\u001b[0m\n",
      "\u001b[0;31mNameError\u001b[0m: name 'K' is not defined"
     ]
    }
   ],
   "source": [
    "K.clear_session()\n",
    "inpt = Input(shape=(10,))\n",
    "mat = Dense(1, input_shape=(10,))\n",
    "outpt = mat(inpt)\n",
    "\n",
    "model = Model(inpt, outpt)\n",
    "model.compile(\"adam\", loss=\"binary_crossentropy\")\n",
    "assert model.count_params() == 11\n",
    "model.summary()\n"
   ]
  },
  {
   "cell_type": "code",
   "execution_count": null,
   "metadata": {},
   "outputs": [],
   "source": []
  },
  {
   "cell_type": "markdown",
   "metadata": {},
   "source": [
    "# Homework Problem 1: Company Descriptions from Wikipedia\n",
    "Downloading data from the web is a large part of working with text.\n",
    "Importantly, it can be difficult to find the __right__ data. \n",
    "Here, we will download the company descriptions from wikipedia for the current set of S&P500 companies. \n",
    "\n",
    "## The `wikipedia` package\n",
    "You can install it with `pip install wikipedia`\n",
    "\n",
    "We will use `wikipeda.page` to grab data\n",
    "```python\n",
    "import wikipedia\n",
    "\n",
    "page = wikipedia.page(page_url)\n",
    "print(page.content)\n",
    "```"
   ]
  },
  {
   "cell_type": "code",
   "execution_count": null,
   "metadata": {},
   "outputs": [
    {
     "name": "stdout",
     "output_type": "stream",
     "text": [
      "Populating the interactive namespace from numpy and matplotlib\n"
     ]
    },
    {
     "name": "stderr",
     "output_type": "stream",
     "text": [
      "C:\\Users\\a\\anaconda3\\lib\\site-packages\\IPython\\core\\magics\\pylab.py:159: UserWarning: pylab import has clobbered these variables: ['mat']\n",
      "`%matplotlib` prevents importing * from pylab and numpy\n",
      "  warn(\"pylab import has clobbered these variables: %s\"  % clobbered +\n"
     ]
    }
   ],
   "source": [
    "import numpy as np\n",
    "import pandas as pd\n",
    "%pylab inline\n",
    "\n",
    "from tqdm import tqdm\n",
    "import wikipedia\n",
    "from time import sleep"
   ]
  },
  {
   "cell_type": "markdown",
   "metadata": {},
   "source": [
    "## Part 0: get the list of the S&P500 companies\n",
    "### Hint, a `wikipedia` page has a method `html()` which returns the html from the page\n",
    "### pandas has `read_html` https://pandas.pydata.org/pandas-docs/version/0.23.4/generated/pandas.read_html.html"
   ]
  },
  {
   "cell_type": "code",
   "execution_count": null,
   "metadata": {},
   "outputs": [],
   "source": [
    "sp500_url = 'List_of_S%26P_500_companies'\n",
    "# your code here"
   ]
  },
  {
   "cell_type": "code",
   "execution_count": null,
   "metadata": {},
   "outputs": [],
   "source": [
    "import requests\n",
    "from bs4 import BeautifulSoup\n",
    "\n",
    "r = requests.get('https://en.wikipedia.org/wiki/List_of_S%26P_500_companies') \n",
    "soup = BeautifulSoup(r.content)\n",
    "table = soup.findAll(name = \"table\")[0]"
   ]
  },
  {
   "cell_type": "code",
   "execution_count": null,
   "metadata": {},
   "outputs": [],
   "source": [
    "entries_raw_data = table.tbody.findAll('tr')\n",
    "companies_wiki_url = {}\n",
    "companies_sector = {}\n",
    "companies_sub_industry = {}\n",
    "for idx in range(1,len(entries_raw_data)):\n",
    "    entry = entries_raw_data[idx]\n",
    "    company = entry.findAll('td')[1].a['title']\n",
    "    GICS_sector = entry.findAll('td')[3].text.replace(\"\\n\", \"\")\n",
    "    GICS_sub_industry = entry.findAll('td')[4].text.replace(\"\\n\", \"\")\n",
    "    url = entry.findAll('td')[1].a['href']\n",
    "    if companies_wiki_url.get(company,0) != 0:\n",
    "        assert companies_wiki_url[company] == url\n",
    "    companies_wiki_url[company] = url\n",
    "    companies_sector[company] = GICS_sector\n",
    "    companies_sub_industry[company] = GICS_sub_industry\n",
    "\n",
    "companies = [i for i in companies_wiki_url]"
   ]
  },
  {
   "cell_type": "markdown",
   "metadata": {},
   "source": [
    "## Part 2: For every S&P500 company, get the page content"
   ]
  },
  {
   "cell_type": "code",
   "execution_count": null,
   "metadata": {},
   "outputs": [
    {
     "name": "stdout",
     "output_type": "stream",
     "text": [
      "error in finding company page: Pool Corporation (page does not exist)\n",
      "found 499 results\n"
     ]
    }
   ],
   "source": [
    "import json\n",
    "# your code here. We suggest that you save your results\n",
    "# to a json file so that you don't need to re-scrape\n",
    "id_map = {}\n",
    "data = {}\n",
    "for company in companies:\n",
    "    url = \"https://en.wikipedia.org/\" + companies_wiki_url[company]\n",
    "    company_soup = BeautifulSoup(requests.get(url).content)\n",
    "    info_url = \"https://en.wikipedia.org/\" + company_soup.findAll(title= \"More information about this page\")[0]['href']\n",
    "    info_soup = BeautifulSoup(requests.get(info_url).content)\n",
    "    _id = info_soup.findAll(id = 'mw-pageinfo-article-id')[0].text[7:]\n",
    "    id_map[company] = _id\n",
    "    try:\n",
    "        data[company] = wikipedia.page(pageid=_id).content\n",
    "    except:\n",
    "        print(\"error in finding company page: \" + company)\n",
    "print(\"found {} results\".format(len(data)))"
   ]
  },
  {
   "cell_type": "code",
   "execution_count": null,
   "metadata": {},
   "outputs": [],
   "source": [
    "j_data = json.dumps(data)\n",
    "file_obj = open('data.json','w')\n",
    "file_obj.write(j_data)\n",
    "file_obj.close()"
   ]
  },
  {
   "cell_type": "markdown",
   "metadata": {},
   "source": [
    "## Part 3: Content length\n",
    " - For every page, compute the length of the text (how many characters)\n",
    " - What is the mean length(number of characters) for each gics sector. "
   ]
  },
  {
   "cell_type": "code",
   "execution_count": null,
   "metadata": {},
   "outputs": [
    {
     "name": "stdout",
     "output_type": "stream",
     "text": [
      "                                        content_length                  sector\n",
      "3M                                             17762.0             Industrials\n",
      "Abbott Laboratories                            17830.0             Health Care\n",
      "AbbVie                                          7624.0             Health Care\n",
      "Abiomed                                         5918.0             Health Care\n",
      "Accenture                                      11950.0  Information Technology\n",
      "...                                                ...                     ...\n",
      "Zebra Technologies                              3684.0  Information Technology\n",
      "Zimmer Biomet                                   3663.0             Health Care\n",
      "Zions Bancorporation                            5671.0              Financials\n",
      "Zoetis                                          4978.0             Health Care\n",
      "Pool Corporation (page does not exist)             NaN  Consumer Discretionary\n",
      "\n",
      "[500 rows x 2 columns]\n",
      "                        content_length\n",
      "sector                                \n",
      "Communication Services    29608.956522\n",
      "Consumer Discretionary    18299.524590\n",
      "Consumer Staples          17509.906250\n",
      "Energy                    13186.952381\n",
      "Financials                15256.707692\n",
      "Health Care               10912.984375\n",
      "Industrials               11594.608108\n",
      "Information Technology    17205.945946\n",
      "Materials                  7898.000000\n",
      "Real Estate                3804.206897\n",
      "Utilities                 10593.428571\n"
     ]
    }
   ],
   "source": [
    "companies_sector = pd.Series(companies_sector, name = 'sector')\n",
    "content_length = {}\n",
    "for company in data:\n",
    "    content_length[company] = len(data[company])\n",
    "content_length = pd.Series(content_length, name = 'content_length')\n",
    "content_length = pd.concat([content_length,companies_sector],axis = 1)\n",
    "print(content_length)\n",
    "print(content_length.groupby('sector').agg({'content_length':'mean'}))"
   ]
  },
  {
   "cell_type": "markdown",
   "metadata": {},
   "source": [
    "## Part 4: Count how many times `computer` appears in the content for each company\n",
    " - what is the mean number of times it occurs in each sector?\n",
    " - Do these results make sense"
   ]
  },
  {
   "cell_type": "code",
   "execution_count": null,
   "metadata": {},
   "outputs": [
    {
     "name": "stdout",
     "output_type": "stream",
     "text": [
      "3M                           0\n",
      "The Mosaic Company           0\n",
      "Moody's Corporation          0\n",
      "Monster Beverage             0\n",
      "Monolithic Power Systems     0\n",
      "                            ..\n",
      "Texas Instruments            9\n",
      "IBM                         11\n",
      "Apple Inc.                  14\n",
      "Microsoft                   15\n",
      "Intel                       25\n",
      "Name: count_computer, Length: 499, dtype: int64\n",
      "                        count_computer\n",
      "sector                                \n",
      "Information Technology        2.229730\n",
      "Communication Services        0.565217\n",
      "Industrials                   0.418919\n",
      "Consumer Discretionary        0.344262\n",
      "Health Care                   0.218750\n",
      "Energy                        0.190476\n",
      "Financials                    0.138462\n",
      "Consumer Staples              0.062500\n",
      "Utilities                     0.035714\n",
      "Materials                     0.000000\n",
      "Real Estate                   0.000000\n"
     ]
    }
   ],
   "source": [
    "# your code here\n",
    "count_computer = {}\n",
    "for company in data:\n",
    "    word_list = data[company].lower().split()\n",
    "    count_computer[company] = word_list.count('computer')\n",
    "count_computer = pd.Series(count_computer, name = 'count_computer')\n",
    "print(count_computer.sort_values())\n",
    "count_computer = pd.concat([count_computer,companies_sector],axis = 1)\n",
    "print(count_computer.groupby('sector').agg({'count_computer':'mean'}).sort_values('count_computer',ascending = False))"
   ]
  },
  {
   "cell_type": "markdown",
   "metadata": {},
   "source": [
    "The result makes sense, IT companies mentions 'computer' much more likely and at much higher magnitutute than others"
   ]
  },
  {
   "cell_type": "markdown",
   "metadata": {},
   "source": [
    "## Part 5: repeat part 4 with lots of words\n",
    " - try `['computer', 'oil', 'debt', 'drug', 'building', 'food']`\n",
    " - add your own words"
   ]
  },
  {
   "cell_type": "code",
   "execution_count": null,
   "metadata": {},
   "outputs": [
    {
     "name": "stdout",
     "output_type": "stream",
     "text": [
      "Pool Corporation (page does not exist)\n"
     ]
    }
   ],
   "source": [
    "words = ['computer', 'oil', 'debt', 'drug', 'building', 'food', 'service']\n",
    "# one way to do this is to make a dataframe of counts,\n",
    "# initialize all to 0, and then loop through and count the occurences\n",
    "counts = pd.DataFrame(0, index=companies, columns=words)\n",
    "for company in companies:\n",
    "    try:\n",
    "        word_list = data[company].lower().split()\n",
    "        for word in words:\n",
    "            counts.loc[company,word] = word_list.count(word)\n",
    "    except:\n",
    "        print(company)\n",
    "\n",
    "counts = pd.concat([counts,companies_sector],axis = 1)\n",
    "# your code here"
   ]
  },
  {
   "cell_type": "code",
   "execution_count": null,
   "metadata": {},
   "outputs": [
    {
     "data": {
      "text/html": [
       "<div>\n",
       "<style scoped>\n",
       "    .dataframe tbody tr th:only-of-type {\n",
       "        vertical-align: middle;\n",
       "    }\n",
       "\n",
       "    .dataframe tbody tr th {\n",
       "        vertical-align: top;\n",
       "    }\n",
       "\n",
       "    .dataframe thead th {\n",
       "        text-align: right;\n",
       "    }\n",
       "</style>\n",
       "<table border=\"1\" class=\"dataframe\">\n",
       "  <thead>\n",
       "    <tr style=\"text-align: right;\">\n",
       "      <th></th>\n",
       "      <th>computer</th>\n",
       "      <th>oil</th>\n",
       "      <th>debt</th>\n",
       "      <th>drug</th>\n",
       "      <th>building</th>\n",
       "      <th>food</th>\n",
       "      <th>service</th>\n",
       "    </tr>\n",
       "    <tr>\n",
       "      <th>sector</th>\n",
       "      <th></th>\n",
       "      <th></th>\n",
       "      <th></th>\n",
       "      <th></th>\n",
       "      <th></th>\n",
       "      <th></th>\n",
       "      <th></th>\n",
       "    </tr>\n",
       "  </thead>\n",
       "  <tbody>\n",
       "    <tr>\n",
       "      <th>Communication Services</th>\n",
       "      <td>0.565217</td>\n",
       "      <td>0.043478</td>\n",
       "      <td>0.347826</td>\n",
       "      <td>0.086957</td>\n",
       "      <td>2.130435</td>\n",
       "      <td>0.347826</td>\n",
       "      <td>7.652174</td>\n",
       "    </tr>\n",
       "    <tr>\n",
       "      <th>Consumer Discretionary</th>\n",
       "      <td>0.338710</td>\n",
       "      <td>0.161290</td>\n",
       "      <td>0.225806</td>\n",
       "      <td>0.129032</td>\n",
       "      <td>0.903226</td>\n",
       "      <td>2.048387</td>\n",
       "      <td>1.451613</td>\n",
       "    </tr>\n",
       "    <tr>\n",
       "      <th>Consumer Staples</th>\n",
       "      <td>0.062500</td>\n",
       "      <td>0.562500</td>\n",
       "      <td>0.031250</td>\n",
       "      <td>0.437500</td>\n",
       "      <td>0.406250</td>\n",
       "      <td>6.468750</td>\n",
       "      <td>1.093750</td>\n",
       "    </tr>\n",
       "    <tr>\n",
       "      <th>Energy</th>\n",
       "      <td>0.190476</td>\n",
       "      <td>20.714286</td>\n",
       "      <td>0.095238</td>\n",
       "      <td>0.000000</td>\n",
       "      <td>0.904762</td>\n",
       "      <td>0.095238</td>\n",
       "      <td>1.190476</td>\n",
       "    </tr>\n",
       "    <tr>\n",
       "      <th>Financials</th>\n",
       "      <td>0.138462</td>\n",
       "      <td>0.538462</td>\n",
       "      <td>0.446154</td>\n",
       "      <td>0.061538</td>\n",
       "      <td>1.600000</td>\n",
       "      <td>0.092308</td>\n",
       "      <td>0.830769</td>\n",
       "    </tr>\n",
       "    <tr>\n",
       "      <th>Health Care</th>\n",
       "      <td>0.218750</td>\n",
       "      <td>0.031250</td>\n",
       "      <td>0.062500</td>\n",
       "      <td>3.578125</td>\n",
       "      <td>0.156250</td>\n",
       "      <td>0.781250</td>\n",
       "      <td>0.390625</td>\n",
       "    </tr>\n",
       "    <tr>\n",
       "      <th>Industrials</th>\n",
       "      <td>0.418919</td>\n",
       "      <td>0.472973</td>\n",
       "      <td>0.135135</td>\n",
       "      <td>0.027027</td>\n",
       "      <td>1.000000</td>\n",
       "      <td>0.216216</td>\n",
       "      <td>1.905405</td>\n",
       "    </tr>\n",
       "    <tr>\n",
       "      <th>Information Technology</th>\n",
       "      <td>2.229730</td>\n",
       "      <td>0.148649</td>\n",
       "      <td>0.094595</td>\n",
       "      <td>0.027027</td>\n",
       "      <td>0.594595</td>\n",
       "      <td>0.094595</td>\n",
       "      <td>2.891892</td>\n",
       "    </tr>\n",
       "    <tr>\n",
       "      <th>Materials</th>\n",
       "      <td>0.000000</td>\n",
       "      <td>0.642857</td>\n",
       "      <td>0.071429</td>\n",
       "      <td>0.000000</td>\n",
       "      <td>0.857143</td>\n",
       "      <td>1.285714</td>\n",
       "      <td>0.214286</td>\n",
       "    </tr>\n",
       "    <tr>\n",
       "      <th>Real Estate</th>\n",
       "      <td>0.000000</td>\n",
       "      <td>0.000000</td>\n",
       "      <td>0.206897</td>\n",
       "      <td>0.000000</td>\n",
       "      <td>0.448276</td>\n",
       "      <td>0.034483</td>\n",
       "      <td>0.137931</td>\n",
       "    </tr>\n",
       "    <tr>\n",
       "      <th>Utilities</th>\n",
       "      <td>0.035714</td>\n",
       "      <td>1.250000</td>\n",
       "      <td>0.392857</td>\n",
       "      <td>0.000000</td>\n",
       "      <td>0.964286</td>\n",
       "      <td>0.000000</td>\n",
       "      <td>4.107143</td>\n",
       "    </tr>\n",
       "  </tbody>\n",
       "</table>\n",
       "</div>"
      ],
      "text/plain": [
       "                        computer        oil      debt      drug  building  \\\n",
       "sector                                                                      \n",
       "Communication Services  0.565217   0.043478  0.347826  0.086957  2.130435   \n",
       "Consumer Discretionary  0.338710   0.161290  0.225806  0.129032  0.903226   \n",
       "Consumer Staples        0.062500   0.562500  0.031250  0.437500  0.406250   \n",
       "Energy                  0.190476  20.714286  0.095238  0.000000  0.904762   \n",
       "Financials              0.138462   0.538462  0.446154  0.061538  1.600000   \n",
       "Health Care             0.218750   0.031250  0.062500  3.578125  0.156250   \n",
       "Industrials             0.418919   0.472973  0.135135  0.027027  1.000000   \n",
       "Information Technology  2.229730   0.148649  0.094595  0.027027  0.594595   \n",
       "Materials               0.000000   0.642857  0.071429  0.000000  0.857143   \n",
       "Real Estate             0.000000   0.000000  0.206897  0.000000  0.448276   \n",
       "Utilities               0.035714   1.250000  0.392857  0.000000  0.964286   \n",
       "\n",
       "                            food   service  \n",
       "sector                                      \n",
       "Communication Services  0.347826  7.652174  \n",
       "Consumer Discretionary  2.048387  1.451613  \n",
       "Consumer Staples        6.468750  1.093750  \n",
       "Energy                  0.095238  1.190476  \n",
       "Financials              0.092308  0.830769  \n",
       "Health Care             0.781250  0.390625  \n",
       "Industrials             0.216216  1.905405  \n",
       "Information Technology  0.094595  2.891892  \n",
       "Materials               1.285714  0.214286  \n",
       "Real Estate             0.034483  0.137931  \n",
       "Utilities               0.000000  4.107143  "
      ]
     },
     "execution_count": 23,
     "metadata": {},
     "output_type": "execute_result"
    }
   ],
   "source": [
    "counts.groupby('sector').mean()"
   ]
  }
 ],
 "metadata": {
  "interpreter": {
   "hash": "e18849564f5d0ee5dc02e43011085d32079fa2a259c11a7db9cce7c472fe4d6c"
  },
  "kernelspec": {
   "display_name": "Python 3",
   "language": "python",
   "name": "python3"
  },
  "language_info": {
   "codemirror_mode": {
    "name": "ipython",
    "version": 3
   },
   "file_extension": ".py",
   "mimetype": "text/x-python",
   "name": "python",
   "nbconvert_exporter": "python",
   "pygments_lexer": "ipython3",
   "version": "3.8.11"
  }
 },
 "nbformat": 4,
 "nbformat_minor": 4
}
